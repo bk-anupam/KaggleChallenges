{
  "metadata": {
    "kernelspec": {
      "language": "python",
      "display_name": "Python 3",
      "name": "python3"
    },
    "language_info": {
      "name": "python",
      "version": "3.7.12",
      "mimetype": "text/x-python",
      "codemirror_mode": {
        "name": "ipython",
        "version": 3
      },
      "pygments_lexer": "ipython3",
      "nbconvert_exporter": "python",
      "file_extension": ".py"
    },
    "colab": {
      "name": "pog-musicclf-inference.ipynb",
      "provenance": [],
      "collapsed_sections": []
    },
    "accelerator": "GPU",
    "widgets": {
      "application/vnd.jupyter.widget-state+json": {
        "387fd100145048d3992317d0032957ab": {
          "model_module": "@jupyter-widgets/controls",
          "model_name": "HBoxModel",
          "model_module_version": "1.5.0",
          "state": {
            "_dom_classes": [],
            "_model_module": "@jupyter-widgets/controls",
            "_model_module_version": "1.5.0",
            "_model_name": "HBoxModel",
            "_view_count": null,
            "_view_module": "@jupyter-widgets/controls",
            "_view_module_version": "1.5.0",
            "_view_name": "HBoxView",
            "box_style": "",
            "children": [
              "IPY_MODEL_0dd5347f3c654de29213675a478e4fd0",
              "IPY_MODEL_ace5a295c7ae4faca3c5145032662b4b",
              "IPY_MODEL_058febb4b9d541c386d749958b13a960"
            ],
            "layout": "IPY_MODEL_e67c1b18ebd749ac8a7a3402a3cf2618"
          }
        },
        "0dd5347f3c654de29213675a478e4fd0": {
          "model_module": "@jupyter-widgets/controls",
          "model_name": "HTMLModel",
          "model_module_version": "1.5.0",
          "state": {
            "_dom_classes": [],
            "_model_module": "@jupyter-widgets/controls",
            "_model_module_version": "1.5.0",
            "_model_name": "HTMLModel",
            "_view_count": null,
            "_view_module": "@jupyter-widgets/controls",
            "_view_module_version": "1.5.0",
            "_view_name": "HTMLView",
            "description": "",
            "description_tooltip": null,
            "layout": "IPY_MODEL_caf1268fb5c44cbbb31630451f0d111a",
            "placeholder": "​",
            "style": "IPY_MODEL_fc06c279e9f44e7a88cef86d703cdec3",
            "value": "100%"
          }
        },
        "ace5a295c7ae4faca3c5145032662b4b": {
          "model_module": "@jupyter-widgets/controls",
          "model_name": "FloatProgressModel",
          "model_module_version": "1.5.0",
          "state": {
            "_dom_classes": [],
            "_model_module": "@jupyter-widgets/controls",
            "_model_module_version": "1.5.0",
            "_model_name": "FloatProgressModel",
            "_view_count": null,
            "_view_module": "@jupyter-widgets/controls",
            "_view_module_version": "1.5.0",
            "_view_name": "ProgressView",
            "bar_style": "success",
            "description": "",
            "description_tooltip": null,
            "layout": "IPY_MODEL_dd5f1191ba1e432aabed2eedd78dba97",
            "max": 199,
            "min": 0,
            "orientation": "horizontal",
            "style": "IPY_MODEL_47cd597ab65842dbbf78a9eb1e35d2e0",
            "value": 199
          }
        },
        "058febb4b9d541c386d749958b13a960": {
          "model_module": "@jupyter-widgets/controls",
          "model_name": "HTMLModel",
          "model_module_version": "1.5.0",
          "state": {
            "_dom_classes": [],
            "_model_module": "@jupyter-widgets/controls",
            "_model_module_version": "1.5.0",
            "_model_name": "HTMLModel",
            "_view_count": null,
            "_view_module": "@jupyter-widgets/controls",
            "_view_module_version": "1.5.0",
            "_view_name": "HTMLView",
            "description": "",
            "description_tooltip": null,
            "layout": "IPY_MODEL_f89ac886ed1c4db1a6f4736c25972093",
            "placeholder": "​",
            "style": "IPY_MODEL_663e511da0a14b3c888e16190106c012",
            "value": " 199/199 [01:14&lt;00:00,  3.43it/s]"
          }
        },
        "e67c1b18ebd749ac8a7a3402a3cf2618": {
          "model_module": "@jupyter-widgets/base",
          "model_name": "LayoutModel",
          "model_module_version": "1.2.0",
          "state": {
            "_model_module": "@jupyter-widgets/base",
            "_model_module_version": "1.2.0",
            "_model_name": "LayoutModel",
            "_view_count": null,
            "_view_module": "@jupyter-widgets/base",
            "_view_module_version": "1.2.0",
            "_view_name": "LayoutView",
            "align_content": null,
            "align_items": null,
            "align_self": null,
            "border": null,
            "bottom": null,
            "display": null,
            "flex": null,
            "flex_flow": null,
            "grid_area": null,
            "grid_auto_columns": null,
            "grid_auto_flow": null,
            "grid_auto_rows": null,
            "grid_column": null,
            "grid_gap": null,
            "grid_row": null,
            "grid_template_areas": null,
            "grid_template_columns": null,
            "grid_template_rows": null,
            "height": null,
            "justify_content": null,
            "justify_items": null,
            "left": null,
            "margin": null,
            "max_height": null,
            "max_width": null,
            "min_height": null,
            "min_width": null,
            "object_fit": null,
            "object_position": null,
            "order": null,
            "overflow": null,
            "overflow_x": null,
            "overflow_y": null,
            "padding": null,
            "right": null,
            "top": null,
            "visibility": null,
            "width": null
          }
        },
        "caf1268fb5c44cbbb31630451f0d111a": {
          "model_module": "@jupyter-widgets/base",
          "model_name": "LayoutModel",
          "model_module_version": "1.2.0",
          "state": {
            "_model_module": "@jupyter-widgets/base",
            "_model_module_version": "1.2.0",
            "_model_name": "LayoutModel",
            "_view_count": null,
            "_view_module": "@jupyter-widgets/base",
            "_view_module_version": "1.2.0",
            "_view_name": "LayoutView",
            "align_content": null,
            "align_items": null,
            "align_self": null,
            "border": null,
            "bottom": null,
            "display": null,
            "flex": null,
            "flex_flow": null,
            "grid_area": null,
            "grid_auto_columns": null,
            "grid_auto_flow": null,
            "grid_auto_rows": null,
            "grid_column": null,
            "grid_gap": null,
            "grid_row": null,
            "grid_template_areas": null,
            "grid_template_columns": null,
            "grid_template_rows": null,
            "height": null,
            "justify_content": null,
            "justify_items": null,
            "left": null,
            "margin": null,
            "max_height": null,
            "max_width": null,
            "min_height": null,
            "min_width": null,
            "object_fit": null,
            "object_position": null,
            "order": null,
            "overflow": null,
            "overflow_x": null,
            "overflow_y": null,
            "padding": null,
            "right": null,
            "top": null,
            "visibility": null,
            "width": null
          }
        },
        "fc06c279e9f44e7a88cef86d703cdec3": {
          "model_module": "@jupyter-widgets/controls",
          "model_name": "DescriptionStyleModel",
          "model_module_version": "1.5.0",
          "state": {
            "_model_module": "@jupyter-widgets/controls",
            "_model_module_version": "1.5.0",
            "_model_name": "DescriptionStyleModel",
            "_view_count": null,
            "_view_module": "@jupyter-widgets/base",
            "_view_module_version": "1.2.0",
            "_view_name": "StyleView",
            "description_width": ""
          }
        },
        "dd5f1191ba1e432aabed2eedd78dba97": {
          "model_module": "@jupyter-widgets/base",
          "model_name": "LayoutModel",
          "model_module_version": "1.2.0",
          "state": {
            "_model_module": "@jupyter-widgets/base",
            "_model_module_version": "1.2.0",
            "_model_name": "LayoutModel",
            "_view_count": null,
            "_view_module": "@jupyter-widgets/base",
            "_view_module_version": "1.2.0",
            "_view_name": "LayoutView",
            "align_content": null,
            "align_items": null,
            "align_self": null,
            "border": null,
            "bottom": null,
            "display": null,
            "flex": null,
            "flex_flow": null,
            "grid_area": null,
            "grid_auto_columns": null,
            "grid_auto_flow": null,
            "grid_auto_rows": null,
            "grid_column": null,
            "grid_gap": null,
            "grid_row": null,
            "grid_template_areas": null,
            "grid_template_columns": null,
            "grid_template_rows": null,
            "height": null,
            "justify_content": null,
            "justify_items": null,
            "left": null,
            "margin": null,
            "max_height": null,
            "max_width": null,
            "min_height": null,
            "min_width": null,
            "object_fit": null,
            "object_position": null,
            "order": null,
            "overflow": null,
            "overflow_x": null,
            "overflow_y": null,
            "padding": null,
            "right": null,
            "top": null,
            "visibility": null,
            "width": null
          }
        },
        "47cd597ab65842dbbf78a9eb1e35d2e0": {
          "model_module": "@jupyter-widgets/controls",
          "model_name": "ProgressStyleModel",
          "model_module_version": "1.5.0",
          "state": {
            "_model_module": "@jupyter-widgets/controls",
            "_model_module_version": "1.5.0",
            "_model_name": "ProgressStyleModel",
            "_view_count": null,
            "_view_module": "@jupyter-widgets/base",
            "_view_module_version": "1.2.0",
            "_view_name": "StyleView",
            "bar_color": null,
            "description_width": ""
          }
        },
        "f89ac886ed1c4db1a6f4736c25972093": {
          "model_module": "@jupyter-widgets/base",
          "model_name": "LayoutModel",
          "model_module_version": "1.2.0",
          "state": {
            "_model_module": "@jupyter-widgets/base",
            "_model_module_version": "1.2.0",
            "_model_name": "LayoutModel",
            "_view_count": null,
            "_view_module": "@jupyter-widgets/base",
            "_view_module_version": "1.2.0",
            "_view_name": "LayoutView",
            "align_content": null,
            "align_items": null,
            "align_self": null,
            "border": null,
            "bottom": null,
            "display": null,
            "flex": null,
            "flex_flow": null,
            "grid_area": null,
            "grid_auto_columns": null,
            "grid_auto_flow": null,
            "grid_auto_rows": null,
            "grid_column": null,
            "grid_gap": null,
            "grid_row": null,
            "grid_template_areas": null,
            "grid_template_columns": null,
            "grid_template_rows": null,
            "height": null,
            "justify_content": null,
            "justify_items": null,
            "left": null,
            "margin": null,
            "max_height": null,
            "max_width": null,
            "min_height": null,
            "min_width": null,
            "object_fit": null,
            "object_position": null,
            "order": null,
            "overflow": null,
            "overflow_x": null,
            "overflow_y": null,
            "padding": null,
            "right": null,
            "top": null,
            "visibility": null,
            "width": null
          }
        },
        "663e511da0a14b3c888e16190106c012": {
          "model_module": "@jupyter-widgets/controls",
          "model_name": "DescriptionStyleModel",
          "model_module_version": "1.5.0",
          "state": {
            "_model_module": "@jupyter-widgets/controls",
            "_model_module_version": "1.5.0",
            "_model_name": "DescriptionStyleModel",
            "_view_count": null,
            "_view_module": "@jupyter-widgets/base",
            "_view_module_version": "1.2.0",
            "_view_name": "StyleView",
            "description_width": ""
          }
        }
      }
    }
  },
  "nbformat_minor": 0,
  "nbformat": 4,
  "cells": [
    {
      "cell_type": "code",
      "source": [
        "from google.colab import drive\n",
        "drive.mount('/content/gdrive')"
      ],
      "metadata": {
        "colab": {
          "base_uri": "https://localhost:8080/"
        },
        "id": "-MyVVibJDADr",
        "outputId": "01f64461-05fa-4243-d5a1-8f8159040c0d"
      },
      "execution_count": 1,
      "outputs": [
        {
          "output_type": "stream",
          "name": "stdout",
          "text": [
            "Mounted at /content/gdrive\n"
          ]
        }
      ]
    },
    {
      "cell_type": "code",
      "source": [
        "!unzip /content/gdrive/MyDrive/Kaggle/Pog_Music_Classification/data/mel_spec_aug/mel_spec_test_aug.zip > /dev/null"
      ],
      "metadata": {
        "id": "_GiKMlYUDCv0"
      },
      "execution_count": 2,
      "outputs": []
    },
    {
      "cell_type": "code",
      "source": [
        "!pip install -q pytorch_lightning timm torchtoolbox wandb"
      ],
      "metadata": {
        "id": "VUwo64xoDOD-",
        "colab": {
          "base_uri": "https://localhost:8080/"
        },
        "outputId": "af6d7329-70fb-4e28-8015-b897df284510"
      },
      "execution_count": 3,
      "outputs": [
        {
          "output_type": "stream",
          "name": "stdout",
          "text": [
            "\u001b[K     |████████████████████████████████| 582 kB 5.1 MB/s \n",
            "\u001b[K     |████████████████████████████████| 431 kB 47.4 MB/s \n",
            "\u001b[K     |████████████████████████████████| 84 kB 3.5 MB/s \n",
            "\u001b[K     |████████████████████████████████| 1.8 MB 52.0 MB/s \n",
            "\u001b[K     |████████████████████████████████| 136 kB 66.5 MB/s \n",
            "\u001b[K     |████████████████████████████████| 408 kB 55.8 MB/s \n",
            "\u001b[K     |████████████████████████████████| 596 kB 64.6 MB/s \n",
            "\u001b[K     |████████████████████████████████| 1.1 MB 54.5 MB/s \n",
            "\u001b[K     |████████████████████████████████| 4.0 MB 45.8 MB/s \n",
            "\u001b[K     |████████████████████████████████| 144 kB 68.2 MB/s \n",
            "\u001b[K     |████████████████████████████████| 181 kB 69.0 MB/s \n",
            "\u001b[K     |████████████████████████████████| 63 kB 1.6 MB/s \n",
            "\u001b[K     |████████████████████████████████| 271 kB 61.8 MB/s \n",
            "\u001b[K     |████████████████████████████████| 94 kB 3.4 MB/s \n",
            "\u001b[K     |████████████████████████████████| 144 kB 67.1 MB/s \n",
            "\u001b[K     |████████████████████████████████| 6.6 MB 55.5 MB/s \n",
            "\u001b[K     |████████████████████████████████| 77 kB 7.0 MB/s \n",
            "\u001b[K     |████████████████████████████████| 895 kB 52.8 MB/s \n",
            "\u001b[?25h  Building wheel for pathtools (setup.py) ... \u001b[?25l\u001b[?25hdone\n"
          ]
        }
      ]
    },
    {
      "cell_type": "code",
      "source": [
        "!pip install -q albumentations==0.4.6"
      ],
      "metadata": {
        "id": "fGyDM8x9DP1c",
        "colab": {
          "base_uri": "https://localhost:8080/"
        },
        "outputId": "58f9fda5-5eaa-4562-da94-005bf0103305"
      },
      "execution_count": 4,
      "outputs": [
        {
          "output_type": "stream",
          "name": "stdout",
          "text": [
            "\u001b[K     |████████████████████████████████| 117 kB 5.2 MB/s \n",
            "\u001b[K     |████████████████████████████████| 948 kB 50.1 MB/s \n",
            "\u001b[?25h  Building wheel for albumentations (setup.py) ... \u001b[?25l\u001b[?25hdone\n"
          ]
        }
      ]
    },
    {
      "cell_type": "code",
      "source": [
        "!pip uninstall -y opencv-python-headless==4.5.5.62"
      ],
      "metadata": {
        "colab": {
          "base_uri": "https://localhost:8080/"
        },
        "id": "j2NWEehwDSza",
        "outputId": "c2e8c954-b557-4d60-b075-500988dd663d"
      },
      "execution_count": 5,
      "outputs": [
        {
          "output_type": "stream",
          "name": "stdout",
          "text": [
            "\u001b[33mWARNING: Skipping opencv-python-headless as it is not installed.\u001b[0m\n"
          ]
        }
      ]
    },
    {
      "cell_type": "code",
      "source": [
        "!pip install -q opencv-python-headless==4.5.2.52"
      ],
      "metadata": {
        "id": "dZ2UUnpZDUwO",
        "colab": {
          "base_uri": "https://localhost:8080/"
        },
        "outputId": "d76a3120-0f44-4e7b-b9f4-a6292b72e96b"
      },
      "execution_count": 6,
      "outputs": [
        {
          "output_type": "stream",
          "name": "stdout",
          "text": [
            "\u001b[K     |████████████████████████████████| 38.2 MB 134 kB/s \n",
            "\u001b[?25h"
          ]
        }
      ]
    },
    {
      "cell_type": "markdown",
      "source": [
        "### Inference notebook using models trained on mel spectrograms generated using audio augmentations"
      ],
      "metadata": {
        "id": "J8tnaKbgCjg4"
      }
    },
    {
      "cell_type": "code",
      "source": [
        "import torch\n",
        "import pandas as pd\n",
        "import numpy as np\n",
        "import pytorch_lightning as pl\n",
        "from torch.utils.data import Dataset, DataLoader\n",
        "from PIL import Image\n",
        "import torchvision.transforms as transforms\n",
        "import tqdm\n",
        "import albumentations as alb\n",
        "from albumentations.pytorch import ToTensorV2\n",
        "import sys\n",
        "import torch.multiprocessing as mp\n",
        "import os"
      ],
      "metadata": {
        "execution": {
          "iopub.status.busy": "2022-04-10T14:07:50.306363Z",
          "iopub.execute_input": "2022-04-10T14:07:50.306975Z",
          "iopub.status.idle": "2022-04-10T14:07:50.312396Z",
          "shell.execute_reply.started": "2022-04-10T14:07:50.306933Z",
          "shell.execute_reply": "2022-04-10T14:07:50.311633Z"
        },
        "trusted": true,
        "id": "ZzuWYRZhCjg6"
      },
      "execution_count": 33,
      "outputs": []
    },
    {
      "cell_type": "code",
      "source": [
        "class TransformationType:\n",
        "    TORCHVISION = \"torchvision\"\n",
        "    ALB = \"albumentations\"\n",
        "\n",
        "class Models:\n",
        "    RESNET34 = \"resnet34\"\n",
        "    RESNET50 = \"resnet50\"\n",
        "    RESNEXT50 = \"resnext50_32x4d\"\n",
        "    EFFNET_B0 = \"tf_efficientnet_b0_ns\"\n",
        "    EFFNET_B4 = \"tf_efficientnet_b4_ns\"\n",
        "\n",
        "class ImgStats:\n",
        "    IMAGENET_MEAN = [0.485, 0.456, 0.406]\n",
        "    IMAGENET_STD = [0.229, 0.224, 0.225]    \n",
        "\n",
        "class WandbConfig:\n",
        "    WANDB_KEY = \"\"\n",
        "    WANDB_RUN_NAME = \"melspec_256by313_effnet_run1\"\n",
        "    WANDB_PROJECT = \"Pog_MusicClf_Resnext\"\n",
        "    USE_WANDB = False    \n",
        "\n",
        "class SchedulerConfig:\n",
        "    SCHEDULER_PATIENCE = 4\n",
        "    SCHEDULER = 'CosineAnnealingWarmRestarts'\n",
        "    T_0 = 10 # for CosineAnnealingWarmRestarts\n",
        "    MIN_LR = 5e-7 # for CosineAnnealingWarmRestarts\n",
        "    MAX_LR = 1e-2\n",
        "    STEPS_PER_EPOCH = 0\n",
        "\n",
        "# CONSTANTS\n",
        "class Config:\n",
        "    # whether to use mel spectrograms generated using audio augmentations ( multiple mel spec for one audio)\n",
        "    USE_MEL_SPEC_AUG = True\n",
        "    RUNTIME = \"COLAB\"\n",
        "    RESUME_FROM_CHKPT = None\n",
        "    NUM_CLASSES = 19\n",
        "    BATCH_SIZE = 128\n",
        "    NUM_FOLDS = 1\n",
        "    UNFREEZE_EPOCH_NO = 1\n",
        "    NUM_EPOCHS = 2\n",
        "    NUM_WORKERS = mp.cpu_count()\n",
        "    INPUT_IMAGE_SIZE = (128,128)\n",
        "    IMG_MEAN = ImgStats.IMAGENET_MEAN\n",
        "    IMG_STD = ImgStats.IMAGENET_STD\n",
        "    FAST_DEV_RUN = False\n",
        "    PRECISION = 16    \n",
        "    PATIENCE = 10    \n",
        "    SUBSET_ROWS_FRAC = 0.05\n",
        "    TRAIN_ON_SUBSET = False\n",
        "    RANDOM_SEED = 42\n",
        "    MODEL_TO_USE = Models.RESNEXT50\n",
        "    PRETRAINED = False        \n",
        "    FIND_LR = False\n",
        "    WEIGHT_DECAY = 1e-6\n",
        "    DEVICE = torch.device('cuda' if torch.cuda.is_available() else 'cpu')    \n",
        "    # model hyperparameters\n",
        "    MODEL_PARAMS = {    \n",
        "        \"drop_out\": 0.25,\n",
        "        \"lr\": 0.00043\n",
        "    }"
      ],
      "metadata": {
        "execution": {
          "iopub.status.busy": "2022-04-10T14:07:50.378842Z",
          "iopub.execute_input": "2022-04-10T14:07:50.379415Z",
          "iopub.status.idle": "2022-04-10T14:07:50.390294Z",
          "shell.execute_reply.started": "2022-04-10T14:07:50.379377Z",
          "shell.execute_reply": "2022-04-10T14:07:50.389326Z"
        },
        "trusted": true,
        "id": "kdyGprElCjg7"
      },
      "execution_count": 34,
      "outputs": []
    },
    {
      "cell_type": "code",
      "source": [
        "if Config.RUNTIME == \"COLAB\":\n",
        "    Config.DATA_ROOT_FOLDER = \"/content/gdrive/MyDrive/Kaggle/Pog_Music_Classification/data/\"\n",
        "    Config.IMG_ROOT_FOLDER = \"/content/processed_test_aug/mel_spec/\"\n",
        "    Config.MODEL_PATH_BASE = Config.DATA_ROOT_FOLDER + \"model/CV/AUG_RESNEXT50/\"\n",
        "elif Config.RUNTIME == \"KAGGLE\":\n",
        "    Config.DATA_ROOT_FOLDER = \"../input/pog-musicclf-melspec-aug/\"\n",
        "    Config.IMG_ROOT_FOLDER = \"/kaggle/input/pog-musicclf-melspec-aug/mel_spec_test_aug/processed_test_aug/mel_spec/\"        \n",
        "else:\n",
        "    Config.DATA_ROOT_FOLDER = \"./data/\"\n",
        "    Config.IMG_ROOT_FOLDER = \"./data/processed_train/mel_spec/\""
      ],
      "metadata": {
        "execution": {
          "iopub.status.busy": "2022-04-10T14:07:50.418853Z",
          "iopub.execute_input": "2022-04-10T14:07:50.419346Z",
          "iopub.status.idle": "2022-04-10T14:07:50.424387Z",
          "shell.execute_reply.started": "2022-04-10T14:07:50.419287Z",
          "shell.execute_reply": "2022-04-10T14:07:50.423405Z"
        },
        "trusted": true,
        "id": "yERt9-JMCjg8"
      },
      "execution_count": 35,
      "outputs": []
    },
    {
      "cell_type": "code",
      "source": [
        "FOLD_BEST_MODELS = [\n",
        "    #\"fold0_resnext50_32x4d_best_model_epoch=11_val_loss=1.5832.ckpt\",\n",
        "    \"fold1_resnext50_32x4d_best_model_epoch=9_val_loss=1.4965.ckpt\",\n",
        "    #\"fold2_resnext50_32x4d_best_model_epoch=10_val_loss=1.5228.ckpt\",\n",
        "    #\"fold3_resnext50_32x4d_best_model_epoch=9_val_loss=1.5181.ckpt\",\n",
        "    #\"fold4_resnext50_32x4d_best_model_epoch=8_val_loss=1.5268.ckpt\"\n",
        "]"
      ],
      "metadata": {
        "id": "jcAh1nRBYh0I"
      },
      "execution_count": 36,
      "outputs": []
    },
    {
      "cell_type": "code",
      "source": [
        "class AudioMelSpecImgTestDataset(Dataset):\n",
        "    def __init__(self, df, file_name_col, img_root_folder, transform=None):\n",
        "        self.df = df\n",
        "        self.file_name_col = file_name_col        \n",
        "        self.img_root_folder = img_root_folder\n",
        "        self.transform = transform        \n",
        "\n",
        "    def __getitem__(self, index):        \n",
        "        if Config.USE_MEL_SPEC_AUG:\n",
        "            mel_spec_img = self.df.loc[index, self.file_name_col]\n",
        "            img_path = self.img_root_folder + mel_spec_img\n",
        "        else:            \n",
        "            file_name_noext = self.df.loc[index, self.file_name_col].split(\".\")[0]        \n",
        "            img_path = self.img_root_folder + \"/\" + file_name_noext + \".jpg\" \n",
        "        img = Image.open(img_path)\n",
        "        img_arr = np.array(img)\n",
        "        if self.transform is not None:\n",
        "            augmented = self.transform(image=img_arr)\n",
        "            img_tfmd = augmented[\"image\"]        \n",
        "        return index, img_tfmd\n",
        "\n",
        "    def __len__(self):\n",
        "        return len(self.df)"
      ],
      "metadata": {
        "execution": {
          "iopub.status.busy": "2022-04-10T14:07:50.454991Z",
          "iopub.execute_input": "2022-04-10T14:07:50.455324Z",
          "iopub.status.idle": "2022-04-10T14:07:50.463154Z",
          "shell.execute_reply.started": "2022-04-10T14:07:50.455291Z",
          "shell.execute_reply": "2022-04-10T14:07:50.462245Z"
        },
        "trusted": true,
        "id": "O82oaUDpCjg8"
      },
      "execution_count": 37,
      "outputs": []
    },
    {
      "cell_type": "code",
      "source": [
        "test_transform = alb.Compose([\n",
        "        alb.CenterCrop(Config.INPUT_IMAGE_SIZE[0], Config.INPUT_IMAGE_SIZE[1]),\n",
        "        alb.Normalize(mean=Config.IMG_MEAN, std=Config.IMG_STD),\n",
        "        ToTensorV2()        \n",
        "])"
      ],
      "metadata": {
        "execution": {
          "iopub.status.busy": "2022-04-10T14:07:50.520658Z",
          "iopub.execute_input": "2022-04-10T14:07:50.520855Z",
          "iopub.status.idle": "2022-04-10T14:07:50.525386Z",
          "shell.execute_reply.started": "2022-04-10T14:07:50.520830Z",
          "shell.execute_reply": "2022-04-10T14:07:50.524601Z"
        },
        "trusted": true,
        "id": "5uw5MinPCjg9"
      },
      "execution_count": 38,
      "outputs": []
    },
    {
      "cell_type": "code",
      "source": [
        "df_test = pd.read_csv(Config.DATA_ROOT_FOLDER + \"mel_spec_aug/df_test_aug.csv\")\n",
        "df_test.head()"
      ],
      "metadata": {
        "execution": {
          "iopub.status.busy": "2022-04-10T14:07:50.586881Z",
          "iopub.execute_input": "2022-04-10T14:07:50.587370Z",
          "iopub.status.idle": "2022-04-10T14:07:50.630289Z",
          "shell.execute_reply.started": "2022-04-10T14:07:50.587331Z",
          "shell.execute_reply": "2022-04-10T14:07:50.629460Z"
        },
        "trusted": true,
        "id": "ZmI0ocRUCjg9",
        "colab": {
          "base_uri": "https://localhost:8080/",
          "height": 206
        },
        "outputId": "8d2af6bb-f675-4d33-bc2e-05ede928ffbc"
      },
      "execution_count": 39,
      "outputs": [
        {
          "output_type": "execute_result",
          "data": {
            "text/plain": [
              "   Unnamed: 0  song_id    filename         filepath  file_exists      mel_spec\n",
              "0           0     7072  007072.ogg  test/007072.ogg         True  007072_0.jpg\n",
              "1           1     7072  007072.ogg  test/007072.ogg         True  007072_2.jpg\n",
              "2           2     7072  007072.ogg  test/007072.ogg         True  007072_4.jpg\n",
              "3           3     7072  007072.ogg  test/007072.ogg         True  007072_3.jpg\n",
              "4           4     7072  007072.ogg  test/007072.ogg         True  007072_1.jpg"
            ],
            "text/html": [
              "\n",
              "  <div id=\"df-21abd4db-7426-45e3-94c6-9ec0df11ae5a\">\n",
              "    <div class=\"colab-df-container\">\n",
              "      <div>\n",
              "<style scoped>\n",
              "    .dataframe tbody tr th:only-of-type {\n",
              "        vertical-align: middle;\n",
              "    }\n",
              "\n",
              "    .dataframe tbody tr th {\n",
              "        vertical-align: top;\n",
              "    }\n",
              "\n",
              "    .dataframe thead th {\n",
              "        text-align: right;\n",
              "    }\n",
              "</style>\n",
              "<table border=\"1\" class=\"dataframe\">\n",
              "  <thead>\n",
              "    <tr style=\"text-align: right;\">\n",
              "      <th></th>\n",
              "      <th>Unnamed: 0</th>\n",
              "      <th>song_id</th>\n",
              "      <th>filename</th>\n",
              "      <th>filepath</th>\n",
              "      <th>file_exists</th>\n",
              "      <th>mel_spec</th>\n",
              "    </tr>\n",
              "  </thead>\n",
              "  <tbody>\n",
              "    <tr>\n",
              "      <th>0</th>\n",
              "      <td>0</td>\n",
              "      <td>7072</td>\n",
              "      <td>007072.ogg</td>\n",
              "      <td>test/007072.ogg</td>\n",
              "      <td>True</td>\n",
              "      <td>007072_0.jpg</td>\n",
              "    </tr>\n",
              "    <tr>\n",
              "      <th>1</th>\n",
              "      <td>1</td>\n",
              "      <td>7072</td>\n",
              "      <td>007072.ogg</td>\n",
              "      <td>test/007072.ogg</td>\n",
              "      <td>True</td>\n",
              "      <td>007072_2.jpg</td>\n",
              "    </tr>\n",
              "    <tr>\n",
              "      <th>2</th>\n",
              "      <td>2</td>\n",
              "      <td>7072</td>\n",
              "      <td>007072.ogg</td>\n",
              "      <td>test/007072.ogg</td>\n",
              "      <td>True</td>\n",
              "      <td>007072_4.jpg</td>\n",
              "    </tr>\n",
              "    <tr>\n",
              "      <th>3</th>\n",
              "      <td>3</td>\n",
              "      <td>7072</td>\n",
              "      <td>007072.ogg</td>\n",
              "      <td>test/007072.ogg</td>\n",
              "      <td>True</td>\n",
              "      <td>007072_3.jpg</td>\n",
              "    </tr>\n",
              "    <tr>\n",
              "      <th>4</th>\n",
              "      <td>4</td>\n",
              "      <td>7072</td>\n",
              "      <td>007072.ogg</td>\n",
              "      <td>test/007072.ogg</td>\n",
              "      <td>True</td>\n",
              "      <td>007072_1.jpg</td>\n",
              "    </tr>\n",
              "  </tbody>\n",
              "</table>\n",
              "</div>\n",
              "      <button class=\"colab-df-convert\" onclick=\"convertToInteractive('df-21abd4db-7426-45e3-94c6-9ec0df11ae5a')\"\n",
              "              title=\"Convert this dataframe to an interactive table.\"\n",
              "              style=\"display:none;\">\n",
              "        \n",
              "  <svg xmlns=\"http://www.w3.org/2000/svg\" height=\"24px\"viewBox=\"0 0 24 24\"\n",
              "       width=\"24px\">\n",
              "    <path d=\"M0 0h24v24H0V0z\" fill=\"none\"/>\n",
              "    <path d=\"M18.56 5.44l.94 2.06.94-2.06 2.06-.94-2.06-.94-.94-2.06-.94 2.06-2.06.94zm-11 1L8.5 8.5l.94-2.06 2.06-.94-2.06-.94L8.5 2.5l-.94 2.06-2.06.94zm10 10l.94 2.06.94-2.06 2.06-.94-2.06-.94-.94-2.06-.94 2.06-2.06.94z\"/><path d=\"M17.41 7.96l-1.37-1.37c-.4-.4-.92-.59-1.43-.59-.52 0-1.04.2-1.43.59L10.3 9.45l-7.72 7.72c-.78.78-.78 2.05 0 2.83L4 21.41c.39.39.9.59 1.41.59.51 0 1.02-.2 1.41-.59l7.78-7.78 2.81-2.81c.8-.78.8-2.07 0-2.86zM5.41 20L4 18.59l7.72-7.72 1.47 1.35L5.41 20z\"/>\n",
              "  </svg>\n",
              "      </button>\n",
              "      \n",
              "  <style>\n",
              "    .colab-df-container {\n",
              "      display:flex;\n",
              "      flex-wrap:wrap;\n",
              "      gap: 12px;\n",
              "    }\n",
              "\n",
              "    .colab-df-convert {\n",
              "      background-color: #E8F0FE;\n",
              "      border: none;\n",
              "      border-radius: 50%;\n",
              "      cursor: pointer;\n",
              "      display: none;\n",
              "      fill: #1967D2;\n",
              "      height: 32px;\n",
              "      padding: 0 0 0 0;\n",
              "      width: 32px;\n",
              "    }\n",
              "\n",
              "    .colab-df-convert:hover {\n",
              "      background-color: #E2EBFA;\n",
              "      box-shadow: 0px 1px 2px rgba(60, 64, 67, 0.3), 0px 1px 3px 1px rgba(60, 64, 67, 0.15);\n",
              "      fill: #174EA6;\n",
              "    }\n",
              "\n",
              "    [theme=dark] .colab-df-convert {\n",
              "      background-color: #3B4455;\n",
              "      fill: #D2E3FC;\n",
              "    }\n",
              "\n",
              "    [theme=dark] .colab-df-convert:hover {\n",
              "      background-color: #434B5C;\n",
              "      box-shadow: 0px 1px 3px 1px rgba(0, 0, 0, 0.15);\n",
              "      filter: drop-shadow(0px 1px 2px rgba(0, 0, 0, 0.3));\n",
              "      fill: #FFFFFF;\n",
              "    }\n",
              "  </style>\n",
              "\n",
              "      <script>\n",
              "        const buttonEl =\n",
              "          document.querySelector('#df-21abd4db-7426-45e3-94c6-9ec0df11ae5a button.colab-df-convert');\n",
              "        buttonEl.style.display =\n",
              "          google.colab.kernel.accessAllowed ? 'block' : 'none';\n",
              "\n",
              "        async function convertToInteractive(key) {\n",
              "          const element = document.querySelector('#df-21abd4db-7426-45e3-94c6-9ec0df11ae5a');\n",
              "          const dataTable =\n",
              "            await google.colab.kernel.invokeFunction('convertToInteractive',\n",
              "                                                     [key], {});\n",
              "          if (!dataTable) return;\n",
              "\n",
              "          const docLinkHtml = 'Like what you see? Visit the ' +\n",
              "            '<a target=\"_blank\" href=https://colab.research.google.com/notebooks/data_table.ipynb>data table notebook</a>'\n",
              "            + ' to learn more about interactive tables.';\n",
              "          element.innerHTML = '';\n",
              "          dataTable['output_type'] = 'display_data';\n",
              "          await google.colab.output.renderOutput(dataTable, element);\n",
              "          const docLink = document.createElement('div');\n",
              "          docLink.innerHTML = docLinkHtml;\n",
              "          element.appendChild(docLink);\n",
              "        }\n",
              "      </script>\n",
              "    </div>\n",
              "  </div>\n",
              "  "
            ]
          },
          "metadata": {},
          "execution_count": 39
        }
      ]
    },
    {
      "cell_type": "code",
      "source": [
        "ds_test = AudioMelSpecImgTestDataset(\n",
        "            df_test, \n",
        "            file_name_col=\"mel_spec\",        \n",
        "            img_root_folder=Config.IMG_ROOT_FOLDER, \n",
        "            transform=test_transform\n",
        "        )        \n",
        "\n",
        "dl_test = DataLoader(ds_test, batch_size=Config.BATCH_SIZE)"
      ],
      "metadata": {
        "execution": {
          "iopub.status.busy": "2022-04-10T14:07:50.648728Z",
          "iopub.execute_input": "2022-04-10T14:07:50.648943Z",
          "iopub.status.idle": "2022-04-10T14:07:50.654713Z",
          "shell.execute_reply.started": "2022-04-10T14:07:50.648918Z",
          "shell.execute_reply": "2022-04-10T14:07:50.653903Z"
        },
        "trusted": true,
        "id": "r20GydS-Cjg9"
      },
      "execution_count": 40,
      "outputs": []
    },
    {
      "cell_type": "code",
      "source": [
        "from torch.optim.lr_scheduler import CosineAnnealingLR, CosineAnnealingWarmRestarts, ReduceLROnPlateau, OneCycleLR\n",
        "\n",
        "def get_optimizer(lr, params):\n",
        "    model_optimizer = torch.optim.Adam(\n",
        "            filter(lambda p: p.requires_grad, params), \n",
        "            lr=lr,\n",
        "            weight_decay=Config.WEIGHT_DECAY\n",
        "        )\n",
        "    interval = \"epoch\"\n",
        "    if SchedulerConfig.SCHEDULER == \"CosineAnnealingWarmRestarts\":\n",
        "        lr_scheduler = CosineAnnealingWarmRestarts(\n",
        "                            model_optimizer, \n",
        "                            T_0=SchedulerConfig.T_0, \n",
        "                            T_mult=1, \n",
        "                            eta_min=SchedulerConfig.MIN_LR, \n",
        "                            last_epoch=-1\n",
        "                        )\n",
        "    elif SchedulerConfig.SCHEDULER == \"OneCycleLR\":\n",
        "        lr_scheduler = OneCycleLR(\n",
        "            optimizer=model_optimizer,\n",
        "            max_lr=SchedulerConfig.MAX_LR,\n",
        "            epochs=Config.NUM_EPOCHS,\n",
        "            steps_per_epoch=SchedulerConfig.STEPS_PER_EPOCH,\n",
        "            verbose=True\n",
        "        )\n",
        "        interval = \"step\"\n",
        "    elif SchedulerConfig.SCHEDULER == \"CosineAnnealingLR\":\n",
        "        lr_scheduler = CosineAnnealingLR(model_optimizer, eta_min=SchedulerConfig.MIN_LR, T_max=Config.NUM_EPOCHS)\n",
        "    else:\n",
        "        # ReduceLROnPlateau throws an error is parameters are filtered, \n",
        "        # refer: https://github.com/PyTorchLightning/pytorch-lightning/issues/8720\n",
        "        model_optimizer = torch.optim.Adam(\n",
        "            params, \n",
        "            lr=lr,\n",
        "            weight_decay=Config.WEIGHT_DECAY\n",
        "        )\n",
        "        lr_scheduler = ReduceLROnPlateau(\n",
        "                            model_optimizer, \n",
        "                            mode=\"min\",                                                                \n",
        "                            factor=0.1,\n",
        "                            patience=SchedulerConfig.SCHEDULER_PATIENCE,\n",
        "                            min_lr=SchedulerConfig.MIN_LR,                                \n",
        "                            verbose=True\n",
        "                        )   \n",
        "    return {\n",
        "        \"optimizer\": model_optimizer, \n",
        "        \"lr_scheduler\": {\n",
        "            \"scheduler\": lr_scheduler,\n",
        "            \"interval\": interval,\n",
        "            \"monitor\": \"val_loss\",\n",
        "            \"frequency\": 1\n",
        "        }\n",
        "    }"
      ],
      "metadata": {
        "execution": {
          "iopub.status.busy": "2022-04-10T14:07:57.937905Z",
          "iopub.execute_input": "2022-04-10T14:07:57.938244Z",
          "iopub.status.idle": "2022-04-10T14:07:57.951482Z",
          "shell.execute_reply.started": "2022-04-10T14:07:57.938207Z",
          "shell.execute_reply": "2022-04-10T14:07:57.950777Z"
        },
        "trusted": true,
        "id": "aOu00C1xCjg-"
      },
      "execution_count": 41,
      "outputs": []
    },
    {
      "cell_type": "code",
      "source": [
        "import torchvision.models as models\n",
        "import torch.nn as nn\n",
        "from torch.nn.functional import cross_entropy\n",
        "import torchmetrics\n",
        "import timm\n",
        "\n",
        "class MusicClfLitModel(pl.LightningModule):\n",
        "    def __init__(self, num_classes, hparams, model_to_use):\n",
        "        super().__init__()\n",
        "        self.save_hyperparameters()\n",
        "        self.lr = hparams[\"lr\"]\n",
        "        self.num_classes = num_classes              \n",
        "        self.backbone, self.classifier = self.get_backbone_classifier(model_to_use, hparams[\"drop_out\"], num_classes) \n",
        "\n",
        "    @staticmethod\n",
        "    def get_backbone_classifier(model_to_use, drop_out, num_classes):\n",
        "        pt_model = timm.create_model(model_to_use, pretrained=Config.PRETRAINED)\n",
        "        backbone = None\n",
        "        classifier = None\n",
        "        if model_to_use in [Models.RESNET34, Models.RESNET50, Models.RESNEXT50]:            \n",
        "            backbone = nn.Sequential(*list(pt_model.children())[:-1])\n",
        "            in_features = pt_model.fc.in_features\n",
        "            classifier = nn.Sequential(\n",
        "                nn.Dropout(drop_out),\n",
        "                nn.Linear(in_features, num_classes)\n",
        "            )\n",
        "        if model_to_use in [Models.EFFNET_B4, Models.EFFNET_B0]:\n",
        "            backbone = nn.Sequential(*list(pt_model.children())[:-1])\n",
        "            in_features = pt_model.classifier.in_features\n",
        "            classifier = nn.Linear(in_features, num_classes)\n",
        "                    \n",
        "        return backbone, classifier\n",
        "\n",
        "    def forward(self, x):\n",
        "        features = self.backbone(x)\n",
        "        features = torch.flatten(features, 1)                \n",
        "        x = self.classifier(features)\n",
        "        soft_max = nn.Softmax(dim=1)        \n",
        "        proba = soft_max(x)\n",
        "        return proba\n",
        "\n",
        "    def configure_optimizers(self):\n",
        "        return get_optimizer(lr=self.lr, params=self.parameters())\n",
        "\n",
        "    def training_step(self, batch, batch_idx):\n",
        "        id, X, y = batch\n",
        "        y_pred = self(X)\n",
        "        loss = cross_entropy(y_pred, y)\n",
        "        train_f1 = torchmetrics.functional.f1(preds=y_pred, target=y, num_classes=self.num_classes, average=\"micro\")\n",
        "        self.log(\"train_loss\", loss, on_step=True, on_epoch=True, logger=True, prog_bar=True)\n",
        "        self.log(\"train_f1\", train_f1, on_step=True, on_epoch=True, logger=True, prog_bar=True)\n",
        "        return loss        \n",
        "\n",
        "    def validation_step(self, batch, batch_idx):\n",
        "        id, X, y = batch\n",
        "        y_pred = self(X)\n",
        "        val_loss = cross_entropy(y_pred, y)\n",
        "        current_lr = self.trainer.optimizers[0].param_groups[0]['lr']\n",
        "        val_f1 = torchmetrics.functional.f1(preds=y_pred, target=y, num_classes=self.num_classes, average=\"micro\")\n",
        "        self.log(\"val_loss\", val_loss, on_step=True, on_epoch=True, logger=True, prog_bar=True)\n",
        "        self.log(\"val_f1\", val_f1, on_step=True, on_epoch=True, logger=True, prog_bar=True)\n",
        "        self.log(\"cur_lr\", current_lr, prog_bar=True, on_step=True, on_epoch=True, logger=True)\n",
        "        return {\"loss\": val_loss, \"val_f1\": val_f1, \"cur_lr\": current_lr}"
      ],
      "metadata": {
        "execution": {
          "iopub.status.busy": "2022-04-10T14:07:57.953406Z",
          "iopub.execute_input": "2022-04-10T14:07:57.954024Z",
          "iopub.status.idle": "2022-04-10T14:07:57.972599Z",
          "shell.execute_reply.started": "2022-04-10T14:07:57.953985Z",
          "shell.execute_reply": "2022-04-10T14:07:57.971846Z"
        },
        "trusted": true,
        "id": "e0ADtAxTCjg-"
      },
      "execution_count": 42,
      "outputs": []
    },
    {
      "cell_type": "code",
      "source": [
        "from tqdm.notebook import tqdm\n",
        "from IPython.display import display\n",
        "\n",
        "df_submission = pd.read_csv(Config.DATA_ROOT_FOLDER + \"sample_submission.csv\")    \n",
        "# records present both in df_test and df_submission\n",
        "df_subm_test = pd.merge(\n",
        "    left=df_test,\n",
        "    right=df_submission,\n",
        "    how=\"right\",\n",
        "    on=\"song_id\",\n",
        "    suffixes=(\"_test\", \"_subm\")\n",
        ")\n",
        "print(f\"len(df_subm_test) = {len(df_subm_test)}\")\n",
        "display(df_subm_test.head())"
      ],
      "metadata": {
        "execution": {
          "iopub.status.busy": "2022-04-10T14:07:57.975153Z",
          "iopub.execute_input": "2022-04-10T14:07:57.975456Z",
          "iopub.status.idle": "2022-04-10T14:07:59.005855Z",
          "shell.execute_reply.started": "2022-04-10T14:07:57.975420Z",
          "shell.execute_reply": "2022-04-10T14:07:59.005152Z"
        },
        "trusted": true,
        "id": "XMfrRyNjCjg-",
        "colab": {
          "base_uri": "https://localhost:8080/",
          "height": 223
        },
        "outputId": "ddccf1bf-cea0-4e79-d7ee-8b94247ef039"
      },
      "execution_count": 43,
      "outputs": [
        {
          "output_type": "stream",
          "name": "stdout",
          "text": [
            "len(df_subm_test) = 25382\n"
          ]
        },
        {
          "output_type": "display_data",
          "data": {
            "text/plain": [
              "   Unnamed: 0  song_id    filename         filepath file_exists      mel_spec  \\\n",
              "0         0.0     7072  007072.ogg  test/007072.ogg        True  007072_0.jpg   \n",
              "1         1.0     7072  007072.ogg  test/007072.ogg        True  007072_2.jpg   \n",
              "2         2.0     7072  007072.ogg  test/007072.ogg        True  007072_4.jpg   \n",
              "3         3.0     7072  007072.ogg  test/007072.ogg        True  007072_3.jpg   \n",
              "4         4.0     7072  007072.ogg  test/007072.ogg        True  007072_1.jpg   \n",
              "\n",
              "   genre_id  \n",
              "0         0  \n",
              "1         0  \n",
              "2         0  \n",
              "3         0  \n",
              "4         0  "
            ],
            "text/html": [
              "\n",
              "  <div id=\"df-159967b0-09f4-4542-8456-1bae18e1073c\">\n",
              "    <div class=\"colab-df-container\">\n",
              "      <div>\n",
              "<style scoped>\n",
              "    .dataframe tbody tr th:only-of-type {\n",
              "        vertical-align: middle;\n",
              "    }\n",
              "\n",
              "    .dataframe tbody tr th {\n",
              "        vertical-align: top;\n",
              "    }\n",
              "\n",
              "    .dataframe thead th {\n",
              "        text-align: right;\n",
              "    }\n",
              "</style>\n",
              "<table border=\"1\" class=\"dataframe\">\n",
              "  <thead>\n",
              "    <tr style=\"text-align: right;\">\n",
              "      <th></th>\n",
              "      <th>Unnamed: 0</th>\n",
              "      <th>song_id</th>\n",
              "      <th>filename</th>\n",
              "      <th>filepath</th>\n",
              "      <th>file_exists</th>\n",
              "      <th>mel_spec</th>\n",
              "      <th>genre_id</th>\n",
              "    </tr>\n",
              "  </thead>\n",
              "  <tbody>\n",
              "    <tr>\n",
              "      <th>0</th>\n",
              "      <td>0.0</td>\n",
              "      <td>7072</td>\n",
              "      <td>007072.ogg</td>\n",
              "      <td>test/007072.ogg</td>\n",
              "      <td>True</td>\n",
              "      <td>007072_0.jpg</td>\n",
              "      <td>0</td>\n",
              "    </tr>\n",
              "    <tr>\n",
              "      <th>1</th>\n",
              "      <td>1.0</td>\n",
              "      <td>7072</td>\n",
              "      <td>007072.ogg</td>\n",
              "      <td>test/007072.ogg</td>\n",
              "      <td>True</td>\n",
              "      <td>007072_2.jpg</td>\n",
              "      <td>0</td>\n",
              "    </tr>\n",
              "    <tr>\n",
              "      <th>2</th>\n",
              "      <td>2.0</td>\n",
              "      <td>7072</td>\n",
              "      <td>007072.ogg</td>\n",
              "      <td>test/007072.ogg</td>\n",
              "      <td>True</td>\n",
              "      <td>007072_4.jpg</td>\n",
              "      <td>0</td>\n",
              "    </tr>\n",
              "    <tr>\n",
              "      <th>3</th>\n",
              "      <td>3.0</td>\n",
              "      <td>7072</td>\n",
              "      <td>007072.ogg</td>\n",
              "      <td>test/007072.ogg</td>\n",
              "      <td>True</td>\n",
              "      <td>007072_3.jpg</td>\n",
              "      <td>0</td>\n",
              "    </tr>\n",
              "    <tr>\n",
              "      <th>4</th>\n",
              "      <td>4.0</td>\n",
              "      <td>7072</td>\n",
              "      <td>007072.ogg</td>\n",
              "      <td>test/007072.ogg</td>\n",
              "      <td>True</td>\n",
              "      <td>007072_1.jpg</td>\n",
              "      <td>0</td>\n",
              "    </tr>\n",
              "  </tbody>\n",
              "</table>\n",
              "</div>\n",
              "      <button class=\"colab-df-convert\" onclick=\"convertToInteractive('df-159967b0-09f4-4542-8456-1bae18e1073c')\"\n",
              "              title=\"Convert this dataframe to an interactive table.\"\n",
              "              style=\"display:none;\">\n",
              "        \n",
              "  <svg xmlns=\"http://www.w3.org/2000/svg\" height=\"24px\"viewBox=\"0 0 24 24\"\n",
              "       width=\"24px\">\n",
              "    <path d=\"M0 0h24v24H0V0z\" fill=\"none\"/>\n",
              "    <path d=\"M18.56 5.44l.94 2.06.94-2.06 2.06-.94-2.06-.94-.94-2.06-.94 2.06-2.06.94zm-11 1L8.5 8.5l.94-2.06 2.06-.94-2.06-.94L8.5 2.5l-.94 2.06-2.06.94zm10 10l.94 2.06.94-2.06 2.06-.94-2.06-.94-.94-2.06-.94 2.06-2.06.94z\"/><path d=\"M17.41 7.96l-1.37-1.37c-.4-.4-.92-.59-1.43-.59-.52 0-1.04.2-1.43.59L10.3 9.45l-7.72 7.72c-.78.78-.78 2.05 0 2.83L4 21.41c.39.39.9.59 1.41.59.51 0 1.02-.2 1.41-.59l7.78-7.78 2.81-2.81c.8-.78.8-2.07 0-2.86zM5.41 20L4 18.59l7.72-7.72 1.47 1.35L5.41 20z\"/>\n",
              "  </svg>\n",
              "      </button>\n",
              "      \n",
              "  <style>\n",
              "    .colab-df-container {\n",
              "      display:flex;\n",
              "      flex-wrap:wrap;\n",
              "      gap: 12px;\n",
              "    }\n",
              "\n",
              "    .colab-df-convert {\n",
              "      background-color: #E8F0FE;\n",
              "      border: none;\n",
              "      border-radius: 50%;\n",
              "      cursor: pointer;\n",
              "      display: none;\n",
              "      fill: #1967D2;\n",
              "      height: 32px;\n",
              "      padding: 0 0 0 0;\n",
              "      width: 32px;\n",
              "    }\n",
              "\n",
              "    .colab-df-convert:hover {\n",
              "      background-color: #E2EBFA;\n",
              "      box-shadow: 0px 1px 2px rgba(60, 64, 67, 0.3), 0px 1px 3px 1px rgba(60, 64, 67, 0.15);\n",
              "      fill: #174EA6;\n",
              "    }\n",
              "\n",
              "    [theme=dark] .colab-df-convert {\n",
              "      background-color: #3B4455;\n",
              "      fill: #D2E3FC;\n",
              "    }\n",
              "\n",
              "    [theme=dark] .colab-df-convert:hover {\n",
              "      background-color: #434B5C;\n",
              "      box-shadow: 0px 1px 3px 1px rgba(0, 0, 0, 0.15);\n",
              "      filter: drop-shadow(0px 1px 2px rgba(0, 0, 0, 0.3));\n",
              "      fill: #FFFFFF;\n",
              "    }\n",
              "  </style>\n",
              "\n",
              "      <script>\n",
              "        const buttonEl =\n",
              "          document.querySelector('#df-159967b0-09f4-4542-8456-1bae18e1073c button.colab-df-convert');\n",
              "        buttonEl.style.display =\n",
              "          google.colab.kernel.accessAllowed ? 'block' : 'none';\n",
              "\n",
              "        async function convertToInteractive(key) {\n",
              "          const element = document.querySelector('#df-159967b0-09f4-4542-8456-1bae18e1073c');\n",
              "          const dataTable =\n",
              "            await google.colab.kernel.invokeFunction('convertToInteractive',\n",
              "                                                     [key], {});\n",
              "          if (!dataTable) return;\n",
              "\n",
              "          const docLinkHtml = 'Like what you see? Visit the ' +\n",
              "            '<a target=\"_blank\" href=https://colab.research.google.com/notebooks/data_table.ipynb>data table notebook</a>'\n",
              "            + ' to learn more about interactive tables.';\n",
              "          element.innerHTML = '';\n",
              "          dataTable['output_type'] = 'display_data';\n",
              "          await google.colab.output.renderOutput(dataTable, element);\n",
              "          const docLink = document.createElement('div');\n",
              "          docLink.innerHTML = docLinkHtml;\n",
              "          element.appendChild(docLink);\n",
              "        }\n",
              "      </script>\n",
              "    </div>\n",
              "  </div>\n",
              "  "
            ]
          },
          "metadata": {}
        }
      ]
    },
    {
      "cell_type": "code",
      "source": [
        "# # get the best model (having lowest val loss) for the fold\n",
        "# best_model_path_val_loss = \"/content/gdrive/MyDrive/Kaggle/Pog_Music_Classification/data/model/fold0_best_model_epoch=21_val_loss=1.5357.ckpt\"\n",
        "# print(f\"Using best model = {best_model_path_val_loss} for test prediction\")\n",
        "# best_model = MusicClfLitModel.load_from_checkpoint(\n",
        "#     checkpoint_path=best_model_path_val_loss,\n",
        "#     num_classes=Config.NUM_CLASSES, \n",
        "#     hparams=Config.MODEL_PARAMS,        \n",
        "#     model_to_use=Config.MODEL_TO_USE\n",
        "# )\n",
        "# print(f\"Using device = {Config.DEVICE}\")\n",
        "# best_model.to(Config.DEVICE)\n"
      ],
      "metadata": {
        "id": "BwSoTorYY49T"
      },
      "execution_count": 44,
      "outputs": []
    },
    {
      "cell_type": "code",
      "source": [
        "#df = df_subm_test[df_subm_test.filename.notnull()]"
      ],
      "metadata": {
        "execution": {
          "iopub.status.busy": "2022-04-10T14:07:59.007165Z",
          "iopub.execute_input": "2022-04-10T14:07:59.007475Z",
          "iopub.status.idle": "2022-04-10T14:07:59.011185Z",
          "shell.execute_reply.started": "2022-04-10T14:07:59.007436Z",
          "shell.execute_reply": "2022-04-10T14:07:59.010513Z"
        },
        "trusted": true,
        "id": "9f24nozICjg_"
      },
      "execution_count": 45,
      "outputs": []
    },
    {
      "cell_type": "code",
      "source": [
        "def get_pred(preds, proba_thresh):\n",
        "  index_preds = [(index, pred) for index, pred in enumerate(preds)]\n",
        "  index_preds_sorted = sorted(index_preds, key=lambda item: item[1], reverse=True)  \n",
        "  pred_label = 0\n",
        "  for index, pred in index_preds_sorted:\n",
        "    if pred > proba_thresh[index]:\n",
        "      pred_label = index\n",
        "  return pred_label"
      ],
      "metadata": {
        "id": "n3riN_eUBkts"
      },
      "execution_count": 46,
      "outputs": []
    },
    {
      "cell_type": "code",
      "source": [
        "# test_preds = []\n",
        "# with torch.no_grad():    \n",
        "#     for id, X in tqdm(dl_test):\n",
        "#         id = id.cpu().detach().numpy()        \n",
        "#         y_preds = best_model(X.to(Config.DEVICE))                \n",
        "#         test_preds.append(y_preds.cpu().detach().numpy())\n",
        "# test_preds_final = np.concatenate(test_preds, axis=0)"
      ],
      "metadata": {
        "id": "gcI5EumwCSBp"
      },
      "execution_count": 47,
      "outputs": []
    },
    {
      "cell_type": "code",
      "source": [
        "optimal_proba_dict = {'0': 0.36, '1': 0.30000000000000004, '2': 0.48, '3': 0.24000000000000002, '4': 0.30000000000000004, '5': 0.22, '6': 0.44000000000000006, '7': 0.28, '8': 0.28, '9': 0.26, '10': 0.42000000000000004, '11': 0.26, '12': 0.4, '13': 0.2, '14': 0.33999999999999997, '15': 0.45999999999999996, '16': 0.36, '17': 0.44000000000000006, '18': 0.24000000000000002}\n",
        "#optimal_proba = list(optimal_proba_dict.values())\n",
        "optimal_proba = None"
      ],
      "metadata": {
        "id": "2fV98qk5DzFy"
      },
      "execution_count": 48,
      "outputs": []
    },
    {
      "cell_type": "code",
      "source": [
        "for fold in range(Config.NUM_FOLDS):\n",
        "    fold_best_model = MusicClfLitModel.load_from_checkpoint(\n",
        "                            checkpoint_path=Config.MODEL_PATH_BASE + FOLD_BEST_MODELS[fold],\n",
        "                            num_classes=Config.NUM_CLASSES, \n",
        "                            hparams=Config.MODEL_PARAMS,        \n",
        "                            model_to_use=Config.MODEL_TO_USE\n",
        "                        )\n",
        "    fold_best_model.to(Config.DEVICE)\n",
        "    print(f\"Using fold {fold} best model = {FOLD_BEST_MODELS[fold]} for test prediction\")\n",
        "    with torch.no_grad():    \n",
        "        for id, X in tqdm(dl_test):\n",
        "            id = id.cpu().detach().numpy()  \n",
        "            y_preds = fold_best_model(X.to(Config.DEVICE))\n",
        "            y_preds_np = y_preds.cpu().detach().numpy()          \n",
        "            if optimal_proba is not None:          \n",
        "                test_genre_id = [get_pred(pred, optimal_proba) for pred in y_preds_np]\n",
        "            else:\n",
        "                test_genre_id = np.argmax(y_preds_np, axis=1)\n",
        "            if Config.NUM_FOLDS == 1:\n",
        "                df_test.loc[id, \"genre_id\"] = test_genre_id\n",
        "            else:\n",
        "                df_test.loc[id, f\"fold{fold}_genre_id\"] = test_genre_id                                      \n",
        "df_test.to_csv(Config.DATA_ROOT_FOLDER + \"test_fold_preds.csv\")"
      ],
      "metadata": {
        "colab": {
          "base_uri": "https://localhost:8080/",
          "height": 67,
          "referenced_widgets": [
            "387fd100145048d3992317d0032957ab",
            "0dd5347f3c654de29213675a478e4fd0",
            "ace5a295c7ae4faca3c5145032662b4b",
            "058febb4b9d541c386d749958b13a960",
            "e67c1b18ebd749ac8a7a3402a3cf2618",
            "caf1268fb5c44cbbb31630451f0d111a",
            "fc06c279e9f44e7a88cef86d703cdec3",
            "dd5f1191ba1e432aabed2eedd78dba97",
            "47cd597ab65842dbbf78a9eb1e35d2e0",
            "f89ac886ed1c4db1a6f4736c25972093",
            "663e511da0a14b3c888e16190106c012"
          ]
        },
        "id": "UTZ98kjyVswZ",
        "outputId": "f2c44de0-656d-4c40-9617-84621fdcbb70"
      },
      "execution_count": 49,
      "outputs": [
        {
          "output_type": "stream",
          "name": "stdout",
          "text": [
            "Using fold 0 best model = fold1_resnext50_32x4d_best_model_epoch=9_val_loss=1.4965.ckpt for test prediction\n"
          ]
        },
        {
          "output_type": "display_data",
          "data": {
            "text/plain": [
              "  0%|          | 0/199 [00:00<?, ?it/s]"
            ],
            "application/vnd.jupyter.widget-view+json": {
              "version_major": 2,
              "version_minor": 0,
              "model_id": "387fd100145048d3992317d0032957ab"
            }
          },
          "metadata": {}
        }
      ]
    },
    {
      "cell_type": "code",
      "source": [
        "def combine_preds(test_row):\n",
        "    preds = np.zeros(Config.NUM_CLASSES)\n",
        "    for fold in range(Config.NUM_FOLDS):\n",
        "        fold_pred = int(test_row[f\"fold{fold}_genre_id\"])\n",
        "        preds[fold_pred] += 1\n",
        "    return np.argmax(preds)\n",
        "\n",
        "if Config.NUM_FOLDS > 1:\n",
        "    df_test[\"genre_id\"] = df_test.apply(lambda row:combine_preds(row), axis=1)\n",
        "df_test.to_csv(Config.DATA_ROOT_FOLDER + \"test_fold_preds.csv\")    "
      ],
      "metadata": {
        "id": "SgsoHZeSWzwK"
      },
      "execution_count": 50,
      "outputs": []
    },
    {
      "cell_type": "code",
      "source": [
        "# with torch.no_grad():    \n",
        "#   for id, X in tqdm(dl_test):\n",
        "#     id = id.cpu().detach().numpy()        \n",
        "#     y_preds = best_model(X.to(Config.DEVICE))\n",
        "#     y_preds_np = y_preds.cpu().detach().numpy()    \n",
        "#     if optimal_proba is not None:          \n",
        "#       test_genre_id = [get_pred(pred, optimal_proba) for pred in y_preds_np]\n",
        "#     else:\n",
        "#       test_genre_id = np.argmax(y_preds_np, axis=1)                  \n",
        "#     df_test.loc[id, \"genre_id\"] = test_genre_id        "
      ],
      "metadata": {
        "execution": {
          "iopub.status.busy": "2022-04-10T14:07:59.012675Z",
          "iopub.execute_input": "2022-04-10T14:07:59.013228Z",
          "iopub.status.idle": "2022-04-10T14:11:57.277505Z",
          "shell.execute_reply.started": "2022-04-10T14:07:59.013188Z",
          "shell.execute_reply": "2022-04-10T14:11:57.276822Z"
        },
        "trusted": true,
        "id": "E3ucENabCjg_"
      },
      "execution_count": 51,
      "outputs": []
    },
    {
      "cell_type": "code",
      "source": [
        "df_test = df_test[df_test.genre_id.notnull()]"
      ],
      "metadata": {
        "execution": {
          "iopub.status.busy": "2022-04-10T14:11:57.278851Z",
          "iopub.execute_input": "2022-04-10T14:11:57.279217Z",
          "iopub.status.idle": "2022-04-10T14:11:57.286985Z",
          "shell.execute_reply.started": "2022-04-10T14:11:57.279180Z",
          "shell.execute_reply": "2022-04-10T14:11:57.286300Z"
        },
        "trusted": true,
        "id": "QbFmxTZ_Cjg_"
      },
      "execution_count": 52,
      "outputs": []
    },
    {
      "cell_type": "code",
      "source": [
        "# from df_test, group by song_id count(genre_id), select song_id and max count(genre_id)\n",
        "# this will be new df_test with a unique combination of song_id and genre_id\n",
        "\n",
        "# group by song_id, genre_id and get the count of each group (under mel_spec column)\n",
        "df_test_new1 = df_test.groupby([\"song_id\", \"genre_id\"], as_index=False)[\"mel_spec\"].count()\n",
        "# for each song_id get the max count (of mel_spec which is a proxy for genre_id).\n",
        "# df_test_new2 thus has song_id and the max count of genre_id\n",
        "df_test_new2 = df_test_new1.groupby([\"song_id\"], as_index=False)[[\"mel_spec\"]].max()\n",
        "# join the above two dataframes on song_id and max count to get the genre_id with max_count\n",
        "df_test_final = pd.merge(\n",
        "    left=df_test_new1,\n",
        "    right=df_test_new2,\n",
        "    how=\"inner\",\n",
        "    on=[\"song_id\", \"mel_spec\"]\n",
        ")\n",
        "print(f\"len(df_test_final) = {len(df_test_final)}\")\n",
        "df_test_final.head()"
      ],
      "metadata": {
        "execution": {
          "iopub.status.busy": "2022-04-10T14:11:57.288329Z",
          "iopub.execute_input": "2022-04-10T14:11:57.288817Z",
          "iopub.status.idle": "2022-04-10T14:11:57.324895Z",
          "shell.execute_reply.started": "2022-04-10T14:11:57.288781Z",
          "shell.execute_reply": "2022-04-10T14:11:57.324235Z"
        },
        "trusted": true,
        "id": "eJ9ZU8HHCjhA",
        "colab": {
          "base_uri": "https://localhost:8080/",
          "height": 223
        },
        "outputId": "f27c118e-841d-4b31-883a-626edd80254d"
      },
      "execution_count": 53,
      "outputs": [
        {
          "output_type": "stream",
          "name": "stdout",
          "text": [
            "len(df_test_final) = 5774\n"
          ]
        },
        {
          "output_type": "execute_result",
          "data": {
            "text/plain": [
              "   song_id  genre_id  mel_spec\n",
              "0        3       3.0         2\n",
              "1        3       4.0         2\n",
              "2        6      11.0         3\n",
              "3        8       1.0         4\n",
              "4       11       2.0         2"
            ],
            "text/html": [
              "\n",
              "  <div id=\"df-565aac01-efd4-4b37-a2d8-17cb0bfff648\">\n",
              "    <div class=\"colab-df-container\">\n",
              "      <div>\n",
              "<style scoped>\n",
              "    .dataframe tbody tr th:only-of-type {\n",
              "        vertical-align: middle;\n",
              "    }\n",
              "\n",
              "    .dataframe tbody tr th {\n",
              "        vertical-align: top;\n",
              "    }\n",
              "\n",
              "    .dataframe thead th {\n",
              "        text-align: right;\n",
              "    }\n",
              "</style>\n",
              "<table border=\"1\" class=\"dataframe\">\n",
              "  <thead>\n",
              "    <tr style=\"text-align: right;\">\n",
              "      <th></th>\n",
              "      <th>song_id</th>\n",
              "      <th>genre_id</th>\n",
              "      <th>mel_spec</th>\n",
              "    </tr>\n",
              "  </thead>\n",
              "  <tbody>\n",
              "    <tr>\n",
              "      <th>0</th>\n",
              "      <td>3</td>\n",
              "      <td>3.0</td>\n",
              "      <td>2</td>\n",
              "    </tr>\n",
              "    <tr>\n",
              "      <th>1</th>\n",
              "      <td>3</td>\n",
              "      <td>4.0</td>\n",
              "      <td>2</td>\n",
              "    </tr>\n",
              "    <tr>\n",
              "      <th>2</th>\n",
              "      <td>6</td>\n",
              "      <td>11.0</td>\n",
              "      <td>3</td>\n",
              "    </tr>\n",
              "    <tr>\n",
              "      <th>3</th>\n",
              "      <td>8</td>\n",
              "      <td>1.0</td>\n",
              "      <td>4</td>\n",
              "    </tr>\n",
              "    <tr>\n",
              "      <th>4</th>\n",
              "      <td>11</td>\n",
              "      <td>2.0</td>\n",
              "      <td>2</td>\n",
              "    </tr>\n",
              "  </tbody>\n",
              "</table>\n",
              "</div>\n",
              "      <button class=\"colab-df-convert\" onclick=\"convertToInteractive('df-565aac01-efd4-4b37-a2d8-17cb0bfff648')\"\n",
              "              title=\"Convert this dataframe to an interactive table.\"\n",
              "              style=\"display:none;\">\n",
              "        \n",
              "  <svg xmlns=\"http://www.w3.org/2000/svg\" height=\"24px\"viewBox=\"0 0 24 24\"\n",
              "       width=\"24px\">\n",
              "    <path d=\"M0 0h24v24H0V0z\" fill=\"none\"/>\n",
              "    <path d=\"M18.56 5.44l.94 2.06.94-2.06 2.06-.94-2.06-.94-.94-2.06-.94 2.06-2.06.94zm-11 1L8.5 8.5l.94-2.06 2.06-.94-2.06-.94L8.5 2.5l-.94 2.06-2.06.94zm10 10l.94 2.06.94-2.06 2.06-.94-2.06-.94-.94-2.06-.94 2.06-2.06.94z\"/><path d=\"M17.41 7.96l-1.37-1.37c-.4-.4-.92-.59-1.43-.59-.52 0-1.04.2-1.43.59L10.3 9.45l-7.72 7.72c-.78.78-.78 2.05 0 2.83L4 21.41c.39.39.9.59 1.41.59.51 0 1.02-.2 1.41-.59l7.78-7.78 2.81-2.81c.8-.78.8-2.07 0-2.86zM5.41 20L4 18.59l7.72-7.72 1.47 1.35L5.41 20z\"/>\n",
              "  </svg>\n",
              "      </button>\n",
              "      \n",
              "  <style>\n",
              "    .colab-df-container {\n",
              "      display:flex;\n",
              "      flex-wrap:wrap;\n",
              "      gap: 12px;\n",
              "    }\n",
              "\n",
              "    .colab-df-convert {\n",
              "      background-color: #E8F0FE;\n",
              "      border: none;\n",
              "      border-radius: 50%;\n",
              "      cursor: pointer;\n",
              "      display: none;\n",
              "      fill: #1967D2;\n",
              "      height: 32px;\n",
              "      padding: 0 0 0 0;\n",
              "      width: 32px;\n",
              "    }\n",
              "\n",
              "    .colab-df-convert:hover {\n",
              "      background-color: #E2EBFA;\n",
              "      box-shadow: 0px 1px 2px rgba(60, 64, 67, 0.3), 0px 1px 3px 1px rgba(60, 64, 67, 0.15);\n",
              "      fill: #174EA6;\n",
              "    }\n",
              "\n",
              "    [theme=dark] .colab-df-convert {\n",
              "      background-color: #3B4455;\n",
              "      fill: #D2E3FC;\n",
              "    }\n",
              "\n",
              "    [theme=dark] .colab-df-convert:hover {\n",
              "      background-color: #434B5C;\n",
              "      box-shadow: 0px 1px 3px 1px rgba(0, 0, 0, 0.15);\n",
              "      filter: drop-shadow(0px 1px 2px rgba(0, 0, 0, 0.3));\n",
              "      fill: #FFFFFF;\n",
              "    }\n",
              "  </style>\n",
              "\n",
              "      <script>\n",
              "        const buttonEl =\n",
              "          document.querySelector('#df-565aac01-efd4-4b37-a2d8-17cb0bfff648 button.colab-df-convert');\n",
              "        buttonEl.style.display =\n",
              "          google.colab.kernel.accessAllowed ? 'block' : 'none';\n",
              "\n",
              "        async function convertToInteractive(key) {\n",
              "          const element = document.querySelector('#df-565aac01-efd4-4b37-a2d8-17cb0bfff648');\n",
              "          const dataTable =\n",
              "            await google.colab.kernel.invokeFunction('convertToInteractive',\n",
              "                                                     [key], {});\n",
              "          if (!dataTable) return;\n",
              "\n",
              "          const docLinkHtml = 'Like what you see? Visit the ' +\n",
              "            '<a target=\"_blank\" href=https://colab.research.google.com/notebooks/data_table.ipynb>data table notebook</a>'\n",
              "            + ' to learn more about interactive tables.';\n",
              "          element.innerHTML = '';\n",
              "          dataTable['output_type'] = 'display_data';\n",
              "          await google.colab.output.renderOutput(dataTable, element);\n",
              "          const docLink = document.createElement('div');\n",
              "          docLink.innerHTML = docLinkHtml;\n",
              "          element.appendChild(docLink);\n",
              "        }\n",
              "      </script>\n",
              "    </div>\n",
              "  </div>\n",
              "  "
            ]
          },
          "metadata": {},
          "execution_count": 53
        }
      ]
    },
    {
      "cell_type": "code",
      "source": [
        "df_test_final = df_test_final.groupby([\"song_id\", \"mel_spec\"], as_index=False)[\"genre_id\"].max()\n",
        "print(f\"len(df_test_final) = {len(df_test_final)}\")"
      ],
      "metadata": {
        "execution": {
          "iopub.status.busy": "2022-04-10T14:11:57.326181Z",
          "iopub.execute_input": "2022-04-10T14:11:57.326646Z",
          "iopub.status.idle": "2022-04-10T14:11:57.338129Z",
          "shell.execute_reply.started": "2022-04-10T14:11:57.326610Z",
          "shell.execute_reply": "2022-04-10T14:11:57.337381Z"
        },
        "trusted": true,
        "id": "bUZZyUXwCjhA",
        "colab": {
          "base_uri": "https://localhost:8080/"
        },
        "outputId": "8f6c4458-69da-477f-ec4c-b6677af97e5d"
      },
      "execution_count": 54,
      "outputs": [
        {
          "output_type": "stream",
          "name": "stdout",
          "text": [
            "len(df_test_final) = 5076\n"
          ]
        }
      ]
    },
    {
      "cell_type": "code",
      "source": [
        "df_invalid = df_subm_test[df_subm_test.filename.isnull()][[\"song_id\", \"genre_id\"]]\n",
        "df_preds = pd.concat([df_test_final[[\"song_id\", \"genre_id\"]], df_invalid], axis=0)\n",
        "df_preds.genre_id = df_preds.genre_id.astype(int)\n",
        "print(f\"len(df_test_final) = {len(df_test_final)}\")\n",
        "print(f\"len(df_preds) = {len(df_preds)}\")"
      ],
      "metadata": {
        "execution": {
          "iopub.status.busy": "2022-04-10T14:11:57.340360Z",
          "iopub.execute_input": "2022-04-10T14:11:57.340668Z",
          "iopub.status.idle": "2022-04-10T14:11:57.356578Z",
          "shell.execute_reply.started": "2022-04-10T14:11:57.340635Z",
          "shell.execute_reply": "2022-04-10T14:11:57.355919Z"
        },
        "trusted": true,
        "id": "PHmmDiYPCjhA",
        "colab": {
          "base_uri": "https://localhost:8080/"
        },
        "outputId": "a1ff88e9-a9fa-498f-98c9-1f30fd87b99d"
      },
      "execution_count": 55,
      "outputs": [
        {
          "output_type": "stream",
          "name": "stdout",
          "text": [
            "len(df_test_final) = 5076\n",
            "len(df_preds) = 5078\n"
          ]
        }
      ]
    },
    {
      "cell_type": "code",
      "source": [
        "df_preds.head()"
      ],
      "metadata": {
        "execution": {
          "iopub.status.busy": "2022-04-10T14:11:57.357558Z",
          "iopub.execute_input": "2022-04-10T14:11:57.357746Z",
          "iopub.status.idle": "2022-04-10T14:11:57.365553Z",
          "shell.execute_reply.started": "2022-04-10T14:11:57.357724Z",
          "shell.execute_reply": "2022-04-10T14:11:57.364802Z"
        },
        "trusted": true,
        "id": "JibNykBGCjhA",
        "colab": {
          "base_uri": "https://localhost:8080/",
          "height": 206
        },
        "outputId": "e8e0d103-a194-41a8-a890-a5e7d06b2567"
      },
      "execution_count": 56,
      "outputs": [
        {
          "output_type": "execute_result",
          "data": {
            "text/plain": [
              "   song_id  genre_id\n",
              "0        3         4\n",
              "1        6        11\n",
              "2        8         1\n",
              "3       11         2\n",
              "4       17         5"
            ],
            "text/html": [
              "\n",
              "  <div id=\"df-05c2deea-975f-45e4-99ff-2a9702e1a6e0\">\n",
              "    <div class=\"colab-df-container\">\n",
              "      <div>\n",
              "<style scoped>\n",
              "    .dataframe tbody tr th:only-of-type {\n",
              "        vertical-align: middle;\n",
              "    }\n",
              "\n",
              "    .dataframe tbody tr th {\n",
              "        vertical-align: top;\n",
              "    }\n",
              "\n",
              "    .dataframe thead th {\n",
              "        text-align: right;\n",
              "    }\n",
              "</style>\n",
              "<table border=\"1\" class=\"dataframe\">\n",
              "  <thead>\n",
              "    <tr style=\"text-align: right;\">\n",
              "      <th></th>\n",
              "      <th>song_id</th>\n",
              "      <th>genre_id</th>\n",
              "    </tr>\n",
              "  </thead>\n",
              "  <tbody>\n",
              "    <tr>\n",
              "      <th>0</th>\n",
              "      <td>3</td>\n",
              "      <td>4</td>\n",
              "    </tr>\n",
              "    <tr>\n",
              "      <th>1</th>\n",
              "      <td>6</td>\n",
              "      <td>11</td>\n",
              "    </tr>\n",
              "    <tr>\n",
              "      <th>2</th>\n",
              "      <td>8</td>\n",
              "      <td>1</td>\n",
              "    </tr>\n",
              "    <tr>\n",
              "      <th>3</th>\n",
              "      <td>11</td>\n",
              "      <td>2</td>\n",
              "    </tr>\n",
              "    <tr>\n",
              "      <th>4</th>\n",
              "      <td>17</td>\n",
              "      <td>5</td>\n",
              "    </tr>\n",
              "  </tbody>\n",
              "</table>\n",
              "</div>\n",
              "      <button class=\"colab-df-convert\" onclick=\"convertToInteractive('df-05c2deea-975f-45e4-99ff-2a9702e1a6e0')\"\n",
              "              title=\"Convert this dataframe to an interactive table.\"\n",
              "              style=\"display:none;\">\n",
              "        \n",
              "  <svg xmlns=\"http://www.w3.org/2000/svg\" height=\"24px\"viewBox=\"0 0 24 24\"\n",
              "       width=\"24px\">\n",
              "    <path d=\"M0 0h24v24H0V0z\" fill=\"none\"/>\n",
              "    <path d=\"M18.56 5.44l.94 2.06.94-2.06 2.06-.94-2.06-.94-.94-2.06-.94 2.06-2.06.94zm-11 1L8.5 8.5l.94-2.06 2.06-.94-2.06-.94L8.5 2.5l-.94 2.06-2.06.94zm10 10l.94 2.06.94-2.06 2.06-.94-2.06-.94-.94-2.06-.94 2.06-2.06.94z\"/><path d=\"M17.41 7.96l-1.37-1.37c-.4-.4-.92-.59-1.43-.59-.52 0-1.04.2-1.43.59L10.3 9.45l-7.72 7.72c-.78.78-.78 2.05 0 2.83L4 21.41c.39.39.9.59 1.41.59.51 0 1.02-.2 1.41-.59l7.78-7.78 2.81-2.81c.8-.78.8-2.07 0-2.86zM5.41 20L4 18.59l7.72-7.72 1.47 1.35L5.41 20z\"/>\n",
              "  </svg>\n",
              "      </button>\n",
              "      \n",
              "  <style>\n",
              "    .colab-df-container {\n",
              "      display:flex;\n",
              "      flex-wrap:wrap;\n",
              "      gap: 12px;\n",
              "    }\n",
              "\n",
              "    .colab-df-convert {\n",
              "      background-color: #E8F0FE;\n",
              "      border: none;\n",
              "      border-radius: 50%;\n",
              "      cursor: pointer;\n",
              "      display: none;\n",
              "      fill: #1967D2;\n",
              "      height: 32px;\n",
              "      padding: 0 0 0 0;\n",
              "      width: 32px;\n",
              "    }\n",
              "\n",
              "    .colab-df-convert:hover {\n",
              "      background-color: #E2EBFA;\n",
              "      box-shadow: 0px 1px 2px rgba(60, 64, 67, 0.3), 0px 1px 3px 1px rgba(60, 64, 67, 0.15);\n",
              "      fill: #174EA6;\n",
              "    }\n",
              "\n",
              "    [theme=dark] .colab-df-convert {\n",
              "      background-color: #3B4455;\n",
              "      fill: #D2E3FC;\n",
              "    }\n",
              "\n",
              "    [theme=dark] .colab-df-convert:hover {\n",
              "      background-color: #434B5C;\n",
              "      box-shadow: 0px 1px 3px 1px rgba(0, 0, 0, 0.15);\n",
              "      filter: drop-shadow(0px 1px 2px rgba(0, 0, 0, 0.3));\n",
              "      fill: #FFFFFF;\n",
              "    }\n",
              "  </style>\n",
              "\n",
              "      <script>\n",
              "        const buttonEl =\n",
              "          document.querySelector('#df-05c2deea-975f-45e4-99ff-2a9702e1a6e0 button.colab-df-convert');\n",
              "        buttonEl.style.display =\n",
              "          google.colab.kernel.accessAllowed ? 'block' : 'none';\n",
              "\n",
              "        async function convertToInteractive(key) {\n",
              "          const element = document.querySelector('#df-05c2deea-975f-45e4-99ff-2a9702e1a6e0');\n",
              "          const dataTable =\n",
              "            await google.colab.kernel.invokeFunction('convertToInteractive',\n",
              "                                                     [key], {});\n",
              "          if (!dataTable) return;\n",
              "\n",
              "          const docLinkHtml = 'Like what you see? Visit the ' +\n",
              "            '<a target=\"_blank\" href=https://colab.research.google.com/notebooks/data_table.ipynb>data table notebook</a>'\n",
              "            + ' to learn more about interactive tables.';\n",
              "          element.innerHTML = '';\n",
              "          dataTable['output_type'] = 'display_data';\n",
              "          await google.colab.output.renderOutput(dataTable, element);\n",
              "          const docLink = document.createElement('div');\n",
              "          docLink.innerHTML = docLinkHtml;\n",
              "          element.appendChild(docLink);\n",
              "        }\n",
              "      </script>\n",
              "    </div>\n",
              "  </div>\n",
              "  "
            ]
          },
          "metadata": {},
          "execution_count": 56
        }
      ]
    },
    {
      "cell_type": "code",
      "source": [
        "df_preds.to_csv(Config.DATA_ROOT_FOLDER + \"model/CV/AUG_RESNEXT50/submission_resnext50_aug_bestfold.csv\", index=False)"
      ],
      "metadata": {
        "execution": {
          "iopub.status.busy": "2022-04-10T14:11:57.366739Z",
          "iopub.execute_input": "2022-04-10T14:11:57.367634Z",
          "iopub.status.idle": "2022-04-10T14:11:57.384371Z",
          "shell.execute_reply.started": "2022-04-10T14:11:57.367590Z",
          "shell.execute_reply": "2022-04-10T14:11:57.383718Z"
        },
        "trusted": true,
        "id": "m9Z8RZh0CjhB"
      },
      "execution_count": 57,
      "outputs": []
    }
  ]
}