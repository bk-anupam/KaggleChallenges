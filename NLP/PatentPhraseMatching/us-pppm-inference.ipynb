{
 "cells": [
  {
   "cell_type": "code",
   "execution_count": 1,
   "id": "c3d5d275",
   "metadata": {
    "_cell_guid": "b1076dfc-b9ad-4769-8c92-a6c4dae69d19",
    "_uuid": "8f2839f25d086af736a60e9eeb907d3b93b6e0e5",
    "execution": {
     "iopub.execute_input": "2022-06-10T13:31:14.583603Z",
     "iopub.status.busy": "2022-06-10T13:31:14.582906Z",
     "iopub.status.idle": "2022-06-10T13:31:22.077110Z",
     "shell.execute_reply": "2022-06-10T13:31:22.076330Z"
    },
    "papermill": {
     "duration": 7.502213,
     "end_time": "2022-06-10T13:31:22.079252",
     "exception": false,
     "start_time": "2022-06-10T13:31:14.577039",
     "status": "completed"
    },
    "tags": []
   },
   "outputs": [],
   "source": [
    "import numpy as np\n",
    "import pandas as pd\n",
    "import torch\n",
    "import os\n",
    "from sklearn.model_selection import StratifiedKFold\n",
    "from datasets import Dataset\n",
    "from torch.utils.data import DataLoader\n",
    "from transformers import AutoModelForSequenceClassification\n",
    "from transformers import TrainingArguments, Trainer\n",
    "from transformers import AutoTokenizer, DataCollatorWithPadding\n",
    "from functools import partial\n",
    "import torch.multiprocessing as mp\n",
    "import warnings\n",
    "\n",
    "warnings.filterwarnings('ignore')\n"
   ]
  },
  {
   "cell_type": "code",
   "execution_count": 2,
   "id": "0c79b912",
   "metadata": {
    "execution": {
     "iopub.execute_input": "2022-06-10T13:31:22.090212Z",
     "iopub.status.busy": "2022-06-10T13:31:22.089725Z",
     "iopub.status.idle": "2022-06-10T13:31:22.149260Z",
     "shell.execute_reply": "2022-06-10T13:31:22.148507Z"
    },
    "papermill": {
     "duration": 0.065798,
     "end_time": "2022-06-10T13:31:22.151025",
     "exception": false,
     "start_time": "2022-06-10T13:31:22.085227",
     "status": "completed"
    },
    "tags": []
   },
   "outputs": [],
   "source": [
    "class Models:\n",
    "    DEBERTA_V2_XLARGE = \"deberta-v2-xlarge\"\n",
    "\n",
    "class TrainingArgs:\n",
    "    weight_decay = 0.01\n",
    "    learning_rate = 2e-5  \n",
    "    warmup_ratio = 0.1\n",
    "    gradient_accumulation_steps = 8\n",
    "    fp16 = True\n",
    "    lr_scheduler_type = \"cosine\"\n",
    "\n",
    "class Config:\n",
    "    DATA_PATH = \"/kaggle/input/us-patent-phrase-to-phrase-matching/\"\n",
    "    RANDOM_STATE = 42\n",
    "    BATCH_SIZE = 16\n",
    "    NUM_LABELS = 1\n",
    "    NUM_FOLDS = 5\n",
    "    NUM_EPOCHS = 4\n",
    "    NUM_WORKERS = mp.cpu_count()\n",
    "    TRANSFORMER_CHECKPOINT = \"microsoft/deberta-v2-xlarge\"\n",
    "    DEVICE = torch.device('cuda' if torch.cuda.is_available() else 'cpu')    \n",
    "\n",
    "model_paths = {\n",
    "    \"deberta-v2-xlarge\": f\"/kaggle/input/anu-uspppm-deberta-v2-xlarge2/deberta-v2-xlarge/\"\n",
    "}\n",
    "\n",
    "os.environ[\"TOKENIZERS_PARALLELISM\"] = \"false\""
   ]
  },
  {
   "cell_type": "code",
   "execution_count": 3,
   "id": "809b539c",
   "metadata": {
    "execution": {
     "iopub.execute_input": "2022-06-10T13:31:22.159161Z",
     "iopub.status.busy": "2022-06-10T13:31:22.158883Z",
     "iopub.status.idle": "2022-06-10T13:31:22.927451Z",
     "shell.execute_reply": "2022-06-10T13:31:22.926627Z"
    },
    "papermill": {
     "duration": 0.775173,
     "end_time": "2022-06-10T13:31:22.929777",
     "exception": false,
     "start_time": "2022-06-10T13:31:22.154604",
     "status": "completed"
    },
    "tags": []
   },
   "outputs": [],
   "source": [
    "df_train = pd.read_csv(Config.DATA_PATH + \"train.csv\")\n",
    "df_test = pd.read_csv(Config.DATA_PATH + \"test.csv\")\n",
    "df_titles = pd.read_csv(\"/kaggle/input/cpc-codes/titles.csv\")"
   ]
  },
  {
   "cell_type": "code",
   "execution_count": 4,
   "id": "c64fa101",
   "metadata": {
    "execution": {
     "iopub.execute_input": "2022-06-10T13:31:22.938262Z",
     "iopub.status.busy": "2022-06-10T13:31:22.937970Z",
     "iopub.status.idle": "2022-06-10T13:31:23.044702Z",
     "shell.execute_reply": "2022-06-10T13:31:23.043929Z"
    },
    "papermill": {
     "duration": 0.113364,
     "end_time": "2022-06-10T13:31:23.046971",
     "exception": false,
     "start_time": "2022-06-10T13:31:22.933607",
     "status": "completed"
    },
    "tags": []
   },
   "outputs": [],
   "source": [
    "df_test = pd.merge(\n",
    "    left = df_test,\n",
    "    right = df_titles[[\"code\", \"title\"]],\n",
    "    how = \"inner\",\n",
    "    left_on = \"context\",\n",
    "    right_on = \"code\"\n",
    ")"
   ]
  },
  {
   "cell_type": "code",
   "execution_count": 5,
   "id": "4be659bc",
   "metadata": {
    "execution": {
     "iopub.execute_input": "2022-06-10T13:31:23.055536Z",
     "iopub.status.busy": "2022-06-10T13:31:23.055235Z",
     "iopub.status.idle": "2022-06-10T13:31:23.761607Z",
     "shell.execute_reply": "2022-06-10T13:31:23.760781Z"
    },
    "papermill": {
     "duration": 0.712879,
     "end_time": "2022-06-10T13:31:23.763642",
     "exception": false,
     "start_time": "2022-06-10T13:31:23.050763",
     "status": "completed"
    },
    "tags": []
   },
   "outputs": [],
   "source": [
    "tokenizer_path = \"/kaggle/input/anu-uspppm-deberta-v2-xlarge2/deberta-v2-xlarge/fold0/\"\n",
    "tokenizer = AutoTokenizer.from_pretrained(tokenizer_path, local_files_only=True)\n",
    "# DataCollatorWithPadding pads each batch to the longest sequence length\n",
    "data_collator = DataCollatorWithPadding(tokenizer=tokenizer)"
   ]
  },
  {
   "cell_type": "code",
   "execution_count": 6,
   "id": "48589a63",
   "metadata": {
    "execution": {
     "iopub.execute_input": "2022-06-10T13:31:23.772995Z",
     "iopub.status.busy": "2022-06-10T13:31:23.772042Z",
     "iopub.status.idle": "2022-06-10T13:31:23.822394Z",
     "shell.execute_reply": "2022-06-10T13:31:23.821543Z"
    },
    "papermill": {
     "duration": 0.058444,
     "end_time": "2022-06-10T13:31:23.825933",
     "exception": false,
     "start_time": "2022-06-10T13:31:23.767489",
     "status": "completed"
    },
    "tags": []
   },
   "outputs": [
    {
     "name": "stdout",
     "output_type": "stream",
     "text": [
      "addn_special_tokens = ['[E]', '[A]', '[F]', '[B]', '[H]', '[D]', '[C]', '[G]', '[s]']\n"
     ]
    },
    {
     "data": {
      "text/plain": [
       "0"
      ]
     },
     "execution_count": 6,
     "metadata": {},
     "output_type": "execute_result"
    }
   ],
   "source": [
    "df_train[\"section\"] = df_train.context.str[0]\n",
    "df_test[\"section\"] = df_test.context.str[0]\n",
    "df_train['sectok'] = '[' + df_train.section + ']'\n",
    "df_test['sectok'] = '[' + df_test.section + ']'\n",
    "train_sectoks = set(df_train.sectok.unique())\n",
    "test_sectoks = set(df_test.sectok.unique())\n",
    "sep = '[s]'\n",
    "addn_special_tokens = list(train_sectoks.union(test_sectoks))\n",
    "addn_special_tokens.append(sep)\n",
    "print(f\"addn_special_tokens = {addn_special_tokens}\")\n",
    "tokenizer.add_special_tokens({'additional_special_tokens': addn_special_tokens})"
   ]
  },
  {
   "cell_type": "code",
   "execution_count": 7,
   "id": "b801759f",
   "metadata": {
    "execution": {
     "iopub.execute_input": "2022-06-10T13:31:23.834495Z",
     "iopub.status.busy": "2022-06-10T13:31:23.834232Z",
     "iopub.status.idle": "2022-06-10T13:31:23.856413Z",
     "shell.execute_reply": "2022-06-10T13:31:23.855588Z"
    },
    "papermill": {
     "duration": 0.028486,
     "end_time": "2022-06-10T13:31:23.858182",
     "exception": false,
     "start_time": "2022-06-10T13:31:23.829696",
     "status": "completed"
    },
    "tags": []
   },
   "outputs": [
    {
     "data": {
      "text/html": [
       "<div>\n",
       "<style scoped>\n",
       "    .dataframe tbody tr th:only-of-type {\n",
       "        vertical-align: middle;\n",
       "    }\n",
       "\n",
       "    .dataframe tbody tr th {\n",
       "        vertical-align: top;\n",
       "    }\n",
       "\n",
       "    .dataframe thead th {\n",
       "        text-align: right;\n",
       "    }\n",
       "</style>\n",
       "<table border=\"1\" class=\"dataframe\">\n",
       "  <thead>\n",
       "    <tr style=\"text-align: right;\">\n",
       "      <th></th>\n",
       "      <th>id</th>\n",
       "      <th>anchor</th>\n",
       "      <th>target</th>\n",
       "      <th>context</th>\n",
       "      <th>code</th>\n",
       "      <th>title</th>\n",
       "      <th>section</th>\n",
       "      <th>sectok</th>\n",
       "      <th>inputs</th>\n",
       "    </tr>\n",
       "  </thead>\n",
       "  <tbody>\n",
       "    <tr>\n",
       "      <th>0</th>\n",
       "      <td>4112d61851461f60</td>\n",
       "      <td>opc drum</td>\n",
       "      <td>inorganic photoconductor drum</td>\n",
       "      <td>G02</td>\n",
       "      <td>G02</td>\n",
       "      <td>OPTICS</td>\n",
       "      <td>G</td>\n",
       "      <td>[G]</td>\n",
       "      <td>[G][s]opc drum[s]inorganic photoconductor drum...</td>\n",
       "    </tr>\n",
       "    <tr>\n",
       "      <th>1</th>\n",
       "      <td>5203a36c501f1b7c</td>\n",
       "      <td>generate in layer</td>\n",
       "      <td>generate by layer</td>\n",
       "      <td>G02</td>\n",
       "      <td>G02</td>\n",
       "      <td>OPTICS</td>\n",
       "      <td>G</td>\n",
       "      <td>[G]</td>\n",
       "      <td>[G][s]generate in layer[s]generate by layer[s]...</td>\n",
       "    </tr>\n",
       "    <tr>\n",
       "      <th>2</th>\n",
       "      <td>7aa5908a77a7ec24</td>\n",
       "      <td>el display</td>\n",
       "      <td>illumination</td>\n",
       "      <td>G02</td>\n",
       "      <td>G02</td>\n",
       "      <td>OPTICS</td>\n",
       "      <td>G</td>\n",
       "      <td>[G]</td>\n",
       "      <td>[G][s]el display[s]illumination[s]OPTICS</td>\n",
       "    </tr>\n",
       "    <tr>\n",
       "      <th>3</th>\n",
       "      <td>09e418c93a776564</td>\n",
       "      <td>adjust gas flow</td>\n",
       "      <td>altering gas flow</td>\n",
       "      <td>F23</td>\n",
       "      <td>F23</td>\n",
       "      <td>COMBUSTION APPARATUS; COMBUSTION PROCESSES</td>\n",
       "      <td>F</td>\n",
       "      <td>[F]</td>\n",
       "      <td>[F][s]adjust gas flow[s]altering gas flow[s]CO...</td>\n",
       "    </tr>\n",
       "    <tr>\n",
       "      <th>4</th>\n",
       "      <td>36baf228038e314b</td>\n",
       "      <td>lower trunnion</td>\n",
       "      <td>lower locating</td>\n",
       "      <td>B60</td>\n",
       "      <td>B60</td>\n",
       "      <td>VEHICLES IN GENERAL</td>\n",
       "      <td>B</td>\n",
       "      <td>[B]</td>\n",
       "      <td>[B][s]lower trunnion[s]lower locating[s]VEHICL...</td>\n",
       "    </tr>\n",
       "  </tbody>\n",
       "</table>\n",
       "</div>"
      ],
      "text/plain": [
       "                 id             anchor                         target context  \\\n",
       "0  4112d61851461f60           opc drum  inorganic photoconductor drum     G02   \n",
       "1  5203a36c501f1b7c  generate in layer              generate by layer     G02   \n",
       "2  7aa5908a77a7ec24         el display                   illumination     G02   \n",
       "3  09e418c93a776564    adjust gas flow              altering gas flow     F23   \n",
       "4  36baf228038e314b     lower trunnion                 lower locating     B60   \n",
       "\n",
       "  code                                       title section sectok  \\\n",
       "0  G02                                      OPTICS       G    [G]   \n",
       "1  G02                                      OPTICS       G    [G]   \n",
       "2  G02                                      OPTICS       G    [G]   \n",
       "3  F23  COMBUSTION APPARATUS; COMBUSTION PROCESSES       F    [F]   \n",
       "4  B60                         VEHICLES IN GENERAL       B    [B]   \n",
       "\n",
       "                                              inputs  \n",
       "0  [G][s]opc drum[s]inorganic photoconductor drum...  \n",
       "1  [G][s]generate in layer[s]generate by layer[s]...  \n",
       "2           [G][s]el display[s]illumination[s]OPTICS  \n",
       "3  [F][s]adjust gas flow[s]altering gas flow[s]CO...  \n",
       "4  [B][s]lower trunnion[s]lower locating[s]VEHICL...  "
      ]
     },
     "execution_count": 7,
     "metadata": {},
     "output_type": "execute_result"
    }
   ],
   "source": [
    "df_test[\"inputs\"] = df_test.sectok + sep + df_test.anchor + sep + df_test.target + sep + df_test.title \n",
    "df_test.head()"
   ]
  },
  {
   "cell_type": "code",
   "execution_count": 8,
   "id": "7d69e0ea",
   "metadata": {
    "execution": {
     "iopub.execute_input": "2022-06-10T13:31:23.866849Z",
     "iopub.status.busy": "2022-06-10T13:31:23.866592Z",
     "iopub.status.idle": "2022-06-10T13:31:23.870755Z",
     "shell.execute_reply": "2022-06-10T13:31:23.870033Z"
    },
    "papermill": {
     "duration": 0.010334,
     "end_time": "2022-06-10T13:31:23.872353",
     "exception": false,
     "start_time": "2022-06-10T13:31:23.862019",
     "status": "completed"
    },
    "tags": []
   },
   "outputs": [],
   "source": [
    "def tokenize_text(tokenizer, with_labels, row):\n",
    "    encoding = tokenizer(\n",
    "        text = row[\"inputs\"],\n",
    "        padding = False,\n",
    "        truncation = True\n",
    "    )\n",
    "    if with_labels:\n",
    "        encoding[\"labels\"] = row[\"score\"]\n",
    "    return encoding"
   ]
  },
  {
   "cell_type": "code",
   "execution_count": 9,
   "id": "64eccd11",
   "metadata": {
    "execution": {
     "iopub.execute_input": "2022-06-10T13:31:23.881040Z",
     "iopub.status.busy": "2022-06-10T13:31:23.880538Z",
     "iopub.status.idle": "2022-06-10T13:31:23.961657Z",
     "shell.execute_reply": "2022-06-10T13:31:23.960965Z"
    },
    "papermill": {
     "duration": 0.087176,
     "end_time": "2022-06-10T13:31:23.963282",
     "exception": false,
     "start_time": "2022-06-10T13:31:23.876106",
     "status": "completed"
    },
    "tags": []
   },
   "outputs": [
    {
     "data": {
      "application/vnd.jupyter.widget-view+json": {
       "model_id": "75c9f98e282a424e8304cf71b13e72f2",
       "version_major": 2,
       "version_minor": 0
      },
      "text/plain": [
       "  0%|          | 0/1 [00:00<?, ?ba/s]"
      ]
     },
     "metadata": {},
     "output_type": "display_data"
    }
   ],
   "source": [
    "preprocess_test_data = partial(tokenize_text, tokenizer, False)  \n",
    "ds_test_raw = Dataset.from_pandas(df_test)\n",
    "raw_ds_col_names = ds_test_raw.column_names  \n",
    "ds_test = ds_test_raw.map(preprocess_test_data, batched=True, batch_size=1000, remove_columns=raw_ds_col_names)  "
   ]
  },
  {
   "cell_type": "code",
   "execution_count": 10,
   "id": "b6e326e9",
   "metadata": {
    "execution": {
     "iopub.execute_input": "2022-06-10T13:31:23.972366Z",
     "iopub.status.busy": "2022-06-10T13:31:23.972123Z",
     "iopub.status.idle": "2022-06-10T13:31:23.976838Z",
     "shell.execute_reply": "2022-06-10T13:31:23.976044Z"
    },
    "papermill": {
     "duration": 0.011141,
     "end_time": "2022-06-10T13:31:23.978471",
     "exception": false,
     "start_time": "2022-06-10T13:31:23.967330",
     "status": "completed"
    },
    "tags": []
   },
   "outputs": [],
   "source": [
    "def get_fold_model(model_path, tokenizer):\n",
    "    model = AutoModelForSequenceClassification.from_pretrained(model_path, local_files_only=True)\n",
    "    tok_vocab = tokenizer.get_vocab()\n",
    "    print(f\"len(tokenizer_vocab) = {len(tok_vocab)}\")\n",
    "    model.resize_token_embeddings(len(tok_vocab))    \n",
    "    model.to(Config.DEVICE)\n",
    "    return model"
   ]
  },
  {
   "cell_type": "code",
   "execution_count": 11,
   "id": "1e442df3",
   "metadata": {
    "execution": {
     "iopub.execute_input": "2022-06-10T13:31:23.987747Z",
     "iopub.status.busy": "2022-06-10T13:31:23.987156Z",
     "iopub.status.idle": "2022-06-10T13:34:39.140406Z",
     "shell.execute_reply": "2022-06-10T13:34:39.138964Z"
    },
    "papermill": {
     "duration": 195.159877,
     "end_time": "2022-06-10T13:34:39.142342",
     "exception": false,
     "start_time": "2022-06-10T13:31:23.982465",
     "status": "completed"
    },
    "tags": []
   },
   "outputs": [
    {
     "name": "stdout",
     "output_type": "stream",
     "text": [
      "model_path = /kaggle/input/anu-uspppm-deberta-v2-xlarge2/deberta-v2-xlarge/fold0/\n",
      "len(tokenizer_vocab) = 128010\n"
     ]
    },
    {
     "name": "stderr",
     "output_type": "stream",
     "text": [
      "***** Running Prediction *****\n",
      "  Num examples = 36\n",
      "  Batch size = 16\n"
     ]
    },
    {
     "data": {
      "text/html": [
       "\n",
       "    <div>\n",
       "      \n",
       "      <progress value='3' max='3' style='width:300px; height:20px; vertical-align: middle;'></progress>\n",
       "      [3/3 00:00]\n",
       "    </div>\n",
       "    "
      ],
      "text/plain": [
       "<IPython.core.display.HTML object>"
      ]
     },
     "metadata": {},
     "output_type": "display_data"
    },
    {
     "name": "stderr",
     "output_type": "stream",
     "text": [
      "loading configuration file /kaggle/input/anu-uspppm-deberta-v2-xlarge2/deberta-v2-xlarge/fold1/config.json\n",
      "Model config DebertaV2Config {\n",
      "  \"_name_or_path\": \"/kaggle/input/anu-uspppm-deberta-v2-xlarge2/deberta-v2-xlarge/fold1/\",\n",
      "  \"architectures\": [\n",
      "    \"DebertaV2ForSequenceClassification\"\n",
      "  ],\n",
      "  \"attention_head_size\": 64,\n",
      "  \"attention_probs_dropout_prob\": 0.1,\n",
      "  \"conv_act\": \"gelu\",\n",
      "  \"conv_kernel_size\": 3,\n",
      "  \"hidden_act\": \"gelu\",\n",
      "  \"hidden_dropout_prob\": 0.1,\n",
      "  \"hidden_size\": 1536,\n",
      "  \"id2label\": {\n",
      "    \"0\": \"LABEL_0\"\n",
      "  },\n",
      "  \"initializer_range\": 0.02,\n",
      "  \"intermediate_size\": 6144,\n",
      "  \"label2id\": {\n",
      "    \"LABEL_0\": 0\n",
      "  },\n",
      "  \"layer_norm_eps\": 1e-07,\n",
      "  \"max_position_embeddings\": 512,\n",
      "  \"max_relative_positions\": -1,\n",
      "  \"model_type\": \"deberta-v2\",\n",
      "  \"norm_rel_ebd\": \"layer_norm\",\n",
      "  \"num_attention_heads\": 24,\n",
      "  \"num_hidden_layers\": 24,\n",
      "  \"pad_token_id\": 0,\n",
      "  \"pooler_dropout\": 0,\n",
      "  \"pooler_hidden_act\": \"gelu\",\n",
      "  \"pooler_hidden_size\": 1536,\n",
      "  \"pos_att_type\": [\n",
      "    \"p2c\",\n",
      "    \"c2p\"\n",
      "  ],\n",
      "  \"position_biased_input\": false,\n",
      "  \"position_buckets\": 256,\n",
      "  \"relative_attention\": true,\n",
      "  \"share_att_key\": true,\n",
      "  \"torch_dtype\": \"float32\",\n",
      "  \"transformers_version\": \"4.18.0\",\n",
      "  \"type_vocab_size\": 0,\n",
      "  \"vocab_size\": 128010\n",
      "}\n",
      "\n",
      "loading weights file /kaggle/input/anu-uspppm-deberta-v2-xlarge2/deberta-v2-xlarge/fold1/pytorch_model.bin\n"
     ]
    },
    {
     "name": "stdout",
     "output_type": "stream",
     "text": [
      "Completed predictions for fold 0\n",
      "model_path = /kaggle/input/anu-uspppm-deberta-v2-xlarge2/deberta-v2-xlarge/fold1/\n"
     ]
    },
    {
     "name": "stderr",
     "output_type": "stream",
     "text": [
      "All model checkpoint weights were used when initializing DebertaV2ForSequenceClassification.\n",
      "\n",
      "All the weights of DebertaV2ForSequenceClassification were initialized from the model checkpoint at /kaggle/input/anu-uspppm-deberta-v2-xlarge2/deberta-v2-xlarge/fold1/.\n",
      "If your task is similar to the task the model of the checkpoint was trained on, you can already use DebertaV2ForSequenceClassification for predictions without further training.\n"
     ]
    },
    {
     "name": "stdout",
     "output_type": "stream",
     "text": [
      "len(tokenizer_vocab) = 128010\n"
     ]
    },
    {
     "name": "stderr",
     "output_type": "stream",
     "text": [
      "PyTorch: setting up devices\n",
      "The default value for the training argument `--report_to` will change in v5 (from all installed integrations to none). In v5, you will need to use `--report_to all` to get the same behavior as now. You should start updating your code and make this info disappear :-).\n",
      "***** Running Prediction *****\n",
      "  Num examples = 36\n",
      "  Batch size = 16\n"
     ]
    },
    {
     "data": {
      "text/html": [
       "\n",
       "    <div>\n",
       "      \n",
       "      <progress value='3' max='3' style='width:300px; height:20px; vertical-align: middle;'></progress>\n",
       "      [3/3 00:00]\n",
       "    </div>\n",
       "    "
      ],
      "text/plain": [
       "<IPython.core.display.HTML object>"
      ]
     },
     "metadata": {},
     "output_type": "display_data"
    },
    {
     "name": "stderr",
     "output_type": "stream",
     "text": [
      "loading configuration file /kaggle/input/anu-uspppm-deberta-v2-xlarge2/deberta-v2-xlarge/fold2/config.json\n",
      "Model config DebertaV2Config {\n",
      "  \"_name_or_path\": \"/kaggle/input/anu-uspppm-deberta-v2-xlarge2/deberta-v2-xlarge/fold2/\",\n",
      "  \"architectures\": [\n",
      "    \"DebertaV2ForSequenceClassification\"\n",
      "  ],\n",
      "  \"attention_head_size\": 64,\n",
      "  \"attention_probs_dropout_prob\": 0.1,\n",
      "  \"conv_act\": \"gelu\",\n",
      "  \"conv_kernel_size\": 3,\n",
      "  \"hidden_act\": \"gelu\",\n",
      "  \"hidden_dropout_prob\": 0.1,\n",
      "  \"hidden_size\": 1536,\n",
      "  \"id2label\": {\n",
      "    \"0\": \"LABEL_0\"\n",
      "  },\n",
      "  \"initializer_range\": 0.02,\n",
      "  \"intermediate_size\": 6144,\n",
      "  \"label2id\": {\n",
      "    \"LABEL_0\": 0\n",
      "  },\n",
      "  \"layer_norm_eps\": 1e-07,\n",
      "  \"max_position_embeddings\": 512,\n",
      "  \"max_relative_positions\": -1,\n",
      "  \"model_type\": \"deberta-v2\",\n",
      "  \"norm_rel_ebd\": \"layer_norm\",\n",
      "  \"num_attention_heads\": 24,\n",
      "  \"num_hidden_layers\": 24,\n",
      "  \"pad_token_id\": 0,\n",
      "  \"pooler_dropout\": 0,\n",
      "  \"pooler_hidden_act\": \"gelu\",\n",
      "  \"pooler_hidden_size\": 1536,\n",
      "  \"pos_att_type\": [\n",
      "    \"p2c\",\n",
      "    \"c2p\"\n",
      "  ],\n",
      "  \"position_biased_input\": false,\n",
      "  \"position_buckets\": 256,\n",
      "  \"relative_attention\": true,\n",
      "  \"share_att_key\": true,\n",
      "  \"torch_dtype\": \"float32\",\n",
      "  \"transformers_version\": \"4.18.0\",\n",
      "  \"type_vocab_size\": 0,\n",
      "  \"vocab_size\": 128010\n",
      "}\n",
      "\n",
      "loading weights file /kaggle/input/anu-uspppm-deberta-v2-xlarge2/deberta-v2-xlarge/fold2/pytorch_model.bin\n"
     ]
    },
    {
     "name": "stdout",
     "output_type": "stream",
     "text": [
      "Completed predictions for fold 1\n",
      "model_path = /kaggle/input/anu-uspppm-deberta-v2-xlarge2/deberta-v2-xlarge/fold2/\n"
     ]
    },
    {
     "name": "stderr",
     "output_type": "stream",
     "text": [
      "All model checkpoint weights were used when initializing DebertaV2ForSequenceClassification.\n",
      "\n",
      "All the weights of DebertaV2ForSequenceClassification were initialized from the model checkpoint at /kaggle/input/anu-uspppm-deberta-v2-xlarge2/deberta-v2-xlarge/fold2/.\n",
      "If your task is similar to the task the model of the checkpoint was trained on, you can already use DebertaV2ForSequenceClassification for predictions without further training.\n"
     ]
    },
    {
     "name": "stdout",
     "output_type": "stream",
     "text": [
      "len(tokenizer_vocab) = 128010\n"
     ]
    },
    {
     "name": "stderr",
     "output_type": "stream",
     "text": [
      "PyTorch: setting up devices\n",
      "The default value for the training argument `--report_to` will change in v5 (from all installed integrations to none). In v5, you will need to use `--report_to all` to get the same behavior as now. You should start updating your code and make this info disappear :-).\n",
      "***** Running Prediction *****\n",
      "  Num examples = 36\n",
      "  Batch size = 16\n"
     ]
    },
    {
     "data": {
      "text/html": [
       "\n",
       "    <div>\n",
       "      \n",
       "      <progress value='3' max='3' style='width:300px; height:20px; vertical-align: middle;'></progress>\n",
       "      [3/3 00:00]\n",
       "    </div>\n",
       "    "
      ],
      "text/plain": [
       "<IPython.core.display.HTML object>"
      ]
     },
     "metadata": {},
     "output_type": "display_data"
    },
    {
     "name": "stderr",
     "output_type": "stream",
     "text": [
      "loading configuration file /kaggle/input/anu-uspppm-deberta-v2-xlarge2/deberta-v2-xlarge/fold3/config.json\n",
      "Model config DebertaV2Config {\n",
      "  \"_name_or_path\": \"/kaggle/input/anu-uspppm-deberta-v2-xlarge2/deberta-v2-xlarge/fold3/\",\n",
      "  \"architectures\": [\n",
      "    \"DebertaV2ForSequenceClassification\"\n",
      "  ],\n",
      "  \"attention_head_size\": 64,\n",
      "  \"attention_probs_dropout_prob\": 0.1,\n",
      "  \"conv_act\": \"gelu\",\n",
      "  \"conv_kernel_size\": 3,\n",
      "  \"hidden_act\": \"gelu\",\n",
      "  \"hidden_dropout_prob\": 0.1,\n",
      "  \"hidden_size\": 1536,\n",
      "  \"id2label\": {\n",
      "    \"0\": \"LABEL_0\"\n",
      "  },\n",
      "  \"initializer_range\": 0.02,\n",
      "  \"intermediate_size\": 6144,\n",
      "  \"label2id\": {\n",
      "    \"LABEL_0\": 0\n",
      "  },\n",
      "  \"layer_norm_eps\": 1e-07,\n",
      "  \"max_position_embeddings\": 512,\n",
      "  \"max_relative_positions\": -1,\n",
      "  \"model_type\": \"deberta-v2\",\n",
      "  \"norm_rel_ebd\": \"layer_norm\",\n",
      "  \"num_attention_heads\": 24,\n",
      "  \"num_hidden_layers\": 24,\n",
      "  \"pad_token_id\": 0,\n",
      "  \"pooler_dropout\": 0,\n",
      "  \"pooler_hidden_act\": \"gelu\",\n",
      "  \"pooler_hidden_size\": 1536,\n",
      "  \"pos_att_type\": [\n",
      "    \"p2c\",\n",
      "    \"c2p\"\n",
      "  ],\n",
      "  \"position_biased_input\": false,\n",
      "  \"position_buckets\": 256,\n",
      "  \"relative_attention\": true,\n",
      "  \"share_att_key\": true,\n",
      "  \"torch_dtype\": \"float32\",\n",
      "  \"transformers_version\": \"4.18.0\",\n",
      "  \"type_vocab_size\": 0,\n",
      "  \"vocab_size\": 128010\n",
      "}\n",
      "\n",
      "loading weights file /kaggle/input/anu-uspppm-deberta-v2-xlarge2/deberta-v2-xlarge/fold3/pytorch_model.bin\n"
     ]
    },
    {
     "name": "stdout",
     "output_type": "stream",
     "text": [
      "Completed predictions for fold 2\n",
      "model_path = /kaggle/input/anu-uspppm-deberta-v2-xlarge2/deberta-v2-xlarge/fold3/\n"
     ]
    },
    {
     "name": "stderr",
     "output_type": "stream",
     "text": [
      "All model checkpoint weights were used when initializing DebertaV2ForSequenceClassification.\n",
      "\n",
      "All the weights of DebertaV2ForSequenceClassification were initialized from the model checkpoint at /kaggle/input/anu-uspppm-deberta-v2-xlarge2/deberta-v2-xlarge/fold3/.\n",
      "If your task is similar to the task the model of the checkpoint was trained on, you can already use DebertaV2ForSequenceClassification for predictions without further training.\n"
     ]
    },
    {
     "name": "stdout",
     "output_type": "stream",
     "text": [
      "len(tokenizer_vocab) = 128010\n"
     ]
    },
    {
     "name": "stderr",
     "output_type": "stream",
     "text": [
      "PyTorch: setting up devices\n",
      "The default value for the training argument `--report_to` will change in v5 (from all installed integrations to none). In v5, you will need to use `--report_to all` to get the same behavior as now. You should start updating your code and make this info disappear :-).\n",
      "***** Running Prediction *****\n",
      "  Num examples = 36\n",
      "  Batch size = 16\n"
     ]
    },
    {
     "data": {
      "text/html": [
       "\n",
       "    <div>\n",
       "      \n",
       "      <progress value='3' max='3' style='width:300px; height:20px; vertical-align: middle;'></progress>\n",
       "      [3/3 00:00]\n",
       "    </div>\n",
       "    "
      ],
      "text/plain": [
       "<IPython.core.display.HTML object>"
      ]
     },
     "metadata": {},
     "output_type": "display_data"
    },
    {
     "name": "stdout",
     "output_type": "stream",
     "text": [
      "Completed predictions for fold 3\n"
     ]
    },
    {
     "name": "stderr",
     "output_type": "stream",
     "text": [
      "loading configuration file /kaggle/input/anu-uspppm-deberta-v2-xlarge2/deberta-v2-xlarge/fold4/config.json\n",
      "Model config DebertaV2Config {\n",
      "  \"_name_or_path\": \"/kaggle/input/anu-uspppm-deberta-v2-xlarge2/deberta-v2-xlarge/fold4/\",\n",
      "  \"architectures\": [\n",
      "    \"DebertaV2ForSequenceClassification\"\n",
      "  ],\n",
      "  \"attention_head_size\": 64,\n",
      "  \"attention_probs_dropout_prob\": 0.1,\n",
      "  \"conv_act\": \"gelu\",\n",
      "  \"conv_kernel_size\": 3,\n",
      "  \"hidden_act\": \"gelu\",\n",
      "  \"hidden_dropout_prob\": 0.1,\n",
      "  \"hidden_size\": 1536,\n",
      "  \"id2label\": {\n",
      "    \"0\": \"LABEL_0\"\n",
      "  },\n",
      "  \"initializer_range\": 0.02,\n",
      "  \"intermediate_size\": 6144,\n",
      "  \"label2id\": {\n",
      "    \"LABEL_0\": 0\n",
      "  },\n",
      "  \"layer_norm_eps\": 1e-07,\n",
      "  \"max_position_embeddings\": 512,\n",
      "  \"max_relative_positions\": -1,\n",
      "  \"model_type\": \"deberta-v2\",\n",
      "  \"norm_rel_ebd\": \"layer_norm\",\n",
      "  \"num_attention_heads\": 24,\n",
      "  \"num_hidden_layers\": 24,\n",
      "  \"pad_token_id\": 0,\n",
      "  \"pooler_dropout\": 0,\n",
      "  \"pooler_hidden_act\": \"gelu\",\n",
      "  \"pooler_hidden_size\": 1536,\n",
      "  \"pos_att_type\": [\n",
      "    \"p2c\",\n",
      "    \"c2p\"\n",
      "  ],\n",
      "  \"position_biased_input\": false,\n",
      "  \"position_buckets\": 256,\n",
      "  \"relative_attention\": true,\n",
      "  \"share_att_key\": true,\n",
      "  \"torch_dtype\": \"float32\",\n",
      "  \"transformers_version\": \"4.18.0\",\n",
      "  \"type_vocab_size\": 0,\n",
      "  \"vocab_size\": 128010\n",
      "}\n",
      "\n",
      "loading weights file /kaggle/input/anu-uspppm-deberta-v2-xlarge2/deberta-v2-xlarge/fold4/pytorch_model.bin\n"
     ]
    },
    {
     "name": "stdout",
     "output_type": "stream",
     "text": [
      "model_path = /kaggle/input/anu-uspppm-deberta-v2-xlarge2/deberta-v2-xlarge/fold4/\n"
     ]
    },
    {
     "name": "stderr",
     "output_type": "stream",
     "text": [
      "All model checkpoint weights were used when initializing DebertaV2ForSequenceClassification.\n",
      "\n",
      "All the weights of DebertaV2ForSequenceClassification were initialized from the model checkpoint at /kaggle/input/anu-uspppm-deberta-v2-xlarge2/deberta-v2-xlarge/fold4/.\n",
      "If your task is similar to the task the model of the checkpoint was trained on, you can already use DebertaV2ForSequenceClassification for predictions without further training.\n"
     ]
    },
    {
     "name": "stdout",
     "output_type": "stream",
     "text": [
      "len(tokenizer_vocab) = 128010\n"
     ]
    },
    {
     "name": "stderr",
     "output_type": "stream",
     "text": [
      "PyTorch: setting up devices\n",
      "The default value for the training argument `--report_to` will change in v5 (from all installed integrations to none). In v5, you will need to use `--report_to all` to get the same behavior as now. You should start updating your code and make this info disappear :-).\n",
      "***** Running Prediction *****\n",
      "  Num examples = 36\n",
      "  Batch size = 16\n"
     ]
    },
    {
     "data": {
      "text/html": [
       "\n",
       "    <div>\n",
       "      \n",
       "      <progress value='3' max='3' style='width:300px; height:20px; vertical-align: middle;'></progress>\n",
       "      [3/3 00:00]\n",
       "    </div>\n",
       "    "
      ],
      "text/plain": [
       "<IPython.core.display.HTML object>"
      ]
     },
     "metadata": {},
     "output_type": "display_data"
    },
    {
     "name": "stdout",
     "output_type": "stream",
     "text": [
      "Completed predictions for fold 4\n"
     ]
    }
   ],
   "source": [
    "import gc\n",
    "from transformers import logging\n",
    "\n",
    "logging.set_verbosity_error()\n",
    "logging.set_verbosity_warning()\n",
    "\n",
    "model_fold_preds = {}\n",
    "for model_name in model_paths.keys():\n",
    "    fold_preds = []\n",
    "    for fold in range(Config.NUM_FOLDS):\n",
    "        model_path = model_paths[model_name] + f\"fold{fold}/\"\n",
    "        print(f\"model_path = {model_path}\")\n",
    "        model = get_fold_model(model_path, tokenizer)\n",
    "        trainer_args = TrainingArguments(\n",
    "            output_dir=\"/kaggle/working/model/\",\n",
    "            per_device_eval_batch_size=Config.BATCH_SIZE\n",
    "        )\n",
    "        trainer = Trainer(model=model, tokenizer=tokenizer, args=trainer_args)\n",
    "        outputs = trainer.predict(ds_test)\n",
    "        fold_preds.append(outputs.predictions.reshape(-1))\n",
    "        print(f\"Completed predictions for fold {fold}\")\n",
    "        del model, trainer\n",
    "        gc.collect()\n",
    "        torch.cuda.empty_cache()\n",
    "    model_fold_preds[model_name] = fold_preds"
   ]
  },
  {
   "cell_type": "code",
   "execution_count": 12,
   "id": "4fb09c2f",
   "metadata": {
    "execution": {
     "iopub.execute_input": "2022-06-10T13:34:39.160037Z",
     "iopub.status.busy": "2022-06-10T13:34:39.159395Z",
     "iopub.status.idle": "2022-06-10T13:34:39.179820Z",
     "shell.execute_reply": "2022-06-10T13:34:39.178978Z"
    },
    "papermill": {
     "duration": 0.03093,
     "end_time": "2022-06-10T13:34:39.181557",
     "exception": false,
     "start_time": "2022-06-10T13:34:39.150627",
     "status": "completed"
    },
    "tags": []
   },
   "outputs": [
    {
     "data": {
      "text/html": [
       "<div>\n",
       "<style scoped>\n",
       "    .dataframe tbody tr th:only-of-type {\n",
       "        vertical-align: middle;\n",
       "    }\n",
       "\n",
       "    .dataframe tbody tr th {\n",
       "        vertical-align: top;\n",
       "    }\n",
       "\n",
       "    .dataframe thead th {\n",
       "        text-align: right;\n",
       "    }\n",
       "</style>\n",
       "<table border=\"1\" class=\"dataframe\">\n",
       "  <thead>\n",
       "    <tr style=\"text-align: right;\">\n",
       "      <th></th>\n",
       "      <th>id</th>\n",
       "      <th>score</th>\n",
       "    </tr>\n",
       "  </thead>\n",
       "  <tbody>\n",
       "    <tr>\n",
       "      <th>0</th>\n",
       "      <td>4112d61851461f60</td>\n",
       "      <td>0.602895</td>\n",
       "    </tr>\n",
       "    <tr>\n",
       "      <th>1</th>\n",
       "      <td>5203a36c501f1b7c</td>\n",
       "      <td>0.835709</td>\n",
       "    </tr>\n",
       "    <tr>\n",
       "      <th>2</th>\n",
       "      <td>7aa5908a77a7ec24</td>\n",
       "      <td>0.355864</td>\n",
       "    </tr>\n",
       "    <tr>\n",
       "      <th>3</th>\n",
       "      <td>09e418c93a776564</td>\n",
       "      <td>0.790647</td>\n",
       "    </tr>\n",
       "    <tr>\n",
       "      <th>4</th>\n",
       "      <td>36baf228038e314b</td>\n",
       "      <td>0.473340</td>\n",
       "    </tr>\n",
       "    <tr>\n",
       "      <th>5</th>\n",
       "      <td>b892011ab2e2cabc</td>\n",
       "      <td>0.702383</td>\n",
       "    </tr>\n",
       "    <tr>\n",
       "      <th>6</th>\n",
       "      <td>1f37ead645e7f0c8</td>\n",
       "      <td>0.350201</td>\n",
       "    </tr>\n",
       "    <tr>\n",
       "      <th>7</th>\n",
       "      <td>71a5b6ad068d531f</td>\n",
       "      <td>0.023082</td>\n",
       "    </tr>\n",
       "    <tr>\n",
       "      <th>8</th>\n",
       "      <td>16ae4b99d3601e60</td>\n",
       "      <td>0.282291</td>\n",
       "    </tr>\n",
       "    <tr>\n",
       "      <th>9</th>\n",
       "      <td>474c874d0c07bd21</td>\n",
       "      <td>0.537377</td>\n",
       "    </tr>\n",
       "    <tr>\n",
       "      <th>10</th>\n",
       "      <td>442c114ed5c4e3c9</td>\n",
       "      <td>0.433011</td>\n",
       "    </tr>\n",
       "    <tr>\n",
       "      <th>11</th>\n",
       "      <td>b8ae62ea5e1d8bdb</td>\n",
       "      <td>-0.004866</td>\n",
       "    </tr>\n",
       "    <tr>\n",
       "      <th>12</th>\n",
       "      <td>faaddaf8fcba8a3f</td>\n",
       "      <td>0.394780</td>\n",
       "    </tr>\n",
       "    <tr>\n",
       "      <th>13</th>\n",
       "      <td>ae0262c02566d2ce</td>\n",
       "      <td>1.102903</td>\n",
       "    </tr>\n",
       "    <tr>\n",
       "      <th>14</th>\n",
       "      <td>a8808e31641e856d</td>\n",
       "      <td>0.223064</td>\n",
       "    </tr>\n",
       "    <tr>\n",
       "      <th>15</th>\n",
       "      <td>25c555ca3d5a2092</td>\n",
       "      <td>0.963049</td>\n",
       "    </tr>\n",
       "    <tr>\n",
       "      <th>16</th>\n",
       "      <td>b9fdc772bb8fd61c</td>\n",
       "      <td>0.809971</td>\n",
       "    </tr>\n",
       "    <tr>\n",
       "      <th>17</th>\n",
       "      <td>d19ef3979396d47e</td>\n",
       "      <td>0.271819</td>\n",
       "    </tr>\n",
       "    <tr>\n",
       "      <th>18</th>\n",
       "      <td>7e3aff857f056bf9</td>\n",
       "      <td>-0.009754</td>\n",
       "    </tr>\n",
       "    <tr>\n",
       "      <th>19</th>\n",
       "      <td>fd83613b7843f5e1</td>\n",
       "      <td>-0.013655</td>\n",
       "    </tr>\n",
       "    <tr>\n",
       "      <th>20</th>\n",
       "      <td>2a619016908bfa45</td>\n",
       "      <td>0.599782</td>\n",
       "    </tr>\n",
       "    <tr>\n",
       "      <th>21</th>\n",
       "      <td>733979d75f59770d</td>\n",
       "      <td>0.342678</td>\n",
       "    </tr>\n",
       "    <tr>\n",
       "      <th>22</th>\n",
       "      <td>6546846df17f9800</td>\n",
       "      <td>0.319387</td>\n",
       "    </tr>\n",
       "    <tr>\n",
       "      <th>23</th>\n",
       "      <td>3ff0e7a35015be69</td>\n",
       "      <td>0.253711</td>\n",
       "    </tr>\n",
       "    <tr>\n",
       "      <th>24</th>\n",
       "      <td>12ca31f018a2e2b9</td>\n",
       "      <td>0.186715</td>\n",
       "    </tr>\n",
       "    <tr>\n",
       "      <th>25</th>\n",
       "      <td>03ba802ed4029e4d</td>\n",
       "      <td>0.240684</td>\n",
       "    </tr>\n",
       "    <tr>\n",
       "      <th>26</th>\n",
       "      <td>25522ee5411e63e9</td>\n",
       "      <td>0.251844</td>\n",
       "    </tr>\n",
       "    <tr>\n",
       "      <th>27</th>\n",
       "      <td>c404f8b378cbb008</td>\n",
       "      <td>0.538785</td>\n",
       "    </tr>\n",
       "    <tr>\n",
       "      <th>28</th>\n",
       "      <td>78243984c02a72e4</td>\n",
       "      <td>-0.010691</td>\n",
       "    </tr>\n",
       "    <tr>\n",
       "      <th>29</th>\n",
       "      <td>de51114bc0faec3e</td>\n",
       "      <td>-0.019974</td>\n",
       "    </tr>\n",
       "    <tr>\n",
       "      <th>30</th>\n",
       "      <td>26c3c6dc6174b589</td>\n",
       "      <td>-0.019617</td>\n",
       "    </tr>\n",
       "    <tr>\n",
       "      <th>31</th>\n",
       "      <td>8247ff562ca185cc</td>\n",
       "      <td>0.284832</td>\n",
       "    </tr>\n",
       "    <tr>\n",
       "      <th>32</th>\n",
       "      <td>c057aecbba832387</td>\n",
       "      <td>-0.008210</td>\n",
       "    </tr>\n",
       "    <tr>\n",
       "      <th>33</th>\n",
       "      <td>9f2279ce667b21dc</td>\n",
       "      <td>0.706502</td>\n",
       "    </tr>\n",
       "    <tr>\n",
       "      <th>34</th>\n",
       "      <td>b9ea2b06a878df6f</td>\n",
       "      <td>0.490314</td>\n",
       "    </tr>\n",
       "    <tr>\n",
       "      <th>35</th>\n",
       "      <td>79795133c30ef097</td>\n",
       "      <td>0.362236</td>\n",
       "    </tr>\n",
       "  </tbody>\n",
       "</table>\n",
       "</div>"
      ],
      "text/plain": [
       "                  id     score\n",
       "0   4112d61851461f60  0.602895\n",
       "1   5203a36c501f1b7c  0.835709\n",
       "2   7aa5908a77a7ec24  0.355864\n",
       "3   09e418c93a776564  0.790647\n",
       "4   36baf228038e314b  0.473340\n",
       "5   b892011ab2e2cabc  0.702383\n",
       "6   1f37ead645e7f0c8  0.350201\n",
       "7   71a5b6ad068d531f  0.023082\n",
       "8   16ae4b99d3601e60  0.282291\n",
       "9   474c874d0c07bd21  0.537377\n",
       "10  442c114ed5c4e3c9  0.433011\n",
       "11  b8ae62ea5e1d8bdb -0.004866\n",
       "12  faaddaf8fcba8a3f  0.394780\n",
       "13  ae0262c02566d2ce  1.102903\n",
       "14  a8808e31641e856d  0.223064\n",
       "15  25c555ca3d5a2092  0.963049\n",
       "16  b9fdc772bb8fd61c  0.809971\n",
       "17  d19ef3979396d47e  0.271819\n",
       "18  7e3aff857f056bf9 -0.009754\n",
       "19  fd83613b7843f5e1 -0.013655\n",
       "20  2a619016908bfa45  0.599782\n",
       "21  733979d75f59770d  0.342678\n",
       "22  6546846df17f9800  0.319387\n",
       "23  3ff0e7a35015be69  0.253711\n",
       "24  12ca31f018a2e2b9  0.186715\n",
       "25  03ba802ed4029e4d  0.240684\n",
       "26  25522ee5411e63e9  0.251844\n",
       "27  c404f8b378cbb008  0.538785\n",
       "28  78243984c02a72e4 -0.010691\n",
       "29  de51114bc0faec3e -0.019974\n",
       "30  26c3c6dc6174b589 -0.019617\n",
       "31  8247ff562ca185cc  0.284832\n",
       "32  c057aecbba832387 -0.008210\n",
       "33  9f2279ce667b21dc  0.706502\n",
       "34  b9ea2b06a878df6f  0.490314\n",
       "35  79795133c30ef097  0.362236"
      ]
     },
     "execution_count": 12,
     "metadata": {},
     "output_type": "execute_result"
    }
   ],
   "source": [
    "test_preds_arr = np.array(model_fold_preds[Models.DEBERTA_V2_XLARGE])\n",
    "test_preds_avg = np.mean(test_preds_arr, axis=0)\n",
    "df_submission = pd.DataFrame({\"id\": df_test.id, \"score\": test_preds_avg})\n",
    "df_submission"
   ]
  },
  {
   "cell_type": "code",
   "execution_count": 13,
   "id": "ff269b09",
   "metadata": {
    "execution": {
     "iopub.execute_input": "2022-06-10T13:34:39.199266Z",
     "iopub.status.busy": "2022-06-10T13:34:39.198670Z",
     "iopub.status.idle": "2022-06-10T13:34:39.206144Z",
     "shell.execute_reply": "2022-06-10T13:34:39.205494Z"
    },
    "papermill": {
     "duration": 0.018002,
     "end_time": "2022-06-10T13:34:39.207858",
     "exception": false,
     "start_time": "2022-06-10T13:34:39.189856",
     "status": "completed"
    },
    "tags": []
   },
   "outputs": [],
   "source": [
    "df_submission.to_csv(\"/kaggle/working/submission.csv\", index=False)"
   ]
  }
 ],
 "metadata": {
  "kernelspec": {
   "display_name": "Python 3",
   "language": "python",
   "name": "python3"
  },
  "language_info": {
   "codemirror_mode": {
    "name": "ipython",
    "version": 3
   },
   "file_extension": ".py",
   "mimetype": "text/x-python",
   "name": "python",
   "nbconvert_exporter": "python",
   "pygments_lexer": "ipython3",
   "version": "3.7.12"
  },
  "papermill": {
   "default_parameters": {},
   "duration": 216.445658,
   "end_time": "2022-06-10T13:34:42.967895",
   "environment_variables": {},
   "exception": null,
   "input_path": "__notebook__.ipynb",
   "output_path": "__notebook__.ipynb",
   "parameters": {},
   "start_time": "2022-06-10T13:31:06.522237",
   "version": "2.3.4"
  },
  "widgets": {
   "application/vnd.jupyter.widget-state+json": {
    "state": {
     "30c74793e867432eb5a228a46f2e3aa2": {
      "model_module": "@jupyter-widgets/controls",
      "model_module_version": "1.5.0",
      "model_name": "DescriptionStyleModel",
      "state": {
       "_model_module": "@jupyter-widgets/controls",
       "_model_module_version": "1.5.0",
       "_model_name": "DescriptionStyleModel",
       "_view_count": null,
       "_view_module": "@jupyter-widgets/base",
       "_view_module_version": "1.2.0",
       "_view_name": "StyleView",
       "description_width": ""
      }
     },
     "3d585a8d11f6482cb871b2ef308e6de8": {
      "model_module": "@jupyter-widgets/base",
      "model_module_version": "1.2.0",
      "model_name": "LayoutModel",
      "state": {
       "_model_module": "@jupyter-widgets/base",
       "_model_module_version": "1.2.0",
       "_model_name": "LayoutModel",
       "_view_count": null,
       "_view_module": "@jupyter-widgets/base",
       "_view_module_version": "1.2.0",
       "_view_name": "LayoutView",
       "align_content": null,
       "align_items": null,
       "align_self": null,
       "border": null,
       "bottom": null,
       "display": null,
       "flex": null,
       "flex_flow": null,
       "grid_area": null,
       "grid_auto_columns": null,
       "grid_auto_flow": null,
       "grid_auto_rows": null,
       "grid_column": null,
       "grid_gap": null,
       "grid_row": null,
       "grid_template_areas": null,
       "grid_template_columns": null,
       "grid_template_rows": null,
       "height": null,
       "justify_content": null,
       "justify_items": null,
       "left": null,
       "margin": null,
       "max_height": null,
       "max_width": null,
       "min_height": null,
       "min_width": null,
       "object_fit": null,
       "object_position": null,
       "order": null,
       "overflow": null,
       "overflow_x": null,
       "overflow_y": null,
       "padding": null,
       "right": null,
       "top": null,
       "visibility": null,
       "width": null
      }
     },
     "46f2cc28b0ea4a819cfedbbd17eb636b": {
      "model_module": "@jupyter-widgets/base",
      "model_module_version": "1.2.0",
      "model_name": "LayoutModel",
      "state": {
       "_model_module": "@jupyter-widgets/base",
       "_model_module_version": "1.2.0",
       "_model_name": "LayoutModel",
       "_view_count": null,
       "_view_module": "@jupyter-widgets/base",
       "_view_module_version": "1.2.0",
       "_view_name": "LayoutView",
       "align_content": null,
       "align_items": null,
       "align_self": null,
       "border": null,
       "bottom": null,
       "display": null,
       "flex": null,
       "flex_flow": null,
       "grid_area": null,
       "grid_auto_columns": null,
       "grid_auto_flow": null,
       "grid_auto_rows": null,
       "grid_column": null,
       "grid_gap": null,
       "grid_row": null,
       "grid_template_areas": null,
       "grid_template_columns": null,
       "grid_template_rows": null,
       "height": null,
       "justify_content": null,
       "justify_items": null,
       "left": null,
       "margin": null,
       "max_height": null,
       "max_width": null,
       "min_height": null,
       "min_width": null,
       "object_fit": null,
       "object_position": null,
       "order": null,
       "overflow": null,
       "overflow_x": null,
       "overflow_y": null,
       "padding": null,
       "right": null,
       "top": null,
       "visibility": null,
       "width": null
      }
     },
     "6f9312fb9d1342faaf316005db706df7": {
      "model_module": "@jupyter-widgets/controls",
      "model_module_version": "1.5.0",
      "model_name": "DescriptionStyleModel",
      "state": {
       "_model_module": "@jupyter-widgets/controls",
       "_model_module_version": "1.5.0",
       "_model_name": "DescriptionStyleModel",
       "_view_count": null,
       "_view_module": "@jupyter-widgets/base",
       "_view_module_version": "1.2.0",
       "_view_name": "StyleView",
       "description_width": ""
      }
     },
     "75c9f98e282a424e8304cf71b13e72f2": {
      "model_module": "@jupyter-widgets/controls",
      "model_module_version": "1.5.0",
      "model_name": "HBoxModel",
      "state": {
       "_dom_classes": [],
       "_model_module": "@jupyter-widgets/controls",
       "_model_module_version": "1.5.0",
       "_model_name": "HBoxModel",
       "_view_count": null,
       "_view_module": "@jupyter-widgets/controls",
       "_view_module_version": "1.5.0",
       "_view_name": "HBoxView",
       "box_style": "",
       "children": [
        "IPY_MODEL_fa139cc3a1e14ea99551b73bb8df0928",
        "IPY_MODEL_e255cd8dec9d4311a8101e9ccad6ee6f",
        "IPY_MODEL_9fafd1f9dd1840f6960bd731c4ae73e1"
       ],
       "layout": "IPY_MODEL_46f2cc28b0ea4a819cfedbbd17eb636b"
      }
     },
     "78a43de2d487411a97b411b4ff726021": {
      "model_module": "@jupyter-widgets/base",
      "model_module_version": "1.2.0",
      "model_name": "LayoutModel",
      "state": {
       "_model_module": "@jupyter-widgets/base",
       "_model_module_version": "1.2.0",
       "_model_name": "LayoutModel",
       "_view_count": null,
       "_view_module": "@jupyter-widgets/base",
       "_view_module_version": "1.2.0",
       "_view_name": "LayoutView",
       "align_content": null,
       "align_items": null,
       "align_self": null,
       "border": null,
       "bottom": null,
       "display": null,
       "flex": null,
       "flex_flow": null,
       "grid_area": null,
       "grid_auto_columns": null,
       "grid_auto_flow": null,
       "grid_auto_rows": null,
       "grid_column": null,
       "grid_gap": null,
       "grid_row": null,
       "grid_template_areas": null,
       "grid_template_columns": null,
       "grid_template_rows": null,
       "height": null,
       "justify_content": null,
       "justify_items": null,
       "left": null,
       "margin": null,
       "max_height": null,
       "max_width": null,
       "min_height": null,
       "min_width": null,
       "object_fit": null,
       "object_position": null,
       "order": null,
       "overflow": null,
       "overflow_x": null,
       "overflow_y": null,
       "padding": null,
       "right": null,
       "top": null,
       "visibility": null,
       "width": null
      }
     },
     "9fafd1f9dd1840f6960bd731c4ae73e1": {
      "model_module": "@jupyter-widgets/controls",
      "model_module_version": "1.5.0",
      "model_name": "HTMLModel",
      "state": {
       "_dom_classes": [],
       "_model_module": "@jupyter-widgets/controls",
       "_model_module_version": "1.5.0",
       "_model_name": "HTMLModel",
       "_view_count": null,
       "_view_module": "@jupyter-widgets/controls",
       "_view_module_version": "1.5.0",
       "_view_name": "HTMLView",
       "description": "",
       "description_tooltip": null,
       "layout": "IPY_MODEL_78a43de2d487411a97b411b4ff726021",
       "placeholder": "​",
       "style": "IPY_MODEL_30c74793e867432eb5a228a46f2e3aa2",
       "value": " 1/1 [00:00&lt;00:00, 19.76ba/s]"
      }
     },
     "a5e47a39d5a6483793824593a18712c4": {
      "model_module": "@jupyter-widgets/controls",
      "model_module_version": "1.5.0",
      "model_name": "ProgressStyleModel",
      "state": {
       "_model_module": "@jupyter-widgets/controls",
       "_model_module_version": "1.5.0",
       "_model_name": "ProgressStyleModel",
       "_view_count": null,
       "_view_module": "@jupyter-widgets/base",
       "_view_module_version": "1.2.0",
       "_view_name": "StyleView",
       "bar_color": null,
       "description_width": ""
      }
     },
     "e255cd8dec9d4311a8101e9ccad6ee6f": {
      "model_module": "@jupyter-widgets/controls",
      "model_module_version": "1.5.0",
      "model_name": "FloatProgressModel",
      "state": {
       "_dom_classes": [],
       "_model_module": "@jupyter-widgets/controls",
       "_model_module_version": "1.5.0",
       "_model_name": "FloatProgressModel",
       "_view_count": null,
       "_view_module": "@jupyter-widgets/controls",
       "_view_module_version": "1.5.0",
       "_view_name": "ProgressView",
       "bar_style": "success",
       "description": "",
       "description_tooltip": null,
       "layout": "IPY_MODEL_3d585a8d11f6482cb871b2ef308e6de8",
       "max": 1.0,
       "min": 0.0,
       "orientation": "horizontal",
       "style": "IPY_MODEL_a5e47a39d5a6483793824593a18712c4",
       "value": 1.0
      }
     },
     "ee78fba4f7304880a5361b027fe8e9fe": {
      "model_module": "@jupyter-widgets/base",
      "model_module_version": "1.2.0",
      "model_name": "LayoutModel",
      "state": {
       "_model_module": "@jupyter-widgets/base",
       "_model_module_version": "1.2.0",
       "_model_name": "LayoutModel",
       "_view_count": null,
       "_view_module": "@jupyter-widgets/base",
       "_view_module_version": "1.2.0",
       "_view_name": "LayoutView",
       "align_content": null,
       "align_items": null,
       "align_self": null,
       "border": null,
       "bottom": null,
       "display": null,
       "flex": null,
       "flex_flow": null,
       "grid_area": null,
       "grid_auto_columns": null,
       "grid_auto_flow": null,
       "grid_auto_rows": null,
       "grid_column": null,
       "grid_gap": null,
       "grid_row": null,
       "grid_template_areas": null,
       "grid_template_columns": null,
       "grid_template_rows": null,
       "height": null,
       "justify_content": null,
       "justify_items": null,
       "left": null,
       "margin": null,
       "max_height": null,
       "max_width": null,
       "min_height": null,
       "min_width": null,
       "object_fit": null,
       "object_position": null,
       "order": null,
       "overflow": null,
       "overflow_x": null,
       "overflow_y": null,
       "padding": null,
       "right": null,
       "top": null,
       "visibility": null,
       "width": null
      }
     },
     "fa139cc3a1e14ea99551b73bb8df0928": {
      "model_module": "@jupyter-widgets/controls",
      "model_module_version": "1.5.0",
      "model_name": "HTMLModel",
      "state": {
       "_dom_classes": [],
       "_model_module": "@jupyter-widgets/controls",
       "_model_module_version": "1.5.0",
       "_model_name": "HTMLModel",
       "_view_count": null,
       "_view_module": "@jupyter-widgets/controls",
       "_view_module_version": "1.5.0",
       "_view_name": "HTMLView",
       "description": "",
       "description_tooltip": null,
       "layout": "IPY_MODEL_ee78fba4f7304880a5361b027fe8e9fe",
       "placeholder": "​",
       "style": "IPY_MODEL_6f9312fb9d1342faaf316005db706df7",
       "value": "100%"
      }
     }
    },
    "version_major": 2,
    "version_minor": 0
   }
  }
 },
 "nbformat": 4,
 "nbformat_minor": 5
}
