{
  "nbformat": 4,
  "nbformat_minor": 0,
  "metadata": {
    "colab": {
      "name": "create_kaggle_dataset_from_colab.ipynb",
      "provenance": [],
      "collapsed_sections": []
    },
    "kernelspec": {
      "name": "python3",
      "display_name": "Python 3"
    },
    "language_info": {
      "name": "python"
    }
  },
  "cells": [
    {
      "cell_type": "code",
      "execution_count": null,
      "metadata": {
        "id": "xCMgJmDO3Uvd"
      },
      "outputs": [],
      "source": [
        "%pip install -q kaggle"
      ]
    },
    {
      "cell_type": "code",
      "source": [
        "from google.colab import drive\n",
        "drive.mount('/content/gdrive')"
      ],
      "metadata": {
        "colab": {
          "base_uri": "https://localhost:8080/"
        },
        "id": "IZlkCCWb9pVo",
        "outputId": "67410951-2626-4e1d-cafa-e617681623c9"
      },
      "execution_count": null,
      "outputs": [
        {
          "output_type": "stream",
          "name": "stdout",
          "text": [
            "Mounted at /content/gdrive\n"
          ]
        }
      ]
    },
    {
      "cell_type": "code",
      "source": [
        "!mkdir -p /root/.kaggle"
      ],
      "metadata": {
        "id": "2O7On6UB3fHy"
      },
      "execution_count": null,
      "outputs": []
    },
    {
      "cell_type": "code",
      "source": [
        "!cp /content/gdrive/MyDrive/Kaggle/NLP/PatentPhraseMatching/data/kaggle.json /root/.kaggle/"
      ],
      "metadata": {
        "id": "eSeN1lcu3hAe"
      },
      "execution_count": null,
      "outputs": []
    },
    {
      "cell_type": "code",
      "source": [
        "!chmod 600 /root/.kaggle/kaggle.json"
      ],
      "metadata": {
        "id": "eIxEwp9y3lHS"
      },
      "execution_count": null,
      "outputs": []
    },
    {
      "cell_type": "code",
      "source": [
        "!ls -lrt /root/.kaggle"
      ],
      "metadata": {
        "id": "rJGFDf2l3muy",
        "colab": {
          "base_uri": "https://localhost:8080/"
        },
        "outputId": "48f59c15-a57e-472d-85dc-25dad808d349"
      },
      "execution_count": null,
      "outputs": [
        {
          "output_type": "stream",
          "name": "stdout",
          "text": [
            "total 4\n",
            "-rw------- 1 root root 64 Jun 10 11:47 kaggle.json\n"
          ]
        }
      ]
    },
    {
      "cell_type": "code",
      "source": [
        "%cd /content/gdrive/MyDrive/Kaggle/NLP/PatentPhraseMatching/model"
      ],
      "metadata": {
        "id": "TqJIBqr_3nMD",
        "colab": {
          "base_uri": "https://localhost:8080/"
        },
        "outputId": "b3e2c042-9f04-4c2e-ac7e-adbe0897f4cc"
      },
      "execution_count": null,
      "outputs": [
        {
          "output_type": "stream",
          "name": "stdout",
          "text": [
            "/content/gdrive/MyDrive/Kaggle/NLP/PatentPhraseMatching/model\n"
          ]
        }
      ]
    },
    {
      "cell_type": "code",
      "source": [
        "!ls -lrt ."
      ],
      "metadata": {
        "colab": {
          "base_uri": "https://localhost:8080/"
        },
        "id": "NygYl66L93SW",
        "outputId": "099ef9ca-67b3-4974-d79f-f3e75d42ab31"
      },
      "execution_count": null,
      "outputs": [
        {
          "output_type": "stream",
          "name": "stdout",
          "text": [
            "total 12\n",
            "drwx------ 2 root root 4096 May  7 11:24 deberta-v3-small\n",
            "drwx------ 2 root root 4096 Jun  7 12:57 uspppm-deberta-large\n",
            "drwx------ 7 root root 4096 Jun  9 13:35 deberta-v2-xlarge\n"
          ]
        }
      ]
    },
    {
      "cell_type": "code",
      "source": [
        "!zip -r uspppm-deberta-v2-xlarge.zip deberta-v2-xlarge"
      ],
      "metadata": {
        "colab": {
          "base_uri": "https://localhost:8080/"
        },
        "id": "NuLmue7-9idY",
        "outputId": "975da191-bd2d-4a6f-d752-cbcb6003e5b0"
      },
      "execution_count": null,
      "outputs": [
        {
          "output_type": "stream",
          "name": "stdout",
          "text": [
            "  adding: deberta-v2-xlarge/ (stored 0%)\n",
            "  adding: deberta-v2-xlarge/fold3/ (stored 0%)\n",
            "  adding: deberta-v2-xlarge/fold3/config.json (deflated 54%)\n",
            "  adding: deberta-v2-xlarge/fold3/pytorch_model.bin (deflated 15%)\n",
            "  adding: deberta-v2-xlarge/fold3/tokenizer_config.json (deflated 43%)\n",
            "  adding: deberta-v2-xlarge/fold3/special_tokens_map.json (deflated 49%)\n",
            "  adding: deberta-v2-xlarge/fold3/added_tokens.json (deflated 53%)\n",
            "  adding: deberta-v2-xlarge/fold3/spm.model (deflated 50%)\n",
            "  adding: deberta-v2-xlarge/fold3/tokenizer.json (deflated 77%)\n",
            "  adding: deberta-v2-xlarge/fold3/training_args.bin (deflated 48%)\n",
            "  adding: deberta-v2-xlarge/fold4/ (stored 0%)\n",
            "  adding: deberta-v2-xlarge/fold4/config.json (deflated 54%)\n",
            "  adding: deberta-v2-xlarge/fold4/pytorch_model.bin (deflated 15%)\n",
            "  adding: deberta-v2-xlarge/fold4/tokenizer_config.json (deflated 43%)\n",
            "  adding: deberta-v2-xlarge/fold4/special_tokens_map.json (deflated 49%)\n",
            "  adding: deberta-v2-xlarge/fold4/added_tokens.json (deflated 53%)\n",
            "  adding: deberta-v2-xlarge/fold4/spm.model (deflated 50%)\n",
            "  adding: deberta-v2-xlarge/fold4/tokenizer.json (deflated 77%)\n",
            "  adding: deberta-v2-xlarge/fold4/training_args.bin (deflated 48%)\n",
            "  adding: deberta-v2-xlarge/fold0/ (stored 0%)\n",
            "  adding: deberta-v2-xlarge/fold0/config.json (deflated 54%)\n",
            "  adding: deberta-v2-xlarge/fold0/pytorch_model.bin (deflated 15%)\n",
            "  adding: deberta-v2-xlarge/fold0/tokenizer_config.json (deflated 43%)\n",
            "  adding: deberta-v2-xlarge/fold0/special_tokens_map.json (deflated 49%)\n",
            "  adding: deberta-v2-xlarge/fold0/added_tokens.json (deflated 53%)\n",
            "  adding: deberta-v2-xlarge/fold0/spm.model (deflated 50%)\n",
            "  adding: deberta-v2-xlarge/fold0/tokenizer.json (deflated 77%)\n",
            "  adding: deberta-v2-xlarge/fold0/training_args.bin (deflated 48%)\n",
            "  adding: deberta-v2-xlarge/fold1/ (stored 0%)\n",
            "  adding: deberta-v2-xlarge/fold1/config.json (deflated 54%)\n",
            "  adding: deberta-v2-xlarge/fold1/pytorch_model.bin (deflated 15%)\n",
            "  adding: deberta-v2-xlarge/fold1/tokenizer_config.json (deflated 43%)\n",
            "  adding: deberta-v2-xlarge/fold1/special_tokens_map.json (deflated 49%)\n",
            "  adding: deberta-v2-xlarge/fold1/added_tokens.json (deflated 53%)\n",
            "  adding: deberta-v2-xlarge/fold1/spm.model (deflated 50%)\n",
            "  adding: deberta-v2-xlarge/fold1/tokenizer.json (deflated 77%)\n",
            "  adding: deberta-v2-xlarge/fold1/training_args.bin (deflated 48%)\n",
            "  adding: deberta-v2-xlarge/fold2/ (stored 0%)\n",
            "  adding: deberta-v2-xlarge/fold2/config.json (deflated 54%)\n",
            "  adding: deberta-v2-xlarge/fold2/pytorch_model.bin (deflated 15%)\n",
            "  adding: deberta-v2-xlarge/fold2/tokenizer_config.json (deflated 43%)\n",
            "  adding: deberta-v2-xlarge/fold2/special_tokens_map.json (deflated 49%)\n",
            "  adding: deberta-v2-xlarge/fold2/added_tokens.json (deflated 53%)\n",
            "  adding: deberta-v2-xlarge/fold2/spm.model (deflated 50%)\n",
            "  adding: deberta-v2-xlarge/fold2/tokenizer.json (deflated 77%)\n",
            "  adding: deberta-v2-xlarge/fold2/training_args.bin (deflated 48%)\n"
          ]
        }
      ]
    },
    {
      "cell_type": "code",
      "source": [
        "!mkdir uspppm-deberta-v2-xlarge"
      ],
      "metadata": {
        "id": "8Gb0G0bj-9LN"
      },
      "execution_count": null,
      "outputs": []
    },
    {
      "cell_type": "code",
      "source": [
        "!mv uspppm-deberta-v2-xlarge.zip uspppm-deberta-v2-xlarge"
      ],
      "metadata": {
        "id": "xLNt6yDM_PVT"
      },
      "execution_count": null,
      "outputs": []
    },
    {
      "cell_type": "code",
      "source": [
        "!kaggle datasets init -p uspppm-deberta-v2-xlarge"
      ],
      "metadata": {
        "id": "lLazdFG33rIg",
        "colab": {
          "base_uri": "https://localhost:8080/"
        },
        "outputId": "34da36ef-5b11-4cd4-c7c6-2f9075563c0e"
      },
      "execution_count": null,
      "outputs": [
        {
          "output_type": "stream",
          "name": "stdout",
          "text": [
            "Data package template written to: uspppm-deberta-v2-xlarge/dataset-metadata.json\n"
          ]
        }
      ]
    },
    {
      "cell_type": "code",
      "source": [
        "%%writefile ./uspppm-deberta-v2-xlarge/dataset-metadata.json\n",
        "{\n",
        "  \"title\": \"anu-uspppm-deberta-v2-xlarge2\",\n",
        "  \"id\": \"bkanupam/anu-uspppm-deberta-v2-xlarge2\",\n",
        "  \"licenses\": [\n",
        "    {\n",
        "      \"name\": \"CC0-1.0\"\n",
        "    }\n",
        "  ]\n",
        "}"
      ],
      "metadata": {
        "id": "iA0ehZ6v3szm",
        "colab": {
          "base_uri": "https://localhost:8080/"
        },
        "outputId": "aa14c20e-5dee-49cb-d124-3b1bf9df2114"
      },
      "execution_count": null,
      "outputs": [
        {
          "output_type": "stream",
          "name": "stdout",
          "text": [
            "Overwriting ./uspppm-deberta-v2-xlarge/dataset-metadata.json\n"
          ]
        }
      ]
    },
    {
      "cell_type": "code",
      "source": [
        "!kaggle datasets create -p ./uspppm-deberta-v2-xlarge"
      ],
      "metadata": {
        "id": "fjx7sihR3vFY",
        "colab": {
          "base_uri": "https://localhost:8080/"
        },
        "outputId": "f63daa53-adb5-442b-ca81-e7d9c6cc005d"
      },
      "execution_count": null,
      "outputs": [
        {
          "output_type": "stream",
          "name": "stdout",
          "text": [
            "Starting upload for file uspppm-deberta-v2-xlarge.zip\n",
            "100% 14.1G/14.1G [02:18<00:00, 109MB/s]\n",
            "Upload successful: uspppm-deberta-v2-xlarge.zip (14GB)\n",
            "Your private Dataset is being created. Please check progress at https://www.kaggle.com/datasets/bkanupam/anu-uspppm-deberta-v2-xlarge2\n"
          ]
        }
      ]
    },
    {
      "cell_type": "code",
      "source": [
        "import pandas as pd\n",
        "\n",
        "MODEL_NAME = \"deberta-v2-xlarge\"\n",
        "OOF_DIR = \"/content/gdrive/MyDrive/Kaggle/NLP/PatentPhraseMatching/preds/\"\n",
        "NUM_FOLDS = 3\n",
        "\n",
        "df_oof_preds = pd.DataFrame()\n",
        "for fold in [0, 1, 2, 3, 4]:\n",
        "    fold_oof_preds = OOF_DIR + f\"df_train_oof_preds_{MODEL_NAME}_fold{fold}.csv\"\n",
        "    df_fold_oof_preds = pd.read_csv(fold_oof_preds)\n",
        "    df_oof_preds = pd.concat([df_oof_preds, df_fold_oof_preds], axis=0)\n",
        "\n",
        "len(df_oof_preds)    "
      ],
      "metadata": {
        "colab": {
          "base_uri": "https://localhost:8080/"
        },
        "id": "xeY4eiGWWS-K",
        "outputId": "2b7a4612-1995-4866-827d-ac80c62805ee"
      },
      "execution_count": null,
      "outputs": [
        {
          "output_type": "execute_result",
          "data": {
            "text/plain": [
              "36473"
            ]
          },
          "metadata": {},
          "execution_count": 14
        }
      ]
    },
    {
      "cell_type": "code",
      "source": [
        "df_oof_preds.to_csv(OOF_DIR + f\"df_train_oof_preds_{MODEL_NAME}.csv\")"
      ],
      "metadata": {
        "id": "SCQiYbfEbjU4"
      },
      "execution_count": null,
      "outputs": []
    }
  ]
}