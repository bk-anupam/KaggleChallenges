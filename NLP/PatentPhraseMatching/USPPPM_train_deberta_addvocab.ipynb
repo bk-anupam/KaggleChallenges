{
  "nbformat": 4,
  "nbformat_minor": 0,
  "metadata": {
    "colab": {
      "name": "USPPPM-train-hf.ipynb",
      "provenance": [],
      "collapsed_sections": []
    },
    "kernelspec": {
      "name": "python3",
      "display_name": "Python 3"
    },
    "language_info": {
      "name": "python"
    },
    "accelerator": "GPU",
    "widgets": {
      "application/vnd.jupyter.widget-state+json": {
        "dd7c6b15abe54574bad763859c2441c5": {
          "model_module": "@jupyter-widgets/controls",
          "model_name": "HBoxModel",
          "model_module_version": "1.5.0",
          "state": {
            "_dom_classes": [],
            "_model_module": "@jupyter-widgets/controls",
            "_model_module_version": "1.5.0",
            "_model_name": "HBoxModel",
            "_view_count": null,
            "_view_module": "@jupyter-widgets/controls",
            "_view_module_version": "1.5.0",
            "_view_name": "HBoxView",
            "box_style": "",
            "children": [
              "IPY_MODEL_1585d1249bbf4cfda912ab5e4f588630",
              "IPY_MODEL_8aa8492cb38c4e75903bf7ba90e1995e",
              "IPY_MODEL_bc1e6217bd8e405b815b50410c5626d4"
            ],
            "layout": "IPY_MODEL_ea0854f64a3d4ee3a20d7bedd22113cf"
          }
        },
        "1585d1249bbf4cfda912ab5e4f588630": {
          "model_module": "@jupyter-widgets/controls",
          "model_name": "HTMLModel",
          "model_module_version": "1.5.0",
          "state": {
            "_dom_classes": [],
            "_model_module": "@jupyter-widgets/controls",
            "_model_module_version": "1.5.0",
            "_model_name": "HTMLModel",
            "_view_count": null,
            "_view_module": "@jupyter-widgets/controls",
            "_view_module_version": "1.5.0",
            "_view_name": "HTMLView",
            "description": "",
            "description_tooltip": null,
            "layout": "IPY_MODEL_631fe985e1e14645a4675c935d179435",
            "placeholder": "​",
            "style": "IPY_MODEL_5c40392911b8442b8724b692f22a9c9e",
            "value": "100%"
          }
        },
        "8aa8492cb38c4e75903bf7ba90e1995e": {
          "model_module": "@jupyter-widgets/controls",
          "model_name": "FloatProgressModel",
          "model_module_version": "1.5.0",
          "state": {
            "_dom_classes": [],
            "_model_module": "@jupyter-widgets/controls",
            "_model_module_version": "1.5.0",
            "_model_name": "FloatProgressModel",
            "_view_count": null,
            "_view_module": "@jupyter-widgets/controls",
            "_view_module_version": "1.5.0",
            "_view_name": "ProgressView",
            "bar_style": "success",
            "description": "",
            "description_tooltip": null,
            "layout": "IPY_MODEL_b40a545dc1904bc5bab53299dd75308a",
            "max": 30,
            "min": 0,
            "orientation": "horizontal",
            "style": "IPY_MODEL_44edb675cbcc42b998072c9b30c8a377",
            "value": 30
          }
        },
        "bc1e6217bd8e405b815b50410c5626d4": {
          "model_module": "@jupyter-widgets/controls",
          "model_name": "HTMLModel",
          "model_module_version": "1.5.0",
          "state": {
            "_dom_classes": [],
            "_model_module": "@jupyter-widgets/controls",
            "_model_module_version": "1.5.0",
            "_model_name": "HTMLModel",
            "_view_count": null,
            "_view_module": "@jupyter-widgets/controls",
            "_view_module_version": "1.5.0",
            "_view_name": "HTMLView",
            "description": "",
            "description_tooltip": null,
            "layout": "IPY_MODEL_ea01490b5be84064ad3d94a2a44037da",
            "placeholder": "​",
            "style": "IPY_MODEL_4d43732105cb407f9dd627cbf37ffd7d",
            "value": " 30/30 [00:02&lt;00:00, 14.41ba/s]"
          }
        },
        "ea0854f64a3d4ee3a20d7bedd22113cf": {
          "model_module": "@jupyter-widgets/base",
          "model_name": "LayoutModel",
          "model_module_version": "1.2.0",
          "state": {
            "_model_module": "@jupyter-widgets/base",
            "_model_module_version": "1.2.0",
            "_model_name": "LayoutModel",
            "_view_count": null,
            "_view_module": "@jupyter-widgets/base",
            "_view_module_version": "1.2.0",
            "_view_name": "LayoutView",
            "align_content": null,
            "align_items": null,
            "align_self": null,
            "border": null,
            "bottom": null,
            "display": null,
            "flex": null,
            "flex_flow": null,
            "grid_area": null,
            "grid_auto_columns": null,
            "grid_auto_flow": null,
            "grid_auto_rows": null,
            "grid_column": null,
            "grid_gap": null,
            "grid_row": null,
            "grid_template_areas": null,
            "grid_template_columns": null,
            "grid_template_rows": null,
            "height": null,
            "justify_content": null,
            "justify_items": null,
            "left": null,
            "margin": null,
            "max_height": null,
            "max_width": null,
            "min_height": null,
            "min_width": null,
            "object_fit": null,
            "object_position": null,
            "order": null,
            "overflow": null,
            "overflow_x": null,
            "overflow_y": null,
            "padding": null,
            "right": null,
            "top": null,
            "visibility": null,
            "width": null
          }
        },
        "631fe985e1e14645a4675c935d179435": {
          "model_module": "@jupyter-widgets/base",
          "model_name": "LayoutModel",
          "model_module_version": "1.2.0",
          "state": {
            "_model_module": "@jupyter-widgets/base",
            "_model_module_version": "1.2.0",
            "_model_name": "LayoutModel",
            "_view_count": null,
            "_view_module": "@jupyter-widgets/base",
            "_view_module_version": "1.2.0",
            "_view_name": "LayoutView",
            "align_content": null,
            "align_items": null,
            "align_self": null,
            "border": null,
            "bottom": null,
            "display": null,
            "flex": null,
            "flex_flow": null,
            "grid_area": null,
            "grid_auto_columns": null,
            "grid_auto_flow": null,
            "grid_auto_rows": null,
            "grid_column": null,
            "grid_gap": null,
            "grid_row": null,
            "grid_template_areas": null,
            "grid_template_columns": null,
            "grid_template_rows": null,
            "height": null,
            "justify_content": null,
            "justify_items": null,
            "left": null,
            "margin": null,
            "max_height": null,
            "max_width": null,
            "min_height": null,
            "min_width": null,
            "object_fit": null,
            "object_position": null,
            "order": null,
            "overflow": null,
            "overflow_x": null,
            "overflow_y": null,
            "padding": null,
            "right": null,
            "top": null,
            "visibility": null,
            "width": null
          }
        },
        "5c40392911b8442b8724b692f22a9c9e": {
          "model_module": "@jupyter-widgets/controls",
          "model_name": "DescriptionStyleModel",
          "model_module_version": "1.5.0",
          "state": {
            "_model_module": "@jupyter-widgets/controls",
            "_model_module_version": "1.5.0",
            "_model_name": "DescriptionStyleModel",
            "_view_count": null,
            "_view_module": "@jupyter-widgets/base",
            "_view_module_version": "1.2.0",
            "_view_name": "StyleView",
            "description_width": ""
          }
        },
        "b40a545dc1904bc5bab53299dd75308a": {
          "model_module": "@jupyter-widgets/base",
          "model_name": "LayoutModel",
          "model_module_version": "1.2.0",
          "state": {
            "_model_module": "@jupyter-widgets/base",
            "_model_module_version": "1.2.0",
            "_model_name": "LayoutModel",
            "_view_count": null,
            "_view_module": "@jupyter-widgets/base",
            "_view_module_version": "1.2.0",
            "_view_name": "LayoutView",
            "align_content": null,
            "align_items": null,
            "align_self": null,
            "border": null,
            "bottom": null,
            "display": null,
            "flex": null,
            "flex_flow": null,
            "grid_area": null,
            "grid_auto_columns": null,
            "grid_auto_flow": null,
            "grid_auto_rows": null,
            "grid_column": null,
            "grid_gap": null,
            "grid_row": null,
            "grid_template_areas": null,
            "grid_template_columns": null,
            "grid_template_rows": null,
            "height": null,
            "justify_content": null,
            "justify_items": null,
            "left": null,
            "margin": null,
            "max_height": null,
            "max_width": null,
            "min_height": null,
            "min_width": null,
            "object_fit": null,
            "object_position": null,
            "order": null,
            "overflow": null,
            "overflow_x": null,
            "overflow_y": null,
            "padding": null,
            "right": null,
            "top": null,
            "visibility": null,
            "width": null
          }
        },
        "44edb675cbcc42b998072c9b30c8a377": {
          "model_module": "@jupyter-widgets/controls",
          "model_name": "ProgressStyleModel",
          "model_module_version": "1.5.0",
          "state": {
            "_model_module": "@jupyter-widgets/controls",
            "_model_module_version": "1.5.0",
            "_model_name": "ProgressStyleModel",
            "_view_count": null,
            "_view_module": "@jupyter-widgets/base",
            "_view_module_version": "1.2.0",
            "_view_name": "StyleView",
            "bar_color": null,
            "description_width": ""
          }
        },
        "ea01490b5be84064ad3d94a2a44037da": {
          "model_module": "@jupyter-widgets/base",
          "model_name": "LayoutModel",
          "model_module_version": "1.2.0",
          "state": {
            "_model_module": "@jupyter-widgets/base",
            "_model_module_version": "1.2.0",
            "_model_name": "LayoutModel",
            "_view_count": null,
            "_view_module": "@jupyter-widgets/base",
            "_view_module_version": "1.2.0",
            "_view_name": "LayoutView",
            "align_content": null,
            "align_items": null,
            "align_self": null,
            "border": null,
            "bottom": null,
            "display": null,
            "flex": null,
            "flex_flow": null,
            "grid_area": null,
            "grid_auto_columns": null,
            "grid_auto_flow": null,
            "grid_auto_rows": null,
            "grid_column": null,
            "grid_gap": null,
            "grid_row": null,
            "grid_template_areas": null,
            "grid_template_columns": null,
            "grid_template_rows": null,
            "height": null,
            "justify_content": null,
            "justify_items": null,
            "left": null,
            "margin": null,
            "max_height": null,
            "max_width": null,
            "min_height": null,
            "min_width": null,
            "object_fit": null,
            "object_position": null,
            "order": null,
            "overflow": null,
            "overflow_x": null,
            "overflow_y": null,
            "padding": null,
            "right": null,
            "top": null,
            "visibility": null,
            "width": null
          }
        },
        "4d43732105cb407f9dd627cbf37ffd7d": {
          "model_module": "@jupyter-widgets/controls",
          "model_name": "DescriptionStyleModel",
          "model_module_version": "1.5.0",
          "state": {
            "_model_module": "@jupyter-widgets/controls",
            "_model_module_version": "1.5.0",
            "_model_name": "DescriptionStyleModel",
            "_view_count": null,
            "_view_module": "@jupyter-widgets/base",
            "_view_module_version": "1.2.0",
            "_view_name": "StyleView",
            "description_width": ""
          }
        },
        "540764558ed245d09296bc9a54a149fe": {
          "model_module": "@jupyter-widgets/controls",
          "model_name": "HBoxModel",
          "model_module_version": "1.5.0",
          "state": {
            "_dom_classes": [],
            "_model_module": "@jupyter-widgets/controls",
            "_model_module_version": "1.5.0",
            "_model_name": "HBoxModel",
            "_view_count": null,
            "_view_module": "@jupyter-widgets/controls",
            "_view_module_version": "1.5.0",
            "_view_name": "HBoxView",
            "box_style": "",
            "children": [
              "IPY_MODEL_8f2e950a1f624ffeacf9ae82d481df46",
              "IPY_MODEL_e7a9c7eee96a41ce9b67ee3be3322259",
              "IPY_MODEL_3826cf40158d4ebe950aa35d629de490"
            ],
            "layout": "IPY_MODEL_2943a8bffb9740b0b0b173de275efc0d"
          }
        },
        "8f2e950a1f624ffeacf9ae82d481df46": {
          "model_module": "@jupyter-widgets/controls",
          "model_name": "HTMLModel",
          "model_module_version": "1.5.0",
          "state": {
            "_dom_classes": [],
            "_model_module": "@jupyter-widgets/controls",
            "_model_module_version": "1.5.0",
            "_model_name": "HTMLModel",
            "_view_count": null,
            "_view_module": "@jupyter-widgets/controls",
            "_view_module_version": "1.5.0",
            "_view_name": "HTMLView",
            "description": "",
            "description_tooltip": null,
            "layout": "IPY_MODEL_e3234680b5f047d5a0530bcbd1abc463",
            "placeholder": "​",
            "style": "IPY_MODEL_98ff5281d3284949a78d5c0d286337f0",
            "value": "100%"
          }
        },
        "e7a9c7eee96a41ce9b67ee3be3322259": {
          "model_module": "@jupyter-widgets/controls",
          "model_name": "FloatProgressModel",
          "model_module_version": "1.5.0",
          "state": {
            "_dom_classes": [],
            "_model_module": "@jupyter-widgets/controls",
            "_model_module_version": "1.5.0",
            "_model_name": "FloatProgressModel",
            "_view_count": null,
            "_view_module": "@jupyter-widgets/controls",
            "_view_module_version": "1.5.0",
            "_view_name": "ProgressView",
            "bar_style": "success",
            "description": "",
            "description_tooltip": null,
            "layout": "IPY_MODEL_ff23078253cc4e9cbaba6ed4ef90a407",
            "max": 8,
            "min": 0,
            "orientation": "horizontal",
            "style": "IPY_MODEL_0043e43cfce045239d57d5460528318f",
            "value": 8
          }
        },
        "3826cf40158d4ebe950aa35d629de490": {
          "model_module": "@jupyter-widgets/controls",
          "model_name": "HTMLModel",
          "model_module_version": "1.5.0",
          "state": {
            "_dom_classes": [],
            "_model_module": "@jupyter-widgets/controls",
            "_model_module_version": "1.5.0",
            "_model_name": "HTMLModel",
            "_view_count": null,
            "_view_module": "@jupyter-widgets/controls",
            "_view_module_version": "1.5.0",
            "_view_name": "HTMLView",
            "description": "",
            "description_tooltip": null,
            "layout": "IPY_MODEL_b5d0c15462c547988820c8c86e321949",
            "placeholder": "​",
            "style": "IPY_MODEL_8d2231aa300b4a43bbdcd9bccb973a9c",
            "value": " 8/8 [00:00&lt;00:00, 15.18ba/s]"
          }
        },
        "2943a8bffb9740b0b0b173de275efc0d": {
          "model_module": "@jupyter-widgets/base",
          "model_name": "LayoutModel",
          "model_module_version": "1.2.0",
          "state": {
            "_model_module": "@jupyter-widgets/base",
            "_model_module_version": "1.2.0",
            "_model_name": "LayoutModel",
            "_view_count": null,
            "_view_module": "@jupyter-widgets/base",
            "_view_module_version": "1.2.0",
            "_view_name": "LayoutView",
            "align_content": null,
            "align_items": null,
            "align_self": null,
            "border": null,
            "bottom": null,
            "display": null,
            "flex": null,
            "flex_flow": null,
            "grid_area": null,
            "grid_auto_columns": null,
            "grid_auto_flow": null,
            "grid_auto_rows": null,
            "grid_column": null,
            "grid_gap": null,
            "grid_row": null,
            "grid_template_areas": null,
            "grid_template_columns": null,
            "grid_template_rows": null,
            "height": null,
            "justify_content": null,
            "justify_items": null,
            "left": null,
            "margin": null,
            "max_height": null,
            "max_width": null,
            "min_height": null,
            "min_width": null,
            "object_fit": null,
            "object_position": null,
            "order": null,
            "overflow": null,
            "overflow_x": null,
            "overflow_y": null,
            "padding": null,
            "right": null,
            "top": null,
            "visibility": null,
            "width": null
          }
        },
        "e3234680b5f047d5a0530bcbd1abc463": {
          "model_module": "@jupyter-widgets/base",
          "model_name": "LayoutModel",
          "model_module_version": "1.2.0",
          "state": {
            "_model_module": "@jupyter-widgets/base",
            "_model_module_version": "1.2.0",
            "_model_name": "LayoutModel",
            "_view_count": null,
            "_view_module": "@jupyter-widgets/base",
            "_view_module_version": "1.2.0",
            "_view_name": "LayoutView",
            "align_content": null,
            "align_items": null,
            "align_self": null,
            "border": null,
            "bottom": null,
            "display": null,
            "flex": null,
            "flex_flow": null,
            "grid_area": null,
            "grid_auto_columns": null,
            "grid_auto_flow": null,
            "grid_auto_rows": null,
            "grid_column": null,
            "grid_gap": null,
            "grid_row": null,
            "grid_template_areas": null,
            "grid_template_columns": null,
            "grid_template_rows": null,
            "height": null,
            "justify_content": null,
            "justify_items": null,
            "left": null,
            "margin": null,
            "max_height": null,
            "max_width": null,
            "min_height": null,
            "min_width": null,
            "object_fit": null,
            "object_position": null,
            "order": null,
            "overflow": null,
            "overflow_x": null,
            "overflow_y": null,
            "padding": null,
            "right": null,
            "top": null,
            "visibility": null,
            "width": null
          }
        },
        "98ff5281d3284949a78d5c0d286337f0": {
          "model_module": "@jupyter-widgets/controls",
          "model_name": "DescriptionStyleModel",
          "model_module_version": "1.5.0",
          "state": {
            "_model_module": "@jupyter-widgets/controls",
            "_model_module_version": "1.5.0",
            "_model_name": "DescriptionStyleModel",
            "_view_count": null,
            "_view_module": "@jupyter-widgets/base",
            "_view_module_version": "1.2.0",
            "_view_name": "StyleView",
            "description_width": ""
          }
        },
        "ff23078253cc4e9cbaba6ed4ef90a407": {
          "model_module": "@jupyter-widgets/base",
          "model_name": "LayoutModel",
          "model_module_version": "1.2.0",
          "state": {
            "_model_module": "@jupyter-widgets/base",
            "_model_module_version": "1.2.0",
            "_model_name": "LayoutModel",
            "_view_count": null,
            "_view_module": "@jupyter-widgets/base",
            "_view_module_version": "1.2.0",
            "_view_name": "LayoutView",
            "align_content": null,
            "align_items": null,
            "align_self": null,
            "border": null,
            "bottom": null,
            "display": null,
            "flex": null,
            "flex_flow": null,
            "grid_area": null,
            "grid_auto_columns": null,
            "grid_auto_flow": null,
            "grid_auto_rows": null,
            "grid_column": null,
            "grid_gap": null,
            "grid_row": null,
            "grid_template_areas": null,
            "grid_template_columns": null,
            "grid_template_rows": null,
            "height": null,
            "justify_content": null,
            "justify_items": null,
            "left": null,
            "margin": null,
            "max_height": null,
            "max_width": null,
            "min_height": null,
            "min_width": null,
            "object_fit": null,
            "object_position": null,
            "order": null,
            "overflow": null,
            "overflow_x": null,
            "overflow_y": null,
            "padding": null,
            "right": null,
            "top": null,
            "visibility": null,
            "width": null
          }
        },
        "0043e43cfce045239d57d5460528318f": {
          "model_module": "@jupyter-widgets/controls",
          "model_name": "ProgressStyleModel",
          "model_module_version": "1.5.0",
          "state": {
            "_model_module": "@jupyter-widgets/controls",
            "_model_module_version": "1.5.0",
            "_model_name": "ProgressStyleModel",
            "_view_count": null,
            "_view_module": "@jupyter-widgets/base",
            "_view_module_version": "1.2.0",
            "_view_name": "StyleView",
            "bar_color": null,
            "description_width": ""
          }
        },
        "b5d0c15462c547988820c8c86e321949": {
          "model_module": "@jupyter-widgets/base",
          "model_name": "LayoutModel",
          "model_module_version": "1.2.0",
          "state": {
            "_model_module": "@jupyter-widgets/base",
            "_model_module_version": "1.2.0",
            "_model_name": "LayoutModel",
            "_view_count": null,
            "_view_module": "@jupyter-widgets/base",
            "_view_module_version": "1.2.0",
            "_view_name": "LayoutView",
            "align_content": null,
            "align_items": null,
            "align_self": null,
            "border": null,
            "bottom": null,
            "display": null,
            "flex": null,
            "flex_flow": null,
            "grid_area": null,
            "grid_auto_columns": null,
            "grid_auto_flow": null,
            "grid_auto_rows": null,
            "grid_column": null,
            "grid_gap": null,
            "grid_row": null,
            "grid_template_areas": null,
            "grid_template_columns": null,
            "grid_template_rows": null,
            "height": null,
            "justify_content": null,
            "justify_items": null,
            "left": null,
            "margin": null,
            "max_height": null,
            "max_width": null,
            "min_height": null,
            "min_width": null,
            "object_fit": null,
            "object_position": null,
            "order": null,
            "overflow": null,
            "overflow_x": null,
            "overflow_y": null,
            "padding": null,
            "right": null,
            "top": null,
            "visibility": null,
            "width": null
          }
        },
        "8d2231aa300b4a43bbdcd9bccb973a9c": {
          "model_module": "@jupyter-widgets/controls",
          "model_name": "DescriptionStyleModel",
          "model_module_version": "1.5.0",
          "state": {
            "_model_module": "@jupyter-widgets/controls",
            "_model_module_version": "1.5.0",
            "_model_name": "DescriptionStyleModel",
            "_view_count": null,
            "_view_module": "@jupyter-widgets/base",
            "_view_module_version": "1.2.0",
            "_view_name": "StyleView",
            "description_width": ""
          }
        },
        "38c96fe1191845e98ea08e67310fc1e7": {
          "model_module": "@jupyter-widgets/controls",
          "model_name": "HBoxModel",
          "model_module_version": "1.5.0",
          "state": {
            "_dom_classes": [],
            "_model_module": "@jupyter-widgets/controls",
            "_model_module_version": "1.5.0",
            "_model_name": "HBoxModel",
            "_view_count": null,
            "_view_module": "@jupyter-widgets/controls",
            "_view_module_version": "1.5.0",
            "_view_name": "HBoxView",
            "box_style": "",
            "children": [
              "IPY_MODEL_6978c186ca76481d9da278d4aeae8b8c",
              "IPY_MODEL_42a92229197d44d7acb5ae7c0067f7a2",
              "IPY_MODEL_26783da026784d79a74d4f431f399787"
            ],
            "layout": "IPY_MODEL_6227e5c258914087a105c73509fbeb23"
          }
        },
        "6978c186ca76481d9da278d4aeae8b8c": {
          "model_module": "@jupyter-widgets/controls",
          "model_name": "HTMLModel",
          "model_module_version": "1.5.0",
          "state": {
            "_dom_classes": [],
            "_model_module": "@jupyter-widgets/controls",
            "_model_module_version": "1.5.0",
            "_model_name": "HTMLModel",
            "_view_count": null,
            "_view_module": "@jupyter-widgets/controls",
            "_view_module_version": "1.5.0",
            "_view_name": "HTMLView",
            "description": "",
            "description_tooltip": null,
            "layout": "IPY_MODEL_97f80732c11241ee823fa44c124a7c4a",
            "placeholder": "​",
            "style": "IPY_MODEL_30d8102eb75741ed8658eb315d0e5698",
            "value": "100%"
          }
        },
        "42a92229197d44d7acb5ae7c0067f7a2": {
          "model_module": "@jupyter-widgets/controls",
          "model_name": "FloatProgressModel",
          "model_module_version": "1.5.0",
          "state": {
            "_dom_classes": [],
            "_model_module": "@jupyter-widgets/controls",
            "_model_module_version": "1.5.0",
            "_model_name": "FloatProgressModel",
            "_view_count": null,
            "_view_module": "@jupyter-widgets/controls",
            "_view_module_version": "1.5.0",
            "_view_name": "ProgressView",
            "bar_style": "success",
            "description": "",
            "description_tooltip": null,
            "layout": "IPY_MODEL_3f9f650e67c644f0a54333d25228b3d0",
            "max": 30,
            "min": 0,
            "orientation": "horizontal",
            "style": "IPY_MODEL_8eb4c0cca3654d6ab1e639ba914bb8ec",
            "value": 30
          }
        },
        "26783da026784d79a74d4f431f399787": {
          "model_module": "@jupyter-widgets/controls",
          "model_name": "HTMLModel",
          "model_module_version": "1.5.0",
          "state": {
            "_dom_classes": [],
            "_model_module": "@jupyter-widgets/controls",
            "_model_module_version": "1.5.0",
            "_model_name": "HTMLModel",
            "_view_count": null,
            "_view_module": "@jupyter-widgets/controls",
            "_view_module_version": "1.5.0",
            "_view_name": "HTMLView",
            "description": "",
            "description_tooltip": null,
            "layout": "IPY_MODEL_ca8ad571995040689617f3174cae67ff",
            "placeholder": "​",
            "style": "IPY_MODEL_0d43e91cfee54ab6b50df6a44a9432f2",
            "value": " 30/30 [00:03&lt;00:00,  5.88ba/s]"
          }
        },
        "6227e5c258914087a105c73509fbeb23": {
          "model_module": "@jupyter-widgets/base",
          "model_name": "LayoutModel",
          "model_module_version": "1.2.0",
          "state": {
            "_model_module": "@jupyter-widgets/base",
            "_model_module_version": "1.2.0",
            "_model_name": "LayoutModel",
            "_view_count": null,
            "_view_module": "@jupyter-widgets/base",
            "_view_module_version": "1.2.0",
            "_view_name": "LayoutView",
            "align_content": null,
            "align_items": null,
            "align_self": null,
            "border": null,
            "bottom": null,
            "display": null,
            "flex": null,
            "flex_flow": null,
            "grid_area": null,
            "grid_auto_columns": null,
            "grid_auto_flow": null,
            "grid_auto_rows": null,
            "grid_column": null,
            "grid_gap": null,
            "grid_row": null,
            "grid_template_areas": null,
            "grid_template_columns": null,
            "grid_template_rows": null,
            "height": null,
            "justify_content": null,
            "justify_items": null,
            "left": null,
            "margin": null,
            "max_height": null,
            "max_width": null,
            "min_height": null,
            "min_width": null,
            "object_fit": null,
            "object_position": null,
            "order": null,
            "overflow": null,
            "overflow_x": null,
            "overflow_y": null,
            "padding": null,
            "right": null,
            "top": null,
            "visibility": null,
            "width": null
          }
        },
        "97f80732c11241ee823fa44c124a7c4a": {
          "model_module": "@jupyter-widgets/base",
          "model_name": "LayoutModel",
          "model_module_version": "1.2.0",
          "state": {
            "_model_module": "@jupyter-widgets/base",
            "_model_module_version": "1.2.0",
            "_model_name": "LayoutModel",
            "_view_count": null,
            "_view_module": "@jupyter-widgets/base",
            "_view_module_version": "1.2.0",
            "_view_name": "LayoutView",
            "align_content": null,
            "align_items": null,
            "align_self": null,
            "border": null,
            "bottom": null,
            "display": null,
            "flex": null,
            "flex_flow": null,
            "grid_area": null,
            "grid_auto_columns": null,
            "grid_auto_flow": null,
            "grid_auto_rows": null,
            "grid_column": null,
            "grid_gap": null,
            "grid_row": null,
            "grid_template_areas": null,
            "grid_template_columns": null,
            "grid_template_rows": null,
            "height": null,
            "justify_content": null,
            "justify_items": null,
            "left": null,
            "margin": null,
            "max_height": null,
            "max_width": null,
            "min_height": null,
            "min_width": null,
            "object_fit": null,
            "object_position": null,
            "order": null,
            "overflow": null,
            "overflow_x": null,
            "overflow_y": null,
            "padding": null,
            "right": null,
            "top": null,
            "visibility": null,
            "width": null
          }
        },
        "30d8102eb75741ed8658eb315d0e5698": {
          "model_module": "@jupyter-widgets/controls",
          "model_name": "DescriptionStyleModel",
          "model_module_version": "1.5.0",
          "state": {
            "_model_module": "@jupyter-widgets/controls",
            "_model_module_version": "1.5.0",
            "_model_name": "DescriptionStyleModel",
            "_view_count": null,
            "_view_module": "@jupyter-widgets/base",
            "_view_module_version": "1.2.0",
            "_view_name": "StyleView",
            "description_width": ""
          }
        },
        "3f9f650e67c644f0a54333d25228b3d0": {
          "model_module": "@jupyter-widgets/base",
          "model_name": "LayoutModel",
          "model_module_version": "1.2.0",
          "state": {
            "_model_module": "@jupyter-widgets/base",
            "_model_module_version": "1.2.0",
            "_model_name": "LayoutModel",
            "_view_count": null,
            "_view_module": "@jupyter-widgets/base",
            "_view_module_version": "1.2.0",
            "_view_name": "LayoutView",
            "align_content": null,
            "align_items": null,
            "align_self": null,
            "border": null,
            "bottom": null,
            "display": null,
            "flex": null,
            "flex_flow": null,
            "grid_area": null,
            "grid_auto_columns": null,
            "grid_auto_flow": null,
            "grid_auto_rows": null,
            "grid_column": null,
            "grid_gap": null,
            "grid_row": null,
            "grid_template_areas": null,
            "grid_template_columns": null,
            "grid_template_rows": null,
            "height": null,
            "justify_content": null,
            "justify_items": null,
            "left": null,
            "margin": null,
            "max_height": null,
            "max_width": null,
            "min_height": null,
            "min_width": null,
            "object_fit": null,
            "object_position": null,
            "order": null,
            "overflow": null,
            "overflow_x": null,
            "overflow_y": null,
            "padding": null,
            "right": null,
            "top": null,
            "visibility": null,
            "width": null
          }
        },
        "8eb4c0cca3654d6ab1e639ba914bb8ec": {
          "model_module": "@jupyter-widgets/controls",
          "model_name": "ProgressStyleModel",
          "model_module_version": "1.5.0",
          "state": {
            "_model_module": "@jupyter-widgets/controls",
            "_model_module_version": "1.5.0",
            "_model_name": "ProgressStyleModel",
            "_view_count": null,
            "_view_module": "@jupyter-widgets/base",
            "_view_module_version": "1.2.0",
            "_view_name": "StyleView",
            "bar_color": null,
            "description_width": ""
          }
        },
        "ca8ad571995040689617f3174cae67ff": {
          "model_module": "@jupyter-widgets/base",
          "model_name": "LayoutModel",
          "model_module_version": "1.2.0",
          "state": {
            "_model_module": "@jupyter-widgets/base",
            "_model_module_version": "1.2.0",
            "_model_name": "LayoutModel",
            "_view_count": null,
            "_view_module": "@jupyter-widgets/base",
            "_view_module_version": "1.2.0",
            "_view_name": "LayoutView",
            "align_content": null,
            "align_items": null,
            "align_self": null,
            "border": null,
            "bottom": null,
            "display": null,
            "flex": null,
            "flex_flow": null,
            "grid_area": null,
            "grid_auto_columns": null,
            "grid_auto_flow": null,
            "grid_auto_rows": null,
            "grid_column": null,
            "grid_gap": null,
            "grid_row": null,
            "grid_template_areas": null,
            "grid_template_columns": null,
            "grid_template_rows": null,
            "height": null,
            "justify_content": null,
            "justify_items": null,
            "left": null,
            "margin": null,
            "max_height": null,
            "max_width": null,
            "min_height": null,
            "min_width": null,
            "object_fit": null,
            "object_position": null,
            "order": null,
            "overflow": null,
            "overflow_x": null,
            "overflow_y": null,
            "padding": null,
            "right": null,
            "top": null,
            "visibility": null,
            "width": null
          }
        },
        "0d43e91cfee54ab6b50df6a44a9432f2": {
          "model_module": "@jupyter-widgets/controls",
          "model_name": "DescriptionStyleModel",
          "model_module_version": "1.5.0",
          "state": {
            "_model_module": "@jupyter-widgets/controls",
            "_model_module_version": "1.5.0",
            "_model_name": "DescriptionStyleModel",
            "_view_count": null,
            "_view_module": "@jupyter-widgets/base",
            "_view_module_version": "1.2.0",
            "_view_name": "StyleView",
            "description_width": ""
          }
        },
        "9ce764957cf14f5eb8d0e00d04455134": {
          "model_module": "@jupyter-widgets/controls",
          "model_name": "HBoxModel",
          "model_module_version": "1.5.0",
          "state": {
            "_dom_classes": [],
            "_model_module": "@jupyter-widgets/controls",
            "_model_module_version": "1.5.0",
            "_model_name": "HBoxModel",
            "_view_count": null,
            "_view_module": "@jupyter-widgets/controls",
            "_view_module_version": "1.5.0",
            "_view_name": "HBoxView",
            "box_style": "",
            "children": [
              "IPY_MODEL_72c94c814f064987ae1fd02b06e63690",
              "IPY_MODEL_eb01f27ccab54c378af1cc925fb92bd4",
              "IPY_MODEL_458386f64b214eacb9a61e66b6efde3d"
            ],
            "layout": "IPY_MODEL_27099ddf0419421196847428271555ed"
          }
        },
        "72c94c814f064987ae1fd02b06e63690": {
          "model_module": "@jupyter-widgets/controls",
          "model_name": "HTMLModel",
          "model_module_version": "1.5.0",
          "state": {
            "_dom_classes": [],
            "_model_module": "@jupyter-widgets/controls",
            "_model_module_version": "1.5.0",
            "_model_name": "HTMLModel",
            "_view_count": null,
            "_view_module": "@jupyter-widgets/controls",
            "_view_module_version": "1.5.0",
            "_view_name": "HTMLView",
            "description": "",
            "description_tooltip": null,
            "layout": "IPY_MODEL_f864c10294eb420ba142966f2937220c",
            "placeholder": "​",
            "style": "IPY_MODEL_5734812e37844b1ca981b382c144e18a",
            "value": "100%"
          }
        },
        "eb01f27ccab54c378af1cc925fb92bd4": {
          "model_module": "@jupyter-widgets/controls",
          "model_name": "FloatProgressModel",
          "model_module_version": "1.5.0",
          "state": {
            "_dom_classes": [],
            "_model_module": "@jupyter-widgets/controls",
            "_model_module_version": "1.5.0",
            "_model_name": "FloatProgressModel",
            "_view_count": null,
            "_view_module": "@jupyter-widgets/controls",
            "_view_module_version": "1.5.0",
            "_view_name": "ProgressView",
            "bar_style": "success",
            "description": "",
            "description_tooltip": null,
            "layout": "IPY_MODEL_46a3c18ccce247e88ad94968539f12b7",
            "max": 8,
            "min": 0,
            "orientation": "horizontal",
            "style": "IPY_MODEL_f85a385703fb4213935f3593c8366fea",
            "value": 8
          }
        },
        "458386f64b214eacb9a61e66b6efde3d": {
          "model_module": "@jupyter-widgets/controls",
          "model_name": "HTMLModel",
          "model_module_version": "1.5.0",
          "state": {
            "_dom_classes": [],
            "_model_module": "@jupyter-widgets/controls",
            "_model_module_version": "1.5.0",
            "_model_name": "HTMLModel",
            "_view_count": null,
            "_view_module": "@jupyter-widgets/controls",
            "_view_module_version": "1.5.0",
            "_view_name": "HTMLView",
            "description": "",
            "description_tooltip": null,
            "layout": "IPY_MODEL_80c37e79739747f3b8b415067053f9e3",
            "placeholder": "​",
            "style": "IPY_MODEL_ea7bbbc6b2a54ca69a383e834578fe25",
            "value": " 8/8 [00:01&lt;00:00,  7.35ba/s]"
          }
        },
        "27099ddf0419421196847428271555ed": {
          "model_module": "@jupyter-widgets/base",
          "model_name": "LayoutModel",
          "model_module_version": "1.2.0",
          "state": {
            "_model_module": "@jupyter-widgets/base",
            "_model_module_version": "1.2.0",
            "_model_name": "LayoutModel",
            "_view_count": null,
            "_view_module": "@jupyter-widgets/base",
            "_view_module_version": "1.2.0",
            "_view_name": "LayoutView",
            "align_content": null,
            "align_items": null,
            "align_self": null,
            "border": null,
            "bottom": null,
            "display": null,
            "flex": null,
            "flex_flow": null,
            "grid_area": null,
            "grid_auto_columns": null,
            "grid_auto_flow": null,
            "grid_auto_rows": null,
            "grid_column": null,
            "grid_gap": null,
            "grid_row": null,
            "grid_template_areas": null,
            "grid_template_columns": null,
            "grid_template_rows": null,
            "height": null,
            "justify_content": null,
            "justify_items": null,
            "left": null,
            "margin": null,
            "max_height": null,
            "max_width": null,
            "min_height": null,
            "min_width": null,
            "object_fit": null,
            "object_position": null,
            "order": null,
            "overflow": null,
            "overflow_x": null,
            "overflow_y": null,
            "padding": null,
            "right": null,
            "top": null,
            "visibility": null,
            "width": null
          }
        },
        "f864c10294eb420ba142966f2937220c": {
          "model_module": "@jupyter-widgets/base",
          "model_name": "LayoutModel",
          "model_module_version": "1.2.0",
          "state": {
            "_model_module": "@jupyter-widgets/base",
            "_model_module_version": "1.2.0",
            "_model_name": "LayoutModel",
            "_view_count": null,
            "_view_module": "@jupyter-widgets/base",
            "_view_module_version": "1.2.0",
            "_view_name": "LayoutView",
            "align_content": null,
            "align_items": null,
            "align_self": null,
            "border": null,
            "bottom": null,
            "display": null,
            "flex": null,
            "flex_flow": null,
            "grid_area": null,
            "grid_auto_columns": null,
            "grid_auto_flow": null,
            "grid_auto_rows": null,
            "grid_column": null,
            "grid_gap": null,
            "grid_row": null,
            "grid_template_areas": null,
            "grid_template_columns": null,
            "grid_template_rows": null,
            "height": null,
            "justify_content": null,
            "justify_items": null,
            "left": null,
            "margin": null,
            "max_height": null,
            "max_width": null,
            "min_height": null,
            "min_width": null,
            "object_fit": null,
            "object_position": null,
            "order": null,
            "overflow": null,
            "overflow_x": null,
            "overflow_y": null,
            "padding": null,
            "right": null,
            "top": null,
            "visibility": null,
            "width": null
          }
        },
        "5734812e37844b1ca981b382c144e18a": {
          "model_module": "@jupyter-widgets/controls",
          "model_name": "DescriptionStyleModel",
          "model_module_version": "1.5.0",
          "state": {
            "_model_module": "@jupyter-widgets/controls",
            "_model_module_version": "1.5.0",
            "_model_name": "DescriptionStyleModel",
            "_view_count": null,
            "_view_module": "@jupyter-widgets/base",
            "_view_module_version": "1.2.0",
            "_view_name": "StyleView",
            "description_width": ""
          }
        },
        "46a3c18ccce247e88ad94968539f12b7": {
          "model_module": "@jupyter-widgets/base",
          "model_name": "LayoutModel",
          "model_module_version": "1.2.0",
          "state": {
            "_model_module": "@jupyter-widgets/base",
            "_model_module_version": "1.2.0",
            "_model_name": "LayoutModel",
            "_view_count": null,
            "_view_module": "@jupyter-widgets/base",
            "_view_module_version": "1.2.0",
            "_view_name": "LayoutView",
            "align_content": null,
            "align_items": null,
            "align_self": null,
            "border": null,
            "bottom": null,
            "display": null,
            "flex": null,
            "flex_flow": null,
            "grid_area": null,
            "grid_auto_columns": null,
            "grid_auto_flow": null,
            "grid_auto_rows": null,
            "grid_column": null,
            "grid_gap": null,
            "grid_row": null,
            "grid_template_areas": null,
            "grid_template_columns": null,
            "grid_template_rows": null,
            "height": null,
            "justify_content": null,
            "justify_items": null,
            "left": null,
            "margin": null,
            "max_height": null,
            "max_width": null,
            "min_height": null,
            "min_width": null,
            "object_fit": null,
            "object_position": null,
            "order": null,
            "overflow": null,
            "overflow_x": null,
            "overflow_y": null,
            "padding": null,
            "right": null,
            "top": null,
            "visibility": null,
            "width": null
          }
        },
        "f85a385703fb4213935f3593c8366fea": {
          "model_module": "@jupyter-widgets/controls",
          "model_name": "ProgressStyleModel",
          "model_module_version": "1.5.0",
          "state": {
            "_model_module": "@jupyter-widgets/controls",
            "_model_module_version": "1.5.0",
            "_model_name": "ProgressStyleModel",
            "_view_count": null,
            "_view_module": "@jupyter-widgets/base",
            "_view_module_version": "1.2.0",
            "_view_name": "StyleView",
            "bar_color": null,
            "description_width": ""
          }
        },
        "80c37e79739747f3b8b415067053f9e3": {
          "model_module": "@jupyter-widgets/base",
          "model_name": "LayoutModel",
          "model_module_version": "1.2.0",
          "state": {
            "_model_module": "@jupyter-widgets/base",
            "_model_module_version": "1.2.0",
            "_model_name": "LayoutModel",
            "_view_count": null,
            "_view_module": "@jupyter-widgets/base",
            "_view_module_version": "1.2.0",
            "_view_name": "LayoutView",
            "align_content": null,
            "align_items": null,
            "align_self": null,
            "border": null,
            "bottom": null,
            "display": null,
            "flex": null,
            "flex_flow": null,
            "grid_area": null,
            "grid_auto_columns": null,
            "grid_auto_flow": null,
            "grid_auto_rows": null,
            "grid_column": null,
            "grid_gap": null,
            "grid_row": null,
            "grid_template_areas": null,
            "grid_template_columns": null,
            "grid_template_rows": null,
            "height": null,
            "justify_content": null,
            "justify_items": null,
            "left": null,
            "margin": null,
            "max_height": null,
            "max_width": null,
            "min_height": null,
            "min_width": null,
            "object_fit": null,
            "object_position": null,
            "order": null,
            "overflow": null,
            "overflow_x": null,
            "overflow_y": null,
            "padding": null,
            "right": null,
            "top": null,
            "visibility": null,
            "width": null
          }
        },
        "ea7bbbc6b2a54ca69a383e834578fe25": {
          "model_module": "@jupyter-widgets/controls",
          "model_name": "DescriptionStyleModel",
          "model_module_version": "1.5.0",
          "state": {
            "_model_module": "@jupyter-widgets/controls",
            "_model_module_version": "1.5.0",
            "_model_name": "DescriptionStyleModel",
            "_view_count": null,
            "_view_module": "@jupyter-widgets/base",
            "_view_module_version": "1.2.0",
            "_view_name": "StyleView",
            "description_width": ""
          }
        }
      }
    }
  },
  "cells": [
    {
      "cell_type": "code",
      "source": [
        "!nvidia-smi"
      ],
      "metadata": {
        "colab": {
          "base_uri": "https://localhost:8080/"
        },
        "id": "h460sHoQYjST",
        "outputId": "7af3a1ac-1943-4641-effb-4ac289c4da9b"
      },
      "execution_count": null,
      "outputs": [
        {
          "output_type": "stream",
          "name": "stdout",
          "text": [
            "Sun May 29 06:45:10 2022       \n",
            "+-----------------------------------------------------------------------------+\n",
            "| NVIDIA-SMI 460.32.03    Driver Version: 460.32.03    CUDA Version: 11.2     |\n",
            "|-------------------------------+----------------------+----------------------+\n",
            "| GPU  Name        Persistence-M| Bus-Id        Disp.A | Volatile Uncorr. ECC |\n",
            "| Fan  Temp  Perf  Pwr:Usage/Cap|         Memory-Usage | GPU-Util  Compute M. |\n",
            "|                               |                      |               MIG M. |\n",
            "|===============================+======================+======================|\n",
            "|   0  Tesla T4            Off  | 00000000:00:04.0 Off |                    0 |\n",
            "| N/A   51C    P8    10W /  70W |      0MiB / 15109MiB |      0%      Default |\n",
            "|                               |                      |                  N/A |\n",
            "+-------------------------------+----------------------+----------------------+\n",
            "                                                                               \n",
            "+-----------------------------------------------------------------------------+\n",
            "| Processes:                                                                  |\n",
            "|  GPU   GI   CI        PID   Type   Process name                  GPU Memory |\n",
            "|        ID   ID                                                   Usage      |\n",
            "|=============================================================================|\n",
            "|  No running processes found                                                 |\n",
            "+-----------------------------------------------------------------------------+\n"
          ]
        }
      ]
    },
    {
      "cell_type": "code",
      "source": [
        "from google.colab import drive\n",
        "drive.mount('/content/gdrive')"
      ],
      "metadata": {
        "colab": {
          "base_uri": "https://localhost:8080/"
        },
        "id": "wq3l2TU4Yjwg",
        "outputId": "b43d8bfa-792e-47b3-eef5-6e0855cb1b91"
      },
      "execution_count": null,
      "outputs": [
        {
          "output_type": "stream",
          "name": "stdout",
          "text": [
            "Mounted at /content/gdrive\n"
          ]
        }
      ]
    },
    {
      "cell_type": "code",
      "source": [
        "%pip install -q transformers[sentencepiece] datasets"
      ],
      "metadata": {
        "colab": {
          "base_uri": "https://localhost:8080/"
        },
        "id": "RWjqiyXRrQjr",
        "outputId": "8ab10690-503d-42d2-9834-929f454b6dba"
      },
      "execution_count": null,
      "outputs": [
        {
          "output_type": "stream",
          "name": "stdout",
          "text": [
            "\u001b[K     |████████████████████████████████| 4.2 MB 8.0 MB/s \n",
            "\u001b[K     |████████████████████████████████| 346 kB 57.2 MB/s \n",
            "\u001b[K     |████████████████████████████████| 212 kB 72.7 MB/s \n",
            "\u001b[K     |████████████████████████████████| 86 kB 5.9 MB/s \n",
            "\u001b[K     |████████████████████████████████| 140 kB 74.1 MB/s \n",
            "\u001b[K     |████████████████████████████████| 1.1 MB 57.2 MB/s \n",
            "\u001b[K     |████████████████████████████████| 86 kB 6.6 MB/s \n",
            "\u001b[K     |████████████████████████████████| 596 kB 63.4 MB/s \n",
            "\u001b[K     |████████████████████████████████| 127 kB 66.7 MB/s \n",
            "\u001b[K     |████████████████████████████████| 94 kB 4.1 MB/s \n",
            "\u001b[K     |████████████████████████████████| 144 kB 70.5 MB/s \n",
            "\u001b[K     |████████████████████████████████| 271 kB 72.5 MB/s \n",
            "\u001b[K     |████████████████████████████████| 6.6 MB 48.5 MB/s \n",
            "\u001b[K     |████████████████████████████████| 1.2 MB 54.6 MB/s \n",
            "\u001b[31mERROR: pip's dependency resolver does not currently take into account all the packages that are installed. This behaviour is the source of the following dependency conflicts.\n",
            "datascience 0.10.6 requires folium==0.2.1, but you have folium 0.8.3 which is incompatible.\u001b[0m\n",
            "\u001b[?25h"
          ]
        }
      ]
    },
    {
      "cell_type": "markdown",
      "source": [
        "### In this notebook we experiment by finetuning a deberta-v3-small model on competition data by adding missing anchor and target words to deberta tokenizer vocab."
      ],
      "metadata": {
        "id": "smOwYeJq980J"
      }
    },
    {
      "cell_type": "code",
      "execution_count": null,
      "metadata": {
        "id": "UvSgv0xcWgWu"
      },
      "outputs": [],
      "source": [
        "import numpy as np\n",
        "import pandas as pd\n",
        "import torch\n",
        "import os\n",
        "from sklearn.model_selection import StratifiedKFold\n",
        "from datasets import Dataset\n",
        "from torch.utils.data import DataLoader\n",
        "from transformers import AutoModelForSequenceClassification\n",
        "from transformers import TrainingArguments, Trainer\n",
        "import torch.multiprocessing as mp\n",
        "import warnings\n",
        "\n",
        "warnings.filterwarnings('ignore')\n"
      ]
    },
    {
      "cell_type": "code",
      "source": [
        "class TrainingArgs:\n",
        "    weight_decay = 0.01\n",
        "    learning_rate = 2e-5  \n",
        "    warmup_ratio = 0.1\n",
        "    gradient_accumulation_steps = 1\n",
        "    fp16 = True\n",
        "    lr_scheduler_type = \"cosine\"\n",
        "    # Number of checkpoints to save for each model\n",
        "    save_total_limit = 1\n",
        "\n",
        "class Config:\n",
        "    DATA_PATH = \"/content/gdrive/MyDrive/Kaggle/NLP/PatentPhraseMatching/data/\"\n",
        "    # location where trained model weights are saved\n",
        "    OUT_DIR = \"/content/gdrive/MyDrive/Kaggle/NLP/PatentPhraseMatching/model/deberta-small\"\n",
        "    RUNTIME = \"COLAB\"\n",
        "    RANDOM_STATE = 42\n",
        "    BATCH_SIZE = 128\n",
        "    NUM_LABELS = 1\n",
        "    NUM_FOLDS = 5\n",
        "    RUN_ALL_FOLDS = True\n",
        "    NUM_EPOCHS = 4\n",
        "    NUM_WORKERS = mp.cpu_count()\n",
        "    TRANSFORMER_CHECKPOINT = \"microsoft/deberta-v3-small\"\n",
        "    DEVICE = torch.device('cuda' if torch.cuda.is_available() else 'cpu')\n",
        "    SUBSET_ROWS_FRAC = 0.1\n",
        "    TRAIN_ON_SUBSET = False\n",
        "    RANDOM_SEED = 42\n",
        "\n",
        "os.environ[\"TOKENIZERS_PARALLELISM\"] = \"false\""
      ],
      "metadata": {
        "id": "ZUFOAd9PnMeC"
      },
      "execution_count": null,
      "outputs": []
    },
    {
      "cell_type": "code",
      "source": [
        "df_train = pd.read_csv(Config.DATA_PATH + \"train.csv\")\n",
        "df_test = pd.read_csv(Config.DATA_PATH + \"test.csv\")\n",
        "df_titles = pd.read_csv(Config.DATA_PATH + \"titles.csv\")"
      ],
      "metadata": {
        "id": "vJxWPSZuY5vC"
      },
      "execution_count": null,
      "outputs": []
    },
    {
      "cell_type": "code",
      "source": [
        "len(df_train)"
      ],
      "metadata": {
        "colab": {
          "base_uri": "https://localhost:8080/"
        },
        "id": "XEjWbfxxK7_t",
        "outputId": "6d458621-9a69-46ae-a209-ba79907e728f"
      },
      "execution_count": null,
      "outputs": [
        {
          "output_type": "execute_result",
          "data": {
            "text/plain": [
              "36473"
            ]
          },
          "metadata": {},
          "execution_count": 5
        }
      ]
    },
    {
      "cell_type": "code",
      "source": [
        "df_train.target.value_counts()"
      ],
      "metadata": {
        "colab": {
          "base_uri": "https://localhost:8080/"
        },
        "id": "wPL0Z1rl020z",
        "outputId": "6ea2b9f0-d7a5-4020-a604-24ba7ed82d2d"
      },
      "execution_count": null,
      "outputs": [
        {
          "output_type": "execute_result",
          "data": {
            "text/plain": [
              "composition                    24\n",
              "data                           22\n",
              "metal                          22\n",
              "motor                          22\n",
              "assembly                       21\n",
              "                               ..\n",
              "switching switch over valve     1\n",
              "switching switch off valve      1\n",
              "switching over valve            1\n",
              "switching off valve             1\n",
              "wooden substrate                1\n",
              "Name: target, Length: 29340, dtype: int64"
            ]
          },
          "metadata": {},
          "execution_count": 6
        }
      ]
    },
    {
      "cell_type": "code",
      "source": [
        "df_train.anchor.value_counts()"
      ],
      "metadata": {
        "colab": {
          "base_uri": "https://localhost:8080/"
        },
        "id": "xwinodhu0ttx",
        "outputId": "03d406b4-b044-4c75-f2e7-9dcdbb23aaab"
      },
      "execution_count": null,
      "outputs": [
        {
          "output_type": "execute_result",
          "data": {
            "text/plain": [
              "component composite coating              152\n",
              "sheet supply roller                      150\n",
              "source voltage                           140\n",
              "perfluoroalkyl group                     136\n",
              "el display                               135\n",
              "                                        ... \n",
              "plug nozzle                                2\n",
              "shannon                                    2\n",
              "dry coating composition1                   2\n",
              "peripheral nervous system stimulation      1\n",
              "conduct conducting material                1\n",
              "Name: anchor, Length: 733, dtype: int64"
            ]
          },
          "metadata": {},
          "execution_count": 7
        }
      ]
    },
    {
      "cell_type": "code",
      "source": [
        "df_train.context.value_counts()"
      ],
      "metadata": {
        "colab": {
          "base_uri": "https://localhost:8080/"
        },
        "id": "Oe52k2C3yKeN",
        "outputId": "1b7e83d3-da33-43ce-cb29-0e5ae42151f1"
      },
      "execution_count": null,
      "outputs": [
        {
          "output_type": "execute_result",
          "data": {
            "text/plain": [
              "H01    2186\n",
              "H04    2177\n",
              "G01    1812\n",
              "A61    1477\n",
              "F16    1091\n",
              "       ... \n",
              "B03      47\n",
              "F17      33\n",
              "B31      24\n",
              "A62      23\n",
              "F26      18\n",
              "Name: context, Length: 106, dtype: int64"
            ]
          },
          "metadata": {},
          "execution_count": 8
        }
      ]
    },
    {
      "cell_type": "code",
      "source": [
        "df_train[\"section\"] = df_train.context.str[0]"
      ],
      "metadata": {
        "id": "QOkNxZGEyvyv"
      },
      "execution_count": null,
      "outputs": []
    },
    {
      "cell_type": "code",
      "source": [
        "df_train.section.value_counts()"
      ],
      "metadata": {
        "colab": {
          "base_uri": "https://localhost:8080/"
        },
        "id": "fietxsC_0nx3",
        "outputId": "3cedac39-8ebe-47c5-fe0b-11ab372e58a4"
      },
      "execution_count": null,
      "outputs": [
        {
          "output_type": "execute_result",
          "data": {
            "text/plain": [
              "B    8019\n",
              "H    6195\n",
              "G    6013\n",
              "C    5288\n",
              "A    4094\n",
              "F    4054\n",
              "E    1531\n",
              "D    1279\n",
              "Name: section, dtype: int64"
            ]
          },
          "metadata": {},
          "execution_count": 10
        }
      ]
    },
    {
      "cell_type": "code",
      "source": [
        "df_train.score.value_counts()"
      ],
      "metadata": {
        "colab": {
          "base_uri": "https://localhost:8080/"
        },
        "id": "LiGlTgQxyfOH",
        "outputId": "47ffcc9e-a226-4ada-b824-1b7e48cf73b7"
      },
      "execution_count": null,
      "outputs": [
        {
          "output_type": "execute_result",
          "data": {
            "text/plain": [
              "0.50    12300\n",
              "0.25    11519\n",
              "0.00     7471\n",
              "0.75     4029\n",
              "1.00     1154\n",
              "Name: score, dtype: int64"
            ]
          },
          "metadata": {},
          "execution_count": 11
        }
      ]
    },
    {
      "cell_type": "code",
      "source": [
        "def strat_kfold_dataframe(df, target_col_name, num_folds=5):\n",
        "    # we create a new column called kfold and fill it with -1\n",
        "    df[\"kfold\"] = -1\n",
        "    # randomize of shuffle the rows of dataframe before splitting is done\n",
        "    df.sample(frac=1, random_state=Config.RANDOM_STATE).reset_index(drop=True)\n",
        "    y = df[target_col_name].values\n",
        "    skf = StratifiedKFold(n_splits=num_folds, shuffle=True, random_state=Config.RANDOM_STATE)\n",
        "    # stratification is done on the basis of y labels, a placeholder for X is sufficient\n",
        "    for fold, (train_idx, val_idx) in enumerate(skf.split(X=df, y=y)):\n",
        "        df.loc[val_idx, \"kfold\"] = fold\n",
        "    return df"
      ],
      "metadata": {
        "id": "laP1LyLsoxe_"
      },
      "execution_count": null,
      "outputs": []
    },
    {
      "cell_type": "code",
      "source": [
        "if Config.TRAIN_ON_SUBSET:\n",
        "    print(f\"Selecting {Config.SUBSET_ROWS_FRAC * 100}% training data\")\n",
        "    df_train = df_train.sample(frac=Config.SUBSET_ROWS_FRAC, random_state=Config.RANDOM_SEED).reset_index(drop=True)\n",
        "\n",
        "# Since the target column (score) is continuous, we need to create bins out of the target column\n",
        "df_train.loc[:, \"bins\"] = pd.cut(df_train.score, bins=5, labels=[0,1,2,3,4])\n",
        "# Now do a stratified k fold on the bins column (which is a categorical column)\n",
        "df_train = strat_kfold_dataframe(df_train, target_col_name=\"bins\", num_folds=Config.NUM_FOLDS)            \n",
        "# drop the bin column\n",
        "df_train = df_train.drop([\"bins\"], axis=1)"
      ],
      "metadata": {
        "id": "e5dwA39eQET9"
      },
      "execution_count": null,
      "outputs": []
    },
    {
      "cell_type": "code",
      "source": [
        "# Let us check if the stratification has been done correctly\n",
        "# The mean of score column should be similar across folds \n",
        "fold_score_mean = []\n",
        "for fold in range(Config.NUM_FOLDS):\n",
        "    fold_score_mean.append(np.mean(df_train[df_train.kfold == fold].score.values))\n",
        "fold_score_mean"
      ],
      "metadata": {
        "colab": {
          "base_uri": "https://localhost:8080/"
        },
        "id": "-aAbRqQKha7u",
        "outputId": "81b055c2-a349-4e23-8b82-9e52731e9652"
      },
      "execution_count": null,
      "outputs": [
        {
          "output_type": "execute_result",
          "data": {
            "text/plain": [
              "[0.36209732693625774,\n",
              " 0.36209732693625774,\n",
              " 0.36209732693625774,\n",
              " 0.3619755963805868,\n",
              " 0.3620441458733205]"
            ]
          },
          "metadata": {},
          "execution_count": 14
        }
      ]
    },
    {
      "cell_type": "code",
      "source": [
        "df_titles.head()"
      ],
      "metadata": {
        "colab": {
          "base_uri": "https://localhost:8080/",
          "height": 206
        },
        "id": "Nu9yrrW33CGl",
        "outputId": "8f6f2bb8-b9a6-4b05-dd52-3bcd8f8116b4"
      },
      "execution_count": null,
      "outputs": [
        {
          "output_type": "execute_result",
          "data": {
            "text/plain": [
              "       code                                              title section  class  \\\n",
              "0         A                                  HUMAN NECESSITIES       A    NaN   \n",
              "1       A01  AGRICULTURE; FORESTRY; ANIMAL HUSBANDRY; HUNTI...       A    1.0   \n",
              "2      A01B  SOIL WORKING IN AGRICULTURE OR FORESTRY; PARTS...       A    1.0   \n",
              "3  A01B1/00  Hand tools (edge trimmers for lawns A01G3/06  ...       A    1.0   \n",
              "4  A01B1/02  Spades; Shovels {(hand-operated dredgers E02F3...       A    1.0   \n",
              "\n",
              "  subclass  group  main_group  \n",
              "0      NaN    NaN         NaN  \n",
              "1      NaN    NaN         NaN  \n",
              "2        B    NaN         NaN  \n",
              "3        B    1.0         0.0  \n",
              "4        B    1.0         2.0  "
            ],
            "text/html": [
              "\n",
              "  <div id=\"df-30bbb924-b7e0-4ede-8f04-75214780cf20\">\n",
              "    <div class=\"colab-df-container\">\n",
              "      <div>\n",
              "<style scoped>\n",
              "    .dataframe tbody tr th:only-of-type {\n",
              "        vertical-align: middle;\n",
              "    }\n",
              "\n",
              "    .dataframe tbody tr th {\n",
              "        vertical-align: top;\n",
              "    }\n",
              "\n",
              "    .dataframe thead th {\n",
              "        text-align: right;\n",
              "    }\n",
              "</style>\n",
              "<table border=\"1\" class=\"dataframe\">\n",
              "  <thead>\n",
              "    <tr style=\"text-align: right;\">\n",
              "      <th></th>\n",
              "      <th>code</th>\n",
              "      <th>title</th>\n",
              "      <th>section</th>\n",
              "      <th>class</th>\n",
              "      <th>subclass</th>\n",
              "      <th>group</th>\n",
              "      <th>main_group</th>\n",
              "    </tr>\n",
              "  </thead>\n",
              "  <tbody>\n",
              "    <tr>\n",
              "      <th>0</th>\n",
              "      <td>A</td>\n",
              "      <td>HUMAN NECESSITIES</td>\n",
              "      <td>A</td>\n",
              "      <td>NaN</td>\n",
              "      <td>NaN</td>\n",
              "      <td>NaN</td>\n",
              "      <td>NaN</td>\n",
              "    </tr>\n",
              "    <tr>\n",
              "      <th>1</th>\n",
              "      <td>A01</td>\n",
              "      <td>AGRICULTURE; FORESTRY; ANIMAL HUSBANDRY; HUNTI...</td>\n",
              "      <td>A</td>\n",
              "      <td>1.0</td>\n",
              "      <td>NaN</td>\n",
              "      <td>NaN</td>\n",
              "      <td>NaN</td>\n",
              "    </tr>\n",
              "    <tr>\n",
              "      <th>2</th>\n",
              "      <td>A01B</td>\n",
              "      <td>SOIL WORKING IN AGRICULTURE OR FORESTRY; PARTS...</td>\n",
              "      <td>A</td>\n",
              "      <td>1.0</td>\n",
              "      <td>B</td>\n",
              "      <td>NaN</td>\n",
              "      <td>NaN</td>\n",
              "    </tr>\n",
              "    <tr>\n",
              "      <th>3</th>\n",
              "      <td>A01B1/00</td>\n",
              "      <td>Hand tools (edge trimmers for lawns A01G3/06  ...</td>\n",
              "      <td>A</td>\n",
              "      <td>1.0</td>\n",
              "      <td>B</td>\n",
              "      <td>1.0</td>\n",
              "      <td>0.0</td>\n",
              "    </tr>\n",
              "    <tr>\n",
              "      <th>4</th>\n",
              "      <td>A01B1/02</td>\n",
              "      <td>Spades; Shovels {(hand-operated dredgers E02F3...</td>\n",
              "      <td>A</td>\n",
              "      <td>1.0</td>\n",
              "      <td>B</td>\n",
              "      <td>1.0</td>\n",
              "      <td>2.0</td>\n",
              "    </tr>\n",
              "  </tbody>\n",
              "</table>\n",
              "</div>\n",
              "      <button class=\"colab-df-convert\" onclick=\"convertToInteractive('df-30bbb924-b7e0-4ede-8f04-75214780cf20')\"\n",
              "              title=\"Convert this dataframe to an interactive table.\"\n",
              "              style=\"display:none;\">\n",
              "        \n",
              "  <svg xmlns=\"http://www.w3.org/2000/svg\" height=\"24px\"viewBox=\"0 0 24 24\"\n",
              "       width=\"24px\">\n",
              "    <path d=\"M0 0h24v24H0V0z\" fill=\"none\"/>\n",
              "    <path d=\"M18.56 5.44l.94 2.06.94-2.06 2.06-.94-2.06-.94-.94-2.06-.94 2.06-2.06.94zm-11 1L8.5 8.5l.94-2.06 2.06-.94-2.06-.94L8.5 2.5l-.94 2.06-2.06.94zm10 10l.94 2.06.94-2.06 2.06-.94-2.06-.94-.94-2.06-.94 2.06-2.06.94z\"/><path d=\"M17.41 7.96l-1.37-1.37c-.4-.4-.92-.59-1.43-.59-.52 0-1.04.2-1.43.59L10.3 9.45l-7.72 7.72c-.78.78-.78 2.05 0 2.83L4 21.41c.39.39.9.59 1.41.59.51 0 1.02-.2 1.41-.59l7.78-7.78 2.81-2.81c.8-.78.8-2.07 0-2.86zM5.41 20L4 18.59l7.72-7.72 1.47 1.35L5.41 20z\"/>\n",
              "  </svg>\n",
              "      </button>\n",
              "      \n",
              "  <style>\n",
              "    .colab-df-container {\n",
              "      display:flex;\n",
              "      flex-wrap:wrap;\n",
              "      gap: 12px;\n",
              "    }\n",
              "\n",
              "    .colab-df-convert {\n",
              "      background-color: #E8F0FE;\n",
              "      border: none;\n",
              "      border-radius: 50%;\n",
              "      cursor: pointer;\n",
              "      display: none;\n",
              "      fill: #1967D2;\n",
              "      height: 32px;\n",
              "      padding: 0 0 0 0;\n",
              "      width: 32px;\n",
              "    }\n",
              "\n",
              "    .colab-df-convert:hover {\n",
              "      background-color: #E2EBFA;\n",
              "      box-shadow: 0px 1px 2px rgba(60, 64, 67, 0.3), 0px 1px 3px 1px rgba(60, 64, 67, 0.15);\n",
              "      fill: #174EA6;\n",
              "    }\n",
              "\n",
              "    [theme=dark] .colab-df-convert {\n",
              "      background-color: #3B4455;\n",
              "      fill: #D2E3FC;\n",
              "    }\n",
              "\n",
              "    [theme=dark] .colab-df-convert:hover {\n",
              "      background-color: #434B5C;\n",
              "      box-shadow: 0px 1px 3px 1px rgba(0, 0, 0, 0.15);\n",
              "      filter: drop-shadow(0px 1px 2px rgba(0, 0, 0, 0.3));\n",
              "      fill: #FFFFFF;\n",
              "    }\n",
              "  </style>\n",
              "\n",
              "      <script>\n",
              "        const buttonEl =\n",
              "          document.querySelector('#df-30bbb924-b7e0-4ede-8f04-75214780cf20 button.colab-df-convert');\n",
              "        buttonEl.style.display =\n",
              "          google.colab.kernel.accessAllowed ? 'block' : 'none';\n",
              "\n",
              "        async function convertToInteractive(key) {\n",
              "          const element = document.querySelector('#df-30bbb924-b7e0-4ede-8f04-75214780cf20');\n",
              "          const dataTable =\n",
              "            await google.colab.kernel.invokeFunction('convertToInteractive',\n",
              "                                                     [key], {});\n",
              "          if (!dataTable) return;\n",
              "\n",
              "          const docLinkHtml = 'Like what you see? Visit the ' +\n",
              "            '<a target=\"_blank\" href=https://colab.research.google.com/notebooks/data_table.ipynb>data table notebook</a>'\n",
              "            + ' to learn more about interactive tables.';\n",
              "          element.innerHTML = '';\n",
              "          dataTable['output_type'] = 'display_data';\n",
              "          await google.colab.output.renderOutput(dataTable, element);\n",
              "          const docLink = document.createElement('div');\n",
              "          docLink.innerHTML = docLinkHtml;\n",
              "          element.appendChild(docLink);\n",
              "        }\n",
              "      </script>\n",
              "    </div>\n",
              "  </div>\n",
              "  "
            ]
          },
          "metadata": {},
          "execution_count": 15
        }
      ]
    },
    {
      "cell_type": "code",
      "source": [
        "df_train = pd.merge(\n",
        "    left = df_train,\n",
        "    right = df_titles[[\"code\", \"title\"]],\n",
        "    how = \"inner\",\n",
        "    left_on = \"context\",\n",
        "    right_on = \"code\"\n",
        ")"
      ],
      "metadata": {
        "id": "7cnxD7nK6TAt"
      },
      "execution_count": null,
      "outputs": []
    },
    {
      "cell_type": "code",
      "source": [
        "df_train"
      ],
      "metadata": {
        "colab": {
          "base_uri": "https://localhost:8080/",
          "height": 468
        },
        "id": "9aUflu1vLtW9",
        "outputId": "62744fa2-0051-45d7-c083-4f3c58f05830"
      },
      "execution_count": null,
      "outputs": [
        {
          "output_type": "execute_result",
          "data": {
            "text/plain": [
              "                     id        anchor                  target context  score  \\\n",
              "0      37d61fd2272659b1     abatement  abatement of pollution     A47   0.50   \n",
              "1      7b9652b17b68b7a4     abatement          act of abating     A47   0.75   \n",
              "2      36d72442aefd8232     abatement         active catalyst     A47   0.25   \n",
              "3      5296b0c19e1ce60e     abatement     eliminating process     A47   0.50   \n",
              "4      54c1e3b9184cb5b6     abatement           forest region     A47   0.00   \n",
              "...                 ...           ...                     ...     ...    ...   \n",
              "36468  718f1c6953e3942f    undulation     undulatory swimmers     B31   0.00   \n",
              "36469  4dc407e6d0aa7844    undulation       voltage fluctuate     B31   0.00   \n",
              "36470  de69548ad79caccc  web transfer       transfer from web     B31   0.75   \n",
              "36471  6620317413e6e03f  web transfer         transfer to web     B31   0.25   \n",
              "36472  96946de83b530746  web transfer            transfer web     B31   0.75   \n",
              "\n",
              "      section  kfold code                                              title  \n",
              "0           A      1  A47  FURNITURE; DOMESTIC ARTICLES OR APPLIANCES; CO...  \n",
              "1           A      3  A47  FURNITURE; DOMESTIC ARTICLES OR APPLIANCES; CO...  \n",
              "2           A      2  A47  FURNITURE; DOMESTIC ARTICLES OR APPLIANCES; CO...  \n",
              "3           A      3  A47  FURNITURE; DOMESTIC ARTICLES OR APPLIANCES; CO...  \n",
              "4           A      0  A47  FURNITURE; DOMESTIC ARTICLES OR APPLIANCES; CO...  \n",
              "...       ...    ...  ...                                                ...  \n",
              "36468       B      0  B31  MAKING ARTICLES OF PAPER, CARDBOARD OR MATERIA...  \n",
              "36469       B      0  B31  MAKING ARTICLES OF PAPER, CARDBOARD OR MATERIA...  \n",
              "36470       B      3  B31  MAKING ARTICLES OF PAPER, CARDBOARD OR MATERIA...  \n",
              "36471       B      2  B31  MAKING ARTICLES OF PAPER, CARDBOARD OR MATERIA...  \n",
              "36472       B      1  B31  MAKING ARTICLES OF PAPER, CARDBOARD OR MATERIA...  \n",
              "\n",
              "[36473 rows x 9 columns]"
            ],
            "text/html": [
              "\n",
              "  <div id=\"df-a61e977a-9006-4db9-b9f3-00c0e323a903\">\n",
              "    <div class=\"colab-df-container\">\n",
              "      <div>\n",
              "<style scoped>\n",
              "    .dataframe tbody tr th:only-of-type {\n",
              "        vertical-align: middle;\n",
              "    }\n",
              "\n",
              "    .dataframe tbody tr th {\n",
              "        vertical-align: top;\n",
              "    }\n",
              "\n",
              "    .dataframe thead th {\n",
              "        text-align: right;\n",
              "    }\n",
              "</style>\n",
              "<table border=\"1\" class=\"dataframe\">\n",
              "  <thead>\n",
              "    <tr style=\"text-align: right;\">\n",
              "      <th></th>\n",
              "      <th>id</th>\n",
              "      <th>anchor</th>\n",
              "      <th>target</th>\n",
              "      <th>context</th>\n",
              "      <th>score</th>\n",
              "      <th>section</th>\n",
              "      <th>kfold</th>\n",
              "      <th>code</th>\n",
              "      <th>title</th>\n",
              "    </tr>\n",
              "  </thead>\n",
              "  <tbody>\n",
              "    <tr>\n",
              "      <th>0</th>\n",
              "      <td>37d61fd2272659b1</td>\n",
              "      <td>abatement</td>\n",
              "      <td>abatement of pollution</td>\n",
              "      <td>A47</td>\n",
              "      <td>0.50</td>\n",
              "      <td>A</td>\n",
              "      <td>1</td>\n",
              "      <td>A47</td>\n",
              "      <td>FURNITURE; DOMESTIC ARTICLES OR APPLIANCES; CO...</td>\n",
              "    </tr>\n",
              "    <tr>\n",
              "      <th>1</th>\n",
              "      <td>7b9652b17b68b7a4</td>\n",
              "      <td>abatement</td>\n",
              "      <td>act of abating</td>\n",
              "      <td>A47</td>\n",
              "      <td>0.75</td>\n",
              "      <td>A</td>\n",
              "      <td>3</td>\n",
              "      <td>A47</td>\n",
              "      <td>FURNITURE; DOMESTIC ARTICLES OR APPLIANCES; CO...</td>\n",
              "    </tr>\n",
              "    <tr>\n",
              "      <th>2</th>\n",
              "      <td>36d72442aefd8232</td>\n",
              "      <td>abatement</td>\n",
              "      <td>active catalyst</td>\n",
              "      <td>A47</td>\n",
              "      <td>0.25</td>\n",
              "      <td>A</td>\n",
              "      <td>2</td>\n",
              "      <td>A47</td>\n",
              "      <td>FURNITURE; DOMESTIC ARTICLES OR APPLIANCES; CO...</td>\n",
              "    </tr>\n",
              "    <tr>\n",
              "      <th>3</th>\n",
              "      <td>5296b0c19e1ce60e</td>\n",
              "      <td>abatement</td>\n",
              "      <td>eliminating process</td>\n",
              "      <td>A47</td>\n",
              "      <td>0.50</td>\n",
              "      <td>A</td>\n",
              "      <td>3</td>\n",
              "      <td>A47</td>\n",
              "      <td>FURNITURE; DOMESTIC ARTICLES OR APPLIANCES; CO...</td>\n",
              "    </tr>\n",
              "    <tr>\n",
              "      <th>4</th>\n",
              "      <td>54c1e3b9184cb5b6</td>\n",
              "      <td>abatement</td>\n",
              "      <td>forest region</td>\n",
              "      <td>A47</td>\n",
              "      <td>0.00</td>\n",
              "      <td>A</td>\n",
              "      <td>0</td>\n",
              "      <td>A47</td>\n",
              "      <td>FURNITURE; DOMESTIC ARTICLES OR APPLIANCES; CO...</td>\n",
              "    </tr>\n",
              "    <tr>\n",
              "      <th>...</th>\n",
              "      <td>...</td>\n",
              "      <td>...</td>\n",
              "      <td>...</td>\n",
              "      <td>...</td>\n",
              "      <td>...</td>\n",
              "      <td>...</td>\n",
              "      <td>...</td>\n",
              "      <td>...</td>\n",
              "      <td>...</td>\n",
              "    </tr>\n",
              "    <tr>\n",
              "      <th>36468</th>\n",
              "      <td>718f1c6953e3942f</td>\n",
              "      <td>undulation</td>\n",
              "      <td>undulatory swimmers</td>\n",
              "      <td>B31</td>\n",
              "      <td>0.00</td>\n",
              "      <td>B</td>\n",
              "      <td>0</td>\n",
              "      <td>B31</td>\n",
              "      <td>MAKING ARTICLES OF PAPER, CARDBOARD OR MATERIA...</td>\n",
              "    </tr>\n",
              "    <tr>\n",
              "      <th>36469</th>\n",
              "      <td>4dc407e6d0aa7844</td>\n",
              "      <td>undulation</td>\n",
              "      <td>voltage fluctuate</td>\n",
              "      <td>B31</td>\n",
              "      <td>0.00</td>\n",
              "      <td>B</td>\n",
              "      <td>0</td>\n",
              "      <td>B31</td>\n",
              "      <td>MAKING ARTICLES OF PAPER, CARDBOARD OR MATERIA...</td>\n",
              "    </tr>\n",
              "    <tr>\n",
              "      <th>36470</th>\n",
              "      <td>de69548ad79caccc</td>\n",
              "      <td>web transfer</td>\n",
              "      <td>transfer from web</td>\n",
              "      <td>B31</td>\n",
              "      <td>0.75</td>\n",
              "      <td>B</td>\n",
              "      <td>3</td>\n",
              "      <td>B31</td>\n",
              "      <td>MAKING ARTICLES OF PAPER, CARDBOARD OR MATERIA...</td>\n",
              "    </tr>\n",
              "    <tr>\n",
              "      <th>36471</th>\n",
              "      <td>6620317413e6e03f</td>\n",
              "      <td>web transfer</td>\n",
              "      <td>transfer to web</td>\n",
              "      <td>B31</td>\n",
              "      <td>0.25</td>\n",
              "      <td>B</td>\n",
              "      <td>2</td>\n",
              "      <td>B31</td>\n",
              "      <td>MAKING ARTICLES OF PAPER, CARDBOARD OR MATERIA...</td>\n",
              "    </tr>\n",
              "    <tr>\n",
              "      <th>36472</th>\n",
              "      <td>96946de83b530746</td>\n",
              "      <td>web transfer</td>\n",
              "      <td>transfer web</td>\n",
              "      <td>B31</td>\n",
              "      <td>0.75</td>\n",
              "      <td>B</td>\n",
              "      <td>1</td>\n",
              "      <td>B31</td>\n",
              "      <td>MAKING ARTICLES OF PAPER, CARDBOARD OR MATERIA...</td>\n",
              "    </tr>\n",
              "  </tbody>\n",
              "</table>\n",
              "<p>36473 rows × 9 columns</p>\n",
              "</div>\n",
              "      <button class=\"colab-df-convert\" onclick=\"convertToInteractive('df-a61e977a-9006-4db9-b9f3-00c0e323a903')\"\n",
              "              title=\"Convert this dataframe to an interactive table.\"\n",
              "              style=\"display:none;\">\n",
              "        \n",
              "  <svg xmlns=\"http://www.w3.org/2000/svg\" height=\"24px\"viewBox=\"0 0 24 24\"\n",
              "       width=\"24px\">\n",
              "    <path d=\"M0 0h24v24H0V0z\" fill=\"none\"/>\n",
              "    <path d=\"M18.56 5.44l.94 2.06.94-2.06 2.06-.94-2.06-.94-.94-2.06-.94 2.06-2.06.94zm-11 1L8.5 8.5l.94-2.06 2.06-.94-2.06-.94L8.5 2.5l-.94 2.06-2.06.94zm10 10l.94 2.06.94-2.06 2.06-.94-2.06-.94-.94-2.06-.94 2.06-2.06.94z\"/><path d=\"M17.41 7.96l-1.37-1.37c-.4-.4-.92-.59-1.43-.59-.52 0-1.04.2-1.43.59L10.3 9.45l-7.72 7.72c-.78.78-.78 2.05 0 2.83L4 21.41c.39.39.9.59 1.41.59.51 0 1.02-.2 1.41-.59l7.78-7.78 2.81-2.81c.8-.78.8-2.07 0-2.86zM5.41 20L4 18.59l7.72-7.72 1.47 1.35L5.41 20z\"/>\n",
              "  </svg>\n",
              "      </button>\n",
              "      \n",
              "  <style>\n",
              "    .colab-df-container {\n",
              "      display:flex;\n",
              "      flex-wrap:wrap;\n",
              "      gap: 12px;\n",
              "    }\n",
              "\n",
              "    .colab-df-convert {\n",
              "      background-color: #E8F0FE;\n",
              "      border: none;\n",
              "      border-radius: 50%;\n",
              "      cursor: pointer;\n",
              "      display: none;\n",
              "      fill: #1967D2;\n",
              "      height: 32px;\n",
              "      padding: 0 0 0 0;\n",
              "      width: 32px;\n",
              "    }\n",
              "\n",
              "    .colab-df-convert:hover {\n",
              "      background-color: #E2EBFA;\n",
              "      box-shadow: 0px 1px 2px rgba(60, 64, 67, 0.3), 0px 1px 3px 1px rgba(60, 64, 67, 0.15);\n",
              "      fill: #174EA6;\n",
              "    }\n",
              "\n",
              "    [theme=dark] .colab-df-convert {\n",
              "      background-color: #3B4455;\n",
              "      fill: #D2E3FC;\n",
              "    }\n",
              "\n",
              "    [theme=dark] .colab-df-convert:hover {\n",
              "      background-color: #434B5C;\n",
              "      box-shadow: 0px 1px 3px 1px rgba(0, 0, 0, 0.15);\n",
              "      filter: drop-shadow(0px 1px 2px rgba(0, 0, 0, 0.3));\n",
              "      fill: #FFFFFF;\n",
              "    }\n",
              "  </style>\n",
              "\n",
              "      <script>\n",
              "        const buttonEl =\n",
              "          document.querySelector('#df-a61e977a-9006-4db9-b9f3-00c0e323a903 button.colab-df-convert');\n",
              "        buttonEl.style.display =\n",
              "          google.colab.kernel.accessAllowed ? 'block' : 'none';\n",
              "\n",
              "        async function convertToInteractive(key) {\n",
              "          const element = document.querySelector('#df-a61e977a-9006-4db9-b9f3-00c0e323a903');\n",
              "          const dataTable =\n",
              "            await google.colab.kernel.invokeFunction('convertToInteractive',\n",
              "                                                     [key], {});\n",
              "          if (!dataTable) return;\n",
              "\n",
              "          const docLinkHtml = 'Like what you see? Visit the ' +\n",
              "            '<a target=\"_blank\" href=https://colab.research.google.com/notebooks/data_table.ipynb>data table notebook</a>'\n",
              "            + ' to learn more about interactive tables.';\n",
              "          element.innerHTML = '';\n",
              "          dataTable['output_type'] = 'display_data';\n",
              "          await google.colab.output.renderOutput(dataTable, element);\n",
              "          const docLink = document.createElement('div');\n",
              "          docLink.innerHTML = docLinkHtml;\n",
              "          element.appendChild(docLink);\n",
              "        }\n",
              "      </script>\n",
              "    </div>\n",
              "  </div>\n",
              "  "
            ]
          },
          "metadata": {},
          "execution_count": 17
        }
      ]
    },
    {
      "cell_type": "code",
      "source": [
        "from transformers import AutoTokenizer, DataCollatorWithPadding\n",
        "\n",
        "tokenizer = AutoTokenizer.from_pretrained(Config.TRANSFORMER_CHECKPOINT)\n",
        "# DataCollatorWithPadding pads each batch to the longest sequence length\n",
        "data_collator = DataCollatorWithPadding(tokenizer=tokenizer)\n",
        "model = AutoModelForSequenceClassification.from_pretrained(Config.TRANSFORMER_CHECKPOINT, num_labels=Config.NUM_LABELS)"
      ],
      "metadata": {
        "colab": {
          "base_uri": "https://localhost:8080/"
        },
        "id": "-ki9Z4VTqzvr",
        "outputId": "86397f5d-51ac-47f4-80e8-f26ef6c0fd9b"
      },
      "execution_count": null,
      "outputs": [
        {
          "output_type": "stream",
          "name": "stderr",
          "text": [
            "Special tokens have been added in the vocabulary, make sure the associated word embeddings are fine-tuned or trained.\n",
            "Special tokens have been added in the vocabulary, make sure the associated word embeddings are fine-tuned or trained.\n",
            "Some weights of the model checkpoint at microsoft/deberta-v3-small were not used when initializing DebertaV2ForSequenceClassification: ['mask_predictions.dense.bias', 'lm_predictions.lm_head.LayerNorm.weight', 'mask_predictions.LayerNorm.bias', 'mask_predictions.LayerNorm.weight', 'lm_predictions.lm_head.bias', 'mask_predictions.classifier.bias', 'mask_predictions.dense.weight', 'lm_predictions.lm_head.dense.bias', 'lm_predictions.lm_head.LayerNorm.bias', 'mask_predictions.classifier.weight', 'lm_predictions.lm_head.dense.weight']\n",
            "- This IS expected if you are initializing DebertaV2ForSequenceClassification from the checkpoint of a model trained on another task or with another architecture (e.g. initializing a BertForSequenceClassification model from a BertForPreTraining model).\n",
            "- This IS NOT expected if you are initializing DebertaV2ForSequenceClassification from the checkpoint of a model that you expect to be exactly identical (initializing a BertForSequenceClassification model from a BertForSequenceClassification model).\n",
            "Some weights of DebertaV2ForSequenceClassification were not initialized from the model checkpoint at microsoft/deberta-v3-small and are newly initialized: ['pooler.dense.weight', 'classifier.weight', 'classifier.bias', 'pooler.dense.bias']\n",
            "You should probably TRAIN this model on a down-stream task to be able to use it for predictions and inference.\n"
          ]
        }
      ]
    },
    {
      "cell_type": "code",
      "source": [
        "deberta_vocab = tokenizer.get_vocab()\n",
        "len(deberta_vocab)"
      ],
      "metadata": {
        "colab": {
          "base_uri": "https://localhost:8080/"
        },
        "id": "6xcqMvcaMC6j",
        "outputId": "36439560-ed8a-4da8-93a1-08fce11ed0ac"
      },
      "execution_count": null,
      "outputs": [
        {
          "output_type": "execute_result",
          "data": {
            "text/plain": [
              "128001"
            ]
          },
          "metadata": {},
          "execution_count": 19
        }
      ]
    },
    {
      "cell_type": "code",
      "source": [
        "df_train[\"anchor_words\"] = df_train[\"anchor\"].apply(lambda anchor: anchor.split())\n",
        "df_train[\"target_words\"] = df_train[\"target\"].apply(lambda target: target.split())"
      ],
      "metadata": {
        "id": "QdNCCLVNMi2T"
      },
      "execution_count": null,
      "outputs": []
    },
    {
      "cell_type": "code",
      "source": [
        "unique_anchor_words = set(np.concatenate(df_train[\"anchor_words\"].values))\n",
        "unique_target_words = set(np.concatenate(df_train[\"target_words\"].values))\n",
        "unique_anchor_target_words = unique_anchor_words.union(unique_target_words)"
      ],
      "metadata": {
        "id": "4RP6nsHqOCLa"
      },
      "execution_count": null,
      "outputs": []
    },
    {
      "cell_type": "code",
      "source": [
        "len(unique_anchor_target_words)"
      ],
      "metadata": {
        "colab": {
          "base_uri": "https://localhost:8080/"
        },
        "id": "-rqzcgK0hQuB",
        "outputId": "00fa7fc6-990b-462c-8c8b-2b2951302aa5"
      },
      "execution_count": null,
      "outputs": [
        {
          "output_type": "execute_result",
          "data": {
            "text/plain": [
              "8930"
            ]
          },
          "metadata": {},
          "execution_count": 22
        }
      ]
    },
    {
      "cell_type": "code",
      "source": [
        "tokens_toadd = []\n",
        "for word in unique_anchor_target_words:\n",
        "    word_token = \"▁\" + word\n",
        "    if word_token not in deberta_vocab.keys() and word not in deberta_vocab.keys():\n",
        "        tokens_toadd.append(word)"
      ],
      "metadata": {
        "id": "SkR6FL1MPI8n"
      },
      "execution_count": null,
      "outputs": []
    },
    {
      "cell_type": "code",
      "source": [
        "len(tokens_toadd)"
      ],
      "metadata": {
        "colab": {
          "base_uri": "https://localhost:8080/"
        },
        "id": "39S2SwK4hd3X",
        "outputId": "60eacde1-e2de-4efe-a667-ac2fde3182ff"
      },
      "execution_count": null,
      "outputs": [
        {
          "output_type": "execute_result",
          "data": {
            "text/plain": [
              "1566"
            ]
          },
          "metadata": {},
          "execution_count": 24
        }
      ]
    },
    {
      "cell_type": "code",
      "source": [
        "print(tokens_toadd)"
      ],
      "metadata": {
        "colab": {
          "base_uri": "https://localhost:8080/"
        },
        "id": "rjLil_oaiHUf",
        "outputId": "a0c3d375-3f5e-4612-9287-71850c2e9ac8"
      },
      "execution_count": null,
      "outputs": [
        {
          "output_type": "stream",
          "name": "stdout",
          "text": [
            "['agvhd', 'sawtooth', 'methoxyethanamine', 'circumscribe', 'collators', 'crt', 'wprkout', 'distillates', 'ochchnh', 'propulsor', 'tensioning', 'luciae', 'clarifiers', 'caprolactone', 'alkenes', 'm1', 'pawl', 'polarize', 'systemstimulation', 'corks', 'nonconjugative', 'sinoatrial', 'coiling', 'amphiphilic', 'tetrafluoropropene', 'cladded', 'puf', 'lecticans', 'liquors', 'pendente', 'lense', 'pll', 'diuresis', 'expellant', 'diethylenimide', 'electropositive', 'crosslink', 'propanoic', 'datalink', 'truing', 'endohydrolysis', 'ferritic', 'h23', 'paperboard', 'gnd', 'phospholipids', 'electroforming', 'photostructurable', 'her2', 'earthing', 'measurment', 'waterjet', 'monostable', 'nessler', 'enqueue', 'meshing', '3as4s6ar', 'juglandaceae', 'sina', 'dimethicone', 'interframe', 'anticlockwise', 'detarget', 'offsprings', 'hydroxycarboxylicacid', 'spreaders', 'aligner', 'fcf24chch2', 'avidin', 'linkers', 'couplers', 'undepleted', 'unsubstituted', 'phytic', 'welldone', 'swatooth', 'guanidine', 'anthraquinone', 'imidoxide', 'crystallites', 'diiodo', 'personage', 'coplanar', 'electrophoretic', 'diastema', 'piezoresistive', 'superjunction', 'polycarboxylic', 'mannitol', 'biomimetics', 'kyanite', 'hydroformylation', 'vegf', 'tdm', 'hydrocompounds', 'sergeons', 'monocarboxylic', 'micas', 'helicases', 'metastable', 'aralkyl', 'toolpaths', 'picric', 'cyanoacrylate', 'manometer', 'refiner', 'nitrogenous', 'vlsi', 'thermistors', 'poppet', 'heterocylics', 'fieldglass', 'hydrophobically', 'yellowness', 'alkoxy', 'humoral', 'indus', 'succinum', 'magnetised', 'fiberscopes', 'cotter', 'hyperspeed', 'levellers', 'lamellae', 'reactants', 'oppositely', 'ballpen', 'underbites', 'biocytin', 'organosulfur', 'inedible', 'asic', 'positionable', 'lignocellulosic', 'carbides', 'vmos', 'weir', 'certainity', 'insulatin', 'nitrophenylpropionic', 'conh2', 'eavestrough', 'hydrotalcite', 'steerable', 'adipate', 'diols', 'subcarriers', 'carminic', 'auag', 'buring', 'gerotor', 'thermoacoustic', 'acylation', 'photocurable', 'reactance', 'keratitis', 'predetermine', 'inoperative', 'functionalization', 'vrms', 'ss', 'normals', 'ch3och2ch2nh2', 'odns', 'hexadecagon', 'aldehydes', 'provident', 'rizzle', 'histidine', 'fixedly', 'batteryless', 'pentanoic', 'polysulfide', 'comonomer', 'chrominance', 'unsusceptible', 'anhydridegrafted', 'rfid', 'ohmic', 'aluminiumi', 'hexahydrido', 'electrophilic', 'cylindrically', 'atp', 'steric', 'leishmaniasis', 'ribozyme', 'polyisobutylene', 'indol', 'corebox', 'naoh', 'contactors', 'ethanamine', 'enzymatically', 'ionomer', 'hrb', 'substratum', 'pincode', 'superposed', 'lasing', 'photograhic', 'vasoconstriction', 'interstage', 'antidiuretic', 'dichroic', 'carveol', 'swingable', 'butane', 'azaniumylhexanoate', 'plasmas', 'electrooptical', 'tetrafluoroethylene', 'electrostimulator', 'demodulation', 'rdna', 'interleukins', 'triatominae', 'kalanchoe', 'azabicyclo', 'superabsorbent', 'salina', 'maglev', 'overcurrent', 'centerfire', 'confirmable', 'triturate', 'elasticized', 'alps', 'trackbound', 'microchannel', 'alredy', 'radiolabeled', 'equalizing', 'undulations', 'ampule', 'cyanamide', 'rotatably', 'varactor', 'demodulator', 'nfb', 'awl', 'currents', 'hexahydrotriazine', 'electromotive', 'phosphorescent', 'morphle', 'organometallic', 'calibrator', 'ho2cco2h', 'fets', 'ileostomy', 'unpurified', 'rutoside', 'dyestuff', 'sparkler', 'intermolecular', 'propylbromide', 'quadric', 'micropore', 'baloon', 'dimethoxy', 'rizalt', 'butene', 'springtail', 'isoflavonoid', 'microcapsules', 'synapsis', 'etherification', 'heptane', 'toll', 'c2h2o4', 'fibonacci', 'ethanediyl', 'markovnikov', 'pivalic', 'ccl2orh', 'joiner', 'trypanosoma', 'diazole', 'reactiveness', 'vmware', 'penetrable', 'transreceiver', 'laccase', 'microchips', 'postman', 'axialflow', 'securement', 'cyclohexanols', 'knott', 'incongruence', 'incoperate', 'plier', 'claddings', 'decompresseor', 'servomotor', 'labrotary', 'amines', 'eukaryote', 'triazine', 'sulfides', 'bionics', 'prepolymer', 'ingot', 'synchronizer', 'intradermal', 'hydrophone', 'proteases', 'aerating', 'hexene', 'multiplexers', 'magnitudes', 'microporous', 'divalent', 'acrylates', '111444', 'leveller', 'peening', 'metatarsus', 'polyglycolic', 'dibromopropane', 'aralkynyl', 'icici', 'targer', 'organosilicon', 'alkanoic', 'tetrazolyl', 'bicyclic', 'areal', 'h2so4', 'switchless', 'vanes', 'formless', 'hextetrahedral', 'polarizers', 'millipore', 'butanedioic', 'melmetal', 'dipeptides', 'coking', 'esterified', 'carbyl', 'tetrahedral', 'dac', 'monophosphates', 'isomerism', 'propanedioic', 'inactivated', 'fluidic', 'transister', 'valyl', 'phenols', 'inversing', 'unwinds', 'finline', 'insertional', '2s3r4s5s6r', 'swarf', 'multiswitch', 'duplexer', 'sheave', 'mtc', 'acetal', 'operably', 'caddi', 'nitrides', 'h2o', 'crassulaceae', 'thermosphere', 'disconnector', 'torchlight', 'postregistration', 'trimethylazanium', 'escapement', 'fluorinated', 'hexanoic', 'covid', 'centerbody', 'solidus', 'hydroxyacetic', 'wagner', 'cellosolve', 'williamson', 'passivation', 'polarising', 'aluminiumii', 'hygroscopic', 'nonstarch', 'isoleucine', 'zea', 'hydroxyphenyl', 'dicyandiamde', 'doppler', 'undervoltage', 'pyrrolidone', 'adamantyl', 'hypercube', 'demodulators', 'hexahydride', 'safes', 'yeasts', 'emittance', 'pessary', 'countershaft', 'magnus', 'saturates', 'anhydride', 'toolpath', 'mediumless', 'atm', 'agglutination', 'silyl', 'aluminosilicate', 'vss', 'wbc', 'oligomeric', 'rhinotracheitis', 'fahrenheit', 'vegfr2', 'siloxanes', 'airfoils', 'rh4co12', 'fluorochemical', 'anilox', 'cnn', 'carmine', 'diecasting', 'processability', 'sarms', 'sld', 'delamination', 'pulverulent', 'chlorate', 'retorting', 'cathodes', 'clevis', 'thermoplast', 'preforms', 'ganga', 'dicyandiamin', 'imidazo12', 'cardioverter', 'rms', 'electrophile', 'thrissur', 'directionless', 'moistureproof', 'coaxially', 'dactylopius', 'pipelined', 'geofence', 'vaseline', 'basale', 'pete', 'inattentiveness', 'allyl', 'chelates', 'neurostimulator', 'absorptive', 'erbb', 'imidazole', 'biphenyl', 'photodefinable', 'm3', 'afftected', 'methoxyisoflavone', 'tarsal', 'keycard', 'solderable', 'releasable', 'hydrofluoro', 'amylose', 'acetamide', 'influent', 'hydrocracking', 'sideform', 'trinitroso', 'itr', 'housings', 'mrna', 'artemisinin', 'buzzar', 'antidiabetic', 'toxoplasmosis', 'permiation', 'butanoic', 'npn', 'nucleobases', 'silicoaluminates', 'eyelining', 'polyoxy1', 'amylopectin', 'homogenizer', 'her2neu', 'succinic', 'pendrive', 'ethanedioate', 'microresonator', 'ultrafiltration', 'personages', 'alkynyl', 'etomidate', 'monooxide', 'hyperammonemia', 'alkane', 'pouched', 'alkene', 'mayenite', 'liposome', 'sealable', 'valylisoleucine', 'noncollinear', 'adjustabilty', 'olefins', 'workparts', 'hydroxymethyloxan', 'quadrangular', 'knotter', 'overpressure', 'collinear', 'vcrmn3si', 'ethanedioic', 'zeolites', 'flad', 'barell', 'quasiparticle', 'enoates', 'colligative', 'specifier', 'unverifiable', 'semiconductive', 'childrens', 'microvessels', 'imidazo', 'regia', 'nonrotating', 'electroconductive', 'nondimensional', 'plyboard', 'beamforming', 'parkinson', 'ligninases', 'dmm', 'nh3', 'emissivity', 'electrodeposition', 'convertor', 'indexable', 'diylradical', 'ballistics', 'condenses', 'adc', 'ercules', 'saponification', 'closings', 'dividable', 'transmissible', 'workpieces', 'saleable', 'nucleophilic', 'demerits', 'retroreflective', 'chemiluminescent', 'claps', 'azane', 'notifier', 'biotinyl', 'dihalo', 'mirrror', 'thinnable', 'backwashing', 'irms', 'clays', 'photocurables', 'insulux', 'laminator', 'cathepsin', 'primitives', 'runout', 'cyclopropanols', 'internasal', 'releasably', 'divident', 'phalanges', 'biomimetic', 'halomethyl', 'carburising', 'lyophilized', 'rotationally', 'epiretinal', 'sectionalizer', 'mixtue', 'dioic', 'colloids', 'biocomposite', 'weldability', 'validatable', 'ascender', 'magnetisation', 'spheroidal', 'selenide', 'neurotoxins', 'erk', 'illuminant', 'affixing', 'thermosetting', 'oxygenating', 'disjoined', 'cellulase', 'plies', '1333', 'iridium', 'deforming', 'catalyses', 'microcontainer', 'hydrogravity', 'franking', 'hydrogenation', 'unstratified', 'petp', 'chelating', 'm85', 'interdigital', 'photopolymer', 'hsv', 'enobosarm', 'oxazine', 'screener', 'dihydroxy', 'dampener', 'nystagmus', 'microboxes', 'felts', 'dnd', 'polychain', 'herpesvirus', 'pericardium', 'nephron', 'extents', 'dimidazol', 'terphenyl', 'chirped', 'silicide', 'vasculogenesis', 'slidable', 'carburized', 'extrachromosomal', 'chcoh', 'cooh2', 'arylglyoxyalkyl', 'homopolymers', 'cochineal', 'lamellar', 'cycloid', 'mooney', 'ssdna', 'melanogenesis', 'photoreactive', 'codebook', 'schottky', 'lancing', 'undeviated', 'alumino', 'tamping', 'noncontact', 'oxymeter', 'microelectromechanical', 'clods', 'rizact', 'dichloromethane', 'rhenium', 'oleds', 'carburisation', 'torques', 'dihydrogen', 'supersaturated', 'windpipe', 'arteriosclerosis', 'dimethylethanamine', 'myofibrils', 'peeved', 'silicates', 'capsulitis', 'theophylline', 'learnings', 'opticals', 'annulated', 'noncovalent', 'pbs', 'electrophotographic', 'centralizers', 'transfering', 'photogenerated', 'difluoro', 'amylum', 'cmos', 'canes', 'collimating', 'immunogen', 'imidazopyridine', 'netty', 'coverup', 'pastes', 'tilefish', 'aggrecan', 'unembellished', 'keyways', 'voltaic', 'sealless', 'radioactively', 'hexahydro', 'phenanthrene', 'aminocarbonyl', 'halides', 'boomit', 'scut', 'cycloheptanols', 'cyclobutanols', 'hyperboloid', 'photophobia', 'fluorescently', 'geoposition', 'tfe', 'perfluoro', 'multiphase', 'framer', 'apexes', 'crosspiece', 'palmitic', 'tooths', 'arachidonic', 'aluminosilicates', 'photoconductive', 'pillared', 'snubbing', 'pathing', 'shanks', 'wearability', 'soc', 'accelerations', 'haloketone', 'chagas', 'spo2', 'countercurrent', 'uncertified', 'oligomer', 'triethylamine', 'mitogenesis', 'bloodstains', 'nvm', 'dispertive', 'machinary', 'amplitudes', 'keying', 'tsr', 'chondrosarcoma', 'bioabsorbable', 'photolithographic', 'nlb', 'dynamoelectric', 'sillimanite', 'heteroalkynyl', 'lattices', 'struture', 'dnaa', 'terylene', 'hboc', 'passband', 'glycitin', 'swifter', 'malloc', 'pulegol', 'warpage', 'bipartite', 'hydrofoil', 'demodulated', 'ch3ch2ch2br', 'polyphase', 'ductibility', 'pentanedioic', 'cyanoguanidine', 'pfa', 'acenes', 'cyclodextrin', 'hfw', 'collator', 'acousto', 'msc', 'dorado', 'hypersomnia', 'layeres', 'halocarbyl', 'ecn', 'irridation', 'fluoran', 'driveaway', 'demodulating', 'phasmophobia', 'downhole', 'pulper', 'hydraulics', 'dipolar', 'vco', 'microchambers', 'operatively', 'hyperbilirubinemia', 'terephthalate', 'protonation', 'unilamellar', 'pawls', 'heteroatom', 'polybutadiene', 'hotstart', 'haptoglobin', 'composition1', 'airforce', 'liquidus', 'acoustooptic', 'm100', 'toric', 'perfluorinated', 'organorhodium', 'oscillometric', 'bogy', 'airlifting', 'pulser', 'homopolymer', 'intermesh', 'drivein', '3003', 'methoxyethane', 'catalysed', 'nonorthogonal', 'windings', 'bakelite', 'poynting', 'rotar', 'spectrogram', 'multimeters', 'multihead', 'wheelset', 'interia', 'sandfly', 'trimethyl', 'atomizing', 'cd340', 'dicy', 'isomeric', 'superelastic', 'rammer', 'recodring', 'looper', 'dipeptide', 'glucitol', 'overspill', 'nitrocellulose', 'polydimethylsiloxane', 'plantlets', 'cystoscopy', 'archimedes', 'styrenic', 'saxifragales', 'tarch', 'protograph', 'o2', 'potentials', 'circlet', 'merchandiser', 'keratinocytes', 'infiltrant', 'nitroxyl', 'maxwell', 'overloads', 'destructibility', 'alphatic', 'conic', 'fluoranthene', 'neurotransmission', 'complexing', 'celebensis', 'excitons', 'anorthite', 'tailpiece', 'tunefulness', 'ornamenting', 'aerobically', 'stat3', 'seeder', 'cableway', 'fluorochemicals', 'paramagnetic', 'lignocellulolytic', 'locationless', 'elastomers', 'chrysaora', 'ferroelectric', 'interlayered', 'rizatriptan', 'polyimide', 'h6', 'aminoethane', 'interleaver', 'liftgate', 'radioisotopes', 'p2x', 'chromogen', 'multicollector', 'overfill', 'polyalkylene', 'vulcanized', 'deburring', 'arcing', 'pnp', 'vulcanization', 'webpack', 'polymerisation', 'mays', 'ires', 'h2n', 'isoflavonoids', 'oled', 'drosophila', 'compacting', 'connectable', 'peds', 'genistein', 'biotinidase', 'isomers', 'carburettor', 'hydrous', 'balancers', 'platen', 'hyalectans', 'ecg', 'ndoped', 'arthropoda', 'freeform', 'retarder', 'aneroid', 'organobromine', 'ligninolytic', 'apices', 'ors', 'comfortability', 'imager', 'nanocrystal', 'tropanes', 'exhgeck', 'functionalized', 'tropane', 'polysiloxane', 'beamsplitter', 'mountings', 'biofilms', 'slidably', 'wlan', 'morpholine', 'oligomers', 'dioxid', 'sphygmomanometer', 'phototransistors', 'eudicots', 'crankpin', 'silicones', 'hydroxides', 'interphalangeal', 'diabolo', 'thsi2', 'valine', 'toothing', 'organogels', 'pdms', 'srsi2', 'rafter', 'halogenated', 'seepage', 'ror', 'fuscescens', 'turbomachinery', 'carburetter', 'organofluorine', 'yloxychromen', 'baumanometer', 'bioengineered', 'bagless', 'leftward', 'structurable', 'aquaponics', 'inelastic', 'heroaralkyl', 'abrasives', 'proteoglycans', 'microfabricated', 'deoxyribonucleic', 'airvent', 'woodruff', 'positionioning', 'hypercalcemia', 'glucopyranosyloxy', 'bandedge', 'boxcar', '12cao7al2o3', 'hexahydrothieno34', 'stiffeners', 'heme', 'suport', 'bimetallic', 'kinetoplastid', 'syngas', 'unusal', 'maleic', 'electroluminescent', 'comminuted', 'mems', 'halogenation', 'workability', 'orifices', 'tetrahedron', 'araliphatic', 'antipodal', 'nonvolatile', 'tm', 'rubene', 'chloroethyl', 'pontoons', 'alloyed', 'spirometer', 'stoichiometric', 'sulfates', 'solidification', 'sio2', 'animalia', 'antiatherosclerotic', 'swot', 'resealing', 'dsp', 'wells', 'vegfa', 'hydrazide', 'spooling', 'dihalogen', 'endnote', 'joan', 'acetylated', 'diethylene', 'determiners', 'packings', 'clasps', 'sumatriptan', 'heteroaralkyl', 'gibbs', 'billets', 'neuromodulation', 'oligomerization', 'knaalsi3o8', 'dibromo', 'electromagnets', 'descaling', 'rh2cl2co4', 'ethanolgasoline', 'uncoupled', 'carbonitrile', 'planographic', 'alterable', 'shoppingi', 'louvers', 'labialis', 'apyridines', 'hodgkin', 'electrometer', 'sds', 'cdna', 'crests', 'pva', 'debossing', 'uncomfortability', 'airframes', 'photolabile', 'dimethecone', 'igniter', 'pillaring', 'hdpe', 'combinational', 'travele', 'disarranged', 'flatproofing', 'wallboard', 'abutments', 'fluorenylmethyloxycarbonyl', 'naphthalate', 'epicyclic', 'pictographic', 'diverters', 'ylethanamine', 'vulcanising', 'bicyclo', 'proteoglycan', 'elisa', 'joinability', 'immunogenic', 'cans', 'decompressor', 'tetrarhodium', 'bistable', 'darlington', 'transversely', 'overvoltage', 'sulfurous', 'triatomine', 'preregistration', 'supination', 'blinkers', 'hvdc', 'propellants', 'immunomodulators', 'bladdered', 'triclopyr', 'iodo', 'informations', 'reflowed', 'combiner', 'innerpeace', 'megabits', 'levitated', 'fountainhead', 'atr', 'viscoelasticity', 'acylating', 'gearwheel', 'naphthacene', 'undulation', 'c3n2h4', 'ironmongery', 'polylactic', 'therebetween', 'additves', 'inflators', 'youngs', 'triethylammonium', 'photograhy', 'rosmarinic', 'teeths', 'tcpip', 'spects', 'swivelling', 'bivalent', 'glues', 'polycyclic', 'eastman', 'aldohexose', '3h', 'isotropic', 'removably', 'upsampled', 'adjuvants', 'dq', 'm6', 'tailstrike', 'modulators', 'bizaliv', 'cyclohexanol', 'bromopropane', 'wgp', 'disengageable', 'radiowave', 'cements', 'vasopressin', 'photolytic', '133a466a', 'cutsection', 'storages', 'huffman', 'atomize', 'greases', 'alcohols', 'glycosyloxyisoflavon', 'csf', 'ammoniacal', 'pushpin', 'polyamides', 'carburization', 'organohalogen', 'oximide', 'mycobacterial', 'carpathian', 'demux', 'complexed', 'qas', 'dihydronaphthacene', 'methoxyethylamine', 'glycosidic', 'leveler', 'collimated', 'coverslip', 'ch3clalcl3', 'gearset', 'multistage', 'polyoxyethyleneoxyterephthaloyl', 'intraluminal', 'hygrometer', 'carburizing', 'copolymers', 'benzimidazole', 'guideway', 'perfluorochemical', 'ca12al14o33', 'propana', 'dicarboxylic', 'plymouth', 'glycylglycitol', 'keyway', 'indiam', 'undulatory', 'intermetallic', 'monocrystalline', 'prickling', 'annuloplasty', 'oic', 'premedical', 'tyr', 'triphenyl', '2s', 'thermoforming', 'centauri', 'photopatternable', 'antiparallel', 'ftir', 'cations', 'irradiating', 'granulocytes', 'nacl', 'coccidae', 'deoxynucleoside', 'impedances', 'aluminas', 'hexahedron', 'macromolecular', 'racemic', 'illuminance', 'u3si2', 'acan', 'ylpentanoylamino', 'emblaze', 'unclonable', 'modulu', 'stm', 'polyglycolide', 'formability', 'perpendicularity', 'dioxygen', 'dsdna', 'inductors', 'polyatomic', 'paraboloid', 'retrovirus', 'silicides', 'abrade', 'dunaliella', 'carbonyls', 'cleavable', 'intravaginal', 'pneumatically', 'polyolefins', 'yellowed', 'perfluorocarbon', 'electroluminescence', 'conveyer', 'eprom', 'alkenyl', 'catridges', 'thermosets', 'gaba', 'copolymerized', 'wellhead', 'biomimicry', 'entognatha', 'ht1', 'epicycloidal', 'preventer', 'interpolymer', 'perfluoroalkyl', 'vats', 'pharmaceutically', 'helicase', 'voulme', 'xylem', 'grilles', 'ethers', 'tetracene', 'dodecacarbonyl', 'papermaking', '1h', 'goldmember', 'heterostructures', 'transferases', 'trunnions', 'carrom', 'photocleavable', 'benzbanthracene', 'imageable', 'pulping', 'finned', 'biomolecule', 'ureteral', 'madeira', 'saws', 'dicyanodiamide', 'breeching', 'faucetpay', 'bicyclics', 'cao', 'paracentral', 'oversampling', 'airstream', 'hydrides', 'substitutuin', 'erythroblastic', 'prolog', 'headbox', 'dyeability', 'talker', 'ecdna', 'autoreceptors', 'fea', 'ricin', 'protrusions', 'mosfet', 'caseless', 'acetabular', 'damming', 'natriuretic', 'indiagate', 'inboard', 'passsageway', 'nanopore', 'pressurizing', 'acylate', 'alkalescent', 'comfortableness', 'palmitoleic', 'inlets', 'persian', 'trihydroxy', 'reticuloendothelial', 'biasing', 'benzanthracene', 'fluorene', 'juglans', 'clamper', 'decamethylcyclopentasiloxane', 'griping', 'heterocycle', 'solvay', 'sorter', 'forcep', 'multilayers', 'trichotillomania', 'chromogenic', 'cyanoacrylates', 'glyciphage', 'hexanoyl', 'regenerant', 'phthalocyanine', 'proppant', 'borescopes', 'hexafluoro', 'vitrectomy', 'clod', 'hydrophobicity', 'upmost', 'balamce', 'cricut', 'lumed', 'miscible', 'pivotally', 'sox', 'liveness', 'hinging', 'multielectrodes', 'glucoside', 'paronellidae', 'trypanosomiasis', 'uropygium', 'hemihydrate', 'peroxidases', 'chlormayenite', 'trichloride', 'cementitious', 'electride', 'melanocyte', 'netbenefits', 'diagrammatic', 'pyrene', 'accumulative', 'phthalic', 'och2ch22nh', 'intermedial', 'hypotensive', 'polyhydroxyalkanoates', 'dopped', 'bifunctional', 'fourier', 'unparallel', 'grippers', 'dihydrate', 'pinheads', 'heartwood', 'trannsport', 'semipermeable', 'heterocycles', 'ileal', 'mannual', 'glycolide', 'dispersions', 'shannon', 'bogies', 'hydrocarbyl', 'nanostructure', 'susceptance', 'hemicellulose', 'glycitein', 'organometallics', 'coametic', 'illuminable', 'fdi', 'retarding', 'polyesters', 'bimodal', 'cathodic', 'fractionate', 'taggant', 'oncological', 'gloving', 'endmost', 'catchments', 'trimethylaminiumyl', 'bzatp', 'ioned', 'bedsheet', 'childs', 'phylogenetics', 'smartwear', 'oxidases', 'oligodeoxynucleotides', 'tetrachloride', 'gyrate', '3d', 'quinazolin', 'castability', 'serrate', 'moradabad', 'fluoroantimonic', '4h', 'trunnion', 'interlink', 'elevational', 'steroides', 'applicating', 'rewinder', 'narrowband', 'preclusion', 'replicons', 'fluoroscopy', 'solutesolvent', 'swm', 'nabr', 'c6h3f9', 'congruity', 'phototransistor', 'bracers', 'sphygmomanometers', 'capsulated', 'zolpidem', 'goldcopper', 'haloalkyl', 'caso4', 'fifo', 'chlorofluorocarbon', 'cyclopropanol', 'lignases', 'triazol', 'vaccum', 'bubbler', 'intermeshing', 'mto', 'multiaxial', 'vibrator', 'collembola', 'abating', 'esthetics', 'oxazinane', 'butt', 'basecoat', 'noncontrolling', 'photoconductor', 'elongating', 'polimer', 'molarity', 'electroformed', 'immunotherapeutic', 'patternable', 'onoff', 'oxalic', 'heighth', 'ylmethyl', 'impregnation', 'shunts', 'alight', 'aminoethyl', 'fractionating', 'semiliquid', 'sectioning', 'cryogenics', 'h2s', 'visualizer', 'updown', 'exothermic', 'cistrans', 'cycloheptanol', 'demultiplexer', 'cfd', 'congruency', 'ribonucleic', 'molality', 'substution', 'triacylglycerol', 'dehumidifying', 'opc', 'propertiy', 'collates', 'banksi', 'hgms', 'wedging', 'hydrophilicity', 'cyclopentanol', 'electrodialysis', 'microchannels', 'offon', 'smelters', 'aluminate', 'm2', 'elastically', 'monoethylene', 'nonflammable', 'cruzi', 'cycloaliphatic', 'pathline', 'propellent', 'weldable', 'olefinic', 'pregelatinized', 'anionic', 'slewing', 'lubricator', 'disposer', 'irradiate', 'resampling', 'circumferentially', 'shoelace', 'tricalcium', 'mandrels', 'morpholin', 'melanosomes', 'granulate', 'ecoli', 'fluorocarbon']\n"
          ]
        }
      ]
    },
    {
      "cell_type": "code",
      "source": [
        "tokenizer.add_tokens(tokens_toadd)"
      ],
      "metadata": {
        "colab": {
          "base_uri": "https://localhost:8080/"
        },
        "id": "og69kDnFTmZh",
        "outputId": "199b4393-30b0-4b40-c018-a756f9efbf03"
      },
      "execution_count": null,
      "outputs": [
        {
          "output_type": "execute_result",
          "data": {
            "text/plain": [
              "1566"
            ]
          },
          "metadata": {},
          "execution_count": 26
        }
      ]
    },
    {
      "cell_type": "code",
      "source": [
        "model.resize_token_embeddings(len(tokenizer.get_vocab()))"
      ],
      "metadata": {
        "colab": {
          "base_uri": "https://localhost:8080/"
        },
        "id": "LZRUXcFZhAVl",
        "outputId": "106c21a5-ab3a-4ddc-ba15-6e24378fa7fc"
      },
      "execution_count": null,
      "outputs": [
        {
          "output_type": "execute_result",
          "data": {
            "text/plain": [
              "Embedding(129567, 768)"
            ]
          },
          "metadata": {},
          "execution_count": 27
        }
      ]
    },
    {
      "cell_type": "code",
      "source": [
        "encoding = tokenizer.encode_plus(\"hexanoyl\")\n",
        "tokenizer.convert_ids_to_tokens(encoding[\"input_ids\"])"
      ],
      "metadata": {
        "colab": {
          "base_uri": "https://localhost:8080/"
        },
        "id": "ea9FEU5RWqto",
        "outputId": "5d5ffb15-a765-4ac8-d130-33606791f8b0"
      },
      "execution_count": null,
      "outputs": [
        {
          "output_type": "execute_result",
          "data": {
            "text/plain": [
              "['[CLS]', 'hexanoyl', '[SEP]']"
            ]
          },
          "metadata": {},
          "execution_count": 28
        }
      ]
    },
    {
      "cell_type": "code",
      "source": [
        "sep = tokenizer.sep_token"
      ],
      "metadata": {
        "id": "EQ8JNkVMT8ZW"
      },
      "execution_count": null,
      "outputs": []
    },
    {
      "cell_type": "code",
      "source": [
        "df_train[\"inputs\"] = df_train.anchor + sep + df_train.target + sep + df_train.title \n",
        "df_train.head()"
      ],
      "metadata": {
        "colab": {
          "base_uri": "https://localhost:8080/",
          "height": 597
        },
        "id": "vcEDi4QjUEto",
        "outputId": "eee71efa-aab9-4392-b862-d8b5d8ca5e23"
      },
      "execution_count": null,
      "outputs": [
        {
          "output_type": "execute_result",
          "data": {
            "text/plain": [
              "                 id     anchor                  target context  score section  \\\n",
              "0  37d61fd2272659b1  abatement  abatement of pollution     A47   0.50       A   \n",
              "1  7b9652b17b68b7a4  abatement          act of abating     A47   0.75       A   \n",
              "2  36d72442aefd8232  abatement         active catalyst     A47   0.25       A   \n",
              "3  5296b0c19e1ce60e  abatement     eliminating process     A47   0.50       A   \n",
              "4  54c1e3b9184cb5b6  abatement           forest region     A47   0.00       A   \n",
              "\n",
              "   kfold code                                              title anchor_words  \\\n",
              "0      1  A47  FURNITURE; DOMESTIC ARTICLES OR APPLIANCES; CO...  [abatement]   \n",
              "1      3  A47  FURNITURE; DOMESTIC ARTICLES OR APPLIANCES; CO...  [abatement]   \n",
              "2      2  A47  FURNITURE; DOMESTIC ARTICLES OR APPLIANCES; CO...  [abatement]   \n",
              "3      3  A47  FURNITURE; DOMESTIC ARTICLES OR APPLIANCES; CO...  [abatement]   \n",
              "4      0  A47  FURNITURE; DOMESTIC ARTICLES OR APPLIANCES; CO...  [abatement]   \n",
              "\n",
              "                 target_words  \\\n",
              "0  [abatement, of, pollution]   \n",
              "1          [act, of, abating]   \n",
              "2          [active, catalyst]   \n",
              "3      [eliminating, process]   \n",
              "4            [forest, region]   \n",
              "\n",
              "                                              inputs  \n",
              "0  abatement[SEP]abatement of pollution[SEP]FURNI...  \n",
              "1  abatement[SEP]act of abating[SEP]FURNITURE; DO...  \n",
              "2  abatement[SEP]active catalyst[SEP]FURNITURE; D...  \n",
              "3  abatement[SEP]eliminating process[SEP]FURNITUR...  \n",
              "4  abatement[SEP]forest region[SEP]FURNITURE; DOM...  "
            ],
            "text/html": [
              "\n",
              "  <div id=\"df-7f10d9bf-62d6-4886-983d-0e5027c2b2ab\">\n",
              "    <div class=\"colab-df-container\">\n",
              "      <div>\n",
              "<style scoped>\n",
              "    .dataframe tbody tr th:only-of-type {\n",
              "        vertical-align: middle;\n",
              "    }\n",
              "\n",
              "    .dataframe tbody tr th {\n",
              "        vertical-align: top;\n",
              "    }\n",
              "\n",
              "    .dataframe thead th {\n",
              "        text-align: right;\n",
              "    }\n",
              "</style>\n",
              "<table border=\"1\" class=\"dataframe\">\n",
              "  <thead>\n",
              "    <tr style=\"text-align: right;\">\n",
              "      <th></th>\n",
              "      <th>id</th>\n",
              "      <th>anchor</th>\n",
              "      <th>target</th>\n",
              "      <th>context</th>\n",
              "      <th>score</th>\n",
              "      <th>section</th>\n",
              "      <th>kfold</th>\n",
              "      <th>code</th>\n",
              "      <th>title</th>\n",
              "      <th>anchor_words</th>\n",
              "      <th>target_words</th>\n",
              "      <th>inputs</th>\n",
              "    </tr>\n",
              "  </thead>\n",
              "  <tbody>\n",
              "    <tr>\n",
              "      <th>0</th>\n",
              "      <td>37d61fd2272659b1</td>\n",
              "      <td>abatement</td>\n",
              "      <td>abatement of pollution</td>\n",
              "      <td>A47</td>\n",
              "      <td>0.50</td>\n",
              "      <td>A</td>\n",
              "      <td>1</td>\n",
              "      <td>A47</td>\n",
              "      <td>FURNITURE; DOMESTIC ARTICLES OR APPLIANCES; CO...</td>\n",
              "      <td>[abatement]</td>\n",
              "      <td>[abatement, of, pollution]</td>\n",
              "      <td>abatement[SEP]abatement of pollution[SEP]FURNI...</td>\n",
              "    </tr>\n",
              "    <tr>\n",
              "      <th>1</th>\n",
              "      <td>7b9652b17b68b7a4</td>\n",
              "      <td>abatement</td>\n",
              "      <td>act of abating</td>\n",
              "      <td>A47</td>\n",
              "      <td>0.75</td>\n",
              "      <td>A</td>\n",
              "      <td>3</td>\n",
              "      <td>A47</td>\n",
              "      <td>FURNITURE; DOMESTIC ARTICLES OR APPLIANCES; CO...</td>\n",
              "      <td>[abatement]</td>\n",
              "      <td>[act, of, abating]</td>\n",
              "      <td>abatement[SEP]act of abating[SEP]FURNITURE; DO...</td>\n",
              "    </tr>\n",
              "    <tr>\n",
              "      <th>2</th>\n",
              "      <td>36d72442aefd8232</td>\n",
              "      <td>abatement</td>\n",
              "      <td>active catalyst</td>\n",
              "      <td>A47</td>\n",
              "      <td>0.25</td>\n",
              "      <td>A</td>\n",
              "      <td>2</td>\n",
              "      <td>A47</td>\n",
              "      <td>FURNITURE; DOMESTIC ARTICLES OR APPLIANCES; CO...</td>\n",
              "      <td>[abatement]</td>\n",
              "      <td>[active, catalyst]</td>\n",
              "      <td>abatement[SEP]active catalyst[SEP]FURNITURE; D...</td>\n",
              "    </tr>\n",
              "    <tr>\n",
              "      <th>3</th>\n",
              "      <td>5296b0c19e1ce60e</td>\n",
              "      <td>abatement</td>\n",
              "      <td>eliminating process</td>\n",
              "      <td>A47</td>\n",
              "      <td>0.50</td>\n",
              "      <td>A</td>\n",
              "      <td>3</td>\n",
              "      <td>A47</td>\n",
              "      <td>FURNITURE; DOMESTIC ARTICLES OR APPLIANCES; CO...</td>\n",
              "      <td>[abatement]</td>\n",
              "      <td>[eliminating, process]</td>\n",
              "      <td>abatement[SEP]eliminating process[SEP]FURNITUR...</td>\n",
              "    </tr>\n",
              "    <tr>\n",
              "      <th>4</th>\n",
              "      <td>54c1e3b9184cb5b6</td>\n",
              "      <td>abatement</td>\n",
              "      <td>forest region</td>\n",
              "      <td>A47</td>\n",
              "      <td>0.00</td>\n",
              "      <td>A</td>\n",
              "      <td>0</td>\n",
              "      <td>A47</td>\n",
              "      <td>FURNITURE; DOMESTIC ARTICLES OR APPLIANCES; CO...</td>\n",
              "      <td>[abatement]</td>\n",
              "      <td>[forest, region]</td>\n",
              "      <td>abatement[SEP]forest region[SEP]FURNITURE; DOM...</td>\n",
              "    </tr>\n",
              "  </tbody>\n",
              "</table>\n",
              "</div>\n",
              "      <button class=\"colab-df-convert\" onclick=\"convertToInteractive('df-7f10d9bf-62d6-4886-983d-0e5027c2b2ab')\"\n",
              "              title=\"Convert this dataframe to an interactive table.\"\n",
              "              style=\"display:none;\">\n",
              "        \n",
              "  <svg xmlns=\"http://www.w3.org/2000/svg\" height=\"24px\"viewBox=\"0 0 24 24\"\n",
              "       width=\"24px\">\n",
              "    <path d=\"M0 0h24v24H0V0z\" fill=\"none\"/>\n",
              "    <path d=\"M18.56 5.44l.94 2.06.94-2.06 2.06-.94-2.06-.94-.94-2.06-.94 2.06-2.06.94zm-11 1L8.5 8.5l.94-2.06 2.06-.94-2.06-.94L8.5 2.5l-.94 2.06-2.06.94zm10 10l.94 2.06.94-2.06 2.06-.94-2.06-.94-.94-2.06-.94 2.06-2.06.94z\"/><path d=\"M17.41 7.96l-1.37-1.37c-.4-.4-.92-.59-1.43-.59-.52 0-1.04.2-1.43.59L10.3 9.45l-7.72 7.72c-.78.78-.78 2.05 0 2.83L4 21.41c.39.39.9.59 1.41.59.51 0 1.02-.2 1.41-.59l7.78-7.78 2.81-2.81c.8-.78.8-2.07 0-2.86zM5.41 20L4 18.59l7.72-7.72 1.47 1.35L5.41 20z\"/>\n",
              "  </svg>\n",
              "      </button>\n",
              "      \n",
              "  <style>\n",
              "    .colab-df-container {\n",
              "      display:flex;\n",
              "      flex-wrap:wrap;\n",
              "      gap: 12px;\n",
              "    }\n",
              "\n",
              "    .colab-df-convert {\n",
              "      background-color: #E8F0FE;\n",
              "      border: none;\n",
              "      border-radius: 50%;\n",
              "      cursor: pointer;\n",
              "      display: none;\n",
              "      fill: #1967D2;\n",
              "      height: 32px;\n",
              "      padding: 0 0 0 0;\n",
              "      width: 32px;\n",
              "    }\n",
              "\n",
              "    .colab-df-convert:hover {\n",
              "      background-color: #E2EBFA;\n",
              "      box-shadow: 0px 1px 2px rgba(60, 64, 67, 0.3), 0px 1px 3px 1px rgba(60, 64, 67, 0.15);\n",
              "      fill: #174EA6;\n",
              "    }\n",
              "\n",
              "    [theme=dark] .colab-df-convert {\n",
              "      background-color: #3B4455;\n",
              "      fill: #D2E3FC;\n",
              "    }\n",
              "\n",
              "    [theme=dark] .colab-df-convert:hover {\n",
              "      background-color: #434B5C;\n",
              "      box-shadow: 0px 1px 3px 1px rgba(0, 0, 0, 0.15);\n",
              "      filter: drop-shadow(0px 1px 2px rgba(0, 0, 0, 0.3));\n",
              "      fill: #FFFFFF;\n",
              "    }\n",
              "  </style>\n",
              "\n",
              "      <script>\n",
              "        const buttonEl =\n",
              "          document.querySelector('#df-7f10d9bf-62d6-4886-983d-0e5027c2b2ab button.colab-df-convert');\n",
              "        buttonEl.style.display =\n",
              "          google.colab.kernel.accessAllowed ? 'block' : 'none';\n",
              "\n",
              "        async function convertToInteractive(key) {\n",
              "          const element = document.querySelector('#df-7f10d9bf-62d6-4886-983d-0e5027c2b2ab');\n",
              "          const dataTable =\n",
              "            await google.colab.kernel.invokeFunction('convertToInteractive',\n",
              "                                                     [key], {});\n",
              "          if (!dataTable) return;\n",
              "\n",
              "          const docLinkHtml = 'Like what you see? Visit the ' +\n",
              "            '<a target=\"_blank\" href=https://colab.research.google.com/notebooks/data_table.ipynb>data table notebook</a>'\n",
              "            + ' to learn more about interactive tables.';\n",
              "          element.innerHTML = '';\n",
              "          dataTable['output_type'] = 'display_data';\n",
              "          await google.colab.output.renderOutput(dataTable, element);\n",
              "          const docLink = document.createElement('div');\n",
              "          docLink.innerHTML = docLinkHtml;\n",
              "          element.appendChild(docLink);\n",
              "        }\n",
              "      </script>\n",
              "    </div>\n",
              "  </div>\n",
              "  "
            ]
          },
          "metadata": {},
          "execution_count": 30
        }
      ]
    },
    {
      "cell_type": "code",
      "source": [
        "def tokenize_text(tokenizer, with_labels, row):\n",
        "    encoding = tokenizer(\n",
        "        text = row[\"inputs\"],\n",
        "        padding = False,\n",
        "        truncation = True\n",
        "    )\n",
        "    if with_labels:\n",
        "        encoding[\"labels\"] = row[\"score\"]\n",
        "    return encoding"
      ],
      "metadata": {
        "id": "bfp4vMSLVUnv"
      },
      "execution_count": null,
      "outputs": []
    },
    {
      "cell_type": "code",
      "source": [
        "# test_enc = tokenize_text(tokenizer, True, df_train.loc[0, :])\n",
        "# test_enc"
      ],
      "metadata": {
        "id": "SGTJ6TDuW8y4"
      },
      "execution_count": null,
      "outputs": []
    },
    {
      "cell_type": "code",
      "source": [
        "# ds_train_raw = Dataset.from_pandas(df_train)\n",
        "# ds_train_raw"
      ],
      "metadata": {
        "id": "R4Wch0uCXUng"
      },
      "execution_count": null,
      "outputs": []
    },
    {
      "cell_type": "code",
      "source": [
        "from functools import partial\n",
        "\n",
        "preprocess_train_data = partial(tokenize_text, tokenizer, True)  \n",
        "preprocess_test_data = partial(tokenize_text, tokenizer, False)  "
      ],
      "metadata": {
        "id": "40q3FL0nWa2e"
      },
      "execution_count": null,
      "outputs": []
    },
    {
      "cell_type": "code",
      "source": [
        "def get_fold_dls(fold, df):\n",
        "    train_df = df[df.kfold != fold].reset_index(drop=True)\n",
        "    valid_df = df[df.kfold == fold].reset_index(drop=True)\n",
        "    ds_train_raw = Dataset.from_pandas(train_df)\n",
        "    ds_valid_raw = Dataset.from_pandas(valid_df)\n",
        "    raw_ds_col_names = ds_train_raw.column_names    \n",
        "    ds_train = ds_train_raw.map(preprocess_train_data, batched=True, batch_size=1000, remove_columns=raw_ds_col_names)\n",
        "    ds_valid = ds_valid_raw.map(preprocess_train_data, batched=True, batch_size=1000, remove_columns=raw_ds_col_names)    \n",
        "    return train_df, valid_df, ds_train, ds_valid"
      ],
      "metadata": {
        "id": "uwGKDR0vWlKC"
      },
      "execution_count": null,
      "outputs": []
    },
    {
      "cell_type": "code",
      "source": [
        "def compute_metrics(eval_pred):\n",
        "    predictions, labels = eval_pred\n",
        "    predictions = predictions.reshape(len(predictions))\n",
        "    return {\n",
        "        'pearson': np.corrcoef(predictions, labels)[0][1]\n",
        "    }"
      ],
      "metadata": {
        "id": "0U2HCksdbDzh"
      },
      "execution_count": null,
      "outputs": []
    },
    {
      "cell_type": "code",
      "source": [
        "def get_oof_preds(trainer, ds_val, df_val_fold):\n",
        "    oof_outputs = trainer.predict(ds_val)\n",
        "    oof_predictions = oof_outputs.predictions.reshape(-1)\n",
        "    df_val_fold[\"val_preds\"] = oof_predictions\n",
        "    return df_val_fold"
      ],
      "metadata": {
        "id": "9kuA_THHJiFx"
      },
      "execution_count": null,
      "outputs": []
    },
    {
      "cell_type": "code",
      "source": [
        "df_val_preds = pd.DataFrame()\n",
        "tok_vocab = tokenizer.get_vocab()\n",
        "for fold in range(Config.NUM_FOLDS):\n",
        "    fold_str = f\"fold{fold}\"\n",
        "    print(f\"Running training for {fold_str}\")\n",
        "    df_train_fold, df_val_fold, ds_train, ds_val = get_fold_dls(fold, df_train)\n",
        "    training_args = TrainingArguments(\n",
        "        output_dir=Config.OUT_DIR + fold_str,\n",
        "        evaluation_strategy=\"epoch\",\n",
        "        save_strategy='epoch',        \n",
        "        num_train_epochs=Config.NUM_EPOCHS,\n",
        "        per_device_train_batch_size=Config.BATCH_SIZE,\n",
        "        per_device_eval_batch_size=Config.BATCH_SIZE,\n",
        "        warmup_ratio=TrainingArgs.warmup_ratio,\n",
        "        weight_decay=TrainingArgs.weight_decay,\n",
        "        learning_rate=TrainingArgs.learning_rate,    \n",
        "        gradient_accumulation_steps=TrainingArgs.gradient_accumulation_steps,\n",
        "        fp16=TrainingArgs.fp16,\n",
        "        lr_scheduler_type=TrainingArgs.lr_scheduler_type,\n",
        "        save_total_limit=TrainingArgs.save_total_limit\n",
        "    )\n",
        "    model = AutoModelForSequenceClassification.from_pretrained(Config.TRANSFORMER_CHECKPOINT, num_labels=Config.NUM_LABELS)\n",
        "    print(f\"len(tokenizer_vocab) = {len(tok_vocab)}\")\n",
        "    model.resize_token_embeddings(len(tok_vocab))    \n",
        "    trainer = Trainer(\n",
        "        model=model,                         # the instantiated Transformers model to be trained\n",
        "        args=training_args,                  # training arguments, defined above\n",
        "        train_dataset=ds_train,              # training dataset\n",
        "        eval_dataset=ds_val,                 # evaluation dataset\n",
        "        compute_metrics=compute_metrics,     # the callback that computes metrics of interest\n",
        "        data_collator=data_collator,\n",
        "        tokenizer=tokenizer\n",
        "    )\n",
        "    trainer.train()\n",
        "    df_val_fold = get_oof_preds(trainer, ds_val, df_val_fold) \n",
        "    display(df_val_fold.head())\n",
        "    df_val_preds = pd.concat([df_val_preds, df_val_fold], axis=0)\n",
        "    # export the oof predictions to csv for later use in stacking\n",
        "    if Config.RUNTIME != \"KAGGLE\":\n",
        "        df_val_preds.to_csv(Config.DATA_PATH + \"df_train_oof_preds.csv\")\n",
        "    else:\n",
        "        df_val_preds.to_csv(\"/kaggle/working/df_train_oof_preds.csv\")\n",
        "    print(f\"Saved OOF predictions for fold {fold}\")    \n",
        "    del model, trainer\n",
        "    if not Config.RUN_ALL_FOLDS:\n",
        "        break\n"
      ],
      "metadata": {
        "colab": {
          "base_uri": "https://localhost:8080/",
          "height": 1000,
          "referenced_widgets": [
            "dd7c6b15abe54574bad763859c2441c5",
            "1585d1249bbf4cfda912ab5e4f588630",
            "8aa8492cb38c4e75903bf7ba90e1995e",
            "bc1e6217bd8e405b815b50410c5626d4",
            "ea0854f64a3d4ee3a20d7bedd22113cf",
            "631fe985e1e14645a4675c935d179435",
            "5c40392911b8442b8724b692f22a9c9e",
            "b40a545dc1904bc5bab53299dd75308a",
            "44edb675cbcc42b998072c9b30c8a377",
            "ea01490b5be84064ad3d94a2a44037da",
            "4d43732105cb407f9dd627cbf37ffd7d",
            "540764558ed245d09296bc9a54a149fe",
            "8f2e950a1f624ffeacf9ae82d481df46",
            "e7a9c7eee96a41ce9b67ee3be3322259",
            "3826cf40158d4ebe950aa35d629de490",
            "2943a8bffb9740b0b0b173de275efc0d",
            "e3234680b5f047d5a0530bcbd1abc463",
            "98ff5281d3284949a78d5c0d286337f0",
            "ff23078253cc4e9cbaba6ed4ef90a407",
            "0043e43cfce045239d57d5460528318f",
            "b5d0c15462c547988820c8c86e321949",
            "8d2231aa300b4a43bbdcd9bccb973a9c",
            "38c96fe1191845e98ea08e67310fc1e7",
            "6978c186ca76481d9da278d4aeae8b8c",
            "42a92229197d44d7acb5ae7c0067f7a2",
            "26783da026784d79a74d4f431f399787",
            "6227e5c258914087a105c73509fbeb23",
            "97f80732c11241ee823fa44c124a7c4a",
            "30d8102eb75741ed8658eb315d0e5698",
            "3f9f650e67c644f0a54333d25228b3d0",
            "8eb4c0cca3654d6ab1e639ba914bb8ec",
            "ca8ad571995040689617f3174cae67ff",
            "0d43e91cfee54ab6b50df6a44a9432f2",
            "9ce764957cf14f5eb8d0e00d04455134",
            "72c94c814f064987ae1fd02b06e63690",
            "eb01f27ccab54c378af1cc925fb92bd4",
            "458386f64b214eacb9a61e66b6efde3d",
            "27099ddf0419421196847428271555ed",
            "f864c10294eb420ba142966f2937220c",
            "5734812e37844b1ca981b382c144e18a",
            "46a3c18ccce247e88ad94968539f12b7",
            "f85a385703fb4213935f3593c8366fea",
            "80c37e79739747f3b8b415067053f9e3",
            "ea7bbbc6b2a54ca69a383e834578fe25"
          ]
        },
        "id": "e7Dzi9bM_9E1",
        "outputId": "272195e1-2eb5-494c-c22b-15f37242eed0"
      },
      "execution_count": null,
      "outputs": [
        {
          "output_type": "stream",
          "name": "stdout",
          "text": [
            "Running training for fold0\n"
          ]
        },
        {
          "output_type": "display_data",
          "data": {
            "text/plain": [
              "  0%|          | 0/30 [00:00<?, ?ba/s]"
            ],
            "application/vnd.jupyter.widget-view+json": {
              "version_major": 2,
              "version_minor": 0,
              "model_id": "dd7c6b15abe54574bad763859c2441c5"
            }
          },
          "metadata": {}
        },
        {
          "output_type": "stream",
          "name": "stderr",
          "text": [
            "Asking to truncate to max_length but no maximum length is provided and the model has no predefined maximum length. Default to no truncation.\n"
          ]
        },
        {
          "output_type": "display_data",
          "data": {
            "text/plain": [
              "  0%|          | 0/8 [00:00<?, ?ba/s]"
            ],
            "application/vnd.jupyter.widget-view+json": {
              "version_major": 2,
              "version_minor": 0,
              "model_id": "540764558ed245d09296bc9a54a149fe"
            }
          },
          "metadata": {}
        },
        {
          "output_type": "stream",
          "name": "stderr",
          "text": [
            "Some weights of the model checkpoint at microsoft/deberta-v3-small were not used when initializing DebertaV2ForSequenceClassification: ['mask_predictions.dense.bias', 'lm_predictions.lm_head.LayerNorm.weight', 'mask_predictions.LayerNorm.bias', 'mask_predictions.LayerNorm.weight', 'lm_predictions.lm_head.bias', 'mask_predictions.classifier.bias', 'mask_predictions.dense.weight', 'lm_predictions.lm_head.dense.bias', 'lm_predictions.lm_head.LayerNorm.bias', 'mask_predictions.classifier.weight', 'lm_predictions.lm_head.dense.weight']\n",
            "- This IS expected if you are initializing DebertaV2ForSequenceClassification from the checkpoint of a model trained on another task or with another architecture (e.g. initializing a BertForSequenceClassification model from a BertForPreTraining model).\n",
            "- This IS NOT expected if you are initializing DebertaV2ForSequenceClassification from the checkpoint of a model that you expect to be exactly identical (initializing a BertForSequenceClassification model from a BertForSequenceClassification model).\n",
            "Some weights of DebertaV2ForSequenceClassification were not initialized from the model checkpoint at microsoft/deberta-v3-small and are newly initialized: ['pooler.dense.weight', 'classifier.weight', 'classifier.bias', 'pooler.dense.bias']\n",
            "You should probably TRAIN this model on a down-stream task to be able to use it for predictions and inference.\n"
          ]
        },
        {
          "output_type": "stream",
          "name": "stdout",
          "text": [
            "len(tokenizer_vocab) = 129567\n"
          ]
        },
        {
          "output_type": "stream",
          "name": "stderr",
          "text": [
            "Using amp half precision backend\n",
            "***** Running training *****\n",
            "  Num examples = 29178\n",
            "  Num Epochs = 4\n",
            "  Instantaneous batch size per device = 128\n",
            "  Total train batch size (w. parallel, distributed & accumulation) = 128\n",
            "  Gradient Accumulation steps = 1\n",
            "  Total optimization steps = 912\n"
          ]
        },
        {
          "output_type": "display_data",
          "data": {
            "text/plain": [
              "<IPython.core.display.HTML object>"
            ],
            "text/html": [
              "\n",
              "    <div>\n",
              "      \n",
              "      <progress value='912' max='912' style='width:300px; height:20px; vertical-align: middle;'></progress>\n",
              "      [912/912 06:31, Epoch 4/4]\n",
              "    </div>\n",
              "    <table border=\"1\" class=\"dataframe\">\n",
              "  <thead>\n",
              " <tr style=\"text-align: left;\">\n",
              "      <th>Epoch</th>\n",
              "      <th>Training Loss</th>\n",
              "      <th>Validation Loss</th>\n",
              "      <th>Pearson</th>\n",
              "    </tr>\n",
              "  </thead>\n",
              "  <tbody>\n",
              "    <tr>\n",
              "      <td>1</td>\n",
              "      <td>No log</td>\n",
              "      <td>0.035112</td>\n",
              "      <td>0.738231</td>\n",
              "    </tr>\n",
              "    <tr>\n",
              "      <td>2</td>\n",
              "      <td>No log</td>\n",
              "      <td>0.028157</td>\n",
              "      <td>0.773033</td>\n",
              "    </tr>\n",
              "    <tr>\n",
              "      <td>3</td>\n",
              "      <td>0.049800</td>\n",
              "      <td>0.027114</td>\n",
              "      <td>0.784417</td>\n",
              "    </tr>\n",
              "    <tr>\n",
              "      <td>4</td>\n",
              "      <td>0.049800</td>\n",
              "      <td>0.027835</td>\n",
              "      <td>0.786277</td>\n",
              "    </tr>\n",
              "  </tbody>\n",
              "</table><p>"
            ]
          },
          "metadata": {}
        },
        {
          "output_type": "stream",
          "name": "stderr",
          "text": [
            "***** Running Evaluation *****\n",
            "  Num examples = 7295\n",
            "  Batch size = 128\n",
            "Saving model checkpoint to /content/gdrive/MyDrive/Kaggle/NLP/PatentPhraseMatching/model/deberta-smallfold0/checkpoint-228\n",
            "Configuration saved in /content/gdrive/MyDrive/Kaggle/NLP/PatentPhraseMatching/model/deberta-smallfold0/checkpoint-228/config.json\n",
            "Model weights saved in /content/gdrive/MyDrive/Kaggle/NLP/PatentPhraseMatching/model/deberta-smallfold0/checkpoint-228/pytorch_model.bin\n",
            "tokenizer config file saved in /content/gdrive/MyDrive/Kaggle/NLP/PatentPhraseMatching/model/deberta-smallfold0/checkpoint-228/tokenizer_config.json\n",
            "Special tokens file saved in /content/gdrive/MyDrive/Kaggle/NLP/PatentPhraseMatching/model/deberta-smallfold0/checkpoint-228/special_tokens_map.json\n",
            "***** Running Evaluation *****\n",
            "  Num examples = 7295\n",
            "  Batch size = 128\n",
            "Saving model checkpoint to /content/gdrive/MyDrive/Kaggle/NLP/PatentPhraseMatching/model/deberta-smallfold0/checkpoint-456\n",
            "Configuration saved in /content/gdrive/MyDrive/Kaggle/NLP/PatentPhraseMatching/model/deberta-smallfold0/checkpoint-456/config.json\n",
            "Model weights saved in /content/gdrive/MyDrive/Kaggle/NLP/PatentPhraseMatching/model/deberta-smallfold0/checkpoint-456/pytorch_model.bin\n",
            "tokenizer config file saved in /content/gdrive/MyDrive/Kaggle/NLP/PatentPhraseMatching/model/deberta-smallfold0/checkpoint-456/tokenizer_config.json\n",
            "Special tokens file saved in /content/gdrive/MyDrive/Kaggle/NLP/PatentPhraseMatching/model/deberta-smallfold0/checkpoint-456/special_tokens_map.json\n",
            "Deleting older checkpoint [/content/gdrive/MyDrive/Kaggle/NLP/PatentPhraseMatching/model/deberta-smallfold0/checkpoint-228] due to args.save_total_limit\n",
            "***** Running Evaluation *****\n",
            "  Num examples = 7295\n",
            "  Batch size = 128\n",
            "Saving model checkpoint to /content/gdrive/MyDrive/Kaggle/NLP/PatentPhraseMatching/model/deberta-smallfold0/checkpoint-684\n",
            "Configuration saved in /content/gdrive/MyDrive/Kaggle/NLP/PatentPhraseMatching/model/deberta-smallfold0/checkpoint-684/config.json\n",
            "Model weights saved in /content/gdrive/MyDrive/Kaggle/NLP/PatentPhraseMatching/model/deberta-smallfold0/checkpoint-684/pytorch_model.bin\n",
            "tokenizer config file saved in /content/gdrive/MyDrive/Kaggle/NLP/PatentPhraseMatching/model/deberta-smallfold0/checkpoint-684/tokenizer_config.json\n",
            "Special tokens file saved in /content/gdrive/MyDrive/Kaggle/NLP/PatentPhraseMatching/model/deberta-smallfold0/checkpoint-684/special_tokens_map.json\n",
            "Deleting older checkpoint [/content/gdrive/MyDrive/Kaggle/NLP/PatentPhraseMatching/model/deberta-smallfold0/checkpoint-456] due to args.save_total_limit\n",
            "***** Running Evaluation *****\n",
            "  Num examples = 7295\n",
            "  Batch size = 128\n",
            "Saving model checkpoint to /content/gdrive/MyDrive/Kaggle/NLP/PatentPhraseMatching/model/deberta-smallfold0/checkpoint-912\n",
            "Configuration saved in /content/gdrive/MyDrive/Kaggle/NLP/PatentPhraseMatching/model/deberta-smallfold0/checkpoint-912/config.json\n",
            "Model weights saved in /content/gdrive/MyDrive/Kaggle/NLP/PatentPhraseMatching/model/deberta-smallfold0/checkpoint-912/pytorch_model.bin\n",
            "tokenizer config file saved in /content/gdrive/MyDrive/Kaggle/NLP/PatentPhraseMatching/model/deberta-smallfold0/checkpoint-912/tokenizer_config.json\n",
            "Special tokens file saved in /content/gdrive/MyDrive/Kaggle/NLP/PatentPhraseMatching/model/deberta-smallfold0/checkpoint-912/special_tokens_map.json\n",
            "Deleting older checkpoint [/content/gdrive/MyDrive/Kaggle/NLP/PatentPhraseMatching/model/deberta-smallfold0/checkpoint-684] due to args.save_total_limit\n",
            "\n",
            "\n",
            "Training completed. Do not forget to share your model on huggingface.co/models =)\n",
            "\n",
            "\n",
            "***** Running Prediction *****\n",
            "  Num examples = 7295\n",
            "  Batch size = 128\n"
          ]
        },
        {
          "output_type": "display_data",
          "data": {
            "text/plain": [
              "<IPython.core.display.HTML object>"
            ],
            "text/html": [
              "\n",
              "    <div>\n",
              "      \n",
              "      <progress value='57' max='57' style='width:300px; height:20px; vertical-align: middle;'></progress>\n",
              "      [57/57 00:03]\n",
              "    </div>\n",
              "    "
            ]
          },
          "metadata": {}
        },
        {
          "output_type": "display_data",
          "data": {
            "text/plain": [
              "                 id             anchor                 target context  score  \\\n",
              "0  54c1e3b9184cb5b6          abatement          forest region     A47   0.00   \n",
              "1  ef2d4c2e6bbb208d          abatement  mixing core materials     A47   0.25   \n",
              "2  cc96541d4987b399          abatement         rent abatement     A47   0.00   \n",
              "3  a8c9e9f37d4d836a          abatement          tax abatement     A47   0.00   \n",
              "4  604210b7c7ce2f6a  adhesive mounting               adhesive     A47   0.50   \n",
              "\n",
              "  section  kfold code                                              title  \\\n",
              "0       A      0  A47  FURNITURE; DOMESTIC ARTICLES OR APPLIANCES; CO...   \n",
              "1       A      0  A47  FURNITURE; DOMESTIC ARTICLES OR APPLIANCES; CO...   \n",
              "2       A      0  A47  FURNITURE; DOMESTIC ARTICLES OR APPLIANCES; CO...   \n",
              "3       A      0  A47  FURNITURE; DOMESTIC ARTICLES OR APPLIANCES; CO...   \n",
              "4       A      0  A47  FURNITURE; DOMESTIC ARTICLES OR APPLIANCES; CO...   \n",
              "\n",
              "           anchor_words               target_words  \\\n",
              "0           [abatement]           [forest, region]   \n",
              "1           [abatement]  [mixing, core, materials]   \n",
              "2           [abatement]          [rent, abatement]   \n",
              "3           [abatement]           [tax, abatement]   \n",
              "4  [adhesive, mounting]                 [adhesive]   \n",
              "\n",
              "                                              inputs  val_preds  \n",
              "0  abatement[SEP]forest region[SEP]FURNITURE; DOM...   0.138306  \n",
              "1  abatement[SEP]mixing core materials[SEP]FURNIT...   0.198853  \n",
              "2  abatement[SEP]rent abatement[SEP]FURNITURE; DO...   0.200317  \n",
              "3  abatement[SEP]tax abatement[SEP]FURNITURE; DOM...   0.038208  \n",
              "4  adhesive mounting[SEP]adhesive[SEP]FURNITURE; ...   0.522461  "
            ],
            "text/html": [
              "\n",
              "  <div id=\"df-d015781d-4864-41a8-b0b5-8d4cac7e770b\">\n",
              "    <div class=\"colab-df-container\">\n",
              "      <div>\n",
              "<style scoped>\n",
              "    .dataframe tbody tr th:only-of-type {\n",
              "        vertical-align: middle;\n",
              "    }\n",
              "\n",
              "    .dataframe tbody tr th {\n",
              "        vertical-align: top;\n",
              "    }\n",
              "\n",
              "    .dataframe thead th {\n",
              "        text-align: right;\n",
              "    }\n",
              "</style>\n",
              "<table border=\"1\" class=\"dataframe\">\n",
              "  <thead>\n",
              "    <tr style=\"text-align: right;\">\n",
              "      <th></th>\n",
              "      <th>id</th>\n",
              "      <th>anchor</th>\n",
              "      <th>target</th>\n",
              "      <th>context</th>\n",
              "      <th>score</th>\n",
              "      <th>section</th>\n",
              "      <th>kfold</th>\n",
              "      <th>code</th>\n",
              "      <th>title</th>\n",
              "      <th>anchor_words</th>\n",
              "      <th>target_words</th>\n",
              "      <th>inputs</th>\n",
              "      <th>val_preds</th>\n",
              "    </tr>\n",
              "  </thead>\n",
              "  <tbody>\n",
              "    <tr>\n",
              "      <th>0</th>\n",
              "      <td>54c1e3b9184cb5b6</td>\n",
              "      <td>abatement</td>\n",
              "      <td>forest region</td>\n",
              "      <td>A47</td>\n",
              "      <td>0.00</td>\n",
              "      <td>A</td>\n",
              "      <td>0</td>\n",
              "      <td>A47</td>\n",
              "      <td>FURNITURE; DOMESTIC ARTICLES OR APPLIANCES; CO...</td>\n",
              "      <td>[abatement]</td>\n",
              "      <td>[forest, region]</td>\n",
              "      <td>abatement[SEP]forest region[SEP]FURNITURE; DOM...</td>\n",
              "      <td>0.138306</td>\n",
              "    </tr>\n",
              "    <tr>\n",
              "      <th>1</th>\n",
              "      <td>ef2d4c2e6bbb208d</td>\n",
              "      <td>abatement</td>\n",
              "      <td>mixing core materials</td>\n",
              "      <td>A47</td>\n",
              "      <td>0.25</td>\n",
              "      <td>A</td>\n",
              "      <td>0</td>\n",
              "      <td>A47</td>\n",
              "      <td>FURNITURE; DOMESTIC ARTICLES OR APPLIANCES; CO...</td>\n",
              "      <td>[abatement]</td>\n",
              "      <td>[mixing, core, materials]</td>\n",
              "      <td>abatement[SEP]mixing core materials[SEP]FURNIT...</td>\n",
              "      <td>0.198853</td>\n",
              "    </tr>\n",
              "    <tr>\n",
              "      <th>2</th>\n",
              "      <td>cc96541d4987b399</td>\n",
              "      <td>abatement</td>\n",
              "      <td>rent abatement</td>\n",
              "      <td>A47</td>\n",
              "      <td>0.00</td>\n",
              "      <td>A</td>\n",
              "      <td>0</td>\n",
              "      <td>A47</td>\n",
              "      <td>FURNITURE; DOMESTIC ARTICLES OR APPLIANCES; CO...</td>\n",
              "      <td>[abatement]</td>\n",
              "      <td>[rent, abatement]</td>\n",
              "      <td>abatement[SEP]rent abatement[SEP]FURNITURE; DO...</td>\n",
              "      <td>0.200317</td>\n",
              "    </tr>\n",
              "    <tr>\n",
              "      <th>3</th>\n",
              "      <td>a8c9e9f37d4d836a</td>\n",
              "      <td>abatement</td>\n",
              "      <td>tax abatement</td>\n",
              "      <td>A47</td>\n",
              "      <td>0.00</td>\n",
              "      <td>A</td>\n",
              "      <td>0</td>\n",
              "      <td>A47</td>\n",
              "      <td>FURNITURE; DOMESTIC ARTICLES OR APPLIANCES; CO...</td>\n",
              "      <td>[abatement]</td>\n",
              "      <td>[tax, abatement]</td>\n",
              "      <td>abatement[SEP]tax abatement[SEP]FURNITURE; DOM...</td>\n",
              "      <td>0.038208</td>\n",
              "    </tr>\n",
              "    <tr>\n",
              "      <th>4</th>\n",
              "      <td>604210b7c7ce2f6a</td>\n",
              "      <td>adhesive mounting</td>\n",
              "      <td>adhesive</td>\n",
              "      <td>A47</td>\n",
              "      <td>0.50</td>\n",
              "      <td>A</td>\n",
              "      <td>0</td>\n",
              "      <td>A47</td>\n",
              "      <td>FURNITURE; DOMESTIC ARTICLES OR APPLIANCES; CO...</td>\n",
              "      <td>[adhesive, mounting]</td>\n",
              "      <td>[adhesive]</td>\n",
              "      <td>adhesive mounting[SEP]adhesive[SEP]FURNITURE; ...</td>\n",
              "      <td>0.522461</td>\n",
              "    </tr>\n",
              "  </tbody>\n",
              "</table>\n",
              "</div>\n",
              "      <button class=\"colab-df-convert\" onclick=\"convertToInteractive('df-d015781d-4864-41a8-b0b5-8d4cac7e770b')\"\n",
              "              title=\"Convert this dataframe to an interactive table.\"\n",
              "              style=\"display:none;\">\n",
              "        \n",
              "  <svg xmlns=\"http://www.w3.org/2000/svg\" height=\"24px\"viewBox=\"0 0 24 24\"\n",
              "       width=\"24px\">\n",
              "    <path d=\"M0 0h24v24H0V0z\" fill=\"none\"/>\n",
              "    <path d=\"M18.56 5.44l.94 2.06.94-2.06 2.06-.94-2.06-.94-.94-2.06-.94 2.06-2.06.94zm-11 1L8.5 8.5l.94-2.06 2.06-.94-2.06-.94L8.5 2.5l-.94 2.06-2.06.94zm10 10l.94 2.06.94-2.06 2.06-.94-2.06-.94-.94-2.06-.94 2.06-2.06.94z\"/><path d=\"M17.41 7.96l-1.37-1.37c-.4-.4-.92-.59-1.43-.59-.52 0-1.04.2-1.43.59L10.3 9.45l-7.72 7.72c-.78.78-.78 2.05 0 2.83L4 21.41c.39.39.9.59 1.41.59.51 0 1.02-.2 1.41-.59l7.78-7.78 2.81-2.81c.8-.78.8-2.07 0-2.86zM5.41 20L4 18.59l7.72-7.72 1.47 1.35L5.41 20z\"/>\n",
              "  </svg>\n",
              "      </button>\n",
              "      \n",
              "  <style>\n",
              "    .colab-df-container {\n",
              "      display:flex;\n",
              "      flex-wrap:wrap;\n",
              "      gap: 12px;\n",
              "    }\n",
              "\n",
              "    .colab-df-convert {\n",
              "      background-color: #E8F0FE;\n",
              "      border: none;\n",
              "      border-radius: 50%;\n",
              "      cursor: pointer;\n",
              "      display: none;\n",
              "      fill: #1967D2;\n",
              "      height: 32px;\n",
              "      padding: 0 0 0 0;\n",
              "      width: 32px;\n",
              "    }\n",
              "\n",
              "    .colab-df-convert:hover {\n",
              "      background-color: #E2EBFA;\n",
              "      box-shadow: 0px 1px 2px rgba(60, 64, 67, 0.3), 0px 1px 3px 1px rgba(60, 64, 67, 0.15);\n",
              "      fill: #174EA6;\n",
              "    }\n",
              "\n",
              "    [theme=dark] .colab-df-convert {\n",
              "      background-color: #3B4455;\n",
              "      fill: #D2E3FC;\n",
              "    }\n",
              "\n",
              "    [theme=dark] .colab-df-convert:hover {\n",
              "      background-color: #434B5C;\n",
              "      box-shadow: 0px 1px 3px 1px rgba(0, 0, 0, 0.15);\n",
              "      filter: drop-shadow(0px 1px 2px rgba(0, 0, 0, 0.3));\n",
              "      fill: #FFFFFF;\n",
              "    }\n",
              "  </style>\n",
              "\n",
              "      <script>\n",
              "        const buttonEl =\n",
              "          document.querySelector('#df-d015781d-4864-41a8-b0b5-8d4cac7e770b button.colab-df-convert');\n",
              "        buttonEl.style.display =\n",
              "          google.colab.kernel.accessAllowed ? 'block' : 'none';\n",
              "\n",
              "        async function convertToInteractive(key) {\n",
              "          const element = document.querySelector('#df-d015781d-4864-41a8-b0b5-8d4cac7e770b');\n",
              "          const dataTable =\n",
              "            await google.colab.kernel.invokeFunction('convertToInteractive',\n",
              "                                                     [key], {});\n",
              "          if (!dataTable) return;\n",
              "\n",
              "          const docLinkHtml = 'Like what you see? Visit the ' +\n",
              "            '<a target=\"_blank\" href=https://colab.research.google.com/notebooks/data_table.ipynb>data table notebook</a>'\n",
              "            + ' to learn more about interactive tables.';\n",
              "          element.innerHTML = '';\n",
              "          dataTable['output_type'] = 'display_data';\n",
              "          await google.colab.output.renderOutput(dataTable, element);\n",
              "          const docLink = document.createElement('div');\n",
              "          docLink.innerHTML = docLinkHtml;\n",
              "          element.appendChild(docLink);\n",
              "        }\n",
              "      </script>\n",
              "    </div>\n",
              "  </div>\n",
              "  "
            ]
          },
          "metadata": {}
        },
        {
          "output_type": "stream",
          "name": "stdout",
          "text": [
            "Saved OOF predictions for fold 0\n",
            "Running training for fold1\n"
          ]
        },
        {
          "output_type": "display_data",
          "data": {
            "text/plain": [
              "  0%|          | 0/30 [00:00<?, ?ba/s]"
            ],
            "application/vnd.jupyter.widget-view+json": {
              "version_major": 2,
              "version_minor": 0,
              "model_id": "38c96fe1191845e98ea08e67310fc1e7"
            }
          },
          "metadata": {}
        },
        {
          "output_type": "stream",
          "name": "stderr",
          "text": [
            "Parameter 'function'=<function Dataset.map.<locals>.decorate.<locals>.decorated at 0x7fe2730728c0> of the transform datasets.arrow_dataset.Dataset._map_single couldn't be hashed properly, a random hash was used instead. Make sure your transforms and parameters are serializable with pickle or dill for the dataset fingerprinting and caching to work. If you reuse this transform, the caching mechanism will consider it to be different from the previous calls and recompute everything. This warning is only showed once. Subsequent hashing failures won't be showed.\n"
          ]
        },
        {
          "output_type": "display_data",
          "data": {
            "text/plain": [
              "  0%|          | 0/8 [00:00<?, ?ba/s]"
            ],
            "application/vnd.jupyter.widget-view+json": {
              "version_major": 2,
              "version_minor": 0,
              "model_id": "9ce764957cf14f5eb8d0e00d04455134"
            }
          },
          "metadata": {}
        },
        {
          "output_type": "stream",
          "name": "stderr",
          "text": [
            "PyTorch: setting up devices\n",
            "The default value for the training argument `--report_to` will change in v5 (from all installed integrations to none). In v5, you will need to use `--report_to all` to get the same behavior as now. You should start updating your code and make this info disappear :-).\n",
            "loading configuration file https://huggingface.co/microsoft/deberta-v3-small/resolve/main/config.json from cache at /root/.cache/huggingface/transformers/8e0c12a7672d1d36f647c86e5fc3a911f189d8704e2bc94dde4a1ffe38f648fa.9df96bac06c2c492bc77ad040068f903c93beec14607428f25bf9081644ad0da\n",
            "Model config DebertaV2Config {\n",
            "  \"_name_or_path\": \"microsoft/deberta-v3-small\",\n",
            "  \"attention_probs_dropout_prob\": 0.1,\n",
            "  \"hidden_act\": \"gelu\",\n",
            "  \"hidden_dropout_prob\": 0.1,\n",
            "  \"hidden_size\": 768,\n",
            "  \"id2label\": {\n",
            "    \"0\": \"LABEL_0\"\n",
            "  },\n",
            "  \"initializer_range\": 0.02,\n",
            "  \"intermediate_size\": 3072,\n",
            "  \"label2id\": {\n",
            "    \"LABEL_0\": 0\n",
            "  },\n",
            "  \"layer_norm_eps\": 1e-07,\n",
            "  \"max_position_embeddings\": 512,\n",
            "  \"max_relative_positions\": -1,\n",
            "  \"model_type\": \"deberta-v2\",\n",
            "  \"norm_rel_ebd\": \"layer_norm\",\n",
            "  \"num_attention_heads\": 12,\n",
            "  \"num_hidden_layers\": 6,\n",
            "  \"pad_token_id\": 0,\n",
            "  \"pooler_dropout\": 0,\n",
            "  \"pooler_hidden_act\": \"gelu\",\n",
            "  \"pooler_hidden_size\": 768,\n",
            "  \"pos_att_type\": [\n",
            "    \"p2c\",\n",
            "    \"c2p\"\n",
            "  ],\n",
            "  \"position_biased_input\": false,\n",
            "  \"position_buckets\": 256,\n",
            "  \"relative_attention\": true,\n",
            "  \"share_att_key\": true,\n",
            "  \"transformers_version\": \"4.19.2\",\n",
            "  \"type_vocab_size\": 0,\n",
            "  \"vocab_size\": 128100\n",
            "}\n",
            "\n",
            "loading weights file https://huggingface.co/microsoft/deberta-v3-small/resolve/main/pytorch_model.bin from cache at /root/.cache/huggingface/transformers/ce3185000148731a86ceaf533caa85fe513fc79e02b7fe5831fb1ed52a0e0d22.7e73b1561275ae3b633ba76ab7e4889d28d73dbcdc008cbc2414369b39da319b\n",
            "Some weights of the model checkpoint at microsoft/deberta-v3-small were not used when initializing DebertaV2ForSequenceClassification: ['mask_predictions.dense.bias', 'lm_predictions.lm_head.LayerNorm.weight', 'mask_predictions.LayerNorm.bias', 'mask_predictions.LayerNorm.weight', 'lm_predictions.lm_head.bias', 'mask_predictions.classifier.bias', 'mask_predictions.dense.weight', 'lm_predictions.lm_head.dense.bias', 'lm_predictions.lm_head.LayerNorm.bias', 'mask_predictions.classifier.weight', 'lm_predictions.lm_head.dense.weight']\n",
            "- This IS expected if you are initializing DebertaV2ForSequenceClassification from the checkpoint of a model trained on another task or with another architecture (e.g. initializing a BertForSequenceClassification model from a BertForPreTraining model).\n",
            "- This IS NOT expected if you are initializing DebertaV2ForSequenceClassification from the checkpoint of a model that you expect to be exactly identical (initializing a BertForSequenceClassification model from a BertForSequenceClassification model).\n",
            "Some weights of DebertaV2ForSequenceClassification were not initialized from the model checkpoint at microsoft/deberta-v3-small and are newly initialized: ['pooler.dense.weight', 'classifier.weight', 'classifier.bias', 'pooler.dense.bias']\n",
            "You should probably TRAIN this model on a down-stream task to be able to use it for predictions and inference.\n"
          ]
        },
        {
          "output_type": "stream",
          "name": "stdout",
          "text": [
            "len(tokenizer_vocab) = 129567\n"
          ]
        },
        {
          "output_type": "error",
          "ename": "KeyboardInterrupt",
          "evalue": "ignored",
          "traceback": [
            "\u001b[0;31m---------------------------------------------------------------------------\u001b[0m",
            "\u001b[0;31mKeyboardInterrupt\u001b[0m                         Traceback (most recent call last)",
            "\u001b[0;32m<ipython-input-38-f08d9313e6c8>\u001b[0m in \u001b[0;36m<module>\u001b[0;34m()\u001b[0m\n\u001b[1;32m     22\u001b[0m     \u001b[0mmodel\u001b[0m \u001b[0;34m=\u001b[0m \u001b[0mAutoModelForSequenceClassification\u001b[0m\u001b[0;34m.\u001b[0m\u001b[0mfrom_pretrained\u001b[0m\u001b[0;34m(\u001b[0m\u001b[0mConfig\u001b[0m\u001b[0;34m.\u001b[0m\u001b[0mTRANSFORMER_CHECKPOINT\u001b[0m\u001b[0;34m,\u001b[0m \u001b[0mnum_labels\u001b[0m\u001b[0;34m=\u001b[0m\u001b[0mConfig\u001b[0m\u001b[0;34m.\u001b[0m\u001b[0mNUM_LABELS\u001b[0m\u001b[0;34m)\u001b[0m\u001b[0;34m\u001b[0m\u001b[0;34m\u001b[0m\u001b[0m\n\u001b[1;32m     23\u001b[0m     \u001b[0mprint\u001b[0m\u001b[0;34m(\u001b[0m\u001b[0;34mf\"len(tokenizer_vocab) = {len(tok_vocab)}\"\u001b[0m\u001b[0;34m)\u001b[0m\u001b[0;34m\u001b[0m\u001b[0;34m\u001b[0m\u001b[0m\n\u001b[0;32m---> 24\u001b[0;31m     \u001b[0mmodel\u001b[0m\u001b[0;34m.\u001b[0m\u001b[0mresize_token_embeddings\u001b[0m\u001b[0;34m(\u001b[0m\u001b[0mlen\u001b[0m\u001b[0;34m(\u001b[0m\u001b[0mtok_vocab\u001b[0m\u001b[0;34m)\u001b[0m\u001b[0;34m)\u001b[0m\u001b[0;34m\u001b[0m\u001b[0;34m\u001b[0m\u001b[0m\n\u001b[0m\u001b[1;32m     25\u001b[0m     trainer = Trainer(\n\u001b[1;32m     26\u001b[0m         \u001b[0mmodel\u001b[0m\u001b[0;34m=\u001b[0m\u001b[0mmodel\u001b[0m\u001b[0;34m,\u001b[0m                         \u001b[0;31m# the instantiated Transformers model to be trained\u001b[0m\u001b[0;34m\u001b[0m\u001b[0;34m\u001b[0m\u001b[0m\n",
            "\u001b[0;32m/usr/local/lib/python3.7/dist-packages/transformers/modeling_utils.py\u001b[0m in \u001b[0;36mresize_token_embeddings\u001b[0;34m(self, new_num_tokens)\u001b[0m\n\u001b[1;32m   1164\u001b[0m             \u001b[0;31m`\u001b[0m\u001b[0mtorch\u001b[0m\u001b[0;34m.\u001b[0m\u001b[0mnn\u001b[0m\u001b[0;34m.\u001b[0m\u001b[0mEmbedding\u001b[0m\u001b[0;31m`\u001b[0m\u001b[0;34m:\u001b[0m \u001b[0mPointer\u001b[0m \u001b[0mto\u001b[0m \u001b[0mthe\u001b[0m \u001b[0minput\u001b[0m \u001b[0mtokens\u001b[0m \u001b[0mEmbeddings\u001b[0m \u001b[0mModule\u001b[0m \u001b[0mof\u001b[0m \u001b[0mthe\u001b[0m \u001b[0mmodel\u001b[0m\u001b[0;34m.\u001b[0m\u001b[0;34m\u001b[0m\u001b[0;34m\u001b[0m\u001b[0m\n\u001b[1;32m   1165\u001b[0m         \"\"\"\n\u001b[0;32m-> 1166\u001b[0;31m         \u001b[0mmodel_embeds\u001b[0m \u001b[0;34m=\u001b[0m \u001b[0mself\u001b[0m\u001b[0;34m.\u001b[0m\u001b[0m_resize_token_embeddings\u001b[0m\u001b[0;34m(\u001b[0m\u001b[0mnew_num_tokens\u001b[0m\u001b[0;34m)\u001b[0m\u001b[0;34m\u001b[0m\u001b[0;34m\u001b[0m\u001b[0m\n\u001b[0m\u001b[1;32m   1167\u001b[0m         \u001b[0;32mif\u001b[0m \u001b[0mnew_num_tokens\u001b[0m \u001b[0;32mis\u001b[0m \u001b[0;32mNone\u001b[0m\u001b[0;34m:\u001b[0m\u001b[0;34m\u001b[0m\u001b[0;34m\u001b[0m\u001b[0m\n\u001b[1;32m   1168\u001b[0m             \u001b[0;32mreturn\u001b[0m \u001b[0mmodel_embeds\u001b[0m\u001b[0;34m\u001b[0m\u001b[0;34m\u001b[0m\u001b[0m\n",
            "\u001b[0;32m/usr/local/lib/python3.7/dist-packages/transformers/modeling_utils.py\u001b[0m in \u001b[0;36m_resize_token_embeddings\u001b[0;34m(self, new_num_tokens)\u001b[0m\n\u001b[1;32m   1179\u001b[0m     \u001b[0;32mdef\u001b[0m \u001b[0m_resize_token_embeddings\u001b[0m\u001b[0;34m(\u001b[0m\u001b[0mself\u001b[0m\u001b[0;34m,\u001b[0m \u001b[0mnew_num_tokens\u001b[0m\u001b[0;34m)\u001b[0m\u001b[0;34m:\u001b[0m\u001b[0;34m\u001b[0m\u001b[0;34m\u001b[0m\u001b[0m\n\u001b[1;32m   1180\u001b[0m         \u001b[0mold_embeddings\u001b[0m \u001b[0;34m=\u001b[0m \u001b[0mself\u001b[0m\u001b[0;34m.\u001b[0m\u001b[0mget_input_embeddings\u001b[0m\u001b[0;34m(\u001b[0m\u001b[0;34m)\u001b[0m\u001b[0;34m\u001b[0m\u001b[0;34m\u001b[0m\u001b[0m\n\u001b[0;32m-> 1181\u001b[0;31m         \u001b[0mnew_embeddings\u001b[0m \u001b[0;34m=\u001b[0m \u001b[0mself\u001b[0m\u001b[0;34m.\u001b[0m\u001b[0m_get_resized_embeddings\u001b[0m\u001b[0;34m(\u001b[0m\u001b[0mold_embeddings\u001b[0m\u001b[0;34m,\u001b[0m \u001b[0mnew_num_tokens\u001b[0m\u001b[0;34m)\u001b[0m\u001b[0;34m\u001b[0m\u001b[0;34m\u001b[0m\u001b[0m\n\u001b[0m\u001b[1;32m   1182\u001b[0m         \u001b[0mself\u001b[0m\u001b[0;34m.\u001b[0m\u001b[0mset_input_embeddings\u001b[0m\u001b[0;34m(\u001b[0m\u001b[0mnew_embeddings\u001b[0m\u001b[0;34m)\u001b[0m\u001b[0;34m\u001b[0m\u001b[0;34m\u001b[0m\u001b[0m\n\u001b[1;32m   1183\u001b[0m \u001b[0;34m\u001b[0m\u001b[0m\n",
            "\u001b[0;32m/usr/local/lib/python3.7/dist-packages/transformers/modeling_utils.py\u001b[0m in \u001b[0;36m_get_resized_embeddings\u001b[0;34m(self, old_embeddings, new_num_tokens)\u001b[0m\n\u001b[1;32m   1236\u001b[0m \u001b[0;34m\u001b[0m\u001b[0m\n\u001b[1;32m   1237\u001b[0m         \u001b[0;31m# initialize all new embeddings (in particular added tokens)\u001b[0m\u001b[0;34m\u001b[0m\u001b[0;34m\u001b[0m\u001b[0;34m\u001b[0m\u001b[0m\n\u001b[0;32m-> 1238\u001b[0;31m         \u001b[0mself\u001b[0m\u001b[0;34m.\u001b[0m\u001b[0m_init_weights\u001b[0m\u001b[0;34m(\u001b[0m\u001b[0mnew_embeddings\u001b[0m\u001b[0;34m)\u001b[0m\u001b[0;34m\u001b[0m\u001b[0;34m\u001b[0m\u001b[0m\n\u001b[0m\u001b[1;32m   1239\u001b[0m \u001b[0;34m\u001b[0m\u001b[0m\n\u001b[1;32m   1240\u001b[0m         \u001b[0;31m# Copy token embeddings from the previous weights\u001b[0m\u001b[0;34m\u001b[0m\u001b[0;34m\u001b[0m\u001b[0;34m\u001b[0m\u001b[0m\n",
            "\u001b[0;32m/usr/local/lib/python3.7/dist-packages/transformers/models/deberta_v2/modeling_deberta_v2.py\u001b[0m in \u001b[0;36m_init_weights\u001b[0;34m(self, module)\u001b[0m\n\u001b[1;32m    901\u001b[0m                 \u001b[0mmodule\u001b[0m\u001b[0;34m.\u001b[0m\u001b[0mbias\u001b[0m\u001b[0;34m.\u001b[0m\u001b[0mdata\u001b[0m\u001b[0;34m.\u001b[0m\u001b[0mzero_\u001b[0m\u001b[0;34m(\u001b[0m\u001b[0;34m)\u001b[0m\u001b[0;34m\u001b[0m\u001b[0;34m\u001b[0m\u001b[0m\n\u001b[1;32m    902\u001b[0m         \u001b[0;32melif\u001b[0m \u001b[0misinstance\u001b[0m\u001b[0;34m(\u001b[0m\u001b[0mmodule\u001b[0m\u001b[0;34m,\u001b[0m \u001b[0mnn\u001b[0m\u001b[0;34m.\u001b[0m\u001b[0mEmbedding\u001b[0m\u001b[0;34m)\u001b[0m\u001b[0;34m:\u001b[0m\u001b[0;34m\u001b[0m\u001b[0;34m\u001b[0m\u001b[0m\n\u001b[0;32m--> 903\u001b[0;31m             \u001b[0mmodule\u001b[0m\u001b[0;34m.\u001b[0m\u001b[0mweight\u001b[0m\u001b[0;34m.\u001b[0m\u001b[0mdata\u001b[0m\u001b[0;34m.\u001b[0m\u001b[0mnormal_\u001b[0m\u001b[0;34m(\u001b[0m\u001b[0mmean\u001b[0m\u001b[0;34m=\u001b[0m\u001b[0;36m0.0\u001b[0m\u001b[0;34m,\u001b[0m \u001b[0mstd\u001b[0m\u001b[0;34m=\u001b[0m\u001b[0mself\u001b[0m\u001b[0;34m.\u001b[0m\u001b[0mconfig\u001b[0m\u001b[0;34m.\u001b[0m\u001b[0minitializer_range\u001b[0m\u001b[0;34m)\u001b[0m\u001b[0;34m\u001b[0m\u001b[0;34m\u001b[0m\u001b[0m\n\u001b[0m\u001b[1;32m    904\u001b[0m             \u001b[0;32mif\u001b[0m \u001b[0mmodule\u001b[0m\u001b[0;34m.\u001b[0m\u001b[0mpadding_idx\u001b[0m \u001b[0;32mis\u001b[0m \u001b[0;32mnot\u001b[0m \u001b[0;32mNone\u001b[0m\u001b[0;34m:\u001b[0m\u001b[0;34m\u001b[0m\u001b[0;34m\u001b[0m\u001b[0m\n\u001b[1;32m    905\u001b[0m                 \u001b[0mmodule\u001b[0m\u001b[0;34m.\u001b[0m\u001b[0mweight\u001b[0m\u001b[0;34m.\u001b[0m\u001b[0mdata\u001b[0m\u001b[0;34m[\u001b[0m\u001b[0mmodule\u001b[0m\u001b[0;34m.\u001b[0m\u001b[0mpadding_idx\u001b[0m\u001b[0;34m]\u001b[0m\u001b[0;34m.\u001b[0m\u001b[0mzero_\u001b[0m\u001b[0;34m(\u001b[0m\u001b[0;34m)\u001b[0m\u001b[0;34m\u001b[0m\u001b[0;34m\u001b[0m\u001b[0m\n",
            "\u001b[0;31mKeyboardInterrupt\u001b[0m: "
          ]
        }
      ]
    },
    {
      "cell_type": "code",
      "source": [
        "# Calculate the CV score\n",
        "predictions = df_val_preds['val_preds'].values\n",
        "labels = df_val_preds['score'].values\n",
        "eval_preds = predictions, labels\n",
        "cv_metric_dict = compute_metrics(eval_preds)\n",
        "print(f\"CV score = {cv_metric_dict}\")"
      ],
      "metadata": {
        "id": "RHmW1Ef7TNaM"
      },
      "execution_count": null,
      "outputs": []
    },
    {
      "cell_type": "markdown",
      "source": [
        "Using deberta-v3-small model that using additional patent specific vocab (extracted from anchor and target phrases) gives a much reduced CV score of 0.7862 compared to CV score of 0.8219 (without additional vocab) when fine tuned on competition data"
      ],
      "metadata": {
        "id": "EVZxhE34hQap"
      }
    }
  ]
}