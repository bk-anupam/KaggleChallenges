{
<<<<<<< HEAD
=======
  "nbformat": 4,
  "nbformat_minor": 0,
  "metadata": {
    "colab": {
      "name": "USPPPM-train-hf-customheads.ipynb",
      "provenance": [],
      "collapsed_sections": []
    },
    "kernelspec": {
      "name": "python3",
      "display_name": "Python 3"
    },
    "language_info": {
      "name": "python"
    },
    "accelerator": "GPU",
    "widgets": {
      "application/vnd.jupyter.widget-state+json": {
        "d7c554d13665416cbec3fcb9347f14c0": {
          "model_module": "@jupyter-widgets/controls",
          "model_name": "HBoxModel",
          "model_module_version": "1.5.0",
          "state": {
            "_dom_classes": [],
            "_model_module": "@jupyter-widgets/controls",
            "_model_module_version": "1.5.0",
            "_model_name": "HBoxModel",
            "_view_count": null,
            "_view_module": "@jupyter-widgets/controls",
            "_view_module_version": "1.5.0",
            "_view_name": "HBoxView",
            "box_style": "",
            "children": [
              "IPY_MODEL_1a634f3ba6814d7190b8bf1b4aa5c93e",
              "IPY_MODEL_fd48ce0d0c174b9caf6676735ee00c5b",
              "IPY_MODEL_bd6d5d0b2a994add86b61556711a4907"
            ],
            "layout": "IPY_MODEL_a4e1a4670cae47ecb01a1b54f7d899a6"
          }
        },
        "1a634f3ba6814d7190b8bf1b4aa5c93e": {
          "model_module": "@jupyter-widgets/controls",
          "model_name": "HTMLModel",
          "model_module_version": "1.5.0",
          "state": {
            "_dom_classes": [],
            "_model_module": "@jupyter-widgets/controls",
            "_model_module_version": "1.5.0",
            "_model_name": "HTMLModel",
            "_view_count": null,
            "_view_module": "@jupyter-widgets/controls",
            "_view_module_version": "1.5.0",
            "_view_name": "HTMLView",
            "description": "",
            "description_tooltip": null,
            "layout": "IPY_MODEL_c5345e80c3e844acbfc7ad8195be8d2c",
            "placeholder": "​",
            "style": "IPY_MODEL_1ed830544de149ed9d1063e0291d9398",
            "value": "100%"
          }
        },
        "fd48ce0d0c174b9caf6676735ee00c5b": {
          "model_module": "@jupyter-widgets/controls",
          "model_name": "FloatProgressModel",
          "model_module_version": "1.5.0",
          "state": {
            "_dom_classes": [],
            "_model_module": "@jupyter-widgets/controls",
            "_model_module_version": "1.5.0",
            "_model_name": "FloatProgressModel",
            "_view_count": null,
            "_view_module": "@jupyter-widgets/controls",
            "_view_module_version": "1.5.0",
            "_view_name": "ProgressView",
            "bar_style": "success",
            "description": "",
            "description_tooltip": null,
            "layout": "IPY_MODEL_dd255df999fb49f191656e29e3b65ee6",
            "max": 30,
            "min": 0,
            "orientation": "horizontal",
            "style": "IPY_MODEL_f648bd61f2b24bb6a1502c1008b3e037",
            "value": 30
          }
        },
        "bd6d5d0b2a994add86b61556711a4907": {
          "model_module": "@jupyter-widgets/controls",
          "model_name": "HTMLModel",
          "model_module_version": "1.5.0",
          "state": {
            "_dom_classes": [],
            "_model_module": "@jupyter-widgets/controls",
            "_model_module_version": "1.5.0",
            "_model_name": "HTMLModel",
            "_view_count": null,
            "_view_module": "@jupyter-widgets/controls",
            "_view_module_version": "1.5.0",
            "_view_name": "HTMLView",
            "description": "",
            "description_tooltip": null,
            "layout": "IPY_MODEL_129d863870e74f76b61d7ef5169e9b59",
            "placeholder": "​",
            "style": "IPY_MODEL_4016c3adbd364f88a4b11f37b71ebdf5",
            "value": " 30/30 [00:11&lt;00:00,  3.80ba/s]"
          }
        },
        "a4e1a4670cae47ecb01a1b54f7d899a6": {
          "model_module": "@jupyter-widgets/base",
          "model_name": "LayoutModel",
          "model_module_version": "1.2.0",
          "state": {
            "_model_module": "@jupyter-widgets/base",
            "_model_module_version": "1.2.0",
            "_model_name": "LayoutModel",
            "_view_count": null,
            "_view_module": "@jupyter-widgets/base",
            "_view_module_version": "1.2.0",
            "_view_name": "LayoutView",
            "align_content": null,
            "align_items": null,
            "align_self": null,
            "border": null,
            "bottom": null,
            "display": null,
            "flex": null,
            "flex_flow": null,
            "grid_area": null,
            "grid_auto_columns": null,
            "grid_auto_flow": null,
            "grid_auto_rows": null,
            "grid_column": null,
            "grid_gap": null,
            "grid_row": null,
            "grid_template_areas": null,
            "grid_template_columns": null,
            "grid_template_rows": null,
            "height": null,
            "justify_content": null,
            "justify_items": null,
            "left": null,
            "margin": null,
            "max_height": null,
            "max_width": null,
            "min_height": null,
            "min_width": null,
            "object_fit": null,
            "object_position": null,
            "order": null,
            "overflow": null,
            "overflow_x": null,
            "overflow_y": null,
            "padding": null,
            "right": null,
            "top": null,
            "visibility": null,
            "width": null
          }
        },
        "c5345e80c3e844acbfc7ad8195be8d2c": {
          "model_module": "@jupyter-widgets/base",
          "model_name": "LayoutModel",
          "model_module_version": "1.2.0",
          "state": {
            "_model_module": "@jupyter-widgets/base",
            "_model_module_version": "1.2.0",
            "_model_name": "LayoutModel",
            "_view_count": null,
            "_view_module": "@jupyter-widgets/base",
            "_view_module_version": "1.2.0",
            "_view_name": "LayoutView",
            "align_content": null,
            "align_items": null,
            "align_self": null,
            "border": null,
            "bottom": null,
            "display": null,
            "flex": null,
            "flex_flow": null,
            "grid_area": null,
            "grid_auto_columns": null,
            "grid_auto_flow": null,
            "grid_auto_rows": null,
            "grid_column": null,
            "grid_gap": null,
            "grid_row": null,
            "grid_template_areas": null,
            "grid_template_columns": null,
            "grid_template_rows": null,
            "height": null,
            "justify_content": null,
            "justify_items": null,
            "left": null,
            "margin": null,
            "max_height": null,
            "max_width": null,
            "min_height": null,
            "min_width": null,
            "object_fit": null,
            "object_position": null,
            "order": null,
            "overflow": null,
            "overflow_x": null,
            "overflow_y": null,
            "padding": null,
            "right": null,
            "top": null,
            "visibility": null,
            "width": null
          }
        },
        "1ed830544de149ed9d1063e0291d9398": {
          "model_module": "@jupyter-widgets/controls",
          "model_name": "DescriptionStyleModel",
          "model_module_version": "1.5.0",
          "state": {
            "_model_module": "@jupyter-widgets/controls",
            "_model_module_version": "1.5.0",
            "_model_name": "DescriptionStyleModel",
            "_view_count": null,
            "_view_module": "@jupyter-widgets/base",
            "_view_module_version": "1.2.0",
            "_view_name": "StyleView",
            "description_width": ""
          }
        },
        "dd255df999fb49f191656e29e3b65ee6": {
          "model_module": "@jupyter-widgets/base",
          "model_name": "LayoutModel",
          "model_module_version": "1.2.0",
          "state": {
            "_model_module": "@jupyter-widgets/base",
            "_model_module_version": "1.2.0",
            "_model_name": "LayoutModel",
            "_view_count": null,
            "_view_module": "@jupyter-widgets/base",
            "_view_module_version": "1.2.0",
            "_view_name": "LayoutView",
            "align_content": null,
            "align_items": null,
            "align_self": null,
            "border": null,
            "bottom": null,
            "display": null,
            "flex": null,
            "flex_flow": null,
            "grid_area": null,
            "grid_auto_columns": null,
            "grid_auto_flow": null,
            "grid_auto_rows": null,
            "grid_column": null,
            "grid_gap": null,
            "grid_row": null,
            "grid_template_areas": null,
            "grid_template_columns": null,
            "grid_template_rows": null,
            "height": null,
            "justify_content": null,
            "justify_items": null,
            "left": null,
            "margin": null,
            "max_height": null,
            "max_width": null,
            "min_height": null,
            "min_width": null,
            "object_fit": null,
            "object_position": null,
            "order": null,
            "overflow": null,
            "overflow_x": null,
            "overflow_y": null,
            "padding": null,
            "right": null,
            "top": null,
            "visibility": null,
            "width": null
          }
        },
        "f648bd61f2b24bb6a1502c1008b3e037": {
          "model_module": "@jupyter-widgets/controls",
          "model_name": "ProgressStyleModel",
          "model_module_version": "1.5.0",
          "state": {
            "_model_module": "@jupyter-widgets/controls",
            "_model_module_version": "1.5.0",
            "_model_name": "ProgressStyleModel",
            "_view_count": null,
            "_view_module": "@jupyter-widgets/base",
            "_view_module_version": "1.2.0",
            "_view_name": "StyleView",
            "bar_color": null,
            "description_width": ""
          }
        },
        "129d863870e74f76b61d7ef5169e9b59": {
          "model_module": "@jupyter-widgets/base",
          "model_name": "LayoutModel",
          "model_module_version": "1.2.0",
          "state": {
            "_model_module": "@jupyter-widgets/base",
            "_model_module_version": "1.2.0",
            "_model_name": "LayoutModel",
            "_view_count": null,
            "_view_module": "@jupyter-widgets/base",
            "_view_module_version": "1.2.0",
            "_view_name": "LayoutView",
            "align_content": null,
            "align_items": null,
            "align_self": null,
            "border": null,
            "bottom": null,
            "display": null,
            "flex": null,
            "flex_flow": null,
            "grid_area": null,
            "grid_auto_columns": null,
            "grid_auto_flow": null,
            "grid_auto_rows": null,
            "grid_column": null,
            "grid_gap": null,
            "grid_row": null,
            "grid_template_areas": null,
            "grid_template_columns": null,
            "grid_template_rows": null,
            "height": null,
            "justify_content": null,
            "justify_items": null,
            "left": null,
            "margin": null,
            "max_height": null,
            "max_width": null,
            "min_height": null,
            "min_width": null,
            "object_fit": null,
            "object_position": null,
            "order": null,
            "overflow": null,
            "overflow_x": null,
            "overflow_y": null,
            "padding": null,
            "right": null,
            "top": null,
            "visibility": null,
            "width": null
          }
        },
        "4016c3adbd364f88a4b11f37b71ebdf5": {
          "model_module": "@jupyter-widgets/controls",
          "model_name": "DescriptionStyleModel",
          "model_module_version": "1.5.0",
          "state": {
            "_model_module": "@jupyter-widgets/controls",
            "_model_module_version": "1.5.0",
            "_model_name": "DescriptionStyleModel",
            "_view_count": null,
            "_view_module": "@jupyter-widgets/base",
            "_view_module_version": "1.2.0",
            "_view_name": "StyleView",
            "description_width": ""
          }
        },
        "95dc526b0d0046e88b2f44b13856c8e1": {
          "model_module": "@jupyter-widgets/controls",
          "model_name": "HBoxModel",
          "model_module_version": "1.5.0",
          "state": {
            "_dom_classes": [],
            "_model_module": "@jupyter-widgets/controls",
            "_model_module_version": "1.5.0",
            "_model_name": "HBoxModel",
            "_view_count": null,
            "_view_module": "@jupyter-widgets/controls",
            "_view_module_version": "1.5.0",
            "_view_name": "HBoxView",
            "box_style": "",
            "children": [
              "IPY_MODEL_1dfc8ce02a5c46e890d97ed897f828cd",
              "IPY_MODEL_91e90c6d1bad47b3956fdd3ae8dbd527",
              "IPY_MODEL_bfcd0b699169448fbfba36d6065ed2d4"
            ],
            "layout": "IPY_MODEL_bfacd9a5311447d89fb25697d6598597"
          }
        },
        "1dfc8ce02a5c46e890d97ed897f828cd": {
          "model_module": "@jupyter-widgets/controls",
          "model_name": "HTMLModel",
          "model_module_version": "1.5.0",
          "state": {
            "_dom_classes": [],
            "_model_module": "@jupyter-widgets/controls",
            "_model_module_version": "1.5.0",
            "_model_name": "HTMLModel",
            "_view_count": null,
            "_view_module": "@jupyter-widgets/controls",
            "_view_module_version": "1.5.0",
            "_view_name": "HTMLView",
            "description": "",
            "description_tooltip": null,
            "layout": "IPY_MODEL_a60e1089159e47099a554a58bfe4e8ba",
            "placeholder": "​",
            "style": "IPY_MODEL_3d7ca3bf57f9455198e385b45726a0a8",
            "value": "100%"
          }
        },
        "91e90c6d1bad47b3956fdd3ae8dbd527": {
          "model_module": "@jupyter-widgets/controls",
          "model_name": "FloatProgressModel",
          "model_module_version": "1.5.0",
          "state": {
            "_dom_classes": [],
            "_model_module": "@jupyter-widgets/controls",
            "_model_module_version": "1.5.0",
            "_model_name": "FloatProgressModel",
            "_view_count": null,
            "_view_module": "@jupyter-widgets/controls",
            "_view_module_version": "1.5.0",
            "_view_name": "ProgressView",
            "bar_style": "success",
            "description": "",
            "description_tooltip": null,
            "layout": "IPY_MODEL_693a26a5215e45199b31844e114adcb9",
            "max": 8,
            "min": 0,
            "orientation": "horizontal",
            "style": "IPY_MODEL_bc943f17b49243a5beac6ef55181874f",
            "value": 8
          }
        },
        "bfcd0b699169448fbfba36d6065ed2d4": {
          "model_module": "@jupyter-widgets/controls",
          "model_name": "HTMLModel",
          "model_module_version": "1.5.0",
          "state": {
            "_dom_classes": [],
            "_model_module": "@jupyter-widgets/controls",
            "_model_module_version": "1.5.0",
            "_model_name": "HTMLModel",
            "_view_count": null,
            "_view_module": "@jupyter-widgets/controls",
            "_view_module_version": "1.5.0",
            "_view_name": "HTMLView",
            "description": "",
            "description_tooltip": null,
            "layout": "IPY_MODEL_44f3c0fdbb6844bfb37d55c9eedd2a4b",
            "placeholder": "​",
            "style": "IPY_MODEL_2f0e9e46713f4f098e03ded0f852ff20",
            "value": " 8/8 [00:03&lt;00:00,  2.35ba/s]"
          }
        },
        "bfacd9a5311447d89fb25697d6598597": {
          "model_module": "@jupyter-widgets/base",
          "model_name": "LayoutModel",
          "model_module_version": "1.2.0",
          "state": {
            "_model_module": "@jupyter-widgets/base",
            "_model_module_version": "1.2.0",
            "_model_name": "LayoutModel",
            "_view_count": null,
            "_view_module": "@jupyter-widgets/base",
            "_view_module_version": "1.2.0",
            "_view_name": "LayoutView",
            "align_content": null,
            "align_items": null,
            "align_self": null,
            "border": null,
            "bottom": null,
            "display": null,
            "flex": null,
            "flex_flow": null,
            "grid_area": null,
            "grid_auto_columns": null,
            "grid_auto_flow": null,
            "grid_auto_rows": null,
            "grid_column": null,
            "grid_gap": null,
            "grid_row": null,
            "grid_template_areas": null,
            "grid_template_columns": null,
            "grid_template_rows": null,
            "height": null,
            "justify_content": null,
            "justify_items": null,
            "left": null,
            "margin": null,
            "max_height": null,
            "max_width": null,
            "min_height": null,
            "min_width": null,
            "object_fit": null,
            "object_position": null,
            "order": null,
            "overflow": null,
            "overflow_x": null,
            "overflow_y": null,
            "padding": null,
            "right": null,
            "top": null,
            "visibility": null,
            "width": null
          }
        },
        "a60e1089159e47099a554a58bfe4e8ba": {
          "model_module": "@jupyter-widgets/base",
          "model_name": "LayoutModel",
          "model_module_version": "1.2.0",
          "state": {
            "_model_module": "@jupyter-widgets/base",
            "_model_module_version": "1.2.0",
            "_model_name": "LayoutModel",
            "_view_count": null,
            "_view_module": "@jupyter-widgets/base",
            "_view_module_version": "1.2.0",
            "_view_name": "LayoutView",
            "align_content": null,
            "align_items": null,
            "align_self": null,
            "border": null,
            "bottom": null,
            "display": null,
            "flex": null,
            "flex_flow": null,
            "grid_area": null,
            "grid_auto_columns": null,
            "grid_auto_flow": null,
            "grid_auto_rows": null,
            "grid_column": null,
            "grid_gap": null,
            "grid_row": null,
            "grid_template_areas": null,
            "grid_template_columns": null,
            "grid_template_rows": null,
            "height": null,
            "justify_content": null,
            "justify_items": null,
            "left": null,
            "margin": null,
            "max_height": null,
            "max_width": null,
            "min_height": null,
            "min_width": null,
            "object_fit": null,
            "object_position": null,
            "order": null,
            "overflow": null,
            "overflow_x": null,
            "overflow_y": null,
            "padding": null,
            "right": null,
            "top": null,
            "visibility": null,
            "width": null
          }
        },
        "3d7ca3bf57f9455198e385b45726a0a8": {
          "model_module": "@jupyter-widgets/controls",
          "model_name": "DescriptionStyleModel",
          "model_module_version": "1.5.0",
          "state": {
            "_model_module": "@jupyter-widgets/controls",
            "_model_module_version": "1.5.0",
            "_model_name": "DescriptionStyleModel",
            "_view_count": null,
            "_view_module": "@jupyter-widgets/base",
            "_view_module_version": "1.2.0",
            "_view_name": "StyleView",
            "description_width": ""
          }
        },
        "693a26a5215e45199b31844e114adcb9": {
          "model_module": "@jupyter-widgets/base",
          "model_name": "LayoutModel",
          "model_module_version": "1.2.0",
          "state": {
            "_model_module": "@jupyter-widgets/base",
            "_model_module_version": "1.2.0",
            "_model_name": "LayoutModel",
            "_view_count": null,
            "_view_module": "@jupyter-widgets/base",
            "_view_module_version": "1.2.0",
            "_view_name": "LayoutView",
            "align_content": null,
            "align_items": null,
            "align_self": null,
            "border": null,
            "bottom": null,
            "display": null,
            "flex": null,
            "flex_flow": null,
            "grid_area": null,
            "grid_auto_columns": null,
            "grid_auto_flow": null,
            "grid_auto_rows": null,
            "grid_column": null,
            "grid_gap": null,
            "grid_row": null,
            "grid_template_areas": null,
            "grid_template_columns": null,
            "grid_template_rows": null,
            "height": null,
            "justify_content": null,
            "justify_items": null,
            "left": null,
            "margin": null,
            "max_height": null,
            "max_width": null,
            "min_height": null,
            "min_width": null,
            "object_fit": null,
            "object_position": null,
            "order": null,
            "overflow": null,
            "overflow_x": null,
            "overflow_y": null,
            "padding": null,
            "right": null,
            "top": null,
            "visibility": null,
            "width": null
          }
        },
        "bc943f17b49243a5beac6ef55181874f": {
          "model_module": "@jupyter-widgets/controls",
          "model_name": "ProgressStyleModel",
          "model_module_version": "1.5.0",
          "state": {
            "_model_module": "@jupyter-widgets/controls",
            "_model_module_version": "1.5.0",
            "_model_name": "ProgressStyleModel",
            "_view_count": null,
            "_view_module": "@jupyter-widgets/base",
            "_view_module_version": "1.2.0",
            "_view_name": "StyleView",
            "bar_color": null,
            "description_width": ""
          }
        },
        "44f3c0fdbb6844bfb37d55c9eedd2a4b": {
          "model_module": "@jupyter-widgets/base",
          "model_name": "LayoutModel",
          "model_module_version": "1.2.0",
          "state": {
            "_model_module": "@jupyter-widgets/base",
            "_model_module_version": "1.2.0",
            "_model_name": "LayoutModel",
            "_view_count": null,
            "_view_module": "@jupyter-widgets/base",
            "_view_module_version": "1.2.0",
            "_view_name": "LayoutView",
            "align_content": null,
            "align_items": null,
            "align_self": null,
            "border": null,
            "bottom": null,
            "display": null,
            "flex": null,
            "flex_flow": null,
            "grid_area": null,
            "grid_auto_columns": null,
            "grid_auto_flow": null,
            "grid_auto_rows": null,
            "grid_column": null,
            "grid_gap": null,
            "grid_row": null,
            "grid_template_areas": null,
            "grid_template_columns": null,
            "grid_template_rows": null,
            "height": null,
            "justify_content": null,
            "justify_items": null,
            "left": null,
            "margin": null,
            "max_height": null,
            "max_width": null,
            "min_height": null,
            "min_width": null,
            "object_fit": null,
            "object_position": null,
            "order": null,
            "overflow": null,
            "overflow_x": null,
            "overflow_y": null,
            "padding": null,
            "right": null,
            "top": null,
            "visibility": null,
            "width": null
          }
        },
        "2f0e9e46713f4f098e03ded0f852ff20": {
          "model_module": "@jupyter-widgets/controls",
          "model_name": "DescriptionStyleModel",
          "model_module_version": "1.5.0",
          "state": {
            "_model_module": "@jupyter-widgets/controls",
            "_model_module_version": "1.5.0",
            "_model_name": "DescriptionStyleModel",
            "_view_count": null,
            "_view_module": "@jupyter-widgets/base",
            "_view_module_version": "1.2.0",
            "_view_name": "StyleView",
            "description_width": ""
          }
        }
      }
    },
    "gpuClass": "standard"
  },
>>>>>>> a76d92057b5710c067b61e5ca39fd4fac666fb48
  "cells": [
    {
      "cell_type": "code",
      "execution_count": 1,
      "metadata": {
        "colab": {
          "base_uri": "https://localhost:8080/"
        },
        "id": "h460sHoQYjST",
        "outputId": "8d393b81-6f61-4116-8f02-abf3295bc7ce"
      },
      "outputs": [
        {
          "name": "stdout",
          "output_type": "stream",
          "text": [
            "Mon Aug  1 12:40:37 2022       \n",
            "+-----------------------------------------------------------------------------+\n",
            "| NVIDIA-SMI 460.32.03    Driver Version: 460.32.03    CUDA Version: 11.2     |\n",
            "|-------------------------------+----------------------+----------------------+\n",
            "| GPU  Name        Persistence-M| Bus-Id        Disp.A | Volatile Uncorr. ECC |\n",
            "| Fan  Temp  Perf  Pwr:Usage/Cap|         Memory-Usage | GPU-Util  Compute M. |\n",
            "|                               |                      |               MIG M. |\n",
            "|===============================+======================+======================|\n",
            "|   0  Tesla T4            Off  | 00000000:00:04.0 Off |                    0 |\n",
            "| N/A   65C    P8    11W /  70W |      0MiB / 15109MiB |      0%      Default |\n",
            "|                               |                      |                  N/A |\n",
            "+-------------------------------+----------------------+----------------------+\n",
            "                                                                               \n",
            "+-----------------------------------------------------------------------------+\n",
            "| Processes:                                                                  |\n",
            "|  GPU   GI   CI        PID   Type   Process name                  GPU Memory |\n",
            "|        ID   ID                                                   Usage      |\n",
            "|=============================================================================|\n",
            "|  No running processes found                                                 |\n",
            "+-----------------------------------------------------------------------------+\n"
          ]
        }
      ],
      "source": [
        "!nvidia-smi"
      ]
    },
    {
      "cell_type": "code",
      "execution_count": 2,
      "metadata": {
        "colab": {
          "base_uri": "https://localhost:8080/"
        },
        "id": "wq3l2TU4Yjwg",
        "outputId": "9c00c10e-805a-4b7c-9da4-ac24343b4cd0"
      },
      "outputs": [
        {
          "name": "stdout",
          "output_type": "stream",
          "text": [
            "Drive already mounted at /content/gdrive; to attempt to forcibly remount, call drive.mount(\"/content/gdrive\", force_remount=True).\n"
          ]
        }
      ],
      "source": [
        "from google.colab import drive\n",
        "drive.mount('/content/gdrive')"
      ]
    },
    {
      "cell_type": "code",
<<<<<<< HEAD
      "execution_count": 3,
=======
      "source": [
        "%pip install -q transformers[sentencepiece] datasets hydra-core wandb iterative-stratification scikit-multilearn bitsandbytes-cuda112"
      ],
>>>>>>> a76d92057b5710c067b61e5ca39fd4fac666fb48
      "metadata": {
        "id": "RWjqiyXRrQjr"
      },
      "outputs": [],
      "source": [
        "%pip install -q transformers[sentencepiece] datasets hydra-core wandb"
      ]
    },
    {
      "cell_type": "code",
      "execution_count": 4,
      "metadata": {
        "id": "gsMLUCFwS_Co"
      },
      "outputs": [],
      "source": [
        "def add_sys_paths(ml_utils_root):\n",
        "    # os.walk will give a list of all sub directories with a given directory. It return a tuple of 3 elements with first element\n",
        "    # being the subdir path\n",
        "    for sub_dir, _, _ in os.walk(ml_utils_root):\n",
        "        # check if there is a file in the sub directory\n",
        "        # If yes, append the directory path to sys.path as we need the code in the file\n",
        "        sub_dir_files = [file for file in os.listdir(sub_dir) if os.path.isfile(os.path.join(sub_dir, file))]    \n",
        "        if len(sub_dir_files) > 0:\n",
        "            print(sub_dir)\n",
        "            sys.path.append(sub_dir)"
      ],
      "metadata": {
        "id": "C6hZMrn47G53"
      },
      "execution_count": 4,
      "outputs": []
    },
    {
      "cell_type": "code",
      "source": [
        "import sys\n",
        "import os\n",
        "\n",
        "COLAB_ROOT_PATH = \"/content/gdrive/MyDrive/Kaggle/NLP/PatentPhraseMatching/\"\n",
        "ml_utils_root = '/content/gdrive/MyDrive/Kaggle/NLP/PatentPhraseMatching/src/ML_UTILS/'\n",
        "add_sys_paths(ml_utils_root)\n",
        "os.chdir(COLAB_ROOT_PATH)"
<<<<<<< HEAD
=======
      ],
      "metadata": {
        "colab": {
          "base_uri": "https://localhost:8080/"
        },
        "id": "fCBNGm9W5fPT",
        "outputId": "d91b1340-bd6b-40b7-b8bd-bb35534dc998"
      },
      "execution_count": 5,
      "outputs": [
        {
          "output_type": "stream",
          "name": "stdout",
          "text": [
            "/content/gdrive/MyDrive/Kaggle/NLP/PatentPhraseMatching/src/ML_UTILS/\n",
            "/content/gdrive/MyDrive/Kaggle/NLP/PatentPhraseMatching/src/ML_UTILS/NLP/HuggingFace\n",
            "/content/gdrive/MyDrive/Kaggle/NLP/PatentPhraseMatching/src/ML_UTILS/NLP/HuggingFace/Models/Deberta\n",
            "/content/gdrive/MyDrive/Kaggle/NLP/PatentPhraseMatching/src/ML_UTILS/NLP/HuggingFace/Models/Deberta/__pycache__\n",
            "/content/gdrive/MyDrive/Kaggle/NLP/PatentPhraseMatching/src/ML_UTILS/NLP/HuggingFace/__pycache__\n",
            "/content/gdrive/MyDrive/Kaggle/NLP/PatentPhraseMatching/src/ML_UTILS/__pycache__\n"
          ]
        }
>>>>>>> a76d92057b5710c067b61e5ca39fd4fac666fb48
      ]
    },
    {
      "cell_type": "code",
      "execution_count": 29,
      "metadata": {
        "id": "4ByEXnliUeIU"
      },
      "outputs": [],
      "source": [
        "# Load the config for training run\n",
        "import hydra\n",
        "from hydra import initialize, initialize_config_module, initialize_config_dir, compose\n",
        "from omegaconf import DictConfig, OmegaConf\n",
        "\n",
        "hydra.core.global_hydra.GlobalHydra.instance().clear()\n",
        "initialize(version_base=None, config_path=\"configs\")\n",
        "config = compose(config_name=\"config\")"
<<<<<<< HEAD
      ]
=======
      ],
      "metadata": {
        "id": "4ByEXnliUeIU"
      },
      "execution_count": 6,
      "outputs": []
>>>>>>> a76d92057b5710c067b61e5ca39fd4fac666fb48
    },
    {
      "cell_type": "code",
      "source": [
        "import loss_functions\n",
        "import colab_utils\n",
        "import cv_split_utils\n",
        "import helper\n",
        "import hf_utils\n",
        "from loss_functions import LossType"
      ],
      "metadata": {
        "id": "Gd1kmoca1GtE"
      },
      "execution_count": 7,
      "outputs": []
    },
    {
      "cell_type": "code",
      "execution_count": 8,
      "metadata": {
        "id": "UvSgv0xcWgWu"
      },
      "outputs": [],
      "source": [
        "import numpy as np\n",
        "import pandas as pd\n",
        "import torch\n",
        "from sklearn.model_selection import StratifiedKFold\n",
        "from datasets import Dataset\n",
        "from torch.utils.data import DataLoader\n",
        "import transformers\n",
        "from transformers import AutoModelForSequenceClassification\n",
        "from transformers import TrainingArguments, Trainer\n",
        "import torch.multiprocessing as mp\n",
        "from transformers import logging\n",
        "import warnings\n",
        "import wandb\n",
        "\n",
        "logging.set_verbosity_error()\n",
        "logging.set_verbosity_warning()\n",
        "warnings.filterwarnings('ignore')\n",
        "os.environ[\"TOKENIZERS_PARALLELISM\"] = \"false\"\n",
        "DEVICE = torch.device('cuda' if torch.cuda.is_available() else 'cpu')"
      ]
    },
    {
      "cell_type": "code",
      "execution_count": 31,
      "metadata": {
        "colab": {
          "base_uri": "https://localhost:8080/"
        },
        "id": "a4ejkw2GZCDC",
        "outputId": "a5ba93ed-5330-4440-fae9-40e9c95a24a3"
      },
      "outputs": [
        {
          "name": "stdout",
          "output_type": "stream",
          "text": [
            "config.paths.out_dir = /content/gdrive/MyDrive/Kaggle/NLP/PatentPhraseMatching/model/deberta-v3-small\n",
            "config.train_run.transformer_checkpoint = microsoft/deberta-v3-small\n",
            "config.train_run.num_workers = 2\n",
            "config.train_run.experiment_name = 00_deberta-v3-small_baseline\n"
          ]
        }
      ],
      "source": [
        "# This is where we configure the run parameters\n",
        "EXP_NUM = \"03\"\n",
        "MODEL_NAME = \"deberta-v3-small\"\n",
        "TRAIN_RUN_NAME = \"mseloss_concatlastfourhead\"\n",
        "TRANSFORMER_CHECKPOINT = \"microsoft/deberta-v3-small\"\n",
        "EXPERIMENT_NAME = EXP_NUM + \"_\" + MODEL_NAME + \"_\" + TRAIN_RUN_NAME\n",
        "TRAIN_ON_SUBSET = False\n",
        "LOSS_TYPE = LossType.MSE\n",
        "ENABLE_WANDB = True\n",
        "OUTPUT_HIDDEN_STATES = True"
      ],
      "metadata": {
        "id": "LCwuVebu4iEx"
      },
      "execution_count": 9,
      "outputs": []
    },
    {
      "cell_type": "code",
      "source": [
        "# update the config with run params\n",
        "# update the output_dir to model specific directory\n",
        "config.paths.out_dir += MODEL_NAME + \"_\" + TRAIN_RUN_NAME\n",
        "config.train_run.transformer_checkpoint = TRANSFORMER_CHECKPOINT\n",
        "config.train_run.num_workers = mp.cpu_count()\n",
        "config.train_run.experiment_name = EXPERIMENT_NAME\n",
        "config.train_run.train_on_subset = TRAIN_ON_SUBSET\n",
        "config.train_run.loss_type = LOSS_TYPE\n",
        "config.train_run.output_hidden_states = OUTPUT_HIDDEN_STATES\n",
        "config.wandb.enabled = ENABLE_WANDB\n",
        "if config.wandb.enabled:\n",
        "    # enable reporting to wandb via huggingface training arguments\n",
        "    config.training_args.report_to = \"wandb\"\n",
<<<<<<< HEAD
        "    config.wandb.key = \"\"    "
      ]
=======
        "    config.wandb.key = \"\"    \n",
        "else:\n",
        "    config.training_args.report_to = \"none\""
      ],
      "metadata": {
        "id": "a4ejkw2GZCDC"
      },
      "execution_count": 10,
      "outputs": []
>>>>>>> a76d92057b5710c067b61e5ca39fd4fac666fb48
    },
    {
      "cell_type": "code",
      "execution_count": 32,
      "metadata": {
        "colab": {
          "base_uri": "https://localhost:8080/"
        },
        "id": "F0vaq7KLt0u_",
        "outputId": "042eede7-74bf-47bf-a2e4-15c42e4bfdae"
      },
<<<<<<< HEAD
=======
      "execution_count": 11,
>>>>>>> a76d92057b5710c067b61e5ca39fd4fac666fb48
      "outputs": [
        {
          "name": "stdout",
          "output_type": "stream",
          "text": [
            "train_run:\n",
            "  random_state: 42\n",
            "  num_labels: 1\n",
            "  label_col: score\n",
            "  num_folds: 5\n",
            "  run_all_folds: false\n",
            "  num_epochs: 2\n",
            "  num_workers: 2\n",
            "  device: cuda\n",
            "  subset_rows_frac: 0.05\n",
            "  train_on_subset: false\n",
            "  transformer_checkpoint: microsoft/deberta-v3-small\n",
            "  experiment_name: 03_deberta-v3-small_mseloss_concatlastfourhead\n",
            "  save_artifacts: true\n",
            "  loss_type: mse\n",
            "  output_hidden_states: true\n",
            "wandb:\n",
            "  key: ''\n",
            "  project: USPPPM\n",
            "  enabled: true\n",
            "training_args:\n",
            "  output_dir: None\n",
            "  evaluation_strategy: epoch\n",
            "  save_strategy: epoch\n",
            "  save_total_limit: 1\n",
            "  load_best_model_at_end: true\n",
            "  metric_for_best_model: pearson\n",
            "  greater_is_better: true\n",
            "  log_level: warning\n",
            "  group_by_length: true\n",
            "  report_to: wandb\n",
            "  num_train_epochs: 1\n",
            "  per_device_train_batch_size: 32\n",
            "  per_device_eval_batch_size: 32\n",
            "  weight_decay: 0.01\n",
            "  learning_rate: 4.0e-05\n",
            "  warmup_ratio: 0.1\n",
            "  gradient_accumulation_steps: 1\n",
            "  fp16: true\n",
            "  lr_scheduler_type: linear\n",
            "  adam_epsilon: 1.0e-06\n",
            "  eval_accumulation_steps: 1\n",
            "paths:\n",
            "  data_path: /content/gdrive/MyDrive/Kaggle/NLP/PatentPhraseMatching/data/\n",
            "  val_preds_path: /content/gdrive/MyDrive/Kaggle/NLP/PatentPhraseMatching/preds/\n",
            "  out_dir: /content/gdrive/MyDrive/Kaggle/NLP/PatentPhraseMatching/model/deberta-v3-small_mseloss_concatlastfourhead\n",
            "  run_artifacts_dir: ''\n",
            "\n"
          ]
        }
      ],
      "source": [
        "print(OmegaConf.to_yaml(config))"
      ]
    },
    {
      "cell_type": "code",
      "execution_count": 33,
      "metadata": {
        "colab": {
          "base_uri": "https://localhost:8080/"
        },
        "id": "ZaIGLPZnaH3_",
        "outputId": "94527845-d698-4df4-a5c5-15cda3a802ee"
      },
<<<<<<< HEAD
=======
      "execution_count": 12,
>>>>>>> a76d92057b5710c067b61e5ca39fd4fac666fb48
      "outputs": [
        {
          "name": "stdout",
          "output_type": "stream",
          "text": [
            "The below files were cleared from trash\n",
            "['rng_state.pth', 'trainer_state.json', 'scaler.pt', 'scheduler.pt', 'optimizer.pt', 'training_args.bin', 'tokenizer.json', 'spm.model', 'added_tokens.json', 'special_tokens_map.json', 'tokenizer_config.json', 'pytorch_model.bin', 'config.json', 'checkpoint-47']\n"
          ]
        }
      ],
      "source": [
        "colab_utils.empty_gdrive_trash()"
      ]
    },
    {
      "cell_type": "code",
      "execution_count": 34,
      "metadata": {
        "id": "fZaQBGmpvYyY"
      },
      "outputs": [],
      "source": [
        "def initialize_wandb(fold):    \n",
        "    wandb.login(key=config.wandb.key)\n",
        "    wandb.init(\n",
        "        config=config,\n",
        "        project=config.wandb.project,\n",
        "        group=config.train_run.experiment_name,\n",
        "        name=f\"fold_{fold}\"\n",
        "    )        "
<<<<<<< HEAD
      ]
=======
      ],
      "metadata": {
        "id": "fZaQBGmpvYyY"
      },
      "execution_count": 13,
      "outputs": []
>>>>>>> a76d92057b5710c067b61e5ca39fd4fac666fb48
    },
    {
      "cell_type": "code",
      "execution_count": 35,
      "metadata": {
        "id": "vJxWPSZuY5vC"
      },
      "outputs": [],
      "source": [
        "df_train = pd.read_csv(config.paths.data_path + \"train.csv\")\n",
        "df_train[\"section\"] = df_train.context.str[0]\n",
        "df_test = pd.read_csv(config.paths.data_path + \"test.csv\")\n",
        "df_titles = pd.read_csv(config.paths.data_path + \"titles.csv\")"
<<<<<<< HEAD
      ]
=======
      ],
      "metadata": {
        "id": "vJxWPSZuY5vC"
      },
      "execution_count": 14,
      "outputs": []
>>>>>>> a76d92057b5710c067b61e5ca39fd4fac666fb48
    },
    {
      "cell_type": "code",
      "execution_count": 36,
      "metadata": {
        "id": "9UhTGFDT2i_O"
      },
      "outputs": [],
      "source": [
        "from sklearn.preprocessing import LabelEncoder\n",
        "\n",
        "anchor_encoder = LabelEncoder()\n",
        "df_train[\"anchor_map\"] = anchor_encoder.fit_transform(df_train[\"anchor\"])\n",
        "df_train[\"context_map\"] = anchor_encoder.fit_transform(df_train[\"context\"])\n",
        "df_train[\"anchor_context_map\"] = df_train[\"anchor_map\"].astype(str).str.cat(df_train[\"context_map\"].astype(str), sep=\"_\")\n",
        "# Score is not really a continuous value here as there are just five distinct values. But since it is float it needs to be converted\n",
        "# to categorical value before we can perform stratified split on score\n",
<<<<<<< HEAD
        "df_train[\"score_map\"] = df_train[\"score\"].map({0.00: 0, 0.25: 1, 0.50: 2, 0.75: 3, 1.00: 4})"
      ]
=======
        "df_train[\"score_map\"] = df_train[\"score\"].map({0.00: 0, 0.25: 1, 0.50: 2, 0.75: 3, 1.00: 4})\n",
        "df_train[\"score_binary_map\"] = df_train[\"score\"].map({0.00: 0, 0.25: 0, 0.50: 1, 0.75: 1, 1.00: 1})"
      ],
      "metadata": {
        "id": "9UhTGFDT2i_O"
      },
      "execution_count": 15,
      "outputs": []
>>>>>>> a76d92057b5710c067b61e5ca39fd4fac666fb48
    },
    {
      "cell_type": "code",
      "execution_count": 37,
      "metadata": {
        "id": "e5dwA39eQET9"
      },
      "outputs": [],
      "source": [
        "if config.train_run.train_on_subset:\n",
        "    print(f\"Selecting {config.train_run.subset_rows_frac * 100}% training data\")\n",
        "    df_train = df_train.sample(\n",
        "        frac=config.train_run.subset_rows_frac, \n",
        "        random_state=config.train_run.random_state\n",
        "    ).reset_index(drop=True)\n",
        "\n",
        "# Since the target column (score) is continuous, we need to create bins out of the target column\n",
        "# df_train.loc[:, \"bins\"] = pd.cut(df_train.score, bins=5, labels=[0,1,2,3,4])\n",
        "# df_train = utils.strat_kfold_dataframe(df_train, target_col_name=\"bins\", random_state=config.train_run.random_state, num_folds=Config.NUM_FOLDS)\n",
        "\n",
        "# Now do a stratified group k fold on the bins column (which is a categorical column) and anchor as groups\n",
        "df_train = cv_split_utils.strat_group_kfold_dataframe(\n",
        "    df_train, \n",
        "    target_col_name=\"score_map\", \n",
        "    group_col_name=\"anchor_context_map\",\n",
        "    random_state=config.train_run.random_state, \n",
        "    num_folds=config.train_run.num_folds\n",
        ")            \n",
        "# drop the bin column\n",
        "# df_train = df_train.drop([\"bins\"], axis=1)\n",
        "# df_train = df_train.drop([\"anchor_map\", \"score_map\"], axis=1)"
<<<<<<< HEAD
      ]
=======
      ],
      "metadata": {
        "id": "e5dwA39eQET9"
      },
      "execution_count": 16,
      "outputs": []
>>>>>>> a76d92057b5710c067b61e5ca39fd4fac666fb48
    },
    {
      "cell_type": "code",
      "execution_count": 38,
      "metadata": {
        "colab": {
          "base_uri": "https://localhost:8080/"
        },
        "id": "-aAbRqQKha7u",
        "outputId": "99160a1a-1a30-4189-f1d0-0b15182f9b09"
      },
<<<<<<< HEAD
=======
      "execution_count": 17,
>>>>>>> a76d92057b5710c067b61e5ca39fd4fac666fb48
      "outputs": [
        {
          "data": {
            "text/plain": [
              "[0.3557356434260165,\n",
              " 0.35813229056203605,\n",
              " 0.36268028846153844,\n",
              " 0.36315899290582837,\n",
              " 0.37085976039464413]"
            ]
          },
          "execution_count": 38,
          "metadata": {},
<<<<<<< HEAD
          "output_type": "execute_result"
=======
          "execution_count": 17
>>>>>>> a76d92057b5710c067b61e5ca39fd4fac666fb48
        }
      ],
      "source": [
        "# Let us check if the stratification has been done correctly\n",
        "# The mean of score column should be similar across folds \n",
        "fold_score_mean = []\n",
        "fold_anchor_context_maps = []\n",
        "for fold in range(config.train_run.num_folds):\n",
        "    df_train_fold = df_train[df_train.kfold == fold]\n",
        "    fold_score_mean.append(np.mean(df_train_fold.score.values))\n",
        "    fold_anchor_context_maps.append(set(df_train_fold.anchor_context_map.unique()))\n",
        "fold_score_mean"
      ]
    },
    {
      "cell_type": "code",
      "execution_count": 39,
      "metadata": {
        "colab": {
          "base_uri": "https://localhost:8080/"
        },
<<<<<<< HEAD
        "id": "2X_BRoQaZH4P",
        "outputId": "351e868e-1c70-46f9-df05-a69707db0184"
      },
=======
        "outputId": "24ebd5e9-2c55-407a-8588-de002ad78d9d"
      },
      "execution_count": 18,
>>>>>>> a76d92057b5710c067b61e5ca39fd4fac666fb48
      "outputs": [
        {
          "name": "stdout",
          "output_type": "stream",
          "text": [
            "anchor context map for fold 0 and 1 are disjoint\n",
            "anchor context map for fold 0 and 2 are disjoint\n",
            "anchor context map for fold 0 and 3 are disjoint\n",
            "anchor context map for fold 0 and 4 are disjoint\n",
            "anchor context map for fold 1 and 2 are disjoint\n",
            "anchor context map for fold 1 and 3 are disjoint\n",
            "anchor context map for fold 1 and 4 are disjoint\n",
            "anchor context map for fold 2 and 3 are disjoint\n",
            "anchor context map for fold 2 and 4 are disjoint\n",
            "anchor context map for fold 3 and 4 are disjoint\n"
          ]
        }
      ],
      "source": [
        "# check each of the folds has no common anchor value\n",
        "def check_disjoint(start, fold_anchor_context_maps):\n",
        "    for i in range(start, 4):\n",
        "        for j in range(i+1, 5):\n",
        "            if fold_anchor_context_maps[i].isdisjoint(fold_anchor_context_maps[j]):\n",
        "                print(f\"anchor context map for fold {i} and {j} are disjoint\")\n",
        "\n",
        "check_disjoint(0, fold_anchor_context_maps)                "
      ]
    },
    {
      "cell_type": "code",
      "execution_count": 40,
      "metadata": {
        "colab": {
          "base_uri": "https://localhost:8080/",
          "height": 206
        },
        "id": "Nu9yrrW33CGl",
        "outputId": "39031aa0-3885-4072-dba1-1e84131b10a2"
      },
<<<<<<< HEAD
=======
      "execution_count": 19,
>>>>>>> a76d92057b5710c067b61e5ca39fd4fac666fb48
      "outputs": [
        {
          "data": {
            "text/html": [
              "\n",
              "  <div id=\"df-5c4608cc-3194-473b-80fd-29c6c14b2a25\">\n",
              "    <div class=\"colab-df-container\">\n",
              "      <div>\n",
              "<style scoped>\n",
              "    .dataframe tbody tr th:only-of-type {\n",
              "        vertical-align: middle;\n",
              "    }\n",
              "\n",
              "    .dataframe tbody tr th {\n",
              "        vertical-align: top;\n",
              "    }\n",
              "\n",
              "    .dataframe thead th {\n",
              "        text-align: right;\n",
              "    }\n",
              "</style>\n",
              "<table border=\"1\" class=\"dataframe\">\n",
              "  <thead>\n",
              "    <tr style=\"text-align: right;\">\n",
              "      <th></th>\n",
              "      <th>code</th>\n",
              "      <th>title</th>\n",
              "      <th>section</th>\n",
              "      <th>class</th>\n",
              "      <th>subclass</th>\n",
              "      <th>group</th>\n",
              "      <th>main_group</th>\n",
              "    </tr>\n",
              "  </thead>\n",
              "  <tbody>\n",
              "    <tr>\n",
              "      <th>0</th>\n",
              "      <td>A</td>\n",
              "      <td>HUMAN NECESSITIES</td>\n",
              "      <td>A</td>\n",
              "      <td>NaN</td>\n",
              "      <td>NaN</td>\n",
              "      <td>NaN</td>\n",
              "      <td>NaN</td>\n",
              "    </tr>\n",
              "    <tr>\n",
              "      <th>1</th>\n",
              "      <td>A01</td>\n",
              "      <td>AGRICULTURE; FORESTRY; ANIMAL HUSBANDRY; HUNTI...</td>\n",
              "      <td>A</td>\n",
              "      <td>1.0</td>\n",
              "      <td>NaN</td>\n",
              "      <td>NaN</td>\n",
              "      <td>NaN</td>\n",
              "    </tr>\n",
              "    <tr>\n",
              "      <th>2</th>\n",
              "      <td>A01B</td>\n",
              "      <td>SOIL WORKING IN AGRICULTURE OR FORESTRY; PARTS...</td>\n",
              "      <td>A</td>\n",
              "      <td>1.0</td>\n",
              "      <td>B</td>\n",
              "      <td>NaN</td>\n",
              "      <td>NaN</td>\n",
              "    </tr>\n",
              "    <tr>\n",
              "      <th>3</th>\n",
              "      <td>A01B1/00</td>\n",
              "      <td>Hand tools (edge trimmers for lawns A01G3/06  ...</td>\n",
              "      <td>A</td>\n",
              "      <td>1.0</td>\n",
              "      <td>B</td>\n",
              "      <td>1.0</td>\n",
              "      <td>0.0</td>\n",
              "    </tr>\n",
              "    <tr>\n",
              "      <th>4</th>\n",
              "      <td>A01B1/02</td>\n",
              "      <td>Spades; Shovels {(hand-operated dredgers E02F3...</td>\n",
              "      <td>A</td>\n",
              "      <td>1.0</td>\n",
              "      <td>B</td>\n",
              "      <td>1.0</td>\n",
              "      <td>2.0</td>\n",
              "    </tr>\n",
              "  </tbody>\n",
              "</table>\n",
              "</div>\n",
              "      <button class=\"colab-df-convert\" onclick=\"convertToInteractive('df-5c4608cc-3194-473b-80fd-29c6c14b2a25')\"\n",
              "              title=\"Convert this dataframe to an interactive table.\"\n",
              "              style=\"display:none;\">\n",
              "        \n",
              "  <svg xmlns=\"http://www.w3.org/2000/svg\" height=\"24px\"viewBox=\"0 0 24 24\"\n",
              "       width=\"24px\">\n",
              "    <path d=\"M0 0h24v24H0V0z\" fill=\"none\"/>\n",
              "    <path d=\"M18.56 5.44l.94 2.06.94-2.06 2.06-.94-2.06-.94-.94-2.06-.94 2.06-2.06.94zm-11 1L8.5 8.5l.94-2.06 2.06-.94-2.06-.94L8.5 2.5l-.94 2.06-2.06.94zm10 10l.94 2.06.94-2.06 2.06-.94-2.06-.94-.94-2.06-.94 2.06-2.06.94z\"/><path d=\"M17.41 7.96l-1.37-1.37c-.4-.4-.92-.59-1.43-.59-.52 0-1.04.2-1.43.59L10.3 9.45l-7.72 7.72c-.78.78-.78 2.05 0 2.83L4 21.41c.39.39.9.59 1.41.59.51 0 1.02-.2 1.41-.59l7.78-7.78 2.81-2.81c.8-.78.8-2.07 0-2.86zM5.41 20L4 18.59l7.72-7.72 1.47 1.35L5.41 20z\"/>\n",
              "  </svg>\n",
              "      </button>\n",
              "      \n",
              "  <style>\n",
              "    .colab-df-container {\n",
              "      display:flex;\n",
              "      flex-wrap:wrap;\n",
              "      gap: 12px;\n",
              "    }\n",
              "\n",
              "    .colab-df-convert {\n",
              "      background-color: #E8F0FE;\n",
              "      border: none;\n",
              "      border-radius: 50%;\n",
              "      cursor: pointer;\n",
              "      display: none;\n",
              "      fill: #1967D2;\n",
              "      height: 32px;\n",
              "      padding: 0 0 0 0;\n",
              "      width: 32px;\n",
              "    }\n",
              "\n",
              "    .colab-df-convert:hover {\n",
              "      background-color: #E2EBFA;\n",
              "      box-shadow: 0px 1px 2px rgba(60, 64, 67, 0.3), 0px 1px 3px 1px rgba(60, 64, 67, 0.15);\n",
              "      fill: #174EA6;\n",
              "    }\n",
              "\n",
              "    [theme=dark] .colab-df-convert {\n",
              "      background-color: #3B4455;\n",
              "      fill: #D2E3FC;\n",
              "    }\n",
              "\n",
              "    [theme=dark] .colab-df-convert:hover {\n",
              "      background-color: #434B5C;\n",
              "      box-shadow: 0px 1px 3px 1px rgba(0, 0, 0, 0.15);\n",
              "      filter: drop-shadow(0px 1px 2px rgba(0, 0, 0, 0.3));\n",
              "      fill: #FFFFFF;\n",
              "    }\n",
              "  </style>\n",
              "\n",
              "      <script>\n",
              "        const buttonEl =\n",
              "          document.querySelector('#df-5c4608cc-3194-473b-80fd-29c6c14b2a25 button.colab-df-convert');\n",
              "        buttonEl.style.display =\n",
              "          google.colab.kernel.accessAllowed ? 'block' : 'none';\n",
              "\n",
              "        async function convertToInteractive(key) {\n",
              "          const element = document.querySelector('#df-5c4608cc-3194-473b-80fd-29c6c14b2a25');\n",
              "          const dataTable =\n",
              "            await google.colab.kernel.invokeFunction('convertToInteractive',\n",
              "                                                     [key], {});\n",
              "          if (!dataTable) return;\n",
              "\n",
              "          const docLinkHtml = 'Like what you see? Visit the ' +\n",
              "            '<a target=\"_blank\" href=https://colab.research.google.com/notebooks/data_table.ipynb>data table notebook</a>'\n",
              "            + ' to learn more about interactive tables.';\n",
              "          element.innerHTML = '';\n",
              "          dataTable['output_type'] = 'display_data';\n",
              "          await google.colab.output.renderOutput(dataTable, element);\n",
              "          const docLink = document.createElement('div');\n",
              "          docLink.innerHTML = docLinkHtml;\n",
              "          element.appendChild(docLink);\n",
              "        }\n",
              "      </script>\n",
              "    </div>\n",
              "  </div>\n",
              "  "
            ],
            "text/plain": [
              "       code                                              title section  class  \\\n",
              "0         A                                  HUMAN NECESSITIES       A    NaN   \n",
              "1       A01  AGRICULTURE; FORESTRY; ANIMAL HUSBANDRY; HUNTI...       A    1.0   \n",
              "2      A01B  SOIL WORKING IN AGRICULTURE OR FORESTRY; PARTS...       A    1.0   \n",
              "3  A01B1/00  Hand tools (edge trimmers for lawns A01G3/06  ...       A    1.0   \n",
              "4  A01B1/02  Spades; Shovels {(hand-operated dredgers E02F3...       A    1.0   \n",
              "\n",
              "  subclass  group  main_group  \n",
              "0      NaN    NaN         NaN  \n",
              "1      NaN    NaN         NaN  \n",
              "2        B    NaN         NaN  \n",
              "3        B    1.0         0.0  \n",
              "4        B    1.0         2.0  "
            ]
          },
          "execution_count": 40,
          "metadata": {},
<<<<<<< HEAD
          "output_type": "execute_result"
=======
          "execution_count": 19
>>>>>>> a76d92057b5710c067b61e5ca39fd4fac666fb48
        }
      ],
      "source": [
        "df_titles.head()"
      ]
    },
    {
      "cell_type": "code",
      "execution_count": 41,
      "metadata": {
        "id": "7cnxD7nK6TAt"
      },
      "outputs": [],
      "source": [
        "df_train = pd.merge(\n",
        "    left = df_train,\n",
        "    right = df_titles[[\"code\", \"title\"]],\n",
        "    how = \"inner\",\n",
        "    left_on = \"context\",\n",
        "    right_on = \"code\"\n",
        ")"
<<<<<<< HEAD
      ]
=======
      ],
      "metadata": {
        "id": "7cnxD7nK6TAt"
      },
      "execution_count": 20,
      "outputs": []
>>>>>>> a76d92057b5710c067b61e5ca39fd4fac666fb48
    },
    {
      "cell_type": "code",
      "execution_count": 42,
      "metadata": {
        "colab": {
          "base_uri": "https://localhost:8080/"
        },
        "id": "OXTlR6uY5Df5",
        "outputId": "fddca6cc-aa7d-41e1-dae1-1ded606b59f8"
      },
<<<<<<< HEAD
=======
      "execution_count": 21,
>>>>>>> a76d92057b5710c067b61e5ca39fd4fac666fb48
      "outputs": [
        {
          "data": {
            "text/plain": [
              "555_89     84\n",
              "129_47     79\n",
              "324_49     79\n",
              "430_104    74\n",
              "129_48     73\n",
              "           ..\n",
              "525_62      1\n",
              "649_62      1\n",
              "480_11      1\n",
              "485_11      1\n",
              "727_101     1\n",
              "Name: anchor_context_map, Length: 1699, dtype: int64"
            ]
          },
          "execution_count": 42,
          "metadata": {},
<<<<<<< HEAD
          "output_type": "execute_result"
=======
          "execution_count": 21
>>>>>>> a76d92057b5710c067b61e5ca39fd4fac666fb48
        }
      ],
      "source": [
        "df_train.anchor_context_map.value_counts()"
      ]
    },
    {
      "cell_type": "code",
      "execution_count": 43,
      "metadata": {
        "id": "PlVFnydo5ltK"
      },
      "outputs": [],
      "source": [
        "# For each anchor, context group (i.e. set of records having same anchor and context values), concatenate the target phrases\n",
        "# key is unique anchor_context_map , value is concatenation of target phrases of all records for that unique anchor_context_map\n",
        "anc_ctx_targets = {}\n",
        "for anchor_context_map in df_train.anchor_context_map.unique():\n",
        "    df_train_sub = df_train[df_train.anchor_context_map == anchor_context_map]\n",
        "    anchor_context_target_text = \",\".join(df_train_sub.target)    \n",
        "    anc_ctx_targets[anchor_context_map] = anchor_context_target_text\n",
        "\n",
        "df_train[\"anchor_context_targets\"] = df_train.anchor_context_map.map(anc_ctx_targets)\n",
        "df_train[\"anc_ctx_tgt_len\"] = df_train[\"anchor_context_targets\"].apply(lambda text: len(text.split()))\n",
        "df_train = df_train.sort_values(by=[\"anc_ctx_tgt_len\"], ascending=False)\n",
        "# df_train = df_train.head(500)\n",
        "# df_train = df_train[df_train.anchor_context_map == \"555_89\"]"
<<<<<<< HEAD
      ]
=======
      ],
      "metadata": {
        "id": "PlVFnydo5ltK"
      },
      "execution_count": 22,
      "outputs": []
>>>>>>> a76d92057b5710c067b61e5ca39fd4fac666fb48
    },
    {
      "cell_type": "code",
      "execution_count": 44,
      "metadata": {
        "colab": {
          "base_uri": "https://localhost:8080/"
        },
        "id": "-ki9Z4VTqzvr",
        "outputId": "adeb2d16-db8f-4899-f8f5-617b19b6e6fe"
      },
<<<<<<< HEAD
=======
      "execution_count": 23,
>>>>>>> a76d92057b5710c067b61e5ca39fd4fac666fb48
      "outputs": [
        {
          "name": "stderr",
          "output_type": "stream",
          "text": [
            "Special tokens have been added in the vocabulary, make sure the associated word embeddings are fine-tuned or trained.\n",
            "Special tokens have been added in the vocabulary, make sure the associated word embeddings are fine-tuned or trained.\n"
          ]
        }
      ],
      "source": [
        "from transformers import AutoTokenizer, DataCollatorWithPadding\n",
        "\n",
        "tokenizer = AutoTokenizer.from_pretrained(config.train_run.transformer_checkpoint)\n",
        "# DataCollatorWithPadding pads each batch to the longest sequence length\n",
        "data_collator = DataCollatorWithPadding(tokenizer=tokenizer)"
      ]
    },
    {
      "cell_type": "code",
      "execution_count": 45,
      "metadata": {
        "colab": {
          "base_uri": "https://localhost:8080/"
        },
<<<<<<< HEAD
        "id": "QdNCCLVNMi2T",
        "outputId": "c627b836-6255-4084-d5a6-d5ee9a90cc0e"
      },
=======
        "outputId": "cdfb8af7-2da9-4806-f9da-64e4bc3e213b"
      },
      "execution_count": 24,
>>>>>>> a76d92057b5710c067b61e5ca39fd4fac666fb48
      "outputs": [
        {
          "name": "stdout",
          "output_type": "stream",
          "text": [
            "Additional special tokens: ['[G]', '[C]', '[H]', '[B]', '[A]', '[E]', '[F]', '[D]']\n"
          ]
        },
        {
          "data": {
            "text/plain": [
              "8"
            ]
          },
          "execution_count": 45,
          "metadata": {},
<<<<<<< HEAD
          "output_type": "execute_result"
=======
          "execution_count": 24
>>>>>>> a76d92057b5710c067b61e5ca39fd4fac666fb48
        }
      ],
      "source": [
        "df_train['sectok'] = '[' + df_train.section + ']'\n",
        "sectoks = list(df_train.sectok.unique())\n",
        "print(f\"Additional special tokens: {sectoks}\")\n",
        "tokenizer.add_special_tokens({'additional_special_tokens': sectoks})"
      ]
    },
    {
      "cell_type": "code",
      "execution_count": 46,
      "metadata": {
        "colab": {
          "base_uri": "https://localhost:8080/",
          "height": 704
        },
        "id": "vcEDi4QjUEto",
        "outputId": "6c4091f7-477b-49df-8483-7dd24f72001e"
      },
<<<<<<< HEAD
=======
      "execution_count": 25,
>>>>>>> a76d92057b5710c067b61e5ca39fd4fac666fb48
      "outputs": [
        {
          "data": {
<<<<<<< HEAD
=======
            "text/plain": [
              "                     id                                  anchor  \\\n",
              "18583  426b5d4ee52dfbba  reflection type liquid crystal display   \n",
              "19157  d583a6c02fed7b2a  reflection type liquid crystal display   \n",
              "19227  668eb746e5b96f9e  reflection type liquid crystal display   \n",
              "19221  b0e707f934a27619  reflection type liquid crystal display   \n",
              "19217  722fbf83a2054afa  reflection type liquid crystal display   \n",
              "\n",
              "                                target context  score section  anchor_map  \\\n",
              "18583   reflective mode liquid display     G02   0.50       G         555   \n",
              "19157      reflection mode lcd crystal     G02   0.50       G         555   \n",
              "19227                           mobile     G02   0.25       G         555   \n",
              "19221  reflection type crystal display     G02   0.50       G         555   \n",
              "19217            liquid crystal device     G02   0.50       G         555   \n",
              "\n",
              "       context_map anchor_context_map  score_map  score_binary_map  kfold  \\\n",
              "18583           89             555_89          2                 1      4   \n",
              "19157           89             555_89          2                 1      4   \n",
              "19227           89             555_89          1                 0      4   \n",
              "19221           89             555_89          2                 1      4   \n",
              "19217           89             555_89          2                 1      4   \n",
              "\n",
              "      code   title                             anchor_context_targets  \\\n",
              "18583  G02  OPTICS  liquid matrix type crystal,lcd displays reflec...   \n",
              "19157  G02  OPTICS  liquid matrix type crystal,lcd displays reflec...   \n",
              "19227  G02  OPTICS  liquid matrix type crystal,lcd displays reflec...   \n",
              "19221  G02  OPTICS  liquid matrix type crystal,lcd displays reflec...   \n",
              "19217  G02  OPTICS  liquid matrix type crystal,lcd displays reflec...   \n",
              "\n",
              "       anc_ctx_tgt_len sectok  \\\n",
              "18583              213    [G]   \n",
              "19157              213    [G]   \n",
              "19227              213    [G]   \n",
              "19221              213    [G]   \n",
              "19217              213    [G]   \n",
              "\n",
              "                                                  inputs  \n",
              "18583  [g] [sep] reflection type liquid crystal displ...  \n",
              "19157  [g] [sep] reflection type liquid crystal displ...  \n",
              "19227  [g] [sep] reflection type liquid crystal displ...  \n",
              "19221  [g] [sep] reflection type liquid crystal displ...  \n",
              "19217  [g] [sep] reflection type liquid crystal displ...  "
            ],
>>>>>>> a76d92057b5710c067b61e5ca39fd4fac666fb48
            "text/html": [
              "\n",
              "  <div id=\"df-f35192c5-9eee-4a94-b0ce-b2f995a7ea6c\">\n",
              "    <div class=\"colab-df-container\">\n",
              "      <div>\n",
              "<style scoped>\n",
              "    .dataframe tbody tr th:only-of-type {\n",
              "        vertical-align: middle;\n",
              "    }\n",
              "\n",
              "    .dataframe tbody tr th {\n",
              "        vertical-align: top;\n",
              "    }\n",
              "\n",
              "    .dataframe thead th {\n",
              "        text-align: right;\n",
              "    }\n",
              "</style>\n",
              "<table border=\"1\" class=\"dataframe\">\n",
              "  <thead>\n",
              "    <tr style=\"text-align: right;\">\n",
              "      <th></th>\n",
              "      <th>id</th>\n",
              "      <th>anchor</th>\n",
              "      <th>target</th>\n",
              "      <th>context</th>\n",
              "      <th>score</th>\n",
              "      <th>section</th>\n",
              "      <th>anchor_map</th>\n",
              "      <th>context_map</th>\n",
              "      <th>anchor_context_map</th>\n",
              "      <th>score_map</th>\n",
              "      <th>score_binary_map</th>\n",
              "      <th>kfold</th>\n",
              "      <th>code</th>\n",
              "      <th>title</th>\n",
              "      <th>anchor_context_targets</th>\n",
              "      <th>anc_ctx_tgt_len</th>\n",
              "      <th>sectok</th>\n",
              "      <th>inputs</th>\n",
              "    </tr>\n",
              "  </thead>\n",
              "  <tbody>\n",
              "    <tr>\n",
              "      <th>18583</th>\n",
              "      <td>426b5d4ee52dfbba</td>\n",
              "      <td>reflection type liquid crystal display</td>\n",
              "      <td>reflective mode liquid display</td>\n",
              "      <td>G02</td>\n",
              "      <td>0.50</td>\n",
              "      <td>G</td>\n",
              "      <td>555</td>\n",
              "      <td>89</td>\n",
              "      <td>555_89</td>\n",
              "      <td>2</td>\n",
              "      <td>1</td>\n",
              "      <td>4</td>\n",
              "      <td>G02</td>\n",
              "      <td>OPTICS</td>\n",
              "      <td>liquid matrix type crystal,lcd displays reflec...</td>\n",
              "      <td>213</td>\n",
              "      <td>[G]</td>\n",
              "      <td>[g] [sep] reflection type liquid crystal displ...</td>\n",
              "    </tr>\n",
              "    <tr>\n",
              "      <th>19157</th>\n",
              "      <td>d583a6c02fed7b2a</td>\n",
              "      <td>reflection type liquid crystal display</td>\n",
              "      <td>reflection mode lcd crystal</td>\n",
              "      <td>G02</td>\n",
              "      <td>0.50</td>\n",
              "      <td>G</td>\n",
              "      <td>555</td>\n",
              "      <td>89</td>\n",
              "      <td>555_89</td>\n",
              "      <td>2</td>\n",
              "      <td>1</td>\n",
              "      <td>4</td>\n",
              "      <td>G02</td>\n",
              "      <td>OPTICS</td>\n",
              "      <td>liquid matrix type crystal,lcd displays reflec...</td>\n",
              "      <td>213</td>\n",
              "      <td>[G]</td>\n",
              "      <td>[g] [sep] reflection type liquid crystal displ...</td>\n",
              "    </tr>\n",
              "    <tr>\n",
              "      <th>19227</th>\n",
              "      <td>668eb746e5b96f9e</td>\n",
              "      <td>reflection type liquid crystal display</td>\n",
              "      <td>mobile</td>\n",
              "      <td>G02</td>\n",
              "      <td>0.25</td>\n",
              "      <td>G</td>\n",
              "      <td>555</td>\n",
              "      <td>89</td>\n",
              "      <td>555_89</td>\n",
              "      <td>1</td>\n",
              "      <td>0</td>\n",
              "      <td>4</td>\n",
              "      <td>G02</td>\n",
              "      <td>OPTICS</td>\n",
              "      <td>liquid matrix type crystal,lcd displays reflec...</td>\n",
              "      <td>213</td>\n",
              "      <td>[G]</td>\n",
              "      <td>[g] [sep] reflection type liquid crystal displ...</td>\n",
              "    </tr>\n",
              "    <tr>\n",
              "      <th>19221</th>\n",
              "      <td>b0e707f934a27619</td>\n",
              "      <td>reflection type liquid crystal display</td>\n",
              "      <td>reflection type crystal display</td>\n",
              "      <td>G02</td>\n",
              "      <td>0.50</td>\n",
              "      <td>G</td>\n",
              "      <td>555</td>\n",
              "      <td>89</td>\n",
              "      <td>555_89</td>\n",
              "      <td>2</td>\n",
              "      <td>1</td>\n",
              "      <td>4</td>\n",
              "      <td>G02</td>\n",
              "      <td>OPTICS</td>\n",
              "      <td>liquid matrix type crystal,lcd displays reflec...</td>\n",
              "      <td>213</td>\n",
              "      <td>[G]</td>\n",
              "      <td>[g] [sep] reflection type liquid crystal displ...</td>\n",
              "    </tr>\n",
              "    <tr>\n",
              "      <th>19217</th>\n",
              "      <td>722fbf83a2054afa</td>\n",
              "      <td>reflection type liquid crystal display</td>\n",
              "      <td>liquid crystal device</td>\n",
              "      <td>G02</td>\n",
              "      <td>0.50</td>\n",
              "      <td>G</td>\n",
              "      <td>555</td>\n",
              "      <td>89</td>\n",
              "      <td>555_89</td>\n",
              "      <td>2</td>\n",
              "      <td>1</td>\n",
              "      <td>4</td>\n",
              "      <td>G02</td>\n",
              "      <td>OPTICS</td>\n",
              "      <td>liquid matrix type crystal,lcd displays reflec...</td>\n",
              "      <td>213</td>\n",
              "      <td>[G]</td>\n",
              "      <td>[g] [sep] reflection type liquid crystal displ...</td>\n",
              "    </tr>\n",
              "  </tbody>\n",
              "</table>\n",
              "</div>\n",
              "      <button class=\"colab-df-convert\" onclick=\"convertToInteractive('df-f35192c5-9eee-4a94-b0ce-b2f995a7ea6c')\"\n",
              "              title=\"Convert this dataframe to an interactive table.\"\n",
              "              style=\"display:none;\">\n",
              "        \n",
              "  <svg xmlns=\"http://www.w3.org/2000/svg\" height=\"24px\"viewBox=\"0 0 24 24\"\n",
              "       width=\"24px\">\n",
              "    <path d=\"M0 0h24v24H0V0z\" fill=\"none\"/>\n",
              "    <path d=\"M18.56 5.44l.94 2.06.94-2.06 2.06-.94-2.06-.94-.94-2.06-.94 2.06-2.06.94zm-11 1L8.5 8.5l.94-2.06 2.06-.94-2.06-.94L8.5 2.5l-.94 2.06-2.06.94zm10 10l.94 2.06.94-2.06 2.06-.94-2.06-.94-.94-2.06-.94 2.06-2.06.94z\"/><path d=\"M17.41 7.96l-1.37-1.37c-.4-.4-.92-.59-1.43-.59-.52 0-1.04.2-1.43.59L10.3 9.45l-7.72 7.72c-.78.78-.78 2.05 0 2.83L4 21.41c.39.39.9.59 1.41.59.51 0 1.02-.2 1.41-.59l7.78-7.78 2.81-2.81c.8-.78.8-2.07 0-2.86zM5.41 20L4 18.59l7.72-7.72 1.47 1.35L5.41 20z\"/>\n",
              "  </svg>\n",
              "      </button>\n",
              "      \n",
              "  <style>\n",
              "    .colab-df-container {\n",
              "      display:flex;\n",
              "      flex-wrap:wrap;\n",
              "      gap: 12px;\n",
              "    }\n",
              "\n",
              "    .colab-df-convert {\n",
              "      background-color: #E8F0FE;\n",
              "      border: none;\n",
              "      border-radius: 50%;\n",
              "      cursor: pointer;\n",
              "      display: none;\n",
              "      fill: #1967D2;\n",
              "      height: 32px;\n",
              "      padding: 0 0 0 0;\n",
              "      width: 32px;\n",
              "    }\n",
              "\n",
              "    .colab-df-convert:hover {\n",
              "      background-color: #E2EBFA;\n",
              "      box-shadow: 0px 1px 2px rgba(60, 64, 67, 0.3), 0px 1px 3px 1px rgba(60, 64, 67, 0.15);\n",
              "      fill: #174EA6;\n",
              "    }\n",
              "\n",
              "    [theme=dark] .colab-df-convert {\n",
              "      background-color: #3B4455;\n",
              "      fill: #D2E3FC;\n",
              "    }\n",
              "\n",
              "    [theme=dark] .colab-df-convert:hover {\n",
              "      background-color: #434B5C;\n",
              "      box-shadow: 0px 1px 3px 1px rgba(0, 0, 0, 0.15);\n",
              "      filter: drop-shadow(0px 1px 2px rgba(0, 0, 0, 0.3));\n",
              "      fill: #FFFFFF;\n",
              "    }\n",
              "  </style>\n",
              "\n",
              "      <script>\n",
              "        const buttonEl =\n",
              "          document.querySelector('#df-f35192c5-9eee-4a94-b0ce-b2f995a7ea6c button.colab-df-convert');\n",
              "        buttonEl.style.display =\n",
              "          google.colab.kernel.accessAllowed ? 'block' : 'none';\n",
              "\n",
              "        async function convertToInteractive(key) {\n",
              "          const element = document.querySelector('#df-f35192c5-9eee-4a94-b0ce-b2f995a7ea6c');\n",
              "          const dataTable =\n",
              "            await google.colab.kernel.invokeFunction('convertToInteractive',\n",
              "                                                     [key], {});\n",
              "          if (!dataTable) return;\n",
              "\n",
              "          const docLinkHtml = 'Like what you see? Visit the ' +\n",
              "            '<a target=\"_blank\" href=https://colab.research.google.com/notebooks/data_table.ipynb>data table notebook</a>'\n",
              "            + ' to learn more about interactive tables.';\n",
              "          element.innerHTML = '';\n",
              "          dataTable['output_type'] = 'display_data';\n",
              "          await google.colab.output.renderOutput(dataTable, element);\n",
              "          const docLink = document.createElement('div');\n",
              "          docLink.innerHTML = docLinkHtml;\n",
              "          element.appendChild(docLink);\n",
              "        }\n",
              "      </script>\n",
              "    </div>\n",
              "  </div>\n",
              "  "
            ],
            "text/plain": [
              "                     id                                  anchor  \\\n",
              "18583  426b5d4ee52dfbba  reflection type liquid crystal display   \n",
              "19157  d583a6c02fed7b2a  reflection type liquid crystal display   \n",
              "19227  668eb746e5b96f9e  reflection type liquid crystal display   \n",
              "19221  b0e707f934a27619  reflection type liquid crystal display   \n",
              "19217  722fbf83a2054afa  reflection type liquid crystal display   \n",
              "\n",
              "                                target context  score section  anchor_map  \\\n",
              "18583   reflective mode liquid display     G02   0.50       G         555   \n",
              "19157      reflection mode lcd crystal     G02   0.50       G         555   \n",
              "19227                           mobile     G02   0.25       G         555   \n",
              "19221  reflection type crystal display     G02   0.50       G         555   \n",
              "19217            liquid crystal device     G02   0.50       G         555   \n",
              "\n",
              "       context_map anchor_context_map  score_map  kfold code   title  \\\n",
              "18583           89             555_89          2      4  G02  OPTICS   \n",
              "19157           89             555_89          2      4  G02  OPTICS   \n",
              "19227           89             555_89          1      4  G02  OPTICS   \n",
              "19221           89             555_89          2      4  G02  OPTICS   \n",
              "19217           89             555_89          2      4  G02  OPTICS   \n",
              "\n",
              "                                  anchor_context_targets  anc_ctx_tgt_len  \\\n",
              "18583  liquid matrix type crystal,lcd displays reflec...              213   \n",
              "19157  liquid matrix type crystal,lcd displays reflec...              213   \n",
              "19227  liquid matrix type crystal,lcd displays reflec...              213   \n",
              "19221  liquid matrix type crystal,lcd displays reflec...              213   \n",
              "19217  liquid matrix type crystal,lcd displays reflec...              213   \n",
              "\n",
              "      sectok                                             inputs  \n",
              "18583    [G]  [g] [sep] reflection type liquid crystal displ...  \n",
              "19157    [G]  [g] [sep] reflection type liquid crystal displ...  \n",
              "19227    [G]  [g] [sep] reflection type liquid crystal displ...  \n",
              "19221    [G]  [g] [sep] reflection type liquid crystal displ...  \n",
              "19217    [G]  [g] [sep] reflection type liquid crystal displ...  "
            ]
          },
          "execution_count": 46,
          "metadata": {},
<<<<<<< HEAD
          "output_type": "execute_result"
=======
          "execution_count": 25
>>>>>>> a76d92057b5710c067b61e5ca39fd4fac666fb48
        }
      ],
      "source": [
        "sep = \" \" + tokenizer.sep_token + \" \"\n",
        "df_train[\"inputs\"] = df_train.sectok + sep + df_train.anchor + sep + df_train.target + sep + df_train.title + sep + df_train.anchor_context_targets\n",
        "df_train[\"inputs\"] = df_train[\"inputs\"].apply(lambda x: x.lower())\n",
        "df_train.head()"
      ]
    },
    {
      "cell_type": "code",
      "execution_count": 47,
      "metadata": {
        "id": "bfp4vMSLVUnv"
      },
      "outputs": [],
      "source": [
        "def tokenize_text(tokenizer, with_labels, row):\n",
        "    encoding = tokenizer(\n",
        "        text = row[\"inputs\"],\n",
        "        padding = False,\n",
        "        truncation = True,\n",
        "        # maximum possible sequence length (for inputs column). Sequences exceeding this length will be truncated\n",
        "        max_length = 512\n",
        "    )\n",
        "    if with_labels:\n",
        "        encoding[\"labels\"] = row[config.train_run.label_col]\n",
        "    return encoding"
<<<<<<< HEAD
      ]
=======
      ],
      "metadata": {
        "id": "bfp4vMSLVUnv"
      },
      "execution_count": 26,
      "outputs": []
>>>>>>> a76d92057b5710c067b61e5ca39fd4fac666fb48
    },
    {
      "cell_type": "code",
      "execution_count": 48,
      "metadata": {
        "id": "40q3FL0nWa2e"
      },
      "outputs": [],
      "source": [
        "from functools import partial\n",
        "\n",
        "preprocess_train_data = partial(tokenize_text, tokenizer, True)  \n",
        "preprocess_test_data = partial(tokenize_text, tokenizer, False)  "
<<<<<<< HEAD
      ]
=======
      ],
      "metadata": {
        "id": "40q3FL0nWa2e"
      },
      "execution_count": 27,
      "outputs": []
>>>>>>> a76d92057b5710c067b61e5ca39fd4fac666fb48
    },
    {
      "cell_type": "code",
      "execution_count": 49,
      "metadata": {
        "id": "1AcHcSdKdwMb"
      },
      "outputs": [],
      "source": [
        "def compute_metrics(eval_pred):     \n",
        "    predictions, labels = eval_pred    \n",
        "    predictions = predictions.reshape(len(predictions))    \n",
        "    return {\n",
        "        'pearson': np.corrcoef(predictions, labels)[0][1]\n",
        "    }"
<<<<<<< HEAD
      ]
=======
      ],
      "metadata": {
        "id": "1AcHcSdKdwMb"
      },
      "execution_count": 28,
      "outputs": []
>>>>>>> a76d92057b5710c067b61e5ca39fd4fac666fb48
    },
    {
      "cell_type": "code",
      "execution_count": 50,
      "metadata": {
        "id": "geU35SINdzXe"
      },
      "outputs": [],
      "source": [
        "def get_oof_preds(trainer, ds_val, df_val_fold):\n",
        "    oof_outputs = trainer.predict(ds_val)    \n",
        "    predictions = oof_outputs.predictions\n",
        "    oof_predictions = predictions.reshape(-1)\n",
        "    df_val_fold[\"val_preds\"] = oof_predictions\n",
        "    return df_val_fold"
<<<<<<< HEAD
      ]
=======
      ],
      "metadata": {
        "id": "geU35SINdzXe"
      },
      "execution_count": 29,
      "outputs": []
>>>>>>> a76d92057b5710c067b61e5ca39fd4fac666fb48
    },
    {
      "cell_type": "code",
      "execution_count": 51,
      "metadata": {
        "id": "l2m2Y_8H9Jh_"
      },
      "outputs": [],
      "source": [
        "def clean_up():\n",
        "    gc.collect()\n",
        "    torch.cuda.empty_cache()\n",
        "    helper.delete_checkpoints(config.training_args[\"output_dir\"])\n",
        "    print(f\"deleted checkpoints as best model for {fold_str} saved already\")\n",
        "    # Empty the trash to clear gdrive disk space\n",
        "    colab_utils.empty_gdrive_trash()"
<<<<<<< HEAD
      ]
=======
      ],
      "metadata": {
        "id": "l2m2Y_8H9Jh_"
      },
      "execution_count": 30,
      "outputs": []
>>>>>>> a76d92057b5710c067b61e5ca39fd4fac666fb48
    },
    {
      "cell_type": "code",
      "execution_count": 52,
      "metadata": {
        "colab": {
          "base_uri": "https://localhost:8080/",
          "height": 572,
          "referenced_widgets": [
            "b21c525372334f7aa24872c13da1ca6f",
            "daf24c96883d4055a83f1e7e1a5400d9",
            "560e87e589454287ae0eadb763d9936b",
            "3bf89be19d294ff0a8f01695885e8b96",
            "fd28cecb70954ad6a629819e63ad7042",
            "f119d94a4167497a863198ab7ff6cc31",
            "7a1985a481704df090e9fe1f742ab49c",
            "b35a25c80710473f9107808a95334ae5",
            "ad6be44c4aa94b7aa6c660c4ba6dac4d",
            "ae5566f4cbcf49d6a16b4b0a9a952f59",
            "89afaabbe7f84e30b8e7b46b71d0ab71",
            "9844e82ec81743888e7e98488e25e0cb",
            "6fed500bb59a496e915f45452462fee6",
            "a224e83d9e27467f9cf8f7aa92aa8f98",
            "14ec3106d4524cd792c3b008bff63e96",
            "4ee8be9699ac4b17aec1d87fb5b378d9",
            "6f8dc94a8910415d875babfa40b50245",
            "7af5f098326d4c47aaebdb8c47792b5c",
            "c89b85f4453d40e7803d6fdd4a16181e",
            "57691aab3f83453e88401b672740d249",
            "a118cf9b9ce74e07b04bc36da6070fd6",
            "9bd7aeee67354b278b043f8df19592a5"
          ]
        },
        "id": "e7Dzi9bM_9E1",
        "outputId": "09b0e91f-b2e0-4dcc-9b5e-d7537207588f"
      },
      "outputs": [
        {
          "name": "stderr",
          "output_type": "stream",
          "text": [
            "\u001b[34m\u001b[1mwandb\u001b[0m: \u001b[33mWARNING\u001b[0m If you're specifying your api key in code, ensure this code is not shared publicly.\n",
            "\u001b[34m\u001b[1mwandb\u001b[0m: \u001b[33mWARNING\u001b[0m Consider setting the WANDB_API_KEY environment variable, or running `wandb login` from the command line.\n",
            "\u001b[34m\u001b[1mwandb\u001b[0m: Appending key for api.wandb.ai to your netrc file: /root/.netrc\n"
          ]
        },
        {
          "name": "stdout",
          "output_type": "stream",
          "text": [
            "Running training for fold0\n"
          ]
        },
        {
          "name": "stderr",
          "output_type": "stream",
          "text": [
            "\u001b[34m\u001b[1mwandb\u001b[0m: Currently logged in as: \u001b[33mbkanupam\u001b[0m. Use \u001b[1m`wandb login --relogin`\u001b[0m to force relogin\n"
          ]
        },
        {
          "data": {
            "text/html": [
              "Tracking run with wandb version 0.12.19"
            ],
            "text/plain": [
              "<IPython.core.display.HTML object>"
            ]
          },
          "metadata": {},
          "output_type": "display_data"
        },
        {
          "data": {
            "text/html": [
              "Run data is saved locally in <code>/content/gdrive/MyDrive/Kaggle/NLP/PatentPhraseMatching/wandb/run-20220628_123452-1rjhww9j</code>"
            ],
            "text/plain": [
              "<IPython.core.display.HTML object>"
            ]
          },
          "metadata": {},
          "output_type": "display_data"
        },
        {
          "data": {
            "text/html": [
              "Syncing run <strong><a href=\"https://wandb.ai/bkanupam/USPPPM/runs/1rjhww9j\" target=\"_blank\">fold_0</a></strong> to <a href=\"https://wandb.ai/bkanupam/USPPPM\" target=\"_blank\">Weights & Biases</a> (<a href=\"https://wandb.me/run\" target=\"_blank\">docs</a>)<br/>"
            ],
            "text/plain": [
              "<IPython.core.display.HTML object>"
            ]
          },
          "metadata": {},
          "output_type": "display_data"
        },
        {
          "name": "stderr",
          "output_type": "stream",
          "text": [
            "Parameter 'function'=<function Dataset.map.<locals>.decorate.<locals>.decorated at 0x7f4da7d31b90> of the transform datasets.arrow_dataset.Dataset._map_single couldn't be hashed properly, a random hash was used instead. Make sure your transforms and parameters are serializable with pickle or dill for the dataset fingerprinting and caching to work. If you reuse this transform, the caching mechanism will consider it to be different from the previous calls and recompute everything. This warning is only showed once. Subsequent hashing failures won't be showed.\n"
          ]
        },
        {
          "data": {
            "application/vnd.jupyter.widget-view+json": {
              "model_id": "b21c525372334f7aa24872c13da1ca6f",
              "version_major": 2,
              "version_minor": 0
            },
            "text/plain": [
              "  0%|          | 0/30 [00:00<?, ?ba/s]"
            ]
          },
          "metadata": {},
          "output_type": "display_data"
        },
        {
          "data": {
            "application/vnd.jupyter.widget-view+json": {
              "model_id": "9844e82ec81743888e7e98488e25e0cb",
              "version_major": 2,
              "version_minor": 0
            },
            "text/plain": [
              "  0%|          | 0/8 [00:00<?, ?ba/s]"
            ]
          },
          "metadata": {},
          "output_type": "display_data"
        },
        {
          "name": "stderr",
          "output_type": "stream",
          "text": [
            "Some weights of the model checkpoint at microsoft/deberta-v3-small were not used when initializing DebertaV2ForSeqClfMeanPooling: ['lm_predictions.lm_head.bias', 'lm_predictions.lm_head.dense.weight', 'mask_predictions.classifier.bias', 'mask_predictions.dense.weight', 'lm_predictions.lm_head.LayerNorm.bias', 'mask_predictions.LayerNorm.bias', 'mask_predictions.LayerNorm.weight', 'lm_predictions.lm_head.LayerNorm.weight', 'mask_predictions.dense.bias', 'lm_predictions.lm_head.dense.bias', 'mask_predictions.classifier.weight']\n",
            "- This IS expected if you are initializing DebertaV2ForSeqClfMeanPooling from the checkpoint of a model trained on another task or with another architecture (e.g. initializing a BertForSequenceClassification model from a BertForPreTraining model).\n",
            "- This IS NOT expected if you are initializing DebertaV2ForSeqClfMeanPooling from the checkpoint of a model that you expect to be exactly identical (initializing a BertForSequenceClassification model from a BertForSequenceClassification model).\n",
            "Some weights of DebertaV2ForSeqClfMeanPooling were not initialized from the model checkpoint at microsoft/deberta-v3-small and are newly initialized: ['classifier.weight', 'classifier.bias', 'pooler.dense.weight', 'pooler.dense.bias']\n",
            "You should probably TRAIN this model on a down-stream task to be able to use it for predictions and inference.\n"
          ]
        },
        {
          "name": "stdout",
          "output_type": "stream",
          "text": [
            "len(tokenizer_vocab) = 128009\n"
          ]
        },
        {
          "data": {
            "text/html": [
              "\n",
              "    <div>\n",
              "      \n",
              "      <progress value='488' max='488' style='width:300px; height:20px; vertical-align: middle;'></progress>\n",
              "      [488/488 09:34, Epoch 1/2]\n",
              "    </div>\n",
              "    <table border=\"1\" class=\"dataframe\">\n",
              "  <thead>\n",
              " <tr style=\"text-align: left;\">\n",
              "      <th>Epoch</th>\n",
              "      <th>Training Loss</th>\n",
              "      <th>Validation Loss</th>\n",
              "      <th>Pearson</th>\n",
              "    </tr>\n",
              "  </thead>\n",
              "  <tbody>\n",
              "    <tr>\n",
              "      <td>0</td>\n",
              "      <td>No log</td>\n",
              "      <td>0.048141</td>\n",
              "      <td>0.737365</td>\n",
              "    </tr>\n",
              "    <tr>\n",
              "      <td>1</td>\n",
              "      <td>No log</td>\n",
              "      <td>0.027970</td>\n",
              "      <td>0.779183</td>\n",
              "    </tr>\n",
              "  </tbody>\n",
              "</table><p>"
            ],
            "text/plain": [
              "<IPython.core.display.HTML object>"
            ]
          },
          "metadata": {},
          "output_type": "display_data"
        },
        {
          "data": {
            "text/html": [
              "\n",
              "    <div>\n",
              "      \n",
              "      <progress value='90' max='90' style='width:300px; height:20px; vertical-align: middle;'></progress>\n",
              "      [90/90 00:22]\n",
              "    </div>\n",
              "    "
            ],
            "text/plain": [
              "<IPython.core.display.HTML object>"
            ]
          },
          "metadata": {},
          "output_type": "display_data"
        },
        {
          "name": "stdout",
          "output_type": "stream",
          "text": [
            "Saved OOF predictions for fold 0\n",
            "deleted checkpoints as best model for fold0 saved already\n",
            "The below files were cleared from trash\n",
            "[]\n"
          ]
        }
      ],
      "source": [
        "import gc\n",
<<<<<<< HEAD
        "import debertav2_custom_heads\n",
=======
        "from transformers import AutoConfig\n",
        "from debertav2_seqclf_attention import DebertaV2ForSeqClfAttention\n",
        "from debertav2_seqclf_concatlastfour import DebertaV2ForSeqClfConcatLastFour\n",
>>>>>>> a76d92057b5710c067b61e5ca39fd4fac666fb48
        "import time\n",
        "\n",
        "df_val_preds = pd.DataFrame()\n",
        "tok_vocab = tokenizer.get_vocab()\n",
        "exp_start_time = time.time()\n",
        "for fold in range(config.train_run.num_folds):\n",
        "    fold_str = f\"fold{fold}\"    \n",
        "    if config.wandb.enabled:\n",
        "        initialize_wandb(fold)\n",
        "    df_train_fold, df_val_fold, ds_train, ds_val = hf_utils.get_fold_ds(fold, df_train, preprocess_train_data)\n",
        "    config.training_args[\"output_dir\"] = config.paths.out_dir + fold_str\n",
<<<<<<< HEAD
        "    training_args = TrainingArguments(**config.training_args)\n",
        "    model = debertav2_custom_heads.DebertaV2ForSeqClfMeanPooling.from_pretrained(\n",
        "        config.train_run.transformer_checkpoint, \n",
        "        num_labels=config.train_run.num_labels\n",
=======
        "    training_args = TrainingArguments(**config.training_args) \n",
        "    model_config = AutoConfig.from_pretrained(config.train_run.transformer_checkpoint)\n",
        "    model_config.output_hidden_states = config.train_run.output_hidden_states\n",
        "    model_config.num_labels = config.train_run.num_labels\n",
        "    model = DebertaV2ForSeqClfConcatLastFour.from_pretrained(\n",
        "        config.train_run.transformer_checkpoint,\n",
        "        config = model_config, \n",
        "        loss_type=config.train_run.loss_type\n",
>>>>>>> a76d92057b5710c067b61e5ca39fd4fac666fb48
        "    )\n",
        "    print(f\"len(tokenizer_vocab) = {len(tok_vocab)}\")\n",
        "    model.resize_token_embeddings(len(tok_vocab))    \n",
        "    trainer = Trainer(\n",
        "        model=model,                         # the instantiated Transformers model to be trained\n",
        "        args=training_args,                  # training arguments, defined above\n",
        "        train_dataset=ds_train,              # training dataset\n",
        "        eval_dataset=ds_val,                 # evaluation dataset\n",
        "        compute_metrics=compute_metrics,     # the callback that computes metrics of interest\n",
        "        data_collator=data_collator,\n",
        "        tokenizer=tokenizer\n",
        "    )\n",
        "    print(f\"Running training for {fold_str} using loss_type={config.train_run.loss_type}\")\n",
        "    trainer.train()\n",
        "    trainer.save_model(config.training_args[\"output_dir\"])\n",
        "    df_val_fold = get_oof_preds(trainer, ds_val, df_val_fold) \n",
        "    # display(df_val_fold.head())\n",
        "    df_val_preds = pd.concat([df_val_preds, df_val_fold], axis=0)\n",
        "    # export the oof predictions to csv for later use in stacking    \n",
        "    df_val_fold.to_csv(config.paths.val_preds_path + f\"df_train_oof_preds_{MODEL_NAME}_{fold_str}.csv\")\n",
        "    print(f\"Saved OOF predictions for fold {fold}\")    \n",
        "    del model, trainer\n",
        "    clean_up()\n",
        "    if not config.train_run.run_all_folds:\n",
        "        break\n",
        "\n",
        "exp_end_time = time.time()        "
      ]
    },
    {
      "cell_type": "code",
      "execution_count": 53,
      "metadata": {
        "id": "kW8Ts1u8Ib4q"
      },
      "outputs": [],
      "source": [
        "# Calculate the CV score\n",
        "def calculate_cv_score(df_oof):\n",
        "    predictions = df_oof['val_preds'].values\n",
        "    labels = df_oof['score'].values\n",
        "    eval_preds = predictions, labels\n",
        "    cv_metric_dict = compute_metrics(eval_preds)\n",
        "    return cv_metric_dict[\"pearson\"]"
      ]
    },
    {
      "cell_type": "code",
      "execution_count": 58,
      "metadata": {
        "colab": {
          "base_uri": "https://localhost:8080/",
<<<<<<< HEAD
          "height": 453
        },
        "id": "RHmW1Ef7TNaM",
        "outputId": "52c46fd9-7e0d-48fb-9101-af8730a0b2f7"
      },
=======
          "height": 468,
          "referenced_widgets": [
            "d7c554d13665416cbec3fcb9347f14c0",
            "1a634f3ba6814d7190b8bf1b4aa5c93e",
            "fd48ce0d0c174b9caf6676735ee00c5b",
            "bd6d5d0b2a994add86b61556711a4907",
            "a4e1a4670cae47ecb01a1b54f7d899a6",
            "c5345e80c3e844acbfc7ad8195be8d2c",
            "1ed830544de149ed9d1063e0291d9398",
            "dd255df999fb49f191656e29e3b65ee6",
            "f648bd61f2b24bb6a1502c1008b3e037",
            "129d863870e74f76b61d7ef5169e9b59",
            "4016c3adbd364f88a4b11f37b71ebdf5",
            "95dc526b0d0046e88b2f44b13856c8e1",
            "1dfc8ce02a5c46e890d97ed897f828cd",
            "91e90c6d1bad47b3956fdd3ae8dbd527",
            "bfcd0b699169448fbfba36d6065ed2d4",
            "bfacd9a5311447d89fb25697d6598597",
            "a60e1089159e47099a554a58bfe4e8ba",
            "3d7ca3bf57f9455198e385b45726a0a8",
            "693a26a5215e45199b31844e114adcb9",
            "bc943f17b49243a5beac6ef55181874f",
            "44f3c0fdbb6844bfb37d55c9eedd2a4b",
            "2f0e9e46713f4f098e03ded0f852ff20"
          ]
        },
        "id": "e7Dzi9bM_9E1",
        "outputId": "28143bb8-eb06-4848-838b-5fa34c4dd1da"
      },
      "execution_count": 32,
>>>>>>> a76d92057b5710c067b61e5ca39fd4fac666fb48
      "outputs": [
        {
          "name": "stderr",
          "output_type": "stream",
          "text": [
<<<<<<< HEAD
            "\u001b[34m\u001b[1mwandb\u001b[0m: \u001b[33mWARNING\u001b[0m Saving files without folders. If you want to preserve sub directories pass base_path to wandb.save, i.e. wandb.save(\"/mnt/folder/file.h5\", base_path=\"/mnt\")\n"
          ]
        },
        {
          "name": "stdout",
          "output_type": "stream",
          "text": [
            "cv_score = 0.7791831694320728\n",
            "{'experiment': '00_deberta-v3-small_baseline', 'cv': 0.7791831694320728, 'experiment_time': '0h:10m:50s', 'wandb_run': 'https://wandb.ai/bkanupam/USPPPM/runs/1rjhww9j'}\n"
          ]
        },
        {
          "ename": "OSError",
          "evalue": "ignored",
          "output_type": "error",
          "traceback": [
            "\u001b[0;31m---------------------------------------------------------------------------\u001b[0m",
            "\u001b[0;31mOSError\u001b[0m                                   Traceback (most recent call last)",
            "\u001b[0;32m<ipython-input-58-f0021bf8c3ce>\u001b[0m in \u001b[0;36m<module>\u001b[0;34m()\u001b[0m\n\u001b[1;32m     29\u001b[0m         \u001b[0;31m# Log config, cv score, run time to wandb\u001b[0m\u001b[0;34m\u001b[0m\u001b[0;34m\u001b[0m\u001b[0;34m\u001b[0m\u001b[0m\n\u001b[1;32m     30\u001b[0m         \u001b[0mwandb\u001b[0m\u001b[0;34m.\u001b[0m\u001b[0mlog\u001b[0m\u001b[0;34m(\u001b[0m\u001b[0;34m{\u001b[0m\u001b[0;34m\"cv_score\"\u001b[0m\u001b[0;34m:\u001b[0m \u001b[0mcv_score\u001b[0m\u001b[0;34m,\u001b[0m \u001b[0;34m\"exp_run_time\"\u001b[0m\u001b[0;34m:\u001b[0m \u001b[0mexp_run_time\u001b[0m\u001b[0;34m}\u001b[0m\u001b[0;34m)\u001b[0m\u001b[0;34m\u001b[0m\u001b[0;34m\u001b[0m\u001b[0m\n\u001b[0;32m---> 31\u001b[0;31m         \u001b[0mwandb\u001b[0m\u001b[0;34m.\u001b[0m\u001b[0msave\u001b[0m\u001b[0;34m(\u001b[0m\u001b[0mexp_config_file\u001b[0m\u001b[0;34m)\u001b[0m\u001b[0;34m\u001b[0m\u001b[0;34m\u001b[0m\u001b[0m\n\u001b[0m\u001b[1;32m     32\u001b[0m         \u001b[0mwandb\u001b[0m\u001b[0;34m.\u001b[0m\u001b[0msave\u001b[0m\u001b[0;34m(\u001b[0m\u001b[0mrun_summary_file\u001b[0m\u001b[0;34m)\u001b[0m\u001b[0;34m\u001b[0m\u001b[0;34m\u001b[0m\u001b[0m\n",
            "\u001b[0;32m/usr/local/lib/python3.7/dist-packages/wandb/sdk/wandb_run.py\u001b[0m in \u001b[0;36mwrapper\u001b[0;34m(self, *args, **kwargs)\u001b[0m\n\u001b[1;32m    220\u001b[0m                     \u001b[0;32mraise\u001b[0m \u001b[0me\u001b[0m\u001b[0;34m\u001b[0m\u001b[0;34m\u001b[0m\u001b[0m\n\u001b[1;32m    221\u001b[0m                 \u001b[0mcls\u001b[0m\u001b[0;34m.\u001b[0m\u001b[0m_is_attaching\u001b[0m \u001b[0;34m=\u001b[0m \u001b[0;34m\"\"\u001b[0m\u001b[0;34m\u001b[0m\u001b[0;34m\u001b[0m\u001b[0m\n\u001b[0;32m--> 222\u001b[0;31m             \u001b[0;32mreturn\u001b[0m \u001b[0mfunc\u001b[0m\u001b[0;34m(\u001b[0m\u001b[0mself\u001b[0m\u001b[0;34m,\u001b[0m \u001b[0;34m*\u001b[0m\u001b[0margs\u001b[0m\u001b[0;34m,\u001b[0m \u001b[0;34m**\u001b[0m\u001b[0mkwargs\u001b[0m\u001b[0;34m)\u001b[0m\u001b[0;34m\u001b[0m\u001b[0;34m\u001b[0m\u001b[0m\n\u001b[0m\u001b[1;32m    223\u001b[0m \u001b[0;34m\u001b[0m\u001b[0m\n\u001b[1;32m    224\u001b[0m         \u001b[0;32mreturn\u001b[0m \u001b[0mwrapper\u001b[0m\u001b[0;34m\u001b[0m\u001b[0;34m\u001b[0m\u001b[0m\n",
            "\u001b[0;32m/usr/local/lib/python3.7/dist-packages/wandb/sdk/wandb_run.py\u001b[0m in \u001b[0;36msave\u001b[0;34m(self, glob_str, base_path, policy)\u001b[0m\n\u001b[1;32m   1577\u001b[0m             \u001b[0;32mreturn\u001b[0m \u001b[0;32mTrue\u001b[0m\u001b[0;34m\u001b[0m\u001b[0;34m\u001b[0m\u001b[0m\n\u001b[1;32m   1578\u001b[0m \u001b[0;34m\u001b[0m\u001b[0m\n\u001b[0;32m-> 1579\u001b[0;31m         \u001b[0;32mreturn\u001b[0m \u001b[0mself\u001b[0m\u001b[0;34m.\u001b[0m\u001b[0m_save\u001b[0m\u001b[0;34m(\u001b[0m\u001b[0mglob_str\u001b[0m\u001b[0;34m,\u001b[0m \u001b[0mbase_path\u001b[0m\u001b[0;34m,\u001b[0m \u001b[0mpolicy\u001b[0m\u001b[0;34m)\u001b[0m\u001b[0;34m\u001b[0m\u001b[0;34m\u001b[0m\u001b[0m\n\u001b[0m\u001b[1;32m   1580\u001b[0m \u001b[0;34m\u001b[0m\u001b[0m\n\u001b[1;32m   1581\u001b[0m     def _save(\n",
            "\u001b[0;32m/usr/local/lib/python3.7/dist-packages/wandb/sdk/wandb_run.py\u001b[0m in \u001b[0;36m_save\u001b[0;34m(self, glob_str, base_path, policy)\u001b[0m\n\u001b[1;32m   1631\u001b[0m                 \u001b[0mos\u001b[0m\u001b[0;34m.\u001b[0m\u001b[0msymlink\u001b[0m\u001b[0;34m(\u001b[0m\u001b[0mabs_path\u001b[0m\u001b[0;34m,\u001b[0m \u001b[0mwandb_path\u001b[0m\u001b[0;34m)\u001b[0m\u001b[0;34m\u001b[0m\u001b[0;34m\u001b[0m\u001b[0m\n\u001b[1;32m   1632\u001b[0m             \u001b[0;32melif\u001b[0m \u001b[0;32mnot\u001b[0m \u001b[0mos\u001b[0m\u001b[0;34m.\u001b[0m\u001b[0mpath\u001b[0m\u001b[0;34m.\u001b[0m\u001b[0mexists\u001b[0m\u001b[0;34m(\u001b[0m\u001b[0mwandb_path\u001b[0m\u001b[0;34m)\u001b[0m\u001b[0;34m:\u001b[0m\u001b[0;34m\u001b[0m\u001b[0;34m\u001b[0m\u001b[0m\n\u001b[0;32m-> 1633\u001b[0;31m                 \u001b[0mos\u001b[0m\u001b[0;34m.\u001b[0m\u001b[0msymlink\u001b[0m\u001b[0;34m(\u001b[0m\u001b[0mabs_path\u001b[0m\u001b[0;34m,\u001b[0m \u001b[0mwandb_path\u001b[0m\u001b[0;34m)\u001b[0m\u001b[0;34m\u001b[0m\u001b[0;34m\u001b[0m\u001b[0m\n\u001b[0m\u001b[1;32m   1634\u001b[0m             \u001b[0mfiles\u001b[0m\u001b[0;34m.\u001b[0m\u001b[0mappend\u001b[0m\u001b[0;34m(\u001b[0m\u001b[0mwandb_path\u001b[0m\u001b[0;34m)\u001b[0m\u001b[0;34m\u001b[0m\u001b[0;34m\u001b[0m\u001b[0m\n\u001b[1;32m   1635\u001b[0m         \u001b[0;32mif\u001b[0m \u001b[0mwarn\u001b[0m\u001b[0;34m:\u001b[0m\u001b[0;34m\u001b[0m\u001b[0;34m\u001b[0m\u001b[0m\n",
            "\u001b[0;31mOSError\u001b[0m: [Errno 95] Operation not supported: '/content/gdrive/MyDrive/Kaggle/NLP/PatentPhraseMatching/model/deberta-v3-small/exp_config.yaml' -> '/content/gdrive/MyDrive/Kaggle/NLP/PatentPhraseMatching/wandb/run-20220628_123452-1rjhww9j/files/exp_config.yaml'"
          ]
        }
      ],
      "source": [
        "import json\n",
        "\n",
        "# save config file, log file, oof file etc. related to training run\n",
        "exp_run_time = utils.asHours(exp_end_time - exp_start_time)\n",
        "if config.train_run.run_all_folds:\n",
        "        df_val_preds.to_csv(config.paths.val_preds_path + f\"df_train_oof_preds_{MODEL_NAME}.csv\")\n",
        "\n",
        "cv_score = calculate_cv_score(df_val_preds)\n",
        "print(f\"cv_score = {cv_score}\")\n",
        "run_summary_dict = {\n",
        "    \"experiment\": config.train_run.experiment_name,\n",
        "    \"cv\": cv_score,\n",
        "    \"experiment_time\": exp_run_time,\n",
        "    \"wandb_run\": wandb.run.get_url() if config.wandb.enabled else None,\n",
        "}\n",
        "print(run_summary_dict)\n",
        "if config.train_run.save_artifacts:\n",
        "    run_summary_file = config.paths.out_dir + \"/run_summary.json\"\n",
        "    with open(run_summary_file, \"w\") as f:\n",
        "        json.dump(run_summary_dict, f, indent=4)\n",
        "\n",
        "    # save run config yaml file (hydra config)\n",
        "    exp_config_file = config.paths.out_dir + \"/exp_config.yaml\"\n",
        "    with open(exp_config_file, \"w\") as fp:\n",
        "        OmegaConf.save(config, fp)\n",
        "\n",
        "    # upload artifacts and log final metrics to wandb\n",
        "    if config.wandb.enabled:\n",
        "        # Log config, cv score, run time to wandb\n",
        "        wandb.log({\"cv_score\": cv_score, \"exp_run_time\": exp_run_time})    \n",
        "        wandb.save(exp_config_file)        \n",
        "        wandb.save(run_summary_file)\n"
      ]
    }
  ],
  "metadata": {
    "accelerator": "GPU",
    "colab": {
      "collapsed_sections": [],
      "name": "USPPPM-train-hf-customheads.ipynb",
      "provenance": []
    },
    "kernelspec": {
      "display_name": "Python 3.9.7 ('fastai')",
      "language": "python",
      "name": "python3"
    },
    "language_info": {
      "name": "python",
      "version": "3.9.7"
    },
    "vscode": {
      "interpreter": {
        "hash": "0197751694b00855cd01780d565fa2e16f7945f624c4146f8d6aac863c2ba178"
      }
    },
    "widgets": {
      "application/vnd.jupyter.widget-state+json": {
        "14ec3106d4524cd792c3b008bff63e96": {
          "model_module": "@jupyter-widgets/controls",
          "model_module_version": "1.5.0",
          "model_name": "HTMLModel",
          "state": {
            "_dom_classes": [],
            "_model_module": "@jupyter-widgets/controls",
            "_model_module_version": "1.5.0",
            "_model_name": "HTMLModel",
            "_view_count": null,
            "_view_module": "@jupyter-widgets/controls",
            "_view_module_version": "1.5.0",
            "_view_name": "HTMLView",
            "description": "",
            "description_tooltip": null,
            "layout": "IPY_MODEL_a118cf9b9ce74e07b04bc36da6070fd6",
            "placeholder": "​",
            "style": "IPY_MODEL_9bd7aeee67354b278b043f8df19592a5",
            "value": " 8/8 [00:03&lt;00:00,  2.79ba/s]"
          }
        },
        "3bf89be19d294ff0a8f01695885e8b96": {
          "model_module": "@jupyter-widgets/controls",
          "model_module_version": "1.5.0",
          "model_name": "HTMLModel",
          "state": {
            "_dom_classes": [],
            "_model_module": "@jupyter-widgets/controls",
            "_model_module_version": "1.5.0",
            "_model_name": "HTMLModel",
            "_view_count": null,
            "_view_module": "@jupyter-widgets/controls",
            "_view_module_version": "1.5.0",
            "_view_name": "HTMLView",
            "description": "",
            "description_tooltip": null,
            "layout": "IPY_MODEL_ae5566f4cbcf49d6a16b4b0a9a952f59",
            "placeholder": "​",
            "style": "IPY_MODEL_89afaabbe7f84e30b8e7b46b71d0ab71",
            "value": " 30/30 [00:13&lt;00:00,  3.79ba/s]"
          }
        },
        "4ee8be9699ac4b17aec1d87fb5b378d9": {
          "model_module": "@jupyter-widgets/base",
          "model_module_version": "1.2.0",
          "model_name": "LayoutModel",
          "state": {
            "_model_module": "@jupyter-widgets/base",
            "_model_module_version": "1.2.0",
            "_model_name": "LayoutModel",
            "_view_count": null,
            "_view_module": "@jupyter-widgets/base",
            "_view_module_version": "1.2.0",
            "_view_name": "LayoutView",
            "align_content": null,
            "align_items": null,
            "align_self": null,
            "border": null,
            "bottom": null,
            "display": null,
            "flex": null,
            "flex_flow": null,
            "grid_area": null,
            "grid_auto_columns": null,
            "grid_auto_flow": null,
            "grid_auto_rows": null,
            "grid_column": null,
            "grid_gap": null,
            "grid_row": null,
            "grid_template_areas": null,
            "grid_template_columns": null,
            "grid_template_rows": null,
            "height": null,
            "justify_content": null,
            "justify_items": null,
            "left": null,
            "margin": null,
            "max_height": null,
            "max_width": null,
            "min_height": null,
            "min_width": null,
            "object_fit": null,
            "object_position": null,
            "order": null,
            "overflow": null,
            "overflow_x": null,
            "overflow_y": null,
            "padding": null,
            "right": null,
            "top": null,
            "visibility": null,
            "width": null
          }
        },
        "560e87e589454287ae0eadb763d9936b": {
          "model_module": "@jupyter-widgets/controls",
          "model_module_version": "1.5.0",
          "model_name": "FloatProgressModel",
          "state": {
            "_dom_classes": [],
            "_model_module": "@jupyter-widgets/controls",
            "_model_module_version": "1.5.0",
            "_model_name": "FloatProgressModel",
            "_view_count": null,
            "_view_module": "@jupyter-widgets/controls",
            "_view_module_version": "1.5.0",
            "_view_name": "ProgressView",
            "bar_style": "success",
            "description": "",
            "description_tooltip": null,
            "layout": "IPY_MODEL_b35a25c80710473f9107808a95334ae5",
            "max": 30,
            "min": 0,
            "orientation": "horizontal",
            "style": "IPY_MODEL_ad6be44c4aa94b7aa6c660c4ba6dac4d",
            "value": 30
          }
        },
        "57691aab3f83453e88401b672740d249": {
          "model_module": "@jupyter-widgets/controls",
          "model_module_version": "1.5.0",
          "model_name": "ProgressStyleModel",
          "state": {
            "_model_module": "@jupyter-widgets/controls",
            "_model_module_version": "1.5.0",
            "_model_name": "ProgressStyleModel",
            "_view_count": null,
            "_view_module": "@jupyter-widgets/base",
            "_view_module_version": "1.2.0",
            "_view_name": "StyleView",
            "bar_color": null,
            "description_width": ""
          }
        },
        "6f8dc94a8910415d875babfa40b50245": {
          "model_module": "@jupyter-widgets/base",
          "model_module_version": "1.2.0",
          "model_name": "LayoutModel",
          "state": {
            "_model_module": "@jupyter-widgets/base",
            "_model_module_version": "1.2.0",
            "_model_name": "LayoutModel",
            "_view_count": null,
            "_view_module": "@jupyter-widgets/base",
            "_view_module_version": "1.2.0",
            "_view_name": "LayoutView",
            "align_content": null,
            "align_items": null,
            "align_self": null,
            "border": null,
            "bottom": null,
            "display": null,
            "flex": null,
            "flex_flow": null,
            "grid_area": null,
            "grid_auto_columns": null,
            "grid_auto_flow": null,
            "grid_auto_rows": null,
            "grid_column": null,
            "grid_gap": null,
            "grid_row": null,
            "grid_template_areas": null,
            "grid_template_columns": null,
            "grid_template_rows": null,
            "height": null,
            "justify_content": null,
            "justify_items": null,
            "left": null,
            "margin": null,
            "max_height": null,
            "max_width": null,
            "min_height": null,
            "min_width": null,
            "object_fit": null,
            "object_position": null,
            "order": null,
            "overflow": null,
            "overflow_x": null,
            "overflow_y": null,
            "padding": null,
            "right": null,
            "top": null,
            "visibility": null,
            "width": null
          }
        },
        "6fed500bb59a496e915f45452462fee6": {
          "model_module": "@jupyter-widgets/controls",
          "model_module_version": "1.5.0",
          "model_name": "HTMLModel",
          "state": {
            "_dom_classes": [],
            "_model_module": "@jupyter-widgets/controls",
            "_model_module_version": "1.5.0",
            "_model_name": "HTMLModel",
            "_view_count": null,
            "_view_module": "@jupyter-widgets/controls",
            "_view_module_version": "1.5.0",
            "_view_name": "HTMLView",
            "description": "",
            "description_tooltip": null,
            "layout": "IPY_MODEL_6f8dc94a8910415d875babfa40b50245",
            "placeholder": "​",
            "style": "IPY_MODEL_7af5f098326d4c47aaebdb8c47792b5c",
            "value": "100%"
          }
        },
        "7a1985a481704df090e9fe1f742ab49c": {
          "model_module": "@jupyter-widgets/controls",
          "model_module_version": "1.5.0",
          "model_name": "DescriptionStyleModel",
          "state": {
            "_model_module": "@jupyter-widgets/controls",
            "_model_module_version": "1.5.0",
            "_model_name": "DescriptionStyleModel",
            "_view_count": null,
            "_view_module": "@jupyter-widgets/base",
            "_view_module_version": "1.2.0",
            "_view_name": "StyleView",
            "description_width": ""
          }
        },
        "7af5f098326d4c47aaebdb8c47792b5c": {
          "model_module": "@jupyter-widgets/controls",
          "model_module_version": "1.5.0",
          "model_name": "DescriptionStyleModel",
          "state": {
            "_model_module": "@jupyter-widgets/controls",
            "_model_module_version": "1.5.0",
            "_model_name": "DescriptionStyleModel",
            "_view_count": null,
            "_view_module": "@jupyter-widgets/base",
            "_view_module_version": "1.2.0",
            "_view_name": "StyleView",
            "description_width": ""
          }
        },
        "89afaabbe7f84e30b8e7b46b71d0ab71": {
          "model_module": "@jupyter-widgets/controls",
          "model_module_version": "1.5.0",
          "model_name": "DescriptionStyleModel",
          "state": {
            "_model_module": "@jupyter-widgets/controls",
            "_model_module_version": "1.5.0",
            "_model_name": "DescriptionStyleModel",
            "_view_count": null,
            "_view_module": "@jupyter-widgets/base",
            "_view_module_version": "1.2.0",
            "_view_name": "StyleView",
            "description_width": ""
          }
        },
        "9844e82ec81743888e7e98488e25e0cb": {
          "model_module": "@jupyter-widgets/controls",
          "model_module_version": "1.5.0",
          "model_name": "HBoxModel",
          "state": {
            "_dom_classes": [],
            "_model_module": "@jupyter-widgets/controls",
            "_model_module_version": "1.5.0",
            "_model_name": "HBoxModel",
            "_view_count": null,
            "_view_module": "@jupyter-widgets/controls",
            "_view_module_version": "1.5.0",
            "_view_name": "HBoxView",
            "box_style": "",
            "children": [
              "IPY_MODEL_6fed500bb59a496e915f45452462fee6",
              "IPY_MODEL_a224e83d9e27467f9cf8f7aa92aa8f98",
              "IPY_MODEL_14ec3106d4524cd792c3b008bff63e96"
            ],
            "layout": "IPY_MODEL_4ee8be9699ac4b17aec1d87fb5b378d9"
          }
        },
        "9bd7aeee67354b278b043f8df19592a5": {
          "model_module": "@jupyter-widgets/controls",
          "model_module_version": "1.5.0",
          "model_name": "DescriptionStyleModel",
          "state": {
            "_model_module": "@jupyter-widgets/controls",
            "_model_module_version": "1.5.0",
            "_model_name": "DescriptionStyleModel",
            "_view_count": null,
            "_view_module": "@jupyter-widgets/base",
            "_view_module_version": "1.2.0",
            "_view_name": "StyleView",
            "description_width": ""
          }
        },
        "a118cf9b9ce74e07b04bc36da6070fd6": {
          "model_module": "@jupyter-widgets/base",
          "model_module_version": "1.2.0",
          "model_name": "LayoutModel",
          "state": {
            "_model_module": "@jupyter-widgets/base",
            "_model_module_version": "1.2.0",
            "_model_name": "LayoutModel",
            "_view_count": null,
            "_view_module": "@jupyter-widgets/base",
            "_view_module_version": "1.2.0",
            "_view_name": "LayoutView",
            "align_content": null,
            "align_items": null,
            "align_self": null,
            "border": null,
            "bottom": null,
            "display": null,
            "flex": null,
            "flex_flow": null,
            "grid_area": null,
            "grid_auto_columns": null,
            "grid_auto_flow": null,
            "grid_auto_rows": null,
            "grid_column": null,
            "grid_gap": null,
            "grid_row": null,
            "grid_template_areas": null,
            "grid_template_columns": null,
            "grid_template_rows": null,
            "height": null,
            "justify_content": null,
            "justify_items": null,
            "left": null,
            "margin": null,
            "max_height": null,
            "max_width": null,
            "min_height": null,
            "min_width": null,
            "object_fit": null,
            "object_position": null,
            "order": null,
            "overflow": null,
            "overflow_x": null,
            "overflow_y": null,
            "padding": null,
            "right": null,
            "top": null,
            "visibility": null,
            "width": null
          }
        },
        "a224e83d9e27467f9cf8f7aa92aa8f98": {
          "model_module": "@jupyter-widgets/controls",
          "model_module_version": "1.5.0",
          "model_name": "FloatProgressModel",
          "state": {
            "_dom_classes": [],
            "_model_module": "@jupyter-widgets/controls",
            "_model_module_version": "1.5.0",
            "_model_name": "FloatProgressModel",
            "_view_count": null,
            "_view_module": "@jupyter-widgets/controls",
            "_view_module_version": "1.5.0",
            "_view_name": "ProgressView",
            "bar_style": "success",
            "description": "",
            "description_tooltip": null,
            "layout": "IPY_MODEL_c89b85f4453d40e7803d6fdd4a16181e",
            "max": 8,
            "min": 0,
            "orientation": "horizontal",
            "style": "IPY_MODEL_57691aab3f83453e88401b672740d249",
            "value": 8
          }
        },
        "ad6be44c4aa94b7aa6c660c4ba6dac4d": {
          "model_module": "@jupyter-widgets/controls",
          "model_module_version": "1.5.0",
          "model_name": "ProgressStyleModel",
          "state": {
            "_model_module": "@jupyter-widgets/controls",
            "_model_module_version": "1.5.0",
            "_model_name": "ProgressStyleModel",
            "_view_count": null,
            "_view_module": "@jupyter-widgets/base",
            "_view_module_version": "1.2.0",
            "_view_name": "StyleView",
            "bar_color": null,
            "description_width": ""
          }
        },
        "ae5566f4cbcf49d6a16b4b0a9a952f59": {
          "model_module": "@jupyter-widgets/base",
          "model_module_version": "1.2.0",
          "model_name": "LayoutModel",
          "state": {
            "_model_module": "@jupyter-widgets/base",
            "_model_module_version": "1.2.0",
            "_model_name": "LayoutModel",
            "_view_count": null,
            "_view_module": "@jupyter-widgets/base",
            "_view_module_version": "1.2.0",
            "_view_name": "LayoutView",
            "align_content": null,
            "align_items": null,
            "align_self": null,
            "border": null,
            "bottom": null,
            "display": null,
            "flex": null,
            "flex_flow": null,
            "grid_area": null,
            "grid_auto_columns": null,
            "grid_auto_flow": null,
            "grid_auto_rows": null,
            "grid_column": null,
            "grid_gap": null,
            "grid_row": null,
            "grid_template_areas": null,
            "grid_template_columns": null,
            "grid_template_rows": null,
            "height": null,
            "justify_content": null,
            "justify_items": null,
            "left": null,
            "margin": null,
            "max_height": null,
            "max_width": null,
            "min_height": null,
            "min_width": null,
            "object_fit": null,
            "object_position": null,
            "order": null,
            "overflow": null,
            "overflow_x": null,
            "overflow_y": null,
            "padding": null,
            "right": null,
            "top": null,
            "visibility": null,
            "width": null
          }
=======
            "\u001b[34m\u001b[1mwandb\u001b[0m: Currently logged in as: \u001b[33mbkanupam\u001b[0m. Use \u001b[1m`wandb login --relogin`\u001b[0m to force relogin\n"
          ]
        },
        {
          "output_type": "display_data",
          "data": {
            "text/plain": [
              "<IPython.core.display.HTML object>"
            ],
            "text/html": [
              "Tracking run with wandb version 0.12.21"
            ]
          },
          "metadata": {}
        },
        {
          "output_type": "display_data",
          "data": {
            "text/plain": [
              "<IPython.core.display.HTML object>"
            ],
            "text/html": [
              "Run data is saved locally in <code>/content/gdrive/MyDrive/Kaggle/NLP/PatentPhraseMatching/wandb/run-20220801_124123-3fy2u3bi</code>"
            ]
          },
          "metadata": {}
        },
        {
          "output_type": "display_data",
          "data": {
            "text/plain": [
              "<IPython.core.display.HTML object>"
            ],
            "text/html": [
              "Syncing run <strong><a href=\"https://wandb.ai/bkanupam/USPPPM/runs/3fy2u3bi\" target=\"_blank\">fold_0</a></strong> to <a href=\"https://wandb.ai/bkanupam/USPPPM\" target=\"_blank\">Weights & Biases</a> (<a href=\"https://wandb.me/run\" target=\"_blank\">docs</a>)<br/>"
            ]
          },
          "metadata": {}
        },
        {
          "output_type": "display_data",
          "data": {
            "text/plain": [
              "  0%|          | 0/30 [00:00<?, ?ba/s]"
            ],
            "application/vnd.jupyter.widget-view+json": {
              "version_major": 2,
              "version_minor": 0,
              "model_id": "d7c554d13665416cbec3fcb9347f14c0"
            }
          },
          "metadata": {}
        },
        {
          "output_type": "display_data",
          "data": {
            "text/plain": [
              "  0%|          | 0/8 [00:00<?, ?ba/s]"
            ],
            "application/vnd.jupyter.widget-view+json": {
              "version_major": 2,
              "version_minor": 0,
              "model_id": "95dc526b0d0046e88b2f44b13856c8e1"
            }
          },
          "metadata": {}
        },
        {
          "output_type": "stream",
          "name": "stderr",
          "text": [
            "Some weights of the model checkpoint at microsoft/deberta-v3-small were not used when initializing DebertaV2ForSeqClfConcatLastFour: ['mask_predictions.LayerNorm.bias', 'lm_predictions.lm_head.LayerNorm.weight', 'mask_predictions.dense.weight', 'mask_predictions.classifier.weight', 'lm_predictions.lm_head.dense.weight', 'lm_predictions.lm_head.dense.bias', 'mask_predictions.LayerNorm.weight', 'mask_predictions.dense.bias', 'lm_predictions.lm_head.LayerNorm.bias', 'mask_predictions.classifier.bias', 'lm_predictions.lm_head.bias']\n",
            "- This IS expected if you are initializing DebertaV2ForSeqClfConcatLastFour from the checkpoint of a model trained on another task or with another architecture (e.g. initializing a BertForSequenceClassification model from a BertForPreTraining model).\n",
            "- This IS NOT expected if you are initializing DebertaV2ForSeqClfConcatLastFour from the checkpoint of a model that you expect to be exactly identical (initializing a BertForSequenceClassification model from a BertForSequenceClassification model).\n",
            "Some weights of DebertaV2ForSeqClfConcatLastFour were not initialized from the model checkpoint at microsoft/deberta-v3-small and are newly initialized: ['classifier.weight', 'fc.weight', 'pooler.dense.weight', 'classifier.bias', 'fc.bias', 'pooler.dense.bias']\n",
            "You should probably TRAIN this model on a down-stream task to be able to use it for predictions and inference.\n"
          ]
        },
        {
          "output_type": "stream",
          "name": "stdout",
          "text": [
            "config.output_hidden_states = True\n",
            "len(tokenizer_vocab) = 128009\n",
            "Running training for fold0 using loss_type=mse\n"
          ]
        },
        {
          "output_type": "display_data",
          "data": {
            "text/plain": [
              "<IPython.core.display.HTML object>"
            ],
            "text/html": [
              "\n",
              "    <div>\n",
              "      \n",
              "      <progress value='917' max='917' style='width:300px; height:20px; vertical-align: middle;'></progress>\n",
              "      [917/917 04:48, Epoch 1/1]\n",
              "    </div>\n",
              "    <table border=\"1\" class=\"dataframe\">\n",
              "  <thead>\n",
              " <tr style=\"text-align: left;\">\n",
              "      <th>Epoch</th>\n",
              "      <th>Training Loss</th>\n",
              "      <th>Validation Loss</th>\n",
              "      <th>Pearson</th>\n",
              "    </tr>\n",
              "  </thead>\n",
              "  <tbody>\n",
              "    <tr>\n",
              "      <td>1</td>\n",
              "      <td>0.099900</td>\n",
              "      <td>0.028860</td>\n",
              "      <td>0.778895</td>\n",
              "    </tr>\n",
              "  </tbody>\n",
              "</table><p>"
            ]
          },
          "metadata": {}
>>>>>>> a76d92057b5710c067b61e5ca39fd4fac666fb48
        },
        "b21c525372334f7aa24872c13da1ca6f": {
          "model_module": "@jupyter-widgets/controls",
          "model_module_version": "1.5.0",
          "model_name": "HBoxModel",
          "state": {
            "_dom_classes": [],
            "_model_module": "@jupyter-widgets/controls",
            "_model_module_version": "1.5.0",
            "_model_name": "HBoxModel",
            "_view_count": null,
            "_view_module": "@jupyter-widgets/controls",
            "_view_module_version": "1.5.0",
            "_view_name": "HBoxView",
            "box_style": "",
            "children": [
              "IPY_MODEL_daf24c96883d4055a83f1e7e1a5400d9",
              "IPY_MODEL_560e87e589454287ae0eadb763d9936b",
              "IPY_MODEL_3bf89be19d294ff0a8f01695885e8b96"
            ],
<<<<<<< HEAD
            "layout": "IPY_MODEL_fd28cecb70954ad6a629819e63ad7042"
          }
        },
        "b35a25c80710473f9107808a95334ae5": {
          "model_module": "@jupyter-widgets/base",
          "model_module_version": "1.2.0",
          "model_name": "LayoutModel",
          "state": {
            "_model_module": "@jupyter-widgets/base",
            "_model_module_version": "1.2.0",
            "_model_name": "LayoutModel",
            "_view_count": null,
            "_view_module": "@jupyter-widgets/base",
            "_view_module_version": "1.2.0",
            "_view_name": "LayoutView",
            "align_content": null,
            "align_items": null,
            "align_self": null,
            "border": null,
            "bottom": null,
            "display": null,
            "flex": null,
            "flex_flow": null,
            "grid_area": null,
            "grid_auto_columns": null,
            "grid_auto_flow": null,
            "grid_auto_rows": null,
            "grid_column": null,
            "grid_gap": null,
            "grid_row": null,
            "grid_template_areas": null,
            "grid_template_columns": null,
            "grid_template_rows": null,
            "height": null,
            "justify_content": null,
            "justify_items": null,
            "left": null,
            "margin": null,
            "max_height": null,
            "max_width": null,
            "min_height": null,
            "min_width": null,
            "object_fit": null,
            "object_position": null,
            "order": null,
            "overflow": null,
            "overflow_x": null,
            "overflow_y": null,
            "padding": null,
            "right": null,
            "top": null,
            "visibility": null,
            "width": null
          }
        },
        "c89b85f4453d40e7803d6fdd4a16181e": {
          "model_module": "@jupyter-widgets/base",
          "model_module_version": "1.2.0",
          "model_name": "LayoutModel",
          "state": {
            "_model_module": "@jupyter-widgets/base",
            "_model_module_version": "1.2.0",
            "_model_name": "LayoutModel",
            "_view_count": null,
            "_view_module": "@jupyter-widgets/base",
            "_view_module_version": "1.2.0",
            "_view_name": "LayoutView",
            "align_content": null,
            "align_items": null,
            "align_self": null,
            "border": null,
            "bottom": null,
            "display": null,
            "flex": null,
            "flex_flow": null,
            "grid_area": null,
            "grid_auto_columns": null,
            "grid_auto_flow": null,
            "grid_auto_rows": null,
            "grid_column": null,
            "grid_gap": null,
            "grid_row": null,
            "grid_template_areas": null,
            "grid_template_columns": null,
            "grid_template_rows": null,
            "height": null,
            "justify_content": null,
            "justify_items": null,
            "left": null,
            "margin": null,
            "max_height": null,
            "max_width": null,
            "min_height": null,
            "min_width": null,
            "object_fit": null,
            "object_position": null,
            "order": null,
            "overflow": null,
            "overflow_x": null,
            "overflow_y": null,
            "padding": null,
            "right": null,
            "top": null,
            "visibility": null,
            "width": null
          }
        },
        "daf24c96883d4055a83f1e7e1a5400d9": {
          "model_module": "@jupyter-widgets/controls",
          "model_module_version": "1.5.0",
          "model_name": "HTMLModel",
          "state": {
            "_dom_classes": [],
            "_model_module": "@jupyter-widgets/controls",
            "_model_module_version": "1.5.0",
            "_model_name": "HTMLModel",
            "_view_count": null,
            "_view_module": "@jupyter-widgets/controls",
            "_view_module_version": "1.5.0",
            "_view_name": "HTMLView",
            "description": "",
            "description_tooltip": null,
            "layout": "IPY_MODEL_f119d94a4167497a863198ab7ff6cc31",
            "placeholder": "​",
            "style": "IPY_MODEL_7a1985a481704df090e9fe1f742ab49c",
            "value": "100%"
          }
        },
        "f119d94a4167497a863198ab7ff6cc31": {
          "model_module": "@jupyter-widgets/base",
          "model_module_version": "1.2.0",
          "model_name": "LayoutModel",
          "state": {
            "_model_module": "@jupyter-widgets/base",
            "_model_module_version": "1.2.0",
            "_model_name": "LayoutModel",
            "_view_count": null,
            "_view_module": "@jupyter-widgets/base",
            "_view_module_version": "1.2.0",
            "_view_name": "LayoutView",
            "align_content": null,
            "align_items": null,
            "align_self": null,
            "border": null,
            "bottom": null,
            "display": null,
            "flex": null,
            "flex_flow": null,
            "grid_area": null,
            "grid_auto_columns": null,
            "grid_auto_flow": null,
            "grid_auto_rows": null,
            "grid_column": null,
            "grid_gap": null,
            "grid_row": null,
            "grid_template_areas": null,
            "grid_template_columns": null,
            "grid_template_rows": null,
            "height": null,
            "justify_content": null,
            "justify_items": null,
            "left": null,
            "margin": null,
            "max_height": null,
            "max_width": null,
            "min_height": null,
            "min_width": null,
            "object_fit": null,
            "object_position": null,
            "order": null,
            "overflow": null,
            "overflow_x": null,
            "overflow_y": null,
            "padding": null,
            "right": null,
            "top": null,
            "visibility": null,
            "width": null
          }
        },
        "fd28cecb70954ad6a629819e63ad7042": {
          "model_module": "@jupyter-widgets/base",
          "model_module_version": "1.2.0",
          "model_name": "LayoutModel",
          "state": {
            "_model_module": "@jupyter-widgets/base",
            "_model_module_version": "1.2.0",
            "_model_name": "LayoutModel",
            "_view_count": null,
            "_view_module": "@jupyter-widgets/base",
            "_view_module_version": "1.2.0",
            "_view_name": "LayoutView",
            "align_content": null,
            "align_items": null,
            "align_self": null,
            "border": null,
            "bottom": null,
            "display": null,
            "flex": null,
            "flex_flow": null,
            "grid_area": null,
            "grid_auto_columns": null,
            "grid_auto_flow": null,
            "grid_auto_rows": null,
            "grid_column": null,
            "grid_gap": null,
            "grid_row": null,
            "grid_template_areas": null,
            "grid_template_columns": null,
            "grid_template_rows": null,
            "height": null,
            "justify_content": null,
            "justify_items": null,
            "left": null,
            "margin": null,
            "max_height": null,
            "max_width": null,
            "min_height": null,
            "min_width": null,
            "object_fit": null,
            "object_position": null,
            "order": null,
            "overflow": null,
            "overflow_x": null,
            "overflow_y": null,
            "padding": null,
            "right": null,
            "top": null,
            "visibility": null,
            "width": null
          }
=======
            "text/html": [
              ""
            ]
          },
          "metadata": {}
        },
        {
          "output_type": "stream",
          "name": "stdout",
          "text": [
            "Saved OOF predictions for fold 0\n",
            "deleted checkpoints as best model for fold0 saved already\n",
            "The below files were cleared from trash\n",
            "[]\n"
          ]
        }
      ]
    },
    {
      "cell_type": "code",
      "source": [
        "# Calculate the CV score\n",
        "def calculate_cv_score(df_oof):\n",
        "    predictions = df_oof['val_preds'].values\n",
        "    labels = df_oof['score'].values\n",
        "    eval_preds = predictions, labels\n",
        "    return np.corrcoef(predictions, labels)[0][1]"
      ],
      "metadata": {
        "id": "kW8Ts1u8Ib4q"
      },
      "execution_count": 33,
      "outputs": []
    },
    {
      "cell_type": "code",
      "source": [
        "import json\n",
        "\n",
        "# save config file, log file, oof file etc. related to training run\n",
        "exp_run_time = helper.asHours(exp_end_time - exp_start_time)\n",
        "if config.train_run.run_all_folds:\n",
        "        df_val_preds.to_csv(config.paths.val_preds_path + f\"df_train_oof_preds_{MODEL_NAME}.csv\")\n",
        "\n",
        "cv_score = calculate_cv_score(df_val_preds)\n",
        "print(f\"cv_score = {cv_score}\")\n",
        "run_summary_dict = {\n",
        "    \"experiment\": config.train_run.experiment_name,\n",
        "    \"cv\": cv_score,\n",
        "    \"experiment_time\": exp_run_time,\n",
        "    \"wandb_run\": wandb.run.get_url() if config.wandb.enabled else None,\n",
        "}\n",
        "print(run_summary_dict)\n",
        "if config.train_run.save_artifacts:\n",
        "    run_summary_file = config.paths.out_dir + \"/run_summary.json\"\n",
        "    with open(run_summary_file, \"w\") as f:\n",
        "        json.dump(run_summary_dict, f, indent=4)\n",
        "\n",
        "    # save run config yaml file (hydra config)\n",
        "    exp_config_file = config.paths.out_dir + \"/exp_config.yaml\"\n",
        "    with open(exp_config_file, \"w\") as fp:\n",
        "        OmegaConf.save(config, fp)\n",
        "\n",
        "    # upload artifacts and log final metrics to wandb\n",
        "    if config.wandb.enabled:\n",
        "        # Log config, cv score, run time to wandb\n",
        "        wandb.log({\"cv_score\": cv_score, \"exp_run_time\": exp_run_time})    \n",
        "        wandb.finish()\n",
        "        #wandb.save(exp_config_file)        \n",
        "        #wandb.save(run_summary_file)\n"
      ],
      "metadata": {
        "id": "RHmW1Ef7TNaM",
        "colab": {
          "base_uri": "https://localhost:8080/",
          "height": 307
        },
        "outputId": "a9301b94-c06c-4350-eb87-8d69b3dae5b3"
      },
      "execution_count": 34,
      "outputs": [
        {
          "output_type": "stream",
          "name": "stdout",
          "text": [
            "cv_score = 0.7788945026185217\n",
            "{'experiment': '03_deberta-v3-small_mseloss_concatlastfourhead', 'cv': 0.7788945026185217, 'experiment_time': '0h:5m:49s', 'wandb_run': 'https://wandb.ai/bkanupam/USPPPM/runs/3fy2u3bi'}\n"
          ]
        },
        {
          "output_type": "error",
          "ename": "FileNotFoundError",
          "evalue": "ignored",
          "traceback": [
            "\u001b[0;31m---------------------------------------------------------------------------\u001b[0m",
            "\u001b[0;31mFileNotFoundError\u001b[0m                         Traceback (most recent call last)",
            "\u001b[0;32m<ipython-input-34-3c8446fefe25>\u001b[0m in \u001b[0;36m<module>\u001b[0;34m()\u001b[0m\n\u001b[1;32m     17\u001b[0m \u001b[0;32mif\u001b[0m \u001b[0mconfig\u001b[0m\u001b[0;34m.\u001b[0m\u001b[0mtrain_run\u001b[0m\u001b[0;34m.\u001b[0m\u001b[0msave_artifacts\u001b[0m\u001b[0;34m:\u001b[0m\u001b[0;34m\u001b[0m\u001b[0;34m\u001b[0m\u001b[0m\n\u001b[1;32m     18\u001b[0m     \u001b[0mrun_summary_file\u001b[0m \u001b[0;34m=\u001b[0m \u001b[0mconfig\u001b[0m\u001b[0;34m.\u001b[0m\u001b[0mpaths\u001b[0m\u001b[0;34m.\u001b[0m\u001b[0mout_dir\u001b[0m \u001b[0;34m+\u001b[0m \u001b[0;34m\"/run_summary.json\"\u001b[0m\u001b[0;34m\u001b[0m\u001b[0;34m\u001b[0m\u001b[0m\n\u001b[0;32m---> 19\u001b[0;31m     \u001b[0;32mwith\u001b[0m \u001b[0mopen\u001b[0m\u001b[0;34m(\u001b[0m\u001b[0mrun_summary_file\u001b[0m\u001b[0;34m,\u001b[0m \u001b[0;34m\"w\"\u001b[0m\u001b[0;34m)\u001b[0m \u001b[0;32mas\u001b[0m \u001b[0mf\u001b[0m\u001b[0;34m:\u001b[0m\u001b[0;34m\u001b[0m\u001b[0;34m\u001b[0m\u001b[0m\n\u001b[0m\u001b[1;32m     20\u001b[0m         \u001b[0mjson\u001b[0m\u001b[0;34m.\u001b[0m\u001b[0mdump\u001b[0m\u001b[0;34m(\u001b[0m\u001b[0mrun_summary_dict\u001b[0m\u001b[0;34m,\u001b[0m \u001b[0mf\u001b[0m\u001b[0;34m,\u001b[0m \u001b[0mindent\u001b[0m\u001b[0;34m=\u001b[0m\u001b[0;36m4\u001b[0m\u001b[0;34m)\u001b[0m\u001b[0;34m\u001b[0m\u001b[0;34m\u001b[0m\u001b[0m\n\u001b[1;32m     21\u001b[0m \u001b[0;34m\u001b[0m\u001b[0m\n",
            "\u001b[0;31mFileNotFoundError\u001b[0m: [Errno 2] No such file or directory: '/content/gdrive/MyDrive/Kaggle/NLP/PatentPhraseMatching/model/deberta-v3-small_mseloss_concatlastfourhead/run_summary.json'"
          ]
>>>>>>> a76d92057b5710c067b61e5ca39fd4fac666fb48
        }
      }
    }
  },
  "nbformat": 4,
  "nbformat_minor": 0
}
