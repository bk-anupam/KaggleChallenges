{
 "cells": [
  {
   "cell_type": "code",
   "execution_count": 152,
   "metadata": {},
   "outputs": [],
   "source": [
    "import numpy as np\n",
    "import pandas as pd\n",
    "import cv2\n",
    "import matplotlib.pyplot as plt"
   ]
  },
  {
   "cell_type": "code",
   "execution_count": 153,
   "metadata": {},
   "outputs": [],
   "source": [
    "img = \"azjintiubk\"\n",
    "test_bgr_img = cv2.imread(f\"./data/train/{img}.jpeg\")"
   ]
  },
  {
   "cell_type": "code",
   "execution_count": 154,
   "metadata": {},
   "outputs": [
    {
     "data": {
      "text/plain": [
       "<matplotlib.image.AxesImage at 0x7f80145adc10>"
      ]
     },
     "execution_count": 154,
     "metadata": {},
     "output_type": "execute_result"
    },
    {
     "data": {
      "image/png": "[encoded data removed]",
      "text/plain": [
       "<Figure size 432x288 with 1 Axes>"
      ]
     },
     "metadata": {
      "needs_background": "light"
     },
     "output_type": "display_data"
    }
   ],
   "source": [
    "# matplotlib interprets images in RGB format, but OpenCV uses BGR format\n",
    "# so to convert the image so that it's properly loaded, convert it before loading\n",
    "rgb_img = cv2.cvtColor(test_bgr_img, cv2.COLOR_BGR2RGB)\t\n",
    "plt.imshow(rgb_img)"
   ]
  },
  {
   "cell_type": "code",
   "execution_count": 155,
   "metadata": {},
   "outputs": [
    {
     "data": {
      "text/plain": [
       "<matplotlib.image.AxesImage at 0x7f8014526130>"
      ]
     },
     "execution_count": 155,
     "metadata": {},
     "output_type": "execute_result"
    },
    {
     "data": {
      "image/png": "[encoded data removed]",
      "text/plain": [
       "<Figure size 432x288 with 1 Axes>"
      ]
     },
     "metadata": {
      "needs_background": "light"
     },
     "output_type": "display_data"
    }
   ],
   "source": [
    "gray_img = cv2.cvtColor(test_bgr_img, cv2.COLOR_BGR2GRAY)\n",
    "plt.imshow(gray_img)"
   ]
  },
  {
   "cell_type": "code",
   "execution_count": 156,
   "metadata": {},
   "outputs": [
    {
     "name": "stdout",
     "output_type": "stream",
     "text": [
      "{'0': 6523083, '1': 4382, '2': 959, '3': 404, '4': 164, '5': 48, '6': 8, '7': 10, '248': 4, '249': 7, '250': 59, '251': 193, '252': 468, '253': 1061, '254': 4903, '255': 9464247}\n"
     ]
    }
   ],
   "source": [
    "def get_pixel_count(img):\n",
    "    img1d = img.reshape(-1)\n",
    "    pixels, counts = np.unique(img1d, return_counts=True)\n",
    "    return {str(pixel): count for pixel, count in zip(pixels, counts)}\n",
    "\n",
    "pixel_count = get_pixel_count(gray_img)\n",
    "print(pixel_count)"
   ]
  },
  {
   "cell_type": "code",
   "execution_count": 157,
   "metadata": {},
   "outputs": [
    {
     "name": "stdout",
     "output_type": "stream",
     "text": [
      "binary_img.shape = (4000, 4000)\n",
      "binary image pixel count = {'0': 6527465, '1': 9472535}\n"
     ]
    }
   ],
   "source": [
    "# convert all pixels greater than 0 to 1\n",
    "binary_img = cv2.threshold(gray_img, 1, 1, cv2.THRESH_BINARY)[1]\n",
    "pixel_count = get_pixel_count(binary_img)\n",
    "print(f\"binary_img.shape = {binary_img.shape}\")\n",
    "print(f\"binary image pixel count = {pixel_count}\")"
   ]
  },
  {
   "cell_type": "code",
   "execution_count": 158,
   "metadata": {},
   "outputs": [
    {
     "data": {
      "text/plain": [
       "<matplotlib.image.AxesImage at 0x7f801448e4f0>"
      ]
     },
     "execution_count": 158,
     "metadata": {},
     "output_type": "execute_result"
    },
    {
     "data": {
      "image/png": "[encoded data removed]",
      "text/plain": [
       "<Figure size 432x288 with 1 Axes>"
      ]
     },
     "metadata": {
      "needs_background": "light"
     },
     "output_type": "display_data"
    }
   ],
   "source": [
    "plt.imshow(binary_img)"
   ]
  },
  {
   "cell_type": "code",
   "execution_count": 159,
   "metadata": {},
   "outputs": [],
   "source": [
    "def count_0_and_1(img):   \n",
    "    count_0, count_1 = 0, 0 \n",
    "    for row in range(img.shape[0]):        \n",
    "        for col in range(img.shape[1]):\n",
    "            if img[row][col] == 1:\n",
    "                count_1 += 1\n",
    "            elif img[row][col] == 0:                \n",
    "                count_0 += 1\n",
    "    return count_0, count_1\n",
    "\n",
    "def invert_pixels(img):    \n",
    "    count_0, count_1 = count_0_and_1(img)\n",
    "    # If the image is predominantly white, invert the pixels\n",
    "    if count_0 < count_1:        \n",
    "        for row in range(img.shape[0]):        \n",
    "            for col in range(img.shape[1]):\n",
    "                if img[row][col] == 1:\n",
    "                    img[row][col] = 0\n",
    "                elif img[row][col] == 0:                \n",
    "                    img[row][col] = 1\n",
    "    return img    "
   ]
  },
  {
   "cell_type": "code",
   "execution_count": 160,
   "metadata": {},
   "outputs": [],
   "source": [
    "def invert_pixels_fast(img):\n",
    "    img1d = img.reshape(-1)\n",
    "    pixels, counts = np.unique(img1d, return_counts=True)\n",
    "    pixel_count = {str(pixel): count for pixel, count in zip(pixels, counts)}\n",
    "    if \"1\" in pixel_count:\n",
    "        invert_pixel = lambda x: 0 if x == 1 else 1\n",
    "        v_invert_pixel = np.vectorize(invert_pixel)\n",
    "        # if only white pixels or majority pixels are white\n",
    "        if \"0\" not in pixel_count or pixel_count[\"0\"] < pixel_count[\"1\"]:\n",
    "            # perform vectorized pixel inversion on 1d numpy array\n",
    "            img_transformed = v_invert_pixel(img1d)\n",
    "            img = img_transformed.reshape(1000, 1000)    \n",
    "    return img"
   ]
  },
  {
   "cell_type": "code",
   "execution_count": 161,
   "metadata": {},
   "outputs": [],
   "source": [
    "# split the 4000 * 4000 binary_image into 16 tiles of 1000 * 1000 and tranform each tile to have a black background\n",
    "# with white digits\n",
    "def split_and_transform_img(img):    \n",
    "    img_tiles = []\n",
    "    for x in range(4):\n",
    "        x_start = x * 1000\n",
    "        x_end = x_start + 1000\n",
    "        row_img_list = []\n",
    "        for y in range(4):\n",
    "            y_start = y * 1000\n",
    "            y_end = y_start + 1000            \n",
    "            row_img_list.append(invert_pixels_fast(img[x_start:x_end, y_start:y_end]))\n",
    "        img_tiles.append(row_img_list)\n",
    "    return np.array(img_tiles)"
   ]
  },
  {
   "cell_type": "code",
   "execution_count": 162,
   "metadata": {},
   "outputs": [],
   "source": [
    "# join the transformed tiled images to reconstruct 4000 * 4000 binary image\n",
    "def join_tiles(tfmd_img_tiles):    \n",
    "    row_tiles = []\n",
    "    for i in range(4):\n",
    "        # join 4 tiles to create a row tile\n",
    "        row_tiles.append(np.concatenate(tfmd_img_tiles[i, :], axis=1))\n",
    "    return np.concatenate(row_tiles, axis=0)"
   ]
  },
  {
   "cell_type": "code",
   "execution_count": 163,
   "metadata": {},
   "outputs": [],
   "source": [
    "img_tiles = split_and_transform_img(binary_img)"
   ]
  },
  {
   "cell_type": "code",
   "execution_count": 164,
   "metadata": {},
   "outputs": [
    {
     "data": {
      "text/plain": [
       "(4000, 4000)"
      ]
     },
     "execution_count": 164,
     "metadata": {},
     "output_type": "execute_result"
    }
   ],
   "source": [
    "tfmd_binary_img = join_tiles(img_tiles)\n",
    "tfmd_binary_img.shape"
   ]
  },
  {
   "cell_type": "code",
   "execution_count": 165,
   "metadata": {},
   "outputs": [
    {
     "data": {
      "text/plain": [
       "<matplotlib.image.AxesImage at 0x7f80143fca00>"
      ]
     },
     "execution_count": 165,
     "metadata": {},
     "output_type": "execute_result"
    },
    {
     "data": {
      "image/png": "[encoded data removed]",
      "text/plain": [
       "<Figure size 432x288 with 1 Axes>"
      ]
     },
     "metadata": {
      "needs_background": "light"
     },
     "output_type": "display_data"
    }
   ],
   "source": [
    "plt.imshow(tfmd_binary_img)"
   ]
  },
  {
   "cell_type": "code",
   "execution_count": 192,
   "metadata": {},
   "outputs": [
    {
     "data": {
      "text/plain": [
       "<matplotlib.image.AxesImage at 0x7f801426b0d0>"
      ]
     },
     "execution_count": 192,
     "metadata": {},
     "output_type": "execute_result"
    },
    {
     "data": {
      "image/png": "[encoded data removed]",
      "text/plain": [
       "<Figure size 432x288 with 1 Axes>"
      ]
     },
     "metadata": {
      "needs_background": "light"
     },
     "output_type": "display_data"
    }
   ],
   "source": [
    "# opencv resize function only works with numpy arrays of float types\n",
    "tfmd_bin_img_resized = cv2.resize(tfmd_binary_img.astype('float32'), (512, 512), interpolation=cv2.INTER_LINEAR)\n",
    "plt.imshow(tfmd_bin_img_resized)"
   ]
  },
  {
   "cell_type": "code",
   "execution_count": 193,
   "metadata": {},
   "outputs": [
    {
     "data": {
      "text/plain": [
       "(512, 512)"
      ]
     },
     "execution_count": 193,
     "metadata": {},
     "output_type": "execute_result"
    }
   ],
   "source": [
    "tfmd_bin_img_resized.shape"
   ]
  },
  {
   "cell_type": "code",
   "execution_count": 166,
   "metadata": {},
   "outputs": [],
   "source": [
    "# convert the 4000 * 4000 * 3 image to grayscale\n",
    "# apply thresholding to convert pixel values to 0 or 1\n",
    "# split the 4000 * 4000 image into tiles of 1000 * 1000 each\n",
    "# apply pixel inversion on each tile to have black background and white digit\n",
    "# stich together the transformed tiles to get transformed grayscale image\n",
    "# apply bounding boxes on the white blobs to identify and extract digits\n",
    "\n",
    "# apply the above algorithm on one image first"
   ]
  },
  {
   "cell_type": "code",
   "execution_count": 167,
   "metadata": {},
   "outputs": [],
   "source": [
    "blob_detector = cv2.SimpleBlobDetector_create()\n",
    "detected_blobs = blob_detector.detect(test_bgr_img)\n",
    "# Draw detected blobs as red circles.\n",
    "# cv2.DRAW_MATCHES_FLAGS_DRAW_RICH_KEYPOINTS ensures the size of the circle corresponds to the size of blob\n",
    "im_with_keypoints = cv2.drawKeypoints(test_bgr_img, detected_blobs, np.array([]), (0,0,255), cv2.DRAW_MATCHES_FLAGS_DRAW_RICH_KEYPOINTS)\n",
    "#plt.imshow(cv2.cvtColor(im_with_keypoints, cv2.COLOR_BGR2RGB))"
   ]
  },
  {
   "cell_type": "code",
   "execution_count": 168,
   "metadata": {},
   "outputs": [
    {
     "data": {
      "text/plain": [
       "<SimpleBlobDetector 0x7f8014557410>"
      ]
     },
     "execution_count": 168,
     "metadata": {},
     "output_type": "execute_result"
    }
   ],
   "source": [
    "blob_detector"
   ]
  }
 ],
 "metadata": {
  "interpreter": {
   "hash": "0197751694b00855cd01780d565fa2e16f7945f624c4146f8d6aac863c2ba178"
  },
  "kernelspec": {
   "display_name": "Python 3.9.7 ('fastai')",
   "language": "python",
   "name": "python3"
  },
  "language_info": {
   "codemirror_mode": {
    "name": "ipython",
    "version": 3
   },
   "file_extension": ".py",
   "mimetype": "text/x-python",
   "name": "python",
   "nbconvert_exporter": "python",
   "pygments_lexer": "ipython3",
   "version": "3.9.7"
  },
  "orig_nbformat": 4
 },
 "nbformat": 4,
 "nbformat_minor": 2
}
