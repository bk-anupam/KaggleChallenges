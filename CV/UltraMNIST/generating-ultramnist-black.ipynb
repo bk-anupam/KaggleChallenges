{
 "cells": [
  {
   "cell_type": "code",
   "execution_count": 1,
   "id": "d31efc7f",
   "metadata": {
    "_cell_guid": "e07f99f6-1be7-488d-bb6e-06935cddf9ca",
    "_uuid": "a38a3262-b0d1-4470-8a76-51e591c81e96",
    "collapsed": false,
    "execution": {
     "iopub.execute_input": "2022-03-14T13:50:17.937640Z",
     "iopub.status.busy": "2022-03-14T13:50:17.935834Z",
     "iopub.status.idle": "2022-03-14T13:50:18.395095Z",
     "shell.execute_reply": "2022-03-14T13:50:18.394336Z",
     "shell.execute_reply.started": "2022-03-14T13:47:34.050130Z"
    },
    "jupyter": {
     "outputs_hidden": false
    },
    "papermill": {
     "duration": 0.481719,
     "end_time": "2022-03-14T13:50:18.395473",
     "exception": false,
     "start_time": "2022-03-14T13:50:17.913754",
     "status": "completed"
    },
    "tags": []
   },
   "outputs": [],
   "source": [
    "import os\n",
    "import numpy as np\n",
    "import pandas as pd\n",
    "import cv2\n",
    "import matplotlib.pyplot as plt\n",
    "import joblib\n",
    "import multiprocessing as mp"
   ]
  },
  {
   "cell_type": "markdown",
   "id": "4cb0145a",
   "metadata": {
    "papermill": {
     "duration": 0.015083,
     "end_time": "2022-03-14T13:50:18.429607",
     "exception": false,
     "start_time": "2022-03-14T13:50:18.414524",
     "status": "completed"
    },
    "tags": []
   },
   "source": [
    "### Processing images to remove checkered background\n",
    "Basically the code to generate ultramnist-black dataset that has been shared already."
   ]
  },
  {
   "cell_type": "code",
   "execution_count": 2,
   "id": "296e040f",
   "metadata": {
    "_cell_guid": "7644b921-d6db-4f94-84a6-6a1a6dedc151",
    "_uuid": "bc62072b-ff19-49d3-b4d3-53c5d82d494d",
    "collapsed": false,
    "execution": {
     "iopub.execute_input": "2022-03-14T13:50:18.465272Z",
     "iopub.status.busy": "2022-03-14T13:50:18.464523Z",
     "iopub.status.idle": "2022-03-14T13:50:18.467368Z",
     "shell.execute_reply": "2022-03-14T13:50:18.466808Z",
     "shell.execute_reply.started": "2022-03-14T13:47:34.064406Z"
    },
    "jupyter": {
     "outputs_hidden": false
    },
    "papermill": {
     "duration": 0.023035,
     "end_time": "2022-03-14T13:50:18.467520",
     "exception": false,
     "start_time": "2022-03-14T13:50:18.444485",
     "status": "completed"
    },
    "tags": []
   },
   "outputs": [],
   "source": [
    "DATA_PATH = \"/kaggle/input/ultra-mnist/\"\n",
    "PROCESSED_DATA_PATH = \"/kaggle/working/processed_train/\"\n",
    "if not os.path.isdir(PROCESSED_DATA_PATH):\n",
    "    os.mkdir(PROCESSED_DATA_PATH)"
   ]
  },
  {
   "cell_type": "markdown",
   "id": "53a1576d",
   "metadata": {
    "papermill": {
     "duration": 0.014501,
     "end_time": "2022-03-14T13:50:18.496939",
     "exception": false,
     "start_time": "2022-03-14T13:50:18.482438",
     "status": "completed"
    },
    "tags": []
   },
   "source": [
    "### So we want a black background with digits in white. This is how we do it really fast"
   ]
  },
  {
   "cell_type": "code",
   "execution_count": 3,
   "id": "6c4f2515",
   "metadata": {
    "_cell_guid": "cd642b36-5f37-4968-919f-83636fb82526",
    "_uuid": "3d48ec58-b699-4d6b-9c65-3d042cb1638e",
    "collapsed": false,
    "execution": {
     "iopub.execute_input": "2022-03-14T13:50:18.530498Z",
     "iopub.status.busy": "2022-03-14T13:50:18.529737Z",
     "iopub.status.idle": "2022-03-14T13:50:18.538355Z",
     "shell.execute_reply": "2022-03-14T13:50:18.538932Z",
     "shell.execute_reply.started": "2022-03-14T13:47:34.090371Z"
    },
    "jupyter": {
     "outputs_hidden": false
    },
    "papermill": {
     "duration": 0.027456,
     "end_time": "2022-03-14T13:50:18.539149",
     "exception": false,
     "start_time": "2022-03-14T13:50:18.511693",
     "status": "completed"
    },
    "tags": []
   },
   "outputs": [],
   "source": [
    "def invert_pixels_fast(img):\n",
    "    img1d = img.reshape(-1)\n",
    "    pixels, counts = np.unique(img1d, return_counts=True)\n",
    "    pixel_count = {str(pixel): count for pixel, count in zip(pixels, counts)}\n",
    "    if \"1\" in pixel_count:\n",
    "        invert_pixel = lambda x: 0 if x == 1 else 1\n",
    "        v_invert_pixel = np.vectorize(invert_pixel)\n",
    "        # if only white pixels or majority pixels are white\n",
    "        if \"0\" not in pixel_count or pixel_count[\"0\"] < pixel_count[\"1\"]:\n",
    "            # perform vectorized pixel inversion on 1d numpy array\n",
    "            img_transformed = v_invert_pixel(img1d)\n",
    "            img = img_transformed.reshape(1000, 1000)    \n",
    "    return img"
   ]
  },
  {
   "cell_type": "code",
   "execution_count": 4,
   "id": "bffc48fc",
   "metadata": {
    "_cell_guid": "b33c8006-1c43-4270-842d-2a5b7237e8a2",
    "_uuid": "99f27066-6ff6-4886-9ee2-165d65716ebe",
    "collapsed": false,
    "execution": {
     "iopub.execute_input": "2022-03-14T13:50:18.572331Z",
     "iopub.status.busy": "2022-03-14T13:50:18.571608Z",
     "iopub.status.idle": "2022-03-14T13:50:18.578628Z",
     "shell.execute_reply": "2022-03-14T13:50:18.579193Z",
     "shell.execute_reply.started": "2022-03-14T13:47:34.091692Z"
    },
    "jupyter": {
     "outputs_hidden": false
    },
    "papermill": {
     "duration": 0.025257,
     "end_time": "2022-03-14T13:50:18.579378",
     "exception": false,
     "start_time": "2022-03-14T13:50:18.554121",
     "status": "completed"
    },
    "tags": []
   },
   "outputs": [],
   "source": [
    "# split the 4000 * 4000 binary_image into 16 tiles of 1000 * 1000 and tranform each tile to have a black background\n",
    "# with white digits\n",
    "def split_and_transform_img(img):    \n",
    "    img_tiles = []\n",
    "    for x in range(4):\n",
    "        x_start = x * 1000\n",
    "        x_end = x_start + 1000\n",
    "        row_img_list = []\n",
    "        for y in range(4):\n",
    "            y_start = y * 1000\n",
    "            y_end = y_start + 1000            \n",
    "            row_img_list.append(invert_pixels_fast(img[x_start:x_end, y_start:y_end]))\n",
    "        img_tiles.append(row_img_list)\n",
    "    return np.array(img_tiles)"
   ]
  },
  {
   "cell_type": "code",
   "execution_count": 5,
   "id": "4b51bea8",
   "metadata": {
    "_cell_guid": "fb06f863-4757-4dd4-9a1f-6697480351be",
    "_uuid": "41b71f1e-73fe-4a53-b7bf-8d139ed4aa9e",
    "collapsed": false,
    "execution": {
     "iopub.execute_input": "2022-03-14T13:50:18.613073Z",
     "iopub.status.busy": "2022-03-14T13:50:18.612347Z",
     "iopub.status.idle": "2022-03-14T13:50:18.617617Z",
     "shell.execute_reply": "2022-03-14T13:50:18.618287Z",
     "shell.execute_reply.started": "2022-03-14T13:47:34.092945Z"
    },
    "jupyter": {
     "outputs_hidden": false
    },
    "papermill": {
     "duration": 0.024188,
     "end_time": "2022-03-14T13:50:18.618476",
     "exception": false,
     "start_time": "2022-03-14T13:50:18.594288",
     "status": "completed"
    },
    "tags": []
   },
   "outputs": [],
   "source": [
    "# join the transformed tiled images to reconstruct 4000 * 4000 binary image\n",
    "def join_tiles(tfmd_img_tiles):    \n",
    "    row_tiles = []\n",
    "    for i in range(4):\n",
    "        # join 4 tiles to create a row tile\n",
    "        row_tiles.append(np.concatenate(tfmd_img_tiles[i, :], axis=1))\n",
    "    return np.concatenate(row_tiles, axis=0)"
   ]
  },
  {
   "cell_type": "code",
   "execution_count": 6,
   "id": "f568e389",
   "metadata": {
    "_cell_guid": "cc7e782d-22cb-47f4-ad9f-a5816f81754c",
    "_uuid": "30489ec9-f085-42ef-9f79-d65954dd11c4",
    "collapsed": false,
    "execution": {
     "iopub.execute_input": "2022-03-14T13:50:18.651578Z",
     "iopub.status.busy": "2022-03-14T13:50:18.650903Z",
     "iopub.status.idle": "2022-03-14T13:50:18.655768Z",
     "shell.execute_reply": "2022-03-14T13:50:18.656312Z",
     "shell.execute_reply.started": "2022-03-14T13:47:34.094194Z"
    },
    "jupyter": {
     "outputs_hidden": false
    },
    "papermill": {
     "duration": 0.023122,
     "end_time": "2022-03-14T13:50:18.656493",
     "exception": false,
     "start_time": "2022-03-14T13:50:18.633371",
     "status": "completed"
    },
    "tags": []
   },
   "outputs": [],
   "source": [
    "def get_pixel_count(img):\n",
    "    img1d = img.reshape(-1)\n",
    "    pixels, counts = np.unique(img1d, return_counts=True)\n",
    "    return {str(pixel): count for pixel, count in zip(pixels, counts)}"
   ]
  },
  {
   "cell_type": "code",
   "execution_count": 7,
   "id": "ee1a7f28",
   "metadata": {
    "_cell_guid": "ada3a27c-3acf-412a-bcc5-f61af8b029c4",
    "_uuid": "475883ea-22b0-4fd2-b7ca-d2c0f3684068",
    "collapsed": false,
    "execution": {
     "iopub.execute_input": "2022-03-14T13:50:18.695001Z",
     "iopub.status.busy": "2022-03-14T13:50:18.694335Z",
     "iopub.status.idle": "2022-03-14T13:50:18.696281Z",
     "shell.execute_reply": "2022-03-14T13:50:18.696853Z",
     "shell.execute_reply.started": "2022-03-14T13:47:34.095410Z"
    },
    "jupyter": {
     "outputs_hidden": false
    },
    "papermill": {
     "duration": 0.025585,
     "end_time": "2022-03-14T13:50:18.697038",
     "exception": false,
     "start_time": "2022-03-14T13:50:18.671453",
     "status": "completed"
    },
    "tags": []
   },
   "outputs": [],
   "source": [
    "def preprocess_train_image(img_name):\n",
    "    img = cv2.imread(DATA_PATH + \"train/\"+ img_name)  \n",
    "    # convert to graycale as original images don't have colors anyway\n",
    "    gray_img = cv2.cvtColor(img, cv2.COLOR_BGR2GRAY)\n",
    "    # convert all pixels greater than 0 to 1\n",
    "    binary_img = cv2.threshold(gray_img, 1, 1, cv2.THRESH_BINARY)[1]\n",
    "    pixel_count = get_pixel_count(binary_img)\n",
    "    if set(list(pixel_count.keys())) != {\"0\", \"1\"}:\n",
    "        raise AssertionError(\"There are pixels other than 0 and 1 in the image\")\n",
    "    img_tiles = split_and_transform_img(binary_img)\n",
    "    tfmd_binary_img = join_tiles(img_tiles)\n",
    "    plt.imsave(PROCESSED_DATA_PATH + img_name, tfmd_binary_img)\n",
    "    return img_name"
   ]
  },
  {
   "cell_type": "markdown",
   "id": "7db7bc61",
   "metadata": {
    "papermill": {
     "duration": 0.015034,
     "end_time": "2022-03-14T13:50:18.727420",
     "exception": false,
     "start_time": "2022-03-14T13:50:18.712386",
     "status": "completed"
    },
    "tags": []
   },
   "source": [
    "### Let's see how does the original train image looks like"
   ]
  },
  {
   "cell_type": "code",
   "execution_count": 8,
   "id": "91d623f1",
   "metadata": {
    "execution": {
     "iopub.execute_input": "2022-03-14T13:50:18.765194Z",
     "iopub.status.busy": "2022-03-14T13:50:18.762171Z",
     "iopub.status.idle": "2022-03-14T13:50:22.198849Z",
     "shell.execute_reply": "2022-03-14T13:50:22.198305Z",
     "shell.execute_reply.started": "2022-03-14T13:47:34.096604Z"
    },
    "papermill": {
     "duration": 3.455858,
     "end_time": "2022-03-14T13:50:22.198999",
     "exception": false,
     "start_time": "2022-03-14T13:50:18.743141",
     "status": "completed"
    },
    "tags": []
   },
   "outputs": [
    {
     "data": {
      "text/plain": [
       "<matplotlib.image.AxesImage at 0x7f205b2ab790>"
      ]
     },
     "execution_count": 8,
     "metadata": {},
     "output_type": "execute_result"
    },
    {
     "data": {
      "image/png": "[encoded data removed]",
      "text/plain": [
       "<Figure size 576x432 with 1 Axes>"
      ]
     },
     "metadata": {
      "needs_background": "light"
     },
     "output_type": "display_data"
    }
   ],
   "source": [
    "img_to_process = [img for img in os.listdir(DATA_PATH + \"train\")][:10]\n",
    "img = cv2.imread(DATA_PATH + \"train/\" + img_to_process[0])\n",
    "# matplotlib interprets images in RGB format, but OpenCV uses BGR format\n",
    "# so to convert the image so that it's properly loaded, convert it before loading\n",
    "rgb_img = cv2.cvtColor(img, cv2.COLOR_BGR2RGB)\n",
    "plt.figure(figsize = (8, 6))\n",
    "plt.imshow(rgb_img)"
   ]
  },
  {
   "cell_type": "markdown",
   "id": "d2f9aa5c",
   "metadata": {
    "papermill": {
     "duration": 0.017271,
     "end_time": "2022-03-14T13:50:22.234262",
     "exception": false,
     "start_time": "2022-03-14T13:50:22.216991",
     "status": "completed"
    },
    "tags": []
   },
   "source": [
    "### Use joblib multiprocessing capabilities to parallelize image processing"
   ]
  },
  {
   "cell_type": "code",
   "execution_count": 9,
   "id": "4b5e14a5",
   "metadata": {
    "_cell_guid": "926c384d-2714-4cff-a26f-fa7eb400b215",
    "_uuid": "d2559af3-d8c4-4e84-97a9-c668e40f3a94",
    "collapsed": false,
    "execution": {
     "iopub.execute_input": "2022-03-14T13:50:22.272762Z",
     "iopub.status.busy": "2022-03-14T13:50:22.271948Z",
     "iopub.status.idle": "2022-03-14T13:50:40.392455Z",
     "shell.execute_reply": "2022-03-14T13:50:40.393162Z",
     "shell.execute_reply.started": "2022-03-14T13:47:34.097714Z"
    },
    "jupyter": {
     "outputs_hidden": false
    },
    "papermill": {
     "duration": 18.141655,
     "end_time": "2022-03-14T13:50:40.393385",
     "exception": false,
     "start_time": "2022-03-14T13:50:22.251730",
     "status": "completed"
    },
    "tags": []
   },
   "outputs": [
    {
     "name": "stderr",
     "output_type": "stream",
     "text": [
      "[Parallel(n_jobs=-1)]: Using backend LokyBackend with 4 concurrent workers.\n",
      "[Parallel(n_jobs=-1)]: Done   6 out of  10 | elapsed:   13.6s remaining:    9.1s\n"
     ]
    },
    {
     "name": "stdout",
     "output_type": "stream",
     "text": [
      "['sbiockeavm.jpeg', 'rugbldpbqk.jpeg', 'keogsdrcyr.jpeg', 'lmanwpwozw.jpeg', 'lczyskpeib.jpeg', 'yprbrpcxmx.jpeg', 'vaakleqjmd.jpeg', 'ptymigoevb.jpeg', 'hfcksnygel.jpeg', 'rhloztvueh.jpeg']\n"
     ]
    },
    {
     "name": "stderr",
     "output_type": "stream",
     "text": [
      "[Parallel(n_jobs=-1)]: Done  10 out of  10 | elapsed:   18.1s finished\n"
     ]
    }
   ],
   "source": [
    "from joblib import delayed, Parallel\n",
    "\n",
    "delayed_funcs = [delayed(preprocess_train_image)(img) for img in img_to_process]\n",
    "results = Parallel(n_jobs=-1, verbose=5)(delayed_funcs)\n",
    "print(results)"
   ]
  },
  {
   "cell_type": "markdown",
   "id": "1ea475a7",
   "metadata": {
    "papermill": {
     "duration": 0.017602,
     "end_time": "2022-03-14T13:50:40.430980",
     "exception": false,
     "start_time": "2022-03-14T13:50:40.413378",
     "status": "completed"
    },
    "tags": []
   },
   "source": [
    "## Check out how does the processed image looks like"
   ]
  },
  {
   "cell_type": "code",
   "execution_count": 10,
   "id": "018524c3",
   "metadata": {
    "execution": {
     "iopub.execute_input": "2022-03-14T13:50:40.473324Z",
     "iopub.status.busy": "2022-03-14T13:50:40.472379Z",
     "iopub.status.idle": "2022-03-14T13:50:43.163526Z",
     "shell.execute_reply": "2022-03-14T13:50:43.162904Z",
     "shell.execute_reply.started": "2022-03-14T13:47:34.099442Z"
    },
    "papermill": {
     "duration": 2.714961,
     "end_time": "2022-03-14T13:50:43.163685",
     "exception": false,
     "start_time": "2022-03-14T13:50:40.448724",
     "status": "completed"
    },
    "tags": []
   },
   "outputs": [
    {
     "data": {
      "text/plain": [
       "<matplotlib.image.AxesImage at 0x7f2059185110>"
      ]
     },
     "execution_count": 10,
     "metadata": {},
     "output_type": "execute_result"
    },
    {
     "data": {
      "image/png": "[encoded data removed]",
      "text/plain": [
       "<Figure size 576x432 with 1 Axes>"
      ]
     },
     "metadata": {
      "needs_background": "light"
     },
     "output_type": "display_data"
    }
   ],
   "source": [
    "img = cv2.imread(PROCESSED_DATA_PATH + img_to_process[0])\n",
    "rgb_img = cv2.cvtColor(img, cv2.COLOR_BGR2RGB)\n",
    "plt.figure(figsize = (8, 6))\n",
    "plt.imshow(rgb_img)"
   ]
  }
 ],
 "metadata": {
  "kernelspec": {
   "display_name": "Python 3",
   "language": "python",
   "name": "python3"
  },
  "language_info": {
   "codemirror_mode": {
    "name": "ipython",
    "version": 3
   },
   "file_extension": ".py",
   "mimetype": "text/x-python",
   "name": "python",
   "nbconvert_exporter": "python",
   "pygments_lexer": "ipython3",
   "version": "3.7.12"
  },
  "papermill": {
   "default_parameters": {},
   "duration": 36.986985,
   "end_time": "2022-03-14T13:50:44.094959",
   "environment_variables": {},
   "exception": null,
   "input_path": "__notebook__.ipynb",
   "output_path": "__notebook__.ipynb",
   "parameters": {},
   "start_time": "2022-03-14T13:50:07.107974",
   "version": "2.3.3"
  }
 },
 "nbformat": 4,
 "nbformat_minor": 5
}
