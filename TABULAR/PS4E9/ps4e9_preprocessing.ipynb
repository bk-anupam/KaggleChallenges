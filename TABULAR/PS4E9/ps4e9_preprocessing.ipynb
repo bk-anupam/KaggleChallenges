{
 "cells": [
  {
   "cell_type": "code",
   "execution_count": 29,
   "metadata": {},
   "outputs": [],
   "source": [
    "import sys\n",
    "import os\n",
    "import numpy as np\n",
    "import pandas as pd\n",
    "import seaborn as sns\n",
    "import matplotlib.pyplot as plt\n",
    "import optuna\n",
    "import statistics\n",
    "import re\n",
    "from sklearn.preprocessing import StandardScaler, OneHotEncoder, LabelEncoder\n",
    "from sklearn.impute import SimpleImputer\n",
    "from sklearn.compose import ColumnTransformer\n",
    "from sklearn.feature_selection import SelectFromModel, SequentialFeatureSelector\n",
    "from functools import partial\n",
    "import warnings\n",
    "\n",
    "warnings.filterwarnings('ignore')\n"
   ]
  },
  {
   "cell_type": "code",
   "execution_count": 30,
   "metadata": {},
   "outputs": [],
   "source": [
    "sys.path.append(os.path.abspath(\"/home/bk_anupam/code/ML/ML_UTILS/\"))"
   ]
  },
  {
   "cell_type": "code",
   "execution_count": 31,
   "metadata": {},
   "outputs": [],
   "source": [
    "import train_tabular_utils as tt\n",
    "import cv_split_utils\n",
    "import enums\n",
    "import data_utils"
   ]
  },
  {
   "cell_type": "code",
   "execution_count": 32,
   "metadata": {},
   "outputs": [],
   "source": [
    "RUN_MODE = \"LOCAL\"\n",
    "USE_ORIGINAL_DATA = True\n",
    "DATA_READPATH = \"./data/\"\n",
    "DATA_WRITEPATH = \"./data/\"\n",
    "if RUN_MODE == \"KAGGLE\":    \n",
    "    DATA_READPATH = \"/kaggle/input/playground-series-s4e6/\"\n",
    "    DATA_WRITEPATH = \"/kaggle/working/\""
   ]
  },
  {
   "cell_type": "code",
   "execution_count": 33,
   "metadata": {},
   "outputs": [
    {
     "name": "stdout",
     "output_type": "stream",
     "text": [
      "df_train shape: (188533, 12)\n",
      "df_test shape: (125690, 11)\n"
     ]
    }
   ],
   "source": [
    "# import train dataset locally from data folder\n",
    "df_train = pd.read_csv(DATA_READPATH + \"train.csv\")\n",
    "# import test dataset locally from data folder\n",
    "df_test = pd.read_csv(DATA_READPATH + \"test.csv\")\n",
    "df_train.drop(columns=['id'], axis=1, inplace=True)\n",
    "df_test.drop(columns=['id'], axis=1, inplace=True)\n",
    "print(f\"df_train shape: {df_train.shape}\")\n",
    "print(f\"df_test shape: {df_test.shape}\")"
   ]
  },
  {
   "cell_type": "code",
   "execution_count": 34,
   "metadata": {},
   "outputs": [
    {
     "name": "stdout",
     "output_type": "stream",
     "text": [
      "df_train shape: (192542, 12)\n"
     ]
    }
   ],
   "source": [
    "if USE_ORIGINAL_DATA:\n",
    "    df_train_orig = pd.read_csv(\"./data/used_cars.csv\")\n",
    "    df_train_orig[['milage', 'price']] = df_train_orig[['milage', 'price']].applymap(lambda x: int(re.sub(\"[^0-9]\", \"\", x)))\n",
    "    df_train_orig['milage'] = df_train_orig['milage'].astype('int64')\n",
    "    df_train_orig['price'] = df_train_orig['price'].astype('int64')\n",
    "    # add df_train_orig rows to df_train\n",
    "    df_train = pd.concat([df_train, df_train_orig], axis=0, ignore_index=True)\n",
    "    print(f\"df_train shape: {df_train.shape}\")"
   ]
  },
  {
   "cell_type": "code",
   "execution_count": 35,
   "metadata": {},
   "outputs": [],
   "source": [
    "def extract_engine_info(engine_desc: str, brand: str) -> dict:\n",
    "    # check if engine_desc is a valid string\n",
    "    if not isinstance(engine_desc, str):\n",
    "        return None\n",
    "    engine_desc = engine_desc.lower()\n",
    "    brand = brand.lower()\n",
    "    # Define patterns for each attribute\n",
    "    horsepower_pattern = r'(\\d+(\\.\\d+)?\\s*)hp'\n",
    "    capacity_pattern = r'(\\d+(\\.\\d+)?\\s*)l'\n",
    "    cylinders_pattern = r'(\\d+)\\s*cylinder|v(\\d+)'\n",
    "    fuel_pattern = r'(gasoline|diesel|flex|electric|dohc|ohv)'    \n",
    "    # Extract horsepower\n",
    "    horsepower_match = re.search(horsepower_pattern, engine_desc)\n",
    "    horsepower = float(horsepower_match.group(1)) if horsepower_match else None\n",
    "    # Extract capacity\n",
    "    capacity_match = re.search(capacity_pattern, engine_desc)\n",
    "    capacity = float(capacity_match.group(1)) if capacity_match else None\n",
    "    # Extract cylinders\n",
    "    cylinders_match = re.search(cylinders_pattern, engine_desc)    \n",
    "    cylinders = int(cylinders_match.group(1) or cylinders_match.group(2)) if cylinders_match else None\n",
    "    # Extract fuel type\n",
    "    fuel_match = re.search(fuel_pattern, engine_desc)\n",
    "    fuel = fuel_match.group(0) if fuel_match else None\n",
    "    if fuel in ('dohc', 'ohv'):\n",
    "        fuel = \"gasoline\"\n",
    "    # check is fuel_type is None and brand is \"Tesla\" then set fuel_type to \"electric\"\n",
    "    if fuel is None and brand == \"tesla\":\n",
    "        fuel = \"electric\"\n",
    "    # Extract turbo\n",
    "    turbo_match = re.search(r'turbo', engine_desc)\n",
    "    turbo = True if turbo_match else False\n",
    "    # extract hybrid\n",
    "    hybrid_match = re.search(r'hybrid', engine_desc)\n",
    "    hybrid = True if hybrid_match else False\n",
    "    return {\n",
    "        \"horsepower\": horsepower, \n",
    "        \"capacity\": capacity,\n",
    "        \"cylinders\": cylinders,\n",
    "        \"fuel\": fuel,\n",
    "        \"turbo\": turbo,\n",
    "        \"hybrid\": hybrid\n",
    "    }"
   ]
  },
  {
   "cell_type": "code",
   "execution_count": 36,
   "metadata": {},
   "outputs": [],
   "source": [
    "def extract_transmission_info(transmission_desc: str) -> dict:\n",
    "    if not isinstance(transmission_desc, str):\n",
    "        return None\n",
    "    transmission_desc = transmission_desc.lower()\n",
    "    patterns = {\n",
    "        \"transmission_speed\": r\"(\\d+)[\\s-]speed\",\n",
    "        \"auto\": r\"automatic|cvt|a/t|\\sat|transmission overdrive switch\",\n",
    "        \"manual\": r\"manual|m/t|\\smt\",\n",
    "        \"single_speed\": r\"single-speed\"\n",
    "    }\n",
    "    transmission_info = {}\n",
    "    for key, pattern in patterns.items():\n",
    "        match = re.search(pattern, transmission_desc)\n",
    "        if key == \"transmission_speed\":\n",
    "            transmission_info[key] = int(match.group(1)) if match else None\n",
    "        elif key == \"auto\" and match:\n",
    "            transmission_info[\"transmission_type\"] = \"automatic\"\n",
    "            break\n",
    "        elif key == \"manual\" and match:\n",
    "            transmission_info[\"transmission_type\"] = \"manual\"\n",
    "            break\n",
    "        elif key == \"single_speed\" and match:\n",
    "            transmission_info[\"transmission_type\"] = \"single_speed\"\n",
    "            break\n",
    "\n",
    "    if \"transmission_type\" not in transmission_info:\n",
    "        transmission_info[\"transmission_type\"] = \"automatic\" if transmission_desc == \"f\" else \"Unknown\"\n",
    "\n",
    "    return transmission_info"
   ]
  },
  {
   "cell_type": "code",
   "execution_count": 37,
   "metadata": {},
   "outputs": [],
   "source": [
    "high_resale_price_brands = ['Mercedes-Benz', 'Bentley', 'Aston', 'Jaguar', 'Tesla', 'Lamborghini', 'Land', 'RAM', \n",
    "                            'Cadillac', 'Alfa', 'Ferrari', 'Porsche', 'Bugatti', 'McLaren', 'Rolls-Royce', 'Lucid', \n",
    "                            'Maserati', 'Rivian', 'Genesis']"
   ]
  },
  {
   "cell_type": "code",
   "execution_count": 38,
   "metadata": {},
   "outputs": [
    {
     "name": "stdout",
     "output_type": "stream",
     "text": [
      "cylinders_na_count = 22385\n",
      "fuel_na_count = 8909\n",
      "horsepower_na_count = 34067\n",
      "capacity_na_count = 6915\n",
      "transmission_speed_na_count = 86228\n",
      "transmission_type_na_count = 0\n",
      "age_na_count = 0\n"
     ]
    }
   ],
   "source": [
    "# apply the \"extract_engine_info\" function to the 'engine' and 'brand' columns and extract each of the returned values into new columns\n",
    "df_train[['horsepower', 'capacity', 'cylinders', 'fuel', 'turbo', 'hybrid']] = \\\n",
    "    df_train.apply(lambda x: extract_engine_info(x['engine'], x['brand']), axis=1).apply(pd.Series)\n",
    "df_test[['horsepower', 'capacity', 'cylinders', 'fuel', 'turbo', 'hybrid']] = \\\n",
    "    df_test.apply(lambda x: extract_engine_info(x['engine'], x['brand']), axis=1).apply(pd.Series)\n",
    "# apply the \"extract_transmission_info\" function to the 'transmission' column and extract each of the returned values into new columns\n",
    "df_train[['transmission_speed', 'transmission_type']] = \\\n",
    "    df_train['transmission'].apply(extract_transmission_info).apply(pd.Series)\n",
    "df_test[['transmission_speed', 'transmission_type']] = \\\n",
    "    df_test['transmission'].apply(extract_transmission_info).apply(pd.Series)\n",
    "# by subtract model_year from current year create a new feature \"age\"\n",
    "df_train['age'] = 2024 - df_train['model_year']\n",
    "df_test['age'] = 2024 - df_test['model_year']\n",
    "# Create the new column 'is_high_resale_price_brand'\n",
    "df_train['is_high_resale_price_brand'] = df_train['brand'].isin(high_resale_price_brands)\n",
    "df_test['is_high_resale_price_brand'] = df_test['brand'].isin(high_resale_price_brands)\n",
    "# count missing values in each new column\n",
    "na_counts = df_train[['cylinders', 'fuel', 'horsepower', 'capacity', 'transmission_speed', 'transmission_type', 'age']].isna().sum()\n",
    "for col, count in na_counts.items():\n",
    "    print(f'{col}_na_count = {count}')"
   ]
  },
  {
   "cell_type": "code",
   "execution_count": 49,
   "metadata": {},
   "outputs": [
    {
     "data": {
      "text/plain": [
       "array([17, 22,  7,  3,  6,  8,  4,  9, 13, 11,  1,  5, 12, 10, 16, 15,  2,\n",
       "       21, 19, 23, 18, 24, 14, 20, 27, 26, 25, 30, 31, 28, 29,  0, 50, 32])"
      ]
     },
     "execution_count": 49,
     "metadata": {},
     "output_type": "execute_result"
    }
   ],
   "source": [
    "# Derived features\n",
    "# Bin age into categories (e.g., 0-2, 3-5, 6-10) to capture non-linear relationships.\n",
    "df_train['age_group'] = pd.cut(df_train['age'], bins=[0, 2, 5, 10], labels=['0-2', '3-5', '6-10'])\n",
    "# Calculate mileage per year (milage / age) to account for usage.\n",
    "df_train['mileage_per_year'] = df_train['milage'] / df_train['age']\n",
    "# Mileage could be grouped into ranges (e.g., low, medium, high). This could help capture wear on the car \n",
    "# and relate it to depreciation in price.\n",
    "df_train[\"milage_band\"] = (df_train.milage//10_000)*10_000\n",
    "df_train['power_to_capacity'] = df_train['horsepower'] / df_train['capacity']"
   ]
  },
  {
   "cell_type": "markdown",
   "metadata": {},
   "source": [
    "#### Handle Missing Values"
   ]
  },
  {
   "cell_type": "code",
   "execution_count": 42,
   "metadata": {},
   "outputs": [],
   "source": [
    "def extract_fuel_type(engine_desc: str) -> str:    \n",
    "    fuel_type_pattern = r'(Gasoline|Diesel|Flex|Electric|DOHC|OHV|SOHC|Dual Motor)'\n",
    "    # Extract fuel type\n",
    "    fuel_type_match = re.search(fuel_type_pattern, engine_desc)\n",
    "    fuel_type = fuel_type_match.group(0) if fuel_type_match else None\n",
    "    if fuel_type in ('DOHC', 'OHV', 'SOHC'):\n",
    "        fuel_type = \"Gasoline\"\n",
    "    elif fuel_type == 'Dual Motor':\n",
    "        fuel_type = \"Electric\"\n",
    "    return fuel_type"
   ]
  },
  {
   "cell_type": "code",
   "execution_count": 43,
   "metadata": {},
   "outputs": [],
   "source": [
    "# if fuel_type isna and fuel column is not na, use fuel column to fill in fuel_type in df_train\n",
    "df_train['fuel_type'] = df_train.apply(lambda row: row['fuel'] if pd.isnull(row['fuel_type']) else row['fuel_type'], axis=1)"
   ]
  },
  {
   "cell_type": "code",
   "execution_count": 44,
   "metadata": {},
   "outputs": [],
   "source": [
    "# df_train_fueltype_na = df_train[df_train.fuel_type.isna()]\n",
    "# df_test_fueltype_na = df_test[df_test.fuel_type.isna()]\n",
    "# df_train_fueltype_na.loc[:, \"fuel_type\"] = df_train_fueltype_na[\"engine\"].apply(extract_fuel_type)\n",
    "# df_test_fueltype_na.loc[:, \"fuel_type\"] = df_test_fueltype_na[\"engine\"].apply(extract_fuel_type)\n",
    "# # update missing fuel_type in df_train from df_fueltype_na by joining on id\n",
    "# df_train = df_train.merge(df_train_fueltype_na[[\"id\", \"fuel_type\"]], on=\"id\", how=\"left\")\n",
    "# # drop fuel_type column from df_train_fueltype_na\n",
    "# df_train.drop(\"fuel_type_y\", axis=1, inplace=True)\n",
    "# df_train.rename(columns={\"fuel_type_x\": \"fuel_type\"}, inplace=True)\n",
    "# df_test = df_test.merge(df_test_fueltype_na[[\"id\", \"fuel_type\"]], on=\"id\", how=\"left\")\n",
    "# df_test.drop(\"fuel_type_y\", axis=1, inplace=True)\n",
    "# df_test.rename(columns={\"fuel_type_x\": \"fuel_type\"}, inplace=True)"
   ]
  },
  {
   "cell_type": "code",
   "execution_count": 45,
   "metadata": {},
   "outputs": [],
   "source": [
    "# impute \"clean_title\", \"accident\", \"fuel_type\" columns missing values with \"Unknown\"\n",
    "df_train.fillna({\"clean_title\": \"Unknown\", \"accident\": \"Unknown\", \"fuel_type\": \"Unknown\", \"fuel\": \"Unknown\"}, inplace=True)\n",
    "df_test.fillna({\"clean_title\": \"Unknown\", \"accident\": \"Unknown\", \"fuel_type\": \"Unknown\", \"fuel\": \"Unknown\"}, inplace=True)"
   ]
  },
  {
   "cell_type": "code",
   "execution_count": 46,
   "metadata": {},
   "outputs": [
    {
     "data": {
      "text/html": [
       "<div>\n",
       "<style scoped>\n",
       "    .dataframe tbody tr th:only-of-type {\n",
       "        vertical-align: middle;\n",
       "    }\n",
       "\n",
       "    .dataframe tbody tr th {\n",
       "        vertical-align: top;\n",
       "    }\n",
       "\n",
       "    .dataframe thead th {\n",
       "        text-align: right;\n",
       "    }\n",
       "</style>\n",
       "<table border=\"1\" class=\"dataframe\">\n",
       "  <thead>\n",
       "    <tr style=\"text-align: right;\">\n",
       "      <th></th>\n",
       "      <th>brand</th>\n",
       "      <th>model</th>\n",
       "      <th>model_year</th>\n",
       "      <th>milage</th>\n",
       "      <th>fuel_type</th>\n",
       "      <th>engine</th>\n",
       "      <th>transmission</th>\n",
       "      <th>ext_col</th>\n",
       "      <th>int_col</th>\n",
       "      <th>accident</th>\n",
       "      <th>...</th>\n",
       "      <th>horsepower</th>\n",
       "      <th>capacity</th>\n",
       "      <th>cylinders</th>\n",
       "      <th>fuel</th>\n",
       "      <th>turbo</th>\n",
       "      <th>hybrid</th>\n",
       "      <th>transmission_speed</th>\n",
       "      <th>transmission_type</th>\n",
       "      <th>age</th>\n",
       "      <th>is_high_resale_price_brand</th>\n",
       "    </tr>\n",
       "  </thead>\n",
       "  <tbody>\n",
       "    <tr>\n",
       "      <th>0</th>\n",
       "      <td>MINI</td>\n",
       "      <td>Cooper S Base</td>\n",
       "      <td>2007</td>\n",
       "      <td>213000</td>\n",
       "      <td>Gasoline</td>\n",
       "      <td>172.0HP 1.6L 4 Cylinder Engine Gasoline Fuel</td>\n",
       "      <td>A/T</td>\n",
       "      <td>Yellow</td>\n",
       "      <td>Gray</td>\n",
       "      <td>None reported</td>\n",
       "      <td>...</td>\n",
       "      <td>172.0</td>\n",
       "      <td>1.6</td>\n",
       "      <td>4.0</td>\n",
       "      <td>gasoline</td>\n",
       "      <td>False</td>\n",
       "      <td>False</td>\n",
       "      <td>NaN</td>\n",
       "      <td>automatic</td>\n",
       "      <td>17</td>\n",
       "      <td>False</td>\n",
       "    </tr>\n",
       "    <tr>\n",
       "      <th>1</th>\n",
       "      <td>Lincoln</td>\n",
       "      <td>LS V8</td>\n",
       "      <td>2002</td>\n",
       "      <td>143250</td>\n",
       "      <td>Gasoline</td>\n",
       "      <td>252.0HP 3.9L 8 Cylinder Engine Gasoline Fuel</td>\n",
       "      <td>A/T</td>\n",
       "      <td>Silver</td>\n",
       "      <td>Beige</td>\n",
       "      <td>At least 1 accident or damage reported</td>\n",
       "      <td>...</td>\n",
       "      <td>252.0</td>\n",
       "      <td>3.9</td>\n",
       "      <td>8.0</td>\n",
       "      <td>gasoline</td>\n",
       "      <td>False</td>\n",
       "      <td>False</td>\n",
       "      <td>NaN</td>\n",
       "      <td>automatic</td>\n",
       "      <td>22</td>\n",
       "      <td>False</td>\n",
       "    </tr>\n",
       "    <tr>\n",
       "      <th>2</th>\n",
       "      <td>Chevrolet</td>\n",
       "      <td>Silverado 2500 LT</td>\n",
       "      <td>2002</td>\n",
       "      <td>136731</td>\n",
       "      <td>E85 Flex Fuel</td>\n",
       "      <td>320.0HP 5.3L 8 Cylinder Engine Flex Fuel Capab...</td>\n",
       "      <td>A/T</td>\n",
       "      <td>Blue</td>\n",
       "      <td>Gray</td>\n",
       "      <td>None reported</td>\n",
       "      <td>...</td>\n",
       "      <td>320.0</td>\n",
       "      <td>5.3</td>\n",
       "      <td>8.0</td>\n",
       "      <td>flex</td>\n",
       "      <td>False</td>\n",
       "      <td>False</td>\n",
       "      <td>NaN</td>\n",
       "      <td>automatic</td>\n",
       "      <td>22</td>\n",
       "      <td>False</td>\n",
       "    </tr>\n",
       "    <tr>\n",
       "      <th>3</th>\n",
       "      <td>Genesis</td>\n",
       "      <td>G90 5.0 Ultimate</td>\n",
       "      <td>2017</td>\n",
       "      <td>19500</td>\n",
       "      <td>Gasoline</td>\n",
       "      <td>420.0HP 5.0L 8 Cylinder Engine Gasoline Fuel</td>\n",
       "      <td>Transmission w/Dual Shift Mode</td>\n",
       "      <td>Black</td>\n",
       "      <td>Black</td>\n",
       "      <td>None reported</td>\n",
       "      <td>...</td>\n",
       "      <td>420.0</td>\n",
       "      <td>5.0</td>\n",
       "      <td>8.0</td>\n",
       "      <td>gasoline</td>\n",
       "      <td>False</td>\n",
       "      <td>False</td>\n",
       "      <td>NaN</td>\n",
       "      <td>Unknown</td>\n",
       "      <td>7</td>\n",
       "      <td>True</td>\n",
       "    </tr>\n",
       "    <tr>\n",
       "      <th>4</th>\n",
       "      <td>Mercedes-Benz</td>\n",
       "      <td>Metris Base</td>\n",
       "      <td>2021</td>\n",
       "      <td>7388</td>\n",
       "      <td>Gasoline</td>\n",
       "      <td>208.0HP 2.0L 4 Cylinder Engine Gasoline Fuel</td>\n",
       "      <td>7-Speed A/T</td>\n",
       "      <td>Black</td>\n",
       "      <td>Beige</td>\n",
       "      <td>None reported</td>\n",
       "      <td>...</td>\n",
       "      <td>208.0</td>\n",
       "      <td>2.0</td>\n",
       "      <td>4.0</td>\n",
       "      <td>gasoline</td>\n",
       "      <td>False</td>\n",
       "      <td>False</td>\n",
       "      <td>7.0</td>\n",
       "      <td>automatic</td>\n",
       "      <td>3</td>\n",
       "      <td>True</td>\n",
       "    </tr>\n",
       "  </tbody>\n",
       "</table>\n",
       "<p>5 rows × 22 columns</p>\n",
       "</div>"
      ],
      "text/plain": [
       "           brand              model  model_year  milage      fuel_type  \\\n",
       "0           MINI      Cooper S Base        2007  213000       Gasoline   \n",
       "1        Lincoln              LS V8        2002  143250       Gasoline   \n",
       "2      Chevrolet  Silverado 2500 LT        2002  136731  E85 Flex Fuel   \n",
       "3        Genesis   G90 5.0 Ultimate        2017   19500       Gasoline   \n",
       "4  Mercedes-Benz        Metris Base        2021    7388       Gasoline   \n",
       "\n",
       "                                              engine  \\\n",
       "0       172.0HP 1.6L 4 Cylinder Engine Gasoline Fuel   \n",
       "1       252.0HP 3.9L 8 Cylinder Engine Gasoline Fuel   \n",
       "2  320.0HP 5.3L 8 Cylinder Engine Flex Fuel Capab...   \n",
       "3       420.0HP 5.0L 8 Cylinder Engine Gasoline Fuel   \n",
       "4       208.0HP 2.0L 4 Cylinder Engine Gasoline Fuel   \n",
       "\n",
       "                     transmission ext_col int_col  \\\n",
       "0                             A/T  Yellow    Gray   \n",
       "1                             A/T  Silver   Beige   \n",
       "2                             A/T    Blue    Gray   \n",
       "3  Transmission w/Dual Shift Mode   Black   Black   \n",
       "4                     7-Speed A/T   Black   Beige   \n",
       "\n",
       "                                 accident  ... horsepower  capacity  \\\n",
       "0                           None reported  ...      172.0       1.6   \n",
       "1  At least 1 accident or damage reported  ...      252.0       3.9   \n",
       "2                           None reported  ...      320.0       5.3   \n",
       "3                           None reported  ...      420.0       5.0   \n",
       "4                           None reported  ...      208.0       2.0   \n",
       "\n",
       "   cylinders      fuel  turbo hybrid  transmission_speed  transmission_type  \\\n",
       "0        4.0  gasoline  False  False                 NaN          automatic   \n",
       "1        8.0  gasoline  False  False                 NaN          automatic   \n",
       "2        8.0      flex  False  False                 NaN          automatic   \n",
       "3        8.0  gasoline  False  False                 NaN            Unknown   \n",
       "4        4.0  gasoline  False  False                 7.0          automatic   \n",
       "\n",
       "   age is_high_resale_price_brand  \n",
       "0   17                      False  \n",
       "1   22                      False  \n",
       "2   22                      False  \n",
       "3    7                       True  \n",
       "4    3                       True  \n",
       "\n",
       "[5 rows x 22 columns]"
      ]
     },
     "execution_count": 46,
     "metadata": {},
     "output_type": "execute_result"
    }
   ],
   "source": [
    "df_train.to_csv(DATA_WRITEPATH + \"train_withorig_preprocessed.csv\", index=False)\n",
    "df_test.to_csv(DATA_WRITEPATH + \"test_withorig_preprocessed.csv\", index=False)\n",
    "df_train.head()"
   ]
  },
  {
   "cell_type": "code",
   "execution_count": 47,
   "metadata": {},
   "outputs": [
    {
     "data": {
      "text/plain": [
       "192542"
      ]
     },
     "execution_count": 47,
     "metadata": {},
     "output_type": "execute_result"
    }
   ],
   "source": [
    "len(df_train)"
   ]
  },
  {
   "cell_type": "code",
   "execution_count": 48,
   "metadata": {},
   "outputs": [
    {
     "name": "stdout",
     "output_type": "stream",
     "text": [
      "<class 'pandas.core.frame.DataFrame'>\n",
      "RangeIndex: 192542 entries, 0 to 192541\n",
      "Data columns (total 22 columns):\n",
      " #   Column                      Non-Null Count   Dtype  \n",
      "---  ------                      --------------   -----  \n",
      " 0   brand                       192542 non-null  object \n",
      " 1   model                       192542 non-null  object \n",
      " 2   model_year                  192542 non-null  int64  \n",
      " 3   milage                      192542 non-null  int64  \n",
      " 4   fuel_type                   192542 non-null  object \n",
      " 5   engine                      192542 non-null  object \n",
      " 6   transmission                192542 non-null  object \n",
      " 7   ext_col                     192542 non-null  object \n",
      " 8   int_col                     192542 non-null  object \n",
      " 9   accident                    192542 non-null  object \n",
      " 10  clean_title                 192542 non-null  object \n",
      " 11  price                       192542 non-null  int64  \n",
      " 12  horsepower                  158475 non-null  float64\n",
      " 13  capacity                    185627 non-null  float64\n",
      " 14  cylinders                   170157 non-null  float64\n",
      " 15  fuel                        192542 non-null  object \n",
      " 16  turbo                       192542 non-null  bool   \n",
      " 17  hybrid                      192542 non-null  bool   \n",
      " 18  transmission_speed          106314 non-null  float64\n",
      " 19  transmission_type           192542 non-null  object \n",
      " 20  age                         192542 non-null  int64  \n",
      " 21  is_high_resale_price_brand  192542 non-null  bool   \n",
      "dtypes: bool(3), float64(4), int64(4), object(11)\n",
      "memory usage: 28.5+ MB\n"
     ]
    }
   ],
   "source": [
    "df_train.info()"
   ]
  }
 ],
 "metadata": {
  "kernelspec": {
   "display_name": "ml_env",
   "language": "python",
   "name": "python3"
  },
  "language_info": {
   "codemirror_mode": {
    "name": "ipython",
    "version": 3
   },
   "file_extension": ".py",
   "mimetype": "text/x-python",
   "name": "python",
   "nbconvert_exporter": "python",
   "pygments_lexer": "ipython3",
   "version": "3.11.9"
  }
 },
 "nbformat": 4,
 "nbformat_minor": 2
}
