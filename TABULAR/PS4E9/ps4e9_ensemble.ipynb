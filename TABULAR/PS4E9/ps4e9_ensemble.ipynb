{
 "cells": [
  {
   "cell_type": "code",
   "execution_count": 51,
   "metadata": {},
   "outputs": [],
   "source": [
    "import sys\n",
    "import os\n",
    "import numpy as np\n",
    "import pandas as pd\n",
    "import joblib\n",
    "from sklearn.metrics import r2_score, root_mean_squared_error\n",
    "from sklearn.linear_model import Ridge\n",
    "from scipy.optimize import minimize\n",
    "import warnings\n",
    "\n",
    "warnings.filterwarnings('ignore')\n"
   ]
  },
  {
   "cell_type": "code",
   "execution_count": 52,
   "metadata": {},
   "outputs": [],
   "source": [
    "sys.path.append(os.path.abspath(\"/home/bk_anupam/code/ML/ML_UTILS/\"))"
   ]
  },
  {
   "cell_type": "code",
   "execution_count": 53,
   "metadata": {},
   "outputs": [],
   "source": [
    "import train_tabular_utils as tt\n",
    "import cv_split_utils\n",
    "import enums\n",
    "from enums import ModelName\n",
    "import data_utils"
   ]
  },
  {
   "cell_type": "code",
   "execution_count": 54,
   "metadata": {},
   "outputs": [],
   "source": [
    "class Config:\n",
    "    RUN_MODE = \"LOCAL\"\n",
    "    RANDOM_SEED = 42\n",
    "    NUM_FOLDS = 5\n",
    "    MODEL_TYPE = ModelName.L2_Ridge\n",
    "    TARGET_COL_NAME = \"price\"            \n",
    "    METRIC = enums.Metrics.RMSE\n",
    "    TRAIN_SINGLE_FOLD = False     \n",
    "\n",
    "COLS_TO_LEAVE = [\"id\", \"price\", \"kfold\", \"transmission_speed\", \"target_grp\"]\n",
    "CPU_COUNT = os.cpu_count()\n",
    "\n",
    "DATA_READPATH = \"./data/\"\n",
    "BASE_MODELS_PATH = \"./output/\""
   ]
  },
  {
   "cell_type": "code",
   "execution_count": 55,
   "metadata": {},
   "outputs": [
    {
     "name": "stdout",
     "output_type": "stream",
     "text": [
      "['CatBoost9', 'CatBoost18', 'LightGBM5', 'LightGBM6']\n",
      "['CatBoost9_preds', 'CatBoost18_preds', 'LightGBM5_preds', 'LightGBM6_preds']\n"
     ]
    }
   ],
   "source": [
    "# key is model type and value is list of experiment serial number of trained models for that type to be used in ensemble\n",
    "models = {\n",
    "    #ModelName.NeuralNet: [12],    \n",
    "    #ModelName.TabNetRegressor: [14],\n",
    "    ModelName.CatBoost: [9, 18],    \n",
    "    ModelName.LGBM: [5, 6],\n",
    "    #ModelName.XGBoost: [15]    \n",
    "}\n",
    "\n",
    "# for each key in models dictionary iterate through the values list using for comprehension\n",
    "base_model_names = [f\"{key}{i}\" for key, value in models.items() for i in value]\n",
    "pred_cols = [f\"{model_name}_preds\" for model_name in base_model_names]\n",
    "print(base_model_names)\n",
    "print(pred_cols)\n"
   ]
  },
  {
   "cell_type": "code",
   "execution_count": 56,
   "metadata": {},
   "outputs": [],
   "source": [
    "df_submission = pd.read_csv(DATA_READPATH + \"sample_submission.csv\")\n",
    "df_oof_preds = pd.DataFrame()\n",
    "df_test_preds = pd.DataFrame()\n",
    "# load the OOF csv for each model\n",
    "for model_name in base_model_names:\n",
    "    df_model_oof = pd.read_csv(f\"{BASE_MODELS_PATH}df_val_preds_{model_name}.csv\")\n",
    "    df_oof_preds[f\"{model_name}_preds\"] = df_model_oof[\"oof_preds\"]\n",
    "    if model_name not in [\"NN12\", \"TabNetRegressor14\"]:\n",
    "        df_model_test_preds = pd.read_csv(f\"{BASE_MODELS_PATH}df_test_preds_{model_name}.csv\")        \n",
    "        df_test_preds[f\"{model_name}_preds\"] = df_model_test_preds[\"test_preds\"]\n",
    "    else:\n",
    "        df_model_test_preds = pd.read_csv(f\"{BASE_MODELS_PATH}submission_{model_name}.csv\")        \n",
    "        df_test_preds[f\"{model_name}_preds\"] = df_model_test_preds[\"price\"]\n",
    "df_oof_preds[Config.TARGET_COL_NAME] = df_model_oof[Config.TARGET_COL_NAME]"
   ]
  },
  {
   "cell_type": "code",
   "execution_count": 57,
   "metadata": {},
   "outputs": [
    {
     "data": {
      "text/html": [
       "<div>\n",
       "<style scoped>\n",
       "    .dataframe tbody tr th:only-of-type {\n",
       "        vertical-align: middle;\n",
       "    }\n",
       "\n",
       "    .dataframe tbody tr th {\n",
       "        vertical-align: top;\n",
       "    }\n",
       "\n",
       "    .dataframe thead th {\n",
       "        text-align: right;\n",
       "    }\n",
       "</style>\n",
       "<table border=\"1\" class=\"dataframe\">\n",
       "  <thead>\n",
       "    <tr style=\"text-align: right;\">\n",
       "      <th></th>\n",
       "      <th>CatBoost9_preds</th>\n",
       "      <th>CatBoost18_preds</th>\n",
       "      <th>LightGBM5_preds</th>\n",
       "      <th>LightGBM6_preds</th>\n",
       "      <th>price</th>\n",
       "    </tr>\n",
       "  </thead>\n",
       "  <tbody>\n",
       "    <tr>\n",
       "      <th>3466</th>\n",
       "      <td>72579.124707</td>\n",
       "      <td>21457.137612</td>\n",
       "      <td>81818.134155</td>\n",
       "      <td>102230.591316</td>\n",
       "      <td>2954083.0</td>\n",
       "    </tr>\n",
       "    <tr>\n",
       "      <th>5624</th>\n",
       "      <td>17501.740519</td>\n",
       "      <td>75782.221860</td>\n",
       "      <td>42077.212054</td>\n",
       "      <td>42081.969300</td>\n",
       "      <td>2954083.0</td>\n",
       "    </tr>\n",
       "    <tr>\n",
       "      <th>11503</th>\n",
       "      <td>53888.865028</td>\n",
       "      <td>23773.566581</td>\n",
       "      <td>34571.528056</td>\n",
       "      <td>33949.615149</td>\n",
       "      <td>2954083.0</td>\n",
       "    </tr>\n",
       "    <tr>\n",
       "      <th>15433</th>\n",
       "      <td>13402.243629</td>\n",
       "      <td>49199.235436</td>\n",
       "      <td>75380.885783</td>\n",
       "      <td>78812.613077</td>\n",
       "      <td>2954083.0</td>\n",
       "    </tr>\n",
       "    <tr>\n",
       "      <th>16342</th>\n",
       "      <td>24551.440165</td>\n",
       "      <td>88467.469753</td>\n",
       "      <td>14056.762866</td>\n",
       "      <td>14870.942170</td>\n",
       "      <td>2954083.0</td>\n",
       "    </tr>\n",
       "  </tbody>\n",
       "</table>\n",
       "</div>"
      ],
      "text/plain": [
       "       CatBoost9_preds  CatBoost18_preds  LightGBM5_preds  LightGBM6_preds  \\\n",
       "3466      72579.124707      21457.137612     81818.134155    102230.591316   \n",
       "5624      17501.740519      75782.221860     42077.212054     42081.969300   \n",
       "11503     53888.865028      23773.566581     34571.528056     33949.615149   \n",
       "15433     13402.243629      49199.235436     75380.885783     78812.613077   \n",
       "16342     24551.440165      88467.469753     14056.762866     14870.942170   \n",
       "\n",
       "           price  \n",
       "3466   2954083.0  \n",
       "5624   2954083.0  \n",
       "11503  2954083.0  \n",
       "15433  2954083.0  \n",
       "16342  2954083.0  "
      ]
     },
     "execution_count": 57,
     "metadata": {},
     "output_type": "execute_result"
    }
   ],
   "source": [
    "df_oof_preds[df_oof_preds.price > 2000000].head(5)"
   ]
  },
  {
   "cell_type": "code",
   "execution_count": 58,
   "metadata": {},
   "outputs": [
    {
     "data": {
      "text/html": [
       "<div>\n",
       "<style scoped>\n",
       "    .dataframe tbody tr th:only-of-type {\n",
       "        vertical-align: middle;\n",
       "    }\n",
       "\n",
       "    .dataframe tbody tr th {\n",
       "        vertical-align: top;\n",
       "    }\n",
       "\n",
       "    .dataframe thead th {\n",
       "        text-align: right;\n",
       "    }\n",
       "</style>\n",
       "<table border=\"1\" class=\"dataframe\">\n",
       "  <thead>\n",
       "    <tr style=\"text-align: right;\">\n",
       "      <th></th>\n",
       "      <th>CatBoost9_preds</th>\n",
       "      <th>CatBoost18_preds</th>\n",
       "      <th>LightGBM5_preds</th>\n",
       "      <th>LightGBM6_preds</th>\n",
       "    </tr>\n",
       "  </thead>\n",
       "  <tbody>\n",
       "    <tr>\n",
       "      <th>0</th>\n",
       "      <td>17501.813485</td>\n",
       "      <td>16895.231411</td>\n",
       "      <td>16852.724351</td>\n",
       "      <td>16901.960186</td>\n",
       "    </tr>\n",
       "    <tr>\n",
       "      <th>1</th>\n",
       "      <td>80169.706233</td>\n",
       "      <td>79046.194652</td>\n",
       "      <td>80879.492535</td>\n",
       "      <td>82545.374389</td>\n",
       "    </tr>\n",
       "    <tr>\n",
       "      <th>2</th>\n",
       "      <td>53371.576238</td>\n",
       "      <td>57597.742487</td>\n",
       "      <td>54045.232394</td>\n",
       "      <td>55073.505298</td>\n",
       "    </tr>\n",
       "    <tr>\n",
       "      <th>3</th>\n",
       "      <td>32236.643200</td>\n",
       "      <td>29303.107174</td>\n",
       "      <td>31765.062853</td>\n",
       "      <td>33402.106770</td>\n",
       "    </tr>\n",
       "    <tr>\n",
       "      <th>4</th>\n",
       "      <td>28712.213560</td>\n",
       "      <td>29187.541723</td>\n",
       "      <td>28973.723138</td>\n",
       "      <td>29356.469524</td>\n",
       "    </tr>\n",
       "  </tbody>\n",
       "</table>\n",
       "</div>"
      ],
      "text/plain": [
       "   CatBoost9_preds  CatBoost18_preds  LightGBM5_preds  LightGBM6_preds\n",
       "0     17501.813485      16895.231411     16852.724351     16901.960186\n",
       "1     80169.706233      79046.194652     80879.492535     82545.374389\n",
       "2     53371.576238      57597.742487     54045.232394     55073.505298\n",
       "3     32236.643200      29303.107174     31765.062853     33402.106770\n",
       "4     28712.213560      29187.541723     28973.723138     29356.469524"
      ]
     },
     "execution_count": 58,
     "metadata": {},
     "output_type": "execute_result"
    }
   ],
   "source": [
    "df_test_preds.head(5)"
   ]
  },
  {
   "cell_type": "code",
   "execution_count": 59,
   "metadata": {},
   "outputs": [],
   "source": [
    "def rmse_func(weights, oof_preds, target):\n",
    "    pred = (oof_preds * weights).sum(axis=1)\n",
    "    rmse = np.sqrt(1 / len(pred) * ((target - pred)**2).sum())\n",
    "    return rmse"
   ]
  },
  {
   "cell_type": "code",
   "execution_count": 60,
   "metadata": {},
   "outputs": [
    {
     "data": {
      "text/plain": [
       "array([0.25, 0.25, 0.25, 0.25])"
      ]
     },
     "execution_count": 60,
     "metadata": {},
     "output_type": "execute_result"
    }
   ],
   "source": [
    "# Start by giving equal weight to each model\n",
    "n_models = len(base_model_names)\n",
    "initial_weights = np.ones(n_models) / n_models\n",
    "initial_weights"
   ]
  },
  {
   "cell_type": "code",
   "execution_count": 61,
   "metadata": {},
   "outputs": [],
   "source": [
    "from scipy.optimize import minimize\n",
    "\n",
    "# We want to find the set of weights that maximizes the accuracy. We start with the initial weights.\n",
    "target = df_oof_preds[Config.TARGET_COL_NAME]\n",
    "res = minimize(rmse_func, initial_weights, args=(df_oof_preds[pred_cols].to_numpy(), target), method='Nelder-Mead')\n",
    "model_weights = res[\"x\"]\n",
    "rmse = res[\"fun\"]"
   ]
  },
  {
   "cell_type": "code",
   "execution_count": 62,
   "metadata": {},
   "outputs": [],
   "source": [
    "def optimize_weights(oof_preds, target, initial_weights):\n",
    "    n_models = len(initial_weights)\n",
    "    \n",
    "    # Define a constraint to ensure the sum of weights is 1\n",
    "    def weight_sum_constraint(weights):\n",
    "        return np.sum(weights) - 1.0\n",
    "\n",
    "    # Use the squared weights to ensure non-negativity\n",
    "    def objective(squared_weights):\n",
    "        weights = squared_weights**2\n",
    "        weights /= np.sum(weights)  # Normalize to sum to 1\n",
    "        return rmse_func(weights, oof_preds, target)\n",
    "\n",
    "    # Optimize using SLSQP method which supports constraints\n",
    "    res = minimize(\n",
    "        objective,\n",
    "        np.sqrt(initial_weights),  # Use square root of initial weights\n",
    "        method='SLSQP',\n",
    "        # constraints is a list of dictionaries each with keys 'type' and 'fun'\n",
    "        # type can be 'eq' for equality or 'ineq' for inequality\n",
    "        # Equality constraint means that the constraint function result is to be zero whereas \n",
    "        # inequality means that it is to be non-negative\n",
    "        constraints={'type': 'eq', 'fun': lambda w: np.sum(w**2) - 1},\n",
    "        options={'ftol': 1e-9, 'disp': True}\n",
    "    )\n",
    "\n",
    "    # Square the optimized weights and normalize\n",
    "    optimized_weights = res.x**2\n",
    "    optimized_weights /= np.sum(optimized_weights)\n",
    "    \n",
    "    return optimized_weights, res.fun"
   ]
  },
  {
   "cell_type": "code",
   "execution_count": 63,
   "metadata": {},
   "outputs": [
    {
     "name": "stdout",
     "output_type": "stream",
     "text": [
      "Optimization terminated successfully    (Exit mode 0)\n",
      "            Current function value: 71810.0557570048\n",
      "            Iterations: 30\n",
      "            Function evaluations: 182\n",
      "            Gradient evaluations: 30\n",
      "Optimal Model Weights: [5.60008874e-13 3.07583384e-13 9.92593700e-02 9.00740630e-01]\n",
      "Optimal RMSE: 71810.0557570048\n"
     ]
    }
   ],
   "source": [
    "# Example usage\n",
    "n_models = len(base_model_names)\n",
    "initial_weights = np.ones(n_models) / n_models\n",
    "target = df_oof_preds[Config.TARGET_COL_NAME]\n",
    "\n",
    "model_weights, rmse = optimize_weights(df_oof_preds[pred_cols].to_numpy(), target, initial_weights)\n",
    "\n",
    "print(\"Optimal Model Weights:\", model_weights)\n",
    "print(\"Optimal RMSE:\", rmse)"
   ]
  },
  {
   "cell_type": "code",
   "execution_count": 65,
   "metadata": {},
   "outputs": [],
   "source": [
    "df_test_preds[\"ensemble_preds\"] = df_test_preds.apply(lambda x: np.average(x, weights=model_weights), axis=1)"
   ]
  },
  {
   "cell_type": "code",
   "execution_count": 66,
   "metadata": {},
   "outputs": [
    {
     "data": {
      "text/html": [
       "<div>\n",
       "<style scoped>\n",
       "    .dataframe tbody tr th:only-of-type {\n",
       "        vertical-align: middle;\n",
       "    }\n",
       "\n",
       "    .dataframe tbody tr th {\n",
       "        vertical-align: top;\n",
       "    }\n",
       "\n",
       "    .dataframe thead th {\n",
       "        text-align: right;\n",
       "    }\n",
       "</style>\n",
       "<table border=\"1\" class=\"dataframe\">\n",
       "  <thead>\n",
       "    <tr style=\"text-align: right;\">\n",
       "      <th></th>\n",
       "      <th>CatBoost9_preds</th>\n",
       "      <th>CatBoost18_preds</th>\n",
       "      <th>LightGBM5_preds</th>\n",
       "      <th>LightGBM6_preds</th>\n",
       "      <th>ensemble_preds</th>\n",
       "    </tr>\n",
       "  </thead>\n",
       "  <tbody>\n",
       "    <tr>\n",
       "      <th>0</th>\n",
       "      <td>17501.813485</td>\n",
       "      <td>16895.231411</td>\n",
       "      <td>16852.724351</td>\n",
       "      <td>16901.960186</td>\n",
       "      <td>16897.073068</td>\n",
       "    </tr>\n",
       "    <tr>\n",
       "      <th>1</th>\n",
       "      <td>80169.706233</td>\n",
       "      <td>79046.194652</td>\n",
       "      <td>80879.492535</td>\n",
       "      <td>82545.374389</td>\n",
       "      <td>82380.020005</td>\n",
       "    </tr>\n",
       "    <tr>\n",
       "      <th>2</th>\n",
       "      <td>53371.576238</td>\n",
       "      <td>57597.742487</td>\n",
       "      <td>54045.232394</td>\n",
       "      <td>55073.505298</td>\n",
       "      <td>54971.439578</td>\n",
       "    </tr>\n",
       "    <tr>\n",
       "      <th>3</th>\n",
       "      <td>32236.643200</td>\n",
       "      <td>29303.107174</td>\n",
       "      <td>31765.062853</td>\n",
       "      <td>33402.106770</td>\n",
       "      <td>33239.614822</td>\n",
       "    </tr>\n",
       "    <tr>\n",
       "      <th>4</th>\n",
       "      <td>28712.213560</td>\n",
       "      <td>29187.541723</td>\n",
       "      <td>28973.723138</td>\n",
       "      <td>29356.469524</td>\n",
       "      <td>29318.478359</td>\n",
       "    </tr>\n",
       "  </tbody>\n",
       "</table>\n",
       "</div>"
      ],
      "text/plain": [
       "   CatBoost9_preds  CatBoost18_preds  LightGBM5_preds  LightGBM6_preds  \\\n",
       "0     17501.813485      16895.231411     16852.724351     16901.960186   \n",
       "1     80169.706233      79046.194652     80879.492535     82545.374389   \n",
       "2     53371.576238      57597.742487     54045.232394     55073.505298   \n",
       "3     32236.643200      29303.107174     31765.062853     33402.106770   \n",
       "4     28712.213560      29187.541723     28973.723138     29356.469524   \n",
       "\n",
       "   ensemble_preds  \n",
       "0    16897.073068  \n",
       "1    82380.020005  \n",
       "2    54971.439578  \n",
       "3    33239.614822  \n",
       "4    29318.478359  "
      ]
     },
     "execution_count": 66,
     "metadata": {},
     "output_type": "execute_result"
    }
   ],
   "source": [
    "df_test_preds.head(5)"
   ]
  },
  {
   "cell_type": "code",
   "execution_count": 68,
   "metadata": {},
   "outputs": [
    {
     "data": {
      "text/html": [
       "<div>\n",
       "<style scoped>\n",
       "    .dataframe tbody tr th:only-of-type {\n",
       "        vertical-align: middle;\n",
       "    }\n",
       "\n",
       "    .dataframe tbody tr th {\n",
       "        vertical-align: top;\n",
       "    }\n",
       "\n",
       "    .dataframe thead th {\n",
       "        text-align: right;\n",
       "    }\n",
       "</style>\n",
       "<table border=\"1\" class=\"dataframe\">\n",
       "  <thead>\n",
       "    <tr style=\"text-align: right;\">\n",
       "      <th></th>\n",
       "      <th>id</th>\n",
       "      <th>price</th>\n",
       "    </tr>\n",
       "  </thead>\n",
       "  <tbody>\n",
       "    <tr>\n",
       "      <th>0</th>\n",
       "      <td>188533</td>\n",
       "      <td>16897.073068</td>\n",
       "    </tr>\n",
       "    <tr>\n",
       "      <th>1</th>\n",
       "      <td>188534</td>\n",
       "      <td>82380.020005</td>\n",
       "    </tr>\n",
       "    <tr>\n",
       "      <th>2</th>\n",
       "      <td>188535</td>\n",
       "      <td>54971.439578</td>\n",
       "    </tr>\n",
       "    <tr>\n",
       "      <th>3</th>\n",
       "      <td>188536</td>\n",
       "      <td>33239.614822</td>\n",
       "    </tr>\n",
       "    <tr>\n",
       "      <th>4</th>\n",
       "      <td>188537</td>\n",
       "      <td>29318.478359</td>\n",
       "    </tr>\n",
       "  </tbody>\n",
       "</table>\n",
       "</div>"
      ],
      "text/plain": [
       "       id         price\n",
       "0  188533  16897.073068\n",
       "1  188534  82380.020005\n",
       "2  188535  54971.439578\n",
       "3  188536  33239.614822\n",
       "4  188537  29318.478359"
      ]
     },
     "execution_count": 68,
     "metadata": {},
     "output_type": "execute_result"
    }
   ],
   "source": [
    "df_submission[Config.TARGET_COL_NAME]= df_test_preds[\"ensemble_preds\"]\n",
    "df_submission.to_csv(\"./output/\" + f'submission_ensemble.csv',index=False)\n",
    "df_submission.head()"
   ]
  },
  {
   "cell_type": "code",
   "execution_count": 64,
   "metadata": {},
   "outputs": [
    {
     "name": "stdout",
     "output_type": "stream",
     "text": [
      "Optimal Model Weights: [5.60008874e-13 3.07583384e-13 9.92593700e-02 9.00740630e-01]\n",
      "Optimal RMSE: 71810.0557570048\n"
     ]
    }
   ],
   "source": [
    "model_weights_normalized = model_weights / np.sum(model_weights)\n",
    "print(\"Optimal Model Weights:\", model_weights_normalized)\n",
    "print(\"Optimal RMSE:\", rmse)"
   ]
  },
  {
   "cell_type": "code",
   "execution_count": 46,
   "metadata": {},
   "outputs": [],
   "source": [
    "# select the top 188533 rows from df_oof_preds\n",
    "df_oof_preds = df_oof_preds.head(188533)"
   ]
  },
  {
   "cell_type": "code",
   "execution_count": 47,
   "metadata": {},
   "outputs": [],
   "source": [
    "df_oof_preds = cv_split_utils.kfold_dataframe(df_oof_preds, random_state=Config.RANDOM_SEED, num_folds=Config.NUM_FOLDS)"
   ]
  },
  {
   "cell_type": "code",
   "execution_count": 48,
   "metadata": {},
   "outputs": [
    {
     "name": "stdout",
     "output_type": "stream",
     "text": [
      "Fold 0 - L2_Ridge - RMSE : 71369.28607852732\n",
      "Fold 1 - L2_Ridge - RMSE : 63752.668240812796\n",
      "Fold 2 - L2_Ridge - RMSE : 74914.7688797453\n",
      "Fold 3 - L2_Ridge - RMSE : 78903.57869638012\n",
      "Fold 4 - L2_Ridge - RMSE : 73033.09179107365\n",
      "L2_Ridge metric=RMSE CV score = 72566.90743360888\n",
      "L2_Ridge Mean RMSE = 72394.67873730783, std = 4997.198810466754\n"
     ]
    }
   ],
   "source": [
    "fold_metrics_model, df_oof_preds_l2, preprocessor = tt.train_and_validate(\n",
    "        model_name=Config.MODEL_TYPE,\n",
    "        model_params=None,\n",
    "        preprocessor=None,\n",
    "        df=df_oof_preds,\n",
    "        feature_cols=pred_cols,\n",
    "        target_col_name=\"price\",\n",
    "        metric=Config.METRIC,\n",
    "        single_fold=Config.TRAIN_SINGLE_FOLD,\n",
    "        num_folds=Config.NUM_FOLDS\n",
    ")"
   ]
  },
  {
   "cell_type": "code",
   "execution_count": 49,
   "metadata": {},
   "outputs": [],
   "source": [
    "df_fold_test_preds = tt.get_test_preds(fold_metrics_model, df_test_preds, pred_cols, preprocessor=None, num_folds=Config.NUM_FOLDS)"
   ]
  },
  {
   "cell_type": "code",
   "execution_count": 50,
   "metadata": {},
   "outputs": [
    {
     "data": {
      "text/html": [
       "<div>\n",
       "<style scoped>\n",
       "    .dataframe tbody tr th:only-of-type {\n",
       "        vertical-align: middle;\n",
       "    }\n",
       "\n",
       "    .dataframe tbody tr th {\n",
       "        vertical-align: top;\n",
       "    }\n",
       "\n",
       "    .dataframe thead th {\n",
       "        text-align: right;\n",
       "    }\n",
       "</style>\n",
       "<table border=\"1\" class=\"dataframe\">\n",
       "  <thead>\n",
       "    <tr style=\"text-align: right;\">\n",
       "      <th></th>\n",
       "      <th>id</th>\n",
       "      <th>price</th>\n",
       "    </tr>\n",
       "  </thead>\n",
       "  <tbody>\n",
       "    <tr>\n",
       "      <th>0</th>\n",
       "      <td>188533</td>\n",
       "      <td>16461.518631</td>\n",
       "    </tr>\n",
       "    <tr>\n",
       "      <th>1</th>\n",
       "      <td>188534</td>\n",
       "      <td>83740.449933</td>\n",
       "    </tr>\n",
       "    <tr>\n",
       "      <th>2</th>\n",
       "      <td>188535</td>\n",
       "      <td>55579.901303</td>\n",
       "    </tr>\n",
       "    <tr>\n",
       "      <th>3</th>\n",
       "      <td>188536</td>\n",
       "      <td>33247.332693</td>\n",
       "    </tr>\n",
       "    <tr>\n",
       "      <th>4</th>\n",
       "      <td>188537</td>\n",
       "      <td>29222.054510</td>\n",
       "    </tr>\n",
       "  </tbody>\n",
       "</table>\n",
       "</div>"
      ],
      "text/plain": [
       "       id         price\n",
       "0  188533  16461.518631\n",
       "1  188534  83740.449933\n",
       "2  188535  55579.901303\n",
       "3  188536  33247.332693\n",
       "4  188537  29222.054510"
      ]
     },
     "execution_count": 50,
     "metadata": {},
     "output_type": "execute_result"
    }
   ],
   "source": [
    "df_submission[Config.TARGET_COL_NAME]= df_fold_test_preds[\"test_preds\"]\n",
    "df_submission.to_csv(\"./output/\" + f'submission_{Config.MODEL_TYPE}.csv',index=False)\n",
    "df_fold_test_preds.to_csv(\"./output/\" + f'{Config.MODEL_TYPE}_test_preds.csv',index=False)\n",
    "df_submission.head()"
   ]
  }
 ],
 "metadata": {
  "kernelspec": {
   "display_name": "ml_env",
   "language": "python",
   "name": "python3"
  },
  "language_info": {
   "codemirror_mode": {
    "name": "ipython",
    "version": 3
   },
   "file_extension": ".py",
   "mimetype": "text/x-python",
   "name": "python",
   "nbconvert_exporter": "python",
   "pygments_lexer": "ipython3",
   "version": "3.11.9"
  }
 },
 "nbformat": 4,
 "nbformat_minor": 2
}
