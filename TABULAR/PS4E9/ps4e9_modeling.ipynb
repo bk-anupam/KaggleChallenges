{
 "cells": [
  {
   "cell_type": "code",
   "execution_count": 1,
   "metadata": {},
   "outputs": [],
   "source": [
    "import sys\n",
    "import os\n",
    "import numpy as np\n",
    "import pandas as pd\n",
    "import seaborn as sns\n",
    "import matplotlib.pyplot as plt\n",
    "import optuna\n",
    "import statistics\n",
    "import re\n",
    "from sklearn.preprocessing import StandardScaler, OneHotEncoder, LabelEncoder, TargetEncoder\n",
    "from sklearn.impute import SimpleImputer\n",
    "from sklearn.compose import ColumnTransformer\n",
    "from sklearn.feature_selection import SelectFromModel, SequentialFeatureSelector\n",
    "from functools import partial\n",
    "import warnings\n",
    "\n",
    "warnings.filterwarnings('ignore')\n"
   ]
  },
  {
   "cell_type": "code",
   "execution_count": 2,
   "metadata": {},
   "outputs": [],
   "source": [
    "sys.path.append(os.path.abspath(\"/home/bk_anupam/code/ML/ML_UTILS/\"))"
   ]
  },
  {
   "cell_type": "code",
   "execution_count": 3,
   "metadata": {},
   "outputs": [],
   "source": [
    "import train_tabular_utils as tt\n",
    "import cv_split_utils\n",
    "import enums\n",
    "import data_utils"
   ]
  },
  {
   "cell_type": "code",
   "execution_count": 4,
   "metadata": {},
   "outputs": [],
   "source": [
    "class Config:\n",
    "    RUN_MODE = \"LOCAL\"\n",
    "    RANDOM_SEED = 42\n",
    "    NUM_FOLDS = 5\n",
    "    TARGET_COL_NAME = \"price\"        \n",
    "    SCALER = enums.Scaler.StandardScaler\n",
    "    METRIC = enums.Metrics.RMSE\n",
    "    # These values are more dynamic   \n",
    "    MODEL_TYPE = enums.ModelName.CatBoost\n",
    "    NUM_TUNING_TRIALS = 25\n",
    "    TUNE_ON_SINGLE_FOLD = True\n",
    "    TRAIN_SINGLE_FOLD = True    \n",
    "    PERSIST_MODEL = False    \n",
    "    USE_MANUAL_FEATURES = True\n",
    "    USE_ORIGINAL_DATA = False    \n",
    "    FEATURE_SELECTION_METHOD = None\n",
    "    NUM_CLASSES = None\n",
    "\n",
    "COLS_TO_LEAVE = [\"id\", \"price\", \"kfold\", \"transmission_speed\"]\n",
    "CPU_COUNT = os.cpu_count()\n",
    "\n",
    "DATA_READPATH = \"./data/\"\n",
    "DATA_WRITEPATH = \"./output/\"\n",
    "SUBMISSION_FILEPATH = DATA_READPATH\n",
    "if Config.RUN_MODE == \"KAGGLE\":    \n",
    "    DATA_READPATH = \"/kaggle/input/playground-series-s4e6/\"\n",
    "    if Config.USE_OPENFE_FEATURES:\n",
    "        DATA_READPATH = \"/kaggle/input/ps4e6-openfe/\"\n",
    "    SUBMISSION_FILEPATH = \"/kaggle/input/playground-series-s4e6/\"\n",
    "    DATA_WRITEPATH = \"/kaggle/working/\""
   ]
  },
  {
   "cell_type": "code",
   "execution_count": 5,
   "metadata": {},
   "outputs": [],
   "source": [
    "model_static_params = {\n",
    "    enums.ModelName.XGBoost: {\n",
    "        \"objective\": \"reg:squarederror\",\n",
    "        \"eval_metric\": \"rmse\",\n",
    "        \"seed\": Config.RANDOM_SEED,\n",
    "        \"verbosity\": 0,\n",
    "    },\n",
    "    enums.ModelName.LGBM: {\n",
    "        \"objective\": \"root_mean_squared_error\",\n",
    "        \"metric\": 'rmse',\n",
    "        \"verbosity\": -1,    # <0: fatal, =0: error (warn), =1: info, >1: debug\n",
    "        \"boosting_type\": \"gbdt\"\n",
    "    },\n",
    "    enums.ModelName.CatBoost: {\n",
    "        \"objective\": \"RMSE\",\n",
    "        \"verbose\": 0,\n",
    "        \"random_seed\": Config.RANDOM_SEED,\n",
    "        \"eval_metric\": \"RMSE\",\n",
    "        'grow_policy':  'Lossguide',\n",
    "        #'bootstrap_type': 'Poisson',\n",
    "        'task_type': 'CPU'\n",
    "    },\n",
    "    enums.ModelName.RandomForest: {\n",
    "        \"random_state\": Config.RANDOM_SEED,\n",
    "        \"n_jobs\": -1\n",
    "    }\n",
    "}"
   ]
  },
  {
   "cell_type": "code",
   "execution_count": 6,
   "metadata": {},
   "outputs": [],
   "source": [
    "# For RandomForest\n",
    "# tuned_model_params = {'n_estimators': 1300, 'max_depth': 17, 'min_samples_leaf': 3, 'min_samples_split': 3, 'max_features': 'sqrt'}\n",
    "# For CatBoost\n",
    "# tuned_model_params = {\n",
    "#     'iterations': 1500,\n",
    "#     'depth': 5,\n",
    "#     'learning_rate': 0.05602656173812734,\n",
    "#     'l2_leaf_reg': 3.96021970280269,\n",
    "#     'bagging_temperature': 8.793196499678535,\n",
    "#     'border_count': 185,\n",
    "#     'loss_function': 'RMSE',\n",
    "#     'eval_metric': 'RMSE',\n",
    "# }\n",
    "# For XGBoost\n",
    "# tuned_model_params = {'n_estimators': 1400, 'learning_rate': 0.10270166896064774, 'max_depth': 30, 'min_child_weight': 7, 'gamma': 4.123490349502186, 'subsample': 0.5067185283456936, 'colsample_bytree': 0.7289930512882908, 'reg_alpha': 0.5971832077526927, 'reg_lambda': 9.433125479981229, 'early_stopping_rounds': 260}\n",
    "# For LGBM\n",
    "# tuned_model_params = {'learning_rate': 0.050431114227825063, 'n_estimators': 1500, 'max_depth': 6, 'min_data_in_leaf': 92, 'min_child_weight': 6, 'num_leaves': 428, 'reg_lambda': 130.60718838770154, 'early_stopping_rounds': 365, 'subsample': 0.8586720764925466, 'colsample_bytree': 0.5962542688745494, 'reg_alpha': 0.5737569015209647}\n",
    "\n",
    "tuned_model_params = None"
   ]
  },
  {
   "cell_type": "code",
   "execution_count": 7,
   "metadata": {},
   "outputs": [],
   "source": [
    "if Config.USE_MANUAL_FEATURES:\n",
    "    df_train = pd.read_csv(DATA_READPATH + \"train_preprocessed.csv\")\n",
    "    df_test = pd.read_csv(DATA_READPATH + \"test_preprocessed.csv\")\n",
    "else:\n",
    "    df_train = pd.read_csv(DATA_READPATH + \"train.csv\")\n",
    "    df_test = pd.read_csv(DATA_READPATH + \"test.csv\")\n",
    "# keep a copy of original train and test data for later use\n",
    "df_train_orig = df_train.copy()\n",
    "df_test_orig = df_test.copy()"
   ]
  },
  {
   "cell_type": "code",
   "execution_count": 8,
   "metadata": {},
   "outputs": [],
   "source": [
    "df_train = cv_split_utils.kfold_dataframe(df_train, random_state=Config.RANDOM_SEED, num_folds=Config.NUM_FOLDS)"
   ]
  },
  {
   "cell_type": "code",
   "execution_count": 9,
   "metadata": {},
   "outputs": [],
   "source": [
    "imputation_config = None\n",
    "if Config.USE_MANUAL_FEATURES:\n",
    "    # Define imputation configuration\n",
    "    imputation_config = {\n",
    "        'horsepower': SimpleImputer(strategy='median'),\n",
    "        'capacity': SimpleImputer(strategy='median'),\n",
    "        'cylinders': SimpleImputer(strategy='most_frequent')\n",
    "    }"
   ]
  },
  {
   "cell_type": "code",
   "execution_count": 10,
   "metadata": {},
   "outputs": [],
   "source": [
    "# for fold in range(Config.NUM_FOLDS):\n",
    "#     df_train_fold, df_val_fold = tt.get_fold_df(df_train, fold)    \n",
    "#     # Impute 'horsepower' with median\n",
    "#     horsepower_imputer = SimpleImputer(strategy='median')\n",
    "#     horsepower_imputer.fit(df_train_fold[['horsepower']])\n",
    "#     df_train_fold['horsepower'] = horsepower_imputer.transform(df_train_fold[['horsepower']])\n",
    "#     df_val_fold['horsepower'] = horsepower_imputer.transform(df_val_fold[['horsepower']])\n",
    "#     # Impute 'capacity' with median\n",
    "#     capacity_imputer = SimpleImputer(strategy='median')\n",
    "#     capacity_imputer.fit(df_train_fold[['capacity']])\n",
    "#     df_train_fold['capacity'] = capacity_imputer.transform(df_train_fold[['capacity']])\n",
    "#     df_val_fold['capacity'] = capacity_imputer.transform(df_val_fold[['capacity']])    \n",
    "#     # Impute 'cylinders' with median\n",
    "#     cylinders_imputer = SimpleImputer(strategy='most_frequent')\n",
    "#     cylinders_imputer.fit(df_train_fold[['cylinders']])\n",
    "#     df_train_fold['cylinders'] = cylinders_imputer.transform(df_train_fold[['cylinders']])\n",
    "#     df_val_fold['cylinders'] = cylinders_imputer.transform(df_val_fold[['cylinders']])"
   ]
  },
  {
   "cell_type": "code",
   "execution_count": 11,
   "metadata": {},
   "outputs": [],
   "source": [
    "# COLS_TO_LEAVE = COLS_TO_LEAVE + ['horsepower', 'fuel', 'engine', 'transmission', 'transmission_speed', 'capacity', 'cylinders']"
   ]
  },
  {
   "cell_type": "code",
   "execution_count": 12,
   "metadata": {},
   "outputs": [],
   "source": [
    "df_train.fillna({\"clean_title\": \"Unknown\", \"accident\": \"Unknown\", \"fuel_type\": \"Unknown\", \"fuel\": \"Unknown\"}, inplace=True)"
   ]
  },
  {
   "cell_type": "code",
   "execution_count": 13,
   "metadata": {},
   "outputs": [],
   "source": [
    "# do not include 'id' column in the list of int columns\n",
    "int_cols = [col for col in df_train.columns if df_train[col].dtypes == 'int64' and col not in COLS_TO_LEAVE]\n",
    "float_cols = [col for col in df_train.columns if df_train[col].dtypes == 'float64']\n",
    "bool_cols = [col for col in df_train.columns if df_train[col].dtypes == 'bool']\n",
    "cat_cols = [col for col in df_train.columns if df_train[col].dtypes == 'object' and col not in COLS_TO_LEAVE]\n",
    "feature_cols = [x for x in df_train.columns if x not in COLS_TO_LEAVE]"
   ]
  },
  {
   "cell_type": "code",
   "execution_count": 14,
   "metadata": {},
   "outputs": [
    {
     "name": "stdout",
     "output_type": "stream",
     "text": [
      "<class 'pandas.core.frame.DataFrame'>\n",
      "RangeIndex: 188533 entries, 0 to 188532\n",
      "Data columns (total 23 columns):\n",
      " #   Column              Non-Null Count   Dtype  \n",
      "---  ------              --------------   -----  \n",
      " 0   id                  188533 non-null  int64  \n",
      " 1   brand               188533 non-null  object \n",
      " 2   model               188533 non-null  object \n",
      " 3   model_year          188533 non-null  int64  \n",
      " 4   milage              188533 non-null  int64  \n",
      " 5   fuel_type           188533 non-null  object \n",
      " 6   engine              188533 non-null  object \n",
      " 7   transmission        188533 non-null  object \n",
      " 8   ext_col             188533 non-null  object \n",
      " 9   int_col             188533 non-null  object \n",
      " 10  accident            188533 non-null  object \n",
      " 11  clean_title         188533 non-null  object \n",
      " 12  price               188533 non-null  int64  \n",
      " 13  horsepower          155274 non-null  float64\n",
      " 14  capacity            181835 non-null  float64\n",
      " 15  cylinders           166770 non-null  float64\n",
      " 16  fuel                188533 non-null  object \n",
      " 17  turbo               188533 non-null  bool   \n",
      " 18  hybrid              188533 non-null  bool   \n",
      " 19  transmission_speed  104156 non-null  float64\n",
      " 20  transmission_type   188533 non-null  object \n",
      " 21  age                 188533 non-null  int64  \n",
      " 22  kfold               188533 non-null  int64  \n",
      "dtypes: bool(2), float64(4), int64(6), object(11)\n",
      "memory usage: 30.6+ MB\n"
     ]
    }
   ],
   "source": [
    "df_train.info()"
   ]
  },
  {
   "cell_type": "code",
   "execution_count": 15,
   "metadata": {},
   "outputs": [
    {
     "name": "stdout",
     "output_type": "stream",
     "text": [
      "['brand', 'model', 'model_year', 'milage', 'fuel_type', 'engine', 'transmission', 'ext_col', 'int_col', 'accident', 'clean_title', 'horsepower', 'capacity', 'cylinders', 'fuel', 'turbo', 'hybrid', 'transmission_type', 'age']\n",
      "['brand', 'model', 'fuel_type', 'engine', 'transmission', 'ext_col', 'int_col', 'accident', 'clean_title', 'fuel', 'transmission_type']\n"
     ]
    }
   ],
   "source": [
    "print(feature_cols)\n",
    "print(cat_cols)"
   ]
  },
  {
   "cell_type": "code",
   "execution_count": 16,
   "metadata": {},
   "outputs": [],
   "source": [
    "# Convert all categorical columns to string type\n",
    "df_train[cat_cols] = df_train[cat_cols].astype(str)\n",
    "#test_data[cat_cols] = test_data[cat_cols].astype(str)\n",
    "# Initialize LabelEncoder\n",
    "label_encoders = {col: LabelEncoder() for col in cat_cols}\n",
    "# initialize target encoder\n",
    "target_encoders = {col: TargetEncoder() for col in cat_cols}\n",
    "\n",
    "# Apply LabelEncoder to each categorical column\n",
    "for col in cat_cols:\n",
    "    # df_train[col] = label_encoders[col].fit_transform(df_train[col])\n",
    "    df_train[col] = label_encoders[col].fit_transform(df_train[col])\n",
    "    #test_data[col] = label_encoders[col].transform(test_data[col])"
   ]
  },
  {
   "cell_type": "code",
   "execution_count": 17,
   "metadata": {},
   "outputs": [],
   "source": [
    "# preprocessing\n",
    "preprocessor = None\n",
    "scaler = StandardScaler()\n",
    "# onehot_encoder = OneHotEncoder(sparse_output=False, handle_unknown=\"ignore\", categories=int_feature_categories)\n",
    "preprocessor = ColumnTransformer(\n",
    "    transformers=[                \n",
    "        (\"scaler\", scaler, int_cols+float_cols),\n",
    "        #(\"onehot\", onehot_encoder, int_features),                \n",
    "    ], remainder=\"passthrough\"\n",
    ")"
   ]
  },
  {
   "cell_type": "code",
   "execution_count": 18,
   "metadata": {},
   "outputs": [],
   "source": [
    "def get_model_tuning_params(trial, model_name):\n",
    "    if model_name == enums.ModelName.LogisticRegression:\n",
    "        penalty = ['l1', 'l2']\n",
    "        return {        \n",
    "            \"C\": trial.suggest_loguniform(\"C\", 1e-3, 100),\n",
    "            \"penalty\": trial.suggest_categorical(\"penalty\", penalty)\n",
    "        }    \n",
    "    if model_name == enums.ModelName.RandomForest:\n",
    "        return {        \n",
    "            \"n_estimators\": trial.suggest_int(\"n_estimators\", 200, 3000, step=100),\n",
    "            \"max_depth\": trial.suggest_int(\"max_depth\", 10, 30),\n",
    "            \"min_samples_leaf\": trial.suggest_int(\"min_samples_leaf\", 2, 16),\n",
    "            \"min_samples_split\": trial.suggest_int(\"min_samples_split\", 2, 16),\n",
    "            \"max_features\": trial.suggest_categorical(\"max_features\", [\"log2\", \"sqrt\", None])\n",
    "        }\n",
    "    if model_name == enums.ModelName.CatBoost:\n",
    "        return get_catboost_tuning_params(trial)\n",
    "    if model_name == enums.ModelName.XGBoost:\n",
    "        return get_xgb_tuning_params_level2(trial) \n",
    "    if model_name == enums.ModelName.LGBM:\n",
    "        return get_lgbm_tuning_params(trial)   "
   ]
  },
  {
   "cell_type": "code",
   "execution_count": 19,
   "metadata": {},
   "outputs": [],
   "source": [
    "def hyperparams_tuning_objective(trial, model_name, preprocessor, df,  \n",
    "                                 feature_cols, metric, target_col_name, single_fold=False, num_folds=5,\n",
    "                                 imputation_config=None):               \n",
    "    model_params = get_model_tuning_params(trial, model_name)    \n",
    "    fold_metrics_model, _, _ = tt.train_and_validate(\n",
    "                                        model_name=model_name,\n",
    "                                        model_params=model_params,\n",
    "                                        preprocessor=preprocessor,\n",
    "                                        df=df,\n",
    "                                        feature_cols=feature_cols,\n",
    "                                        target_col_name=target_col_name,\n",
    "                                        metric=metric,\n",
    "                                        single_fold=single_fold,\n",
    "                                        num_folds=num_folds,\n",
    "                                        suppress_print=True,\n",
    "                                        imputation_config=imputation_config\n",
    "                                    )\n",
    "    fold_metrics = [x[0] for x in fold_metrics_model]\n",
    "    mean_metric = statistics.mean(fold_metrics)                \n",
    "    return mean_metric"
   ]
  },
  {
   "cell_type": "code",
   "execution_count": 20,
   "metadata": {},
   "outputs": [],
   "source": [
    "def tune_model_params(study_name, study_direction, num_trials, model_name, \n",
    "                      preprocessor, df,  feature_cols, metric, target_col_name, \n",
    "                      single_fold=False, num_folds=5, imputation_config=None):\n",
    "    model_params_tuning_obj_partial = partial(\n",
    "        hyperparams_tuning_objective,\n",
    "        model_name=model_name,        \n",
    "        preprocessor=preprocessor,        \n",
    "        df=df,\n",
    "        feature_cols=feature_cols,\n",
    "        metric=metric,\n",
    "        target_col_name=target_col_name,\n",
    "        single_fold=single_fold,\n",
    "        num_folds=num_folds,\n",
    "        imputation_config=imputation_config\n",
    "    )\n",
    "    study = optuna.create_study(direction=study_direction, study_name=study_name)\n",
    "    study.optimize(model_params_tuning_obj_partial, n_trials=num_trials)\n",
    "    best_trial = study.best_trial\n",
    "    print(f\"Best trial: number = {best_trial.number}, value = {best_trial.value}, params = {best_trial.params}\")\n",
    "    return best_trial.params"
   ]
  },
  {
   "cell_type": "code",
   "execution_count": 21,
   "metadata": {},
   "outputs": [],
   "source": [
    "# if tuned_model_params is None:\n",
    "#     #df = df_train.sample(frac=0.1, random_state=Config.RANDOM_SEED)\n",
    "#     tuned_model_params = tune_model_params(\n",
    "#                             study_name=Config.MODEL_TYPE + \"_ModelTuning\", \n",
    "#                             study_direction=\"maximize\",\n",
    "#                             num_trials=Config.NUM_TUNING_TRIALS,\n",
    "#                             model_name=Config.MODEL_TYPE,\n",
    "#                             preprocessor=preprocessor,\n",
    "#                             df=df_train,\n",
    "#                             feature_cols=feature_cols,\n",
    "#                             metric=Config.METRIC,\n",
    "#                             target_col_name=Config.TARGET_COL_NAME,\n",
    "#                             single_fold=Config.TUNE_ON_SINGLE_FOLD,\n",
    "#                             num_folds=Config.NUM_FOLDS,\n",
    "#                             imputation_config=imputation_config\n",
    "#                     )"
   ]
  },
  {
   "cell_type": "code",
   "execution_count": 22,
   "metadata": {},
   "outputs": [
    {
     "name": "stdout",
     "output_type": "stream",
     "text": [
      "{'objective': 'RMSE', 'verbose': 0, 'random_seed': 42, 'eval_metric': 'RMSE', 'grow_policy': 'Lossguide', 'task_type': 'CPU'}\n"
     ]
    }
   ],
   "source": [
    "model_params = None\n",
    "params_static = model_static_params.get(Config.MODEL_TYPE)\n",
    "if tuned_model_params is not None:\n",
    "    model_params = {**params_static, **tuned_model_params}\n",
    "else:\n",
    "    model_params = params_static\n",
    "\n",
    "print(model_params)    "
   ]
  },
  {
   "cell_type": "code",
   "execution_count": 23,
   "metadata": {},
   "outputs": [],
   "source": [
    "# # Calculate the correlation matrix\n",
    "# correlation_matrix = df_train[feature_cols+[Config.TARGET_COL_NAME]].corr()\n",
    "\n",
    "# # Plot the heatmap\n",
    "# plt.figure(figsize=(12, 8))\n",
    "# sns.heatmap(correlation_matrix, annot=True, cmap='coolwarm', linewidths=0.5, vmin=-1, vmax=1)\n",
    "# plt.title('Feature Correlation Heatmap')\n",
    "# plt.tight_layout()\n",
    "# plt.show()"
   ]
  },
  {
   "cell_type": "code",
   "execution_count": 24,
   "metadata": {},
   "outputs": [],
   "source": [
    "# from contextlib import suppress\n",
    "# import catboost\n",
    "\n",
    "# preprocessor = None\n",
    "# df_oof_preds = pd.DataFrame()\n",
    "# fold_metrics_model = []\n",
    "# suppress_print = False    \n",
    "# for fold in range(Config.NUM_FOLDS):\n",
    "#     fold_model = tt.get_model(model_name=Config.MODEL_TYPE, params=model_params, metric=Config.METRIC)\n",
    "#     df_train_fold, df_val_fold = tt.get_fold_df(df_train, fold)\n",
    "#     if imputation_config is not None:\n",
    "#         tt.impute_missing_values(df_train_fold, df_val_fold, imputation_config)\n",
    "#     train_X, train_y, val_X, val_y = tt.get_train_val_nparray(df_train_fold, df_val_fold, feature_cols, Config.TARGET_COL_NAME)\n",
    "#     # we let catboost perform scaling and categorical encoding, so no preprocessing needed\n",
    "#     if preprocessor is not None:\n",
    "#         train_X = preprocessor.fit_transform(train_X)\n",
    "#         val_X = preprocessor.transform(val_X)\n",
    "#     # Create Pool objects for train and validation data\n",
    "#     train_pool = catboost.Pool(data=train_X, label=train_y, cat_features=cat_cols)\n",
    "#     val_pool = catboost.Pool(data=val_X, label=val_y, cat_features=cat_cols)\n",
    "#     fold_model = catboost.CatBoostRegressor(**model_params, cat_features=cat_cols)\n",
    "#     verbose = model_params[\"verbose\"]\n",
    "#     fold_model.fit(X=train_pool, eval_set=val_pool, verbose=verbose)\n",
    "#     df_fold_val_preds = df_val_fold[['kfold', Config.TARGET_COL_NAME]]\n",
    "#     fold_val_metric, df_fold_val_preds = tt.get_fold_val_preds(fold_model, val_X, val_y, Config.METRIC, \n",
    "#                                                             df_fold_val_preds, num_classes=Config.NUM_CLASSES)\n",
    "#     if not suppress_print:        \n",
    "#         print(f\"Fold {fold} - {Config.MODEL_TYPE} - {Config.METRIC} : {fold_val_metric}\")                \n",
    "#     df_oof_preds = pd.concat([df_oof_preds, df_fold_val_preds], axis=0)\n",
    "#     fold_metrics_model.append((fold_val_metric, fold_model))\n",
    "#     if Config.TRAIN_SINGLE_FOLD:\n",
    "#         break\n",
    "# cv = tt.get_eval_metric(Config.METRIC, df_oof_preds[Config.TARGET_COL_NAME], df_oof_preds['oof_preds'] )\n",
    "# metrics = [item[0] for item in fold_metrics_model]\n",
    "# mean_metric, std_metric = tt.get_metric_stats(metrics)\n",
    "# if not suppress_print:    \n",
    "#     print(f\"{Config.MODEL_TYPE} metric={Config.METRIC} CV score = {cv}\")                "
   ]
  },
  {
   "cell_type": "code",
   "execution_count": 25,
   "metadata": {},
   "outputs": [
    {
     "name": "stdout",
     "output_type": "stream",
     "text": [
      "Fold 0 - CatBoost - RMSE : 76427.47669513333\n",
      "CatBoost metric=RMSE CV score = 76427.47669513333\n",
      "CatBoost Mean RMSE = 76427.47669513333, std = 0.0\n",
      "CPU times: user 5min 48s, sys: 45.4 s, total: 6min 34s\n",
      "Wall time: 1min 5s\n"
     ]
    }
   ],
   "source": [
    "%%time\n",
    "fold_metrics_model, df_oof_preds, preprocessor = tt.train_and_validate(\n",
    "        model_name=Config.MODEL_TYPE,\n",
    "        model_params=model_params,\n",
    "        preprocessor=None,\n",
    "        df=df_train,\n",
    "        feature_cols=feature_cols,\n",
    "        target_col_name=Config.TARGET_COL_NAME,\n",
    "        metric=Config.METRIC,\n",
    "        single_fold=Config.TRAIN_SINGLE_FOLD,\n",
    "        num_folds=Config.NUM_FOLDS,\n",
    "        suppress_print=False,\n",
    "        imputation_config=imputation_config,\n",
    "        cat_features=cat_cols\n",
    ")"
   ]
  },
  {
   "cell_type": "code",
   "execution_count": 26,
   "metadata": {},
   "outputs": [
    {
     "data": {
      "image/png": "[encoded data removed]",
      "text/plain": [
       "<Figure size 1000x600 with 1 Axes>"
      ]
     },
     "metadata": {},
     "output_type": "display_data"
    }
   ],
   "source": [
    "# Get feature importance\n",
    "model = fold_metrics_model[0][1]\n",
    "# Create a DataFrame for visualization\n",
    "df_feature_imp = pd.DataFrame({\n",
    "    'f_name': feature_cols,\n",
    "    'f_imp': model.get_feature_importance()\n",
    "})\n",
    "# Sort the DataFrame by importance\n",
    "df_feature_imp = df_feature_imp.sort_values(by='f_imp', ascending=False)\n",
    "#data_utils.plot_feature_importance(df_feature_imp)\n",
    "# Plot the feature importance\n",
    "plt.figure(figsize=(10, 6))\n",
    "plt.barh(df_feature_imp['f_name'], df_feature_imp['f_imp'], color='skyblue')\n",
    "plt.xlabel('Importance')\n",
    "plt.title('CatBoost Feature Importance')\n",
    "plt.gca().invert_yaxis()  # Invert y-axis to show the most important feature at the top\n",
    "plt.show()\n"
   ]
  }
 ],
 "metadata": {
  "kernelspec": {
   "display_name": "ml_env",
   "language": "python",
   "name": "python3"
  },
  "language_info": {
   "codemirror_mode": {
    "name": "ipython",
    "version": 3
   },
   "file_extension": ".py",
   "mimetype": "text/x-python",
   "name": "python",
   "nbconvert_exporter": "python",
   "pygments_lexer": "ipython3",
   "version": "3.11.9"
  }
 },
 "nbformat": 4,
 "nbformat_minor": 2
}
