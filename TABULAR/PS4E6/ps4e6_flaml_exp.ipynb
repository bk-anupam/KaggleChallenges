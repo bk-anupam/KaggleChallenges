{
 "cells": [
  {
   "cell_type": "code",
   "execution_count": null,
   "metadata": {},
   "outputs": [],
   "source": [
    "#!pip install flaml"
   ]
  },
  {
   "cell_type": "code",
   "execution_count": null,
   "metadata": {},
   "outputs": [],
   "source": [
    "#!pip install ucimlrepo"
   ]
  },
  {
   "cell_type": "code",
   "execution_count": 23,
   "metadata": {},
   "outputs": [],
   "source": [
    "import sys\n",
    "import os\n",
    "import numpy as np\n",
    "import pandas as pd\n",
    "import seaborn as sns\n",
    "import matplotlib.pyplot as plt\n",
    "import optuna\n",
    "import statistics\n",
    "import re\n",
    "from sklearn.preprocessing import StandardScaler, OneHotEncoder, LabelEncoder\n",
    "from sklearn.compose import ColumnTransformer\n",
    "from sklearn.metrics import confusion_matrix, ConfusionMatrixDisplay, classification_report\n",
    "from sklearn.feature_selection import SelectFromModel, SequentialFeatureSelector\n",
    "from ucimlrepo import fetch_ucirepo\n",
    "from sklearn.utils import class_weight\n",
    "from functools import partial\n",
    "import warnings\n",
    "\n",
    "warnings.filterwarnings('ignore')\n"
   ]
  },
  {
   "cell_type": "code",
   "execution_count": 24,
   "metadata": {},
   "outputs": [],
   "source": [
    "sys.path.append(os.path.abspath(\"/home/bk_anupam/code/ML/ML_UTILS/\"))"
   ]
  },
  {
   "cell_type": "code",
   "execution_count": 25,
   "metadata": {},
   "outputs": [],
   "source": [
    "import train_tabular_utils as tt\n",
    "import cv_split_utils\n",
    "import enums\n",
    "import data_utils"
   ]
  },
  {
   "cell_type": "code",
   "execution_count": 26,
   "metadata": {},
   "outputs": [],
   "source": [
    "class Config:\n",
    "    RUN_MODE = \"LOCAL\"\n",
    "    RANDOM_SEED = 42\n",
    "    NUM_FOLDS = 5\n",
    "    TARGET_COL_NAME = \"Target\"        \n",
    "    SCALER = enums.Scaler.StandardScaler\n",
    "    METRIC = enums.Metrics.ACCURACY\n",
    "    # These values are more dynamic   \n",
    "    MODEL_TYPE = enums.ModelName.LGBM\n",
    "    NUM_TUNING_TRIALS = 25\n",
    "    TUNE_ON_SINGLE_FOLD = True\n",
    "    TRAIN_SINGLE_FOLD = False    \n",
    "    PERSIST_MODEL = False\n",
    "    USE_OPENFE_FEATURES = True\n",
    "    CREATE_MANUAL_FEATURES = False\n",
    "    USE_ORIGINAL_DATA = True\n",
    "    NUM_CLASSES = 3\n",
    "    FEATURE_SELECTION_METHOD = \"backward\"\n",
    "\n",
    "COLS_TO_LEAVE = [\"id\", \"Target\", \"kfold\"]\n",
    "CPU_COUNT = os.cpu_count()\n",
    "\n",
    "DATA_READPATH = \"./data/\"\n",
    "DATA_WRITEPATH = \"./output/\"\n",
    "SUBMISSION_FILEPATH = DATA_READPATH\n",
    "if Config.RUN_MODE == \"KAGGLE\":    \n",
    "    DATA_READPATH = \"/kaggle/input/playground-series-s4e6/\"\n",
    "    if Config.USE_OPENFE_FEATURES:\n",
    "        DATA_READPATH = \"/kaggle/input/ps4e6-openfe/\"\n",
    "    SUBMISSION_FILEPATH = \"/kaggle/input/playground-series-s4e6/\"\n",
    "    DATA_WRITEPATH = \"/kaggle/working/\""
   ]
  },
  {
   "cell_type": "code",
   "execution_count": 27,
   "metadata": {},
   "outputs": [],
   "source": [
    "# # fetch original dataset \n",
    "# predict_students_dropout_and_academic_success = fetch_ucirepo(id=697) \n",
    "# df_train_orig = predict_students_dropout_and_academic_success.data.features \n",
    "# df_train_orig[Config.TARGET_COL_NAME] = predict_students_dropout_and_academic_success.data.targets[Config.TARGET_COL_NAME]\n",
    "# # rename column 'Marital Status' to 'Marital status'\n",
    "# df_train_orig = df_train_orig.rename(columns={'Marital Status': 'Marital status'})"
   ]
  },
  {
   "cell_type": "code",
   "execution_count": 28,
   "metadata": {},
   "outputs": [
    {
     "name": "stdout",
     "output_type": "stream",
     "text": [
      "using generated openfe features on both train and original data\n"
     ]
    }
   ],
   "source": [
    "if Config.USE_OPENFE_FEATURES and not Config.USE_ORIGINAL_DATA:\n",
    "    print(\"using generated openfe features only on train data\")\n",
    "    df_train = pd.read_csv(DATA_READPATH + \"train_openfe.csv\")    \n",
    "    df_test = pd.read_csv(DATA_READPATH + \"test_openfe.csv\")\n",
    "elif Config.USE_OPENFE_FEATURES and Config.USE_ORIGINAL_DATA:\n",
    "    print(\"using generated openfe features on both train and original data\")\n",
    "    df_train = pd.read_csv(DATA_READPATH + \"train_orig_openfe.csv\")    \n",
    "    df_test = pd.read_csv(DATA_READPATH + \"test_orig_openfe.csv\")\n",
    "else:    \n",
    "    df_train = pd.read_csv(DATA_READPATH + \"train.csv\")\n",
    "    df_train = df_train.drop(\"id\", axis=1)    \n",
    "    df_test = pd.read_csv(DATA_READPATH + \"test.csv\")\n",
    "    df_test = df_test.drop(\"id\", axis=1)\n",
    "    if Config.USE_ORIGINAL_DATA:\n",
    "        # add df_train_orig rows to df_train\n",
    "        df_train = pd.concat([df_train, df_train_orig], axis=0, ignore_index=True)"
   ]
  },
  {
   "cell_type": "code",
   "execution_count": 29,
   "metadata": {},
   "outputs": [],
   "source": [
    "# # Label encoding of target values\n",
    "# le = LabelEncoder()\n",
    "# le.fit(df_train[Config.TARGET_COL_NAME])\n",
    "# df_train[Config.TARGET_COL_NAME] = le.transform(df_train[Config.TARGET_COL_NAME])\n",
    "# list(le.classes_)"
   ]
  },
  {
   "cell_type": "code",
   "execution_count": 30,
   "metadata": {},
   "outputs": [],
   "source": [
    "def process_col_name(cols_list):\n",
    "    processed_cols_list = []\n",
    "    for item in cols_list:\n",
    "        # Remove round brackets but keep the text inside them\n",
    "        item_no_brackets = re.sub(r'[\\(\\)]', '', item)\n",
    "        # Remove single quotes\n",
    "        item_no_quotes = item_no_brackets.replace(\"'\", \"\")\n",
    "        # Replace spaces with underscores\n",
    "        item_processed = item_no_quotes.replace(' ', '_')\n",
    "        # Append to the processed list\n",
    "        processed_cols_list.append(item_processed)\n",
    "    return processed_cols_list"
   ]
  },
  {
   "cell_type": "code",
   "execution_count": 31,
   "metadata": {},
   "outputs": [],
   "source": [
    "train_cols_list = df_train.columns.to_list()\n",
    "test_cols_list = df_test.columns.to_list()\n",
    "train_processed_cols_list = process_col_name(train_cols_list)\n",
    "test_processed_cols_list = process_col_name(test_cols_list)\n",
    "df_train.columns = train_processed_cols_list\n",
    "df_test.columns = test_processed_cols_list"
   ]
  },
  {
   "cell_type": "code",
   "execution_count": 32,
   "metadata": {},
   "outputs": [],
   "source": [
    "na_val = df_train.isna().sum()\n",
    "null_features = na_val.loc[na_val > 0].index.values.tolist()"
   ]
  },
  {
   "cell_type": "code",
   "execution_count": 33,
   "metadata": {},
   "outputs": [],
   "source": [
    "cat_features = ['Marital_status', 'Application_mode', 'Course', 'Daytime/evening_attendance', 'Previous_qualification',\n",
    "    'Nacionality', 'Mothers_qualification', 'Fathers_qualification', 'Mothers_occupation', 'Fathers_occupation', 'Displaced',\n",
    "    'Educational_special_needs', 'Debtor', 'Tuition_fees_up_to_date','Gender', 'Scholarship_holder', 'International']"
   ]
  },
  {
   "cell_type": "code",
   "execution_count": 34,
   "metadata": {},
   "outputs": [],
   "source": [
    "cont_features = [x for x in df_train.dtypes[df_train.dtypes == \"float\"].index.values if x not in null_features]\n",
    "int_features = [x for x in df_train.dtypes[df_train.dtypes == \"int\"].index.values if x not in COLS_TO_LEAVE+null_features]\n",
    "feature_cols_after_fe = [x for x in df_train.columns if x not in COLS_TO_LEAVE+null_features]"
   ]
  },
  {
   "cell_type": "code",
   "execution_count": 35,
   "metadata": {},
   "outputs": [],
   "source": [
    "# for categorical features find the categories to be used for one hot encoding\n",
    "int_feature_categories = []\n",
    "for int_feature in int_features:\n",
    "    int_feature_categories.append(sorted(df_train[int_feature].unique()))"
   ]
  },
  {
   "cell_type": "code",
   "execution_count": 36,
   "metadata": {},
   "outputs": [
    {
     "name": "stdout",
     "output_type": "stream",
     "text": [
      "len(feature_cols_after_fe)=68\n",
      "['Marital_status', 'Application_mode', 'Application_order', 'Course', 'Daytime/evening_attendance', 'Previous_qualification', 'Previous_qualification_grade', 'Nacionality', 'Mothers_qualification', 'Fathers_qualification', 'Mothers_occupation', 'Fathers_occupation', 'Admission_grade', 'Displaced', 'Educational_special_needs', 'Debtor', 'Tuition_fees_up_to_date', 'Gender', 'Scholarship_holder', 'Age_at_enrollment', 'International', 'Curricular_units_1st_sem_credited', 'Curricular_units_1st_sem_enrolled', 'Curricular_units_1st_sem_evaluations', 'Curricular_units_1st_sem_approved', 'Curricular_units_1st_sem_grade', 'Curricular_units_1st_sem_without_evaluations', 'Curricular_units_2nd_sem_credited', 'Curricular_units_2nd_sem_enrolled', 'Curricular_units_2nd_sem_evaluations', 'Curricular_units_2nd_sem_approved', 'Curricular_units_2nd_sem_grade', 'Curricular_units_2nd_sem_without_evaluations', 'Unemployment_rate', 'Inflation_rate', 'GDP', 'autoFE_f_0', 'autoFE_f_4', 'autoFE_f_8', 'autoFE_f_9', 'autoFE_f_11', 'autoFE_f_12', 'autoFE_f_14', 'autoFE_f_20', 'autoFE_f_21', 'autoFE_f_22', 'autoFE_f_24', 'autoFE_f_25', 'autoFE_f_26', 'autoFE_f_27', 'autoFE_f_28', 'autoFE_f_29', 'autoFE_f_30', 'autoFE_f_32', 'autoFE_f_33', 'autoFE_f_34', 'autoFE_f_35', 'autoFE_f_36', 'autoFE_f_38', 'autoFE_f_39', 'autoFE_f_40', 'autoFE_f_41', 'autoFE_f_43', 'autoFE_f_44', 'autoFE_f_45', 'autoFE_f_46', 'autoFE_f_48', 'autoFE_f_49']\n"
     ]
    }
   ],
   "source": [
    "print(f\"len(feature_cols_after_fe)={len(feature_cols_after_fe)}\")\n",
    "print(feature_cols_after_fe)"
   ]
  },
  {
   "cell_type": "code",
   "execution_count": 37,
   "metadata": {},
   "outputs": [],
   "source": [
    "X_train = df_train[feature_cols_after_fe]\n",
    "y_train = df_train[Config.TARGET_COL_NAME]\n",
    "X_test = df_test[feature_cols_after_fe]"
   ]
  },
  {
   "cell_type": "code",
   "execution_count": 38,
   "metadata": {},
   "outputs": [
    {
     "name": "stdout",
     "output_type": "stream",
     "text": [
      "[flaml.automl.logger: 06-18 18:37:20] {1680} INFO - task = classification\n",
      "[flaml.automl.logger: 06-18 18:37:20] {1691} INFO - Evaluation method: holdout\n",
      "[flaml.automl.logger: 06-18 18:37:20] {1789} INFO - Minimizing error metric: 1-accuracy\n",
      "[flaml.automl.logger: 06-18 18:37:20] {1901} INFO - List of ML learners in AutoML Run: ['xgboost']\n",
      "[flaml.automl.logger: 06-18 18:37:20] {2219} INFO - iteration 0, current learner xgboost\n",
      "[flaml.automl.logger: 06-18 18:37:21] {2345} INFO - Estimated sufficient time budget=72380s. Estimated necessary time budget=72s.\n",
      "[flaml.automl.logger: 06-18 18:37:21] {2392} INFO -  at 2.2s,\testimator xgboost's best error=0.2114,\tbest estimator xgboost's best error=0.2114\n",
      "[flaml.automl.logger: 06-18 18:37:21] {2219} INFO - iteration 1, current learner xgboost\n",
      "[flaml.automl.logger: 06-18 18:37:22] {2392} INFO -  at 3.2s,\testimator xgboost's best error=0.2114,\tbest estimator xgboost's best error=0.2114\n",
      "[flaml.automl.logger: 06-18 18:37:22] {2526} INFO - [('xgboost', {'n_jobs': -1, 'n_estimators': 4, 'max_leaves': 4, 'min_child_weight': 0.9999999999999993, 'learning_rate': 0.09999999999999995, 'subsample': 1.0, 'colsample_bylevel': 1.0, 'colsample_bytree': 1.0, 'reg_alpha': 0.0009765625, 'reg_lambda': 1.0, 'max_depth': 0, 'grow_policy': 'lossguide', 'tree_method': 'hist', 'verbosity': 0})]\n",
      "[flaml.automl.logger: 06-18 18:37:23] {2628} INFO - retrain xgboost for 0.8s\n",
      "[flaml.automl.logger: 06-18 18:37:23] {2631} INFO - retrained model: XGBClassifier(base_score=None, booster=None, callbacks=[],\n",
      "              colsample_bylevel=1.0, colsample_bynode=None,\n",
      "              colsample_bytree=1.0, device=None, early_stopping_rounds=None,\n",
      "              enable_categorical=False, eval_metric=None, feature_types=None,\n",
      "              gamma=None, grow_policy='lossguide', importance_type=None,\n",
      "              interaction_constraints=None, learning_rate=0.09999999999999995,\n",
      "              max_bin=None, max_cat_threshold=None, max_cat_to_onehot=None,\n",
      "              max_delta_step=None, max_depth=0, max_leaves=4,\n",
      "              min_child_weight=0.9999999999999993, missing=nan,\n",
      "              monotone_constraints=None, multi_strategy=None, n_estimators=4,\n",
      "              n_jobs=-1, num_parallel_tree=None, objective='multi:softprob', ...)\n",
      "[flaml.automl.logger: 06-18 18:37:23] {1931} INFO - fit succeeded\n",
      "[flaml.automl.logger: 06-18 18:37:23] {1932} INFO - Time taken to find the best model: 2.221076011657715\n"
     ]
    }
   ],
   "source": [
    "from flaml import AutoML\n",
    "from sklearn.linear_model import LogisticRegression\n",
    "\n",
    "settings = {\n",
    "    \"time_budget\": 500,  # total running time in seconds\n",
    "    \"metric\": \"accuracy\",  # primary metrics for regression can be chosen from: ['mae','mse','r2']    \n",
    "    \"task\": \"classification\",  # task type\n",
    "    \"log_file_name\": \"ps4e6_flaml_experiment.log\",  # flaml log file\n",
    "    \"seed\": Config.RANDOM_SEED,  # random seed\n",
    "    \"ensemble\": {\n",
    "        \"final_estimator\": LogisticRegression(),\n",
    "        \"passthrough\": False,\n",
    "    },\n",
    "    \"max_iter\": 2,\n",
    "    \"estimator_list\": [\"xgboost\"],\n",
    "}\n",
    "automl = AutoML()\n",
    "automl.fit(X_train=X_train, y_train=y_train, **settings)"
   ]
  },
  {
   "cell_type": "code",
   "execution_count": 39,
   "metadata": {},
   "outputs": [
    {
     "name": "stdout",
     "output_type": "stream",
     "text": [
      "{'xgboost': {'n_estimators': 4, 'max_leaves': 4, 'min_child_weight': 0.9999999999999993, 'learning_rate': 0.09999999999999995, 'subsample': 1.0, 'colsample_bylevel': 1.0, 'colsample_bytree': 1.0, 'reg_alpha': 0.0009765625, 'reg_lambda': 1.0}}\n"
     ]
    }
   ],
   "source": [
    "print(automl.best_config_per_estimator)"
   ]
  },
  {
   "cell_type": "code",
   "execution_count": null,
   "metadata": {},
   "outputs": [],
   "source": [
    "print(automl.best_loss_per_estimator)"
   ]
  },
  {
   "cell_type": "code",
   "execution_count": 40,
   "metadata": {},
   "outputs": [
    {
     "name": "stdout",
     "output_type": "stream",
     "text": [
      "Best estimator:  xgboost\n",
      "Best hyperparmeter config: {'n_estimators': 4, 'max_leaves': 4, 'min_child_weight': 0.9999999999999993, 'learning_rate': 0.09999999999999995, 'subsample': 1.0, 'colsample_bylevel': 1.0, 'colsample_bytree': 1.0, 'reg_alpha': 0.0009765625, 'reg_lambda': 1.0}\n",
      "Best accuracy on validation data: 0.788564\n",
      "Training duration of best run: 0.832 s\n"
     ]
    }
   ],
   "source": [
    "print(\"Best estimator: \", automl.best_estimator)\n",
    "print(\"Best hyperparmeter config:\", automl.best_config)\n",
    "print(\"Best accuracy on validation data: {0:.6g}\".format(1 - automl.best_loss))\n",
    "print(\"Training duration of best run: {0:.4g} s\".format(automl.best_config_train_time))\n",
    "print(\"Best iteration: \", automl.best_iteration)\n",
    "print(\"Best loss: \", automl.best_loss)"
   ]
  },
  {
   "cell_type": "code",
   "execution_count": 41,
   "metadata": {},
   "outputs": [],
   "source": [
    "df_feature_imp = pd.DataFrame()\n",
    "df_feature_imp[\"f_name\"] = automl.feature_names_in_\n",
    "df_feature_imp[\"f_imp\"] = automl.feature_importances_\n",
    "df_feature_imp = df_feature_imp.sort_values(by=\"f_imp\", ascending=False)"
   ]
  },
  {
   "cell_type": "code",
   "execution_count": 50,
   "metadata": {},
   "outputs": [],
   "source": [
    "def plot_feature_importance(df_feature_imp, fig_size=(18, 6)):\n",
    "    # Set the figure size\n",
    "    plt.figure(figsize=(18, 6))\n",
    "    # Create the bar plot\n",
    "    sns.barplot(x=\"f_name\", y=\"f_imp\", data=df_feature_imp)\n",
    "    # Rotate x-axis labels for better readability\n",
    "    plt.xticks(rotation=90)\n",
    "    # Add feature importance values on top of each bar (adjusted positioning)\n",
    "    for bar in plt.gca().containers[0]:\n",
    "      plt.text(bar.get_x() + bar.get_width() / 2, bar.get_height() + 0.04, round(bar.get_height(), 3), \n",
    "           ha='center', va='center', rotation=90)  # Adjust vertical offset\n",
    "    # Customize plot title and labels (optional)\n",
    "    plt.title(\"Feature Importance\")\n",
    "    plt.xlabel(\"Feature Name\")\n",
    "    plt.ylabel(\"Feature Importance\")\n",
    "    # Show the plot\n",
    "    plt.show()"
   ]
  },
  {
   "cell_type": "code",
   "execution_count": 51,
   "metadata": {},
   "outputs": [
    {
     "data": {
      "image/png": "[encoded data removed]",
      "text/plain": [
       "<Figure size 1296x432 with 1 Axes>"
      ]
     },
     "metadata": {
      "needs_background": "light"
     },
     "output_type": "display_data"
    }
   ],
   "source": [
    "plot_feature_importance(df_feature_imp)"
   ]
  },
  {
   "cell_type": "code",
   "execution_count": 42,
   "metadata": {},
   "outputs": [
    {
     "data": {
      "text/plain": [
       "array(['Dropout', 'Graduate', 'Graduate', 'Graduate', 'Enrolled'],\n",
       "      dtype=object)"
      ]
     },
     "execution_count": 42,
     "metadata": {},
     "output_type": "execute_result"
    }
   ],
   "source": [
    "test_preds = automl.predict(X_test)\n",
    "test_preds[:5]"
   ]
  },
  {
   "cell_type": "code",
   "execution_count": 43,
   "metadata": {},
   "outputs": [
    {
     "data": {
      "text/html": [
       "<div>\n",
       "<style scoped>\n",
       "    .dataframe tbody tr th:only-of-type {\n",
       "        vertical-align: middle;\n",
       "    }\n",
       "\n",
       "    .dataframe tbody tr th {\n",
       "        vertical-align: top;\n",
       "    }\n",
       "\n",
       "    .dataframe thead th {\n",
       "        text-align: right;\n",
       "    }\n",
       "</style>\n",
       "<table border=\"1\" class=\"dataframe\">\n",
       "  <thead>\n",
       "    <tr style=\"text-align: right;\">\n",
       "      <th></th>\n",
       "      <th>id</th>\n",
       "      <th>Target</th>\n",
       "    </tr>\n",
       "  </thead>\n",
       "  <tbody>\n",
       "    <tr>\n",
       "      <th>0</th>\n",
       "      <td>76518</td>\n",
       "      <td>Dropout</td>\n",
       "    </tr>\n",
       "    <tr>\n",
       "      <th>1</th>\n",
       "      <td>76519</td>\n",
       "      <td>Graduate</td>\n",
       "    </tr>\n",
       "    <tr>\n",
       "      <th>2</th>\n",
       "      <td>76520</td>\n",
       "      <td>Graduate</td>\n",
       "    </tr>\n",
       "    <tr>\n",
       "      <th>3</th>\n",
       "      <td>76521</td>\n",
       "      <td>Graduate</td>\n",
       "    </tr>\n",
       "    <tr>\n",
       "      <th>4</th>\n",
       "      <td>76522</td>\n",
       "      <td>Enrolled</td>\n",
       "    </tr>\n",
       "  </tbody>\n",
       "</table>\n",
       "</div>"
      ],
      "text/plain": [
       "      id    Target\n",
       "0  76518   Dropout\n",
       "1  76519  Graduate\n",
       "2  76520  Graduate\n",
       "3  76521  Graduate\n",
       "4  76522  Enrolled"
      ]
     },
     "execution_count": 43,
     "metadata": {},
     "output_type": "execute_result"
    }
   ],
   "source": [
    "df_submission1 = pd.read_csv(SUBMISSION_FILEPATH + 'sample_submission.csv')\n",
    "df_submission1[Config.TARGET_COL_NAME] = test_preds\n",
    "df_submission1.to_csv(DATA_WRITEPATH + f'submission_flaml.csv',index=False)\n",
    "df_submission1.head()"
   ]
  }
 ],
 "metadata": {
  "kernelspec": {
   "display_name": "fastai",
   "language": "python",
   "name": "python3"
  },
  "language_info": {
   "codemirror_mode": {
    "name": "ipython",
    "version": 3
   },
   "file_extension": ".py",
   "mimetype": "text/x-python",
   "name": "python",
   "nbconvert_exporter": "python",
   "pygments_lexer": "ipython3",
   "version": "3.9.7"
  }
 },
 "nbformat": 4,
 "nbformat_minor": 2
}
