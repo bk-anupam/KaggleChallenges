{
 "cells": [
  {
   "cell_type": "code",
   "execution_count": 105,
   "metadata": {},
   "outputs": [],
   "source": [
    "import sys\n",
    "import os\n",
    "import numpy as np\n",
    "import pandas as pd\n",
    "import seaborn as sns\n",
    "import matplotlib.pyplot as plt\n",
    "import optuna\n",
    "import xgboost as xgb\n",
    "import lightgbm as lgbm\n",
    "import statistics\n",
    "from sklearn.linear_model import Ridge\n",
    "from sklearn import model_selection\n",
    "from sklearn.preprocessing import StandardScaler, MinMaxScaler, RobustScaler, PowerTransformer \n",
    "from functools import partial\n",
    "from openfe import OpenFE, transform\n",
    "import contextlib\n",
    "import re\n",
    "import warnings\n",
    "\n",
    "warnings.filterwarnings('ignore')\n"
   ]
  },
  {
   "cell_type": "code",
   "execution_count": 106,
   "metadata": {},
   "outputs": [],
   "source": [
    "sys.path.append(os.path.abspath(\"/home/bk_anupam/code/ML/ML_UTILS/\"))"
   ]
  },
  {
   "cell_type": "code",
   "execution_count": 107,
   "metadata": {},
   "outputs": [],
   "source": [
    "import train_tabular_utils as tt\n",
    "import cv_split_utils\n",
    "import enums\n",
    "import data_utils"
   ]
  },
  {
   "cell_type": "code",
   "execution_count": 108,
   "metadata": {},
   "outputs": [],
   "source": [
    "class Config:\n",
    "    RUN_MODE = \"LOCAL\"\n",
    "    RANDOM_SEED = 42\n",
    "    NUM_FOLDS = 5\n",
    "    TARGET_COL_NAME = \"Target\"    \n",
    "    SKEW_THRESHOLD = 0.5\n",
    "    MODEL_TYPE = enums.ModelName.LogisticRegression            \n",
    "    METRIC = enums.Metrics.ACCURACY        \n",
    "    GENERATE_AUTO_FEATURES = True\n",
    "    NUM_NEW_FEATURES = 30\n",
    "    TRAIN_SINGLE_FOLD = True\n",
    "\n",
    "COLS_TO_LEAVE = [\"Target\", \"kfold\"]\n",
    "CPU_COUNT = os.cpu_count()\n",
    "\n",
    "DATA_READPATH = \"./data/\"\n",
    "DATA_WRITEPATH = \"./data/\"\n",
    "if Config.RUN_MODE == \"KAGGLE\":\n",
    "    DATA_READPATH = \"/kaggle/input/playground-series-s4e6/\"\n",
    "    DATA_WRITEPATH = \"/kaggle/working/\""
   ]
  },
  {
   "cell_type": "code",
   "execution_count": 109,
   "metadata": {},
   "outputs": [],
   "source": [
    "# import train dataset locally from data folder\n",
    "df_train = pd.read_csv(DATA_READPATH + \"train.csv\")\n",
    "# import test dataset locally from data folder\n",
    "df_test = pd.read_csv(DATA_READPATH + \"test.csv\")\n",
    "df_train = df_train.drop(\"id\", axis=1)\n",
    "df_test = df_test.drop(\"id\", axis=1)\n",
    "# keep a copy of original train and test data for later use\n",
    "df_train_orig = df_train.copy()\n",
    "df_test_orig = df_test.copy()"
   ]
  },
  {
   "cell_type": "code",
   "execution_count": 110,
   "metadata": {},
   "outputs": [],
   "source": [
    "df_train = df_train.sample(frac=0.1, random_state=Config.RANDOM_SEED)\n",
    "df_test = df_test.sample(frac=0.1, random_state=Config.RANDOM_SEED)"
   ]
  },
  {
   "cell_type": "code",
   "execution_count": 111,
   "metadata": {},
   "outputs": [
    {
     "data": {
      "text/plain": [
       "Index(['Marital status', 'Application mode', 'Application order', 'Course',\n",
       "       'Daytime/evening attendance', 'Previous qualification',\n",
       "       'Previous qualification (grade)', 'Nacionality',\n",
       "       'Mother's qualification', 'Father's qualification',\n",
       "       'Mother's occupation', 'Father's occupation', 'Admission grade',\n",
       "       'Displaced', 'Educational special needs', 'Debtor',\n",
       "       'Tuition fees up to date', 'Gender', 'Scholarship holder',\n",
       "       'Age at enrollment', 'International',\n",
       "       'Curricular units 1st sem (credited)',\n",
       "       'Curricular units 1st sem (enrolled)',\n",
       "       'Curricular units 1st sem (evaluations)',\n",
       "       'Curricular units 1st sem (approved)',\n",
       "       'Curricular units 1st sem (grade)',\n",
       "       'Curricular units 1st sem (without evaluations)',\n",
       "       'Curricular units 2nd sem (credited)',\n",
       "       'Curricular units 2nd sem (enrolled)',\n",
       "       'Curricular units 2nd sem (evaluations)',\n",
       "       'Curricular units 2nd sem (approved)',\n",
       "       'Curricular units 2nd sem (grade)',\n",
       "       'Curricular units 2nd sem (without evaluations)', 'Unemployment rate',\n",
       "       'Inflation rate', 'GDP', 'Target'],\n",
       "      dtype='object')"
      ]
     },
     "execution_count": 111,
     "metadata": {},
     "output_type": "execute_result"
    }
   ],
   "source": [
    "df_train.columns"
   ]
  },
  {
   "cell_type": "code",
   "execution_count": 112,
   "metadata": {},
   "outputs": [],
   "source": [
    "def process_col_name(cols_list):\n",
    "    processed_cols_list = []\n",
    "    for item in cols_list:\n",
    "        # Remove round brackets but keep the text inside them\n",
    "        item_no_brackets = re.sub(r'[\\(\\)]', '', item)\n",
    "        # Remove single quotes\n",
    "        item_no_quotes = item_no_brackets.replace(\"'\", \"\")\n",
    "        # Replace spaces with underscores\n",
    "        item_processed = item_no_quotes.replace(' ', '_')\n",
    "        # Append to the processed list\n",
    "        processed_cols_list.append(item_processed)\n",
    "    return processed_cols_list"
   ]
  },
  {
   "cell_type": "code",
   "execution_count": 113,
   "metadata": {},
   "outputs": [],
   "source": [
    "train_cols_list = df_train.columns.to_list()\n",
    "test_cols_list = df_test.columns.to_list()\n",
    "train_processed_cols_list = process_col_name(train_cols_list)\n",
    "test_processed_cols_list = process_col_name(test_cols_list)\n",
    "df_train.columns = train_processed_cols_list\n",
    "df_test.columns = test_processed_cols_list"
   ]
  },
  {
   "cell_type": "code",
   "execution_count": 114,
   "metadata": {},
   "outputs": [],
   "source": [
    "cont_features = df_train.dtypes[df_train.dtypes == \"float\"].index.values\n",
    "cat_features = df_train.dtypes[df_train.dtypes == \"int\"].index.values\n",
    "feature_cols_for_fe = [x for x in df_train.columns if x not in COLS_TO_LEAVE]"
   ]
  },
  {
   "cell_type": "code",
   "execution_count": 115,
   "metadata": {},
   "outputs": [],
   "source": [
    "preprocessor = None"
   ]
  },
  {
   "cell_type": "code",
   "execution_count": 116,
   "metadata": {},
   "outputs": [],
   "source": [
    "model_params = None"
   ]
  },
  {
   "cell_type": "code",
   "execution_count": 117,
   "metadata": {},
   "outputs": [],
   "source": [
    "def generate_new_features(df_train, df_test, feature_cols, NUM_NEW_FEATURES=10):\n",
    "    train_X = df_train[feature_cols] \n",
    "    test_X = df_test[feature_cols]   \n",
    "    train_y = df_train[Config.TARGET_COL_NAME]\n",
    "    ofe = OpenFE()\n",
    "    with contextlib.redirect_stdout(None):\n",
    "        features = ofe.fit(data=train_X, label=train_y, n_jobs=CPU_COUNT, verbose=False)  # generate new features    \n",
    "    # OpenFE recommends a list of new features. We include the top 10\n",
    "    # generated features to see how they influence the model performance\n",
    "    train_X, test_X = transform(train_X, test_X, ofe.new_features_list[:NUM_NEW_FEATURES], n_jobs=CPU_COUNT)        \n",
    "    return train_X, test_X, features, ofe"
   ]
  },
  {
   "cell_type": "code",
   "execution_count": 118,
   "metadata": {},
   "outputs": [
    {
     "name": "stderr",
     "output_type": "stream",
     "text": [
      "100%|██████████| 32/32 [01:06<00:00,  2.07s/it]\n",
      "100%|██████████| 32/32 [00:43<00:00,  1.35s/it]\n",
      "100%|██████████| 32/32 [01:05<00:00,  2.04s/it]\n",
      "100%|██████████| 32/32 [00:14<00:00,  2.18it/s]\n"
     ]
    },
    {
     "name": "stdout",
     "output_type": "stream",
     "text": [
      "CPU times: user 2min 7s, sys: 3.36 s, total: 2min 10s\n",
      "Wall time: 3min 28s\n"
     ]
    }
   ],
   "source": [
    "%%time\n",
    "df_train_fe, df_test_fe, new_features, ofe = generate_new_features(df_train, df_test, feature_cols_for_fe, Config.NUM_NEW_FEATURES)  \n",
    "df_train_labels = df_train[[Config.TARGET_COL_NAME]]\n",
    "# Add the label data to the dataframe\n",
    "df_train_fe = pd.concat([df_train_fe, df_train_labels], axis=1)\n",
    "# save the new train and test data with openfe features to csv files for later use\n",
    "df_train_fe.to_csv(DATA_WRITEPATH + \"train_openfe.csv\", index=False)\n",
    "df_test_fe.to_csv(DATA_WRITEPATH + \"test_openfe.csv\", index=False)"
   ]
  },
  {
   "cell_type": "code",
   "execution_count": 119,
   "metadata": {},
   "outputs": [
    {
     "name": "stdout",
     "output_type": "stream",
     "text": [
      "Number of new features = 1999\n"
     ]
    }
   ],
   "source": [
    "print(f\"Number of new features = {len(new_features)}\")  "
   ]
  },
  {
   "cell_type": "code",
   "execution_count": 120,
   "metadata": {},
   "outputs": [
    {
     "data": {
      "text/plain": [
       "Index(['Marital_status', 'Application_mode', 'Application_order', 'Course',\n",
       "       'Daytime/evening_attendance', 'Previous_qualification',\n",
       "       'Previous_qualification_grade', 'Nacionality', 'Mothers_qualification',\n",
       "       'Fathers_qualification', 'Mothers_occupation', 'Fathers_occupation',\n",
       "       'Admission_grade', 'Displaced', 'Educational_special_needs', 'Debtor',\n",
       "       'Tuition_fees_up_to_date', 'Gender', 'Scholarship_holder',\n",
       "       'Age_at_enrollment', 'International',\n",
       "       'Curricular_units_1st_sem_credited',\n",
       "       'Curricular_units_1st_sem_enrolled',\n",
       "       'Curricular_units_1st_sem_evaluations',\n",
       "       'Curricular_units_1st_sem_approved', 'Curricular_units_1st_sem_grade',\n",
       "       'Curricular_units_1st_sem_without_evaluations',\n",
       "       'Curricular_units_2nd_sem_credited',\n",
       "       'Curricular_units_2nd_sem_enrolled',\n",
       "       'Curricular_units_2nd_sem_evaluations',\n",
       "       'Curricular_units_2nd_sem_approved', 'Curricular_units_2nd_sem_grade',\n",
       "       'Curricular_units_2nd_sem_without_evaluations', 'Unemployment_rate',\n",
       "       'Inflation_rate', 'GDP', 'autoFE_f_0', 'autoFE_f_1', 'autoFE_f_2',\n",
       "       'autoFE_f_3', 'autoFE_f_4', 'autoFE_f_5', 'autoFE_f_6', 'autoFE_f_7',\n",
       "       'autoFE_f_8', 'autoFE_f_9', 'autoFE_f_10', 'autoFE_f_11', 'autoFE_f_12',\n",
       "       'autoFE_f_13', 'autoFE_f_14', 'autoFE_f_15', 'autoFE_f_16',\n",
       "       'autoFE_f_17', 'autoFE_f_18', 'autoFE_f_19', 'autoFE_f_20',\n",
       "       'autoFE_f_21', 'autoFE_f_22', 'autoFE_f_23', 'autoFE_f_24',\n",
       "       'autoFE_f_25', 'autoFE_f_26', 'autoFE_f_27', 'autoFE_f_28',\n",
       "       'autoFE_f_29', 'Target'],\n",
       "      dtype='object')"
      ]
     },
     "execution_count": 120,
     "metadata": {},
     "output_type": "execute_result"
    }
   ],
   "source": [
    "df_train_fe.columns"
   ]
  },
  {
   "cell_type": "code",
   "execution_count": 121,
   "metadata": {},
   "outputs": [],
   "source": [
    "df_train = cv_split_utils.strat_kfold_dataframe(df_train, \n",
    "                                                target_col_name=Config.TARGET_COL_NAME, \n",
    "                                                random_state=Config.RANDOM_SEED, \n",
    "                                                num_folds=Config.NUM_FOLDS)"
   ]
  },
  {
   "cell_type": "code",
   "execution_count": 122,
   "metadata": {},
   "outputs": [
    {
     "data": {
      "text/plain": [
       "7652"
      ]
     },
     "execution_count": 122,
     "metadata": {},
     "output_type": "execute_result"
    }
   ],
   "source": [
    "len(df_train)"
   ]
  },
  {
   "cell_type": "code",
   "execution_count": 123,
   "metadata": {},
   "outputs": [
    {
     "name": "stdout",
     "output_type": "stream",
     "text": [
      "Before feature engineering\n",
      "Fold 0 - LogisticRegression - ACCURACY : 0.7348138471587198\n",
      "LogisticRegression metric=ACCURACY CV score = 0.7348138471587198\n",
      "LogisticRegression Mean ACCURACY = 0.7348138471587198, std = 0.0\n"
     ]
    }
   ],
   "source": [
    "print(f\"Before feature engineering\")\n",
    "fold_metrics_model, df_oof_preds, preprocessor = tt.train_and_validate(\n",
    "        model_name=Config.MODEL_TYPE,\n",
    "        model_params=model_params,\n",
    "        preprocessor=preprocessor,\n",
    "        df=df_train,\n",
    "        feature_cols=feature_cols_for_fe,\n",
    "        target_col_name=Config.TARGET_COL_NAME,\n",
    "        metric=Config.METRIC,\n",
    "        single_fold=Config.TRAIN_SINGLE_FOLD,\n",
    "        num_folds=Config.NUM_FOLDS,\n",
    "        suppress_print=False\n",
    ")"
   ]
  },
  {
   "cell_type": "code",
   "execution_count": 124,
   "metadata": {},
   "outputs": [],
   "source": [
    "df_train_fe = cv_split_utils.strat_kfold_dataframe(df_train_fe, \n",
    "                                                target_col_name=Config.TARGET_COL_NAME, \n",
    "                                                random_state=Config.RANDOM_SEED, \n",
    "                                                num_folds=Config.NUM_FOLDS)"
   ]
  },
  {
   "cell_type": "code",
   "execution_count": 125,
   "metadata": {},
   "outputs": [
    {
     "data": {
      "text/plain": [
       "7652"
      ]
     },
     "execution_count": 125,
     "metadata": {},
     "output_type": "execute_result"
    }
   ],
   "source": [
    "len(df_train_fe)"
   ]
  },
  {
   "cell_type": "code",
   "execution_count": 134,
   "metadata": {},
   "outputs": [
    {
     "data": {
      "text/plain": [
       "['autoFE_f_1',\n",
       " 'autoFE_f_5',\n",
       " 'autoFE_f_6',\n",
       " 'autoFE_f_7',\n",
       " 'autoFE_f_8',\n",
       " 'autoFE_f_9',\n",
       " 'autoFE_f_10',\n",
       " 'autoFE_f_15',\n",
       " 'autoFE_f_17',\n",
       " 'autoFE_f_18',\n",
       " 'autoFE_f_24',\n",
       " 'autoFE_f_29']"
      ]
     },
     "execution_count": 134,
     "metadata": {},
     "output_type": "execute_result"
    }
   ],
   "source": [
    "na_val = df_train_fe.isna().sum()\n",
    "null_features =na_val.loc[na_val > 0].index.values.tolist()\n",
    "null_features"
   ]
  },
  {
   "cell_type": "code",
   "execution_count": 153,
   "metadata": {},
   "outputs": [
    {
     "data": {
      "text/plain": [
       "autoFE_f_1     1827\n",
       "autoFE_f_5      845\n",
       "autoFE_f_6     1827\n",
       "autoFE_f_7     1827\n",
       "autoFE_f_8      252\n",
       "autoFE_f_9     1590\n",
       "autoFE_f_10    1827\n",
       "autoFE_f_15    1827\n",
       "autoFE_f_17    1590\n",
       "autoFE_f_18     839\n",
       "autoFE_f_24     839\n",
       "autoFE_f_29    1592\n",
       "dtype: int64"
      ]
     },
     "execution_count": 153,
     "metadata": {},
     "output_type": "execute_result"
    }
   ],
   "source": [
    "na_val.loc[na_val > 0]"
   ]
  },
  {
   "cell_type": "code",
   "execution_count": 137,
   "metadata": {},
   "outputs": [],
   "source": [
    "feature_cols_after_fe = [x for x in df_train_fe.columns if x not in COLS_TO_LEAVE+null_features]"
   ]
  },
  {
   "cell_type": "code",
   "execution_count": 138,
   "metadata": {},
   "outputs": [
    {
     "name": "stdout",
     "output_type": "stream",
     "text": [
      "['Marital_status', 'Application_mode', 'Application_order', 'Course', 'Daytime/evening_attendance', 'Previous_qualification', 'Previous_qualification_grade', 'Nacionality', 'Mothers_qualification', 'Fathers_qualification', 'Mothers_occupation', 'Fathers_occupation', 'Admission_grade', 'Displaced', 'Educational_special_needs', 'Debtor', 'Tuition_fees_up_to_date', 'Gender', 'Scholarship_holder', 'Age_at_enrollment', 'International', 'Curricular_units_1st_sem_credited', 'Curricular_units_1st_sem_enrolled', 'Curricular_units_1st_sem_evaluations', 'Curricular_units_1st_sem_approved', 'Curricular_units_1st_sem_grade', 'Curricular_units_1st_sem_without_evaluations', 'Curricular_units_2nd_sem_credited', 'Curricular_units_2nd_sem_enrolled', 'Curricular_units_2nd_sem_evaluations', 'Curricular_units_2nd_sem_approved', 'Curricular_units_2nd_sem_grade', 'Curricular_units_2nd_sem_without_evaluations', 'Unemployment_rate', 'Inflation_rate', 'GDP', 'autoFE_f_0', 'autoFE_f_2', 'autoFE_f_3', 'autoFE_f_4', 'autoFE_f_11', 'autoFE_f_12', 'autoFE_f_13', 'autoFE_f_14', 'autoFE_f_16', 'autoFE_f_19', 'autoFE_f_20', 'autoFE_f_21', 'autoFE_f_22', 'autoFE_f_23', 'autoFE_f_25', 'autoFE_f_26', 'autoFE_f_27', 'autoFE_f_28']\n"
     ]
    }
   ],
   "source": [
    "print(feature_cols_after_fe)"
   ]
  },
  {
   "cell_type": "code",
   "execution_count": 136,
   "metadata": {},
   "outputs": [
    {
     "name": "stdout",
     "output_type": "stream",
     "text": [
      "After feature engineering\n",
      "Fold 0 - LogisticRegression - ACCURACY : 0.7798824297844547\n",
      "LogisticRegression metric=ACCURACY CV score = 0.7798824297844547\n",
      "LogisticRegression Mean ACCURACY = 0.7798824297844547, std = 0.0\n"
     ]
    }
   ],
   "source": [
    "print(f\"After feature engineering\")\n",
    "fold_metrics_model, df_oof_preds, preprocessor = tt.train_and_validate(\n",
    "        model_name=Config.MODEL_TYPE,\n",
    "        model_params=model_params,\n",
    "        preprocessor=preprocessor,\n",
    "        df=df_train_fe,\n",
    "        feature_cols=feature_cols_after_fe,\n",
    "        target_col_name=Config.TARGET_COL_NAME,\n",
    "        metric=Config.METRIC,\n",
    "        single_fold=Config.TRAIN_SINGLE_FOLD,\n",
    "        num_folds=Config.NUM_FOLDS,\n",
    "        suppress_print=False\n",
    ")"
   ]
  },
  {
   "cell_type": "code",
   "execution_count": 156,
   "metadata": {},
   "outputs": [
    {
     "name": "stdout",
     "output_type": "stream",
     "text": [
      "The top 30 generated features are:\n",
      "(Tuition_fees_up_to_date*Curricular_units_2nd_sem_approved)\n",
      "(Curricular_units_2nd_sem_evaluations/Curricular_units_2nd_sem_approved)\n",
      "(Curricular_units_1st_sem_approved+Curricular_units_2nd_sem_approved)\n",
      "(Curricular_units_2nd_sem_grade*Curricular_units_2nd_sem_approved)\n",
      "(Curricular_units_2nd_sem_grade+Curricular_units_2nd_sem_approved)\n",
      "(Curricular_units_1st_sem_approved/Curricular_units_2nd_sem_evaluations)\n",
      "(Curricular_units_1st_sem_evaluations/Curricular_units_2nd_sem_approved)\n",
      "(Curricular_units_1st_sem_enrolled/Curricular_units_2nd_sem_approved)\n",
      "(Curricular_units_1st_sem_approved/Curricular_units_2nd_sem_enrolled)\n",
      "(Tuition_fees_up_to_date/Curricular_units_1st_sem_approved)\n",
      "(Course/Curricular_units_2nd_sem_approved)\n",
      "GroupByThenRank(Curricular_units_2nd_sem_approved,Curricular_units_1st_sem_enrolled)\n",
      "(Curricular_units_2nd_sem_grade+Scholarship_holder)\n",
      "(Curricular_units_1st_sem_grade+Scholarship_holder)\n",
      "(Curricular_units_2nd_sem_enrolled-Curricular_units_2nd_sem_approved)\n",
      "(Gender/Curricular_units_2nd_sem_approved)\n",
      "(Curricular_units_1st_sem_enrolled-Curricular_units_2nd_sem_approved)\n",
      "(Course/Curricular_units_1st_sem_approved)\n",
      "(Curricular_units_2nd_sem_grade/Tuition_fees_up_to_date)\n",
      "GroupByThenRank(Curricular_units_2nd_sem_approved,Mothers_occupation)\n",
      "CombineThenFreq(Course,Curricular_units_1st_sem_approved)\n",
      "CombineThenFreq(Course,Tuition_fees_up_to_date)\n",
      "(Curricular_units_2nd_sem_grade-Curricular_units_1st_sem_evaluations)\n",
      "GroupByThenRank(Scholarship_holder,Age_at_enrollment)\n",
      "(Course/Tuition_fees_up_to_date)\n",
      "(Curricular_units_1st_sem_grade/Age_at_enrollment)\n",
      "(Curricular_units_1st_sem_evaluations-Curricular_units_2nd_sem_approved)\n",
      "Combine(Previous_qualification_grade,Curricular_units_1st_sem_approved)\n",
      "GroupByThenRank(Scholarship_holder,Curricular_units_2nd_sem_approved)\n",
      "log(Curricular_units_1st_sem_grade)\n",
      "GroupByThenRank(Curricular_units_2nd_sem_grade,Mothers_occupation)\n",
      "(Curricular_units_1st_sem_enrolled-Curricular_units_1st_sem_approved)\n",
      "(Curricular_units_2nd_sem_grade/Age_at_enrollment)\n",
      "GroupByThenRank(Curricular_units_2nd_sem_credited,Curricular_units_2nd_sem_approved)\n",
      "(Gender/Curricular_units_1st_sem_approved)\n",
      "Combine(Scholarship_holder,Age_at_enrollment)\n",
      "(Curricular_units_2nd_sem_grade-Age_at_enrollment)\n",
      "(Curricular_units_2nd_sem_grade/Curricular_units_1st_sem_approved)\n",
      "(Curricular_units_2nd_sem_enrolled/Curricular_units_2nd_sem_approved)\n",
      "(Admission_grade/Curricular_units_2nd_sem_grade)\n",
      "CombineThenFreq(Curricular_units_2nd_sem_enrolled,Curricular_units_2nd_sem_evaluations)\n",
      "GroupByThenRank(Curricular_units_2nd_sem_enrolled,Curricular_units_2nd_sem_approved)\n",
      "CombineThenFreq(Tuition_fees_up_to_date,Curricular_units_2nd_sem_approved)\n",
      "GroupByThenRank(Gender,Course)\n",
      "(Curricular_units_2nd_sem_grade/Course)\n",
      "(Curricular_units_2nd_sem_grade/Curricular_units_1st_sem_enrolled)\n",
      "CombineThenFreq(Course,Age_at_enrollment)\n",
      "GroupByThenRank(Curricular_units_1st_sem_grade,Age_at_enrollment)\n",
      "GroupByThenRank(Curricular_units_2nd_sem_grade,Curricular_units_1st_sem_enrolled)\n",
      "(Curricular_units_1st_sem_grade-Age_at_enrollment)\n"
     ]
    }
   ],
   "source": [
    "from openfe import tree_to_formula\n",
    "\n",
    "print(f'The top {Config.NUM_NEW_FEATURES} generated features are:')\n",
    "feature_formula = []\n",
    "for feature in ofe.new_features_list[:Config.NUM_NEW_FEATURES]:\n",
    "    f_formula = tree_to_formula(feature)\n",
    "    feature_formula.append(f_formula)\n",
    "    print(f_formula)"
   ]
  },
  {
   "cell_type": "code",
   "execution_count": 147,
   "metadata": {},
   "outputs": [
    {
     "data": {
      "text/html": [
       "<div>\n",
       "<style scoped>\n",
       "    .dataframe tbody tr th:only-of-type {\n",
       "        vertical-align: middle;\n",
       "    }\n",
       "\n",
       "    .dataframe tbody tr th {\n",
       "        vertical-align: top;\n",
       "    }\n",
       "\n",
       "    .dataframe thead th {\n",
       "        text-align: right;\n",
       "    }\n",
       "</style>\n",
       "<table border=\"1\" class=\"dataframe\">\n",
       "  <thead>\n",
       "    <tr style=\"text-align: right;\">\n",
       "      <th></th>\n",
       "      <th>feature_name</th>\n",
       "      <th>feature_formula</th>\n",
       "    </tr>\n",
       "  </thead>\n",
       "  <tbody>\n",
       "    <tr>\n",
       "      <th>0</th>\n",
       "      <td>autoFE_f_0</td>\n",
       "      <td>(Tuition_fees_up_to_date*Curricular_units_2nd_...</td>\n",
       "    </tr>\n",
       "    <tr>\n",
       "      <th>1</th>\n",
       "      <td>autoFE_f_1</td>\n",
       "      <td>(Curricular_units_2nd_sem_evaluations/Curricul...</td>\n",
       "    </tr>\n",
       "    <tr>\n",
       "      <th>2</th>\n",
       "      <td>autoFE_f_2</td>\n",
       "      <td>(Curricular_units_1st_sem_approved+Curricular_...</td>\n",
       "    </tr>\n",
       "    <tr>\n",
       "      <th>3</th>\n",
       "      <td>autoFE_f_3</td>\n",
       "      <td>(Curricular_units_2nd_sem_grade*Curricular_uni...</td>\n",
       "    </tr>\n",
       "    <tr>\n",
       "      <th>4</th>\n",
       "      <td>autoFE_f_4</td>\n",
       "      <td>(Curricular_units_2nd_sem_grade+Curricular_uni...</td>\n",
       "    </tr>\n",
       "    <tr>\n",
       "      <th>5</th>\n",
       "      <td>autoFE_f_5</td>\n",
       "      <td>(Curricular_units_1st_sem_approved/Curricular_...</td>\n",
       "    </tr>\n",
       "    <tr>\n",
       "      <th>6</th>\n",
       "      <td>autoFE_f_6</td>\n",
       "      <td>(Curricular_units_1st_sem_evaluations/Curricul...</td>\n",
       "    </tr>\n",
       "    <tr>\n",
       "      <th>7</th>\n",
       "      <td>autoFE_f_7</td>\n",
       "      <td>(Curricular_units_1st_sem_enrolled/Curricular_...</td>\n",
       "    </tr>\n",
       "    <tr>\n",
       "      <th>8</th>\n",
       "      <td>autoFE_f_8</td>\n",
       "      <td>(Curricular_units_1st_sem_approved/Curricular_...</td>\n",
       "    </tr>\n",
       "    <tr>\n",
       "      <th>9</th>\n",
       "      <td>autoFE_f_9</td>\n",
       "      <td>(Tuition_fees_up_to_date/Curricular_units_1st_...</td>\n",
       "    </tr>\n",
       "    <tr>\n",
       "      <th>10</th>\n",
       "      <td>autoFE_f_10</td>\n",
       "      <td>(Course/Curricular_units_2nd_sem_approved)</td>\n",
       "    </tr>\n",
       "    <tr>\n",
       "      <th>11</th>\n",
       "      <td>autoFE_f_11</td>\n",
       "      <td>GroupByThenRank(Curricular_units_2nd_sem_appro...</td>\n",
       "    </tr>\n",
       "    <tr>\n",
       "      <th>12</th>\n",
       "      <td>autoFE_f_12</td>\n",
       "      <td>(Curricular_units_2nd_sem_grade+Scholarship_ho...</td>\n",
       "    </tr>\n",
       "    <tr>\n",
       "      <th>13</th>\n",
       "      <td>autoFE_f_13</td>\n",
       "      <td>(Curricular_units_1st_sem_grade+Scholarship_ho...</td>\n",
       "    </tr>\n",
       "    <tr>\n",
       "      <th>14</th>\n",
       "      <td>autoFE_f_14</td>\n",
       "      <td>(Curricular_units_2nd_sem_enrolled-Curricular_...</td>\n",
       "    </tr>\n",
       "    <tr>\n",
       "      <th>15</th>\n",
       "      <td>autoFE_f_15</td>\n",
       "      <td>(Gender/Curricular_units_2nd_sem_approved)</td>\n",
       "    </tr>\n",
       "    <tr>\n",
       "      <th>16</th>\n",
       "      <td>autoFE_f_16</td>\n",
       "      <td>(Curricular_units_1st_sem_enrolled-Curricular_...</td>\n",
       "    </tr>\n",
       "    <tr>\n",
       "      <th>17</th>\n",
       "      <td>autoFE_f_17</td>\n",
       "      <td>(Course/Curricular_units_1st_sem_approved)</td>\n",
       "    </tr>\n",
       "    <tr>\n",
       "      <th>18</th>\n",
       "      <td>autoFE_f_18</td>\n",
       "      <td>(Curricular_units_2nd_sem_grade/Tuition_fees_u...</td>\n",
       "    </tr>\n",
       "    <tr>\n",
       "      <th>19</th>\n",
       "      <td>autoFE_f_19</td>\n",
       "      <td>GroupByThenRank(Curricular_units_2nd_sem_appro...</td>\n",
       "    </tr>\n",
       "    <tr>\n",
       "      <th>20</th>\n",
       "      <td>autoFE_f_20</td>\n",
       "      <td>CombineThenFreq(Course,Curricular_units_1st_se...</td>\n",
       "    </tr>\n",
       "    <tr>\n",
       "      <th>21</th>\n",
       "      <td>autoFE_f_21</td>\n",
       "      <td>CombineThenFreq(Course,Tuition_fees_up_to_date)</td>\n",
       "    </tr>\n",
       "    <tr>\n",
       "      <th>22</th>\n",
       "      <td>autoFE_f_22</td>\n",
       "      <td>(Curricular_units_2nd_sem_grade-Curricular_uni...</td>\n",
       "    </tr>\n",
       "    <tr>\n",
       "      <th>23</th>\n",
       "      <td>autoFE_f_23</td>\n",
       "      <td>GroupByThenRank(Scholarship_holder,Age_at_enro...</td>\n",
       "    </tr>\n",
       "    <tr>\n",
       "      <th>24</th>\n",
       "      <td>autoFE_f_24</td>\n",
       "      <td>(Course/Tuition_fees_up_to_date)</td>\n",
       "    </tr>\n",
       "    <tr>\n",
       "      <th>25</th>\n",
       "      <td>autoFE_f_25</td>\n",
       "      <td>(Curricular_units_1st_sem_grade/Age_at_enrollm...</td>\n",
       "    </tr>\n",
       "    <tr>\n",
       "      <th>26</th>\n",
       "      <td>autoFE_f_26</td>\n",
       "      <td>(Curricular_units_1st_sem_evaluations-Curricul...</td>\n",
       "    </tr>\n",
       "    <tr>\n",
       "      <th>27</th>\n",
       "      <td>autoFE_f_27</td>\n",
       "      <td>Combine(Previous_qualification_grade,Curricula...</td>\n",
       "    </tr>\n",
       "    <tr>\n",
       "      <th>28</th>\n",
       "      <td>autoFE_f_28</td>\n",
       "      <td>GroupByThenRank(Scholarship_holder,Curricular_...</td>\n",
       "    </tr>\n",
       "    <tr>\n",
       "      <th>29</th>\n",
       "      <td>autoFE_f_29</td>\n",
       "      <td>log(Curricular_units_1st_sem_grade)</td>\n",
       "    </tr>\n",
       "  </tbody>\n",
       "</table>\n",
       "</div>"
      ],
      "text/plain": [
       "   feature_name                                    feature_formula\n",
       "0    autoFE_f_0  (Tuition_fees_up_to_date*Curricular_units_2nd_...\n",
       "1    autoFE_f_1  (Curricular_units_2nd_sem_evaluations/Curricul...\n",
       "2    autoFE_f_2  (Curricular_units_1st_sem_approved+Curricular_...\n",
       "3    autoFE_f_3  (Curricular_units_2nd_sem_grade*Curricular_uni...\n",
       "4    autoFE_f_4  (Curricular_units_2nd_sem_grade+Curricular_uni...\n",
       "5    autoFE_f_5  (Curricular_units_1st_sem_approved/Curricular_...\n",
       "6    autoFE_f_6  (Curricular_units_1st_sem_evaluations/Curricul...\n",
       "7    autoFE_f_7  (Curricular_units_1st_sem_enrolled/Curricular_...\n",
       "8    autoFE_f_8  (Curricular_units_1st_sem_approved/Curricular_...\n",
       "9    autoFE_f_9  (Tuition_fees_up_to_date/Curricular_units_1st_...\n",
       "10  autoFE_f_10         (Course/Curricular_units_2nd_sem_approved)\n",
       "11  autoFE_f_11  GroupByThenRank(Curricular_units_2nd_sem_appro...\n",
       "12  autoFE_f_12  (Curricular_units_2nd_sem_grade+Scholarship_ho...\n",
       "13  autoFE_f_13  (Curricular_units_1st_sem_grade+Scholarship_ho...\n",
       "14  autoFE_f_14  (Curricular_units_2nd_sem_enrolled-Curricular_...\n",
       "15  autoFE_f_15         (Gender/Curricular_units_2nd_sem_approved)\n",
       "16  autoFE_f_16  (Curricular_units_1st_sem_enrolled-Curricular_...\n",
       "17  autoFE_f_17         (Course/Curricular_units_1st_sem_approved)\n",
       "18  autoFE_f_18  (Curricular_units_2nd_sem_grade/Tuition_fees_u...\n",
       "19  autoFE_f_19  GroupByThenRank(Curricular_units_2nd_sem_appro...\n",
       "20  autoFE_f_20  CombineThenFreq(Course,Curricular_units_1st_se...\n",
       "21  autoFE_f_21    CombineThenFreq(Course,Tuition_fees_up_to_date)\n",
       "22  autoFE_f_22  (Curricular_units_2nd_sem_grade-Curricular_uni...\n",
       "23  autoFE_f_23  GroupByThenRank(Scholarship_holder,Age_at_enro...\n",
       "24  autoFE_f_24                   (Course/Tuition_fees_up_to_date)\n",
       "25  autoFE_f_25  (Curricular_units_1st_sem_grade/Age_at_enrollm...\n",
       "26  autoFE_f_26  (Curricular_units_1st_sem_evaluations-Curricul...\n",
       "27  autoFE_f_27  Combine(Previous_qualification_grade,Curricula...\n",
       "28  autoFE_f_28  GroupByThenRank(Scholarship_holder,Curricular_...\n",
       "29  autoFE_f_29                log(Curricular_units_1st_sem_grade)"
      ]
     },
     "execution_count": 147,
     "metadata": {},
     "output_type": "execute_result"
    }
   ],
   "source": [
    "auto_feature_names = [item for item in df_train_fe.columns.values.tolist() if item.startswith('autoFE_f_')]\n",
    "df_auto_features = pd.DataFrame()\n",
    "df_auto_features[\"feature_name\"] = auto_feature_names\n",
    "df_auto_features[\"feature_formula\"] = feature_formula"
   ]
  },
  {
   "cell_type": "code",
   "execution_count": 159,
   "metadata": {},
   "outputs": [],
   "source": [
    "# select rows from df_auto_features where feature_name in not in null_features\n",
    "auto_features_not_null = df_auto_features.loc[~df_auto_features[\"feature_name\"].isin(null_features)]\n",
    "auto_features_null = df_auto_features.loc[df_auto_features[\"feature_name\"].isin(null_features)]\n",
    "auto_features_not_null.to_csv(\"./output/auto_features_not_null.csv\", index=False)\n",
    "auto_features_null.to_csv(\"./output/auto_features_null.csv\", index=False)"
   ]
  }
 ],
 "metadata": {
  "kernelspec": {
   "display_name": "fastai",
   "language": "python",
   "name": "python3"
  },
  "language_info": {
   "codemirror_mode": {
    "name": "ipython",
    "version": 3
   },
   "file_extension": ".py",
   "mimetype": "text/x-python",
   "name": "python",
   "nbconvert_exporter": "python",
   "pygments_lexer": "ipython3",
   "version": "3.9.7"
  }
 },
 "nbformat": 4,
 "nbformat_minor": 2
}
