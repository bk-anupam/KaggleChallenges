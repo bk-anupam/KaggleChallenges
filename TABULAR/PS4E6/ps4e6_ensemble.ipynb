{
 "cells": [
  {
   "cell_type": "code",
   "execution_count": 42,
   "metadata": {},
   "outputs": [],
   "source": [
    "import sys\n",
    "import os\n",
    "import numpy as np\n",
    "import pandas as pd\n",
    "import joblib\n",
    "from sklearn.metrics import accuracy_score\n",
    "from sklearn.linear_model import Ridge\n",
    "from scipy.optimize import minimize\n",
    "import warnings\n",
    "\n",
    "warnings.filterwarnings('ignore')\n"
   ]
  },
  {
   "cell_type": "code",
   "execution_count": 43,
   "metadata": {},
   "outputs": [],
   "source": [
    "sys.path.append(os.path.abspath(\"/home/bk_anupam/code/ML/ML_UTILS/\"))"
   ]
  },
  {
   "cell_type": "code",
   "execution_count": 44,
   "metadata": {},
   "outputs": [],
   "source": [
    "import train_tabular_utils as tt\n",
    "import cv_split_utils\n",
    "import enums\n",
    "from enums import ModelName, Metrics\n",
    "import data_utils"
   ]
  },
  {
   "cell_type": "code",
   "execution_count": 45,
   "metadata": {},
   "outputs": [],
   "source": [
    "class Config:\n",
    "    RUN_MODE = \"LOCAL\"\n",
    "    RANDOM_SEED = 1\n",
    "    NUM_FOLDS = 5\n",
    "    MODEL_TYPE = enums.ModelName.L2_Ridge\n",
    "    TARGET_COL_NAME = \"Target\"            \n",
    "    METRIC = enums.Metrics.ACCURACY\n",
    "    TRAIN_SINGLE_FOLD = False\n",
    "    NUM_CLASSES = 3        \n",
    "\n",
    "COLS_TO_LEAVE = [\"id\", \"Target\", \"kfold\"]\n",
    "CPU_COUNT = os.cpu_count()\n",
    "\n",
    "DATA_READPATH = \"./data/\"\n",
    "BASE_MODELS_PATH = \"./output/\""
   ]
  },
  {
   "cell_type": "code",
   "execution_count": 46,
   "metadata": {},
   "outputs": [
    {
     "name": "stdout",
     "output_type": "stream",
     "text": [
      "['CatBoost1', 'CatBoost2', 'XGBoost1']\n"
     ]
    },
    {
     "data": {
      "text/plain": [
       "['CatBoost1_preds_proba_0',\n",
       " 'CatBoost1_preds_proba_1',\n",
       " 'CatBoost1_preds_proba_2',\n",
       " 'CatBoost2_preds_proba_0',\n",
       " 'CatBoost2_preds_proba_1',\n",
       " 'CatBoost2_preds_proba_2',\n",
       " 'XGBoost1_preds_proba_0',\n",
       " 'XGBoost1_preds_proba_1',\n",
       " 'XGBoost1_preds_proba_2']"
      ]
     },
     "execution_count": 46,
     "metadata": {},
     "output_type": "execute_result"
    }
   ],
   "source": [
    "# key is model type and value is number of trained models for that type to be used in ensemble\n",
    "models = {\n",
    "    ModelName.CatBoost: 2,\n",
    "    ModelName.XGBoost: 1,\n",
    "    #ModelName.RandomForest: 1,\n",
    "    #ModelName.LogisticRegression: 1\n",
    "}\n",
    "\n",
    "# base model prediction column names (both for oof predictions and test predictions) are the same as model names\n",
    "base_model_names = [f\"{key}{i+1}\" for key, value in models.items() for i in range(value) ]\n",
    "pred_cols = [f\"{model_name}_preds_proba_{i}\" for model_name in base_model_names for i in range(Config.NUM_CLASSES)]\n",
    "print(base_model_names)\n",
    "pred_cols"
   ]
  },
  {
   "cell_type": "code",
   "execution_count": 47,
   "metadata": {},
   "outputs": [],
   "source": [
    "df_submission = pd.read_csv(DATA_READPATH + \"sample_submission.csv\")\n",
    "df_oof_preds = pd.DataFrame()\n",
    "df_test_preds = pd.DataFrame()\n",
    "# load the OOF csv for each model\n",
    "for model_name in base_model_names:\n",
    "    df_model_oof = pd.read_csv(f\"{BASE_MODELS_PATH}df_val_preds_{model_name}.csv\")\n",
    "    df_model_test_preds = pd.read_csv(f\"{BASE_MODELS_PATH}df_test_preds_{model_name}.csv\")\n",
    "    for i in range(Config.NUM_CLASSES):\n",
    "        df_oof_preds[f\"{model_name}_preds_proba_{i}\"] = df_model_oof[f\"oof_preds_proba_{i}\"]\n",
    "        df_test_preds[f\"{model_name}_preds_proba_{i}\"] = df_model_test_preds[f\"test_preds_proba_{i}\"]\n",
    "    df_oof_preds[f\"{model_name}_preds\"] = df_model_oof[\"oof_preds\"]\n",
    "    df_test_preds[f\"{model_name}_preds\"] = df_model_test_preds[\"test_preds\"]\n",
    "df_oof_preds[Config.TARGET_COL_NAME] = df_model_oof[Config.TARGET_COL_NAME]"
   ]
  },
  {
   "cell_type": "code",
   "execution_count": 48,
   "metadata": {},
   "outputs": [
    {
     "data": {
      "text/html": [
       "<div>\n",
       "<style scoped>\n",
       "    .dataframe tbody tr th:only-of-type {\n",
       "        vertical-align: middle;\n",
       "    }\n",
       "\n",
       "    .dataframe tbody tr th {\n",
       "        vertical-align: top;\n",
       "    }\n",
       "\n",
       "    .dataframe thead th {\n",
       "        text-align: right;\n",
       "    }\n",
       "</style>\n",
       "<table border=\"1\" class=\"dataframe\">\n",
       "  <thead>\n",
       "    <tr style=\"text-align: right;\">\n",
       "      <th></th>\n",
       "      <th>CatBoost1_preds_proba_0</th>\n",
       "      <th>CatBoost1_preds_proba_1</th>\n",
       "      <th>CatBoost1_preds_proba_2</th>\n",
       "      <th>CatBoost1_preds</th>\n",
       "      <th>CatBoost2_preds_proba_0</th>\n",
       "      <th>CatBoost2_preds_proba_1</th>\n",
       "      <th>CatBoost2_preds_proba_2</th>\n",
       "      <th>CatBoost2_preds</th>\n",
       "      <th>XGBoost1_preds_proba_0</th>\n",
       "      <th>XGBoost1_preds_proba_1</th>\n",
       "      <th>XGBoost1_preds_proba_2</th>\n",
       "      <th>XGBoost1_preds</th>\n",
       "      <th>Target</th>\n",
       "    </tr>\n",
       "  </thead>\n",
       "  <tbody>\n",
       "    <tr>\n",
       "      <th>0</th>\n",
       "      <td>0.007950</td>\n",
       "      <td>0.006622</td>\n",
       "      <td>0.985428</td>\n",
       "      <td>2</td>\n",
       "      <td>0.022356</td>\n",
       "      <td>0.011980</td>\n",
       "      <td>0.965664</td>\n",
       "      <td>2</td>\n",
       "      <td>0.012317</td>\n",
       "      <td>0.010887</td>\n",
       "      <td>0.976796</td>\n",
       "      <td>2</td>\n",
       "      <td>2</td>\n",
       "    </tr>\n",
       "    <tr>\n",
       "      <th>1</th>\n",
       "      <td>0.026453</td>\n",
       "      <td>0.020980</td>\n",
       "      <td>0.952566</td>\n",
       "      <td>2</td>\n",
       "      <td>0.033137</td>\n",
       "      <td>0.018453</td>\n",
       "      <td>0.948410</td>\n",
       "      <td>2</td>\n",
       "      <td>0.028486</td>\n",
       "      <td>0.033435</td>\n",
       "      <td>0.938079</td>\n",
       "      <td>2</td>\n",
       "      <td>2</td>\n",
       "    </tr>\n",
       "    <tr>\n",
       "      <th>2</th>\n",
       "      <td>0.061289</td>\n",
       "      <td>0.621982</td>\n",
       "      <td>0.316728</td>\n",
       "      <td>1</td>\n",
       "      <td>0.056843</td>\n",
       "      <td>0.788141</td>\n",
       "      <td>0.155016</td>\n",
       "      <td>1</td>\n",
       "      <td>0.069910</td>\n",
       "      <td>0.755106</td>\n",
       "      <td>0.174984</td>\n",
       "      <td>1</td>\n",
       "      <td>1</td>\n",
       "    </tr>\n",
       "    <tr>\n",
       "      <th>3</th>\n",
       "      <td>0.221125</td>\n",
       "      <td>0.618871</td>\n",
       "      <td>0.160004</td>\n",
       "      <td>1</td>\n",
       "      <td>0.127717</td>\n",
       "      <td>0.775832</td>\n",
       "      <td>0.096452</td>\n",
       "      <td>1</td>\n",
       "      <td>0.290566</td>\n",
       "      <td>0.487754</td>\n",
       "      <td>0.221679</td>\n",
       "      <td>1</td>\n",
       "      <td>1</td>\n",
       "    </tr>\n",
       "    <tr>\n",
       "      <th>4</th>\n",
       "      <td>0.036233</td>\n",
       "      <td>0.597098</td>\n",
       "      <td>0.366669</td>\n",
       "      <td>1</td>\n",
       "      <td>0.067244</td>\n",
       "      <td>0.587030</td>\n",
       "      <td>0.345726</td>\n",
       "      <td>1</td>\n",
       "      <td>0.079016</td>\n",
       "      <td>0.634216</td>\n",
       "      <td>0.286768</td>\n",
       "      <td>1</td>\n",
       "      <td>1</td>\n",
       "    </tr>\n",
       "  </tbody>\n",
       "</table>\n",
       "</div>"
      ],
      "text/plain": [
       "   CatBoost1_preds_proba_0  CatBoost1_preds_proba_1  CatBoost1_preds_proba_2  \\\n",
       "0                 0.007950                 0.006622                 0.985428   \n",
       "1                 0.026453                 0.020980                 0.952566   \n",
       "2                 0.061289                 0.621982                 0.316728   \n",
       "3                 0.221125                 0.618871                 0.160004   \n",
       "4                 0.036233                 0.597098                 0.366669   \n",
       "\n",
       "   CatBoost1_preds  CatBoost2_preds_proba_0  CatBoost2_preds_proba_1  \\\n",
       "0                2                 0.022356                 0.011980   \n",
       "1                2                 0.033137                 0.018453   \n",
       "2                1                 0.056843                 0.788141   \n",
       "3                1                 0.127717                 0.775832   \n",
       "4                1                 0.067244                 0.587030   \n",
       "\n",
       "   CatBoost2_preds_proba_2  CatBoost2_preds  XGBoost1_preds_proba_0  \\\n",
       "0                 0.965664                2                0.012317   \n",
       "1                 0.948410                2                0.028486   \n",
       "2                 0.155016                1                0.069910   \n",
       "3                 0.096452                1                0.290566   \n",
       "4                 0.345726                1                0.079016   \n",
       "\n",
       "   XGBoost1_preds_proba_1  XGBoost1_preds_proba_2  XGBoost1_preds  Target  \n",
       "0                0.010887                0.976796               2       2  \n",
       "1                0.033435                0.938079               2       2  \n",
       "2                0.755106                0.174984               1       1  \n",
       "3                0.487754                0.221679               1       1  \n",
       "4                0.634216                0.286768               1       1  "
      ]
     },
     "execution_count": 48,
     "metadata": {},
     "output_type": "execute_result"
    }
   ],
   "source": [
    "df_oof_preds.head()"
   ]
  },
  {
   "cell_type": "code",
   "execution_count": 49,
   "metadata": {},
   "outputs": [
    {
     "data": {
      "text/html": [
       "<div>\n",
       "<style scoped>\n",
       "    .dataframe tbody tr th:only-of-type {\n",
       "        vertical-align: middle;\n",
       "    }\n",
       "\n",
       "    .dataframe tbody tr th {\n",
       "        vertical-align: top;\n",
       "    }\n",
       "\n",
       "    .dataframe thead th {\n",
       "        text-align: right;\n",
       "    }\n",
       "</style>\n",
       "<table border=\"1\" class=\"dataframe\">\n",
       "  <thead>\n",
       "    <tr style=\"text-align: right;\">\n",
       "      <th></th>\n",
       "      <th>CatBoost1_preds_proba_0</th>\n",
       "      <th>CatBoost1_preds_proba_1</th>\n",
       "      <th>CatBoost1_preds_proba_2</th>\n",
       "      <th>CatBoost1_preds</th>\n",
       "      <th>CatBoost2_preds_proba_0</th>\n",
       "      <th>CatBoost2_preds_proba_1</th>\n",
       "      <th>CatBoost2_preds_proba_2</th>\n",
       "      <th>CatBoost2_preds</th>\n",
       "      <th>XGBoost1_preds_proba_0</th>\n",
       "      <th>XGBoost1_preds_proba_1</th>\n",
       "      <th>XGBoost1_preds_proba_2</th>\n",
       "      <th>XGBoost1_preds</th>\n",
       "    </tr>\n",
       "  </thead>\n",
       "  <tbody>\n",
       "    <tr>\n",
       "      <th>0</th>\n",
       "      <td>0.990005</td>\n",
       "      <td>0.007855</td>\n",
       "      <td>0.002140</td>\n",
       "      <td>0</td>\n",
       "      <td>0.990935</td>\n",
       "      <td>0.007390</td>\n",
       "      <td>0.001675</td>\n",
       "      <td>0</td>\n",
       "      <td>0.988320</td>\n",
       "      <td>0.008497</td>\n",
       "      <td>0.003182</td>\n",
       "      <td>0</td>\n",
       "    </tr>\n",
       "    <tr>\n",
       "      <th>1</th>\n",
       "      <td>0.006233</td>\n",
       "      <td>0.013780</td>\n",
       "      <td>0.979988</td>\n",
       "      <td>2</td>\n",
       "      <td>0.005124</td>\n",
       "      <td>0.011460</td>\n",
       "      <td>0.983416</td>\n",
       "      <td>2</td>\n",
       "      <td>0.007958</td>\n",
       "      <td>0.018430</td>\n",
       "      <td>0.973612</td>\n",
       "      <td>2</td>\n",
       "    </tr>\n",
       "    <tr>\n",
       "      <th>2</th>\n",
       "      <td>0.037894</td>\n",
       "      <td>0.251453</td>\n",
       "      <td>0.710653</td>\n",
       "      <td>2</td>\n",
       "      <td>0.034800</td>\n",
       "      <td>0.246753</td>\n",
       "      <td>0.718447</td>\n",
       "      <td>2</td>\n",
       "      <td>0.039474</td>\n",
       "      <td>0.237019</td>\n",
       "      <td>0.723506</td>\n",
       "      <td>2</td>\n",
       "    </tr>\n",
       "    <tr>\n",
       "      <th>3</th>\n",
       "      <td>0.183586</td>\n",
       "      <td>0.225122</td>\n",
       "      <td>0.591291</td>\n",
       "      <td>2</td>\n",
       "      <td>0.292535</td>\n",
       "      <td>0.237487</td>\n",
       "      <td>0.469978</td>\n",
       "      <td>2</td>\n",
       "      <td>0.172196</td>\n",
       "      <td>0.458779</td>\n",
       "      <td>0.369024</td>\n",
       "      <td>1</td>\n",
       "    </tr>\n",
       "    <tr>\n",
       "      <th>4</th>\n",
       "      <td>0.305291</td>\n",
       "      <td>0.652540</td>\n",
       "      <td>0.042170</td>\n",
       "      <td>1</td>\n",
       "      <td>0.249726</td>\n",
       "      <td>0.712745</td>\n",
       "      <td>0.037528</td>\n",
       "      <td>1</td>\n",
       "      <td>0.345187</td>\n",
       "      <td>0.619451</td>\n",
       "      <td>0.035362</td>\n",
       "      <td>1</td>\n",
       "    </tr>\n",
       "  </tbody>\n",
       "</table>\n",
       "</div>"
      ],
      "text/plain": [
       "   CatBoost1_preds_proba_0  CatBoost1_preds_proba_1  CatBoost1_preds_proba_2  \\\n",
       "0                 0.990005                 0.007855                 0.002140   \n",
       "1                 0.006233                 0.013780                 0.979988   \n",
       "2                 0.037894                 0.251453                 0.710653   \n",
       "3                 0.183586                 0.225122                 0.591291   \n",
       "4                 0.305291                 0.652540                 0.042170   \n",
       "\n",
       "   CatBoost1_preds  CatBoost2_preds_proba_0  CatBoost2_preds_proba_1  \\\n",
       "0                0                 0.990935                 0.007390   \n",
       "1                2                 0.005124                 0.011460   \n",
       "2                2                 0.034800                 0.246753   \n",
       "3                2                 0.292535                 0.237487   \n",
       "4                1                 0.249726                 0.712745   \n",
       "\n",
       "   CatBoost2_preds_proba_2  CatBoost2_preds  XGBoost1_preds_proba_0  \\\n",
       "0                 0.001675                0                0.988320   \n",
       "1                 0.983416                2                0.007958   \n",
       "2                 0.718447                2                0.039474   \n",
       "3                 0.469978                2                0.172196   \n",
       "4                 0.037528                1                0.345187   \n",
       "\n",
       "   XGBoost1_preds_proba_1  XGBoost1_preds_proba_2  XGBoost1_preds  \n",
       "0                0.008497                0.003182               0  \n",
       "1                0.018430                0.973612               2  \n",
       "2                0.237019                0.723506               2  \n",
       "3                0.458779                0.369024               1  \n",
       "4                0.619451                0.035362               1  "
      ]
     },
     "execution_count": 49,
     "metadata": {},
     "output_type": "execute_result"
    }
   ],
   "source": [
    "df_test_preds.head()"
   ]
  },
  {
   "cell_type": "code",
   "execution_count": 50,
   "metadata": {},
   "outputs": [],
   "source": [
    "def acc_func(weights, oof_preds, target):\n",
    "    # weighted_preds is the final weighted probability of each target class\n",
    "    weighted_preds = np.zeros((oof_preds.shape[0], 3))  # Corrected initialization\n",
    "    # weights sequence length is equal to number of base models\n",
    "    for i in range(len(weights)):\n",
    "        # for each base model class probabilites are multiplied with corresponding model weight and added to weighted_preds\n",
    "        weighted_preds += weights[i] * oof_preds[:, i*3:(i+1)*3]\n",
    "    # argmax of weighted_preds gives final prediction        \n",
    "    final_preds = np.argmax(weighted_preds, axis=1)\n",
    "    accuracy = accuracy_score(target, final_preds)\n",
    "    print(f\"Weights: {weights}, Accuracy: {accuracy}\")  # Debug output\n",
    "    return -accuracy"
   ]
  },
  {
   "cell_type": "code",
   "execution_count": 51,
   "metadata": {},
   "outputs": [
    {
     "data": {
      "text/plain": [
       "array([0.33333333, 0.33333333, 0.33333333])"
      ]
     },
     "execution_count": 51,
     "metadata": {},
     "output_type": "execute_result"
    }
   ],
   "source": [
    "# Start by giving equal weight to each model\n",
    "n_models = len(pred_cols) // Config.NUM_CLASSES\n",
    "initial_weights = np.ones(n_models) / n_models\n",
    "initial_weights"
   ]
  },
  {
   "cell_type": "code",
   "execution_count": 52,
   "metadata": {},
   "outputs": [
    {
     "name": "stdout",
     "output_type": "stream",
     "text": [
      "Weights: [0.33333333 0.33333333 0.33333333], Accuracy: 0.831867262978429\n",
      "Weights: [0.35       0.33333333 0.33333333], Accuracy: 0.831830199402041\n",
      "Weights: [0.33333333 0.35       0.33333333], Accuracy: 0.831941390131205\n",
      "Weights: [0.33333333 0.33333333 0.35      ], Accuracy: 0.831867262978429\n",
      "Weights: [0.31666667 0.34444444 0.34444444], Accuracy: 0.831904326554817\n",
      "Weights: [0.32222222 0.35185185 0.32407407], Accuracy: 0.8319537446566677\n",
      "Weights: [0.31666667 0.36111111 0.31111111], Accuracy: 0.8320155172839812\n",
      "Weights: [0.31111111 0.37037037 0.32592593], Accuracy: 0.8320896444367571\n",
      "Weights: [0.3        0.38888889 0.32222222], Accuracy: 0.831978453707593\n",
      "Weights: [0.32407407 0.37654321 0.30246914], Accuracy: 0.831941390131205\n",
      "Weights: [0.32222222 0.36851852 0.31296296], Accuracy: 0.8320278718094438\n",
      "Weights: [0.3        0.38333333 0.3       ], Accuracy: 0.831941390131205\n",
      "Weights: [0.325      0.35833333 0.325     ], Accuracy: 0.8320525808603692\n",
      "Weights: [0.32222222 0.37037037 0.33148148], Accuracy: 0.8320525808603692\n",
      "Weights: [0.31666667 0.36419753 0.34197531], Accuracy: 0.831978453707593\n",
      "Weights: [0.32083333 0.36743827 0.32021605], Accuracy: 0.8320278718094438\n",
      "Weights: [0.31805556 0.36435185 0.32546296], Accuracy: 0.8320525808603692\n",
      "Weights: [0.31666667 0.37037037 0.3287037 ], Accuracy: 0.8321019989622198\n",
      "Weights: [0.31666667 0.36944444 0.31944444], Accuracy: 0.8320278718094438\n",
      "Weights: [0.31388889 0.36728395 0.33395062], Accuracy: 0.8319660991821304\n",
      "Weights: [0.31597222 0.36890432 0.32307099], Accuracy: 0.8320525808603692\n",
      "Weights: [0.31458333 0.36782407 0.33032407], Accuracy: 0.8320525808603692\n",
      "Weights: [0.315625   0.36863426 0.32488426], Accuracy: 0.8320772899112945\n",
      "Weights: [0.31087963 0.37523148 0.3275463 ], Accuracy: 0.8320896444367571\n",
      "Weights: [0.3101466  0.37534722 0.32989969], Accuracy: 0.8320649353858318\n",
      "Weights: [0.3142554  0.3703125  0.32613812], Accuracy: 0.8320896444367571\n",
      "Weights: [0.3115162  0.37366898 0.32864583], Accuracy: 0.8320772899112945\n",
      "Weights: [0.3135706  0.37115162 0.32676505], Accuracy: 0.8320896444367571\n",
      "Weights: [0.31388889 0.37037037 0.32731481], Accuracy: 0.8321267080131453\n",
      "Weights: [0.31377315 0.37280093 0.328125  ], Accuracy: 0.8321019989622198\n",
      "Weights: [0.31546103 0.37034144 0.32742091], Accuracy: 0.8320896444367571\n",
      "Weights: [0.31409144 0.37201968 0.32867477], Accuracy: 0.8321019989622198\n",
      "Weights: [0.31443383 0.37160012 0.3283613 ], Accuracy: 0.8321143534876826\n",
      "Weights: [0.31621978 0.36875965 0.32812822], Accuracy: 0.8320896444367571\n",
      "Weights: [0.31438481 0.37179061 0.3281258 ], Accuracy: 0.8321019989622198\n",
      "Weights: [0.31416136 0.37098524 0.32783806], Accuracy: 0.8321143534876826\n",
      "Weights: [0.31527778 0.37037037 0.32800926], Accuracy: 0.8321019989622198\n",
      "Weights: [0.31383102 0.37158565 0.32771991], Accuracy: 0.8321019989622198\n",
      "Weights: [0.31505433 0.36956501 0.32772151], Accuracy: 0.8321019989622198\n",
      "Weights: [0.31413685 0.37108049 0.32772031], Accuracy: 0.8321143534876826\n",
      "Weights: [0.31284695 0.3712537  0.32723953], Accuracy: 0.8321019989622198\n",
      "Weights: [0.31467007 0.3705912  0.32781683], Accuracy: 0.8321267080131453\n",
      "Weights: [0.31434337 0.37021739 0.32759282], Accuracy: 0.8321267080131453\n",
      "Weights: [0.31444019 0.36980073 0.32731158], Accuracy: 0.8321019989622198\n",
      "Weights: [0.31423107 0.37068912 0.32770644], Accuracy: 0.8321267080131453\n",
      "Weights: [0.31437048 0.37009686 0.3274432 ], Accuracy: 0.8321267080131453\n",
      "Weights: [0.31426592 0.37054105 0.32764063], Accuracy: 0.8321267080131453\n",
      "Weights: [0.31427948 0.37048079 0.32756582], Accuracy: 0.8321267080131453\n",
      "Weights: [0.31411613 0.37029388 0.32745382], Accuracy: 0.8321267080131453\n",
      "Weights: [0.31405998 0.37052974 0.32751063], Accuracy: 0.8321267080131453\n",
      "Weights: [0.31412969 0.37023361 0.32737901], Accuracy: 0.8321267080131453\n",
      "Weights: [0.31407741 0.37045571 0.32747772], Accuracy: 0.8321267080131453\n",
      "Weights: [0.31408418 0.37042558 0.32744032], Accuracy: 0.8321267080131453\n",
      "Weights: [0.31400251 0.37033213 0.32738432], Accuracy: 0.8321267080131453\n",
      "Weights: [0.31397443 0.37045006 0.32741272], Accuracy: 0.8321267080131453\n",
      "Weights: [0.31400929 0.37030199 0.32734691], Accuracy: 0.8321267080131453\n",
      "Weights: [0.31398315 0.37041304 0.32739627], Accuracy: 0.8321267080131453\n",
      "Weights: [0.31398654 0.37039797 0.32737757], Accuracy: 0.8321267080131453\n",
      "Weights: [0.3139457  0.37035125 0.32734957], Accuracy: 0.8321267080131453\n",
      "Weights: [0.31393166 0.37041021 0.32736377], Accuracy: 0.8321267080131453\n"
     ]
    }
   ],
   "source": [
    "from scipy.optimize import minimize\n",
    "\n",
    "# We want to find the set of weights that maximizes the accuracy. We start with the initial weights.\n",
    "target = df_oof_preds[Config.TARGET_COL_NAME]\n",
    "res = minimize(acc_func, initial_weights, args=(df_oof_preds[pred_cols].to_numpy(), target), method='Nelder-Mead')\n",
    "model_weights = res[\"x\"]\n",
    "acc = res[\"fun\"]"
   ]
  },
  {
   "cell_type": "code",
   "execution_count": 53,
   "metadata": {},
   "outputs": [
    {
     "name": "stdout",
     "output_type": "stream",
     "text": [
      "Optimal Model Weights: [0.31029748 0.36613272 0.32356979]\n",
      "Optimal Accuracy: -0.8321267080131453\n"
     ]
    }
   ],
   "source": [
    "model_weights_normalized = model_weights / np.sum(model_weights)\n",
    "print(\"Optimal Model Weights:\", model_weights_normalized)\n",
    "print(\"Optimal Accuracy:\", acc)"
   ]
  },
  {
   "cell_type": "code",
   "execution_count": 54,
   "metadata": {},
   "outputs": [],
   "source": [
    "def get_weighted_test_preds_proba(test_preds, model_weights):\n",
    "    weighted_test_preds_proba = np.zeros((test_preds.shape[0], 3))\n",
    "    for i in range(len(model_weights)):\n",
    "        weighted_test_preds_proba += model_weights[i] * test_preds[:, i*3:(i+1)*3]\n",
    "    return weighted_test_preds_proba"
   ]
  },
  {
   "cell_type": "code",
   "execution_count": 55,
   "metadata": {},
   "outputs": [
    {
     "data": {
      "text/plain": [
       "2    26308\n",
       "0    15418\n",
       "1     9286\n",
       "Name: count, dtype: int64"
      ]
     },
     "execution_count": 55,
     "metadata": {},
     "output_type": "execute_result"
    }
   ],
   "source": [
    "weighted_test_preds_proba = get_weighted_test_preds_proba(df_test_preds[pred_cols].to_numpy(), model_weights_normalized)\n",
    "ensemble_test_preds = pd.Series(np.argmax(weighted_test_preds_proba, axis=1))\n",
    "ensemble_test_preds.value_counts()"
   ]
  },
  {
   "cell_type": "code",
   "execution_count": 56,
   "metadata": {},
   "outputs": [
    {
     "data": {
      "text/plain": [
       "Graduate    26308\n",
       "Dropout     15418\n",
       "Enrolled     9286\n",
       "Name: count, dtype: int64"
      ]
     },
     "execution_count": 56,
     "metadata": {},
     "output_type": "execute_result"
    }
   ],
   "source": [
    "# Mapping dictionary for class labels\n",
    "class_mapping = {0: \"Dropout\", 1: \"Enrolled\", 2: \"Graduate\"}\n",
    "# Replace class labels with corresponding strings using map\n",
    "ensemble_test_preds = ensemble_test_preds.map(class_mapping)\n",
    "ensemble_test_preds.value_counts()"
   ]
  },
  {
   "cell_type": "code",
   "execution_count": 57,
   "metadata": {},
   "outputs": [
    {
     "data": {
      "text/html": [
       "<div>\n",
       "<style scoped>\n",
       "    .dataframe tbody tr th:only-of-type {\n",
       "        vertical-align: middle;\n",
       "    }\n",
       "\n",
       "    .dataframe tbody tr th {\n",
       "        vertical-align: top;\n",
       "    }\n",
       "\n",
       "    .dataframe thead th {\n",
       "        text-align: right;\n",
       "    }\n",
       "</style>\n",
       "<table border=\"1\" class=\"dataframe\">\n",
       "  <thead>\n",
       "    <tr style=\"text-align: right;\">\n",
       "      <th></th>\n",
       "      <th>id</th>\n",
       "      <th>Target</th>\n",
       "    </tr>\n",
       "  </thead>\n",
       "  <tbody>\n",
       "    <tr>\n",
       "      <th>0</th>\n",
       "      <td>76518</td>\n",
       "      <td>Dropout</td>\n",
       "    </tr>\n",
       "    <tr>\n",
       "      <th>1</th>\n",
       "      <td>76519</td>\n",
       "      <td>Graduate</td>\n",
       "    </tr>\n",
       "    <tr>\n",
       "      <th>2</th>\n",
       "      <td>76520</td>\n",
       "      <td>Graduate</td>\n",
       "    </tr>\n",
       "    <tr>\n",
       "      <th>3</th>\n",
       "      <td>76521</td>\n",
       "      <td>Graduate</td>\n",
       "    </tr>\n",
       "    <tr>\n",
       "      <th>4</th>\n",
       "      <td>76522</td>\n",
       "      <td>Enrolled</td>\n",
       "    </tr>\n",
       "  </tbody>\n",
       "</table>\n",
       "</div>"
      ],
      "text/plain": [
       "      id    Target\n",
       "0  76518   Dropout\n",
       "1  76519  Graduate\n",
       "2  76520  Graduate\n",
       "3  76521  Graduate\n",
       "4  76522  Enrolled"
      ]
     },
     "execution_count": 57,
     "metadata": {},
     "output_type": "execute_result"
    }
   ],
   "source": [
    "df_submission[Config.TARGET_COL_NAME] = ensemble_test_preds\n",
    "df_submission.to_csv(BASE_MODELS_PATH + f'submission_ensemble.csv',index=False)\n",
    "df_submission.head()"
   ]
  }
 ],
 "metadata": {
  "kernelspec": {
   "display_name": "fastai",
   "language": "python",
   "name": "python3"
  },
  "language_info": {
   "codemirror_mode": {
    "name": "ipython",
    "version": 3
   },
   "file_extension": ".py",
   "mimetype": "text/x-python",
   "name": "python",
   "nbconvert_exporter": "python",
   "pygments_lexer": "ipython3",
   "version": "3.9.7"
  }
 },
 "nbformat": 4,
 "nbformat_minor": 2
}
