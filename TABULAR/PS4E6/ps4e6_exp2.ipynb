{
 "cells": [
  {
   "cell_type": "code",
   "execution_count": 145,
   "metadata": {},
   "outputs": [],
   "source": [
    "#!pip install ucimlrepo"
   ]
  },
  {
   "cell_type": "code",
   "execution_count": 146,
   "metadata": {},
   "outputs": [],
   "source": [
    "import sys\n",
    "import os\n",
    "import numpy as np\n",
    "import pandas as pd\n",
    "import seaborn as sns\n",
    "import matplotlib.pyplot as plt\n",
    "import optuna\n",
    "import statistics\n",
    "import re\n",
    "from sklearn.preprocessing import StandardScaler, OneHotEncoder, LabelEncoder\n",
    "from sklearn.compose import ColumnTransformer\n",
    "from sklearn.metrics import confusion_matrix, ConfusionMatrixDisplay, classification_report\n",
    "from sklearn.feature_selection import SelectFromModel, SequentialFeatureSelector\n",
    "from ucimlrepo import fetch_ucirepo\n",
    "from sklearn.utils import class_weight\n",
    "from functools import partial\n",
    "import warnings\n",
    "\n",
    "warnings.filterwarnings('ignore')\n"
   ]
  },
  {
   "cell_type": "code",
   "execution_count": 147,
   "metadata": {},
   "outputs": [],
   "source": [
    "sys.path.append(os.path.abspath(\"/home/bk_anupam/code/ML/ML_UTILS/\"))"
   ]
  },
  {
   "cell_type": "code",
   "execution_count": 148,
   "metadata": {},
   "outputs": [],
   "source": [
    "import train_tabular_utils as tt\n",
    "import cv_split_utils\n",
    "import enums\n",
    "import data_utils"
   ]
  },
  {
   "cell_type": "code",
   "execution_count": 149,
   "metadata": {},
   "outputs": [],
   "source": [
    "class Config:\n",
    "    RUN_MODE = \"LOCAL\"\n",
    "    RANDOM_SEED = 42\n",
    "    NUM_FOLDS = 5\n",
    "    TARGET_COL_NAME = \"Target\"        \n",
    "    SCALER = enums.Scaler.StandardScaler\n",
    "    METRIC = enums.Metrics.ACCURACY\n",
    "    # These values are more dynamic   \n",
    "    MODEL_TYPE = enums.ModelName.LogisticRegression\n",
    "    NUM_TUNING_TRIALS = 25\n",
    "    TUNE_ON_SINGLE_FOLD = True\n",
    "    TRAIN_SINGLE_FOLD = False    \n",
    "    PERSIST_MODEL = False\n",
    "    USE_OPENFE_FEATURES = True\n",
    "    CREATE_MANUAL_FEATURES = False\n",
    "    USE_ORIGINAL_DATA = True\n",
    "    NUM_CLASSES = 3\n",
    "\n",
    "COLS_TO_LEAVE = [\"id\", \"Target\", \"kfold\"]\n",
    "CPU_COUNT = os.cpu_count()\n",
    "\n",
    "DATA_READPATH = \"./data/\"\n",
    "DATA_WRITEPATH = \"./output/\"\n",
    "SUBMISSION_FILEPATH = DATA_READPATH\n",
    "if Config.RUN_MODE == \"KAGGLE\":    \n",
    "    DATA_READPATH = \"/kaggle/input/playground-series-s4e6/\"\n",
    "    if Config.USE_OPENFE_FEATURES:\n",
    "        DATA_READPATH = \"/kaggle/input/ps4e6-openfe/\"\n",
    "    SUBMISSION_FILEPATH = \"/kaggle/input/playground-series-s4e6/\"\n",
    "    DATA_WRITEPATH = \"/kaggle/working/\""
   ]
  },
  {
   "cell_type": "code",
   "execution_count": 150,
   "metadata": {},
   "outputs": [],
   "source": [
    "# fetch original dataset \n",
    "predict_students_dropout_and_academic_success = fetch_ucirepo(id=697) \n",
    "df_train_orig = predict_students_dropout_and_academic_success.data.features \n",
    "df_train_orig[Config.TARGET_COL_NAME] = predict_students_dropout_and_academic_success.data.targets[Config.TARGET_COL_NAME]\n",
    "# rename column 'Marital Status' to 'Marital status'\n",
    "df_train_orig = df_train_orig.rename(columns={'Marital Status': 'Marital status'})"
   ]
  },
  {
   "cell_type": "code",
   "execution_count": 151,
   "metadata": {},
   "outputs": [
    {
     "data": {
      "text/plain": [
       "Series([], dtype: int64)"
      ]
     },
     "execution_count": 151,
     "metadata": {},
     "output_type": "execute_result"
    }
   ],
   "source": [
    "# no missing values in original data\n",
    "na_orig = df_train_orig.isna().sum()\n",
    "na_orig.loc[na_orig > 0]"
   ]
  },
  {
   "cell_type": "code",
   "execution_count": 152,
   "metadata": {},
   "outputs": [
    {
     "name": "stdout",
     "output_type": "stream",
     "text": [
      "using generated openfe features on both train and original data\n"
     ]
    }
   ],
   "source": [
    "if Config.USE_OPENFE_FEATURES and not Config.USE_ORIGINAL_DATA:\n",
    "    print(\"using generated openfe features only on train data\")\n",
    "    df_train = pd.read_csv(DATA_READPATH + \"train_openfe.csv\")    \n",
    "    df_test = pd.read_csv(DATA_READPATH + \"test_openfe.csv\")\n",
    "elif Config.USE_OPENFE_FEATURES and Config.USE_ORIGINAL_DATA:\n",
    "    print(\"using generated openfe features on both train and original data\")\n",
    "    df_train = pd.read_csv(DATA_READPATH + \"train_orig_openfe.csv\")    \n",
    "    df_test = pd.read_csv(DATA_READPATH + \"test_orig_openfe.csv\")\n",
    "else:    \n",
    "    df_train = pd.read_csv(DATA_READPATH + \"train.csv\")\n",
    "    df_train = df_train.drop(\"id\", axis=1)    \n",
    "    df_test = pd.read_csv(DATA_READPATH + \"test.csv\")\n",
    "    df_test = df_test.drop(\"id\", axis=1)\n",
    "    if Config.USE_ORIGINAL_DATA:\n",
    "        # add df_train_orig rows to df_train\n",
    "        df_train = pd.concat([df_train, df_train_orig], axis=0, ignore_index=True)"
   ]
  },
  {
   "cell_type": "code",
   "execution_count": 153,
   "metadata": {},
   "outputs": [
    {
     "data": {
      "text/plain": [
       "['Dropout', 'Enrolled', 'Graduate']"
      ]
     },
     "execution_count": 153,
     "metadata": {},
     "output_type": "execute_result"
    }
   ],
   "source": [
    "# Label encoding of target values\n",
    "le = LabelEncoder()\n",
    "le.fit(df_train[Config.TARGET_COL_NAME])\n",
    "df_train[Config.TARGET_COL_NAME] = le.transform(df_train[Config.TARGET_COL_NAME])\n",
    "list(le.classes_)"
   ]
  },
  {
   "cell_type": "code",
   "execution_count": 154,
   "metadata": {},
   "outputs": [
    {
     "name": "stdout",
     "output_type": "stream",
     "text": [
      "[1.00986887 1.71480022 0.7009604 ]\n"
     ]
    }
   ],
   "source": [
    "# Dropout = 0.33, Enrolled = 0.2, Graduate = 0.47\n",
    "# Increase the weight of the minority class for model to focus more on the minority class\n",
    "# calculate class weights\n",
    "class_weights = class_weight.compute_class_weight(class_weight='balanced', classes=np.unique(df_train.Target), y=df_train.Target)\n",
    "print(class_weights)"
   ]
  },
  {
   "cell_type": "code",
   "execution_count": 155,
   "metadata": {},
   "outputs": [],
   "source": [
    "model_static_params = {\n",
    "    enums.ModelName.XGBoost: {\n",
    "        \"objective\": \"multi:softmax\",        \n",
    "        \"seed\": Config.RANDOM_SEED,\n",
    "        \"verbosity\": 0,\n",
    "        \"num_class\": 3,\n",
    "        \"eval_metric\": \"merror\"\n",
    "    },\n",
    "    enums.ModelName.LGBM: {\n",
    "        \"objective\": \"multiclass\",\n",
    "        \"metric\": 'multi_error',\n",
    "        \"verbosity\": -1,    # <0: fatal, =0: error (warn), =1: info, >1: debug\n",
    "        \"boosting_type\": \"gbdt\",\n",
    "        \"num_class\": 3,\n",
    "    },\n",
    "    enums.ModelName.CatBoost: {\n",
    "        \"objective\": \"MultiClass\",\n",
    "        \"verbose\": 0,\n",
    "        \"random_seed\": Config.RANDOM_SEED,\n",
    "        \"eval_metric\": \"Accuracy\",\n",
    "        'grow_policy':  'Lossguide',\n",
    "        #'bootstrap_type': 'Poisson',\n",
    "        #'class_weights': class_weights,\n",
    "        'task_type': 'CPU'\n",
    "    },\n",
    "    enums.ModelName.RandomForest: {\n",
    "        \"random_state\": Config.RANDOM_SEED,\n",
    "        \"n_jobs\": -1\n",
    "    }\n",
    "}"
   ]
  },
  {
   "cell_type": "code",
   "execution_count": 156,
   "metadata": {},
   "outputs": [],
   "source": [
    "# For RandomForest\n",
    "#tuned_model_params = {'n_estimators': 1300, 'max_depth': 17, 'min_samples_leaf': 3, 'min_samples_split': 3, 'max_features': 'sqrt'}\n",
    "# For CatBoost\n",
    "# tuned_model_params = {'learning_rate': 0.45126024670762294, 'n_estimators': 3700, 'max_depth': 7, 'min_data_in_leaf': 73, 'colsample_bylevel': 0.8908705634626486, 'num_leaves': 120, 'reg_lambda': 98.46961225632553, 'random_strength': 0.016359736302592447, 'early_stopping_rounds': 210, 'max_bin': 253}\n",
    "# For XGBoost\n",
    "#tuned_model_params = {'n_estimators': 1400, 'learning_rate': 0.10270166896064774, 'max_depth': 30, 'min_child_weight': 7, 'gamma': 4.123490349502186, 'subsample': 0.5067185283456936, 'colsample_bytree': 0.7289930512882908, 'reg_alpha': 0.5971832077526927, 'reg_lambda': 9.433125479981229, 'early_stopping_rounds': 260}\n",
    "\n",
    "tuned_model_params = None"
   ]
  },
  {
   "cell_type": "code",
   "execution_count": 157,
   "metadata": {},
   "outputs": [],
   "source": [
    "def process_col_name(cols_list):\n",
    "    processed_cols_list = []\n",
    "    for item in cols_list:\n",
    "        # Remove round brackets but keep the text inside them\n",
    "        item_no_brackets = re.sub(r'[\\(\\)]', '', item)\n",
    "        # Remove single quotes\n",
    "        item_no_quotes = item_no_brackets.replace(\"'\", \"\")\n",
    "        # Replace spaces with underscores\n",
    "        item_processed = item_no_quotes.replace(' ', '_')\n",
    "        # Append to the processed list\n",
    "        processed_cols_list.append(item_processed)\n",
    "    return processed_cols_list"
   ]
  },
  {
   "cell_type": "code",
   "execution_count": 158,
   "metadata": {},
   "outputs": [],
   "source": [
    "train_cols_list = df_train.columns.to_list()\n",
    "test_cols_list = df_test.columns.to_list()\n",
    "train_processed_cols_list = process_col_name(train_cols_list)\n",
    "test_processed_cols_list = process_col_name(test_cols_list)\n",
    "df_train.columns = train_processed_cols_list\n",
    "df_test.columns = test_processed_cols_list"
   ]
  },
  {
   "cell_type": "code",
   "execution_count": 159,
   "metadata": {},
   "outputs": [],
   "source": [
    "# feature engineering\n",
    "def create_features(df):\n",
    "    # (Tuition_fees_up_to_date*Curricular_units_2nd_sem_approved)\n",
    "    df[\"f_1\"] = df[\"Tuition_fees_up_to_date\"] * df[\"Curricular_units_2nd_sem_approved\"]\n",
    "    # (Curricular_units_1st_sem_approved+Curricular_units_2nd_sem_approved)\n",
    "    df[\"f_2\"] = df[\"Curricular_units_1st_sem_approved\"] + df[\"Curricular_units_2nd_sem_approved\"]\n",
    "    # (Curricular_units_2nd_sem_grade*Curricular_units_2nd_sem_approved)\n",
    "    df[\"f_3\"] = df[\"Curricular_units_2nd_sem_grade\"] * df[\"Curricular_units_2nd_sem_approved\"]\n",
    "    # (Curricular_units_2nd_sem_grade+Curricular_units_2nd_sem_approved)\n",
    "    df[\"f_4\"] = df[\"Curricular_units_2nd_sem_grade\"] + df[\"Curricular_units_2nd_sem_approved\"]\n",
    "    # (Curricular_units_2nd_sem_grade+Scholarship_holder)\n",
    "    df[\"f_5\"] = df[\"Curricular_units_2nd_sem_grade\"] + df[\"Scholarship_holder\"]\n",
    "    # (Curricular_units_1st_sem_grade+Scholarship_holder)\n",
    "    df[\"f_6\"] = df[\"Curricular_units_1st_sem_grade\"] + df[\"Scholarship_holder\"]\n",
    "    # (Curricular_units_2nd_sem_enrolled-Curricular_units_2nd_sem_approved)\n",
    "    df[\"f_7\"] = df[\"Curricular_units_2nd_sem_enrolled\"] - df[\"Curricular_units_2nd_sem_approved\"]\n",
    "    # (Curricular_units_1st_sem_enrolled-Curricular_units_2nd_sem_approved)\n",
    "    df[\"f_8\"] = df[\"Curricular_units_1st_sem_enrolled\"] - df[\"Curricular_units_2nd_sem_approved\"]\n",
    "    # (Curricular_units_2nd_sem_grade-Curricular_units_1st_sem_evaluations)\n",
    "    df[\"f_9\"] = df[\"Curricular_units_2nd_sem_grade\"] - df[\"Curricular_units_1st_sem_evaluations\"]\n",
    "    # (Curricular_units_1st_sem_grade/Age_at_enrollment)\n",
    "    df[\"f_10\"] = df[\"Curricular_units_1st_sem_grade\"] / df[\"Age_at_enrollment\"]\n",
    "    # (Curricular_units_1st_sem_evaluations-Curricular_units_2nd_sem_approved)\n",
    "    df[\"f_11\"] = df[\"Curricular_units_1st_sem_evaluations\"] - df[\"Curricular_units_2nd_sem_approved\"]\n",
    "    # GroupByThenRank(Curricular_units_2nd_sem_approved,Curricular_units_1st_sem_enrolled)    \n",
    "    df[\"f_12\"] = df.groupby('Curricular_units_1st_sem_enrolled')['Curricular_units_2nd_sem_approved'].rank(method=\"dense\", ascending=False)\n",
    "    # GroupByThenRank(Curricular_units_2nd_sem_approved,Mothers_occupation)\n",
    "    df[\"f_13\"] = df.groupby('Mothers_occupation')['Curricular_units_2nd_sem_approved'].rank(method=\"dense\", ascending=False)\n",
    "    # GroupByThenRank(Scholarship_holder,Age_at_enrollment)\n",
    "    df[\"f_14\"] = df.groupby('Age_at_enrollment')['Scholarship_holder'].rank(method=\"dense\", ascending=False)\n",
    "    # GroupByThenRank(Scholarship_holder,Curricular_units_2nd_sem_approved)\n",
    "    df[\"f_15\"] = df.groupby('Curricular_units_2nd_sem_approved')['Scholarship_holder'].rank(method=\"dense\", ascending=False)\n",
    "    # CombineThenFreq(Course,Curricular_units_1st_sem_approved)\n",
    "    df[\"f_16\"] = df.groupby('Course')['Curricular_units_1st_sem_approved'].transform('count')\n",
    "    return df"
   ]
  },
  {
   "cell_type": "code",
   "execution_count": 160,
   "metadata": {},
   "outputs": [],
   "source": [
    "if Config.CREATE_MANUAL_FEATURES:\n",
    "    df_train = create_features(df_train)\n",
    "    df_test = create_features(df_test)"
   ]
  },
  {
   "cell_type": "code",
   "execution_count": 161,
   "metadata": {},
   "outputs": [
    {
     "data": {
      "text/plain": [
       "['autoFE_f_1',\n",
       " 'autoFE_f_2',\n",
       " 'autoFE_f_3',\n",
       " 'autoFE_f_5',\n",
       " 'autoFE_f_6',\n",
       " 'autoFE_f_7',\n",
       " 'autoFE_f_10',\n",
       " 'autoFE_f_13',\n",
       " 'autoFE_f_15',\n",
       " 'autoFE_f_16',\n",
       " 'autoFE_f_17',\n",
       " 'autoFE_f_18',\n",
       " 'autoFE_f_19',\n",
       " 'autoFE_f_23',\n",
       " 'autoFE_f_31',\n",
       " 'autoFE_f_37',\n",
       " 'autoFE_f_42',\n",
       " 'autoFE_f_47']"
      ]
     },
     "execution_count": 161,
     "metadata": {},
     "output_type": "execute_result"
    }
   ],
   "source": [
    "na_val = df_train.isna().sum()\n",
    "null_features = na_val.loc[na_val > 0].index.values.tolist()\n",
    "null_features"
   ]
  },
  {
   "cell_type": "code",
   "execution_count": 162,
   "metadata": {},
   "outputs": [],
   "source": [
    "cat_features = ['Marital_status', 'Application_mode', 'Course', 'Daytime/evening_attendance', 'Previous_qualification',\n",
    "    'Nacionality', 'Mothers_qualification', 'Fathers_qualification', 'Mothers_occupation', 'Fathers_occupation', 'Displaced',\n",
    "    'Educational_special_needs', 'Debtor', 'Tuition_fees_up_to_date','Gender', 'Scholarship_holder', 'International']"
   ]
  },
  {
   "cell_type": "code",
   "execution_count": 163,
   "metadata": {},
   "outputs": [],
   "source": [
    "cont_features = [x for x in df_train.dtypes[df_train.dtypes == \"float\"].index.values if x not in null_features]\n",
    "int_features = [x for x in df_train.dtypes[df_train.dtypes == \"int\"].index.values if x not in COLS_TO_LEAVE+null_features]\n",
    "feature_cols = df_test.columns.to_list()\n",
    "feature_cols_after_fe = [x for x in df_train.columns if x not in COLS_TO_LEAVE+null_features]"
   ]
  },
  {
   "cell_type": "code",
   "execution_count": 164,
   "metadata": {},
   "outputs": [],
   "source": [
    "# for categorical features find the categories to be used for one hot encoding\n",
    "int_feature_categories = []\n",
    "for int_feature in int_features:\n",
    "    int_feature_categories.append(sorted(df_train[int_feature].unique()))"
   ]
  },
  {
   "cell_type": "code",
   "execution_count": 165,
   "metadata": {},
   "outputs": [
    {
     "name": "stdout",
     "output_type": "stream",
     "text": [
      "len(feature_cols_after_fe)=68\n",
      "['Marital_status', 'Application_mode', 'Application_order', 'Course', 'Daytime/evening_attendance', 'Previous_qualification', 'Previous_qualification_grade', 'Nacionality', 'Mothers_qualification', 'Fathers_qualification', 'Mothers_occupation', 'Fathers_occupation', 'Admission_grade', 'Displaced', 'Educational_special_needs', 'Debtor', 'Tuition_fees_up_to_date', 'Gender', 'Scholarship_holder', 'Age_at_enrollment', 'International', 'Curricular_units_1st_sem_credited', 'Curricular_units_1st_sem_enrolled', 'Curricular_units_1st_sem_evaluations', 'Curricular_units_1st_sem_approved', 'Curricular_units_1st_sem_grade', 'Curricular_units_1st_sem_without_evaluations', 'Curricular_units_2nd_sem_credited', 'Curricular_units_2nd_sem_enrolled', 'Curricular_units_2nd_sem_evaluations', 'Curricular_units_2nd_sem_approved', 'Curricular_units_2nd_sem_grade', 'Curricular_units_2nd_sem_without_evaluations', 'Unemployment_rate', 'Inflation_rate', 'GDP', 'autoFE_f_0', 'autoFE_f_4', 'autoFE_f_8', 'autoFE_f_9', 'autoFE_f_11', 'autoFE_f_12', 'autoFE_f_14', 'autoFE_f_20', 'autoFE_f_21', 'autoFE_f_22', 'autoFE_f_24', 'autoFE_f_25', 'autoFE_f_26', 'autoFE_f_27', 'autoFE_f_28', 'autoFE_f_29', 'autoFE_f_30', 'autoFE_f_32', 'autoFE_f_33', 'autoFE_f_34', 'autoFE_f_35', 'autoFE_f_36', 'autoFE_f_38', 'autoFE_f_39', 'autoFE_f_40', 'autoFE_f_41', 'autoFE_f_43', 'autoFE_f_44', 'autoFE_f_45', 'autoFE_f_46', 'autoFE_f_48', 'autoFE_f_49']\n"
     ]
    }
   ],
   "source": [
    "print(f\"len(feature_cols_after_fe)={len(feature_cols_after_fe)}\")\n",
    "print(feature_cols_after_fe)"
   ]
  },
  {
   "cell_type": "code",
   "execution_count": 166,
   "metadata": {},
   "outputs": [],
   "source": [
    "# preprocessing\n",
    "preprocessor = None\n",
    "scaler = StandardScaler()\n",
    "onehot_encoder = OneHotEncoder(sparse_output=False, handle_unknown=\"ignore\", categories=int_feature_categories)\n",
    "if Config.MODEL_TYPE == enums.ModelName.LogisticRegression:\n",
    "    preprocessor = ColumnTransformer(\n",
    "        transformers=[                \n",
    "            (\"scaler\", scaler, feature_cols_after_fe),\n",
    "            (\"onehot\", onehot_encoder, int_features),                \n",
    "        ], remainder=\"passthrough\"\n",
    "    )\n",
    "else:\n",
    "    preprocessor = ColumnTransformer(\n",
    "        transformers=[                \n",
    "            (\"scaler\", scaler, cont_features)     \n",
    "        ], remainder=\"passthrough\"\n",
    "    )"
   ]
  },
  {
   "cell_type": "code",
   "execution_count": null,
   "metadata": {},
   "outputs": [],
   "source": [
    "def get_lgbm_tuning_params(trial):    \n",
    "    params_dynamic = {\n",
    "        'learning_rate': trial.suggest_float('learning_rate', 1e-2, 1.0, log=True),\n",
    "        'n_estimators': trial.suggest_int('n_estimators', 500, 5000, step=100),\n",
    "        'max_depth': trial.suggest_int('max_depth', 4, 20),\n",
    "        'min_child_weight': trial.suggest_int('min_child_weight', 1, 10),\n",
    "        'subsample': trial.suggest_float('subsample', 0.5, 1),\n",
    "        'colsample_bytree': trial.suggest_float('colsample_bytree', 0.5, 1),\n",
    "        'num_leaves': trial.suggest_int('num_leaves', 4, 256, step=4),\n",
    "        'reg_alpha': trial.suggest_float('reg_alpha', 0, 1),\n",
    "        'reg_lambda': trial.suggest_float('reg_lambda', 1, 200),\n",
    "        'early_stopping_rounds': trial.suggest_int('early_stopping_rounds', 50, 500, step=20)\n",
    "    }\n",
    "    return {**model_static_params[enums.ModelName.LGBM], **params_dynamic}"
   ]
  },
  {
   "cell_type": "code",
   "execution_count": 167,
   "metadata": {},
   "outputs": [],
   "source": [
    "def get_xgb_tuning_params(trial):\n",
    "    params_dynamic = {            \n",
    "            'n_estimators': trial.suggest_int('n_estimators', 1000, 5000, step=100),\n",
    "            'learning_rate': trial.suggest_float('learning_rate', 1e-2, 1.0, log=True),\n",
    "            'max_depth': trial.suggest_int('max_depth', 4, 32),\n",
    "            'min_child_weight': trial.suggest_int('min_child_weight', 1, 10),\n",
    "            'gamma': trial.suggest_float('gamma', 0, 10),\n",
    "            'subsample': trial.suggest_float('subsample', 0.5, 1),\n",
    "            'colsample_bytree': trial.suggest_float('colsample_bytree', 0.5, 1),\n",
    "            'reg_alpha': trial.suggest_float('reg_alpha', 0, 1),\n",
    "            'reg_lambda': trial.suggest_float('reg_lambda', 1, 200),\n",
    "            'early_stopping_rounds': trial.suggest_int('early_stopping_rounds', 100, 500, step=20)\n",
    "        }\n",
    "    return {**model_static_params[enums.ModelName.XGBoost], **params_dynamic}"
   ]
  },
  {
   "cell_type": "code",
   "execution_count": 168,
   "metadata": {},
   "outputs": [],
   "source": [
    "def get_catboost_tuning_params(trial):\n",
    "    params_dynamic = {\n",
    "        'learning_rate': trial.suggest_float('learning_rate', 1e-3, 1.0, log=True),\n",
    "        'n_estimators': trial.suggest_int('n_estimators', 100, 5000, step=50),\n",
    "        'max_depth': trial.suggest_int('max_depth', 4, 16),\n",
    "        'min_data_in_leaf': trial.suggest_int('min_data_in_leaf', 5, 100),\n",
    "        #'subsample': trial.suggest_float('subsample', 0.5, 1),\n",
    "        # comment colsample_bylevel for GPU training\n",
    "        'colsample_bylevel': trial.suggest_float('colsample_bylevel', 0.5, 1),\n",
    "        'num_leaves': trial.suggest_int('num_leaves', 4, 256, step=4),\n",
    "        'reg_lambda': trial.suggest_float('reg_lambda', 1, 100),\n",
    "        'random_strength': trial.suggest_loguniform('random_strength', 0.01, 10),\n",
    "        'early_stopping_rounds': trial.suggest_int('early_stopping_rounds', 50, 500, step=20),\n",
    "        'max_bin': trial.suggest_int('max_bin', 32, 255)\n",
    "    }\n",
    "    return {**model_static_params[enums.ModelName.CatBoost], **params_dynamic}"
   ]
  },
  {
   "cell_type": "code",
   "execution_count": 169,
   "metadata": {},
   "outputs": [],
   "source": [
    "def get_model_tuning_params(trial, model_name):\n",
    "    if model_name == enums.ModelName.LogisticRegression:\n",
    "        penalty = ['l1', 'l2']\n",
    "        return {        \n",
    "            \"C\": trial.suggest_loguniform(\"C\", 1e-3, 100),\n",
    "            \"penalty\": trial.suggest_categorical(\"penalty\", penalty)\n",
    "        }    \n",
    "    if model_name == enums.ModelName.RandomForest:\n",
    "        return {        \n",
    "            \"n_estimators\": trial.suggest_int(\"n_estimators\", 200, 3000, step=100),\n",
    "            \"max_depth\": trial.suggest_int(\"max_depth\", 10, 30),\n",
    "            \"min_samples_leaf\": trial.suggest_int(\"min_samples_leaf\", 2, 16),\n",
    "            \"min_samples_split\": trial.suggest_int(\"min_samples_split\", 2, 16),\n",
    "            \"max_features\": trial.suggest_categorical(\"max_features\", [\"log2\", \"sqrt\", None])\n",
    "        }\n",
    "    if model_name == enums.ModelName.CatBoost:\n",
    "        return get_catboost_tuning_params(trial)\n",
    "    if model_name == enums.ModelName.XGBoost:\n",
    "        return get_xgb_tuning_params(trial) \n",
    "    if model_name == enums.ModelName.LGBM:\n",
    "        return get_lgbm_tuning_params(trial)   "
   ]
  },
  {
   "cell_type": "code",
   "execution_count": 170,
   "metadata": {},
   "outputs": [],
   "source": [
    "def hyperparams_tuning_objective(trial, model_name, preprocessor, df,  \n",
    "                                 feature_cols, metric, target_col_name, single_fold=False, num_folds=5):               \n",
    "    model_params = get_model_tuning_params(trial, model_name)    \n",
    "    fold_metrics_model, _, _ = tt.train_and_validate(\n",
    "                                        model_name=model_name,\n",
    "                                        model_params=model_params,\n",
    "                                        preprocessor=preprocessor,\n",
    "                                        df=df,\n",
    "                                        feature_cols=feature_cols,\n",
    "                                        target_col_name=target_col_name,\n",
    "                                        metric=metric,\n",
    "                                        single_fold=single_fold,\n",
    "                                        num_folds=num_folds,\n",
    "                                        suppress_print=True,\n",
    "                                        num_classes=Config.NUM_CLASSES\n",
    "                                    )\n",
    "    fold_metrics = [x[0] for x in fold_metrics_model]\n",
    "    mean_metric = statistics.mean(fold_metrics)                \n",
    "    return mean_metric"
   ]
  },
  {
   "cell_type": "code",
   "execution_count": 171,
   "metadata": {},
   "outputs": [],
   "source": [
    "def tune_model_params(study_name, study_direction, num_trials, model_name, \n",
    "                      preprocessor, df,  feature_cols, metric, target_col_name, \n",
    "                      single_fold=False, num_folds=5):\n",
    "    model_params_tuning_obj_partial = partial(\n",
    "        hyperparams_tuning_objective,\n",
    "        model_name=model_name,        \n",
    "        preprocessor=preprocessor,        \n",
    "        df=df,\n",
    "        feature_cols=feature_cols,\n",
    "        metric=metric,\n",
    "        target_col_name=target_col_name,\n",
    "        single_fold=single_fold,\n",
    "        num_folds=num_folds\n",
    "    )\n",
    "    study = optuna.create_study(direction=study_direction, study_name=study_name)\n",
    "    study.optimize(model_params_tuning_obj_partial, n_trials=num_trials)\n",
    "    best_trial = study.best_trial\n",
    "    print(f\"Best trial: number = {best_trial.number}, value = {best_trial.value}, params = {best_trial.params}\")\n",
    "    return best_trial.params"
   ]
  },
  {
   "cell_type": "code",
   "execution_count": 172,
   "metadata": {},
   "outputs": [],
   "source": [
    "df_train = cv_split_utils.strat_kfold_dataframe(df_train, \n",
    "                                                target_col_name=Config.TARGET_COL_NAME, \n",
    "                                                random_state=Config.RANDOM_SEED, \n",
    "                                                num_folds=Config.NUM_FOLDS)"
   ]
  },
  {
   "cell_type": "code",
   "execution_count": 173,
   "metadata": {},
   "outputs": [
    {
     "name": "stderr",
     "output_type": "stream",
     "text": [
      "[I 2024-06-15 12:13:25,277] A new study created in memory with name: LogisticRegression_ModelTuning\n",
      "[I 2024-06-15 12:13:43,311] Trial 0 finished with value: 0.8309345852121811 and parameters: {'C': 38.49119721953264, 'penalty': 'l2'}. Best is trial 0 with value: 0.8309345852121811.\n",
      "[I 2024-06-15 12:14:00,842] Trial 1 finished with value: 0.8309345852121811 and parameters: {'C': 0.2301410457243783, 'penalty': 'l1'}. Best is trial 0 with value: 0.8309345852121811.\n",
      "[I 2024-06-15 12:14:14,818] Trial 2 finished with value: 0.8309345852121811 and parameters: {'C': 23.37062917268853, 'penalty': 'l2'}. Best is trial 0 with value: 0.8309345852121811.\n",
      "[I 2024-06-15 12:14:29,520] Trial 3 finished with value: 0.8309345852121811 and parameters: {'C': 0.03386765488470402, 'penalty': 'l2'}. Best is trial 0 with value: 0.8309345852121811.\n",
      "[I 2024-06-15 12:14:41,116] Trial 4 finished with value: 0.8309345852121811 and parameters: {'C': 17.65068974894247, 'penalty': 'l1'}. Best is trial 0 with value: 0.8309345852121811.\n",
      "[I 2024-06-15 12:14:53,453] Trial 5 finished with value: 0.8309345852121811 and parameters: {'C': 0.5481802186126948, 'penalty': 'l1'}. Best is trial 0 with value: 0.8309345852121811.\n",
      "[I 2024-06-15 12:15:12,561] Trial 6 finished with value: 0.8309345852121811 and parameters: {'C': 0.013531056180790323, 'penalty': 'l2'}. Best is trial 0 with value: 0.8309345852121811.\n",
      "[I 2024-06-15 12:15:27,637] Trial 7 finished with value: 0.8309345852121811 and parameters: {'C': 69.55535346404109, 'penalty': 'l1'}. Best is trial 0 with value: 0.8309345852121811.\n",
      "[I 2024-06-15 12:15:42,383] Trial 8 finished with value: 0.8309345852121811 and parameters: {'C': 0.020166989008641445, 'penalty': 'l1'}. Best is trial 0 with value: 0.8309345852121811.\n",
      "[I 2024-06-15 12:15:55,173] Trial 9 finished with value: 0.8309345852121811 and parameters: {'C': 0.19312816953674125, 'penalty': 'l2'}. Best is trial 0 with value: 0.8309345852121811.\n",
      "[I 2024-06-15 12:16:07,976] Trial 10 finished with value: 0.8309345852121811 and parameters: {'C': 2.1730618165497964, 'penalty': 'l2'}. Best is trial 0 with value: 0.8309345852121811.\n",
      "[I 2024-06-15 12:16:20,239] Trial 11 finished with value: 0.8309345852121811 and parameters: {'C': 0.0012255369231713538, 'penalty': 'l1'}. Best is trial 0 with value: 0.8309345852121811.\n",
      "[I 2024-06-15 12:16:34,705] Trial 12 finished with value: 0.8309345852121811 and parameters: {'C': 2.8247357003256788, 'penalty': 'l1'}. Best is trial 0 with value: 0.8309345852121811.\n",
      "[I 2024-06-15 12:16:49,399] Trial 13 finished with value: 0.8309345852121811 and parameters: {'C': 0.19860184916960105, 'penalty': 'l2'}. Best is trial 0 with value: 0.8309345852121811.\n",
      "[I 2024-06-15 12:17:02,418] Trial 14 finished with value: 0.8309345852121811 and parameters: {'C': 2.0324530079294894, 'penalty': 'l1'}. Best is trial 0 with value: 0.8309345852121811.\n",
      "[I 2024-06-15 12:17:14,960] Trial 15 finished with value: 0.8309345852121811 and parameters: {'C': 7.845822896503926, 'penalty': 'l2'}. Best is trial 0 with value: 0.8309345852121811.\n",
      "[I 2024-06-15 12:17:33,390] Trial 16 finished with value: 0.8309345852121811 and parameters: {'C': 81.02437587899907, 'penalty': 'l1'}. Best is trial 0 with value: 0.8309345852121811.\n",
      "[I 2024-06-15 12:17:49,461] Trial 17 finished with value: 0.8309345852121811 and parameters: {'C': 0.06670544218328973, 'penalty': 'l2'}. Best is trial 0 with value: 0.8309345852121811.\n",
      "[I 2024-06-15 12:18:06,137] Trial 18 finished with value: 0.8309345852121811 and parameters: {'C': 0.5103172541640276, 'penalty': 'l1'}. Best is trial 0 with value: 0.8309345852121811.\n",
      "[I 2024-06-15 12:18:18,375] Trial 19 finished with value: 0.8309345852121811 and parameters: {'C': 0.003750797889034548, 'penalty': 'l2'}. Best is trial 0 with value: 0.8309345852121811.\n",
      "[I 2024-06-15 12:18:35,391] Trial 20 finished with value: 0.8309345852121811 and parameters: {'C': 0.0941243719067049, 'penalty': 'l2'}. Best is trial 0 with value: 0.8309345852121811.\n",
      "[I 2024-06-15 12:18:48,011] Trial 21 finished with value: 0.8309345852121811 and parameters: {'C': 14.679801762463981, 'penalty': 'l2'}. Best is trial 0 with value: 0.8309345852121811.\n",
      "[I 2024-06-15 12:18:59,975] Trial 22 finished with value: 0.8309345852121811 and parameters: {'C': 37.233836260192604, 'penalty': 'l2'}. Best is trial 0 with value: 0.8309345852121811.\n",
      "[I 2024-06-15 12:19:13,181] Trial 23 finished with value: 0.8309345852121811 and parameters: {'C': 5.929548772835682, 'penalty': 'l2'}. Best is trial 0 with value: 0.8309345852121811.\n",
      "[I 2024-06-15 12:19:25,665] Trial 24 finished with value: 0.8309345852121811 and parameters: {'C': 1.0402765350003143, 'penalty': 'l2'}. Best is trial 0 with value: 0.8309345852121811.\n"
     ]
    },
    {
     "name": "stdout",
     "output_type": "stream",
     "text": [
      "Best trial: number = 0, value = 0.8309345852121811, params = {'C': 38.49119721953264, 'penalty': 'l2'}\n"
     ]
    }
   ],
   "source": [
    "if tuned_model_params is None:\n",
    "    #df = df_train.sample(frac=0.1, random_state=Config.RANDOM_SEED)\n",
    "    tuned_model_params = tune_model_params(\n",
    "                            study_name=Config.MODEL_TYPE + \"_ModelTuning\", \n",
    "                            study_direction=\"maximize\",\n",
    "                            num_trials=Config.NUM_TUNING_TRIALS,\n",
    "                            model_name=Config.MODEL_TYPE,\n",
    "                            preprocessor=preprocessor,\n",
    "                            df=df_train,\n",
    "                            feature_cols=feature_cols_after_fe,\n",
    "                            metric=Config.METRIC,\n",
    "                            target_col_name=Config.TARGET_COL_NAME,\n",
    "                            single_fold=Config.TUNE_ON_SINGLE_FOLD,\n",
    "                            num_folds=Config.NUM_FOLDS\n",
    "                    )"
   ]
  },
  {
   "cell_type": "code",
   "execution_count": 174,
   "metadata": {},
   "outputs": [],
   "source": [
    "model_params = None\n",
    "params_static = model_static_params.get(Config.MODEL_TYPE)\n",
    "if params_static is not None and tuned_model_params is not None:\n",
    "    model_params = {**model_static_params[Config.MODEL_TYPE], **tuned_model_params}\n",
    "else:\n",
    "    model_params = tuned_model_params"
   ]
  },
  {
   "cell_type": "code",
   "execution_count": 175,
   "metadata": {},
   "outputs": [
    {
     "name": "stdout",
     "output_type": "stream",
     "text": [
      "Fold 0 - LogisticRegression - ACCURACY : 0.8309345852121811\n",
      "Fold 1 - LogisticRegression - ACCURACY : 0.8261782691951325\n",
      "Fold 2 - LogisticRegression - ACCURACY : 0.8254880158141833\n",
      "Fold 3 - LogisticRegression - ACCURACY : 0.825240919199407\n",
      "Fold 4 - LogisticRegression - ACCURACY : 0.8284531751914999\n",
      "LogisticRegression metric=ACCURACY CV score = 0.8272590249808505\n",
      "LogisticRegression Mean ACCURACY = 0.8272589929224807, std = 0.0021593052223561264\n",
      "CPU times: user 8min, sys: 4min 52s, total: 12min 53s\n",
      "Wall time: 1min 48s\n"
     ]
    }
   ],
   "source": [
    "%%time\n",
    "fold_metrics_model, df_oof_preds, preprocessor = tt.train_and_validate(\n",
    "        model_name=Config.MODEL_TYPE,\n",
    "        model_params=model_params,\n",
    "        preprocessor=preprocessor,\n",
    "        df=df_train,\n",
    "        feature_cols=feature_cols_after_fe,\n",
    "        target_col_name=Config.TARGET_COL_NAME,\n",
    "        metric=Config.METRIC,\n",
    "        single_fold=Config.TRAIN_SINGLE_FOLD,\n",
    "        num_folds=Config.NUM_FOLDS,\n",
    "        suppress_print=False,\n",
    "        num_classes=Config.NUM_CLASSES\n",
    ")"
   ]
  },
  {
   "cell_type": "code",
   "execution_count": 192,
   "metadata": {},
   "outputs": [],
   "source": [
    "from sklearn.metrics import accuracy_score, f1_score\n",
    "\n",
    "def get_model_stats(model_name):\n",
    "    target_classes = np.array([\"Dropout\", \"Enrolled\", \"Graduate\"])    \n",
    "    oof_cols = [f\"oof_preds_proba_{i}\" for i in range(Config.NUM_CLASSES)]\n",
    "    model_preds_proba = df_oof_preds[oof_cols].to_numpy()\n",
    "    model_preds = np.argmax(model_preds_proba, axis=1)\n",
    "    model_accuracy = accuracy_score(df_oof_preds[Config.TARGET_COL_NAME], model_preds)\n",
    "    model_f1 = f1_score(df_oof_preds[Config.TARGET_COL_NAME], model_preds, average='macro')\n",
    "    print(f\"{model_name} OOF Accuracy: {model_accuracy}\")\n",
    "    print(f\"{model_name} OOF F1 Score: {model_f1}\")\n",
    "    model_cm = confusion_matrix(df_oof_preds[Config.TARGET_COL_NAME], model_preds)\n",
    "    print(classification_report(df_oof_preds[Config.TARGET_COL_NAME].values, model_preds, target_names=target_classes))\n",
    "    disp = ConfusionMatrixDisplay(confusion_matrix=model_cm, display_labels=target_classes)\n",
    "    disp.plot()\n",
    "    plt.show()"
   ]
  },
  {
   "cell_type": "code",
   "execution_count": 193,
   "metadata": {},
   "outputs": [
    {
     "name": "stdout",
     "output_type": "stream",
     "text": [
      "LogisticRegression OOF Accuracy: 0.8272590249808505\n",
      "LogisticRegression OOF F1 Score: 0.7879466063211309\n",
      "              precision    recall  f1-score   support\n",
      "\n",
      "     Dropout       0.89      0.83      0.86     26717\n",
      "    Enrolled       0.65      0.59      0.62     15734\n",
      "    Graduate       0.85      0.92      0.88     38491\n",
      "\n",
      "    accuracy                           0.83     80942\n",
      "   macro avg       0.80      0.78      0.79     80942\n",
      "weighted avg       0.82      0.83      0.82     80942\n",
      "\n"
     ]
    },
    {
     "data": {
      "image/png": "[encoded data removed]",
      "text/plain": [
       "<Figure size 432x288 with 2 Axes>"
      ]
     },
     "metadata": {
      "needs_background": "light"
     },
     "output_type": "display_data"
    }
   ],
   "source": [
    "get_model_stats(Config.MODEL_TYPE)"
   ]
  },
  {
   "cell_type": "code",
   "execution_count": 179,
   "metadata": {},
   "outputs": [
    {
     "name": "stdout",
     "output_type": "stream",
     "text": [
      "Saved validation data predictions to df_val_preds_LogisticRegression.csv\n"
     ]
    }
   ],
   "source": [
    "tt.persist(\n",
    "    model_name=Config.MODEL_TYPE, \n",
    "    fold_metrics_model=fold_metrics_model, \n",
    "    df_oof_preds=df_oof_preds, \n",
    "    persist_model=Config.PERSIST_MODEL, \n",
    "    output_path=DATA_WRITEPATH\n",
    ")"
   ]
  },
  {
   "cell_type": "code",
   "execution_count": 180,
   "metadata": {},
   "outputs": [
    {
     "name": "stdout",
     "output_type": "stream",
     "text": [
      "test_X shape: (51012, 619)\n",
      "test_preds_proba shape: (51012, 3)\n",
      "test_preds shape: (51012,)\n"
     ]
    },
    {
     "data": {
      "text/html": [
       "<div>\n",
       "<style scoped>\n",
       "    .dataframe tbody tr th:only-of-type {\n",
       "        vertical-align: middle;\n",
       "    }\n",
       "\n",
       "    .dataframe tbody tr th {\n",
       "        vertical-align: top;\n",
       "    }\n",
       "\n",
       "    .dataframe thead th {\n",
       "        text-align: right;\n",
       "    }\n",
       "</style>\n",
       "<table border=\"1\" class=\"dataframe\">\n",
       "  <thead>\n",
       "    <tr style=\"text-align: right;\">\n",
       "      <th></th>\n",
       "      <th>id</th>\n",
       "      <th>Target</th>\n",
       "    </tr>\n",
       "  </thead>\n",
       "  <tbody>\n",
       "    <tr>\n",
       "      <th>0</th>\n",
       "      <td>76518</td>\n",
       "      <td>Dropout</td>\n",
       "    </tr>\n",
       "    <tr>\n",
       "      <th>1</th>\n",
       "      <td>76519</td>\n",
       "      <td>Graduate</td>\n",
       "    </tr>\n",
       "    <tr>\n",
       "      <th>2</th>\n",
       "      <td>76520</td>\n",
       "      <td>Graduate</td>\n",
       "    </tr>\n",
       "    <tr>\n",
       "      <th>3</th>\n",
       "      <td>76521</td>\n",
       "      <td>Enrolled</td>\n",
       "    </tr>\n",
       "    <tr>\n",
       "      <th>4</th>\n",
       "      <td>76522</td>\n",
       "      <td>Enrolled</td>\n",
       "    </tr>\n",
       "  </tbody>\n",
       "</table>\n",
       "</div>"
      ],
      "text/plain": [
       "      id    Target\n",
       "0  76518   Dropout\n",
       "1  76519  Graduate\n",
       "2  76520  Graduate\n",
       "3  76521  Enrolled\n",
       "4  76522  Enrolled"
      ]
     },
     "execution_count": 180,
     "metadata": {},
     "output_type": "execute_result"
    }
   ],
   "source": [
    "test_preds_proba, test_preds = tt.get_test_preds_clf(fold_metrics_model, df_test, feature_cols_after_fe, \n",
    "                                                     preprocessor=preprocessor, num_folds=Config.NUM_FOLDS)\n",
    "# convert test_preds to string using labelencoder\n",
    "test_preds_final = le.inverse_transform(test_preds)\n",
    "df_test_preds = pd.DataFrame()\n",
    "for i in range(Config.NUM_CLASSES):\n",
    "    df_test_preds[f\"test_preds_proba_{i}\"] = test_preds_proba[:, i]\n",
    "df_test_preds[\"test_preds\"] = test_preds\n",
    "df_test_preds.to_csv(DATA_WRITEPATH + f'df_test_preds_{Config.MODEL_TYPE}.csv',index=False)\n",
    "df_submission = pd.read_csv(SUBMISSION_FILEPATH + 'sample_submission.csv')\n",
    "df_submission[Config.TARGET_COL_NAME]= test_preds_final\n",
    "df_submission.to_csv(DATA_WRITEPATH + f'submission_{Config.MODEL_TYPE}.csv',index=False)\n",
    "df_submission.head()"
   ]
  },
  {
   "cell_type": "code",
   "execution_count": 181,
   "metadata": {},
   "outputs": [
    {
     "data": {
      "text/plain": [
       "619"
      ]
     },
     "execution_count": 181,
     "metadata": {},
     "output_type": "execute_result"
    }
   ],
   "source": [
    "# Define a function to extract the part after '__' (vectorized for speed)\n",
    "def extract_after_delimiter(text):\n",
    "    return text.split(\"__\", 1)[1] if len(text.split(\"__\")) > 1 else text\n",
    "\n",
    "features = preprocessor.get_feature_names_out()\n",
    "# Apply the function to the feature names using lambda\n",
    "features = list(map(extract_after_delimiter, features))\n",
    "len(features)"
   ]
  },
  {
   "cell_type": "code",
   "execution_count": 182,
   "metadata": {},
   "outputs": [],
   "source": [
    "def get_feature_importance(model, features):\n",
    "    df_feature_imp = pd.DataFrame()\n",
    "    df_feature_imp[\"f_name\"] = features\n",
    "    df_feature_imp[\"f_imp\"] = model.feature_importances_\n",
    "    df_feature_imp = df_feature_imp.sort_values(by=\"f_imp\", ascending=False)\n",
    "    return df_feature_imp"
   ]
  },
  {
   "cell_type": "code",
   "execution_count": 183,
   "metadata": {},
   "outputs": [],
   "source": [
    "if Config.MODEL_TYPE in [enums.ModelName.CatBoost, enums.ModelName.LGBM, enums.ModelName.XGBoost, \n",
    "                         enums.ModelName.RandomForest]:\n",
    "    df_feature_imp = get_feature_importance(fold_metrics_model[0][1], features)\n",
    "    df_feature_imp.to_csv(DATA_WRITEPATH + f\"{Config.MODEL_TYPE}_feature_imp_orig_openfe.csv\", index=False)\n",
    "    data_utils.plot_feature_importance(df_feature_imp, fig_size=(18, 6))"
   ]
  },
  {
   "cell_type": "code",
   "execution_count": 184,
   "metadata": {},
   "outputs": [],
   "source": [
    "# from sklearn.ensemble import RandomForestClassifier\n",
    "\n",
    "# fs_model = RandomForestClassifier(**model_params)\n",
    "# sfs = SequentialFeatureSelector(model, n_features_to_select=50, scoring=\"accuracy\")\n",
    "# sfs.fit(df_train[feature_cols_after_fe], df_train[Config.TARGET_COL_NAME])"
   ]
  },
  {
   "cell_type": "code",
   "execution_count": 185,
   "metadata": {},
   "outputs": [],
   "source": [
    "# # performing feature selection by removing bottom 8 features leads to an improvment in cv score for catboost\n",
    "# # from 0.82996 to 0.83129. Forward feature selection algorithm might help to improve cv score further\n",
    "# df_feature_imp = df_feature_imp.head(60)\n",
    "# feature_cols_new = df_feature_imp.f_name.values"
   ]
  },
  {
   "cell_type": "code",
   "execution_count": 186,
   "metadata": {},
   "outputs": [],
   "source": [
    "# cont_features1 = [x for x in df_train[feature_cols_new].dtypes[df_train.dtypes == \"float\"].index.values if x not in null_features]\n",
    "# scaler1 = StandardScaler()\n",
    "# preprocessor1 = ColumnTransformer(\n",
    "#     transformers=[                \n",
    "#         (\"scaler\", scaler1, cont_features1),        \n",
    "#     ], remainder=\"passthrough\"\n",
    "# )"
   ]
  },
  {
   "cell_type": "code",
   "execution_count": 187,
   "metadata": {},
   "outputs": [],
   "source": [
    "# fold_metrics_model1, df_oof_preds1, preprocessor1 = tt.train_and_validate(\n",
    "#         model_name=Config.MODEL_TYPE,\n",
    "#         model_params=model_params,\n",
    "#         preprocessor=preprocessor1,\n",
    "#         df=df_train,\n",
    "#         feature_cols=feature_cols_new,\n",
    "#         target_col_name=Config.TARGET_COL_NAME,\n",
    "#         metric=Config.METRIC,\n",
    "#         single_fold=Config.TRAIN_SINGLE_FOLD,\n",
    "#         num_folds=Config.NUM_FOLDS,\n",
    "#         suppress_print=False,\n",
    "#         num_classes=Config.NUM_CLASSES\n",
    "# )"
   ]
  },
  {
   "cell_type": "code",
   "execution_count": 188,
   "metadata": {},
   "outputs": [],
   "source": [
    "# tt.persist(\n",
    "#     model_name=Config.MODEL_TYPE, \n",
    "#     fold_metrics_model=fold_metrics_model1, \n",
    "#     df_oof_preds=df_oof_preds1, \n",
    "#     persist_model=Config.PERSIST_MODEL, \n",
    "#     output_path=DATA_WRITEPATH\n",
    "# )"
   ]
  },
  {
   "cell_type": "code",
   "execution_count": 189,
   "metadata": {},
   "outputs": [],
   "source": [
    "# test_preds_proba1, test_preds1 = tt.get_test_preds_clf(fold_metrics_model1, df_test, feature_cols_new, \n",
    "#                                                      preprocessor=preprocessor1, num_folds=Config.NUM_FOLDS)\n",
    "# # convert test_preds to string using labelencoder\n",
    "# test_preds_final1 = le.inverse_transform(test_preds1)\n",
    "# df_test_preds1 = pd.DataFrame()\n",
    "# for i in range(Config.NUM_CLASSES):\n",
    "#     df_test_preds1[f\"test_preds_proba_{i}\"] = test_preds_proba1[:, i]\n",
    "# df_test_preds1[\"test_preds\"] = test_preds1\n",
    "# df_test_preds1.to_csv(DATA_WRITEPATH + f'df_test_preds_{Config.MODEL_TYPE}.csv',index=False)\n",
    "# df_submission1 = pd.read_csv(SUBMISSION_FILEPATH + 'sample_submission.csv')\n",
    "# df_submission1[Config.TARGET_COL_NAME] = test_preds_final1\n",
    "# df_submission1.to_csv(DATA_WRITEPATH + f'submission_{Config.MODEL_TYPE}.csv',index=False)\n",
    "# df_submission1.head()"
   ]
  }
 ],
 "metadata": {
  "kernelspec": {
   "display_name": "fastai",
   "language": "python",
   "name": "python3"
  },
  "language_info": {
   "codemirror_mode": {
    "name": "ipython",
    "version": 3
   },
   "file_extension": ".py",
   "mimetype": "text/x-python",
   "name": "python",
   "nbconvert_exporter": "python",
   "pygments_lexer": "ipython3",
   "version": "3.9.7"
  }
 },
 "nbformat": 4,
 "nbformat_minor": 2
}
