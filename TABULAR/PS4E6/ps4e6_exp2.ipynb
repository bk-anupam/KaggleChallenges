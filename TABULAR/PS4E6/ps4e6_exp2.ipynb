{
 "cells": [
  {
   "cell_type": "code",
   "execution_count": 181,
   "metadata": {},
   "outputs": [],
   "source": [
    "#!pip install ucimlrepo"
   ]
  },
  {
   "cell_type": "code",
   "execution_count": 182,
   "metadata": {},
   "outputs": [],
   "source": [
    "import sys\n",
    "import os\n",
    "import numpy as np\n",
    "import pandas as pd\n",
    "import seaborn as sns\n",
    "import matplotlib.pyplot as plt\n",
    "import optuna\n",
    "import statistics\n",
    "import re\n",
    "from sklearn.preprocessing import StandardScaler, OneHotEncoder, LabelEncoder\n",
    "from sklearn.compose import ColumnTransformer\n",
    "from sklearn.metrics import confusion_matrix, ConfusionMatrixDisplay, classification_report\n",
    "from sklearn.feature_selection import SelectFromModel, SequentialFeatureSelector\n",
    "from ucimlrepo import fetch_ucirepo\n",
    "from sklearn.utils import class_weight\n",
    "from functools import partial\n",
    "import warnings\n",
    "\n",
    "warnings.filterwarnings('ignore')\n"
   ]
  },
  {
   "cell_type": "code",
   "execution_count": 183,
   "metadata": {},
   "outputs": [],
   "source": [
    "sys.path.append(os.path.abspath(\"/home/bk_anupam/code/ML/ML_UTILS/\"))"
   ]
  },
  {
   "cell_type": "code",
   "execution_count": 184,
   "metadata": {},
   "outputs": [],
   "source": [
    "import train_tabular_utils as tt\n",
    "import cv_split_utils\n",
    "import enums\n",
    "import data_utils"
   ]
  },
  {
   "cell_type": "code",
   "execution_count": 185,
   "metadata": {},
   "outputs": [],
   "source": [
    "class Config:\n",
    "    RUN_MODE = \"LOCAL\"\n",
    "    RANDOM_SEED = 42\n",
    "    NUM_FOLDS = 5\n",
    "    TARGET_COL_NAME = \"Target\"        \n",
    "    SCALER = enums.Scaler.StandardScaler\n",
    "    METRIC = enums.Metrics.ACCURACY\n",
    "    # These values are more dynamic   \n",
    "    MODEL_TYPE = enums.ModelName.XGBoost\n",
    "    NUM_TUNING_TRIALS = 25\n",
    "    TUNE_ON_SINGLE_FOLD = True\n",
    "    TRAIN_SINGLE_FOLD = False    \n",
    "    PERSIST_MODEL = False\n",
    "    USE_OPENFE_FEATURES = True\n",
    "    CREATE_MANUAL_FEATURES = True\n",
    "    USE_ORIGINAL_DATA = True\n",
    "    NUM_CLASSES = 3\n",
    "    FEATURE_SELECTION_METHOD = None\n",
    "\n",
    "COLS_TO_LEAVE = [\"id\", \"Target\", \"kfold\"]\n",
    "CPU_COUNT = os.cpu_count()\n",
    "\n",
    "DATA_READPATH = \"./data/\"\n",
    "DATA_WRITEPATH = \"./output/\"\n",
    "SUBMISSION_FILEPATH = DATA_READPATH\n",
    "if Config.RUN_MODE == \"KAGGLE\":    \n",
    "    DATA_READPATH = \"/kaggle/input/playground-series-s4e6/\"\n",
    "    if Config.USE_OPENFE_FEATURES:\n",
    "        DATA_READPATH = \"/kaggle/input/ps4e6-openfe/\"\n",
    "    SUBMISSION_FILEPATH = \"/kaggle/input/playground-series-s4e6/\"\n",
    "    DATA_WRITEPATH = \"/kaggle/working/\""
   ]
  },
  {
   "cell_type": "code",
   "execution_count": 186,
   "metadata": {},
   "outputs": [],
   "source": [
    "# fetch original dataset \n",
    "predict_students_dropout_and_academic_success = fetch_ucirepo(id=697) \n",
    "df_train_orig = predict_students_dropout_and_academic_success.data.features \n",
    "df_train_orig[Config.TARGET_COL_NAME] = predict_students_dropout_and_academic_success.data.targets[Config.TARGET_COL_NAME]\n",
    "# rename column 'Marital Status' to 'Marital status'\n",
    "df_train_orig = df_train_orig.rename(columns={'Marital Status': 'Marital status'})"
   ]
  },
  {
   "cell_type": "code",
   "execution_count": 198,
   "metadata": {},
   "outputs": [
    {
     "data": {
      "text/plain": [
       "Series([], dtype: int64)"
      ]
     },
     "execution_count": 198,
     "metadata": {},
     "output_type": "execute_result"
    }
   ],
   "source": [
    "# no missing values in original data\n",
    "na_orig = df_train_orig.isna().sum()\n",
    "na_orig.loc[na_orig > 0]"
   ]
  },
  {
   "cell_type": "code",
   "execution_count": 199,
   "metadata": {},
   "outputs": [
    {
     "name": "stdout",
     "output_type": "stream",
     "text": [
      "using generated openfe features on both train and original data\n"
     ]
    }
   ],
   "source": [
    "if Config.USE_OPENFE_FEATURES and not Config.USE_ORIGINAL_DATA:\n",
    "    print(\"using generated openfe features only on train data\")\n",
    "    df_train = pd.read_csv(DATA_READPATH + \"train_openfe.csv\")    \n",
    "    df_test = pd.read_csv(DATA_READPATH + \"test_openfe.csv\")\n",
    "elif Config.USE_OPENFE_FEATURES and Config.USE_ORIGINAL_DATA:\n",
    "    print(\"using generated openfe features on both train and original data\")\n",
    "    df_train = pd.read_csv(DATA_READPATH + \"train_orig_openfe.csv\")    \n",
    "    df_test = pd.read_csv(DATA_READPATH + \"test_orig_openfe.csv\")\n",
    "else:    \n",
    "    df_train = pd.read_csv(DATA_READPATH + \"train.csv\")\n",
    "    df_train = df_train.drop(\"id\", axis=1)    \n",
    "    df_test = pd.read_csv(DATA_READPATH + \"test.csv\")\n",
    "    df_test = df_test.drop(\"id\", axis=1)\n",
    "    if Config.USE_ORIGINAL_DATA:\n",
    "        # add df_train_orig rows to df_train\n",
    "        df_train = pd.concat([df_train, df_train_orig], axis=0, ignore_index=True)"
   ]
  },
  {
   "cell_type": "code",
   "execution_count": 200,
   "metadata": {},
   "outputs": [
    {
     "data": {
      "text/plain": [
       "['Dropout', 'Enrolled', 'Graduate']"
      ]
     },
     "execution_count": 200,
     "metadata": {},
     "output_type": "execute_result"
    }
   ],
   "source": [
    "# Label encoding of target values\n",
    "le = LabelEncoder()\n",
    "le.fit(df_train[Config.TARGET_COL_NAME])\n",
    "df_train[Config.TARGET_COL_NAME] = le.transform(df_train[Config.TARGET_COL_NAME])\n",
    "list(le.classes_)"
   ]
  },
  {
   "cell_type": "code",
   "execution_count": 201,
   "metadata": {},
   "outputs": [
    {
     "name": "stdout",
     "output_type": "stream",
     "text": [
      "[1.00986887 1.71480022 0.7009604 ]\n"
     ]
    }
   ],
   "source": [
    "# Dropout = 0.33, Enrolled = 0.2, Graduate = 0.47\n",
    "# Increase the weight of the minority class for model to focus more on the minority class\n",
    "# calculate class weights\n",
    "class_weights = class_weight.compute_class_weight(class_weight='balanced', classes=np.unique(df_train.Target), y=df_train.Target)\n",
    "print(class_weights)"
   ]
  },
  {
   "cell_type": "code",
   "execution_count": 202,
   "metadata": {},
   "outputs": [],
   "source": [
    "model_static_params = {\n",
    "    enums.ModelName.XGBoost: {\n",
    "        #\"objective\": \"multi:softmax\",        \n",
    "        \"seed\": Config.RANDOM_SEED,\n",
    "        \"verbosity\": 0,\n",
    "        \"num_class\": 3,\n",
    "        #\"eval_metric\": \"merror\",\n",
    "        # level 2 tuning\n",
    "        'subsample': 0.5067,\n",
    "        'early_stopping_rounds': 260,\n",
    "        'reg_alpha': 0.59718,\n",
    "        'colsample_bytree': 0.7289930512882908\n",
    "    },\n",
    "    enums.ModelName.LGBM: {\n",
    "        \"objective\": \"multiclass\",\n",
    "        \"metric\": 'multi_logloss',\n",
    "        \"verbosity\": -1,    # <0: fatal, =0: error (warn), =1: info, >1: debug\n",
    "        \"boosting_type\": \"gbdt\",\n",
    "        \"num_class\": 3,\n",
    "    },\n",
    "    enums.ModelName.CatBoost: {\n",
    "        \"objective\": \"MultiClass\",\n",
    "        \"verbose\": 0,\n",
    "        \"random_seed\": Config.RANDOM_SEED,\n",
    "        \"eval_metric\": \"Accuracy\",\n",
    "        'grow_policy':  'Lossguide',\n",
    "        #'bootstrap_type': 'Poisson',\n",
    "        #'class_weights': class_weights,\n",
    "        'task_type': 'CPU'\n",
    "    },\n",
    "    enums.ModelName.RandomForest: {\n",
    "        \"random_state\": Config.RANDOM_SEED,\n",
    "        \"n_jobs\": -1\n",
    "    }\n",
    "}"
   ]
  },
  {
   "cell_type": "code",
   "execution_count": 203,
   "metadata": {},
   "outputs": [],
   "source": [
    "# For RandomForest\n",
    "# tuned_model_params = {'n_estimators': 1300, 'max_depth': 17, 'min_samples_leaf': 3, 'min_samples_split': 3, 'max_features': 'sqrt'}\n",
    "# For CatBoost\n",
    "# tuned_model_params = {'learning_rate': 0.45126024670762294, 'n_estimators': 3700, 'max_depth': 7, 'min_data_in_leaf': 73, 'colsample_bylevel': 0.8908705634626486, 'num_leaves': 120, 'reg_lambda': 98.46961225632553, 'random_strength': 0.016359736302592447, 'early_stopping_rounds': 210, 'max_bin': 253}\n",
    "# For XGBoost\n",
    "# tuned_model_params = {'n_estimators': 1400, 'learning_rate': 0.10270166896064774, 'max_depth': 30, 'min_child_weight': 7, 'gamma': 4.123490349502186, 'subsample': 0.5067185283456936, 'colsample_bytree': 0.7289930512882908, 'reg_alpha': 0.5971832077526927, 'reg_lambda': 9.433125479981229, 'early_stopping_rounds': 260}\n",
    "# For LGBM\n",
    "# tuned_model_params = {'learning_rate': 0.050431114227825063, 'n_estimators': 1500, 'max_depth': 6, 'min_data_in_leaf': 92, 'min_child_weight': 6, 'num_leaves': 428, 'reg_lambda': 130.60718838770154, 'early_stopping_rounds': 365, 'subsample': 0.8586720764925466, 'colsample_bytree': 0.5962542688745494, 'reg_alpha': 0.5737569015209647}\n",
    "# For LogisticRegression\n",
    "# tuned_model_params =  {'C': 38.49119721953264, 'penalty': 'l2'}\n",
    "\n",
    "tuned_model_params = None"
   ]
  },
  {
   "cell_type": "code",
   "execution_count": 204,
   "metadata": {},
   "outputs": [],
   "source": [
    "def process_col_name(cols_list):\n",
    "    processed_cols_list = []\n",
    "    for item in cols_list:\n",
    "        # Remove round brackets but keep the text inside them\n",
    "        item_no_brackets = re.sub(r'[\\(\\)]', '', item)\n",
    "        # Remove single quotes\n",
    "        item_no_quotes = item_no_brackets.replace(\"'\", \"\")\n",
    "        # Replace forward slash with underscore\n",
    "        item_no_slash = item_no_quotes.replace('/', '_')\n",
    "        # Replace spaces with underscores\n",
    "        item_processed = item_no_slash.replace(' ', '_')        \n",
    "        # Append to the processed list\n",
    "        processed_cols_list.append(item_processed)\n",
    "    return processed_cols_list"
   ]
  },
  {
   "cell_type": "code",
   "execution_count": 205,
   "metadata": {},
   "outputs": [],
   "source": [
    "train_cols_list = df_train.columns.to_list()\n",
    "test_cols_list = df_test.columns.to_list()\n",
    "train_processed_cols_list = process_col_name(train_cols_list)\n",
    "test_processed_cols_list = process_col_name(test_cols_list)\n",
    "df_train.columns = train_processed_cols_list\n",
    "df_test.columns = test_processed_cols_list"
   ]
  },
  {
   "cell_type": "code",
   "execution_count": 206,
   "metadata": {},
   "outputs": [],
   "source": [
    "# feature engineering\n",
    "def create_features(df):\n",
    "    # (Tuition_fees_up_to_date*Curricular_units_2nd_sem_approved)\n",
    "    df[\"f_1\"] = df[\"Tuition_fees_up_to_date\"] * df[\"Curricular_units_2nd_sem_approved\"]\n",
    "    # (Curricular_units_1st_sem_approved+Curricular_units_2nd_sem_approved)\n",
    "    df[\"f_2\"] = df[\"Curricular_units_1st_sem_approved\"] + df[\"Curricular_units_2nd_sem_approved\"]\n",
    "    # (Curricular_units_2nd_sem_grade*Curricular_units_2nd_sem_approved)\n",
    "    df[\"f_3\"] = df[\"Curricular_units_2nd_sem_grade\"] * df[\"Curricular_units_2nd_sem_approved\"]\n",
    "    # (Curricular_units_2nd_sem_grade+Curricular_units_2nd_sem_approved)\n",
    "    df[\"f_4\"] = df[\"Curricular_units_2nd_sem_grade\"] + df[\"Curricular_units_2nd_sem_approved\"]\n",
    "    # (Curricular_units_2nd_sem_grade+Scholarship_holder)\n",
    "    df[\"f_5\"] = df[\"Curricular_units_2nd_sem_grade\"] + df[\"Scholarship_holder\"]\n",
    "    # (Curricular_units_1st_sem_grade+Scholarship_holder)\n",
    "    df[\"f_6\"] = df[\"Curricular_units_1st_sem_grade\"] + df[\"Scholarship_holder\"]\n",
    "    # (Curricular_units_2nd_sem_enrolled-Curricular_units_2nd_sem_approved)\n",
    "    df[\"f_7\"] = df[\"Curricular_units_2nd_sem_enrolled\"] - df[\"Curricular_units_2nd_sem_approved\"]\n",
    "    # (Curricular_units_1st_sem_enrolled-Curricular_units_2nd_sem_approved)\n",
    "    df[\"f_8\"] = df[\"Curricular_units_1st_sem_enrolled\"] - df[\"Curricular_units_2nd_sem_approved\"]\n",
    "    # (Curricular_units_2nd_sem_grade-Curricular_units_1st_sem_evaluations)\n",
    "    df[\"f_9\"] = df[\"Curricular_units_2nd_sem_grade\"] - df[\"Curricular_units_1st_sem_evaluations\"]\n",
    "    # (Curricular_units_1st_sem_grade/Age_at_enrollment)\n",
    "    df[\"f_10\"] = df[\"Curricular_units_1st_sem_grade\"] / df[\"Age_at_enrollment\"]\n",
    "    # (Curricular_units_1st_sem_evaluations-Curricular_units_2nd_sem_approved)\n",
    "    df[\"f_11\"] = df[\"Curricular_units_1st_sem_evaluations\"] - df[\"Curricular_units_2nd_sem_approved\"]\n",
    "    # GroupByThenRank(Curricular_units_2nd_sem_approved,Curricular_units_1st_sem_enrolled)    \n",
    "    df[\"f_12\"] = df.groupby('Curricular_units_1st_sem_enrolled')['Curricular_units_2nd_sem_approved'].rank(method=\"dense\", ascending=False)\n",
    "    # GroupByThenRank(Curricular_units_2nd_sem_approved,Mothers_occupation)\n",
    "    df[\"f_13\"] = df.groupby('Mothers_occupation')['Curricular_units_2nd_sem_approved'].rank(method=\"dense\", ascending=False)\n",
    "    # GroupByThenRank(Scholarship_holder,Age_at_enrollment)\n",
    "    df[\"f_14\"] = df.groupby('Age_at_enrollment')['Scholarship_holder'].rank(method=\"dense\", ascending=False)\n",
    "    # GroupByThenRank(Scholarship_holder,Curricular_units_2nd_sem_approved)\n",
    "    df[\"f_15\"] = df.groupby('Curricular_units_2nd_sem_approved')['Scholarship_holder'].rank(method=\"dense\", ascending=False)\n",
    "    # CombineThenFreq(Course,Curricular_units_1st_sem_approved)\n",
    "    df[\"f_16\"] = df.groupby('Course')['Curricular_units_1st_sem_approved'].transform('count')\n",
    "    return df"
   ]
  },
  {
   "cell_type": "code",
   "execution_count": 207,
   "metadata": {},
   "outputs": [],
   "source": [
    "if Config.CREATE_MANUAL_FEATURES:\n",
    "    df_train['Unempl_Infl_GDP'] = df_train['Unemployment_rate']*df_train['Inflation_rate']*df_train['GDP']\n",
    "    df_test['Unempl_Infl_GDP'] = df_test['Unemployment_rate']*df_test['Inflation_rate']*df_test['GDP']"
   ]
  },
  {
   "cell_type": "code",
   "execution_count": 208,
   "metadata": {},
   "outputs": [
    {
     "data": {
      "text/plain": [
       "['autoFE_f_1',\n",
       " 'autoFE_f_2',\n",
       " 'autoFE_f_3',\n",
       " 'autoFE_f_5',\n",
       " 'autoFE_f_6',\n",
       " 'autoFE_f_7',\n",
       " 'autoFE_f_10',\n",
       " 'autoFE_f_13',\n",
       " 'autoFE_f_15',\n",
       " 'autoFE_f_16',\n",
       " 'autoFE_f_17',\n",
       " 'autoFE_f_18',\n",
       " 'autoFE_f_19',\n",
       " 'autoFE_f_23',\n",
       " 'autoFE_f_31',\n",
       " 'autoFE_f_37',\n",
       " 'autoFE_f_42',\n",
       " 'autoFE_f_47']"
      ]
     },
     "execution_count": 208,
     "metadata": {},
     "output_type": "execute_result"
    }
   ],
   "source": [
    "na_val = df_train.isna().sum()\n",
    "null_features = na_val.loc[na_val > 0].index.values.tolist()\n",
    "print(\"null_features; \", null_features)"
   ]
  },
  {
   "cell_type": "code",
   "execution_count": 209,
   "metadata": {},
   "outputs": [],
   "source": [
    "cat_features = ['Marital_status', 'Application_mode', 'Course', 'Daytime_evening_attendance', 'Previous_qualification',\n",
    "    'Nacionality', 'Mothers_qualification', 'Fathers_qualification', 'Mothers_occupation', 'Fathers_occupation', 'Displaced',\n",
    "    'Educational_special_needs', 'Debtor', 'Tuition_fees_up_to_date','Gender', 'Scholarship_holder', 'International']"
   ]
  },
  {
   "cell_type": "code",
   "execution_count": 210,
   "metadata": {},
   "outputs": [],
   "source": [
    "cont_features = [x for x in df_train.dtypes[df_train.dtypes == \"float\"].index.values if x not in null_features]\n",
    "int_features = [x for x in df_train.dtypes[df_train.dtypes == \"int\"].index.values if x not in COLS_TO_LEAVE+null_features]\n",
    "feature_cols = df_test.columns.to_list()\n",
    "feature_cols_after_fe = [x for x in df_train.columns if x not in COLS_TO_LEAVE+null_features]"
   ]
  },
  {
   "cell_type": "code",
   "execution_count": 211,
   "metadata": {},
   "outputs": [],
   "source": [
    "# for categorical features find the categories to be used for one hot encoding\n",
    "int_feature_categories = []\n",
    "for int_feature in int_features:\n",
    "    int_feature_categories.append(sorted(df_train[int_feature].unique()))"
   ]
  },
  {
   "cell_type": "code",
   "execution_count": 212,
   "metadata": {},
   "outputs": [
    {
     "name": "stdout",
     "output_type": "stream",
     "text": [
      "len(feature_cols_after_fe)=69\n",
      "['Marital_status', 'Application_mode', 'Application_order', 'Course', 'Daytime_evening_attendance', 'Previous_qualification', 'Previous_qualification_grade', 'Nacionality', 'Mothers_qualification', 'Fathers_qualification', 'Mothers_occupation', 'Fathers_occupation', 'Admission_grade', 'Displaced', 'Educational_special_needs', 'Debtor', 'Tuition_fees_up_to_date', 'Gender', 'Scholarship_holder', 'Age_at_enrollment', 'International', 'Curricular_units_1st_sem_credited', 'Curricular_units_1st_sem_enrolled', 'Curricular_units_1st_sem_evaluations', 'Curricular_units_1st_sem_approved', 'Curricular_units_1st_sem_grade', 'Curricular_units_1st_sem_without_evaluations', 'Curricular_units_2nd_sem_credited', 'Curricular_units_2nd_sem_enrolled', 'Curricular_units_2nd_sem_evaluations', 'Curricular_units_2nd_sem_approved', 'Curricular_units_2nd_sem_grade', 'Curricular_units_2nd_sem_without_evaluations', 'Unemployment_rate', 'Inflation_rate', 'GDP', 'autoFE_f_0', 'autoFE_f_4', 'autoFE_f_8', 'autoFE_f_9', 'autoFE_f_11', 'autoFE_f_12', 'autoFE_f_14', 'autoFE_f_20', 'autoFE_f_21', 'autoFE_f_22', 'autoFE_f_24', 'autoFE_f_25', 'autoFE_f_26', 'autoFE_f_27', 'autoFE_f_28', 'autoFE_f_29', 'autoFE_f_30', 'autoFE_f_32', 'autoFE_f_33', 'autoFE_f_34', 'autoFE_f_35', 'autoFE_f_36', 'autoFE_f_38', 'autoFE_f_39', 'autoFE_f_40', 'autoFE_f_41', 'autoFE_f_43', 'autoFE_f_44', 'autoFE_f_45', 'autoFE_f_46', 'autoFE_f_48', 'autoFE_f_49', 'Unempl_Infl_GDP']\n"
     ]
    }
   ],
   "source": [
    "print(f\"len(feature_cols_after_fe)={len(feature_cols_after_fe)}\")\n",
    "print(feature_cols_after_fe)"
   ]
  },
  {
   "cell_type": "code",
   "execution_count": null,
   "metadata": {},
   "outputs": [],
   "source": [
    "# df_train_float = df_train[cont_features]\n",
    "# df_train_float[\"type\"] = \"train\"\n",
    "# df_test_float = df_test[cont_features]\n",
    "# df_test_float[\"type\"] = \"test\"\n",
    "# # concat df_train_float and df_test_float rows\n",
    "# df_all_float = pd.concat([df_train_float, df_test_float], axis=0, ignore_index=True)\n",
    "# scaler = StandardScaler()\n",
    "# df_all_float[cont_features] = scaler.fit_transform(df_all_float)\n",
    "# df_train[cont_features] = df_all_float[df_all_float[\"type\"] == \"train\"][cont_features]\n",
    "# df_test[cont_features] = df_all_float[df_all_float[\"type\"] == \"test\"][cont_features]"
   ]
  },
  {
   "cell_type": "code",
   "execution_count": 213,
   "metadata": {},
   "outputs": [],
   "source": [
    "# preprocessing\n",
    "preprocessor = None\n",
    "scaler = StandardScaler()\n",
    "onehot_encoder = OneHotEncoder(sparse_output=False, handle_unknown=\"ignore\", categories=int_feature_categories)\n",
    "if Config.MODEL_TYPE == enums.ModelName.LogisticRegression:\n",
    "    preprocessor = ColumnTransformer(\n",
    "        transformers=[                \n",
    "            (\"scaler\", scaler, feature_cols_after_fe),\n",
    "            #(\"onehot\", onehot_encoder, int_features),                \n",
    "        ], remainder=\"passthrough\"\n",
    "    )\n",
    "else:\n",
    "    preprocessor = ColumnTransformer(\n",
    "        transformers=[                \n",
    "            (\"scaler\", scaler, cont_features)     \n",
    "        ], remainder=\"passthrough\"\n",
    "    )"
   ]
  },
  {
   "cell_type": "code",
   "execution_count": 214,
   "metadata": {},
   "outputs": [],
   "source": [
    "def get_lgbm_tuning_params(trial):    \n",
    "    params_dynamic = {\n",
    "        'learning_rate': trial.suggest_float('learning_rate', 1e-2, 1.0, log=True),\n",
    "        'n_estimators': trial.suggest_int('n_estimators', 500, 5000, step=100),\n",
    "        'max_depth': trial.suggest_int('max_depth', 4, 20),\n",
    "        'min_child_weight': trial.suggest_int('min_child_weight', 1, 10),\n",
    "        'subsample': trial.suggest_float('subsample', 0.5, 1),\n",
    "        'colsample_bytree': trial.suggest_float('colsample_bytree', 0.5, 1),\n",
    "        'num_leaves': trial.suggest_int('num_leaves', 4, 256, step=4),\n",
    "        'reg_alpha': trial.suggest_float('reg_alpha', 0, 1),\n",
    "        'reg_lambda': trial.suggest_float('reg_lambda', 1, 200),\n",
    "        'early_stopping_rounds': trial.suggest_int('early_stopping_rounds', 50, 500, step=20)\n",
    "    }\n",
    "    return {**model_static_params[enums.ModelName.LGBM], **params_dynamic}"
   ]
  },
  {
   "cell_type": "code",
   "execution_count": 215,
   "metadata": {},
   "outputs": [],
   "source": [
    "def get_xgb_tuning_params(trial):\n",
    "    params_dynamic = {            \n",
    "            'n_estimators': trial.suggest_int('n_estimators', 1000, 5000, step=100),\n",
    "            'learning_rate': trial.suggest_float('learning_rate', 1e-2, 1.0, log=True),\n",
    "            'max_depth': trial.suggest_int('max_depth', 4, 32),\n",
    "            'min_child_weight': trial.suggest_int('min_child_weight', 1, 10),\n",
    "            'gamma': trial.suggest_float('gamma', 0, 10),\n",
    "            'subsample': trial.suggest_float('subsample', 0.5, 1),\n",
    "            'colsample_bytree': trial.suggest_float('colsample_bytree', 0.5, 1),\n",
    "            'reg_alpha': trial.suggest_float('reg_alpha', 0, 1),\n",
    "            'reg_lambda': trial.suggest_float('reg_lambda', 1, 200),\n",
    "            'early_stopping_rounds': trial.suggest_int('early_stopping_rounds', 100, 500, step=20)\n",
    "        }\n",
    "    return {**model_static_params[enums.ModelName.XGBoost], **params_dynamic}"
   ]
  },
  {
   "cell_type": "code",
   "execution_count": null,
   "metadata": {},
   "outputs": [],
   "source": [
    "def get_xgb_tuning_params_level2(trial):\n",
    "    params_dynamic = {\n",
    "            \"objective\": trial.suggest_categorical(\"objective\", [\"multi:softmax\", \"multi:softprob\"]),\n",
    "            \"eval_metric\": trial.suggest_categorical(\"eval_metric\", [\"mlogloss\", \"merror\", \"auc\"]),            \n",
    "            'n_estimators': trial.suggest_int('n_estimators', 1000, 2500, step=25),\n",
    "            'learning_rate': trial.suggest_float('learning_rate', 1e-2, 0.5, log=True),\n",
    "            'max_depth': trial.suggest_int('max_depth', 16, 64),\n",
    "            'min_child_weight': trial.suggest_int('min_child_weight', 5, 15),\n",
    "            'gamma': trial.suggest_float('gamma', 0, 10),\n",
    "            #'subsample': trial.suggest_float('subsample', 0.5, 1),\n",
    "            #'colsample_bytree': trial.suggest_float('colsample_bytree', 0.5, 1),\n",
    "            #'reg_alpha': trial.suggest_float('reg_alpha', 0, 1),\n",
    "            'reg_lambda': trial.suggest_float('reg_lambda', 1, 20),\n",
    "            #'early_stopping_rounds': trial.suggest_int('early_stopping_rounds', 100, 500, step=20)\n",
    "        }\n",
    "    return {**model_static_params[enums.ModelName.XGBoost], **params_dynamic}"
   ]
  },
  {
   "cell_type": "code",
   "execution_count": 216,
   "metadata": {},
   "outputs": [],
   "source": [
    "def get_catboost_tuning_params(trial):\n",
    "    params_dynamic = {\n",
    "        'learning_rate': trial.suggest_float('learning_rate', 1e-3, 1.0, log=True),\n",
    "        'n_estimators': trial.suggest_int('n_estimators', 100, 5000, step=50),\n",
    "        'max_depth': trial.suggest_int('max_depth', 4, 16),\n",
    "        'min_data_in_leaf': trial.suggest_int('min_data_in_leaf', 5, 100),\n",
    "        #'subsample': trial.suggest_float('subsample', 0.5, 1),\n",
    "        # comment colsample_bylevel for GPU training\n",
    "        'colsample_bylevel': trial.suggest_float('colsample_bylevel', 0.5, 1),\n",
    "        'num_leaves': trial.suggest_int('num_leaves', 4, 256, step=4),\n",
    "        'reg_lambda': trial.suggest_float('reg_lambda', 1, 100),\n",
    "        'random_strength': trial.suggest_loguniform('random_strength', 0.01, 10),\n",
    "        'early_stopping_rounds': trial.suggest_int('early_stopping_rounds', 50, 500, step=20),\n",
    "        'max_bin': trial.suggest_int('max_bin', 32, 255)\n",
    "    }\n",
    "    return {**model_static_params[enums.ModelName.CatBoost], **params_dynamic}"
   ]
  },
  {
   "cell_type": "code",
   "execution_count": 217,
   "metadata": {},
   "outputs": [],
   "source": [
    "def get_model_tuning_params(trial, model_name):\n",
    "    if model_name == enums.ModelName.LogisticRegression:\n",
    "        penalty = ['l1', 'l2']\n",
    "        return {        \n",
    "            \"C\": trial.suggest_loguniform(\"C\", 1e-3, 100),\n",
    "            \"penalty\": trial.suggest_categorical(\"penalty\", penalty)\n",
    "        }    \n",
    "    if model_name == enums.ModelName.RandomForest:\n",
    "        return {        \n",
    "            \"n_estimators\": trial.suggest_int(\"n_estimators\", 200, 3000, step=100),\n",
    "            \"max_depth\": trial.suggest_int(\"max_depth\", 10, 30),\n",
    "            \"min_samples_leaf\": trial.suggest_int(\"min_samples_leaf\", 2, 16),\n",
    "            \"min_samples_split\": trial.suggest_int(\"min_samples_split\", 2, 16),\n",
    "            \"max_features\": trial.suggest_categorical(\"max_features\", [\"log2\", \"sqrt\", None])\n",
    "        }\n",
    "    if model_name == enums.ModelName.CatBoost:\n",
    "        return get_catboost_tuning_params(trial)\n",
    "    if model_name == enums.ModelName.XGBoost:\n",
    "        return get_xgb_tuning_params_level2(trial) \n",
    "    if model_name == enums.ModelName.LGBM:\n",
    "        return get_lgbm_tuning_params(trial)   "
   ]
  },
  {
   "cell_type": "code",
   "execution_count": 218,
   "metadata": {},
   "outputs": [],
   "source": [
    "def hyperparams_tuning_objective(trial, model_name, preprocessor, df,  \n",
    "                                 feature_cols, metric, target_col_name, single_fold=False, num_folds=5):               \n",
    "    model_params = get_model_tuning_params(trial, model_name)    \n",
    "    fold_metrics_model, _, _ = tt.train_and_validate(\n",
    "                                        model_name=model_name,\n",
    "                                        model_params=model_params,\n",
    "                                        preprocessor=preprocessor,\n",
    "                                        df=df,\n",
    "                                        feature_cols=feature_cols,\n",
    "                                        target_col_name=target_col_name,\n",
    "                                        metric=metric,\n",
    "                                        single_fold=single_fold,\n",
    "                                        num_folds=num_folds,\n",
    "                                        suppress_print=True,\n",
    "                                        num_classes=Config.NUM_CLASSES\n",
    "                                    )\n",
    "    fold_metrics = [x[0] for x in fold_metrics_model]\n",
    "    mean_metric = statistics.mean(fold_metrics)                \n",
    "    return mean_metric"
   ]
  },
  {
   "cell_type": "code",
   "execution_count": 219,
   "metadata": {},
   "outputs": [],
   "source": [
    "def tune_model_params(study_name, study_direction, num_trials, model_name, \n",
    "                      preprocessor, df,  feature_cols, metric, target_col_name, \n",
    "                      single_fold=False, num_folds=5):\n",
    "    model_params_tuning_obj_partial = partial(\n",
    "        hyperparams_tuning_objective,\n",
    "        model_name=model_name,        \n",
    "        preprocessor=preprocessor,        \n",
    "        df=df,\n",
    "        feature_cols=feature_cols,\n",
    "        metric=metric,\n",
    "        target_col_name=target_col_name,\n",
    "        single_fold=single_fold,\n",
    "        num_folds=num_folds\n",
    "    )\n",
    "    study = optuna.create_study(direction=study_direction, study_name=study_name)\n",
    "    study.optimize(model_params_tuning_obj_partial, n_trials=num_trials)\n",
    "    best_trial = study.best_trial\n",
    "    print(f\"Best trial: number = {best_trial.number}, value = {best_trial.value}, params = {best_trial.params}\")\n",
    "    return best_trial.params"
   ]
  },
  {
   "cell_type": "code",
   "execution_count": 220,
   "metadata": {},
   "outputs": [],
   "source": [
    "df_train = cv_split_utils.strat_kfold_dataframe(df_train, \n",
    "                                                target_col_name=Config.TARGET_COL_NAME, \n",
    "                                                random_state=Config.RANDOM_SEED, \n",
    "                                                num_folds=Config.NUM_FOLDS)"
   ]
  },
  {
   "cell_type": "code",
   "execution_count": 221,
   "metadata": {},
   "outputs": [],
   "source": [
    "if tuned_model_params is None:\n",
    "    #df = df_train.sample(frac=0.1, random_state=Config.RANDOM_SEED)\n",
    "    tuned_model_params = tune_model_params(\n",
    "                            study_name=Config.MODEL_TYPE + \"_ModelTuning\", \n",
    "                            study_direction=\"maximize\",\n",
    "                            num_trials=Config.NUM_TUNING_TRIALS,\n",
    "                            model_name=Config.MODEL_TYPE,\n",
    "                            preprocessor=preprocessor,\n",
    "                            df=df_train,\n",
    "                            feature_cols=feature_cols_after_fe,\n",
    "                            metric=Config.METRIC,\n",
    "                            target_col_name=Config.TARGET_COL_NAME,\n",
    "                            single_fold=Config.TUNE_ON_SINGLE_FOLD,\n",
    "                            num_folds=Config.NUM_FOLDS\n",
    "                    )"
   ]
  },
  {
   "cell_type": "code",
   "execution_count": 222,
   "metadata": {},
   "outputs": [],
   "source": [
    "model_params = None\n",
    "params_static = model_static_params.get(Config.MODEL_TYPE)\n",
    "if params_static is not None and tuned_model_params is not None:\n",
    "    model_params = {**model_static_params[Config.MODEL_TYPE], **tuned_model_params}\n",
    "else:\n",
    "    model_params = tuned_model_params"
   ]
  },
  {
   "cell_type": "code",
   "execution_count": 223,
   "metadata": {},
   "outputs": [
    {
     "name": "stdout",
     "output_type": "stream",
     "text": [
      "Fold 0 - LightGBM - ACCURACY : 0.8295138674408549\n",
      "Fold 1 - LightGBM - ACCURACY : 0.8218543455432701\n",
      "Fold 2 - LightGBM - ACCURACY : 0.8241289844329133\n",
      "Fold 3 - LightGBM - ACCURACY : 0.8254262416604893\n",
      "Fold 4 - LightGBM - ACCURACY : 0.8251173708920188\n",
      "LightGBM metric=ACCURACY CV score = 0.8252081737540461\n",
      "LightGBM Mean ACCURACY = 0.8252081619939092, std = 0.002490285531972206\n",
      "CPU times: user 1h 46s, sys: 42.7 s, total: 1h 1min 29s\n",
      "Wall time: 16min 5s\n"
     ]
    }
   ],
   "source": [
    "%%time\n",
    "fold_metrics_model, df_oof_preds, preprocessor = tt.train_and_validate(\n",
    "        model_name=Config.MODEL_TYPE,\n",
    "        model_params=model_params,\n",
    "        preprocessor=preprocessor,\n",
    "        df=df_train,\n",
    "        feature_cols=feature_cols_after_fe,\n",
    "        target_col_name=Config.TARGET_COL_NAME,\n",
    "        metric=Config.METRIC,\n",
    "        single_fold=Config.TRAIN_SINGLE_FOLD,\n",
    "        num_folds=Config.NUM_FOLDS,\n",
    "        suppress_print=False,\n",
    "        num_classes=Config.NUM_CLASSES\n",
    ")"
   ]
  },
  {
   "cell_type": "code",
   "execution_count": 224,
   "metadata": {},
   "outputs": [],
   "source": [
    "from sklearn.metrics import accuracy_score, f1_score\n",
    "\n",
    "def get_model_stats(model_name):\n",
    "    target_classes = np.array([\"Dropout\", \"Enrolled\", \"Graduate\"])    \n",
    "    oof_cols = [f\"oof_preds_proba_{i}\" for i in range(Config.NUM_CLASSES)]\n",
    "    model_preds_proba = df_oof_preds[oof_cols].to_numpy()\n",
    "    model_preds = np.argmax(model_preds_proba, axis=1)\n",
    "    model_accuracy = accuracy_score(df_oof_preds[Config.TARGET_COL_NAME], model_preds)\n",
    "    model_f1 = f1_score(df_oof_preds[Config.TARGET_COL_NAME], model_preds, average='macro')\n",
    "    print(f\"{model_name} OOF Accuracy: {model_accuracy}\")\n",
    "    print(f\"{model_name} OOF F1 Score: {model_f1}\")\n",
    "    model_cm = confusion_matrix(df_oof_preds[Config.TARGET_COL_NAME], model_preds)\n",
    "    model_cm_percentage = model_cm / model_cm.sum(axis=1, keepdims=True) * 100\n",
    "    print(classification_report(df_oof_preds[Config.TARGET_COL_NAME].values, model_preds, target_names=target_classes))\n",
    "    disp = ConfusionMatrixDisplay(confusion_matrix=model_cm_percentage, display_labels=target_classes)\n",
    "    disp.plot()\n",
    "    plt.show()"
   ]
  },
  {
   "cell_type": "code",
   "execution_count": 225,
   "metadata": {},
   "outputs": [
    {
     "name": "stdout",
     "output_type": "stream",
     "text": [
      "LightGBM OOF Accuracy: 0.8252081737540461\n",
      "LightGBM OOF F1 Score: 0.7858514309195095\n",
      "              precision    recall  f1-score   support\n",
      "\n",
      "     Dropout       0.88      0.84      0.86     26717\n",
      "    Enrolled       0.65      0.59      0.62     15734\n",
      "    Graduate       0.85      0.91      0.88     38491\n",
      "\n",
      "    accuracy                           0.83     80942\n",
      "   macro avg       0.79      0.78      0.79     80942\n",
      "weighted avg       0.82      0.83      0.82     80942\n",
      "\n"
     ]
    },
    {
     "data": {
      "image/png": "[encoded data removed]",
      "text/plain": [
       "<Figure size 432x288 with 2 Axes>"
      ]
     },
     "metadata": {
      "needs_background": "light"
     },
     "output_type": "display_data"
    }
   ],
   "source": [
    "get_model_stats(Config.MODEL_TYPE)"
   ]
  },
  {
   "cell_type": "code",
   "execution_count": 226,
   "metadata": {},
   "outputs": [],
   "source": [
    "tt.persist(\n",
    "    model_name=Config.MODEL_TYPE, \n",
    "    fold_metrics_model=fold_metrics_model, \n",
    "    df_oof_preds=df_oof_preds, \n",
    "    persist_model=Config.PERSIST_MODEL, \n",
    "    output_path=DATA_WRITEPATH\n",
    ")"
   ]
  },
  {
   "cell_type": "code",
   "execution_count": 227,
   "metadata": {},
   "outputs": [],
   "source": [
    "test_preds_proba, test_preds = tt.get_test_preds_clf(fold_metrics_model, df_test, feature_cols_after_fe, \n",
    "                                                     preprocessor=preprocessor, num_folds=Config.NUM_FOLDS)\n",
    "# convert test_preds to string using labelencoder\n",
    "test_preds_final = le.inverse_transform(test_preds)\n",
    "df_test_preds = pd.DataFrame()\n",
    "for i in range(Config.NUM_CLASSES):\n",
    "    df_test_preds[f\"test_preds_proba_{i}\"] = test_preds_proba[:, i]\n",
    "df_test_preds[\"test_preds\"] = test_preds\n",
    "df_test_preds.to_csv(DATA_WRITEPATH + f'df_test_preds_{Config.MODEL_TYPE}.csv',index=False)\n",
    "df_submission = pd.read_csv(SUBMISSION_FILEPATH + 'sample_submission.csv')\n",
    "df_submission[Config.TARGET_COL_NAME]= test_preds_final\n",
    "df_submission.to_csv(DATA_WRITEPATH + f'submission_{Config.MODEL_TYPE}.csv',index=False)\n",
    "df_submission.head()"
   ]
  },
  {
   "cell_type": "code",
   "execution_count": 228,
   "metadata": {},
   "outputs": [
    {
     "data": {
      "text/plain": [
       "69"
      ]
     },
     "execution_count": 228,
     "metadata": {},
     "output_type": "execute_result"
    }
   ],
   "source": [
    "# Define a function to extract the part after '__' (vectorized for speed)\n",
    "def extract_after_delimiter(text):\n",
    "    return text.split(\"__\", 1)[1] if len(text.split(\"__\")) > 1 else text\n",
    "\n",
    "features = preprocessor.get_feature_names_out()\n",
    "# Apply the function to the feature names using lambda\n",
    "features = list(map(extract_after_delimiter, features))\n",
    "len(features)"
   ]
  },
  {
   "cell_type": "code",
   "execution_count": 229,
   "metadata": {},
   "outputs": [],
   "source": [
    "def get_feature_importance(model, features):\n",
    "    df_feature_imp = pd.DataFrame()\n",
    "    df_feature_imp[\"f_name\"] = features\n",
    "    df_feature_imp[\"f_imp\"] = model.feature_importances_\n",
    "    df_feature_imp = df_feature_imp.sort_values(by=\"f_imp\", ascending=False)\n",
    "    return df_feature_imp"
   ]
  },
  {
   "cell_type": "code",
   "execution_count": 230,
   "metadata": {},
   "outputs": [
    {
     "data": {
      "image/png": "[encoded data removed]",
      "text/plain": [
       "<Figure size 1296x432 with 1 Axes>"
      ]
     },
     "metadata": {
      "needs_background": "light"
     },
     "output_type": "display_data"
    }
   ],
   "source": [
    "if Config.MODEL_TYPE in [enums.ModelName.CatBoost, enums.ModelName.LGBM, enums.ModelName.XGBoost, \n",
    "                         enums.ModelName.RandomForest]:\n",
    "    df_feature_imp = get_feature_importance(fold_metrics_model[0][1], features)\n",
    "    df_feature_imp.to_csv(DATA_WRITEPATH + f\"{Config.MODEL_TYPE}_feature_imp_orig_openfe.csv\", index=False)\n",
    "    data_utils.plot_feature_importance(df_feature_imp, fig_size=(18, 6))"
   ]
  },
  {
   "cell_type": "code",
   "execution_count": 231,
   "metadata": {},
   "outputs": [],
   "source": [
    "def get_preprocessor(cur_features):\n",
    "    cur_cont_features = [x for x in df_train[cur_features].dtypes[df_train[cur_features].dtypes == \"float\"].index.values \n",
    "                         if x not in null_features]\n",
    "    cur_scaler = StandardScaler()\n",
    "    preprocessor = ColumnTransformer(\n",
    "        transformers=[                \n",
    "            (\"scaler\", cur_scaler, cur_cont_features),        \n",
    "        ], remainder=\"passthrough\"\n",
    "    )\n",
    "    return preprocessor"
   ]
  },
  {
   "cell_type": "code",
   "execution_count": 232,
   "metadata": {},
   "outputs": [],
   "source": [
    "def get_candidate_features(df_feature_imp, feature_selection_method):\n",
    "    if feature_selection_method == \"forward\":\n",
    "        # all remanining features are candidate features (get rows from df_feature_imp that are not in base_features)\n",
    "        candidate_features = df_feature_imp.iloc[30:, :][\"f_name\"].values\n",
    "    else:\n",
    "        # for backward feature selection features from last to 30th are candidate features\n",
    "        candidate_features = df_feature_imp.iloc[30:][\"f_name\"].values\n",
    "        candidate_features = candidate_features[::-1]\n",
    "    return candidate_features"
   ]
  },
  {
   "cell_type": "code",
   "execution_count": 233,
   "metadata": {},
   "outputs": [
    {
     "name": "stdout",
     "output_type": "stream",
     "text": [
      "len(base_features) = 69 base_features = ['Admission_grade' 'autoFE_f_36' 'autoFE_f_22'\n",
      " 'Previous_qualification_grade' 'autoFE_f_32'\n",
      " 'Curricular_units_1st_sem_grade' 'autoFE_f_20' 'autoFE_f_21' 'autoFE_f_8'\n",
      " 'Curricular_units_2nd_sem_grade' 'autoFE_f_48' 'autoFE_f_33'\n",
      " 'autoFE_f_28' 'autoFE_f_29' 'Fathers_occupation' 'autoFE_f_40'\n",
      " 'autoFE_f_25' 'Curricular_units_1st_sem_evaluations' 'autoFE_f_41'\n",
      " 'autoFE_f_44' 'autoFE_f_39' 'Mothers_occupation' 'Unemployment_rate'\n",
      " 'autoFE_f_26' 'Mothers_qualification' 'Fathers_qualification'\n",
      " 'Curricular_units_2nd_sem_evaluations' 'Course' 'Age_at_enrollment'\n",
      " 'autoFE_f_27' 'GDP' 'Unempl_Infl_GDP' 'autoFE_f_30' 'autoFE_f_35'\n",
      " 'autoFE_f_24' 'Application_mode' 'autoFE_f_43' 'Inflation_rate'\n",
      " 'autoFE_f_46' 'Application_order' 'autoFE_f_9' 'autoFE_f_45'\n",
      " 'autoFE_f_34' 'autoFE_f_49' 'autoFE_f_38' 'autoFE_f_11' 'autoFE_f_12'\n",
      " 'Previous_qualification' 'Gender' 'Curricular_units_1st_sem_approved'\n",
      " 'autoFE_f_4' 'Curricular_units_2nd_sem_enrolled' 'Displaced' 'autoFE_f_0'\n",
      " 'Curricular_units_1st_sem_enrolled' 'Marital_status' 'Debtor'\n",
      " 'Curricular_units_1st_sem_credited' 'autoFE_f_14'\n",
      " 'Curricular_units_1st_sem_without_evaluations'\n",
      " 'Curricular_units_2nd_sem_without_evaluations'\n",
      " 'Daytime_evening_attendance' 'Curricular_units_2nd_sem_credited'\n",
      " 'Curricular_units_2nd_sem_approved' 'Nacionality' 'Scholarship_holder'\n",
      " 'International' 'Tuition_fees_up_to_date' 'Educational_special_needs']\n",
      "\n",
      " base_val_score = 0.8294520971029712\n",
      "\n",
      " len(candidate_features)=39 candidate_features = ['Educational_special_needs' 'Tuition_fees_up_to_date' 'International'\n",
      " 'Scholarship_holder' 'Nacionality' 'Curricular_units_2nd_sem_approved'\n",
      " 'Curricular_units_2nd_sem_credited' 'Daytime_evening_attendance'\n",
      " 'Curricular_units_2nd_sem_without_evaluations'\n",
      " 'Curricular_units_1st_sem_without_evaluations' 'autoFE_f_14'\n",
      " 'Curricular_units_1st_sem_credited' 'Debtor' 'Marital_status'\n",
      " 'Curricular_units_1st_sem_enrolled' 'autoFE_f_0' 'Displaced'\n",
      " 'Curricular_units_2nd_sem_enrolled' 'autoFE_f_4'\n",
      " 'Curricular_units_1st_sem_approved' 'Gender' 'Previous_qualification'\n",
      " 'autoFE_f_12' 'autoFE_f_11' 'autoFE_f_38' 'autoFE_f_49' 'autoFE_f_34'\n",
      " 'autoFE_f_45' 'autoFE_f_9' 'Application_order' 'autoFE_f_46'\n",
      " 'Inflation_rate' 'autoFE_f_43' 'Application_mode' 'autoFE_f_24'\n",
      " 'autoFE_f_35' 'autoFE_f_30' 'Unempl_Infl_GDP' 'GDP']\n"
     ]
    }
   ],
   "source": [
    "# select the top 30 features as the base features\n",
    "# the set of constant features to be included in the model irrespective of the feature selection method\n",
    "if Config.FEATURE_SELECTION_METHOD is not None:\n",
    "    if Config.FEATURE_SELECTION_METHOD == \"forward\":\n",
    "        base_features = df_feature_imp.head(30).f_name.values\n",
    "    else:\n",
    "        # for backward selection the entire feature set is the starting point\n",
    "        base_features = df_feature_imp[\"f_name\"].values    \n",
    "    print(f\"len(base_features) = {len(base_features)} base_features = {base_features}\")    \n",
    "    best_score = 0.0\n",
    "    base_preprocessor = get_preprocessor(base_features)\n",
    "    base_val_score = tt.train_validate_fold(\n",
    "            fold=0, \n",
    "            model_name=Config.MODEL_TYPE, \n",
    "            model_params=model_params, \n",
    "            preprocessor=base_preprocessor, \n",
    "            df=df_train, \n",
    "            feature_cols=base_features, \n",
    "            metric=Config.METRIC, \n",
    "            target_col_name=Config.TARGET_COL_NAME, \n",
    "            num_classes=Config.NUM_CLASSES\n",
    "        )\n",
    "    print(f\"\\n base_val_score = {base_val_score}\")\n",
    "    best_score = base_val_score\n",
    "    candidate_features = get_candidate_features(df_feature_imp, Config.FEATURE_SELECTION_METHOD)\n",
    "    print(f\"\\n len(candidate_features)={len(candidate_features)} candidate_features = {candidate_features}\")\n",
    "    selected_features = base_features"
   ]
  },
  {
   "cell_type": "code",
   "execution_count": 234,
   "metadata": {},
   "outputs": [
    {
     "name": "stdout",
     "output_type": "stream",
     "text": [
      "FEATURE SELECTION METHOD = backward\n",
      "feature selected = Educational_special_needs | cur_val_score = 0.8295138674408549 | best_score = 0.8294520971029712\n",
      "feature not selected = Tuition_fees_up_to_date | cur_val_score = 0.8293903267650874 | best_score = 0.8295138674408549\n",
      "feature not selected = International | cur_val_score = 0.829019704737785 | best_score = 0.8295138674408549\n",
      "feature selected = Scholarship_holder | cur_val_score = 0.8296991784545061 | best_score = 0.8295138674408549\n",
      "feature selected = Nacionality | cur_val_score = 0.8306257335227624 | best_score = 0.8296991784545061\n",
      "feature not selected = Curricular_units_2nd_sem_approved | cur_val_score = 0.828525542034715 | best_score = 0.8306257335227624\n",
      "feature selected = Curricular_units_2nd_sem_credited | cur_val_score = 0.8308728148742973 | best_score = 0.8306257335227624\n",
      "feature not selected = Daytime_evening_attendance | cur_val_score = 0.8299462598060411 | best_score = 0.8308728148742973\n",
      "feature not selected = Curricular_units_2nd_sem_without_evaluations | cur_val_score = 0.8296991784545061 | best_score = 0.8308728148742973\n",
      "feature not selected = Curricular_units_1st_sem_without_evaluations | cur_val_score = 0.8287108530483662 | best_score = 0.8308728148742973\n",
      "feature not selected = autoFE_f_14 | cur_val_score = 0.8292667860893199 | best_score = 0.8308728148742973\n",
      "feature not selected = Curricular_units_1st_sem_credited | cur_val_score = 0.8280931496695287 | best_score = 0.8308728148742973\n",
      "feature not selected = Debtor | cur_val_score = 0.8294520971029712 | best_score = 0.8308728148742973\n",
      "feature not selected = Marital_status | cur_val_score = 0.8294520971029712 | best_score = 0.8308728148742973\n",
      "feature not selected = Curricular_units_1st_sem_enrolled | cur_val_score = 0.8287726233862499 | best_score = 0.8308728148742973\n",
      "feature not selected = autoFE_f_0 | cur_val_score = 0.8301315708196924 | best_score = 0.8308728148742973\n",
      "feature not selected = Displaced | cur_val_score = 0.8279696089937612 | best_score = 0.8308728148742973\n",
      "feature not selected = Curricular_units_2nd_sem_enrolled | cur_val_score = 0.8298844894681574 | best_score = 0.8308728148742973\n",
      "feature not selected = autoFE_f_4 | cur_val_score = 0.8302551114954598 | best_score = 0.8308728148742973\n",
      "feature not selected = Curricular_units_1st_sem_approved | cur_val_score = 0.8288343937241337 | best_score = 0.8308728148742973\n",
      "feature not selected = Gender | cur_val_score = 0.8290814750756687 | best_score = 0.8308728148742973\n",
      "feature not selected = Previous_qualification | cur_val_score = 0.8303786521712274 | best_score = 0.8308728148742973\n",
      "feature not selected = autoFE_f_12 | cur_val_score = 0.8289579343999012 | best_score = 0.8308728148742973\n",
      "feature not selected = autoFE_f_11 | cur_val_score = 0.8301315708196924 | best_score = 0.8308728148742973\n",
      "feature not selected = autoFE_f_38 | cur_val_score = 0.8298844894681574 | best_score = 0.8308728148742973\n",
      "feature not selected = autoFE_f_49 | cur_val_score = 0.8288961640620174 | best_score = 0.8308728148742973\n",
      "feature not selected = autoFE_f_34 | cur_val_score = 0.8283402310210637 | best_score = 0.8308728148742973\n",
      "feature not selected = autoFE_f_45 | cur_val_score = 0.8288343937241337 | best_score = 0.8308728148742973\n",
      "feature not selected = autoFE_f_9 | cur_val_score = 0.8295756377787387 | best_score = 0.8308728148742973\n",
      "feature not selected = Application_order | cur_val_score = 0.8294520971029712 | best_score = 0.8308728148742973\n",
      "feature not selected = autoFE_f_46 | cur_val_score = 0.8290814750756687 | best_score = 0.8308728148742973\n",
      "feature not selected = Inflation_rate | cur_val_score = 0.8287726233862499 | best_score = 0.8308728148742973\n",
      "feature not selected = autoFE_f_43 | cur_val_score = 0.8295756377787387 | best_score = 0.8308728148742973\n",
      "feature not selected = Application_mode | cur_val_score = 0.8277225276422262 | best_score = 0.8308728148742973\n",
      "feature not selected = autoFE_f_24 | cur_val_score = 0.8288961640620174 | best_score = 0.8308728148742973\n",
      "feature not selected = autoFE_f_35 | cur_val_score = 0.8274136759528075 | best_score = 0.8308728148742973\n",
      "feature not selected = autoFE_f_30 | cur_val_score = 0.828525542034715 | best_score = 0.8308728148742973\n",
      "feature not selected = Unempl_Infl_GDP | cur_val_score = 0.8293903267650874 | best_score = 0.8308728148742973\n",
      "feature not selected = GDP | cur_val_score = 0.8270430539255049 | best_score = 0.8308728148742973\n",
      "len(selected_features) = 65\n",
      "selected_features = ['Admission_grade' 'autoFE_f_36' 'autoFE_f_22'\n",
      " 'Previous_qualification_grade' 'autoFE_f_32'\n",
      " 'Curricular_units_1st_sem_grade' 'autoFE_f_20' 'autoFE_f_21' 'autoFE_f_8'\n",
      " 'Curricular_units_2nd_sem_grade' 'autoFE_f_48' 'autoFE_f_33'\n",
      " 'autoFE_f_28' 'autoFE_f_29' 'Fathers_occupation' 'autoFE_f_40'\n",
      " 'autoFE_f_25' 'Curricular_units_1st_sem_evaluations' 'autoFE_f_41'\n",
      " 'autoFE_f_44' 'autoFE_f_39' 'Mothers_occupation' 'Unemployment_rate'\n",
      " 'autoFE_f_26' 'Mothers_qualification' 'Fathers_qualification'\n",
      " 'Curricular_units_2nd_sem_evaluations' 'Course' 'Age_at_enrollment'\n",
      " 'autoFE_f_27' 'GDP' 'Unempl_Infl_GDP' 'autoFE_f_30' 'autoFE_f_35'\n",
      " 'autoFE_f_24' 'Application_mode' 'autoFE_f_43' 'Inflation_rate'\n",
      " 'autoFE_f_46' 'Application_order' 'autoFE_f_9' 'autoFE_f_45'\n",
      " 'autoFE_f_34' 'autoFE_f_49' 'autoFE_f_38' 'autoFE_f_11' 'autoFE_f_12'\n",
      " 'Previous_qualification' 'Gender' 'Curricular_units_1st_sem_approved'\n",
      " 'autoFE_f_4' 'Curricular_units_2nd_sem_enrolled' 'Displaced' 'autoFE_f_0'\n",
      " 'Curricular_units_1st_sem_enrolled' 'Marital_status' 'Debtor'\n",
      " 'Curricular_units_1st_sem_credited' 'autoFE_f_14'\n",
      " 'Curricular_units_1st_sem_without_evaluations'\n",
      " 'Curricular_units_2nd_sem_without_evaluations'\n",
      " 'Daytime_evening_attendance' 'Curricular_units_2nd_sem_approved'\n",
      " 'International' 'Tuition_fees_up_to_date']\n"
     ]
    }
   ],
   "source": [
    "if Config.FEATURE_SELECTION_METHOD is not None:\n",
    "    unselected_features = []\n",
    "    print(f\"FEATURE SELECTION METHOD = {Config.FEATURE_SELECTION_METHOD}\")\n",
    "    for feature in candidate_features:\n",
    "        if Config.FEATURE_SELECTION_METHOD == \"forward\":\n",
    "            # add the feature to base_features\n",
    "            cur_features = np.append(selected_features, feature)\n",
    "        else:\n",
    "            # remove the feature from base_features\n",
    "            cur_features = np.delete(selected_features, np.where(selected_features == feature))\n",
    "        cur_preprocessor = get_preprocessor(cur_features)\n",
    "        cur_val_score = tt.train_validate_fold(\n",
    "            fold=0, \n",
    "            model_name=Config.MODEL_TYPE, \n",
    "            model_params=model_params, \n",
    "            preprocessor=cur_preprocessor, \n",
    "            df=df_train, \n",
    "            feature_cols=cur_features, \n",
    "            metric=Config.METRIC, \n",
    "            target_col_name=Config.TARGET_COL_NAME, \n",
    "            num_classes=Config.NUM_CLASSES\n",
    "        )\n",
    "        if cur_val_score > best_score:\n",
    "            print(f\"feature selected = {feature} | cur_val_score = {cur_val_score} | best_score = {best_score}\")\n",
    "            if Config.FEATURE_SELECTION_METHOD == \"forward\":\n",
    "                selected_features = np.append(selected_features, feature)\n",
    "            else:\n",
    "                selected_features = np.delete(selected_features, np.where(selected_features == feature))\n",
    "            best_score = cur_val_score\n",
    "        else:\n",
    "            print(f\"feature not selected = {feature} | cur_val_score = {cur_val_score} | best_score = {best_score}\")\n",
    "            unselected_features.append(feature)\n",
    "    print(f\"len(selected_features) = {len(selected_features)}\")\n",
    "    print(f\"selected_features = {selected_features}\")"
   ]
  },
  {
   "cell_type": "code",
   "execution_count": 235,
   "metadata": {},
   "outputs": [],
   "source": [
    "# from fwd_feature_selector import VerboseSequentialFeatureSelector\n",
    "\n",
    "# fs_model = tt.get_model(Config.MODEL_TYPE, model_params, Config.METRIC)\n",
    "# verbose_sfs = VerboseSequentialFeatureSelector(fs_model, \n",
    "#                                                n_features_to_select=\"auto\", \n",
    "#                                                direction=\"forward\",\n",
    "#                                                scoring=\"accuracy\",\n",
    "#                                                n_jobs=-1)\n",
    "\n",
    "# X_train = df_train[features].to_numpy()\n",
    "# y_train = df_train[Config.TARGET_COL_NAME].to_numpy()\n",
    "# # Fit the custom SequentialFeatureSelector to the training data\n",
    "# verbose_sfs.fit(X_train, y_train)\n",
    "# # Get the selected features\n",
    "# selected_features = verbose_sfs.get_support(indices=True)\n",
    "# print(\"Selected features indices:\", selected_features)"
   ]
  },
  {
   "cell_type": "code",
   "execution_count": 236,
   "metadata": {},
   "outputs": [],
   "source": [
    "# # performing feature selection by removing bottom 8 features leads to an improvment in cv score for catboost\n",
    "# # from 0.82996 to 0.83129. Forward feature selection algorithm might help to improve cv score further\n",
    "# df_feature_imp = df_feature_imp.head(60)\n",
    "# feature_cols_new = df_feature_imp.f_name.values"
   ]
  },
  {
   "cell_type": "code",
   "execution_count": 237,
   "metadata": {},
   "outputs": [],
   "source": [
    "if Config.FEATURE_SELECTION_METHOD is not None:\n",
    "    cont_features1 = [x for x in df_train[selected_features].dtypes[df_train[selected_features].dtypes == \"float\"].index.values \n",
    "                      if x not in null_features]\n",
    "    scaler1 = StandardScaler()\n",
    "    preprocessor1 = ColumnTransformer(\n",
    "        transformers=[                \n",
    "            (\"scaler\", scaler1, cont_features1),        \n",
    "        ], remainder=\"passthrough\"\n",
    "    )"
   ]
  },
  {
   "cell_type": "code",
   "execution_count": 238,
   "metadata": {},
   "outputs": [
    {
     "name": "stdout",
     "output_type": "stream",
     "text": [
      "Fold 0 - LightGBM - ACCURACY : 0.8308728148742973\n",
      "Fold 1 - LightGBM - ACCURACY : 0.8249428624374575\n",
      "Fold 2 - LightGBM - ACCURACY : 0.8235112428959723\n",
      "Fold 3 - LightGBM - ACCURACY : 0.8255497899678774\n",
      "Fold 4 - LightGBM - ACCURACY : 0.8261057573511242\n",
      "LightGBM metric=ACCURACY CV score = 0.8261965357910602\n",
      "LightGBM Mean ACCURACY = 0.8261964935053457, std = 0.002493054421800091\n"
     ]
    }
   ],
   "source": [
    "if Config.FEATURE_SELECTION_METHOD is not None:\n",
    "        fold_metrics_model1, df_oof_preds1, preprocessor1 = tt.train_and_validate(\n",
    "                model_name=Config.MODEL_TYPE,\n",
    "                model_params=model_params,\n",
    "                preprocessor=preprocessor1,\n",
    "                df=df_train,\n",
    "                feature_cols=selected_features,\n",
    "                target_col_name=Config.TARGET_COL_NAME,\n",
    "                metric=Config.METRIC,\n",
    "                single_fold=Config.TRAIN_SINGLE_FOLD,\n",
    "                num_folds=Config.NUM_FOLDS,\n",
    "                suppress_print=False,\n",
    "                num_classes=Config.NUM_CLASSES\n",
    "        )"
   ]
  },
  {
   "cell_type": "code",
   "execution_count": 239,
   "metadata": {},
   "outputs": [
    {
     "name": "stdout",
     "output_type": "stream",
     "text": [
      "Saved validation data predictions to df_val_preds_LightGBM_fs.csv\n"
     ]
    }
   ],
   "source": [
    "if Config.FEATURE_SELECTION_METHOD is not None:\n",
    "    df_oof_preds1.to_csv(DATA_WRITEPATH + f\"df_val_preds_{Config.MODEL_TYPE}_fs.csv\")\n",
    "    print(f\"Saved validation data predictions to df_val_preds_{Config.MODEL_TYPE}_fs.csv\")  "
   ]
  },
  {
   "cell_type": "code",
   "execution_count": 240,
   "metadata": {},
   "outputs": [
    {
     "name": "stdout",
     "output_type": "stream",
     "text": [
      "test_X shape: (51012, 65)\n",
      "test_preds_proba shape: (51012, 3)\n",
      "test_preds shape: (51012,)\n"
     ]
    }
   ],
   "source": [
    "if Config.FEATURE_SELECTION_METHOD is not None:\n",
    "    test_preds_proba1, test_preds1 = tt.get_test_preds_clf(fold_metrics_model1, df_test, selected_features, \n",
    "                                                        preprocessor=preprocessor1, num_folds=Config.NUM_FOLDS)\n",
    "    # convert test_preds to string using labelencoder\n",
    "    test_preds_final1 = le.inverse_transform(test_preds1)\n",
    "    df_test_preds1 = pd.DataFrame()\n",
    "    for i in range(Config.NUM_CLASSES):\n",
    "        df_test_preds1[f\"test_preds_proba_{i}\"] = test_preds_proba1[:, i]\n",
    "    df_test_preds1[\"test_preds\"] = test_preds1\n",
    "    df_test_preds1.to_csv(DATA_WRITEPATH + f'df_test_preds_{Config.MODEL_TYPE}_fs.csv',index=False)\n",
    "    df_submission1 = pd.read_csv(SUBMISSION_FILEPATH + 'sample_submission.csv')\n",
    "    df_submission1[Config.TARGET_COL_NAME] = test_preds_final1\n",
    "    df_submission1.to_csv(DATA_WRITEPATH + f'submission_{Config.MODEL_TYPE}_fs.csv',index=False)\n",
    "    df_submission1.head()"
   ]
  }
 ],
 "metadata": {
  "kernelspec": {
   "display_name": "fastai",
   "language": "python",
   "name": "python3"
  },
  "language_info": {
   "codemirror_mode": {
    "name": "ipython",
    "version": 3
   },
   "file_extension": ".py",
   "mimetype": "text/x-python",
   "name": "python",
   "nbconvert_exporter": "python",
   "pygments_lexer": "ipython3",
   "version": "3.9.7"
  }
 },
 "nbformat": 4,
 "nbformat_minor": 2
}
