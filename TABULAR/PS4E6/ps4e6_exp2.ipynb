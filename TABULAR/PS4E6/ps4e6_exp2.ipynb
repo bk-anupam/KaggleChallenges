{
 "cells": [
  {
   "cell_type": "code",
   "execution_count": 126,
   "metadata": {},
   "outputs": [],
   "source": [
    "#!pip install ucimlrepo"
   ]
  },
  {
   "cell_type": "code",
   "execution_count": 127,
   "metadata": {},
   "outputs": [],
   "source": [
    "import sys\n",
    "import os\n",
    "import numpy as np\n",
    "import pandas as pd\n",
    "import seaborn as sns\n",
    "import matplotlib.pyplot as plt\n",
    "import optuna\n",
    "import statistics\n",
    "import re\n",
    "from sklearn.preprocessing import StandardScaler, OneHotEncoder, LabelEncoder\n",
    "from sklearn.compose import ColumnTransformer\n",
    "from sklearn.metrics import confusion_matrix, ConfusionMatrixDisplay, classification_report\n",
    "from sklearn.feature_selection import SelectFromModel, SequentialFeatureSelector\n",
    "from ucimlrepo import fetch_ucirepo\n",
    "from sklearn.utils import class_weight\n",
    "from functools import partial\n",
    "import warnings\n",
    "\n",
    "warnings.filterwarnings('ignore')\n"
   ]
  },
  {
   "cell_type": "code",
   "execution_count": 128,
   "metadata": {},
   "outputs": [],
   "source": [
    "sys.path.append(os.path.abspath(\"/home/bk_anupam/code/ML/ML_UTILS/\"))"
   ]
  },
  {
   "cell_type": "code",
   "execution_count": 129,
   "metadata": {},
   "outputs": [],
   "source": [
    "import train_tabular_utils as tt\n",
    "import cv_split_utils\n",
    "import enums\n",
    "import data_utils"
   ]
  },
  {
   "cell_type": "code",
   "execution_count": 130,
   "metadata": {},
   "outputs": [],
   "source": [
    "class Config:\n",
    "    RUN_MODE = \"LOCAL\"\n",
    "    RANDOM_SEED = 42\n",
    "    NUM_FOLDS = 5\n",
    "    TARGET_COL_NAME = \"Target\"        \n",
    "    SCALER = enums.Scaler.StandardScaler\n",
    "    METRIC = enums.Metrics.ACCURACY\n",
    "    # These values are more dynamic   \n",
    "    MODEL_TYPE = enums.ModelName.LGBM\n",
    "    NUM_TUNING_TRIALS = 25\n",
    "    TUNE_ON_SINGLE_FOLD = True\n",
    "    TRAIN_SINGLE_FOLD = False    \n",
    "    PERSIST_MODEL = False\n",
    "    USE_OPENFE_FEATURES = True\n",
    "    CREATE_MANUAL_FEATURES = False\n",
    "    USE_ORIGINAL_DATA = True\n",
    "    NUM_CLASSES = 3\n",
    "    FEATURE_SELECTION_METHOD = \"backward\"\n",
    "\n",
    "COLS_TO_LEAVE = [\"id\", \"Target\", \"kfold\"]\n",
    "CPU_COUNT = os.cpu_count()\n",
    "\n",
    "DATA_READPATH = \"./data/\"\n",
    "DATA_WRITEPATH = \"./output/\"\n",
    "SUBMISSION_FILEPATH = DATA_READPATH\n",
    "if Config.RUN_MODE == \"KAGGLE\":    \n",
    "    DATA_READPATH = \"/kaggle/input/playground-series-s4e6/\"\n",
    "    if Config.USE_OPENFE_FEATURES:\n",
    "        DATA_READPATH = \"/kaggle/input/ps4e6-openfe/\"\n",
    "    SUBMISSION_FILEPATH = \"/kaggle/input/playground-series-s4e6/\"\n",
    "    DATA_WRITEPATH = \"/kaggle/working/\""
   ]
  },
  {
   "cell_type": "code",
   "execution_count": 131,
   "metadata": {},
   "outputs": [],
   "source": [
    "# fetch original dataset \n",
    "predict_students_dropout_and_academic_success = fetch_ucirepo(id=697) \n",
    "df_train_orig = predict_students_dropout_and_academic_success.data.features \n",
    "df_train_orig[Config.TARGET_COL_NAME] = predict_students_dropout_and_academic_success.data.targets[Config.TARGET_COL_NAME]\n",
    "# rename column 'Marital Status' to 'Marital status'\n",
    "df_train_orig = df_train_orig.rename(columns={'Marital Status': 'Marital status'})"
   ]
  },
  {
   "cell_type": "code",
   "execution_count": 132,
   "metadata": {},
   "outputs": [
    {
     "data": {
      "text/plain": [
       "Series([], dtype: int64)"
      ]
     },
     "execution_count": 132,
     "metadata": {},
     "output_type": "execute_result"
    }
   ],
   "source": [
    "# no missing values in original data\n",
    "na_orig = df_train_orig.isna().sum()\n",
    "na_orig.loc[na_orig > 0]"
   ]
  },
  {
   "cell_type": "code",
   "execution_count": 133,
   "metadata": {},
   "outputs": [
    {
     "name": "stdout",
     "output_type": "stream",
     "text": [
      "using generated openfe features on both train and original data\n"
     ]
    }
   ],
   "source": [
    "if Config.USE_OPENFE_FEATURES and not Config.USE_ORIGINAL_DATA:\n",
    "    print(\"using generated openfe features only on train data\")\n",
    "    df_train = pd.read_csv(DATA_READPATH + \"train_openfe.csv\")    \n",
    "    df_test = pd.read_csv(DATA_READPATH + \"test_openfe.csv\")\n",
    "elif Config.USE_OPENFE_FEATURES and Config.USE_ORIGINAL_DATA:\n",
    "    print(\"using generated openfe features on both train and original data\")\n",
    "    df_train = pd.read_csv(DATA_READPATH + \"train_orig_openfe.csv\")    \n",
    "    df_test = pd.read_csv(DATA_READPATH + \"test_orig_openfe.csv\")\n",
    "else:    \n",
    "    df_train = pd.read_csv(DATA_READPATH + \"train.csv\")\n",
    "    df_train = df_train.drop(\"id\", axis=1)    \n",
    "    df_test = pd.read_csv(DATA_READPATH + \"test.csv\")\n",
    "    df_test = df_test.drop(\"id\", axis=1)\n",
    "    if Config.USE_ORIGINAL_DATA:\n",
    "        # add df_train_orig rows to df_train\n",
    "        df_train = pd.concat([df_train, df_train_orig], axis=0, ignore_index=True)"
   ]
  },
  {
   "cell_type": "code",
   "execution_count": 134,
   "metadata": {},
   "outputs": [
    {
     "data": {
      "text/plain": [
       "['Dropout', 'Enrolled', 'Graduate']"
      ]
     },
     "execution_count": 134,
     "metadata": {},
     "output_type": "execute_result"
    }
   ],
   "source": [
    "# Label encoding of target values\n",
    "le = LabelEncoder()\n",
    "le.fit(df_train[Config.TARGET_COL_NAME])\n",
    "df_train[Config.TARGET_COL_NAME] = le.transform(df_train[Config.TARGET_COL_NAME])\n",
    "list(le.classes_)"
   ]
  },
  {
   "cell_type": "code",
   "execution_count": 135,
   "metadata": {},
   "outputs": [
    {
     "name": "stdout",
     "output_type": "stream",
     "text": [
      "[1.00986887 1.71480022 0.7009604 ]\n"
     ]
    }
   ],
   "source": [
    "# Dropout = 0.33, Enrolled = 0.2, Graduate = 0.47\n",
    "# Increase the weight of the minority class for model to focus more on the minority class\n",
    "# calculate class weights\n",
    "class_weights = class_weight.compute_class_weight(class_weight='balanced', classes=np.unique(df_train.Target), y=df_train.Target)\n",
    "print(class_weights)"
   ]
  },
  {
   "cell_type": "code",
   "execution_count": 136,
   "metadata": {},
   "outputs": [],
   "source": [
    "model_static_params = {\n",
    "    enums.ModelName.XGBoost: {\n",
    "        \"objective\": \"multi:softmax\",        \n",
    "        \"seed\": Config.RANDOM_SEED,\n",
    "        \"verbosity\": 0,\n",
    "        \"num_class\": 3,\n",
    "        \"eval_metric\": \"merror\"\n",
    "    },\n",
    "    enums.ModelName.LGBM: {\n",
    "        \"objective\": \"multiclass\",\n",
    "        \"metric\": 'multi_error',\n",
    "        \"verbosity\": -1,    # <0: fatal, =0: error (warn), =1: info, >1: debug\n",
    "        \"boosting_type\": \"gbdt\",\n",
    "        \"num_class\": 3,\n",
    "    },\n",
    "    enums.ModelName.CatBoost: {\n",
    "        \"objective\": \"MultiClass\",\n",
    "        \"verbose\": 0,\n",
    "        \"random_seed\": Config.RANDOM_SEED,\n",
    "        \"eval_metric\": \"Accuracy\",\n",
    "        'grow_policy':  'Lossguide',\n",
    "        #'bootstrap_type': 'Poisson',\n",
    "        #'class_weights': class_weights,\n",
    "        'task_type': 'CPU'\n",
    "    },\n",
    "    enums.ModelName.RandomForest: {\n",
    "        \"random_state\": Config.RANDOM_SEED,\n",
    "        \"n_jobs\": -1\n",
    "    }\n",
    "}"
   ]
  },
  {
   "cell_type": "code",
   "execution_count": 137,
   "metadata": {},
   "outputs": [],
   "source": [
    "# For RandomForest\n",
    "# tuned_model_params = {'n_estimators': 1300, 'max_depth': 17, 'min_samples_leaf': 3, 'min_samples_split': 3, 'max_features': 'sqrt'}\n",
    "# For CatBoost\n",
    "# tuned_model_params = {'learning_rate': 0.45126024670762294, 'n_estimators': 3700, 'max_depth': 7, 'min_data_in_leaf': 73, 'colsample_bylevel': 0.8908705634626486, 'num_leaves': 120, 'reg_lambda': 98.46961225632553, 'random_strength': 0.016359736302592447, 'early_stopping_rounds': 210, 'max_bin': 253}\n",
    "# For XGBoost\n",
    "# tuned_model_params = {'n_estimators': 1400, 'learning_rate': 0.10270166896064774, 'max_depth': 30, 'min_child_weight': 7, 'gamma': 4.123490349502186, 'subsample': 0.5067185283456936, 'colsample_bytree': 0.7289930512882908, 'reg_alpha': 0.5971832077526927, 'reg_lambda': 9.433125479981229, 'early_stopping_rounds': 260}\n",
    "# For LGBM\n",
    "tuned_model_params = {'learning_rate': 0.050431114227825063, 'n_estimators': 1500, 'max_depth': 6, 'min_data_in_leaf': 92, 'min_child_weight': 6, 'num_leaves': 428, 'reg_lambda': 130.60718838770154, 'early_stopping_rounds': 365, 'subsample': 0.8586720764925466, 'colsample_bytree': 0.5962542688745494, 'reg_alpha': 0.5737569015209647}\n",
    "# For LogisticRegression\n",
    "# tuned_model_params =  {'C': 38.49119721953264, 'penalty': 'l2'}\n",
    "\n",
    "# tuned_model_params = None"
   ]
  },
  {
   "cell_type": "code",
   "execution_count": 138,
   "metadata": {},
   "outputs": [],
   "source": [
    "def process_col_name(cols_list):\n",
    "    processed_cols_list = []\n",
    "    for item in cols_list:\n",
    "        # Remove round brackets but keep the text inside them\n",
    "        item_no_brackets = re.sub(r'[\\(\\)]', '', item)\n",
    "        # Remove single quotes\n",
    "        item_no_quotes = item_no_brackets.replace(\"'\", \"\")\n",
    "        # Replace spaces with underscores\n",
    "        item_processed = item_no_quotes.replace(' ', '_')\n",
    "        # Append to the processed list\n",
    "        processed_cols_list.append(item_processed)\n",
    "    return processed_cols_list"
   ]
  },
  {
   "cell_type": "code",
   "execution_count": 139,
   "metadata": {},
   "outputs": [],
   "source": [
    "train_cols_list = df_train.columns.to_list()\n",
    "test_cols_list = df_test.columns.to_list()\n",
    "train_processed_cols_list = process_col_name(train_cols_list)\n",
    "test_processed_cols_list = process_col_name(test_cols_list)\n",
    "df_train.columns = train_processed_cols_list\n",
    "df_test.columns = test_processed_cols_list"
   ]
  },
  {
   "cell_type": "code",
   "execution_count": 140,
   "metadata": {},
   "outputs": [],
   "source": [
    "# feature engineering\n",
    "def create_features(df):\n",
    "    # (Tuition_fees_up_to_date*Curricular_units_2nd_sem_approved)\n",
    "    df[\"f_1\"] = df[\"Tuition_fees_up_to_date\"] * df[\"Curricular_units_2nd_sem_approved\"]\n",
    "    # (Curricular_units_1st_sem_approved+Curricular_units_2nd_sem_approved)\n",
    "    df[\"f_2\"] = df[\"Curricular_units_1st_sem_approved\"] + df[\"Curricular_units_2nd_sem_approved\"]\n",
    "    # (Curricular_units_2nd_sem_grade*Curricular_units_2nd_sem_approved)\n",
    "    df[\"f_3\"] = df[\"Curricular_units_2nd_sem_grade\"] * df[\"Curricular_units_2nd_sem_approved\"]\n",
    "    # (Curricular_units_2nd_sem_grade+Curricular_units_2nd_sem_approved)\n",
    "    df[\"f_4\"] = df[\"Curricular_units_2nd_sem_grade\"] + df[\"Curricular_units_2nd_sem_approved\"]\n",
    "    # (Curricular_units_2nd_sem_grade+Scholarship_holder)\n",
    "    df[\"f_5\"] = df[\"Curricular_units_2nd_sem_grade\"] + df[\"Scholarship_holder\"]\n",
    "    # (Curricular_units_1st_sem_grade+Scholarship_holder)\n",
    "    df[\"f_6\"] = df[\"Curricular_units_1st_sem_grade\"] + df[\"Scholarship_holder\"]\n",
    "    # (Curricular_units_2nd_sem_enrolled-Curricular_units_2nd_sem_approved)\n",
    "    df[\"f_7\"] = df[\"Curricular_units_2nd_sem_enrolled\"] - df[\"Curricular_units_2nd_sem_approved\"]\n",
    "    # (Curricular_units_1st_sem_enrolled-Curricular_units_2nd_sem_approved)\n",
    "    df[\"f_8\"] = df[\"Curricular_units_1st_sem_enrolled\"] - df[\"Curricular_units_2nd_sem_approved\"]\n",
    "    # (Curricular_units_2nd_sem_grade-Curricular_units_1st_sem_evaluations)\n",
    "    df[\"f_9\"] = df[\"Curricular_units_2nd_sem_grade\"] - df[\"Curricular_units_1st_sem_evaluations\"]\n",
    "    # (Curricular_units_1st_sem_grade/Age_at_enrollment)\n",
    "    df[\"f_10\"] = df[\"Curricular_units_1st_sem_grade\"] / df[\"Age_at_enrollment\"]\n",
    "    # (Curricular_units_1st_sem_evaluations-Curricular_units_2nd_sem_approved)\n",
    "    df[\"f_11\"] = df[\"Curricular_units_1st_sem_evaluations\"] - df[\"Curricular_units_2nd_sem_approved\"]\n",
    "    # GroupByThenRank(Curricular_units_2nd_sem_approved,Curricular_units_1st_sem_enrolled)    \n",
    "    df[\"f_12\"] = df.groupby('Curricular_units_1st_sem_enrolled')['Curricular_units_2nd_sem_approved'].rank(method=\"dense\", ascending=False)\n",
    "    # GroupByThenRank(Curricular_units_2nd_sem_approved,Mothers_occupation)\n",
    "    df[\"f_13\"] = df.groupby('Mothers_occupation')['Curricular_units_2nd_sem_approved'].rank(method=\"dense\", ascending=False)\n",
    "    # GroupByThenRank(Scholarship_holder,Age_at_enrollment)\n",
    "    df[\"f_14\"] = df.groupby('Age_at_enrollment')['Scholarship_holder'].rank(method=\"dense\", ascending=False)\n",
    "    # GroupByThenRank(Scholarship_holder,Curricular_units_2nd_sem_approved)\n",
    "    df[\"f_15\"] = df.groupby('Curricular_units_2nd_sem_approved')['Scholarship_holder'].rank(method=\"dense\", ascending=False)\n",
    "    # CombineThenFreq(Course,Curricular_units_1st_sem_approved)\n",
    "    df[\"f_16\"] = df.groupby('Course')['Curricular_units_1st_sem_approved'].transform('count')\n",
    "    return df"
   ]
  },
  {
   "cell_type": "code",
   "execution_count": 141,
   "metadata": {},
   "outputs": [],
   "source": [
    "if Config.CREATE_MANUAL_FEATURES:\n",
    "    df_train = create_features(df_train)\n",
    "    df_test = create_features(df_test)"
   ]
  },
  {
   "cell_type": "code",
   "execution_count": 142,
   "metadata": {},
   "outputs": [
    {
     "data": {
      "text/plain": [
       "['autoFE_f_1',\n",
       " 'autoFE_f_2',\n",
       " 'autoFE_f_3',\n",
       " 'autoFE_f_5',\n",
       " 'autoFE_f_6',\n",
       " 'autoFE_f_7',\n",
       " 'autoFE_f_10',\n",
       " 'autoFE_f_13',\n",
       " 'autoFE_f_15',\n",
       " 'autoFE_f_16',\n",
       " 'autoFE_f_17',\n",
       " 'autoFE_f_18',\n",
       " 'autoFE_f_19',\n",
       " 'autoFE_f_23',\n",
       " 'autoFE_f_31',\n",
       " 'autoFE_f_37',\n",
       " 'autoFE_f_42',\n",
       " 'autoFE_f_47']"
      ]
     },
     "execution_count": 142,
     "metadata": {},
     "output_type": "execute_result"
    }
   ],
   "source": [
    "na_val = df_train.isna().sum()\n",
    "null_features = na_val.loc[na_val > 0].index.values.tolist()\n",
    "null_features"
   ]
  },
  {
   "cell_type": "code",
   "execution_count": 143,
   "metadata": {},
   "outputs": [],
   "source": [
    "cat_features = ['Marital_status', 'Application_mode', 'Course', 'Daytime/evening_attendance', 'Previous_qualification',\n",
    "    'Nacionality', 'Mothers_qualification', 'Fathers_qualification', 'Mothers_occupation', 'Fathers_occupation', 'Displaced',\n",
    "    'Educational_special_needs', 'Debtor', 'Tuition_fees_up_to_date','Gender', 'Scholarship_holder', 'International']"
   ]
  },
  {
   "cell_type": "code",
   "execution_count": 144,
   "metadata": {},
   "outputs": [],
   "source": [
    "cont_features = [x for x in df_train.dtypes[df_train.dtypes == \"float\"].index.values if x not in null_features]\n",
    "int_features = [x for x in df_train.dtypes[df_train.dtypes == \"int\"].index.values if x not in COLS_TO_LEAVE+null_features]\n",
    "feature_cols = df_test.columns.to_list()\n",
    "feature_cols_after_fe = [x for x in df_train.columns if x not in COLS_TO_LEAVE+null_features]"
   ]
  },
  {
   "cell_type": "code",
   "execution_count": 145,
   "metadata": {},
   "outputs": [],
   "source": [
    "# for categorical features find the categories to be used for one hot encoding\n",
    "int_feature_categories = []\n",
    "for int_feature in int_features:\n",
    "    int_feature_categories.append(sorted(df_train[int_feature].unique()))"
   ]
  },
  {
   "cell_type": "code",
   "execution_count": 146,
   "metadata": {},
   "outputs": [
    {
     "name": "stdout",
     "output_type": "stream",
     "text": [
      "len(feature_cols_after_fe)=68\n",
      "['Marital_status', 'Application_mode', 'Application_order', 'Course', 'Daytime/evening_attendance', 'Previous_qualification', 'Previous_qualification_grade', 'Nacionality', 'Mothers_qualification', 'Fathers_qualification', 'Mothers_occupation', 'Fathers_occupation', 'Admission_grade', 'Displaced', 'Educational_special_needs', 'Debtor', 'Tuition_fees_up_to_date', 'Gender', 'Scholarship_holder', 'Age_at_enrollment', 'International', 'Curricular_units_1st_sem_credited', 'Curricular_units_1st_sem_enrolled', 'Curricular_units_1st_sem_evaluations', 'Curricular_units_1st_sem_approved', 'Curricular_units_1st_sem_grade', 'Curricular_units_1st_sem_without_evaluations', 'Curricular_units_2nd_sem_credited', 'Curricular_units_2nd_sem_enrolled', 'Curricular_units_2nd_sem_evaluations', 'Curricular_units_2nd_sem_approved', 'Curricular_units_2nd_sem_grade', 'Curricular_units_2nd_sem_without_evaluations', 'Unemployment_rate', 'Inflation_rate', 'GDP', 'autoFE_f_0', 'autoFE_f_4', 'autoFE_f_8', 'autoFE_f_9', 'autoFE_f_11', 'autoFE_f_12', 'autoFE_f_14', 'autoFE_f_20', 'autoFE_f_21', 'autoFE_f_22', 'autoFE_f_24', 'autoFE_f_25', 'autoFE_f_26', 'autoFE_f_27', 'autoFE_f_28', 'autoFE_f_29', 'autoFE_f_30', 'autoFE_f_32', 'autoFE_f_33', 'autoFE_f_34', 'autoFE_f_35', 'autoFE_f_36', 'autoFE_f_38', 'autoFE_f_39', 'autoFE_f_40', 'autoFE_f_41', 'autoFE_f_43', 'autoFE_f_44', 'autoFE_f_45', 'autoFE_f_46', 'autoFE_f_48', 'autoFE_f_49']\n"
     ]
    }
   ],
   "source": [
    "print(f\"len(feature_cols_after_fe)={len(feature_cols_after_fe)}\")\n",
    "print(feature_cols_after_fe)"
   ]
  },
  {
   "cell_type": "code",
   "execution_count": 147,
   "metadata": {},
   "outputs": [],
   "source": [
    "# preprocessing\n",
    "preprocessor = None\n",
    "scaler = StandardScaler()\n",
    "onehot_encoder = OneHotEncoder(sparse_output=False, handle_unknown=\"ignore\", categories=int_feature_categories)\n",
    "if Config.MODEL_TYPE == enums.ModelName.LogisticRegression:\n",
    "    preprocessor = ColumnTransformer(\n",
    "        transformers=[                \n",
    "            (\"scaler\", scaler, feature_cols_after_fe),\n",
    "            #(\"onehot\", onehot_encoder, int_features),                \n",
    "        ], remainder=\"passthrough\"\n",
    "    )\n",
    "else:\n",
    "    preprocessor = ColumnTransformer(\n",
    "        transformers=[                \n",
    "            (\"scaler\", scaler, cont_features)     \n",
    "        ], remainder=\"passthrough\"\n",
    "    )"
   ]
  },
  {
   "cell_type": "code",
   "execution_count": 148,
   "metadata": {},
   "outputs": [],
   "source": [
    "def get_lgbm_tuning_params(trial):    \n",
    "    params_dynamic = {\n",
    "        'learning_rate': trial.suggest_float('learning_rate', 1e-2, 1.0, log=True),\n",
    "        'n_estimators': trial.suggest_int('n_estimators', 500, 5000, step=100),\n",
    "        'max_depth': trial.suggest_int('max_depth', 4, 20),\n",
    "        'min_child_weight': trial.suggest_int('min_child_weight', 1, 10),\n",
    "        'subsample': trial.suggest_float('subsample', 0.5, 1),\n",
    "        'colsample_bytree': trial.suggest_float('colsample_bytree', 0.5, 1),\n",
    "        'num_leaves': trial.suggest_int('num_leaves', 4, 256, step=4),\n",
    "        'reg_alpha': trial.suggest_float('reg_alpha', 0, 1),\n",
    "        'reg_lambda': trial.suggest_float('reg_lambda', 1, 200),\n",
    "        'early_stopping_rounds': trial.suggest_int('early_stopping_rounds', 50, 500, step=20)\n",
    "    }\n",
    "    return {**model_static_params[enums.ModelName.LGBM], **params_dynamic}"
   ]
  },
  {
   "cell_type": "code",
   "execution_count": 149,
   "metadata": {},
   "outputs": [],
   "source": [
    "def get_xgb_tuning_params(trial):\n",
    "    params_dynamic = {            \n",
    "            'n_estimators': trial.suggest_int('n_estimators', 1000, 5000, step=100),\n",
    "            'learning_rate': trial.suggest_float('learning_rate', 1e-2, 1.0, log=True),\n",
    "            'max_depth': trial.suggest_int('max_depth', 4, 32),\n",
    "            'min_child_weight': trial.suggest_int('min_child_weight', 1, 10),\n",
    "            'gamma': trial.suggest_float('gamma', 0, 10),\n",
    "            'subsample': trial.suggest_float('subsample', 0.5, 1),\n",
    "            'colsample_bytree': trial.suggest_float('colsample_bytree', 0.5, 1),\n",
    "            'reg_alpha': trial.suggest_float('reg_alpha', 0, 1),\n",
    "            'reg_lambda': trial.suggest_float('reg_lambda', 1, 200),\n",
    "            'early_stopping_rounds': trial.suggest_int('early_stopping_rounds', 100, 500, step=20)\n",
    "        }\n",
    "    return {**model_static_params[enums.ModelName.XGBoost], **params_dynamic}"
   ]
  },
  {
   "cell_type": "code",
   "execution_count": 150,
   "metadata": {},
   "outputs": [],
   "source": [
    "def get_catboost_tuning_params(trial):\n",
    "    params_dynamic = {\n",
    "        'learning_rate': trial.suggest_float('learning_rate', 1e-3, 1.0, log=True),\n",
    "        'n_estimators': trial.suggest_int('n_estimators', 100, 5000, step=50),\n",
    "        'max_depth': trial.suggest_int('max_depth', 4, 16),\n",
    "        'min_data_in_leaf': trial.suggest_int('min_data_in_leaf', 5, 100),\n",
    "        #'subsample': trial.suggest_float('subsample', 0.5, 1),\n",
    "        # comment colsample_bylevel for GPU training\n",
    "        'colsample_bylevel': trial.suggest_float('colsample_bylevel', 0.5, 1),\n",
    "        'num_leaves': trial.suggest_int('num_leaves', 4, 256, step=4),\n",
    "        'reg_lambda': trial.suggest_float('reg_lambda', 1, 100),\n",
    "        'random_strength': trial.suggest_loguniform('random_strength', 0.01, 10),\n",
    "        'early_stopping_rounds': trial.suggest_int('early_stopping_rounds', 50, 500, step=20),\n",
    "        'max_bin': trial.suggest_int('max_bin', 32, 255)\n",
    "    }\n",
    "    return {**model_static_params[enums.ModelName.CatBoost], **params_dynamic}"
   ]
  },
  {
   "cell_type": "code",
   "execution_count": 151,
   "metadata": {},
   "outputs": [],
   "source": [
    "def get_model_tuning_params(trial, model_name):\n",
    "    if model_name == enums.ModelName.LogisticRegression:\n",
    "        penalty = ['l1', 'l2']\n",
    "        return {        \n",
    "            \"C\": trial.suggest_loguniform(\"C\", 1e-3, 100),\n",
    "            \"penalty\": trial.suggest_categorical(\"penalty\", penalty)\n",
    "        }    \n",
    "    if model_name == enums.ModelName.RandomForest:\n",
    "        return {        \n",
    "            \"n_estimators\": trial.suggest_int(\"n_estimators\", 200, 3000, step=100),\n",
    "            \"max_depth\": trial.suggest_int(\"max_depth\", 10, 30),\n",
    "            \"min_samples_leaf\": trial.suggest_int(\"min_samples_leaf\", 2, 16),\n",
    "            \"min_samples_split\": trial.suggest_int(\"min_samples_split\", 2, 16),\n",
    "            \"max_features\": trial.suggest_categorical(\"max_features\", [\"log2\", \"sqrt\", None])\n",
    "        }\n",
    "    if model_name == enums.ModelName.CatBoost:\n",
    "        return get_catboost_tuning_params(trial)\n",
    "    if model_name == enums.ModelName.XGBoost:\n",
    "        return get_xgb_tuning_params(trial) \n",
    "    if model_name == enums.ModelName.LGBM:\n",
    "        return get_lgbm_tuning_params(trial)   "
   ]
  },
  {
   "cell_type": "code",
   "execution_count": 152,
   "metadata": {},
   "outputs": [],
   "source": [
    "def hyperparams_tuning_objective(trial, model_name, preprocessor, df,  \n",
    "                                 feature_cols, metric, target_col_name, single_fold=False, num_folds=5):               \n",
    "    model_params = get_model_tuning_params(trial, model_name)    \n",
    "    fold_metrics_model, _, _ = tt.train_and_validate(\n",
    "                                        model_name=model_name,\n",
    "                                        model_params=model_params,\n",
    "                                        preprocessor=preprocessor,\n",
    "                                        df=df,\n",
    "                                        feature_cols=feature_cols,\n",
    "                                        target_col_name=target_col_name,\n",
    "                                        metric=metric,\n",
    "                                        single_fold=single_fold,\n",
    "                                        num_folds=num_folds,\n",
    "                                        suppress_print=True,\n",
    "                                        num_classes=Config.NUM_CLASSES\n",
    "                                    )\n",
    "    fold_metrics = [x[0] for x in fold_metrics_model]\n",
    "    mean_metric = statistics.mean(fold_metrics)                \n",
    "    return mean_metric"
   ]
  },
  {
   "cell_type": "code",
   "execution_count": 153,
   "metadata": {},
   "outputs": [],
   "source": [
    "def tune_model_params(study_name, study_direction, num_trials, model_name, \n",
    "                      preprocessor, df,  feature_cols, metric, target_col_name, \n",
    "                      single_fold=False, num_folds=5):\n",
    "    model_params_tuning_obj_partial = partial(\n",
    "        hyperparams_tuning_objective,\n",
    "        model_name=model_name,        \n",
    "        preprocessor=preprocessor,        \n",
    "        df=df,\n",
    "        feature_cols=feature_cols,\n",
    "        metric=metric,\n",
    "        target_col_name=target_col_name,\n",
    "        single_fold=single_fold,\n",
    "        num_folds=num_folds\n",
    "    )\n",
    "    study = optuna.create_study(direction=study_direction, study_name=study_name)\n",
    "    study.optimize(model_params_tuning_obj_partial, n_trials=num_trials)\n",
    "    best_trial = study.best_trial\n",
    "    print(f\"Best trial: number = {best_trial.number}, value = {best_trial.value}, params = {best_trial.params}\")\n",
    "    return best_trial.params"
   ]
  },
  {
   "cell_type": "code",
   "execution_count": 154,
   "metadata": {},
   "outputs": [],
   "source": [
    "df_train = cv_split_utils.strat_kfold_dataframe(df_train, \n",
    "                                                target_col_name=Config.TARGET_COL_NAME, \n",
    "                                                random_state=Config.RANDOM_SEED, \n",
    "                                                num_folds=Config.NUM_FOLDS)"
   ]
  },
  {
   "cell_type": "code",
   "execution_count": 155,
   "metadata": {},
   "outputs": [],
   "source": [
    "if tuned_model_params is None:\n",
    "    #df = df_train.sample(frac=0.1, random_state=Config.RANDOM_SEED)\n",
    "    tuned_model_params = tune_model_params(\n",
    "                            study_name=Config.MODEL_TYPE + \"_ModelTuning\", \n",
    "                            study_direction=\"maximize\",\n",
    "                            num_trials=Config.NUM_TUNING_TRIALS,\n",
    "                            model_name=Config.MODEL_TYPE,\n",
    "                            preprocessor=preprocessor,\n",
    "                            df=df_train,\n",
    "                            feature_cols=feature_cols_after_fe,\n",
    "                            metric=Config.METRIC,\n",
    "                            target_col_name=Config.TARGET_COL_NAME,\n",
    "                            single_fold=Config.TUNE_ON_SINGLE_FOLD,\n",
    "                            num_folds=Config.NUM_FOLDS\n",
    "                    )"
   ]
  },
  {
   "cell_type": "code",
   "execution_count": 156,
   "metadata": {},
   "outputs": [],
   "source": [
    "model_params = None\n",
    "params_static = model_static_params.get(Config.MODEL_TYPE)\n",
    "if params_static is not None and tuned_model_params is not None:\n",
    "    model_params = {**model_static_params[Config.MODEL_TYPE], **tuned_model_params}\n",
    "else:\n",
    "    model_params = tuned_model_params"
   ]
  },
  {
   "cell_type": "code",
   "execution_count": 157,
   "metadata": {},
   "outputs": [
    {
     "name": "stdout",
     "output_type": "stream",
     "text": [
      "Fold 0 - LightGBM - ACCURACY : 0.8372351596763234\n",
      "Fold 1 - LightGBM - ACCURACY : 0.8310581258879486\n",
      "Fold 2 - LightGBM - ACCURACY : 0.832468495181616\n",
      "Fold 3 - LightGBM - ACCURACY : 0.8332097850259451\n",
      "Fold 4 - LightGBM - ACCURACY : 0.8319743019520632\n",
      "LightGBM metric=ACCURACY CV score = 0.8331891972029354\n",
      "LightGBM Mean ACCURACY = 0.8331891735447794, std = 0.002140424397889693\n",
      "CPU times: user 7min 59s, sys: 3.95 s, total: 8min 3s\n",
      "Wall time: 2min 4s\n"
     ]
    }
   ],
   "source": [
    "%%time\n",
    "fold_metrics_model, df_oof_preds, preprocessor = tt.train_and_validate(\n",
    "        model_name=Config.MODEL_TYPE,\n",
    "        model_params=model_params,\n",
    "        preprocessor=preprocessor,\n",
    "        df=df_train,\n",
    "        feature_cols=feature_cols_after_fe,\n",
    "        target_col_name=Config.TARGET_COL_NAME,\n",
    "        metric=Config.METRIC,\n",
    "        single_fold=Config.TRAIN_SINGLE_FOLD,\n",
    "        num_folds=Config.NUM_FOLDS,\n",
    "        suppress_print=False,\n",
    "        num_classes=Config.NUM_CLASSES\n",
    ")"
   ]
  },
  {
   "cell_type": "code",
   "execution_count": 158,
   "metadata": {},
   "outputs": [],
   "source": [
    "from sklearn.metrics import accuracy_score, f1_score\n",
    "\n",
    "def get_model_stats(model_name):\n",
    "    target_classes = np.array([\"Dropout\", \"Enrolled\", \"Graduate\"])    \n",
    "    oof_cols = [f\"oof_preds_proba_{i}\" for i in range(Config.NUM_CLASSES)]\n",
    "    model_preds_proba = df_oof_preds[oof_cols].to_numpy()\n",
    "    model_preds = np.argmax(model_preds_proba, axis=1)\n",
    "    model_accuracy = accuracy_score(df_oof_preds[Config.TARGET_COL_NAME], model_preds)\n",
    "    model_f1 = f1_score(df_oof_preds[Config.TARGET_COL_NAME], model_preds, average='macro')\n",
    "    print(f\"{model_name} OOF Accuracy: {model_accuracy}\")\n",
    "    print(f\"{model_name} OOF F1 Score: {model_f1}\")\n",
    "    model_cm = confusion_matrix(df_oof_preds[Config.TARGET_COL_NAME], model_preds)\n",
    "    print(classification_report(df_oof_preds[Config.TARGET_COL_NAME].values, model_preds, target_names=target_classes))\n",
    "    disp = ConfusionMatrixDisplay(confusion_matrix=model_cm, display_labels=target_classes)\n",
    "    disp.plot()\n",
    "    plt.show()"
   ]
  },
  {
   "cell_type": "code",
   "execution_count": 159,
   "metadata": {},
   "outputs": [
    {
     "name": "stdout",
     "output_type": "stream",
     "text": [
      "LightGBM OOF Accuracy: 0.8331891972029354\n",
      "LightGBM OOF F1 Score: 0.7956540778457443\n",
      "              precision    recall  f1-score   support\n",
      "\n",
      "     Dropout       0.90      0.84      0.87     26717\n",
      "    Enrolled       0.66      0.61      0.63     15734\n",
      "    Graduate       0.85      0.92      0.89     38491\n",
      "\n",
      "    accuracy                           0.83     80942\n",
      "   macro avg       0.80      0.79      0.80     80942\n",
      "weighted avg       0.83      0.83      0.83     80942\n",
      "\n"
     ]
    },
    {
     "data": {
      "image/png": "[encoded data removed]",
      "text/plain": [
       "<Figure size 432x288 with 2 Axes>"
      ]
     },
     "metadata": {
      "needs_background": "light"
     },
     "output_type": "display_data"
    }
   ],
   "source": [
    "get_model_stats(Config.MODEL_TYPE)"
   ]
  },
  {
   "cell_type": "code",
   "execution_count": 160,
   "metadata": {},
   "outputs": [],
   "source": [
    "# tt.persist(\n",
    "#     model_name=Config.MODEL_TYPE, \n",
    "#     fold_metrics_model=fold_metrics_model, \n",
    "#     df_oof_preds=df_oof_preds, \n",
    "#     persist_model=Config.PERSIST_MODEL, \n",
    "#     output_path=DATA_WRITEPATH\n",
    "# )"
   ]
  },
  {
   "cell_type": "code",
   "execution_count": 161,
   "metadata": {},
   "outputs": [],
   "source": [
    "# test_preds_proba, test_preds = tt.get_test_preds_clf(fold_metrics_model, df_test, feature_cols_after_fe, \n",
    "#                                                      preprocessor=preprocessor, num_folds=Config.NUM_FOLDS)\n",
    "# # convert test_preds to string using labelencoder\n",
    "# test_preds_final = le.inverse_transform(test_preds)\n",
    "# df_test_preds = pd.DataFrame()\n",
    "# for i in range(Config.NUM_CLASSES):\n",
    "#     df_test_preds[f\"test_preds_proba_{i}\"] = test_preds_proba[:, i]\n",
    "# df_test_preds[\"test_preds\"] = test_preds\n",
    "# df_test_preds.to_csv(DATA_WRITEPATH + f'df_test_preds_{Config.MODEL_TYPE}.csv',index=False)\n",
    "# df_submission = pd.read_csv(SUBMISSION_FILEPATH + 'sample_submission.csv')\n",
    "# df_submission[Config.TARGET_COL_NAME]= test_preds_final\n",
    "# df_submission.to_csv(DATA_WRITEPATH + f'submission_{Config.MODEL_TYPE}.csv',index=False)\n",
    "# df_submission.head()"
   ]
  },
  {
   "cell_type": "code",
   "execution_count": 162,
   "metadata": {},
   "outputs": [
    {
     "data": {
      "text/plain": [
       "68"
      ]
     },
     "execution_count": 162,
     "metadata": {},
     "output_type": "execute_result"
    }
   ],
   "source": [
    "# Define a function to extract the part after '__' (vectorized for speed)\n",
    "def extract_after_delimiter(text):\n",
    "    return text.split(\"__\", 1)[1] if len(text.split(\"__\")) > 1 else text\n",
    "\n",
    "features = preprocessor.get_feature_names_out()\n",
    "# Apply the function to the feature names using lambda\n",
    "features = list(map(extract_after_delimiter, features))\n",
    "len(features)"
   ]
  },
  {
   "cell_type": "code",
   "execution_count": 163,
   "metadata": {},
   "outputs": [],
   "source": [
    "def get_feature_importance(model, features):\n",
    "    df_feature_imp = pd.DataFrame()\n",
    "    df_feature_imp[\"f_name\"] = features\n",
    "    df_feature_imp[\"f_imp\"] = model.feature_importances_\n",
    "    df_feature_imp = df_feature_imp.sort_values(by=\"f_imp\", ascending=False)\n",
    "    return df_feature_imp"
   ]
  },
  {
   "cell_type": "code",
   "execution_count": 164,
   "metadata": {},
   "outputs": [
    {
     "data": {
      "image/png": "[encoded data removed]",
      "text/plain": [
       "<Figure size 1296x432 with 1 Axes>"
      ]
     },
     "metadata": {
      "needs_background": "light"
     },
     "output_type": "display_data"
    }
   ],
   "source": [
    "if Config.MODEL_TYPE in [enums.ModelName.CatBoost, enums.ModelName.LGBM, enums.ModelName.XGBoost, \n",
    "                         enums.ModelName.RandomForest]:\n",
    "    df_feature_imp = get_feature_importance(fold_metrics_model[0][1], features)\n",
    "    df_feature_imp.to_csv(DATA_WRITEPATH + f\"{Config.MODEL_TYPE}_feature_imp_orig_openfe.csv\", index=False)\n",
    "    data_utils.plot_feature_importance(df_feature_imp, fig_size=(18, 6))"
   ]
  },
  {
   "cell_type": "code",
   "execution_count": 165,
   "metadata": {},
   "outputs": [],
   "source": [
    "def get_preprocessor(cur_features):\n",
    "    cur_cont_features = [x for x in df_train[cur_features].dtypes[df_train[cur_features].dtypes == \"float\"].index.values \n",
    "                         if x not in null_features]\n",
    "    cur_scaler = StandardScaler()\n",
    "    preprocessor = ColumnTransformer(\n",
    "        transformers=[                \n",
    "            (\"scaler\", cur_scaler, cur_cont_features),        \n",
    "        ], remainder=\"passthrough\"\n",
    "    )\n",
    "    return preprocessor"
   ]
  },
  {
   "cell_type": "code",
   "execution_count": 166,
   "metadata": {},
   "outputs": [],
   "source": [
    "def get_candidate_features(df_feature_imp, feature_selection_method):\n",
    "    if feature_selection_method == \"forward\":\n",
    "        # all remanining features are candidate features (get rows from df_feature_imp that are not in base_features)\n",
    "        candidate_features = df_feature_imp.iloc[30:, :][\"f_name\"].values\n",
    "    else:\n",
    "        # for backward feature selection features from last to 30th are candidate features\n",
    "        candidate_features = df_feature_imp.iloc[30:][\"f_name\"].values\n",
    "        candidate_features = candidate_features[::-1]\n",
    "    return candidate_features"
   ]
  },
  {
   "cell_type": "code",
   "execution_count": 167,
   "metadata": {},
   "outputs": [
    {
     "name": "stdout",
     "output_type": "stream",
     "text": [
      "len(base_features) = 68 base_features = ['Admission_grade' 'Previous_qualification_grade' 'autoFE_f_22'\n",
      " 'autoFE_f_36' 'autoFE_f_32' 'Curricular_units_1st_sem_grade'\n",
      " 'autoFE_f_20' 'autoFE_f_21' 'Curricular_units_2nd_sem_grade' 'autoFE_f_8'\n",
      " 'Fathers_occupation' 'autoFE_f_33' 'autoFE_f_28' 'autoFE_f_25'\n",
      " 'autoFE_f_48' 'autoFE_f_29' 'Curricular_units_1st_sem_evaluations' 'GDP'\n",
      " 'autoFE_f_41' 'Unemployment_rate' 'autoFE_f_39' 'Course'\n",
      " 'Mothers_occupation' 'autoFE_f_40' 'Inflation_rate' 'autoFE_f_44'\n",
      " 'Fathers_qualification' 'autoFE_f_27' 'autoFE_f_26'\n",
      " 'Mothers_qualification' 'Curricular_units_2nd_sem_evaluations'\n",
      " 'autoFE_f_35' 'autoFE_f_30' 'Age_at_enrollment' 'autoFE_f_24'\n",
      " 'Application_mode' 'autoFE_f_46' 'autoFE_f_43' 'autoFE_f_9'\n",
      " 'Application_order' 'autoFE_f_45' 'autoFE_f_49' 'autoFE_f_34'\n",
      " 'Previous_qualification' 'autoFE_f_38' 'autoFE_f_11' 'autoFE_f_12'\n",
      " 'Curricular_units_1st_sem_enrolled' 'Displaced'\n",
      " 'Curricular_units_2nd_sem_enrolled' 'autoFE_f_0' 'Gender' 'autoFE_f_4'\n",
      " 'Curricular_units_1st_sem_approved' 'Curricular_units_1st_sem_credited'\n",
      " 'Marital_status' 'Debtor' 'Daytime/evening_attendance'\n",
      " 'Curricular_units_1st_sem_without_evaluations'\n",
      " 'Curricular_units_2nd_sem_without_evaluations' 'autoFE_f_14'\n",
      " 'Curricular_units_2nd_sem_credited' 'International' 'Nacionality'\n",
      " 'Curricular_units_2nd_sem_approved' 'Scholarship_holder'\n",
      " 'Tuition_fees_up_to_date' 'Educational_special_needs']\n",
      "\n",
      " base_val_score = 0.835382049539811\n",
      "\n",
      " len(candidate_features)=38 candidate_features = ['Educational_special_needs' 'Tuition_fees_up_to_date'\n",
      " 'Scholarship_holder' 'Curricular_units_2nd_sem_approved' 'Nacionality'\n",
      " 'International' 'Curricular_units_2nd_sem_credited' 'autoFE_f_14'\n",
      " 'Curricular_units_2nd_sem_without_evaluations'\n",
      " 'Curricular_units_1st_sem_without_evaluations'\n",
      " 'Daytime/evening_attendance' 'Debtor' 'Marital_status'\n",
      " 'Curricular_units_1st_sem_credited' 'Curricular_units_1st_sem_approved'\n",
      " 'autoFE_f_4' 'Gender' 'autoFE_f_0' 'Curricular_units_2nd_sem_enrolled'\n",
      " 'Displaced' 'Curricular_units_1st_sem_enrolled' 'autoFE_f_12'\n",
      " 'autoFE_f_11' 'autoFE_f_38' 'Previous_qualification' 'autoFE_f_34'\n",
      " 'autoFE_f_49' 'autoFE_f_45' 'Application_order' 'autoFE_f_9'\n",
      " 'autoFE_f_43' 'autoFE_f_46' 'Application_mode' 'autoFE_f_24'\n",
      " 'Age_at_enrollment' 'autoFE_f_30' 'autoFE_f_35'\n",
      " 'Curricular_units_2nd_sem_evaluations']\n"
     ]
    }
   ],
   "source": [
    "# select the top 30 features as the base features\n",
    "# the set of constant features to be included in the model irrespective of the feature selection method\n",
    "if Config.FEATURE_SELECTION_METHOD is not None:\n",
    "    if Config.FEATURE_SELECTION_METHOD == \"forward\":\n",
    "        base_features = df_feature_imp.head(30).f_name.values\n",
    "    else:\n",
    "        # for backward selection the entire feature set is the starting point\n",
    "        base_features = df_feature_imp[\"f_name\"].values    \n",
    "    print(f\"len(base_features) = {len(base_features)} base_features = {base_features}\")    \n",
    "    best_score = 0.0\n",
    "    base_preprocessor = get_preprocessor(base_features)\n",
    "    base_val_score = tt.train_validate_fold(\n",
    "            fold=0, \n",
    "            model_name=Config.MODEL_TYPE, \n",
    "            model_params=model_params, \n",
    "            preprocessor=base_preprocessor, \n",
    "            df=df_train, \n",
    "            feature_cols=base_features, \n",
    "            metric=Config.METRIC, \n",
    "            target_col_name=Config.TARGET_COL_NAME, \n",
    "            num_classes=Config.NUM_CLASSES\n",
    "        )\n",
    "    print(f\"\\n base_val_score = {base_val_score}\")\n",
    "    best_score = base_val_score\n",
    "    candidate_features = get_candidate_features(df_feature_imp, Config.FEATURE_SELECTION_METHOD)\n",
    "    print(f\"\\n len(candidate_features)={len(candidate_features)} candidate_features = {candidate_features}\")\n",
    "    selected_features = base_features"
   ]
  },
  {
   "cell_type": "code",
   "execution_count": 168,
   "metadata": {},
   "outputs": [
    {
     "name": "stdout",
     "output_type": "stream",
     "text": [
      "FEATURE SELECTION METHOD = backward\n",
      "feature selected = Educational_special_needs | cur_val_score = 0.8360615232565323 | best_score = 0.835382049539811\n",
      "feature selected = Tuition_fees_up_to_date | cur_val_score = 0.837111619000556 | best_score = 0.8360615232565323\n",
      "feature not selected = Scholarship_holder | cur_val_score = 0.8361850639322997 | best_score = 0.837111619000556\n",
      "feature not selected = Curricular_units_2nd_sem_approved | cur_val_score = 0.8358144419049972 | best_score = 0.837111619000556\n",
      "feature not selected = Nacionality | cur_val_score = 0.8358144419049972 | best_score = 0.837111619000556\n",
      "feature selected = International | cur_val_score = 0.8372351596763234 | best_score = 0.837111619000556\n",
      "feature not selected = Curricular_units_2nd_sem_credited | cur_val_score = 0.8359379825807647 | best_score = 0.8372351596763234\n",
      "feature not selected = autoFE_f_14 | cur_val_score = 0.8358144419049972 | best_score = 0.8372351596763234\n",
      "feature not selected = Curricular_units_2nd_sem_without_evaluations | cur_val_score = 0.8355673605534623 | best_score = 0.8372351596763234\n",
      "feature not selected = Curricular_units_1st_sem_without_evaluations | cur_val_score = 0.836123293594416 | best_score = 0.8372351596763234\n",
      "feature not selected = Daytime/evening_attendance | cur_val_score = 0.8355055902155785 | best_score = 0.8372351596763234\n",
      "feature not selected = Debtor | cur_val_score = 0.836123293594416 | best_score = 0.8372351596763234\n",
      "feature not selected = Marital_status | cur_val_score = 0.8361850639322997 | best_score = 0.8372351596763234\n",
      "feature not selected = Curricular_units_1st_sem_credited | cur_val_score = 0.8358144419049972 | best_score = 0.8372351596763234\n",
      "feature not selected = Curricular_units_1st_sem_approved | cur_val_score = 0.8359997529186485 | best_score = 0.8372351596763234\n",
      "feature not selected = autoFE_f_4 | cur_val_score = 0.8349496571746248 | best_score = 0.8372351596763234\n",
      "feature not selected = Gender | cur_val_score = 0.8359379825807647 | best_score = 0.8372351596763234\n",
      "feature not selected = autoFE_f_0 | cur_val_score = 0.8366792266353696 | best_score = 0.8372351596763234\n",
      "feature not selected = Curricular_units_2nd_sem_enrolled | cur_val_score = 0.8353202792019272 | best_score = 0.8372351596763234\n",
      "feature not selected = Displaced | cur_val_score = 0.8350114275125085 | best_score = 0.8372351596763234\n",
      "feature not selected = Curricular_units_1st_sem_enrolled | cur_val_score = 0.8368645376490209 | best_score = 0.8372351596763234\n",
      "feature not selected = autoFE_f_12 | cur_val_score = 0.8360615232565323 | best_score = 0.8372351596763234\n",
      "feature not selected = autoFE_f_11 | cur_val_score = 0.834887886836741 | best_score = 0.8372351596763234\n",
      "feature not selected = autoFE_f_38 | cur_val_score = 0.8356909012292297 | best_score = 0.8372351596763234\n",
      "feature not selected = Previous_qualification | cur_val_score = 0.8361850639322997 | best_score = 0.8372351596763234\n",
      "feature not selected = autoFE_f_34 | cur_val_score = 0.8361850639322997 | best_score = 0.8372351596763234\n",
      "feature not selected = autoFE_f_49 | cur_val_score = 0.836123293594416 | best_score = 0.8372351596763234\n",
      "feature not selected = autoFE_f_45 | cur_val_score = 0.8364321452838347 | best_score = 0.8372351596763234\n",
      "feature not selected = Application_order | cur_val_score = 0.8366792266353696 | best_score = 0.8372351596763234\n",
      "feature not selected = autoFE_f_9 | cur_val_score = 0.8344554944715548 | best_score = 0.8372351596763234\n",
      "feature not selected = autoFE_f_43 | cur_val_score = 0.8356291308913459 | best_score = 0.8372351596763234\n",
      "feature not selected = autoFE_f_46 | cur_val_score = 0.8354438198776948 | best_score = 0.8372351596763234\n",
      "feature not selected = Application_mode | cur_val_score = 0.8357526715671135 | best_score = 0.8372351596763234\n",
      "feature not selected = autoFE_f_24 | cur_val_score = 0.8363086046080672 | best_score = 0.8372351596763234\n",
      "feature not selected = Age_at_enrollment | cur_val_score = 0.8368027673111372 | best_score = 0.8372351596763234\n",
      "feature not selected = autoFE_f_30 | cur_val_score = 0.8354438198776948 | best_score = 0.8372351596763234\n",
      "feature not selected = autoFE_f_35 | cur_val_score = 0.8367409969732534 | best_score = 0.8372351596763234\n",
      "feature not selected = Curricular_units_2nd_sem_evaluations | cur_val_score = 0.8350114275125085 | best_score = 0.8372351596763234\n",
      "len(selected_features) = 65\n",
      "selected_features = ['Admission_grade' 'Previous_qualification_grade' 'autoFE_f_22'\n",
      " 'autoFE_f_36' 'autoFE_f_32' 'Curricular_units_1st_sem_grade'\n",
      " 'autoFE_f_20' 'autoFE_f_21' 'Curricular_units_2nd_sem_grade' 'autoFE_f_8'\n",
      " 'Fathers_occupation' 'autoFE_f_33' 'autoFE_f_28' 'autoFE_f_25'\n",
      " 'autoFE_f_48' 'autoFE_f_29' 'Curricular_units_1st_sem_evaluations' 'GDP'\n",
      " 'autoFE_f_41' 'Unemployment_rate' 'autoFE_f_39' 'Course'\n",
      " 'Mothers_occupation' 'autoFE_f_40' 'Inflation_rate' 'autoFE_f_44'\n",
      " 'Fathers_qualification' 'autoFE_f_27' 'autoFE_f_26'\n",
      " 'Mothers_qualification' 'Curricular_units_2nd_sem_evaluations'\n",
      " 'autoFE_f_35' 'autoFE_f_30' 'Age_at_enrollment' 'autoFE_f_24'\n",
      " 'Application_mode' 'autoFE_f_46' 'autoFE_f_43' 'autoFE_f_9'\n",
      " 'Application_order' 'autoFE_f_45' 'autoFE_f_49' 'autoFE_f_34'\n",
      " 'Previous_qualification' 'autoFE_f_38' 'autoFE_f_11' 'autoFE_f_12'\n",
      " 'Curricular_units_1st_sem_enrolled' 'Displaced'\n",
      " 'Curricular_units_2nd_sem_enrolled' 'autoFE_f_0' 'Gender' 'autoFE_f_4'\n",
      " 'Curricular_units_1st_sem_approved' 'Curricular_units_1st_sem_credited'\n",
      " 'Marital_status' 'Debtor' 'Daytime/evening_attendance'\n",
      " 'Curricular_units_1st_sem_without_evaluations'\n",
      " 'Curricular_units_2nd_sem_without_evaluations' 'autoFE_f_14'\n",
      " 'Curricular_units_2nd_sem_credited' 'Nacionality'\n",
      " 'Curricular_units_2nd_sem_approved' 'Scholarship_holder']\n"
     ]
    }
   ],
   "source": [
    "if Config.FEATURE_SELECTION_METHOD is not None:\n",
    "    unselected_features = []\n",
    "    print(f\"FEATURE SELECTION METHOD = {Config.FEATURE_SELECTION_METHOD}\")\n",
    "    for feature in candidate_features:\n",
    "        if Config.FEATURE_SELECTION_METHOD == \"forward\":\n",
    "            # add the feature to base_features\n",
    "            cur_features = np.append(selected_features, feature)\n",
    "        else:\n",
    "            # remove the feature from base_features\n",
    "            cur_features = np.delete(selected_features, np.where(selected_features == feature))\n",
    "        cur_preprocessor = get_preprocessor(cur_features)\n",
    "        cur_val_score = tt.train_validate_fold(\n",
    "            fold=0, \n",
    "            model_name=Config.MODEL_TYPE, \n",
    "            model_params=model_params, \n",
    "            preprocessor=cur_preprocessor, \n",
    "            df=df_train, \n",
    "            feature_cols=cur_features, \n",
    "            metric=Config.METRIC, \n",
    "            target_col_name=Config.TARGET_COL_NAME, \n",
    "            num_classes=Config.NUM_CLASSES\n",
    "        )\n",
    "        if cur_val_score > best_score:\n",
    "            print(f\"feature selected = {feature} | cur_val_score = {cur_val_score} | best_score = {best_score}\")\n",
    "            if Config.FEATURE_SELECTION_METHOD == \"forward\":\n",
    "                selected_features = np.append(selected_features, feature)\n",
    "            else:\n",
    "                selected_features = np.delete(selected_features, np.where(selected_features == feature))\n",
    "            best_score = cur_val_score\n",
    "        else:\n",
    "            print(f\"feature not selected = {feature} | cur_val_score = {cur_val_score} | best_score = {best_score}\")\n",
    "            unselected_features.append(feature)\n",
    "    print(f\"len(selected_features) = {len(selected_features)}\")\n",
    "    print(f\"selected_features = {selected_features}\")"
   ]
  },
  {
   "cell_type": "code",
   "execution_count": 169,
   "metadata": {},
   "outputs": [],
   "source": [
    "# from fwd_feature_selector import VerboseSequentialFeatureSelector\n",
    "\n",
    "# fs_model = tt.get_model(Config.MODEL_TYPE, model_params, Config.METRIC)\n",
    "# verbose_sfs = VerboseSequentialFeatureSelector(fs_model, \n",
    "#                                                n_features_to_select=\"auto\", \n",
    "#                                                direction=\"forward\",\n",
    "#                                                scoring=\"accuracy\",\n",
    "#                                                n_jobs=-1)\n",
    "\n",
    "# X_train = df_train[features].to_numpy()\n",
    "# y_train = df_train[Config.TARGET_COL_NAME].to_numpy()\n",
    "# # Fit the custom SequentialFeatureSelector to the training data\n",
    "# verbose_sfs.fit(X_train, y_train)\n",
    "# # Get the selected features\n",
    "# selected_features = verbose_sfs.get_support(indices=True)\n",
    "# print(\"Selected features indices:\", selected_features)"
   ]
  },
  {
   "cell_type": "code",
   "execution_count": 170,
   "metadata": {},
   "outputs": [],
   "source": [
    "# # performing feature selection by removing bottom 8 features leads to an improvment in cv score for catboost\n",
    "# # from 0.82996 to 0.83129. Forward feature selection algorithm might help to improve cv score further\n",
    "# df_feature_imp = df_feature_imp.head(60)\n",
    "# feature_cols_new = df_feature_imp.f_name.values"
   ]
  },
  {
   "cell_type": "code",
   "execution_count": 171,
   "metadata": {},
   "outputs": [],
   "source": [
    "if Config.FEATURE_SELECTION_METHOD is not None:\n",
    "    cont_features1 = [x for x in df_train[selected_features].dtypes[df_train[selected_features].dtypes == \"float\"].index.values \n",
    "                      if x not in null_features]\n",
    "    scaler1 = StandardScaler()\n",
    "    preprocessor1 = ColumnTransformer(\n",
    "        transformers=[                \n",
    "            (\"scaler\", scaler1, cont_features1),        \n",
    "        ], remainder=\"passthrough\"\n",
    "    )"
   ]
  },
  {
   "cell_type": "code",
   "execution_count": 172,
   "metadata": {},
   "outputs": [
    {
     "name": "stdout",
     "output_type": "stream",
     "text": [
      "Fold 0 - LightGBM - ACCURACY : 0.8372351596763234\n",
      "Fold 1 - LightGBM - ACCURACY : 0.8311198962258324\n",
      "Fold 2 - LightGBM - ACCURACY : 0.8317272053372868\n",
      "Fold 3 - LightGBM - ACCURACY : 0.8339510748702743\n",
      "Fold 4 - LightGBM - ACCURACY : 0.833765752409192\n",
      "LightGBM metric=ACCURACY CV score = 0.8335598329668158\n",
      "LightGBM Mean ACCURACY = 0.8335598177037818, std = 0.0021454749960202126\n"
     ]
    }
   ],
   "source": [
    "if Config.FEATURE_SELECTION_METHOD is not None:\n",
    "        fold_metrics_model1, df_oof_preds1, preprocessor1 = tt.train_and_validate(\n",
    "                model_name=Config.MODEL_TYPE,\n",
    "                model_params=model_params,\n",
    "                preprocessor=preprocessor1,\n",
    "                df=df_train,\n",
    "                feature_cols=selected_features,\n",
    "                target_col_name=Config.TARGET_COL_NAME,\n",
    "                metric=Config.METRIC,\n",
    "                single_fold=Config.TRAIN_SINGLE_FOLD,\n",
    "                num_folds=Config.NUM_FOLDS,\n",
    "                suppress_print=False,\n",
    "                num_classes=Config.NUM_CLASSES\n",
    "        )"
   ]
  },
  {
   "cell_type": "code",
   "execution_count": 173,
   "metadata": {},
   "outputs": [
    {
     "name": "stdout",
     "output_type": "stream",
     "text": [
      "Saved validation data predictions to df_val_preds_LightGBM_fs.csv\n"
     ]
    }
   ],
   "source": [
    "if Config.FEATURE_SELECTION_METHOD is not None:\n",
    "    df_oof_preds1.to_csv(DATA_WRITEPATH + f\"df_val_preds_{Config.MODEL_TYPE}_fs.csv\")\n",
    "    print(f\"Saved validation data predictions to df_val_preds_{Config.MODEL_TYPE}_fs.csv\")  "
   ]
  },
  {
   "cell_type": "code",
   "execution_count": 174,
   "metadata": {},
   "outputs": [
    {
     "name": "stdout",
     "output_type": "stream",
     "text": [
      "test_X shape: (51012, 65)\n",
      "test_preds_proba shape: (51012, 3)\n",
      "test_preds shape: (51012,)\n"
     ]
    }
   ],
   "source": [
    "if Config.FEATURE_SELECTION_METHOD is not None:\n",
    "    test_preds_proba1, test_preds1 = tt.get_test_preds_clf(fold_metrics_model1, df_test, selected_features, \n",
    "                                                        preprocessor=preprocessor1, num_folds=Config.NUM_FOLDS)\n",
    "    # convert test_preds to string using labelencoder\n",
    "    test_preds_final1 = le.inverse_transform(test_preds1)\n",
    "    df_test_preds1 = pd.DataFrame()\n",
    "    for i in range(Config.NUM_CLASSES):\n",
    "        df_test_preds1[f\"test_preds_proba_{i}\"] = test_preds_proba1[:, i]\n",
    "    df_test_preds1[\"test_preds\"] = test_preds1\n",
    "    df_test_preds1.to_csv(DATA_WRITEPATH + f'df_test_preds_{Config.MODEL_TYPE}_fs.csv',index=False)\n",
    "    df_submission1 = pd.read_csv(SUBMISSION_FILEPATH + 'sample_submission.csv')\n",
    "    df_submission1[Config.TARGET_COL_NAME] = test_preds_final1\n",
    "    df_submission1.to_csv(DATA_WRITEPATH + f'submission_{Config.MODEL_TYPE}_fs.csv',index=False)\n",
    "    df_submission1.head()"
   ]
  }
 ],
 "metadata": {
  "kernelspec": {
   "display_name": "fastai",
   "language": "python",
   "name": "python3"
  },
  "language_info": {
   "codemirror_mode": {
    "name": "ipython",
    "version": 3
   },
   "file_extension": ".py",
   "mimetype": "text/x-python",
   "name": "python",
   "nbconvert_exporter": "python",
   "pygments_lexer": "ipython3",
   "version": "3.9.7"
  }
 },
 "nbformat": 4,
 "nbformat_minor": 2
}
