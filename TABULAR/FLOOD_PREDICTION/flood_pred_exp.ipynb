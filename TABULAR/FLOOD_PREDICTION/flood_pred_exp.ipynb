{
 "cells": [
  {
   "cell_type": "code",
   "execution_count": 1,
   "id": "a0f4403c",
   "metadata": {
    "execution": {
     "iopub.execute_input": "2024-06-01T04:21:36.183559Z",
     "iopub.status.busy": "2024-06-01T04:21:36.183172Z",
     "iopub.status.idle": "2024-06-01T04:21:51.530807Z",
     "shell.execute_reply": "2024-06-01T04:21:51.529410Z"
    },
    "papermill": {
     "duration": 15.361847,
     "end_time": "2024-06-01T04:21:51.533473",
     "exception": false,
     "start_time": "2024-06-01T04:21:36.171626",
     "status": "completed"
    },
    "tags": []
   },
   "outputs": [],
   "source": [
    "!pip install -q openfe"
   ]
  },
  {
   "cell_type": "code",
   "execution_count": 2,
   "id": "1cfd693e",
   "metadata": {
    "execution": {
     "iopub.execute_input": "2024-06-01T04:21:51.554880Z",
     "iopub.status.busy": "2024-06-01T04:21:51.553977Z",
     "iopub.status.idle": "2024-06-01T04:21:56.849450Z",
     "shell.execute_reply": "2024-06-01T04:21:56.848464Z"
    },
    "papermill": {
     "duration": 5.309116,
     "end_time": "2024-06-01T04:21:56.852196",
     "exception": false,
     "start_time": "2024-06-01T04:21:51.543080",
     "status": "completed"
    },
    "tags": []
   },
   "outputs": [],
   "source": [
    "import sys\n",
    "import os\n",
    "import numpy as np\n",
    "import pandas as pd\n",
    "import seaborn as sns\n",
    "import matplotlib.pyplot as plt\n",
    "import optuna\n",
    "import xgboost as xgb\n",
    "import lightgbm as lgbm\n",
    "import statistics\n",
    "from sklearn.linear_model import Ridge\n",
    "from sklearn import model_selection\n",
    "from sklearn.preprocessing import StandardScaler, OneHotEncoder, PolynomialFeatures, SplineTransformer\n",
    "from sklearn.compose import ColumnTransformer\n",
    "from sklearn.pipeline import make_pipeline\n",
    "from sklearn.base import clone\n",
    "from functools import partial\n",
    "from joblib import dump\n",
    "from scipy.stats import skew, kurtosis\n",
    "from openfe import OpenFE, transform\n",
    "import warnings\n",
    "\n",
    "warnings.filterwarnings('ignore')\n"
   ]
  },
  {
   "cell_type": "code",
   "execution_count": 3,
   "id": "62e48d78",
   "metadata": {
    "execution": {
     "iopub.execute_input": "2024-06-01T04:21:56.872786Z",
     "iopub.status.busy": "2024-06-01T04:21:56.872458Z",
     "iopub.status.idle": "2024-06-01T04:21:56.876924Z",
     "shell.execute_reply": "2024-06-01T04:21:56.875875Z"
    },
    "papermill": {
     "duration": 0.016968,
     "end_time": "2024-06-01T04:21:56.878967",
     "exception": false,
     "start_time": "2024-06-01T04:21:56.861999",
     "status": "completed"
    },
    "tags": []
   },
   "outputs": [],
   "source": [
    "# sys.path.append(os.path.abspath(\"/home/bk_anupam/code/ML/ML_UTILS/\"))"
   ]
  },
  {
   "cell_type": "code",
   "execution_count": 4,
   "id": "9302e52d",
   "metadata": {
    "execution": {
     "iopub.execute_input": "2024-06-01T04:21:56.899054Z",
     "iopub.status.busy": "2024-06-01T04:21:56.898512Z",
     "iopub.status.idle": "2024-06-01T04:22:11.097380Z",
     "shell.execute_reply": "2024-06-01T04:22:11.096244Z"
    },
    "papermill": {
     "duration": 14.211893,
     "end_time": "2024-06-01T04:22:11.099901",
     "exception": false,
     "start_time": "2024-06-01T04:21:56.888008",
     "status": "completed"
    },
    "tags": []
   },
   "outputs": [
    {
     "name": "stdout",
     "output_type": "stream",
     "text": [
      "Collecting iterative-stratification\r\n",
      "  Downloading iterative_stratification-0.1.7-py3-none-any.whl.metadata (1.3 kB)\r\n",
      "Requirement already satisfied: numpy in /opt/conda/lib/python3.10/site-packages (from iterative-stratification) (1.26.4)\r\n",
      "Requirement already satisfied: scipy in /opt/conda/lib/python3.10/site-packages (from iterative-stratification) (1.11.4)\r\n",
      "Requirement already satisfied: scikit-learn in /opt/conda/lib/python3.10/site-packages (from iterative-stratification) (1.2.2)\r\n",
      "Requirement already satisfied: joblib>=1.1.1 in /opt/conda/lib/python3.10/site-packages (from scikit-learn->iterative-stratification) (1.4.0)\r\n",
      "Requirement already satisfied: threadpoolctl>=2.0.0 in /opt/conda/lib/python3.10/site-packages (from scikit-learn->iterative-stratification) (3.2.0)\r\n",
      "Downloading iterative_stratification-0.1.7-py3-none-any.whl (8.5 kB)\r\n",
      "Installing collected packages: iterative-stratification\r\n",
      "Successfully installed iterative-stratification-0.1.7\r\n"
     ]
    }
   ],
   "source": [
    "import train_tabular_utils as tt\n",
    "import cv_split_utils\n",
    "import enums\n",
    "import data_utils"
   ]
  },
  {
   "cell_type": "code",
   "execution_count": 5,
   "id": "6d3c6a14",
   "metadata": {
    "execution": {
     "iopub.execute_input": "2024-06-01T04:22:11.121634Z",
     "iopub.status.busy": "2024-06-01T04:22:11.120835Z",
     "iopub.status.idle": "2024-06-01T04:22:11.129966Z",
     "shell.execute_reply": "2024-06-01T04:22:11.129089Z"
    },
    "papermill": {
     "duration": 0.022047,
     "end_time": "2024-06-01T04:22:11.131978",
     "exception": false,
     "start_time": "2024-06-01T04:22:11.109931",
     "status": "completed"
    },
    "tags": []
   },
   "outputs": [],
   "source": [
    "class Config:\n",
    "    RUN_MODE = \"KAGGLE\"\n",
    "    RANDOM_SEED = 1\n",
    "    NUM_FOLDS = 5\n",
    "    TARGET_COL_NAME = \"FloodProbability\"        \n",
    "    SCALER = enums.Scaler.StandardScaler\n",
    "    METRIC = enums.Metrics.R2\n",
    "    # These values are more dynamic   \n",
    "    MODEL_TYPE = enums.ModelName.CatBoost    \n",
    "    NUM_TUNING_TRIALS = 20\n",
    "    TUNE_ON_SINGLE_FOLD = True\n",
    "    TRAIN_SINGLE_FOLD = False\n",
    "    GENERATE_AUTO_FEATURES = False\n",
    "    PERSIST_MODEL = False\n",
    "    TRANSFORM_TARGET = False\n",
    "\n",
    "COLS_TO_LEAVE = [\"FloodProbability\", \"kfold\"]\n",
    "CPU_COUNT = os.cpu_count()\n",
    "\n",
    "DATA_READPATH = \"./data/\"\n",
    "DATA_WRITEPATH = \"./output/\"\n",
    "SUBMISSION_FILEPATH = DATA_READPATH\n",
    "if Config.RUN_MODE == \"KAGGLE\":\n",
    "    # If we are not generating features, we are using already generated features\n",
    "    if Config.GENERATE_AUTO_FEATURES:\n",
    "        DATA_READPATH = \"/kaggle/input/playground-series-s4e5/\"\n",
    "        SUBMISSION_FILEPATH = DATA_READPATH\n",
    "    else:\n",
    "        DATA_READPATH = \"/kaggle/input/playground-series-s4e5/\"\n",
    "        SUBMISSION_FILEPATH = \"/kaggle/input/playground-series-s4e5/\"\n",
    "    DATA_WRITEPATH = \"/kaggle/working/\""
   ]
  },
  {
   "cell_type": "code",
   "execution_count": 6,
   "id": "e50db80a",
   "metadata": {
    "execution": {
     "iopub.execute_input": "2024-06-01T04:22:11.152379Z",
     "iopub.status.busy": "2024-06-01T04:22:11.152050Z",
     "iopub.status.idle": "2024-06-01T04:22:11.159065Z",
     "shell.execute_reply": "2024-06-01T04:22:11.158080Z"
    },
    "papermill": {
     "duration": 0.019783,
     "end_time": "2024-06-01T04:22:11.161204",
     "exception": false,
     "start_time": "2024-06-01T04:22:11.141421",
     "status": "completed"
    },
    "tags": []
   },
   "outputs": [],
   "source": [
    "model_static_params = {\n",
    "    enums.ModelName.XGBoost: {\n",
    "        \"objective\": \"reg:squarederror\",\n",
    "        \"eval_metric\": \"rmse\",\n",
    "        \"seed\": Config.RANDOM_SEED,\n",
    "        \"verbosity\": 0,\n",
    "    },\n",
    "    enums.ModelName.LGBM: {\n",
    "        \"objective\": \"root_mean_squared_error\",\n",
    "        \"metric\": 'rmse',\n",
    "        \"verbosity\": -1,    # <0: fatal, =0: error (warn), =1: info, >1: debug\n",
    "        \"boosting_type\": \"gbdt\"\n",
    "    },\n",
    "    enums.ModelName.CatBoost: {\n",
    "        \"objective\": \"RMSE\",\n",
    "        \"verbose\": 0,\n",
    "        \"random_seed\": Config.RANDOM_SEED,\n",
    "        \"eval_metric\": \"RMSE\",\n",
    "        'grow_policy':  'Lossguide',\n",
    "        'bootstrap_type': 'Poisson',\n",
    "        'task_type': 'GPU'\n",
    "    },\n",
    "    enums.ModelName.RandomForest: {\n",
    "        \"random_state\": Config.RANDOM_SEED,\n",
    "        \"n_jobs\": -1\n",
    "    },\n",
    "    enums.ModelName.Ridge: {\n",
    "        \"random_state\": Config.RANDOM_SEED\n",
    "    }\n",
    "}"
   ]
  },
  {
   "cell_type": "code",
   "execution_count": 7,
   "id": "2bce60fa",
   "metadata": {
    "execution": {
     "iopub.execute_input": "2024-06-01T04:22:11.184110Z",
     "iopub.status.busy": "2024-06-01T04:22:11.183757Z",
     "iopub.status.idle": "2024-06-01T04:22:11.189306Z",
     "shell.execute_reply": "2024-06-01T04:22:11.188396Z"
    },
    "papermill": {
     "duration": 0.018921,
     "end_time": "2024-06-01T04:22:11.191468",
     "exception": false,
     "start_time": "2024-06-01T04:22:11.172547",
     "status": "completed"
    },
    "tags": []
   },
   "outputs": [],
   "source": [
    "tuned_model_params = {'learning_rate': 0.006369775280726034, 'n_estimators': 2350, 'max_depth': 8, 'min_data_in_leaf': 87, 'subsample': 0.5208710614689455, 'num_leaves': 124, 'reg_lambda': 20.787555675145896, 'random_strength': 4.176445595994663, 'early_stopping_rounds': 290, 'max_bin': 245}\n"
   ]
  },
  {
   "cell_type": "code",
   "execution_count": 8,
   "id": "95abc9b6",
   "metadata": {
    "execution": {
     "iopub.execute_input": "2024-06-01T04:22:11.212116Z",
     "iopub.status.busy": "2024-06-01T04:22:11.211785Z",
     "iopub.status.idle": "2024-06-01T04:22:14.868398Z",
     "shell.execute_reply": "2024-06-01T04:22:14.867519Z"
    },
    "papermill": {
     "duration": 3.669586,
     "end_time": "2024-06-01T04:22:14.870810",
     "exception": false,
     "start_time": "2024-06-01T04:22:11.201224",
     "status": "completed"
    },
    "tags": []
   },
   "outputs": [],
   "source": [
    "# import train dataset locally from data folder\n",
    "df_train = pd.read_csv(DATA_READPATH + \"train.csv\", index_col='id')\n",
    "# import test dataset locally from data folder\n",
    "df_test = pd.read_csv(DATA_READPATH + \"test.csv\", index_col='id')\n",
    "# keep a copy of original train and test data for later use\n",
    "# df_train_orig = df_train.copy()\n",
    "# df_test_orig = df_test.copy()"
   ]
  },
  {
   "cell_type": "code",
   "execution_count": 9,
   "id": "7c1d27ac",
   "metadata": {
    "execution": {
     "iopub.execute_input": "2024-06-01T04:22:14.892460Z",
     "iopub.status.busy": "2024-06-01T04:22:14.892045Z",
     "iopub.status.idle": "2024-06-01T04:22:14.896659Z",
     "shell.execute_reply": "2024-06-01T04:22:14.895663Z"
    },
    "papermill": {
     "duration": 0.017816,
     "end_time": "2024-06-01T04:22:14.898778",
     "exception": false,
     "start_time": "2024-06-01T04:22:14.880962",
     "status": "completed"
    },
    "tags": []
   },
   "outputs": [],
   "source": [
    "feature_cols_for_fe = df_test.columns.to_list()"
   ]
  },
  {
   "cell_type": "code",
   "execution_count": 10,
   "id": "c22e4c35",
   "metadata": {
    "execution": {
     "iopub.execute_input": "2024-06-01T04:22:14.919025Z",
     "iopub.status.busy": "2024-06-01T04:22:14.918694Z",
     "iopub.status.idle": "2024-06-01T04:22:14.928449Z",
     "shell.execute_reply": "2024-06-01T04:22:14.927584Z"
    },
    "papermill": {
     "duration": 0.022035,
     "end_time": "2024-06-01T04:22:14.930486",
     "exception": false,
     "start_time": "2024-06-01T04:22:14.908451",
     "status": "completed"
    },
    "tags": []
   },
   "outputs": [],
   "source": [
    "# Function to compute skewness and kurtosis for each row\n",
    "def compute_skew_kurtosis(matrix):\n",
    "    skewness = skew(matrix, axis=1)\n",
    "    kurt = kurtosis(matrix, axis=1)\n",
    "    return skewness, kurt\n",
    "\n",
    "def create_features(df, feature_cols):\n",
    "    # Create a new feature by summing all features\n",
    "    df[\"f_sum\"] = df[feature_cols].sum(axis=1)\n",
    "    # Create a new feature by taking mean of all features\n",
    "    df[\"f_mean\"] = df[feature_cols].mean(axis=1)\n",
    "    df[\"f_median\"] = df[feature_cols].median(axis=1)\n",
    "    # standard deviation\n",
    "    df['f_std'] = df[feature_cols].std(axis=1)\n",
    "    # min and max\n",
    "    df['f_min'] = df[feature_cols].min(axis=1)\n",
    "    df['f_max'] = df[feature_cols].max(axis=1)\n",
    "    # Compute skewness and kurtosis\n",
    "    skewness, kurt = compute_skew_kurtosis(df[feature_cols].values)\n",
    "    df['f_skew'] = skewness\n",
    "    df['f_kurtosis'] = kurt    \n",
    "    # Quantiles\n",
    "    quantiles = [0.25, 0.5, 0.75]\n",
    "    for q in quantiles:\n",
    "        df[f'f_quantile_{int(q*100)}'] = df[feature_cols].quantile(q=q, axis=1)        \n",
    "    # sorted features\n",
    "    sorted_features = [f\"sort_{i}\" for i in np.arange(len(feature_cols))]\n",
    "    df[sorted_features] = np.sort(df[feature_cols], axis=1)\n",
    "    return df"
   ]
  },
  {
   "cell_type": "code",
   "execution_count": 11,
   "id": "dec8e1cd",
   "metadata": {
    "execution": {
     "iopub.execute_input": "2024-06-01T04:22:14.952318Z",
     "iopub.status.busy": "2024-06-01T04:22:14.951269Z",
     "iopub.status.idle": "2024-06-01T04:22:26.778430Z",
     "shell.execute_reply": "2024-06-01T04:22:26.777190Z"
    },
    "papermill": {
     "duration": 11.841328,
     "end_time": "2024-06-01T04:22:26.781545",
     "exception": false,
     "start_time": "2024-06-01T04:22:14.940217",
     "status": "completed"
    },
    "tags": []
   },
   "outputs": [],
   "source": [
    "df_train = create_features(df_train, feature_cols_for_fe)\n",
    "df_test = create_features(df_test, feature_cols_for_fe)"
   ]
  },
  {
   "cell_type": "code",
   "execution_count": 12,
   "id": "bbd2b9c6",
   "metadata": {
    "execution": {
     "iopub.execute_input": "2024-06-01T04:22:26.803308Z",
     "iopub.status.busy": "2024-06-01T04:22:26.802948Z",
     "iopub.status.idle": "2024-06-01T04:22:26.832107Z",
     "shell.execute_reply": "2024-06-01T04:22:26.831042Z"
    },
    "papermill": {
     "duration": 0.042857,
     "end_time": "2024-06-01T04:22:26.834724",
     "exception": false,
     "start_time": "2024-06-01T04:22:26.791867",
     "status": "completed"
    },
    "tags": []
   },
   "outputs": [
    {
     "data": {
      "text/html": [
       "<div>\n",
       "<style scoped>\n",
       "    .dataframe tbody tr th:only-of-type {\n",
       "        vertical-align: middle;\n",
       "    }\n",
       "\n",
       "    .dataframe tbody tr th {\n",
       "        vertical-align: top;\n",
       "    }\n",
       "\n",
       "    .dataframe thead th {\n",
       "        text-align: right;\n",
       "    }\n",
       "</style>\n",
       "<table border=\"1\" class=\"dataframe\">\n",
       "  <thead>\n",
       "    <tr style=\"text-align: right;\">\n",
       "      <th></th>\n",
       "      <th>MonsoonIntensity</th>\n",
       "      <th>TopographyDrainage</th>\n",
       "      <th>RiverManagement</th>\n",
       "      <th>Deforestation</th>\n",
       "      <th>Urbanization</th>\n",
       "      <th>ClimateChange</th>\n",
       "      <th>DamsQuality</th>\n",
       "      <th>Siltation</th>\n",
       "      <th>AgriculturalPractices</th>\n",
       "      <th>Encroachments</th>\n",
       "      <th>...</th>\n",
       "      <th>sort_10</th>\n",
       "      <th>sort_11</th>\n",
       "      <th>sort_12</th>\n",
       "      <th>sort_13</th>\n",
       "      <th>sort_14</th>\n",
       "      <th>sort_15</th>\n",
       "      <th>sort_16</th>\n",
       "      <th>sort_17</th>\n",
       "      <th>sort_18</th>\n",
       "      <th>sort_19</th>\n",
       "    </tr>\n",
       "    <tr>\n",
       "      <th>id</th>\n",
       "      <th></th>\n",
       "      <th></th>\n",
       "      <th></th>\n",
       "      <th></th>\n",
       "      <th></th>\n",
       "      <th></th>\n",
       "      <th></th>\n",
       "      <th></th>\n",
       "      <th></th>\n",
       "      <th></th>\n",
       "      <th></th>\n",
       "      <th></th>\n",
       "      <th></th>\n",
       "      <th></th>\n",
       "      <th></th>\n",
       "      <th></th>\n",
       "      <th></th>\n",
       "      <th></th>\n",
       "      <th></th>\n",
       "      <th></th>\n",
       "      <th></th>\n",
       "    </tr>\n",
       "  </thead>\n",
       "  <tbody>\n",
       "    <tr>\n",
       "      <th>0</th>\n",
       "      <td>5</td>\n",
       "      <td>8</td>\n",
       "      <td>5</td>\n",
       "      <td>8</td>\n",
       "      <td>6</td>\n",
       "      <td>4</td>\n",
       "      <td>4</td>\n",
       "      <td>3</td>\n",
       "      <td>3</td>\n",
       "      <td>4</td>\n",
       "      <td>...</td>\n",
       "      <td>5</td>\n",
       "      <td>5</td>\n",
       "      <td>5</td>\n",
       "      <td>5</td>\n",
       "      <td>5</td>\n",
       "      <td>6</td>\n",
       "      <td>7</td>\n",
       "      <td>7</td>\n",
       "      <td>8</td>\n",
       "      <td>8</td>\n",
       "    </tr>\n",
       "    <tr>\n",
       "      <th>1</th>\n",
       "      <td>6</td>\n",
       "      <td>7</td>\n",
       "      <td>4</td>\n",
       "      <td>4</td>\n",
       "      <td>8</td>\n",
       "      <td>8</td>\n",
       "      <td>3</td>\n",
       "      <td>5</td>\n",
       "      <td>4</td>\n",
       "      <td>6</td>\n",
       "      <td>...</td>\n",
       "      <td>4</td>\n",
       "      <td>5</td>\n",
       "      <td>5</td>\n",
       "      <td>6</td>\n",
       "      <td>6</td>\n",
       "      <td>7</td>\n",
       "      <td>7</td>\n",
       "      <td>8</td>\n",
       "      <td>8</td>\n",
       "      <td>9</td>\n",
       "    </tr>\n",
       "    <tr>\n",
       "      <th>2</th>\n",
       "      <td>6</td>\n",
       "      <td>5</td>\n",
       "      <td>6</td>\n",
       "      <td>7</td>\n",
       "      <td>3</td>\n",
       "      <td>7</td>\n",
       "      <td>1</td>\n",
       "      <td>5</td>\n",
       "      <td>4</td>\n",
       "      <td>5</td>\n",
       "      <td>...</td>\n",
       "      <td>5</td>\n",
       "      <td>6</td>\n",
       "      <td>6</td>\n",
       "      <td>6</td>\n",
       "      <td>6</td>\n",
       "      <td>7</td>\n",
       "      <td>7</td>\n",
       "      <td>7</td>\n",
       "      <td>7</td>\n",
       "      <td>8</td>\n",
       "    </tr>\n",
       "    <tr>\n",
       "      <th>3</th>\n",
       "      <td>3</td>\n",
       "      <td>4</td>\n",
       "      <td>6</td>\n",
       "      <td>5</td>\n",
       "      <td>4</td>\n",
       "      <td>8</td>\n",
       "      <td>4</td>\n",
       "      <td>7</td>\n",
       "      <td>6</td>\n",
       "      <td>8</td>\n",
       "      <td>...</td>\n",
       "      <td>5</td>\n",
       "      <td>5</td>\n",
       "      <td>6</td>\n",
       "      <td>6</td>\n",
       "      <td>6</td>\n",
       "      <td>7</td>\n",
       "      <td>7</td>\n",
       "      <td>7</td>\n",
       "      <td>8</td>\n",
       "      <td>8</td>\n",
       "    </tr>\n",
       "    <tr>\n",
       "      <th>4</th>\n",
       "      <td>5</td>\n",
       "      <td>3</td>\n",
       "      <td>2</td>\n",
       "      <td>6</td>\n",
       "      <td>4</td>\n",
       "      <td>4</td>\n",
       "      <td>3</td>\n",
       "      <td>3</td>\n",
       "      <td>3</td>\n",
       "      <td>3</td>\n",
       "      <td>...</td>\n",
       "      <td>3</td>\n",
       "      <td>4</td>\n",
       "      <td>4</td>\n",
       "      <td>4</td>\n",
       "      <td>5</td>\n",
       "      <td>5</td>\n",
       "      <td>5</td>\n",
       "      <td>6</td>\n",
       "      <td>6</td>\n",
       "      <td>6</td>\n",
       "    </tr>\n",
       "  </tbody>\n",
       "</table>\n",
       "<p>5 rows × 52 columns</p>\n",
       "</div>"
      ],
      "text/plain": [
       "    MonsoonIntensity  TopographyDrainage  RiverManagement  Deforestation  \\\n",
       "id                                                                         \n",
       "0                  5                   8                5              8   \n",
       "1                  6                   7                4              4   \n",
       "2                  6                   5                6              7   \n",
       "3                  3                   4                6              5   \n",
       "4                  5                   3                2              6   \n",
       "\n",
       "    Urbanization  ClimateChange  DamsQuality  Siltation  \\\n",
       "id                                                        \n",
       "0              6              4            4          3   \n",
       "1              8              8            3          5   \n",
       "2              3              7            1          5   \n",
       "3              4              8            4          7   \n",
       "4              4              4            3          3   \n",
       "\n",
       "    AgriculturalPractices  Encroachments  ...  sort_10  sort_11  sort_12  \\\n",
       "id                                        ...                              \n",
       "0                       3              4  ...        5        5        5   \n",
       "1                       4              6  ...        4        5        5   \n",
       "2                       4              5  ...        5        6        6   \n",
       "3                       6              8  ...        5        5        6   \n",
       "4                       3              3  ...        3        4        4   \n",
       "\n",
       "    sort_13  sort_14  sort_15  sort_16  sort_17  sort_18  sort_19  \n",
       "id                                                                 \n",
       "0         5        5        6        7        7        8        8  \n",
       "1         6        6        7        7        8        8        9  \n",
       "2         6        6        7        7        7        7        8  \n",
       "3         6        6        7        7        7        8        8  \n",
       "4         4        5        5        5        6        6        6  \n",
       "\n",
       "[5 rows x 52 columns]"
      ]
     },
     "execution_count": 12,
     "metadata": {},
     "output_type": "execute_result"
    }
   ],
   "source": [
    "df_train.head()"
   ]
  },
  {
   "cell_type": "code",
   "execution_count": 13,
   "id": "78874233",
   "metadata": {
    "execution": {
     "iopub.execute_input": "2024-06-01T04:22:26.857812Z",
     "iopub.status.busy": "2024-06-01T04:22:26.857457Z",
     "iopub.status.idle": "2024-06-01T04:22:26.863253Z",
     "shell.execute_reply": "2024-06-01T04:22:26.862283Z"
    },
    "papermill": {
     "duration": 0.020015,
     "end_time": "2024-06-01T04:22:26.865949",
     "exception": false,
     "start_time": "2024-06-01T04:22:26.845934",
     "status": "completed"
    },
    "tags": []
   },
   "outputs": [
    {
     "name": "stdout",
     "output_type": "stream",
     "text": [
      "len(feature_cols)=51\n"
     ]
    }
   ],
   "source": [
    "feature_cols= [x for x in df_train.columns.to_list() if x not in COLS_TO_LEAVE]\n",
    "print(f\"len(feature_cols)={len(feature_cols)}\")"
   ]
  },
  {
   "cell_type": "code",
   "execution_count": 14,
   "id": "d8345a18",
   "metadata": {
    "execution": {
     "iopub.execute_input": "2024-06-01T04:22:26.888337Z",
     "iopub.status.busy": "2024-06-01T04:22:26.887714Z",
     "iopub.status.idle": "2024-06-01T04:22:26.894346Z",
     "shell.execute_reply": "2024-06-01T04:22:26.893367Z"
    },
    "papermill": {
     "duration": 0.020238,
     "end_time": "2024-06-01T04:22:26.896578",
     "exception": false,
     "start_time": "2024-06-01T04:22:26.876340",
     "status": "completed"
    },
    "tags": []
   },
   "outputs": [],
   "source": [
    "scaler = StandardScaler()\n",
    "onehot_encoder = OneHotEncoder(sparse_output=False, handle_unknown=\"ignore\")\n",
    "polynomial_features = PolynomialFeatures(degree=2, include_bias=False)\n",
    "spline_transformer = SplineTransformer(n_knots=5, degree=3, include_bias=False)\n",
    "preprocessor = ColumnTransformer(\n",
    "    transformers=[        \n",
    "        #(\"poly\", polynomial_features, feature_cols),\n",
    "        (\"scaler\", scaler, feature_cols),\n",
    "        (\"onehot\", onehot_encoder, ['f_sum']),        \n",
    "    ], remainder=\"passthrough\"\n",
    ")"
   ]
  },
  {
   "cell_type": "code",
   "execution_count": 15,
   "id": "459a8b67",
   "metadata": {
    "execution": {
     "iopub.execute_input": "2024-06-01T04:22:26.918424Z",
     "iopub.status.busy": "2024-06-01T04:22:26.918075Z",
     "iopub.status.idle": "2024-06-01T04:22:26.928886Z",
     "shell.execute_reply": "2024-06-01T04:22:26.927960Z"
    },
    "papermill": {
     "duration": 0.024014,
     "end_time": "2024-06-01T04:22:26.930969",
     "exception": false,
     "start_time": "2024-06-01T04:22:26.906955",
     "status": "completed"
    },
    "tags": []
   },
   "outputs": [],
   "source": [
    "def train_and_validate(model_name, model, df, feature_cols, target_col_name, metric, n_repeat=1, single_fold=False, num_folds=5):    \n",
    "    df = cv_split_utils.kfold_dataframe(df, random_state=Config.RANDOM_SEED, num_folds=Config.NUM_FOLDS)\n",
    "    df_oof_preds = pd.DataFrame()\n",
    "    fold_metrics_model = []\n",
    "    for fold in range(num_folds):\n",
    "        fold_model = clone(model)\n",
    "        df_train_fold, df_val_fold = tt.get_fold_df(df, fold)\n",
    "        train_X, train_y, val_X, val_y = tt.get_train_val_nparray(df_train_fold, df_val_fold, feature_cols, target_col_name)\n",
    "        if model_name == enums.ModelName.XGBoost:\n",
    "            fold_model.fit(train_X, train_y, eval_set=[(val_X, val_y)])\n",
    "        else:\n",
    "            fold_model.fit(train_X, train_y)\n",
    "        val_y_pred = fold_model.predict(val_X)\n",
    "        fold_val_metric = tt.get_eval_metric(metric, val_y, val_y_pred)\n",
    "        print(f\"Fold {fold} - {model_name} - {metric} : {fold_val_metric}\")\n",
    "        df_fold_val_preds = df_val_fold[['kfold', target_col_name]]\n",
    "        df_fold_val_preds['oof_preds'] = val_y_pred\n",
    "        df_oof_preds = pd.concat([df_oof_preds, df_fold_val_preds], axis=0)\n",
    "        fold_metrics_model.append((fold_val_metric, fold_model))\n",
    "        if single_fold:\n",
    "            break\n",
    "    cv = tt.get_eval_metric(metric, df_oof_preds[target_col_name], df_oof_preds['oof_preds'] )\n",
    "    print(f\"{model_name} metric={metric} CV score = {cv}\")\n",
    "    metrics = [item[0] for item in fold_metrics_model]\n",
    "    mean_metric, std_metric = tt.get_metric_stats(metrics)    \n",
    "    print(f\"{model_name} Mean {metric} = {mean_metric}, std = {std_metric}\")        \n",
    "    return fold_metrics_model, df_oof_preds"
   ]
  },
  {
   "cell_type": "code",
   "execution_count": 16,
   "id": "bcc0c8f5",
   "metadata": {
    "execution": {
     "iopub.execute_input": "2024-06-01T04:22:26.952914Z",
     "iopub.status.busy": "2024-06-01T04:22:26.952392Z",
     "iopub.status.idle": "2024-06-01T04:22:26.959951Z",
     "shell.execute_reply": "2024-06-01T04:22:26.959064Z"
    },
    "papermill": {
     "duration": 0.020638,
     "end_time": "2024-06-01T04:22:26.961934",
     "exception": false,
     "start_time": "2024-06-01T04:22:26.941296",
     "status": "completed"
    },
    "tags": []
   },
   "outputs": [],
   "source": [
    "def get_lgbm_tuning_params(trial):    \n",
    "    params_dynamic = {\n",
    "        'learning_rate': trial.suggest_float('learning_rate', 1e-3, 1.0, log=True),\n",
    "        'n_estimators': trial.suggest_int('n_estimators', 100, 2000, step=25),\n",
    "        'max_depth': trial.suggest_int('max_depth', 4, 20),\n",
    "        'min_child_weight': trial.suggest_int('min_child_weight', 1, 10),\n",
    "        'subsample': trial.suggest_float('subsample', 0.5, 1),\n",
    "        'colsample_bytree': trial.suggest_float('colsample_bytree', 0.5, 1),\n",
    "        'num_leaves': trial.suggest_int('num_leaves', 4, 256, step=4),\n",
    "        'reg_alpha': trial.suggest_float('reg_alpha', 0, 1),\n",
    "        'reg_lambda': trial.suggest_float('reg_lambda', 1, 100),\n",
    "        'early_stopping_rounds': trial.suggest_int('early_stopping_rounds', 50, 500, step=20)\n",
    "    }\n",
    "    return {**model_static_params[enums.ModelName.LGBM], **params_dynamic}"
   ]
  },
  {
   "cell_type": "code",
   "execution_count": 17,
   "id": "98b56ac2",
   "metadata": {
    "execution": {
     "iopub.execute_input": "2024-06-01T04:22:26.983659Z",
     "iopub.status.busy": "2024-06-01T04:22:26.983316Z",
     "iopub.status.idle": "2024-06-01T04:22:26.991392Z",
     "shell.execute_reply": "2024-06-01T04:22:26.990555Z"
    },
    "papermill": {
     "duration": 0.021323,
     "end_time": "2024-06-01T04:22:26.993602",
     "exception": false,
     "start_time": "2024-06-01T04:22:26.972279",
     "status": "completed"
    },
    "tags": []
   },
   "outputs": [],
   "source": [
    "def get_catboost_tuning_params(trial):\n",
    "    params_dynamic = {\n",
    "        'learning_rate': trial.suggest_float('learning_rate', 1e-3, 1.0, log=True),\n",
    "        'n_estimators': trial.suggest_int('n_estimators', 100, 5000, step=50),\n",
    "        'max_depth': trial.suggest_int('max_depth', 4, 16),\n",
    "        'min_data_in_leaf': trial.suggest_int('min_data_in_leaf', 5, 100),\n",
    "        'subsample': trial.suggest_float('subsample', 0.5, 1),\n",
    "        # comment colsample_bylevel for GPU training\n",
    "        #'colsample_bylevel': trial.suggest_float('colsample_bylevel', 0.5, 1),\n",
    "        'num_leaves': trial.suggest_int('num_leaves', 4, 256, step=4),\n",
    "        'reg_lambda': trial.suggest_float('reg_lambda', 1, 100),\n",
    "        'random_strength': trial.suggest_loguniform('random_strength', 0.01, 10),\n",
    "        'early_stopping_rounds': trial.suggest_int('early_stopping_rounds', 50, 500, step=20),\n",
    "        'max_bin': trial.suggest_int('max_bin', 32, 255)\n",
    "    }\n",
    "    return {**model_static_params[enums.ModelName.CatBoost], **params_dynamic}"
   ]
  },
  {
   "cell_type": "code",
   "execution_count": 18,
   "id": "0cb4aedc",
   "metadata": {
    "execution": {
     "iopub.execute_input": "2024-06-01T04:22:27.015526Z",
     "iopub.status.busy": "2024-06-01T04:22:27.015153Z",
     "iopub.status.idle": "2024-06-01T04:22:27.022958Z",
     "shell.execute_reply": "2024-06-01T04:22:27.022086Z"
    },
    "papermill": {
     "duration": 0.021372,
     "end_time": "2024-06-01T04:22:27.024946",
     "exception": false,
     "start_time": "2024-06-01T04:22:27.003574",
     "status": "completed"
    },
    "tags": []
   },
   "outputs": [],
   "source": [
    "def get_xgb_tuning_params(trial):\n",
    "    params_dynamic = {            \n",
    "            'n_estimators': trial.suggest_int('n_estimators', 100, 5000, step=100),\n",
    "            'learning_rate': trial.suggest_float('learning_rate', 1e-3, 1.0, log=True),\n",
    "            'max_depth': trial.suggest_int('max_depth', 4, 32),\n",
    "            'min_child_weight': trial.suggest_int('min_child_weight', 1, 10),\n",
    "            'gamma': trial.suggest_float('gamma', 0, 1),\n",
    "            'subsample': trial.suggest_float('subsample', 0.5, 1),\n",
    "            'colsample_bytree': trial.suggest_float('colsample_bytree', 0.5, 1),\n",
    "            'reg_alpha': trial.suggest_float('reg_alpha', 0, 1),\n",
    "            'reg_lambda': trial.suggest_float('reg_lambda', 1, 100),\n",
    "            'early_stopping_rounds': trial.suggest_int('early_stopping_rounds', 100, 500, step=20)\n",
    "        }\n",
    "    return {**model_static_params[enums.ModelName.XGBoost], **params_dynamic}"
   ]
  },
  {
   "cell_type": "code",
   "execution_count": 19,
   "id": "576c077a",
   "metadata": {
    "execution": {
     "iopub.execute_input": "2024-06-01T04:22:27.048136Z",
     "iopub.status.busy": "2024-06-01T04:22:27.047525Z",
     "iopub.status.idle": "2024-06-01T04:22:27.056788Z",
     "shell.execute_reply": "2024-06-01T04:22:27.055693Z"
    },
    "papermill": {
     "duration": 0.02319,
     "end_time": "2024-06-01T04:22:27.059018",
     "exception": false,
     "start_time": "2024-06-01T04:22:27.035828",
     "status": "completed"
    },
    "tags": []
   },
   "outputs": [],
   "source": [
    "def get_model_tuning_params(trial, model_name):\n",
    "    if model_name == enums.ModelName.Ridge:\n",
    "        return {\n",
    "            \"alpha\": trial.suggest_float(\"alpha\", 1e-4, 1e4, log=True)\n",
    "        }\n",
    "    if model_name == enums.ModelName.Lasso:\n",
    "        return {\n",
    "            \"alpha\": trial.suggest_float(\"alpha\", 1e-4, 1e4, log=True)\n",
    "        }\n",
    "    if model_name == enums.ModelName.RandomForest:\n",
    "        return {        \n",
    "            \"n_estimators\": trial.suggest_int(\"n_estimators\", 400, 3000, step=100),\n",
    "            \"max_depth\": trial.suggest_int(\"max_depth\", 10, 30),\n",
    "            \"min_samples_leaf\": trial.suggest_int(\"min_samples_leaf\", 2, 16),\n",
    "            \"min_samples_split\": trial.suggest_int(\"min_samples_split\", 2, 16),\n",
    "            \"max_features\": trial.suggest_categorical(\"max_features\", [\"log2\", \"sqrt\", None])\n",
    "        }\n",
    "    if model_name == enums.ModelName.CatBoost:\n",
    "        return get_catboost_tuning_params(trial)\n",
    "    if model_name == enums.ModelName.LGBM:\n",
    "        return get_lgbm_tuning_params(trial)\n",
    "    if model_name == enums.ModelName.XGBoost:\n",
    "        return get_xgb_tuning_params(trial)"
   ]
  },
  {
   "cell_type": "code",
   "execution_count": 20,
   "id": "1ac0003a",
   "metadata": {
    "execution": {
     "iopub.execute_input": "2024-06-01T04:22:27.081517Z",
     "iopub.status.busy": "2024-06-01T04:22:27.081151Z",
     "iopub.status.idle": "2024-06-01T04:22:27.088966Z",
     "shell.execute_reply": "2024-06-01T04:22:27.087908Z"
    },
    "papermill": {
     "duration": 0.021426,
     "end_time": "2024-06-01T04:22:27.090995",
     "exception": false,
     "start_time": "2024-06-01T04:22:27.069569",
     "status": "completed"
    },
    "tags": []
   },
   "outputs": [],
   "source": [
    "def hyperparams_tuning_objective(trial, model_name, preprocessor, df_train,  \n",
    "                                 feature_cols, metric, target_col_name, single_fold=False, num_folds=5):               \n",
    "    model_params = get_model_tuning_params(trial, model_name)\n",
    "    model = tt.get_model(model_name=model_name, params=model_params, metric=metric)\n",
    "    if preprocessor is not None:\n",
    "        model = make_pipeline(preprocessor, model)\n",
    "    fold_metrics_model, df_val_preds = train_and_validate(\n",
    "                                        model_name=model_name,\n",
    "                                        model=model,\n",
    "                                        df=df_train,\n",
    "                                        feature_cols=feature_cols,\n",
    "                                        target_col_name=target_col_name,\n",
    "                                        metric=metric,\n",
    "                                        single_fold=single_fold,\n",
    "                                        num_folds=num_folds\n",
    "                                    )\n",
    "    fold_metrics = [x[0] for x in fold_metrics_model]\n",
    "    mean_metric = statistics.mean(fold_metrics)                \n",
    "    return mean_metric"
   ]
  },
  {
   "cell_type": "code",
   "execution_count": 21,
   "id": "4d420886",
   "metadata": {
    "execution": {
     "iopub.execute_input": "2024-06-01T04:22:27.113068Z",
     "iopub.status.busy": "2024-06-01T04:22:27.112094Z",
     "iopub.status.idle": "2024-06-01T04:22:27.119128Z",
     "shell.execute_reply": "2024-06-01T04:22:27.118314Z"
    },
    "papermill": {
     "duration": 0.02003,
     "end_time": "2024-06-01T04:22:27.121127",
     "exception": false,
     "start_time": "2024-06-01T04:22:27.101097",
     "status": "completed"
    },
    "tags": []
   },
   "outputs": [],
   "source": [
    "def tune_model_params(study_name, study_direction, num_trials, model_name, preprocessor,\n",
    "                      df_train,  feature_cols, metric, target_col_name, \n",
    "                      single_fold=False, num_folds=5):\n",
    "    model_params_tuning_obj_partial = partial(\n",
    "        hyperparams_tuning_objective,\n",
    "        model_name=model_name,\n",
    "        preprocessor=preprocessor,        \n",
    "        df_train=df_train,\n",
    "        feature_cols=feature_cols,\n",
    "        metric=metric,\n",
    "        target_col_name=target_col_name,\n",
    "        single_fold=single_fold,\n",
    "        num_folds=num_folds\n",
    "    )\n",
    "    study = optuna.create_study(direction=study_direction, study_name=study_name)\n",
    "    study.optimize(model_params_tuning_obj_partial, n_trials=num_trials)\n",
    "    best_trial = study.best_trial\n",
    "    print(f\"Best trial: number = {best_trial.number}, value = {best_trial.value}, params = {best_trial.params}\")\n",
    "    return best_trial.params"
   ]
  },
  {
   "cell_type": "code",
   "execution_count": 22,
   "id": "c8e0b1e6",
   "metadata": {
    "execution": {
     "iopub.execute_input": "2024-06-01T04:22:27.142731Z",
     "iopub.status.busy": "2024-06-01T04:22:27.142138Z",
     "iopub.status.idle": "2024-06-01T04:22:27.148090Z",
     "shell.execute_reply": "2024-06-01T04:22:27.147174Z"
    },
    "papermill": {
     "duration": 0.019059,
     "end_time": "2024-06-01T04:22:27.150208",
     "exception": false,
     "start_time": "2024-06-01T04:22:27.131149",
     "status": "completed"
    },
    "tags": []
   },
   "outputs": [],
   "source": [
    "if tuned_model_params is None:\n",
    "    tuned_model_params = tune_model_params(\n",
    "                            study_name=Config.MODEL_TYPE + \"_ModelTuning\", \n",
    "                            study_direction=\"maximize\",\n",
    "                            num_trials=Config.NUM_TUNING_TRIALS,\n",
    "                            model_name=Config.MODEL_TYPE,\n",
    "                            preprocessor=preprocessor,\n",
    "                            df_train=df_train.sample(frac=0.1),\n",
    "                            feature_cols=feature_cols,\n",
    "                            metric=Config.METRIC,\n",
    "                            target_col_name=Config.TARGET_COL_NAME,\n",
    "                            single_fold=Config.TUNE_ON_SINGLE_FOLD,\n",
    "                            num_folds=Config.NUM_FOLDS\n",
    "                    )"
   ]
  },
  {
   "cell_type": "code",
   "execution_count": 23,
   "id": "435f34c7",
   "metadata": {
    "execution": {
     "iopub.execute_input": "2024-06-01T04:22:27.172728Z",
     "iopub.status.busy": "2024-06-01T04:22:27.171938Z",
     "iopub.status.idle": "2024-06-01T04:22:27.177681Z",
     "shell.execute_reply": "2024-06-01T04:22:27.176718Z"
    },
    "papermill": {
     "duration": 0.019514,
     "end_time": "2024-06-01T04:22:27.179867",
     "exception": false,
     "start_time": "2024-06-01T04:22:27.160353",
     "status": "completed"
    },
    "tags": []
   },
   "outputs": [],
   "source": [
    "model_params = None\n",
    "params_static = model_static_params.get(Config.MODEL_TYPE)\n",
    "if params_static is not None and tuned_model_params is not None:\n",
    "    model_params = {**model_static_params[Config.MODEL_TYPE], **tuned_model_params}\n",
    "else:\n",
    "    model_params = tuned_model_params"
   ]
  },
  {
   "cell_type": "code",
   "execution_count": 24,
   "id": "f0a277e9",
   "metadata": {
    "execution": {
     "iopub.execute_input": "2024-06-01T04:22:27.202277Z",
     "iopub.status.busy": "2024-06-01T04:22:27.201957Z",
     "iopub.status.idle": "2024-06-01T04:22:27.206170Z",
     "shell.execute_reply": "2024-06-01T04:22:27.205209Z"
    },
    "papermill": {
     "duration": 0.017959,
     "end_time": "2024-06-01T04:22:27.208463",
     "exception": false,
     "start_time": "2024-06-01T04:22:27.190504",
     "status": "completed"
    },
    "tags": []
   },
   "outputs": [],
   "source": [
    "# model_params = model_static_params.get(Config.MODEL_TYPE)"
   ]
  },
  {
   "cell_type": "code",
   "execution_count": 25,
   "id": "7c7dc621",
   "metadata": {
    "execution": {
     "iopub.execute_input": "2024-06-01T04:22:27.229453Z",
     "iopub.status.busy": "2024-06-01T04:22:27.229105Z",
     "iopub.status.idle": "2024-06-01T04:22:27.236382Z",
     "shell.execute_reply": "2024-06-01T04:22:27.235398Z"
    },
    "papermill": {
     "duration": 0.019999,
     "end_time": "2024-06-01T04:22:27.238280",
     "exception": false,
     "start_time": "2024-06-01T04:22:27.218281",
     "status": "completed"
    },
    "tags": []
   },
   "outputs": [],
   "source": [
    "model = tt.get_model(model_name=Config.MODEL_TYPE, params=model_params, metric=Config.METRIC)\n",
    "model_pipeline = make_pipeline(preprocessor, model)"
   ]
  },
  {
   "cell_type": "code",
   "execution_count": 26,
   "id": "a8e67b09",
   "metadata": {
    "execution": {
     "iopub.execute_input": "2024-06-01T04:22:27.259599Z",
     "iopub.status.busy": "2024-06-01T04:22:27.259260Z",
     "iopub.status.idle": "2024-06-01T04:22:27.265393Z",
     "shell.execute_reply": "2024-06-01T04:22:27.264472Z"
    },
    "papermill": {
     "duration": 0.019269,
     "end_time": "2024-06-01T04:22:27.267481",
     "exception": false,
     "start_time": "2024-06-01T04:22:27.248212",
     "status": "completed"
    },
    "tags": []
   },
   "outputs": [],
   "source": [
    "def persist(model_name, fold_metrics_model, df_oof_preds, persist_model=False, output_path=\"\"):    \n",
    "    fold_models = [item[1] for item in fold_metrics_model]    \n",
    "    if persist_model:\n",
    "        for index, model in enumerate(fold_models):\n",
    "            fold_model_name = output_path + f\"{model_name}_{index}.joblib\"        \n",
    "            dump(model, fold_model_name)\n",
    "            print(f\"saved {fold_model_name}\")    \n",
    "    df_oof_preds.to_csv(output_path + f\"df_val_preds_{model_name}.csv\")\n",
    "    print(f\"Saved validation data predictions to df_val_preds_{model_name}.csv\")  "
   ]
  },
  {
   "cell_type": "code",
   "execution_count": 27,
   "id": "fec45782",
   "metadata": {
    "execution": {
     "iopub.execute_input": "2024-06-01T04:22:27.288263Z",
     "iopub.status.busy": "2024-06-01T04:22:27.287978Z",
     "iopub.status.idle": "2024-06-01T04:35:15.548227Z",
     "shell.execute_reply": "2024-06-01T04:35:15.546731Z"
    },
    "papermill": {
     "duration": 768.273507,
     "end_time": "2024-06-01T04:35:15.550643",
     "exception": false,
     "start_time": "2024-06-01T04:22:27.277136",
     "status": "completed"
    },
    "tags": []
   },
   "outputs": [
    {
     "name": "stdout",
     "output_type": "stream",
     "text": [
      "Fold 0 - CatBoost - R2 : 0.8692464913250033\n",
      "Fold 1 - CatBoost - R2 : 0.8696411620065011\n",
      "Fold 2 - CatBoost - R2 : 0.8691796219914469\n",
      "Fold 3 - CatBoost - R2 : 0.8691070737271822\n",
      "Fold 4 - CatBoost - R2 : 0.8695473265645947\n",
      "CatBoost metric=R2 CV score = 0.869344665611835\n",
      "CatBoost Mean R2 = 0.8693443351229456, std = 0.00021085944066486184\n",
      "Saved validation data predictions to df_val_preds_CatBoost.csv\n"
     ]
    }
   ],
   "source": [
    "fold_metrics_model, df_oof_preds = train_and_validate(\n",
    "                                        model_name=Config.MODEL_TYPE,\n",
    "                                        model=model_pipeline,\n",
    "                                        df=df_train,\n",
    "                                        feature_cols=feature_cols,\n",
    "                                        target_col_name=Config.TARGET_COL_NAME,\n",
    "                                        metric=Config.METRIC,\n",
    "                                        single_fold=Config.TRAIN_SINGLE_FOLD,\n",
    "                                        num_folds=Config.NUM_FOLDS\n",
    "                                    )\n",
    "\n",
    "persist(\n",
    "        model_name=Config.MODEL_TYPE, \n",
    "        fold_metrics_model=fold_metrics_model, \n",
    "        df_oof_preds=df_oof_preds, \n",
    "        persist_model=Config.PERSIST_MODEL, \n",
    "        output_path=DATA_WRITEPATH\n",
    ")"
   ]
  },
  {
   "cell_type": "code",
   "execution_count": 28,
   "id": "e658c869",
   "metadata": {
    "execution": {
     "iopub.execute_input": "2024-06-01T04:35:15.574734Z",
     "iopub.status.busy": "2024-06-01T04:35:15.574060Z",
     "iopub.status.idle": "2024-06-01T04:42:28.122250Z",
     "shell.execute_reply": "2024-06-01T04:42:28.121116Z"
    },
    "papermill": {
     "duration": 432.573699,
     "end_time": "2024-06-01T04:42:28.135459",
     "exception": false,
     "start_time": "2024-06-01T04:35:15.561760",
     "status": "completed"
    },
    "tags": []
   },
   "outputs": [
    {
     "name": "stdout",
     "output_type": "stream",
     "text": [
      "Completed prediction for 745305 test rows\n"
     ]
    }
   ],
   "source": [
    "# For each fold, get the test predictions using corresponding fold model\n",
    "df_fold_test_preds = tt.get_fold_test_preds(\n",
    "                        fold_metrics_model,\n",
    "                        df_test = df_test,\n",
    "                        feature_cols = feature_cols,\n",
    "                        num_folds = Config.NUM_FOLDS,\n",
    "                    )\n",
    "fold_metrics = [item[0] for item in fold_metrics_model]\n",
    "# Since for RMSLE metric lower is better, we take the inverse of fold metric value to get its weight    \n",
    "fold_weights = 1 / np.array(fold_metrics)\n",
    "# normalize the fold weights\n",
    "fold_weights = fold_weights / np.sum(fold_weights)\n",
    "# Combine fold predictions using simple averaging    \n",
    "df_fold_test_preds[\"test_preds\"] = tt.combine_fold_test_preds(df_fold_test_preds, fold_weights=None)\n",
    "print(f\"Completed prediction for {len(df_test)} test rows\")"
   ]
  },
  {
   "cell_type": "code",
   "execution_count": 29,
   "id": "4d820c09",
   "metadata": {
    "execution": {
     "iopub.execute_input": "2024-06-01T04:42:28.159447Z",
     "iopub.status.busy": "2024-06-01T04:42:28.159067Z",
     "iopub.status.idle": "2024-06-01T04:42:40.504730Z",
     "shell.execute_reply": "2024-06-01T04:42:40.503375Z"
    },
    "papermill": {
     "duration": 12.360734,
     "end_time": "2024-06-01T04:42:40.507427",
     "exception": false,
     "start_time": "2024-06-01T04:42:28.146693",
     "status": "completed"
    },
    "tags": []
   },
   "outputs": [
    {
     "data": {
      "text/html": [
       "<div>\n",
       "<style scoped>\n",
       "    .dataframe tbody tr th:only-of-type {\n",
       "        vertical-align: middle;\n",
       "    }\n",
       "\n",
       "    .dataframe tbody tr th {\n",
       "        vertical-align: top;\n",
       "    }\n",
       "\n",
       "    .dataframe thead th {\n",
       "        text-align: right;\n",
       "    }\n",
       "</style>\n",
       "<table border=\"1\" class=\"dataframe\">\n",
       "  <thead>\n",
       "    <tr style=\"text-align: right;\">\n",
       "      <th></th>\n",
       "      <th>id</th>\n",
       "      <th>FloodProbability</th>\n",
       "    </tr>\n",
       "  </thead>\n",
       "  <tbody>\n",
       "    <tr>\n",
       "      <th>0</th>\n",
       "      <td>1117957</td>\n",
       "      <td>0.578234</td>\n",
       "    </tr>\n",
       "    <tr>\n",
       "      <th>1</th>\n",
       "      <td>1117958</td>\n",
       "      <td>0.455703</td>\n",
       "    </tr>\n",
       "    <tr>\n",
       "      <th>2</th>\n",
       "      <td>1117959</td>\n",
       "      <td>0.448710</td>\n",
       "    </tr>\n",
       "    <tr>\n",
       "      <th>3</th>\n",
       "      <td>1117960</td>\n",
       "      <td>0.466399</td>\n",
       "    </tr>\n",
       "    <tr>\n",
       "      <th>4</th>\n",
       "      <td>1117961</td>\n",
       "      <td>0.466858</td>\n",
       "    </tr>\n",
       "  </tbody>\n",
       "</table>\n",
       "</div>"
      ],
      "text/plain": [
       "        id  FloodProbability\n",
       "0  1117957          0.578234\n",
       "1  1117958          0.455703\n",
       "2  1117959          0.448710\n",
       "3  1117960          0.466399\n",
       "4  1117961          0.466858"
      ]
     },
     "execution_count": 29,
     "metadata": {},
     "output_type": "execute_result"
    }
   ],
   "source": [
    "df_submission = pd.read_csv(SUBMISSION_FILEPATH + 'sample_submission.csv')\n",
    "df_submission[Config.TARGET_COL_NAME]= df_fold_test_preds[\"test_preds\"]\n",
    "df_submission.to_csv(DATA_WRITEPATH + f'submission_{Config.MODEL_TYPE}.csv',index=False)\n",
    "df_fold_test_preds.to_csv(DATA_WRITEPATH + f'{Config.MODEL_TYPE}_test_preds.csv',index=False)\n",
    "df_submission.head()"
   ]
  }
 ],
 "metadata": {
  "kaggle": {
   "accelerator": "gpu",
   "dataSources": [
    {
     "databundleVersionId": 8121328,
     "sourceId": 73278,
     "sourceType": "competition"
    },
    {
     "sourceId": 176206975,
     "sourceType": "kernelVersion"
    },
    {
     "sourceId": 177332409,
     "sourceType": "kernelVersion"
    },
    {
     "sourceId": 177547654,
     "sourceType": "kernelVersion"
    },
    {
     "sourceId": 180707896,
     "sourceType": "kernelVersion"
    }
   ],
   "dockerImageVersionId": 30698,
   "isGpuEnabled": true,
   "isInternetEnabled": true,
   "language": "python",
   "sourceType": "notebook"
  },
  "kernelspec": {
   "display_name": "Python 3",
   "language": "python",
   "name": "python3"
  },
  "language_info": {
   "codemirror_mode": {
    "name": "ipython",
    "version": 3
   },
   "file_extension": ".py",
   "mimetype": "text/x-python",
   "name": "python",
   "nbconvert_exporter": "python",
   "pygments_lexer": "ipython3",
   "version": "3.10.13"
  },
  "papermill": {
   "default_parameters": {},
   "duration": 1268.412268,
   "end_time": "2024-06-01T04:42:41.547900",
   "environment_variables": {},
   "exception": null,
   "input_path": "__notebook__.ipynb",
   "output_path": "__notebook__.ipynb",
   "parameters": {},
   "start_time": "2024-06-01T04:21:33.135632",
   "version": "2.5.0"
  }
 },
 "nbformat": 4,
 "nbformat_minor": 5
}
