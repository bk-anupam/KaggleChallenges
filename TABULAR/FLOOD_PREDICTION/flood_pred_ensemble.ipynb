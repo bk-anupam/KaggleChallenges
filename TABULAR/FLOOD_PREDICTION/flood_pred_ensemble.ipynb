{
 "cells": [
  {
   "cell_type": "code",
   "execution_count": 76,
   "metadata": {},
   "outputs": [],
   "source": [
    "import sys\n",
    "import os\n",
    "import numpy as np\n",
    "import pandas as pd\n",
    "import joblib\n",
    "from sklearn.metrics import r2_score\n",
    "from sklearn.linear_model import Ridge\n",
    "from scipy.optimize import minimize\n",
    "import warnings\n",
    "\n",
    "warnings.filterwarnings('ignore')\n"
   ]
  },
  {
   "cell_type": "code",
   "execution_count": 77,
   "metadata": {},
   "outputs": [],
   "source": [
    "sys.path.append(os.path.abspath(\"/home/bk_anupam/code/ML/ML_UTILS/\"))"
   ]
  },
  {
   "cell_type": "code",
   "execution_count": 78,
   "metadata": {},
   "outputs": [],
   "source": [
    "import train_tabular_utils as tt\n",
    "import cv_split_utils\n",
    "import enums\n",
    "import data_utils"
   ]
  },
  {
   "cell_type": "code",
   "execution_count": 79,
   "metadata": {},
   "outputs": [],
   "source": [
    "class Config:\n",
    "    RUN_MODE = \"LOCAL\"\n",
    "    RANDOM_SEED = 1\n",
    "    NUM_FOLDS = 5\n",
    "    MODEL_TYPE = enums.ModelName.L2_Ridge\n",
    "    TARGET_COL_NAME = \"FloodProbability\"            \n",
    "    METRIC = enums.Metrics.R2\n",
    "    TRAIN_SINGLE_FOLD = False        \n",
    "\n",
    "COLS_TO_LEAVE = [\"FloodProbability\", \"kfold\"]\n",
    "CPU_COUNT = os.cpu_count()\n",
    "\n",
    "DATA_READPATH = \"./data/\"\n",
    "DATA_WRITEPATH = \"./output/\"\n",
    "SUBMISSION_FILEPATH = DATA_READPATH\n",
    "if Config.RUN_MODE == \"KAGGLE\":\n",
    "    # If we are not generating features, we are using already generated features\n",
    "    if Config.GENERATE_AUTO_FEATURES:\n",
    "        DATA_READPATH = \"/kaggle/input/playground-series-s4e5/\"\n",
    "        SUBMISSION_FILEPATH = DATA_READPATH\n",
    "    else:\n",
    "        DATA_READPATH = \"/kaggle/input/playground-series-s4e5/\"\n",
    "        SUBMISSION_FILEPATH = \"/kaggle/input/playground-series-s4e5/\"\n",
    "    DATA_WRITEPATH = \"/kaggle/working/\""
   ]
  },
  {
   "cell_type": "code",
   "execution_count": 80,
   "metadata": {},
   "outputs": [],
   "source": [
    "models = [enums.ModelName.Ridge, enums.ModelName.CatBoost, enums.ModelName.XGBoost]\n",
    "oof_preds_cols = [f\"{item}_oof_preds\" for item in models]\n",
    "test_preds_cols = [f\"{item}_oof_preds\" for item in models]"
   ]
  },
  {
   "cell_type": "code",
   "execution_count": 81,
   "metadata": {},
   "outputs": [],
   "source": [
    "df_submission = pd.read_csv(DATA_READPATH + \"sample_submission.csv\")\n",
    "df_oof_preds = pd.DataFrame()\n",
    "df_test_preds = pd.DataFrame()\n",
    "# load the OOF csv for each model\n",
    "for model in models:\n",
    "    df_model_oof = pd.read_csv(f\"{DATA_WRITEPATH}df_val_preds_{model}.csv\")\n",
    "    df_model_test_preds = pd.read_csv(f\"{DATA_WRITEPATH}submission_{model}.csv\")\n",
    "    df_oof_preds[f\"{model}_oof_preds\"] = df_model_oof[\"oof_preds\"]\n",
    "    df_test_preds[f\"{model}_oof_preds\"] = df_model_test_preds[Config.TARGET_COL_NAME]\n",
    "    df_oof_preds[f\"{model}_target\"] = df_model_oof[Config.TARGET_COL_NAME]"
   ]
  },
  {
   "cell_type": "code",
   "execution_count": 82,
   "metadata": {},
   "outputs": [
    {
     "data": {
      "text/html": [
       "<div>\n",
       "<style scoped>\n",
       "    .dataframe tbody tr th:only-of-type {\n",
       "        vertical-align: middle;\n",
       "    }\n",
       "\n",
       "    .dataframe tbody tr th {\n",
       "        vertical-align: top;\n",
       "    }\n",
       "\n",
       "    .dataframe thead th {\n",
       "        text-align: right;\n",
       "    }\n",
       "</style>\n",
       "<table border=\"1\" class=\"dataframe\">\n",
       "  <thead>\n",
       "    <tr style=\"text-align: right;\">\n",
       "      <th></th>\n",
       "      <th>Ridge_oof_preds</th>\n",
       "      <th>Ridge_target</th>\n",
       "      <th>CatBoost_oof_preds</th>\n",
       "      <th>CatBoost_target</th>\n",
       "      <th>XGBoost_oof_preds</th>\n",
       "      <th>XGBoost_target</th>\n",
       "    </tr>\n",
       "  </thead>\n",
       "  <tbody>\n",
       "    <tr>\n",
       "      <th>0</th>\n",
       "      <td>0.537162</td>\n",
       "      <td>0.560</td>\n",
       "      <td>0.537745</td>\n",
       "      <td>0.560</td>\n",
       "      <td>0.536691</td>\n",
       "      <td>0.560</td>\n",
       "    </tr>\n",
       "    <tr>\n",
       "      <th>1</th>\n",
       "      <td>0.543132</td>\n",
       "      <td>0.530</td>\n",
       "      <td>0.543095</td>\n",
       "      <td>0.530</td>\n",
       "      <td>0.543138</td>\n",
       "      <td>0.530</td>\n",
       "    </tr>\n",
       "    <tr>\n",
       "      <th>2</th>\n",
       "      <td>0.393806</td>\n",
       "      <td>0.395</td>\n",
       "      <td>0.392896</td>\n",
       "      <td>0.395</td>\n",
       "      <td>0.394089</td>\n",
       "      <td>0.395</td>\n",
       "    </tr>\n",
       "    <tr>\n",
       "      <th>3</th>\n",
       "      <td>0.472214</td>\n",
       "      <td>0.460</td>\n",
       "      <td>0.473575</td>\n",
       "      <td>0.460</td>\n",
       "      <td>0.472767</td>\n",
       "      <td>0.460</td>\n",
       "    </tr>\n",
       "    <tr>\n",
       "      <th>4</th>\n",
       "      <td>0.484581</td>\n",
       "      <td>0.480</td>\n",
       "      <td>0.485064</td>\n",
       "      <td>0.480</td>\n",
       "      <td>0.484881</td>\n",
       "      <td>0.480</td>\n",
       "    </tr>\n",
       "  </tbody>\n",
       "</table>\n",
       "</div>"
      ],
      "text/plain": [
       "   Ridge_oof_preds  Ridge_target  CatBoost_oof_preds  CatBoost_target  \\\n",
       "0         0.537162         0.560            0.537745            0.560   \n",
       "1         0.543132         0.530            0.543095            0.530   \n",
       "2         0.393806         0.395            0.392896            0.395   \n",
       "3         0.472214         0.460            0.473575            0.460   \n",
       "4         0.484581         0.480            0.485064            0.480   \n",
       "\n",
       "   XGBoost_oof_preds  XGBoost_target  \n",
       "0           0.536691           0.560  \n",
       "1           0.543138           0.530  \n",
       "2           0.394089           0.395  \n",
       "3           0.472767           0.460  \n",
       "4           0.484881           0.480  "
      ]
     },
     "execution_count": 82,
     "metadata": {},
     "output_type": "execute_result"
    }
   ],
   "source": [
    "df_oof_preds.head()"
   ]
  },
  {
   "cell_type": "code",
   "execution_count": 83,
   "metadata": {},
   "outputs": [
    {
     "data": {
      "text/html": [
       "<div>\n",
       "<style scoped>\n",
       "    .dataframe tbody tr th:only-of-type {\n",
       "        vertical-align: middle;\n",
       "    }\n",
       "\n",
       "    .dataframe tbody tr th {\n",
       "        vertical-align: top;\n",
       "    }\n",
       "\n",
       "    .dataframe thead th {\n",
       "        text-align: right;\n",
       "    }\n",
       "</style>\n",
       "<table border=\"1\" class=\"dataframe\">\n",
       "  <thead>\n",
       "    <tr style=\"text-align: right;\">\n",
       "      <th></th>\n",
       "      <th>Ridge_oof_preds</th>\n",
       "      <th>CatBoost_oof_preds</th>\n",
       "      <th>XGBoost_oof_preds</th>\n",
       "    </tr>\n",
       "  </thead>\n",
       "  <tbody>\n",
       "    <tr>\n",
       "      <th>0</th>\n",
       "      <td>0.577683</td>\n",
       "      <td>0.578234</td>\n",
       "      <td>0.573975</td>\n",
       "    </tr>\n",
       "    <tr>\n",
       "      <th>1</th>\n",
       "      <td>0.451413</td>\n",
       "      <td>0.455703</td>\n",
       "      <td>0.447683</td>\n",
       "    </tr>\n",
       "    <tr>\n",
       "      <th>2</th>\n",
       "      <td>0.451772</td>\n",
       "      <td>0.448710</td>\n",
       "      <td>0.443614</td>\n",
       "    </tr>\n",
       "    <tr>\n",
       "      <th>3</th>\n",
       "      <td>0.472086</td>\n",
       "      <td>0.466399</td>\n",
       "      <td>0.464954</td>\n",
       "    </tr>\n",
       "    <tr>\n",
       "      <th>4</th>\n",
       "      <td>0.472726</td>\n",
       "      <td>0.466858</td>\n",
       "      <td>0.464387</td>\n",
       "    </tr>\n",
       "    <tr>\n",
       "      <th>...</th>\n",
       "      <td>...</td>\n",
       "      <td>...</td>\n",
       "      <td>...</td>\n",
       "    </tr>\n",
       "    <tr>\n",
       "      <th>745300</th>\n",
       "      <td>0.474074</td>\n",
       "      <td>0.475750</td>\n",
       "      <td>0.466987</td>\n",
       "    </tr>\n",
       "    <tr>\n",
       "      <th>745301</th>\n",
       "      <td>0.440276</td>\n",
       "      <td>0.442807</td>\n",
       "      <td>0.435625</td>\n",
       "    </tr>\n",
       "    <tr>\n",
       "      <th>745302</th>\n",
       "      <td>0.619215</td>\n",
       "      <td>0.620232</td>\n",
       "      <td>0.615077</td>\n",
       "    </tr>\n",
       "    <tr>\n",
       "      <th>745303</th>\n",
       "      <td>0.548691</td>\n",
       "      <td>0.549319</td>\n",
       "      <td>0.546552</td>\n",
       "    </tr>\n",
       "    <tr>\n",
       "      <th>745304</th>\n",
       "      <td>0.527085</td>\n",
       "      <td>0.529658</td>\n",
       "      <td>0.526294</td>\n",
       "    </tr>\n",
       "  </tbody>\n",
       "</table>\n",
       "<p>745305 rows × 3 columns</p>\n",
       "</div>"
      ],
      "text/plain": [
       "        Ridge_oof_preds  CatBoost_oof_preds  XGBoost_oof_preds\n",
       "0              0.577683            0.578234           0.573975\n",
       "1              0.451413            0.455703           0.447683\n",
       "2              0.451772            0.448710           0.443614\n",
       "3              0.472086            0.466399           0.464954\n",
       "4              0.472726            0.466858           0.464387\n",
       "...                 ...                 ...                ...\n",
       "745300         0.474074            0.475750           0.466987\n",
       "745301         0.440276            0.442807           0.435625\n",
       "745302         0.619215            0.620232           0.615077\n",
       "745303         0.548691            0.549319           0.546552\n",
       "745304         0.527085            0.529658           0.526294\n",
       "\n",
       "[745305 rows x 3 columns]"
      ]
     },
     "execution_count": 83,
     "metadata": {},
     "output_type": "execute_result"
    }
   ],
   "source": [
    "df_test_preds"
   ]
  },
  {
   "cell_type": "code",
   "execution_count": 84,
   "metadata": {},
   "outputs": [],
   "source": [
    "def r2_func(weights, oof_preds, target):\n",
    "    preds = np.average(oof_preds, axis=1, weights=weights)\n",
    "    return -1 * r2_score(target, preds)"
   ]
  },
  {
   "cell_type": "markdown",
   "metadata": {},
   "source": [
    "Get model weights using Nelder-Mead"
   ]
  },
  {
   "cell_type": "code",
   "execution_count": 85,
   "metadata": {},
   "outputs": [
    {
     "name": "stdout",
     "output_type": "stream",
     "text": [
      "Optimal Model Weights: [-0.03852327  1.27399311 -0.23546984]\n",
      "Optimal R2: -0.8693880939290987\n"
     ]
    }
   ],
   "source": [
    "target = df_oof_preds[\"CatBoost_target\"]\n",
    "# Start by giving equal weight to each model ( = 1 / n_models). Sum of weights is 1.\n",
    "initial_weights = np.ones(len(models)) / len(models)\n",
    "# We want to find the set of weights that minimizes the RMSE. We start with the initial weights.\n",
    "res = minimize(r2_func, initial_weights, args=(df_oof_preds[oof_preds_cols].to_numpy(),target), method='Nelder-Mead')\n",
    "model_weights = res[\"x\"]\n",
    "r2 = res[\"fun\"]\n",
    "model_weights_normalized = model_weights / np.sum(model_weights)\n",
    "print(\"Optimal Model Weights:\", model_weights_normalized)\n",
    "print(\"Optimal R2:\", r2)"
   ]
  },
  {
   "cell_type": "code",
   "execution_count": 86,
   "metadata": {},
   "outputs": [],
   "source": [
    "# # Combine the test predictions of models using the optimal weights\n",
    "# df_submission[Config.TARGET_COL_NAME] = np.average(df_test_preds.to_numpy(), axis=1, weights=model_weights_normalized)\n",
    "# df_submission.to_csv(f\"{DATA_WRITEPATH}submission_ensemble.csv\", index=False)\n",
    "# df_submission"
   ]
  },
  {
   "cell_type": "markdown",
   "metadata": {},
   "source": [
    "Using base models predictions fit a L2 Ridge model"
   ]
  },
  {
   "cell_type": "code",
   "execution_count": 87,
   "metadata": {},
   "outputs": [],
   "source": [
    "df_oof_preds = cv_split_utils.kfold_dataframe(df_oof_preds, random_state=Config.RANDOM_SEED, num_folds=Config.NUM_FOLDS)"
   ]
  },
  {
   "cell_type": "code",
   "execution_count": 88,
   "metadata": {},
   "outputs": [],
   "source": [
    "fold_metrics_model, df_oof_preds_l2, preprocessor = tt.train_and_validate(\n",
    "        model_name=Config.MODEL_TYPE,\n",
    "        model_params=None,\n",
    "        preprocessor=None,\n",
    "        df=df_oof_preds,\n",
    "        feature_cols=oof_preds_cols,\n",
    "        target_col_name=\"Ridge_target\",\n",
    "        metric=Config.METRIC,\n",
    "        single_fold=Config.TRAIN_SINGLE_FOLD,\n",
    "        num_folds=Config.NUM_FOLDS\n",
    ")"
   ]
  },
  {
   "cell_type": "code",
   "execution_count": 89,
   "metadata": {},
   "outputs": [
    {
     "name": "stdout",
     "output_type": "stream",
     "text": [
      "Fold 0 - L2_Ridge - R2 : 0.8684433586911444\n",
      "Fold 1 - L2_Ridge - R2 : 0.8697184632735179\n",
      "Fold 2 - L2_Ridge - R2 : 0.869158797897054\n",
      "Fold 3 - L2_Ridge - R2 : 0.8693631700760908\n",
      "Fold 4 - L2_Ridge - R2 : 0.8696437694961201\n",
      "L2_Ridge metric=R2 CV score = 0.8692665112963635\n",
      "L2_Ridge Mean R2 = 0.8692655118867855, std = 0.0004571880690499159\n"
     ]
    }
   ],
   "source": [
    "tt.get_cv_score(\n",
    "        fold_metrics_model, \n",
    "        model_name=Config.MODEL_TYPE, \n",
    "        metric=Config.METRIC, \n",
    "        df_oof_preds=df_oof_preds_l2, \n",
    "        target_col_name=\"Ridge_target\"\n",
    ")"
   ]
  },
  {
   "cell_type": "code",
   "execution_count": 90,
   "metadata": {},
   "outputs": [
    {
     "data": {
      "text/plain": [
       "['Ridge_oof_preds', 'CatBoost_oof_preds', 'XGBoost_oof_preds']"
      ]
     },
     "execution_count": 90,
     "metadata": {},
     "output_type": "execute_result"
    }
   ],
   "source": [
    "test_preds_cols"
   ]
  },
  {
   "cell_type": "code",
   "execution_count": 91,
   "metadata": {},
   "outputs": [],
   "source": [
    "df_fold_test_preds = tt.get_test_preds(fold_metrics_model, df_test_preds, test_preds_cols, preprocessor=None, num_folds=Config.NUM_FOLDS)"
   ]
  },
  {
   "cell_type": "code",
   "execution_count": 92,
   "metadata": {},
   "outputs": [
    {
     "data": {
      "text/html": [
       "<div>\n",
       "<style scoped>\n",
       "    .dataframe tbody tr th:only-of-type {\n",
       "        vertical-align: middle;\n",
       "    }\n",
       "\n",
       "    .dataframe tbody tr th {\n",
       "        vertical-align: top;\n",
       "    }\n",
       "\n",
       "    .dataframe thead th {\n",
       "        text-align: right;\n",
       "    }\n",
       "</style>\n",
       "<table border=\"1\" class=\"dataframe\">\n",
       "  <thead>\n",
       "    <tr style=\"text-align: right;\">\n",
       "      <th></th>\n",
       "      <th>id</th>\n",
       "      <th>FloodProbability</th>\n",
       "    </tr>\n",
       "  </thead>\n",
       "  <tbody>\n",
       "    <tr>\n",
       "      <th>0</th>\n",
       "      <td>1117957</td>\n",
       "      <td>0.577375</td>\n",
       "    </tr>\n",
       "    <tr>\n",
       "      <th>1</th>\n",
       "      <td>1117958</td>\n",
       "      <td>0.453923</td>\n",
       "    </tr>\n",
       "    <tr>\n",
       "      <th>2</th>\n",
       "      <td>1117959</td>\n",
       "      <td>0.447475</td>\n",
       "    </tr>\n",
       "    <tr>\n",
       "      <th>3</th>\n",
       "      <td>1117960</td>\n",
       "      <td>0.465960</td>\n",
       "    </tr>\n",
       "    <tr>\n",
       "      <th>4</th>\n",
       "      <td>1117961</td>\n",
       "      <td>0.466189</td>\n",
       "    </tr>\n",
       "  </tbody>\n",
       "</table>\n",
       "</div>"
      ],
      "text/plain": [
       "        id  FloodProbability\n",
       "0  1117957          0.577375\n",
       "1  1117958          0.453923\n",
       "2  1117959          0.447475\n",
       "3  1117960          0.465960\n",
       "4  1117961          0.466189"
      ]
     },
     "execution_count": 92,
     "metadata": {},
     "output_type": "execute_result"
    }
   ],
   "source": [
    "df_submission[Config.TARGET_COL_NAME]= df_fold_test_preds[\"test_preds\"]\n",
    "df_submission.to_csv(DATA_WRITEPATH + f'submission_{Config.MODEL_TYPE}.csv',index=False)\n",
    "df_fold_test_preds.to_csv(DATA_WRITEPATH + f'{Config.MODEL_TYPE}_test_preds.csv',index=False)\n",
    "df_submission.head()"
   ]
  },
  {
   "cell_type": "code",
   "execution_count": 97,
   "metadata": {},
   "outputs": [
    {
     "data": {
      "text/plain": [
       "array([-0.01234562,  0.79232395,  0.22114483])"
      ]
     },
     "execution_count": 97,
     "metadata": {},
     "output_type": "execute_result"
    }
   ],
   "source": [
    "fold_metrics_model[3][1].coef_"
   ]
  },
  {
   "cell_type": "code",
   "execution_count": 93,
   "metadata": {},
   "outputs": [],
   "source": [
    "# # Combine the test predictions of models using the optimal weights\n",
    "# df_submission[Config.TARGET_COL_NAME] = np.average(df_test_preds.to_numpy(), axis=1, weights=initial_weights)\n",
    "# df_submission.to_csv(f\"{DATA_WRITEPATH}submission_ensemble.csv\", index=False)\n",
    "# df_submission"
   ]
  }
 ],
 "metadata": {
  "kernelspec": {
   "display_name": "fastai",
   "language": "python",
   "name": "python3"
  },
  "language_info": {
   "codemirror_mode": {
    "name": "ipython",
    "version": 3
   },
   "file_extension": ".py",
   "mimetype": "text/x-python",
   "name": "python",
   "nbconvert_exporter": "python",
   "pygments_lexer": "ipython3",
   "version": "3.9.7"
  }
 },
 "nbformat": 4,
 "nbformat_minor": 2
}
