{
 "cells": [
  {
   "cell_type": "code",
   "execution_count": 2,
   "metadata": {},
   "outputs": [
    {
     "name": "stderr",
     "output_type": "stream",
     "text": [
      "/home/bk_anupam/anaconda3/envs/fastai/lib/python3.9/site-packages/pandas/core/computation/expressions.py:21: UserWarning: Pandas requires version '2.8.4' or newer of 'numexpr' (version '2.7.3' currently installed).\n",
      "  from pandas.core.computation.check import NUMEXPR_INSTALLED\n",
      "/home/bk_anupam/anaconda3/envs/fastai/lib/python3.9/site-packages/pandas/core/arrays/masked.py:60: UserWarning: Pandas requires version '1.3.6' or newer of 'bottleneck' (version '1.3.2' currently installed).\n",
      "  from pandas.core import (\n"
     ]
    }
   ],
   "source": [
    "import numpy as np\n",
    "import pandas as pd\n",
    "import matplotlib.pyplot as plt\n",
    "import seaborn as sns"
   ]
  },
  {
   "cell_type": "code",
   "execution_count": 5,
   "metadata": {},
   "outputs": [
    {
     "data": {
      "text/plain": [
       "array([0.19861954, 0.19991875, 0.20056797, 0.19748959, 0.20340415])"
      ]
     },
     "execution_count": 5,
     "metadata": {},
     "output_type": "execute_result"
    }
   ],
   "source": [
    "# import pandas as pd\n",
    "# import numpy as np\n",
    "\n",
    "# # Assume df is your DataFrame containing the abalone dataset\n",
    "# df['Length_to_Diameter'] = df['Length'] / df['Diameter']\n",
    "# df['Height_to_Length'] = df['Height'] / df['Length']\n",
    "# df['Shucked_to_Whole_Weight'] = df['Shucked_weight'] / df['Whole_weight']\n",
    "# df['Viscera_to_Whole_Weight'] = df['Viscera_weight'] / df['Whole_weight']\n",
    "# df['Shell_to_Whole_Weight'] = df['Shell_weight'] / df['Whole_weight']\n",
    "\n",
    "# df['Whole_minus_Shucked'] = df['Whole_weight'] - df['Shucked_weight']\n",
    "# df['Whole_minus_Viscera'] = df['Whole_weight'] - df['Viscera_weight']\n",
    "# df['Whole_minus_Shell'] = df['Whole_weight'] - df['Shell_weight']\n",
    "\n",
    "# df['Total_Soft_Body_Weight'] = df['Shucked_weight'] + df['Viscera_weight']\n",
    "# df['Volume_Approx'] = df['Length'] * df['Diameter'] * df['Height']\n",
    "\n",
    "# df['Log_Whole_weight'] = np.log(df['Whole_weight'] + 1)\n",
    "# df['Log_Shucked_weight'] = np.log(df['Shucked_weight'] + 1)\n",
    "# df['Log_Viscera_weight'] = np.log(df['Viscera_weight'] + 1)\n",
    "# df['Log_Shell_weight'] = np.log(df['Shell_weight'] + 1)\n",
    "\n",
    "# df['Length_Diameter_Interaction'] = df['Length'] * df['Diameter']\n",
    "# df['Height_Length_Interaction'] = df['Height'] * df['Length']\n",
    "# df['Weight_Interaction'] = df['Whole_weight'] * df['Shucked_weight']\n"
   ]
  }
 ],
 "metadata": {
  "kernelspec": {
   "display_name": "fastai",
   "language": "python",
   "name": "python3"
  },
  "language_info": {
   "codemirror_mode": {
    "name": "ipython",
    "version": 3
   },
   "file_extension": ".py",
   "mimetype": "text/x-python",
   "name": "python",
   "nbconvert_exporter": "python",
   "pygments_lexer": "ipython3",
   "version": "3.9.7"
  }
 },
 "nbformat": 4,
 "nbformat_minor": 2
}
